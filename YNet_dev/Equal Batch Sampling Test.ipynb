{
 "cells": [
  {
   "cell_type": "code",
   "execution_count": 21,
   "metadata": {},
   "outputs": [],
   "source": [
    "%matplotlib inline\n",
    "%reload_ext autoreload\n",
    "%autoreload 2"
   ]
  },
  {
   "cell_type": "code",
   "execution_count": 22,
   "metadata": {},
   "outputs": [],
   "source": [
    "import os\n",
    "from pathlib import Path\n",
    "import skimage.external.tifffile as tiff\n",
    "\n",
    "from common import Statistics, dataset_source\n",
    "from resources.conv_learner import *\n",
    "from resources.plots import *\n",
    "\n",
    "np.set_printoptions(precision=2)"
   ]
  },
  {
   "cell_type": "code",
   "execution_count": 23,
   "metadata": {},
   "outputs": [],
   "source": [
    "PATH = \"../datasets/yeast_v4\"\n",
    "data_path = Path(PATH)"
   ]
  },
  {
   "cell_type": "code",
   "execution_count": 24,
   "metadata": {},
   "outputs": [],
   "source": [
    "CLASSES = ('WT', 'mfb1KO', 'mfb1KO_mmr1KO', 'mmr1KO')\n",
    "NUM_CLASSES = len(CLASSES)\n",
    "BATCH_SIZE = 64\n",
    "SIZE = 200"
   ]
  },
  {
   "cell_type": "code",
   "execution_count": 25,
   "metadata": {},
   "outputs": [
    {
     "name": "stdout",
     "output_type": "stream",
     "text": [
      "8\n",
      "working on a dataset with length: 714\n"
     ]
    }
   ],
   "source": [
    "test_dirs, train_dirs = dataset_source(data_path)\n",
    "stats_tuple = Statistics.per_dataset(test_dirs, train_dirs)"
   ]
  },
  {
   "cell_type": "code",
   "execution_count": 33,
   "metadata": {
    "scrolled": false
   },
   "outputs": [
    {
     "name": "stdout",
     "output_type": "stream",
     "text": [
      "\n",
      " class to index mapping:\n",
      " {'WT': 0, 'mfb1KO': 1, 'mfb1KO_mmr1KO': 2, 'mmr1KO': 3}\n",
      "using <class 'torch.utils.data.sampler.WeightedRandomSampler'> sampler\n",
      "using <class 'torch.utils.data.sampler.SequentialSampler'> sampler\n",
      "using <class 'torch.utils.data.sampler.SequentialSampler'> sampler\n",
      "using <class 'torch.utils.data.sampler.SequentialSampler'> sampler\n"
     ]
    }
   ],
   "source": [
    "def get_data(path: str, sz, bs, stats):\n",
    "    create, lbl2index = ImageClassifierData.prepare_from_path(path, val_name='test', bs=bs, balance=True)\n",
    "    tfms = tfms_from_stats(stats, sz, aug_tfms=[RandomDihedral()], pad=sz//8) #even without transformations and padding -> failure\n",
    "    print('\\n class to index mapping:\\n',lbl2index)\n",
    "    return create(tfms)\n",
    "balanced = get_data(PATH,SIZE, BATCH_SIZE,stats_tuple)"
   ]
  },
  {
   "cell_type": "code",
   "execution_count": 34,
   "metadata": {},
   "outputs": [
    {
     "name": "stdout",
     "output_type": "stream",
     "text": [
      "5.64951864653087\n"
     ]
    }
   ],
   "source": [
    "ps = []\n",
    "for _ in range(20): # simulation of 50 epochs\n",
    "    for batch, y in balanced.trn_dl:\n",
    "        ys = y.numpy().copy()\n",
    "        counts = np.bincount(ys)\n",
    "        percentages = [int(100* count / sum(counts)) for count in counts]\n",
    "        ps.extend(percentages)\n",
    "        \n",
    "print(np.std(ps))"
   ]
  },
  {
   "cell_type": "code",
   "execution_count": 30,
   "metadata": {},
   "outputs": [
    {
     "name": "stdout",
     "output_type": "stream",
     "text": [
      "\n",
      " class to index mapping:\n",
      " {'WT': 0, 'mfb1KO': 1, 'mfb1KO_mmr1KO': 2, 'mmr1KO': 3}\n"
     ]
    }
   ],
   "source": [
    "def get_data(path: str, sz, bs, stats):\n",
    "    create, lbl2index = ImageClassifierData.prepare_from_path(path, val_name='test', bs=bs)\n",
    "    tfms = tfms_from_stats(stats, sz, aug_tfms=[RandomDihedral()], pad=sz//8) #even without transformations and padding -> failure\n",
    "    print('\\n class to index mapping:\\n',lbl2index)\n",
    "    return create(tfms)\n",
    "unbalanced = get_data(PATH,SIZE, BATCH_SIZE,stats_tuple)"
   ]
  },
  {
   "cell_type": "code",
   "execution_count": 32,
   "metadata": {},
   "outputs": [
    {
     "name": "stdout",
     "output_type": "stream",
     "text": [
      "9.368647097500256\n"
     ]
    }
   ],
   "source": [
    "ps = []\n",
    "for _ in range(20):\n",
    "    for batch, y in unbalanced.trn_dl:\n",
    "        ys = y.numpy().copy()\n",
    "        counts = np.bincount(ys)\n",
    "        percentages = [int(100* count / sum(counts)) for count in counts]\n",
    "        ps.extend(percentages)\n",
    "        \n",
    "print(np.std(ps))"
   ]
  },
  {
   "cell_type": "code",
   "execution_count": null,
   "metadata": {},
   "outputs": [],
   "source": []
  }
 ],
 "metadata": {
  "kernelspec": {
   "display_name": "Python 3",
   "language": "python",
   "name": "python3"
  },
  "language_info": {
   "codemirror_mode": {
    "name": "ipython",
    "version": 3
   },
   "file_extension": ".py",
   "mimetype": "text/x-python",
   "name": "python",
   "nbconvert_exporter": "python",
   "pygments_lexer": "ipython3",
   "version": "3.6.5"
  }
 },
 "nbformat": 4,
 "nbformat_minor": 2
}
