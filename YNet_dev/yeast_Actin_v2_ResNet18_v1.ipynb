{
 "cells": [
  {
   "cell_type": "markdown",
   "metadata": {},
   "source": [
    "### Importing utilities:"
   ]
  },
  {
   "cell_type": "code",
   "execution_count": 1,
   "metadata": {
    "scrolled": true
   },
   "outputs": [],
   "source": [
    "# %matplotlib inline\n",
    "%reload_ext autoreload\n",
    "%autoreload 2"
   ]
  },
  {
   "cell_type": "code",
   "execution_count": 2,
   "metadata": {},
   "outputs": [],
   "source": [
    "import os\n",
    "from pathlib import Path\n",
    "import skimage.external.tifffile as tiff\n",
    "\n",
    "from common import Statistics, dataset_source\n",
    "from resources.conv_learner import *\n",
    "from resources.plots import *\n",
    "from pprint import pprint\n",
    "import matplotlib.pyplot as plt\n",
    "%matplotlib inline"
   ]
  },
  {
   "cell_type": "markdown",
   "metadata": {},
   "source": [
    "#### Setting up variables"
   ]
  },
  {
   "cell_type": "code",
   "execution_count": 3,
   "metadata": {},
   "outputs": [],
   "source": [
    "PATH = \"datasets/HPA_challenge_2018/YNet_data_aws/yeast_Actin_v2/\"\n",
    "data_path = Path(PATH)"
   ]
  },
  {
   "cell_type": "code",
   "execution_count": 4,
   "metadata": {},
   "outputs": [
    {
     "name": "stdout",
     "output_type": "stream",
     "text": [
      "01_WT  02_WT  03_CK666\t03_LatA-5uM  03_WT  03_axl1KO  03_bud1KO  04_WT\r\n"
     ]
    }
   ],
   "source": [
    "!ls datasets/HPA_challenge_2018/YNet_data_aws/yeast_Actin_v2/val"
   ]
  },
  {
   "cell_type": "code",
   "execution_count": 5,
   "metadata": {},
   "outputs": [],
   "source": [
    "# CLASSES = ('WT', 'mfb1KO', 'mmr1KO', 'dnm1KO', 'fzo1KO', 'num1KO', 'mmm1KO', 'LatA5uM', 'CK666')\n",
    "# NUM_CLASSES = len(CLASSES)\n",
    "BATCH_SIZE = 64\n",
    "SIZE = [2,224,224]"
   ]
  },
  {
   "cell_type": "markdown",
   "metadata": {},
   "source": [
    "#### Calculating normalization statistics\n",
    "\n",
    "Note that we are setting up train & val data, as well as test. Within test, we are here including a mutant cell type that the model never trains on. The idea is to use to the feature space developed during training to evaluate novel cell types by similarity to the landmarks that the model was trained on. "
   ]
  },
  {
   "cell_type": "markdown",
   "metadata": {},
   "source": [
    "## Defining datasets:"
   ]
  },
  {
   "cell_type": "code",
   "execution_count": 6,
   "metadata": {},
   "outputs": [],
   "source": [
    "def tfms_for_test(sz):\n",
    "    test_norm = Normalize(stats=None, IntNorm=True)\n",
    "    test_denorm = None\n",
    "    val_crop = CropType.NO\n",
    "    test_tfms = image_gen(test_norm, test_denorm,sz, crop_type=val_crop)\n",
    "    return test_tfms"
   ]
  },
  {
   "cell_type": "code",
   "execution_count": 7,
   "metadata": {},
   "outputs": [],
   "source": [
    "def get_data(path: str, sz, bs): # , num_workers=1\n",
    "    create, lbl2index, lbl2index_test = ImageClassifierData.prepare_from_path(path, val_name='val', bs=bs, num_workers = 8,\n",
    "                                                                             test_name='test', test_with_labels=True,\n",
    "                                                                             balance=True)\n",
    "    augs = [RandomDihedral(),\n",
    "            RandomRotate(90),\n",
    "           ]\n",
    "    \n",
    "    tfms = tfms_with_IntNorm(sz, aug_tfms=augs, crop_type=CropType.CENTER, pad=sz[1]//8)\n",
    "    test_tfms = tfms_for_test(sz)\n",
    "    tfms += (test_tfms, )\n",
    "    \n",
    "    return create(tfms), lbl2index, lbl2index_test"
   ]
  },
  {
   "cell_type": "code",
   "execution_count": 8,
   "metadata": {
    "scrolled": false
   },
   "outputs": [
    {
     "name": "stdout",
     "output_type": "stream",
     "text": [
      "Internal Normalization\n",
      "val_crop is: 2\n",
      "Internal Normalization\n",
      "Using WeightedRandomSampler\n"
     ]
    }
   ],
   "source": [
    "data, lbl2idx, lbl2idx_test = get_data(PATH,SIZE,BATCH_SIZE)"
   ]
  },
  {
   "cell_type": "code",
   "execution_count": 9,
   "metadata": {},
   "outputs": [
    {
     "data": {
      "text/plain": [
       "['WT', 'CK666', 'LatA-5uM', 'axl1KO', 'bud1KO']"
      ]
     },
     "execution_count": 9,
     "metadata": {},
     "output_type": "execute_result"
    }
   ],
   "source": [
    "data.classes"
   ]
  },
  {
   "cell_type": "code",
   "execution_count": 11,
   "metadata": {},
   "outputs": [
    {
     "data": {
      "text/plain": [
       "{'01_WT': [0, 0, 'WT'],\n",
       " '02_WT': [1, 0, 'WT'],\n",
       " '03_CK666': [2, 1, 'CK666'],\n",
       " '03_LatA-5uM': [3, 2, 'LatA-5uM'],\n",
       " '03_WT': [4, 0, 'WT'],\n",
       " '03_axl1KO': [5, 3, 'axl1KO'],\n",
       " '03_bud1KO': [6, 4, 'bud1KO'],\n",
       " '04_WT': [7, 0, 'WT']}"
      ]
     },
     "execution_count": 11,
     "metadata": {},
     "output_type": "execute_result"
    }
   ],
   "source": [
    "lbl2idx"
   ]
  },
  {
   "cell_type": "code",
   "execution_count": null,
   "metadata": {},
   "outputs": [],
   "source": [
    "x , y = next(iter(data.trn_dl))"
   ]
  },
  {
   "cell_type": "code",
   "execution_count": null,
   "metadata": {},
   "outputs": [],
   "source": [
    "print(data.test_aug_dl.dataset.transform.tfms)"
   ]
  },
  {
   "cell_type": "markdown",
   "metadata": {},
   "source": [
    "### Inspect loaded data:\n",
    "\n",
    "Displaying the same image with and without normalization."
   ]
  },
  {
   "cell_type": "code",
   "execution_count": null,
   "metadata": {},
   "outputs": [],
   "source": [
    "# print transformations\n",
    "plt.style.use('seaborn-white')\n",
    "\n",
    "c = 0\n",
    "idx = 0\n",
    "fig, ax = plt.subplots(2,4, figsize=(16,10))\n",
    "for i, ax in enumerate(ax.flat):\n",
    "    x, y = next(iter(data.aug_dl))\n",
    "    im = to_np(x)[idx]\n",
    "    ax.imshow(np.sum(im, axis = 0))\n",
    "#     ax.imshow(im[c])"
   ]
  },
  {
   "cell_type": "code",
   "execution_count": null,
   "metadata": {},
   "outputs": [],
   "source": [
    "# print transformations\n",
    "plt.style.use('seaborn-white')\n",
    "\n",
    "c = 1\n",
    "idx = 0\n",
    "fig, ax = plt.subplots(2,4, figsize=(16,10))\n",
    "for i, ax in enumerate(ax.flat):\n",
    "    x, y = next(iter(data.aug_dl))\n",
    "    im = to_np(x)[idx]\n",
    "#     ax.imshow(np.sum(im, axis = 0))\n",
    "    ax.imshow(im[c])"
   ]
  },
  {
   "cell_type": "code",
   "execution_count": null,
   "metadata": {},
   "outputs": [],
   "source": [
    "def load_epoch(dl = data.trn_dl):\n",
    "    \n",
    "    batch = iter(dl)\n",
    "\n",
    "    xs = []\n",
    "    ys = []\n",
    "\n",
    "    for b in range(0,len(dl)):\n",
    "        x_, y_ = next(batch)\n",
    "        x_np, y_np = to_np(x_), to_np(y_)\n",
    "        xs.append(x_np)\n",
    "        ys.append(y_np)\n",
    "\n",
    "    return np.vstack(xs), np.concatenate(ys)"
   ]
  },
  {
   "cell_type": "code",
   "execution_count": null,
   "metadata": {
    "scrolled": true
   },
   "outputs": [],
   "source": [
    "xs, ys =  load_epoch()"
   ]
  },
  {
   "cell_type": "code",
   "execution_count": null,
   "metadata": {},
   "outputs": [],
   "source": [
    "import seaborn as sns"
   ]
  },
  {
   "cell_type": "code",
   "execution_count": null,
   "metadata": {
    "scrolled": false
   },
   "outputs": [],
   "source": [
    "fig, axarr = plt.subplots(1, 2, figsize=(14, 8))\n",
    "\n",
    "for i in [2,3]:\n",
    "    \n",
    "    xs_clss = xs[ys == i] \n",
    "    xs_sub = xs_clss[:100,...]\n",
    "    xs_sub = xs_sub.reshape(-1,2,50176)\n",
    "    \n",
    "    ch0, ch1 = np.ravel(xs_sub[:,0]), np.ravel(xs_sub[:,1])\n",
    "    print(ch1.shape)\n",
    "\n",
    "    sns.kdeplot(ch0, ax = axarr[0], label = data.classes[i])\n",
    "    sns.kdeplot(ch1, ax = axarr[1], label = data.classes[i])\n",
    "    \n",
    "# axarr[0].set_xlim(-12,12);\n",
    "# axarr[1].set_xlim(-10,18);   \n",
    "# axarr[0].set_ylim(0,0.8);\n",
    "# axarr[1].set_ylim(0,1.8);\n",
    "axarr[1].legend()"
   ]
  },
  {
   "cell_type": "code",
   "execution_count": null,
   "metadata": {},
   "outputs": [],
   "source": [
    "print(len(data.val_dl.dataset.y))\n",
    "print(len(data.trn_dl.dataset.y))\n",
    "print(len(data.test_dl.dataset.y))"
   ]
  },
  {
   "cell_type": "markdown",
   "metadata": {},
   "source": [
    "# Training setup"
   ]
  },
  {
   "cell_type": "code",
   "execution_count": null,
   "metadata": {},
   "outputs": [],
   "source": [
    "torch.cuda.is_available()"
   ]
  },
  {
   "cell_type": "markdown",
   "metadata": {},
   "source": [
    "## ResNet_with_Batchnorm\n",
    "\n",
    "Defining network architecture. "
   ]
  },
  {
   "cell_type": "code",
   "execution_count": 9,
   "metadata": {},
   "outputs": [],
   "source": [
    "arch = resnet18_c\n",
    "# arch = resnet34_c"
   ]
  },
  {
   "cell_type": "code",
   "execution_count": 10,
   "metadata": {},
   "outputs": [],
   "source": [
    "learn = ConvLearner.pretrained(arch, data, ps=0.25, opt_fn=optim.Adam, pretrained=False)"
   ]
  },
  {
   "cell_type": "code",
   "execution_count": 14,
   "metadata": {},
   "outputs": [],
   "source": [
    "learn.unfreeze()"
   ]
  },
  {
   "cell_type": "code",
   "execution_count": null,
   "metadata": {
    "scrolled": true
   },
   "outputs": [],
   "source": [
    "learn.summary()"
   ]
  },
  {
   "cell_type": "code",
   "execution_count": 16,
   "metadata": {},
   "outputs": [],
   "source": [
    "wd=1e-5 # weight-decay/L2 regularization "
   ]
  },
  {
   "cell_type": "code",
   "execution_count": null,
   "metadata": {},
   "outputs": [],
   "source": [
    "learn.lr_find2(1e-10)"
   ]
  },
  {
   "cell_type": "code",
   "execution_count": null,
   "metadata": {},
   "outputs": [],
   "source": [
    "learn.sched.plot()"
   ]
  },
  {
   "cell_type": "code",
   "execution_count": null,
   "metadata": {},
   "outputs": [],
   "source": [
    "lbl2idx"
   ]
  },
  {
   "cell_type": "code",
   "execution_count": 17,
   "metadata": {
    "scrolled": true
   },
   "outputs": [
    {
     "data": {
      "application/vnd.jupyter.widget-view+json": {
       "model_id": "b1ffedb2e02748219b2db89253077d28",
       "version_major": 2,
       "version_minor": 0
      },
      "text/plain": [
       "HBox(children=(IntProgress(value=0, description='Epoch', max=8, style=ProgressStyle(description_width='initial…"
      ]
     },
     "metadata": {},
     "output_type": "display_data"
    },
    {
     "name": "stdout",
     "output_type": "stream",
     "text": [
      "EPOCH 0 ---------------------------------------- STEP 0   \n",
      "epoch      trn_loss   val_loss   accuracy   \n",
      "    0      1.237931   1.001767   0.580357  \n",
      "EPOCH 1 ---------------------------------------- STEP 1   \n",
      "    1      1.069677   0.862724   0.639286  \n",
      "EPOCH 2 ---------------------------------------- STEP 2    \n",
      "    2      0.933479   0.750569   0.703571  \n",
      "EPOCH 3 ---------------------------------------- STEP 3    \n",
      "    3      0.846829   0.67351    0.75      \n",
      "EPOCH 4 ---------------------------------------- STEP 4    \n",
      "    4      0.804474   0.727557   0.726786  \n",
      "EPOCH 5 ---------------------------------------- STEP 5    \n",
      "    5      0.75973    0.62418    0.746429  \n",
      "EPOCH 6 ---------------------------------------- STEP 6    \n",
      "    6      0.718238   0.598427   0.757143  \n",
      "EPOCH 7 ---------------------------------------- STEP 7    \n",
      "    7      0.670231   0.787607   0.701786  \n",
      "\n",
      "creating log-files...\n",
      "log-files saved to: datasets/HPA_challenge_2018/YNet_data_aws/yeast_Actin_v2/\n",
      "appending existing log-files...\n",
      "log-files saved to: datasets/HPA_challenge_2018/YNet_data_aws/yeast_Actin_v2/\n",
      "CPU times: user 4min 52s, sys: 39.2 s, total: 5min 32s\n",
      "Wall time: 2min 27s\n"
     ]
    },
    {
     "data": {
      "text/plain": [
       "[array([0.78761]), 0.7017857142857142]"
      ]
     },
     "execution_count": 17,
     "metadata": {},
     "output_type": "execute_result"
    }
   ],
   "source": [
    "%time learn.fit(1e-3, 8, cycle_len=1, wds=wd, use_wd_sched=True, best_save_name='YNet_Actin_v2_Res18_v01')"
   ]
  },
  {
   "cell_type": "code",
   "execution_count": null,
   "metadata": {
    "scrolled": true
   },
   "outputs": [],
   "source": [
    "%time learn.fit(1e-3, 1, cycle_len=8, wds=wd, use_wd_sched=True, use_clr=(20,8, 0.95, 0.85), best_save_name='YNet_Actin_v2_Res18_v1')"
   ]
  },
  {
   "cell_type": "code",
   "execution_count": null,
   "metadata": {},
   "outputs": [],
   "source": [
    "learn.load('YNet_Actin_v2_Res18_v1')"
   ]
  },
  {
   "cell_type": "code",
   "execution_count": 18,
   "metadata": {},
   "outputs": [
    {
     "data": {
      "application/vnd.jupyter.widget-view+json": {
       "model_id": "782ddd1bf5934418be12c8ac89320cf2",
       "version_major": 2,
       "version_minor": 0
      },
      "text/plain": [
       "HBox(children=(IntProgress(value=0, description='Epoch', max=56, style=ProgressStyle(description_width='initia…"
      ]
     },
     "metadata": {},
     "output_type": "display_data"
    },
    {
     "name": "stdout",
     "output_type": "stream",
     "text": [
      "EPOCH 0 ---------------------------------------- STEP 8    \n",
      "epoch      trn_loss   val_loss   accuracy   \n",
      "    0      0.683798   1.233803   0.607143  \n",
      "EPOCH 1 ---------------------------------------- STEP 9    \n",
      "    1      0.697911   0.691516   0.721429  \n",
      "EPOCH 2 ---------------------------------------- STEP 10   \n",
      "    2      0.672991   0.554654   0.748214  \n",
      "EPOCH 3 ---------------------------------------- STEP 11   \n",
      "    3      0.658481   0.597226   0.753571  \n",
      "EPOCH 4 ---------------------------------------- STEP 12   \n",
      "    4      0.669942   1.176219   0.596429  \n",
      "EPOCH 5 ---------------------------------------- STEP 13   \n",
      "    5      0.632819   0.654779   0.728571  \n",
      "EPOCH 6 ---------------------------------------- STEP 14   \n",
      "    6      0.639078   0.553081   0.769643  \n",
      "EPOCH 7 ---------------------------------------- STEP 15   \n",
      "    7      0.629422   0.568771   0.769643  \n",
      "EPOCH 8 ---------------------------------------- STEP 16   \n",
      "    8      0.5761     1.2905     0.623214  \n",
      "EPOCH 9 ---------------------------------------- STEP 17   \n",
      "    9      0.598158   1.214715   0.601786  \n",
      "EPOCH 10 ---------------------------------------- STEP 18  \n",
      "    10     0.604815   0.831085   0.658929  \n",
      "EPOCH 11 ---------------------------------------- STEP 19  \n",
      "    11     0.579735   1.056162   0.625     \n",
      "EPOCH 12 ---------------------------------------- STEP 20  \n",
      "    12     0.571968   0.604392   0.732143  \n",
      "EPOCH 13 ---------------------------------------- STEP 21  \n",
      "    13     0.545481   0.539546   0.7875    \n",
      "EPOCH 14 ---------------------------------------- STEP 22  \n",
      "    14     0.530962   0.517926   0.785714  \n",
      "EPOCH 15 ---------------------------------------- STEP 23  \n",
      "    15     0.506604   0.481987   0.789286  \n",
      "EPOCH 16 ---------------------------------------- STEP 24  \n",
      "    16     0.515734   0.952468   0.655357  \n",
      "EPOCH 17 ---------------------------------------- STEP 25  \n",
      "    17     0.56295    0.585902   0.773214  \n",
      "EPOCH 18 ---------------------------------------- STEP 26  \n",
      "    18     0.553202   0.812991   0.717857  \n",
      "EPOCH 19 ---------------------------------------- STEP 27  \n",
      "    19     0.506321   0.65984    0.717857  \n",
      "EPOCH 20 ---------------------------------------- STEP 28  \n",
      "    20     0.481982   0.49019    0.8       \n",
      "EPOCH 21 ---------------------------------------- STEP 29  \n",
      "    21     0.486508   0.698251   0.7125    \n",
      "EPOCH 22 ---------------------------------------- STEP 30  \n",
      "    22     0.498149   0.544349   0.791071  \n",
      "EPOCH 23 ---------------------------------------- STEP 31  \n",
      "    23     0.464743   0.511029   0.791071  \n",
      "EPOCH 24 ---------------------------------------- STEP 32  \n",
      "    24     0.452106   0.536383   0.760714  \n",
      "EPOCH 25 ---------------------------------------- STEP 33  \n",
      "    25     0.457023   1.5296     0.596429  \n",
      "EPOCH 26 ---------------------------------------- STEP 34  \n",
      "    26     0.489675   0.978848   0.714286  \n",
      "EPOCH 27 ---------------------------------------- STEP 35  \n",
      "    27     0.516838   0.628726   0.780357  \n",
      "EPOCH 28 ---------------------------------------- STEP 36  \n",
      "    28     0.507328   0.552503   0.7875    \n",
      "EPOCH 29 ---------------------------------------- STEP 37  \n",
      "    29     0.464737   0.614376   0.753571  \n",
      "EPOCH 30 ---------------------------------------- STEP 38  \n",
      "    30     0.432571   0.569007   0.789286  \n",
      "EPOCH 31 ---------------------------------------- STEP 39  \n",
      "    31     0.413615   0.424324   0.803571  \n",
      "EPOCH 32 ---------------------------------------- STEP 40  \n",
      "    32     0.400018   0.88029    0.683929  \n",
      "EPOCH 33 ---------------------------------------- STEP 41  \n",
      "    33     0.438163   0.947725   0.632143  \n",
      "EPOCH 34 ---------------------------------------- STEP 42  \n",
      "    34     0.442198   0.91132    0.698214  \n",
      "EPOCH 35 ---------------------------------------- STEP 43  \n",
      "    35     0.478682   0.609235   0.767857  \n",
      "EPOCH 36 ---------------------------------------- STEP 44  \n",
      "    36     0.485193   0.45733    0.780357  \n",
      "EPOCH 37 ---------------------------------------- STEP 45  \n",
      "    37     0.457795   0.449418   0.814286  \n",
      "EPOCH 38 ---------------------------------------- STEP 46  \n",
      "    38     0.43489    0.41982    0.807143  \n",
      "EPOCH 39 ---------------------------------------- STEP 47  \n",
      "    39     0.41392    0.451423   0.819643  \n",
      "EPOCH 40 ---------------------------------------- STEP 48  \n",
      "    40     0.40943    1.295055   0.657143  \n",
      "EPOCH 41 ---------------------------------------- STEP 49  \n",
      "    41     0.433899   0.532789   0.803571  \n",
      "EPOCH 42 ---------------------------------------- STEP 50  \n",
      "    42     0.41885    0.452399   0.7875    \n",
      "EPOCH 43 ---------------------------------------- STEP 51  \n",
      "    43     0.443549   0.61827    0.780357  \n",
      "EPOCH 44 ---------------------------------------- STEP 52  \n",
      "    44     0.428966   0.425338   0.817857  \n",
      "EPOCH 45 ---------------------------------------- STEP 53  \n",
      "    45     0.421944   0.601771   0.798214  \n",
      "EPOCH 46 ---------------------------------------- STEP 54  \n",
      "    46     0.386494   0.467851   0.835714  \n",
      "EPOCH 47 ---------------------------------------- STEP 55  \n",
      "    47     0.35513    0.393629   0.842857  \n",
      "EPOCH 48 ---------------------------------------- STEP 56  \n",
      "    48     0.354923   0.661016   0.764286  \n",
      "EPOCH 49 ---------------------------------------- STEP 57  \n",
      "    49     0.373454   0.778122   0.708929  \n",
      "EPOCH 50 ---------------------------------------- STEP 58  \n",
      "    50     0.380957   1.265064   0.6       \n",
      "EPOCH 51 ---------------------------------------- STEP 59  \n",
      "    51     0.386318   0.82931    0.730357  \n",
      "EPOCH 52 ---------------------------------------- STEP 60  \n",
      "    52     0.404203   0.446555   0.821429  \n",
      "EPOCH 53 ---------------------------------------- STEP 61  \n",
      "    53     0.388219   0.406365   0.842857  \n",
      "EPOCH 54 ---------------------------------------- STEP 62  \n",
      "    54     0.372889   0.393988   0.8375    \n",
      "EPOCH 55 ---------------------------------------- STEP 63  \n",
      "    55     0.341719   0.518415   0.823214  \n",
      "\n",
      "appending existing log-files...\n",
      "log-files saved to: datasets/HPA_challenge_2018/YNet_data_aws/yeast_Actin_v2/\n",
      "appending existing log-files...\n",
      "log-files saved to: datasets/HPA_challenge_2018/YNet_data_aws/yeast_Actin_v2/\n",
      "CPU times: user 33min 53s, sys: 4min 37s, total: 38min 31s\n",
      "Wall time: 16min 56s\n"
     ]
    },
    {
     "data": {
      "text/plain": [
       "[array([0.51842]), 0.8232142857142857]"
      ]
     },
     "execution_count": 18,
     "metadata": {},
     "output_type": "execute_result"
    }
   ],
   "source": [
    "%time learn.fit(1e-3, 3, cycle_len=8, cycle_mult =2, wds=wd, use_wd_sched=True, use_clr=(20,8, 0.95, 0.85), best_save_name='YNet_Actin_v2_Res18_v2')"
   ]
  },
  {
   "cell_type": "code",
   "execution_count": 20,
   "metadata": {},
   "outputs": [],
   "source": [
    "learn.load('YNet_Actin_v2_Res18_v2')"
   ]
  },
  {
   "cell_type": "code",
   "execution_count": null,
   "metadata": {
    "scrolled": true
   },
   "outputs": [],
   "source": [
    "%time learn.fit(5e-4, 3, cycle_len=16, cycle_mult =2, wds=wd, use_wd_sched=True, use_clr=(20,8, 0.95, 0.85), best_save_name='YNet_Actin_v2_Res18_v3')"
   ]
  },
  {
   "cell_type": "code",
   "execution_count": null,
   "metadata": {
    "scrolled": true
   },
   "outputs": [],
   "source": [
    "f = plt.figure()\n",
    "x = learn.sched.plot_loss()\n",
    "plt.ylabel('Loss')\n",
    "plt.xlabel('Iterations')\n",
    "plt.show()"
   ]
  },
  {
   "cell_type": "markdown",
   "metadata": {},
   "source": [
    "#### Run some more cylces - error & accuracy should continuously improve\n",
    "\n",
    "Note: cycle len = number of epochs per cycle"
   ]
  },
  {
   "cell_type": "code",
   "execution_count": null,
   "metadata": {},
   "outputs": [],
   "source": [
    "learn.freeze_to(2)"
   ]
  },
  {
   "cell_type": "code",
   "execution_count": null,
   "metadata": {
    "scrolled": true
   },
   "outputs": [],
   "source": [
    "adjust = {0:22,\n",
    "          1:14,\n",
    "#           2:22,\n",
    "          3:3,\n",
    "          4:3,\n",
    "         5:14,\n",
    "         6:14\n",
    "         }\n",
    "\n",
    "# use_clr=(20,8, 0.95, 0.85),\n",
    "%time learn.fit(1e-3, 1, cycle_len=8, wds=wd, use_wd_sched=True, adjust_class=adjust, best_save_name='YNet_v11.1_ResNet34_dihedral_ps025_IntNorm_rot90_rGauss_balanced_86_FT_mmr1')"
   ]
  },
  {
   "cell_type": "markdown",
   "metadata": {},
   "source": [
    "## Analysis/Model evaluation\n",
    "\n",
    "This is one of the major areas that needs improvement in our workflow. The tools we have so far (confusion matrix and manual inpsection of images) are essential but definitely not sufficient to ensure that our model learns something biologicaly relevant. Ideas are welcome!"
   ]
  },
  {
   "cell_type": "markdown",
   "metadata": {},
   "source": [
    "### ...after training "
   ]
  },
  {
   "cell_type": "code",
   "execution_count": 11,
   "metadata": {},
   "outputs": [],
   "source": [
    "## Load model:\n",
    "learn.load('YNet_Actin_v2_Res18_v2')\n",
    "learn.freeze_to(3)"
   ]
  },
  {
   "cell_type": "code",
   "execution_count": 21,
   "metadata": {
    "scrolled": true
   },
   "outputs": [
    {
     "name": "stdout",
     "output_type": "stream",
     "text": [
      "                                             \r"
     ]
    }
   ],
   "source": [
    "log_preds, y = learn.TTA(8) # run predictions with TTA"
   ]
  },
  {
   "cell_type": "markdown",
   "metadata": {},
   "source": [
    "### Cross_validation evaluation"
   ]
  },
  {
   "cell_type": "code",
   "execution_count": 23,
   "metadata": {
    "scrolled": false
   },
   "outputs": [
    {
     "name": "stdout",
     "output_type": "stream",
     "text": [
      "[[232   0   0   2   8]\n",
      " [  0  67   0   1   0]\n",
      " [  0   3  70   1   0]\n",
      " [ 22   0   0  51   4]\n",
      " [ 26   0   0  15  58]]\n"
     ]
    },
    {
     "data": {
      "image/png": "[encoded data removed]",
      "text/plain": [
       "<Figure size 432x288 with 2 Axes>"
      ]
     },
     "metadata": {},
     "output_type": "display_data"
    }
   ],
   "source": [
    "# Plot confusion matrix \n",
    "plt.style.use('seaborn-white')\n",
    "log_preds_mean = np.mean(log_preds, axis=0)\n",
    "preds = np.argmax(log_preds_mean, axis=1)\n",
    "cm = confusion_matrix(preds,y)\n",
    "plot_confusion_matrix(cm, data.classes)"
   ]
  },
  {
   "cell_type": "code",
   "execution_count": null,
   "metadata": {},
   "outputs": [],
   "source": [
    "# targ_names = ['mmm1KO', 'num1KO', 'WT', 'mfb1KO', 'mmr1KO', 'CK666', 'LatA', 'dnm1KO', 'fzo1KO']"
   ]
  },
  {
   "cell_type": "code",
   "execution_count": 24,
   "metadata": {
    "scrolled": false
   },
   "outputs": [
    {
     "name": "stdout",
     "output_type": "stream",
     "text": [
      "0.8535714285714285\n",
      "              precision    recall  f1-score   support\n",
      "\n",
      "          WT       0.83      0.96      0.89       242\n",
      "       CK666       0.96      0.99      0.97        68\n",
      "    LatA-5uM       1.00      0.95      0.97        74\n",
      "      axl1KO       0.73      0.66      0.69        77\n",
      "      bud1KO       0.83      0.59      0.69        99\n",
      "\n",
      "   micro avg       0.85      0.85      0.85       560\n",
      "   macro avg       0.87      0.83      0.84       560\n",
      "weighted avg       0.85      0.85      0.85       560\n",
      "\n"
     ]
    }
   ],
   "source": [
    "from sklearn.metrics import classification_report\n",
    "from sklearn.metrics import accuracy_score\n",
    "\n",
    "print(accuracy_score(preds, y))\n",
    "\n",
    "print(classification_report(preds, y, target_names=data.classes))"
   ]
  },
  {
   "cell_type": "code",
   "execution_count": null,
   "metadata": {},
   "outputs": [],
   "source": [
    "preds_noAct = []\n",
    "y_noAct = []\n",
    "for i in [2,3,4,0,1,7,8]:\n",
    "    preds_noAct.extend(preds[y == i])\n",
    "    y_noAct.extend(y[y==i])\n",
    "    \n",
    "print(accuracy_score(preds_noAct, y_noAct))\n",
    "print(classification_report(preds_noAct, y_noAct, target_names=['WT', 'mfb1KO', 'mmr1KO', 'mmm1KO', 'num1KO', 'dnm1KO', 'fzo1KO']))"
   ]
  },
  {
   "cell_type": "code",
   "execution_count": null,
   "metadata": {},
   "outputs": [],
   "source": [
    "len(y_noAct), len(preds_noAct)"
   ]
  },
  {
   "cell_type": "code",
   "execution_count": null,
   "metadata": {},
   "outputs": [],
   "source": []
  },
  {
   "cell_type": "code",
   "execution_count": null,
   "metadata": {},
   "outputs": [],
   "source": []
  },
  {
   "cell_type": "markdown",
   "metadata": {},
   "source": [
    "## Test-set eval"
   ]
  },
  {
   "cell_type": "code",
   "execution_count": null,
   "metadata": {
    "scrolled": true
   },
   "outputs": [],
   "source": [
    "learn.models.model"
   ]
  },
  {
   "cell_type": "code",
   "execution_count": 12,
   "metadata": {},
   "outputs": [],
   "source": [
    "# function to be called by register_forward_hook\n",
    "\n",
    "def get_embeddings(layer_name):\n",
    "    def register_hook(layer_name):\n",
    "        def get_embedding(layer, inp, outp):\n",
    "            tmp = inp[0]\n",
    "            embedding.append(tmp)\n",
    "\n",
    "        hook = layer.register_forward_hook(get_embedding) \n",
    "        \n",
    "        for i in ['trn', 'val', 'test']:\n",
    "            embedding = []\n",
    "            preds, y = learn.predict_with_targs(i)\n",
    "            \n",
    "            # populating dict, consiting of [0]: preds, [1]: y, [2]: activations[layer]\n",
    "            embeddings[i] = [preds, y, np.vstack(to_np(embedding))]\n",
    "            \n",
    "        hook.remove()\n",
    "        \n",
    "    embeddings = {}    \n",
    "    layer = learn.models.model._modules.get(layer_name)\n",
    "    register_hook(layer)\n",
    "    \n",
    "    return embeddings"
   ]
  },
  {
   "cell_type": "code",
   "execution_count": 13,
   "metadata": {},
   "outputs": [],
   "source": [
    "embeddings = get_embeddings('14')"
   ]
  },
  {
   "cell_type": "code",
   "execution_count": 30,
   "metadata": {},
   "outputs": [],
   "source": [
    "import pickle\n",
    "\n",
    "with open('datasets/HPA_challenge_2018/YNet_data_aws/yeast_Actin_v2/tmp/embeddings_v2_Res18_v2_v1.pkl', 'wb') as handle:\n",
    "    pickle.dump(embeddings, handle, protocol=pickle.HIGHEST_PROTOCOL)\n",
    "\n",
    "with open('datasets/HPA_challenge_2018/YNet_data_aws/yeast_Actin_v2/tmp/embeddings_v2_Res18_v2_v1.pkl', 'rb') as handle:\n",
    "    embeddings_loaded = pickle.load(handle)\n",
    "\n",
    "embeddings = embeddings_loaded"
   ]
  },
  {
   "cell_type": "code",
   "execution_count": 31,
   "metadata": {},
   "outputs": [
    {
     "name": "stdout",
     "output_type": "stream",
     "text": [
      "(1804, 512)\n",
      "(560, 512)\n",
      "(1283, 512)\n",
      "(1804,)\n",
      "(560,)\n",
      "(1283,)\n"
     ]
    }
   ],
   "source": [
    "# unpacking embeddings\n",
    "\n",
    "embs_trn = embeddings['trn'][2]\n",
    "y_trn = embeddings['trn'][1]\n",
    "\n",
    "embs_val = embeddings['val'][2]\n",
    "y_val = embeddings['val'][1]\n",
    "\n",
    "embs_test = embeddings['test'][2]\n",
    "y_test = embeddings['test'][1]\n",
    "\n",
    "print(embs_trn.shape)\n",
    "print(embs_val.shape)\n",
    "print(embs_test.shape)\n",
    "\n",
    "print(y_trn.shape)\n",
    "print(y_val.shape)\n",
    "print(y_test.shape)\n"
   ]
  },
  {
   "cell_type": "code",
   "execution_count": null,
   "metadata": {},
   "outputs": [],
   "source": [
    "from sklearn.decomposition import PCA\n",
    "from sklearn.manifold import TSNE"
   ]
  },
  {
   "cell_type": "code",
   "execution_count": null,
   "metadata": {},
   "outputs": [],
   "source": [
    "# running PCA on embeddings\n",
    "pca = []\n",
    "n_components = 50\n",
    "pca = PCA(n_components)\n",
    "\n",
    "trn_pca_result = pca.fit_transform(embs_trn)\n",
    "val_pca_result = pca.transform(embs_val)\n",
    "test_pca_result = pca.transform(embs_test)"
   ]
  },
  {
   "cell_type": "code",
   "execution_count": null,
   "metadata": {},
   "outputs": [],
   "source": [
    "#plotting compenent-wise cumulative explained variance (for PCA)\n",
    "\n",
    "plt.plot(range(n_components), pca.explained_variance_ratio_)\n",
    "plt.plot(range(n_components), np.cumsum(pca.explained_variance_ratio_))\n",
    "plt.title(\"Component-wise and Cumulative Explained Variance\")"
   ]
  },
  {
   "cell_type": "code",
   "execution_count": null,
   "metadata": {
    "scrolled": true
   },
   "outputs": [],
   "source": [
    "# running TSNE on embeddings\n",
    "\n",
    "tsne = TSNE(n_components=2, verbose=1, perplexity=40, n_iter=300)\n",
    "tsne_results = tsne.fit_transform(embs_trn)"
   ]
  },
  {
   "cell_type": "code",
   "execution_count": null,
   "metadata": {
    "scrolled": false
   },
   "outputs": [],
   "source": [
    "# plotting PCA vs TSNE results\n",
    "\n",
    "fig, axarr = plt.subplots(1, 2, figsize=(20, 8))\n",
    "\n",
    "compA = 0\n",
    "compB = 1\n",
    "\n",
    "for i in range(9):\n",
    "    PCA_cls = trn_pca_result[y_trn == i]\n",
    "    TSNE_cls = tsne_results[y_trn == i]\n",
    "    \n",
    "    axarr[0].scatter(PCA_cls[:,compA], PCA_cls[:,compB], label = data.classes[i], s = 5)\n",
    "    axarr[1].scatter(TSNE_cls[:,compA], TSNE_cls[:,compB], label = data.classes[i], s =5)\n",
    "    axarr[1].legend(loc='center left', bbox_to_anchor=(1, 0.5))"
   ]
  },
  {
   "cell_type": "code",
   "execution_count": null,
   "metadata": {
    "scrolled": false
   },
   "outputs": [],
   "source": [
    "# plotting PCA vs TSNE results\n",
    "\n",
    "fig, axarr = plt.subplots(1, 2, figsize=(20, 8))\n",
    "\n",
    "compA = 0\n",
    "compB = 1\n",
    "\n",
    "for i in range(7):\n",
    "    trn_PCA_cls = trn_pca_result[y_trn == i]\n",
    "    val_PCA_cls = val_pca_result[y_val == i]\n",
    "\n",
    "    axarr[0].scatter(trn_PCA_cls[:,compA], trn_PCA_cls[:,compB], label = data.classes[i])\n",
    "    axarr[1].scatter(val_PCA_cls[:,compA], val_PCA_cls[:,compB], label = data.classes[i])\n",
    "    axarr[1].legend(loc='center left', bbox_to_anchor=(1, 0.5))"
   ]
  },
  {
   "cell_type": "code",
   "execution_count": null,
   "metadata": {
    "scrolled": true
   },
   "outputs": [],
   "source": [
    "print(lbl2idx_test)"
   ]
  },
  {
   "cell_type": "code",
   "execution_count": null,
   "metadata": {
    "scrolled": false
   },
   "outputs": [],
   "source": [
    "# plotting PCA vs TSNE results\n",
    "\n",
    "fig, axarr = plt.subplots(1, 2, figsize=(20, 8))\n",
    "\n",
    "compA = 0\n",
    "compB = 1\n",
    "\n",
    "for i in range(7):\n",
    "    trn_PCA_cls = trn_pca_result[y_trn == i]\n",
    "\n",
    "    axarr[0].scatter(trn_PCA_cls[:,compA], trn_PCA_cls[:,compB], label = data.classes[i])\n",
    "    axarr[0].legend(loc='center left', bbox_to_anchor=(1, 0.5))\n",
    "    axarr[0].set_xlim(-15,45)\n",
    "    axarr[0].set_ylim(-20,20)\n",
    "    \n",
    "for i in [0,1,3]:\n",
    "    test_PCA_cls = test_pca_result[y_test == i]\n",
    "    axarr[1].scatter(test_PCA_cls[:,compA], test_PCA_cls[:,compB], label = list(lbl2idx_test.keys())[i])\n",
    "    axarr[1].legend(loc='center left', bbox_to_anchor=(1, 0.5))\n",
    "    axarr[1].set_xlim(-15,45)\n",
    "    axarr[1].set_ylim(-20,20)\n"
   ]
  },
  {
   "cell_type": "code",
   "execution_count": null,
   "metadata": {},
   "outputs": [],
   "source": [
    "list(lbl2idx_test.keys())[0]"
   ]
  },
  {
   "cell_type": "code",
   "execution_count": null,
   "metadata": {},
   "outputs": [],
   "source": [
    "# Generate 3D TSNE space from PCA of embeddings\n",
    "\n",
    "tsne3D = TSNE(n_components=3, verbose=1, perplexity=40, n_iter=300, learning_rate=50.0)\n",
    "PCA2tSNE_results_3D = tsne3D.fit_transform(embs)"
   ]
  },
  {
   "cell_type": "code",
   "execution_count": null,
   "metadata": {},
   "outputs": [],
   "source": [
    "tsne3D"
   ]
  },
  {
   "cell_type": "code",
   "execution_count": null,
   "metadata": {},
   "outputs": [],
   "source": [
    "from mpl_toolkits import mplot3d\n",
    "\n",
    "# magic command to make plots interactive.\n",
    "# restart kernel if you want to switch to e.g. %matplotlib inline\n",
    "%matplotlib notebook"
   ]
  },
  {
   "cell_type": "code",
   "execution_count": null,
   "metadata": {},
   "outputs": [],
   "source": [
    "# 3D plotting - very slow interactivity atm...\n",
    "\n",
    "fig = plt.figure()\n",
    "ax = plt.axes(projection='3d')\n",
    "\n",
    "compA = 0\n",
    "compB = 1\n",
    "compC = 2\n",
    "\n",
    "for i in range(10):\n",
    "    clss = PCA2tSNE_results_3D[y == i]\n",
    "    cls_C = clss[0:500,:]\n",
    "    ax.scatter3D(cls_C[:,compA], cls_C[:,compB], cls_C[:,compC])"
   ]
  },
  {
   "cell_type": "code",
   "execution_count": null,
   "metadata": {},
   "outputs": [],
   "source": []
  },
  {
   "cell_type": "code",
   "execution_count": 35,
   "metadata": {
    "scrolled": true
   },
   "outputs": [],
   "source": [
    "import umap"
   ]
  },
  {
   "cell_type": "code",
   "execution_count": 33,
   "metadata": {
    "scrolled": true
   },
   "outputs": [],
   "source": [
    "UMAP_trn_embedding = umap.UMAP(n_neighbors=30,\n",
    "                      min_dist=0.5,\n",
    "                      metric='correlation').fit(embs_trn)\n",
    "\n",
    "UMAP_trn = UMAP_trn_embedding.embedding_\n",
    "UMAP_val = UMAP_trn_embedding.transform(embs_val)\n",
    "UMAP_test = UMAP_trn_embedding.transform(embs_test)"
   ]
  },
  {
   "cell_type": "code",
   "execution_count": 36,
   "metadata": {},
   "outputs": [],
   "source": [
    "import pickle\n",
    "\n",
    "with open('datasets/HPA_challenge_2018/YNet_data_aws/yeast_Actin_v2/tmp/UMAP_v2_Res18_v2_v1.pkl', 'wb') as handle:\n",
    "    pickle.dump(UMAP_trn_embedding, handle, protocol=pickle.HIGHEST_PROTOCOL)\n",
    "\n",
    "with open('datasets/HPA_challenge_2018/YNet_data_aws/yeast_Actin_v2/tmp/UMAP_v2_Res18_v2_v1.pkl', 'rb') as handle:\n",
    "    UMAP_trn_emb_loaded = pickle.load(handle)\n",
    "\n",
    "UMAP_trn = UMAP_trn_emb_loaded.embedding_\n",
    "UMAP_val = UMAP_trn_emb_loaded.transform(embs_val)\n",
    "UMAP_test = UMAP_trn_emb_loaded.transform(embs_test)"
   ]
  },
  {
   "cell_type": "code",
   "execution_count": 17,
   "metadata": {},
   "outputs": [],
   "source": [
    "# !ls datasets/HPA_challenge_2018/YNet_data_aws/yeast_Actin_v2"
   ]
  },
  {
   "cell_type": "code",
   "execution_count": 40,
   "metadata": {},
   "outputs": [
    {
     "data": {
      "text/plain": [
       "{'01_WT': [0, 0, 'WT'],\n",
       " '02_WT': [1, 0, 'WT'],\n",
       " '03_CK666': [2, 1, 'CK666'],\n",
       " '03_LatA-5uM': [3, 2, 'LatA-5uM'],\n",
       " '03_WT': [4, 0, 'WT'],\n",
       " '03_axl1KO': [5, 3, 'axl1KO'],\n",
       " '03_bud1KO': [6, 4, 'bud1KO'],\n",
       " '04_WT': [7, 0, 'WT']}"
      ]
     },
     "execution_count": 40,
     "metadata": {},
     "output_type": "execute_result"
    }
   ],
   "source": [
    "lbl2idx"
   ]
  },
  {
   "cell_type": "code",
   "execution_count": 46,
   "metadata": {
    "scrolled": false
   },
   "outputs": [
    {
     "data": {
      "image/png": "[encoded data removed]",
      "text/plain": [
       "<Figure size 1440x576 with 2 Axes>"
      ]
     },
     "metadata": {
      "needs_background": "light"
     },
     "output_type": "display_data"
    }
   ],
   "source": [
    "# plotting PCA vs TSNE results\n",
    "\n",
    "fig, axarr = plt.subplots(1, 2, figsize=(20, 8))\n",
    "\n",
    "compA = 0\n",
    "compB = 1\n",
    "\n",
    "for i in [0,1,2,3,4]:\n",
    "    trn_UMAP_cls = UMAP_trn[y_trn == i]\n",
    "\n",
    "    axarr[0].scatter(trn_UMAP_cls[:,compA], trn_UMAP_cls[:,compB], label = data.classes[i], s = 5)\n",
    "    axarr[0].legend(loc='center left', bbox_to_anchor=(1, 0.5))\n",
    "    \n",
    "    if i == 0:\n",
    "        axarr[1].scatter(trn_UMAP_cls[:,compA], trn_UMAP_cls[:,compB], label = data.classes[i], s = 5)\n",
    "    elif i == 3:\n",
    "        axarr[1].scatter(trn_UMAP_cls[:,compA], trn_UMAP_cls[:,compB], label = data.classes[i], s = 5, c='green', alpha=0.2)\n",
    "    else:\n",
    "        axarr[1].scatter(trn_UMAP_cls[:,compA], trn_UMAP_cls[:,compB], label = data.classes[i], s = 5, c='gray', alpha=.1)\n",
    "\n",
    "    axarr[0].set_xlim(-15,12)\n",
    "    axarr[0].set_ylim(-15,10)\n",
    "    \n",
    "for i in [2]:\n",
    "    test_UMAP_cls = UMAP_test[y_test == i]\n",
    "    \n",
    "    axarr[1].scatter(test_UMAP_cls[:,compA], test_UMAP_cls[:,compB], label = list(lbl2idx_test.keys())[i], s = 5)\n",
    "    axarr[1].legend(loc='center left', bbox_to_anchor=(1, 0.5))\n",
    "    axarr[1].set_xlim(-15,12)\n",
    "    axarr[1].set_ylim(-15,10)\n"
   ]
  },
  {
   "cell_type": "code",
   "execution_count": 35,
   "metadata": {},
   "outputs": [
    {
     "data": {
      "text/plain": [
       "{'02_mfb1KO': [0, 0, 'mfb1KO'],\n",
       " '03_Eth': [1, 1, 'Eth'],\n",
       " '03_LatA-05uM': [2, 2, 'LatA-05uM'],\n",
       " '03_dnm1KO': [3, 3, 'dnm1KO'],\n",
       " '03_fzo1KO': [4, 4, 'fzo1KO']}"
      ]
     },
     "execution_count": 35,
     "metadata": {},
     "output_type": "execute_result"
    }
   ],
   "source": [
    "lbl2idx_test"
   ]
  },
  {
   "cell_type": "code",
   "execution_count": null,
   "metadata": {},
   "outputs": [],
   "source": []
  },
  {
   "cell_type": "code",
   "execution_count": null,
   "metadata": {},
   "outputs": [],
   "source": [
    "UMAP_WT = UMAP_trn[y_trn == 2]"
   ]
  },
  {
   "cell_type": "code",
   "execution_count": null,
   "metadata": {
    "scrolled": true
   },
   "outputs": [],
   "source": [
    "plt.scatter(UMAP_WT[:,0], UMAP_WT[:,1], s = 5)"
   ]
  },
  {
   "cell_type": "code",
   "execution_count": null,
   "metadata": {},
   "outputs": [],
   "source": [
    "len(data.trn_ds.fnames) + len(data.val_ds.fnames)"
   ]
  },
  {
   "cell_type": "code",
   "execution_count": null,
   "metadata": {},
   "outputs": [],
   "source": [
    "# Specify data\n",
    "\n",
    "x = UMAP_WT[:,0]\n",
    "y = UMAP_WT[:,1]\n",
    "data1 = UMAP_WT\n",
    "\n",
    "with sns.axes_style('white'):\n",
    "    pal = sns.dark_palette(\"palegreen\", as_cmap=True)\n",
    "    sns.jointplot(x, y, kind='kde', shade=False, cmap=pal, color='k').plot_joint(plt.scatter, s=18, color='k')\n",
    "    \n",
    "#     , xlim=(-1.e3, 1e8), ylim=(-0.2e8, 1e8)\n"
   ]
  },
  {
   "cell_type": "code",
   "execution_count": null,
   "metadata": {},
   "outputs": [],
   "source": [
    "lbl2idx_test)"
   ]
  },
  {
   "cell_type": "markdown",
   "metadata": {},
   "source": [
    "### Visualizing train and test datasets as exposed by dataloader"
   ]
  },
  {
   "cell_type": "markdown",
   "metadata": {},
   "source": [
    "### Inference"
   ]
  },
  {
   "cell_type": "code",
   "execution_count": null,
   "metadata": {},
   "outputs": [],
   "source": [
    "lbl2idx"
   ]
  },
  {
   "cell_type": "code",
   "execution_count": null,
   "metadata": {},
   "outputs": [],
   "source": [
    "lbl2idx_test"
   ]
  },
  {
   "cell_type": "code",
   "execution_count": null,
   "metadata": {},
   "outputs": [],
   "source": [
    "# test_log_preds, test_targs = learn.predict_with_targs('test')\n",
    "test_log_preds, test_targs = learn.TTA(is_test=True, n_aug=8)\n",
    "test_log_preds = np.mean(test_log_preds, axis=0)\n",
    "testprobs = np.exp(test_log_preds)\n",
    "test_preds = np.argmax(testprobs, axis=1)"
   ]
  },
  {
   "cell_type": "code",
   "execution_count": null,
   "metadata": {},
   "outputs": [],
   "source": [
    "test_robust = []\n",
    "y_test_robust = []\n",
    "for i in [0,1,2]:\n",
    "    test_robust.extend(test_preds[test_targs == i])\n",
    "    y_test_robust.extend(test_targs[test_targs==i])"
   ]
  },
  {
   "cell_type": "code",
   "execution_count": null,
   "metadata": {},
   "outputs": [],
   "source": [
    "y_test_robust = np.array(y_test_robust)\n",
    "y_test_robust[y_test_robust == 2] = 4\n",
    "y_test_robust[y_test_robust == 1] = 3\n",
    "y_test_robust[y_test_robust == 0] = 2"
   ]
  },
  {
   "cell_type": "code",
   "execution_count": null,
   "metadata": {},
   "outputs": [],
   "source": [
    "# np.array(test_robust)\n",
    "\n",
    "cm = confusion_matrix(test_robust,y_test_robust)\n",
    "plot_confusion_matrix(cm, ['WT', 'mfb1KO', 'mmr1KO'])"
   ]
  },
  {
   "cell_type": "code",
   "execution_count": null,
   "metadata": {},
   "outputs": [],
   "source": [
    "print(accuracy_score(test_robust, y_test_robust))\n",
    "# print(classification_report(test_robust, y_test_robust, target_names=['WT', 'mfb1KO', 'mmr1KO']))"
   ]
  },
  {
   "cell_type": "code",
   "execution_count": null,
   "metadata": {},
   "outputs": [],
   "source": []
  },
  {
   "cell_type": "code",
   "execution_count": null,
   "metadata": {},
   "outputs": [],
   "source": [
    "preds_dict"
   ]
  },
  {
   "cell_type": "code",
   "execution_count": null,
   "metadata": {
    "scrolled": true
   },
   "outputs": [],
   "source": [
    "# make predictions dictionary\n",
    "\n",
    "h = 0\n",
    "preds_dict = {}\n",
    "for i, key in enumerate(lbl2idx_test.keys()):\n",
    "    l = h\n",
    "    h = h + list(data2.test_dl.dataset.src_idx).count(i)\n",
    "    preds_dict[key] = list(test_preds[l:h])\n",
    "    print(f\"{key} predictions ready ({h - l} elements)\")"
   ]
  },
  {
   "cell_type": "code",
   "execution_count": null,
   "metadata": {},
   "outputs": [],
   "source": [
    "preds_rel = {}\n",
    "for key in preds_dict.keys():\n",
    "    print(key)\n",
    "    val = {cls: preds_dict[key].count(i)/len(preds_dict[key]) for i, cls in enumerate(data2.classes)}\n",
    "    preds_rel[key]= val"
   ]
  },
  {
   "cell_type": "code",
   "execution_count": null,
   "metadata": {},
   "outputs": [],
   "source": [
    "def plot_test_preds(targets, preds_rel):\n",
    "    \n",
    "    if not isinstance(targets, list):\n",
    "        targets = [targets]\n",
    "        \n",
    "    x = math.ceil((int(len(targets)) /2)) # dynamic scaling of GridSpec\n",
    "    sz = 4 * x # dynamic scaling of figuresize\n",
    "    \n",
    "    # plotting:\n",
    "    plt.figure(figsize=(12,sz))\n",
    "    gs1 = plt.GridSpec(x,2)\n",
    "    gs1.update(wspace = 0.4)\n",
    "\n",
    "    for i, targ in enumerate(targets):\n",
    "        to_plot = [preds_rel[targ][key] for key in data.classes] # extracting data\n",
    "        ax1 = plt.subplot(gs1[i])\n",
    "        ax1.barh(data.classes, to_plot)\n",
    "        ax1.set_title(targ)\n",
    "        ax1.set_xlim(0,1)\n",
    "    \n",
    "    plt.show()"
   ]
  },
  {
   "cell_type": "code",
   "execution_count": null,
   "metadata": {},
   "outputs": [],
   "source": []
  },
  {
   "cell_type": "code",
   "execution_count": null,
   "metadata": {},
   "outputs": [],
   "source": [
    "test_classes = list(lbl2idx_test.keys())\n",
    "\n",
    "plot_test_preds(test_classes, preds_rel)\n",
    "# plot_test_preds(['01_WT', '03_WT', '03_fzo1KO', '01_mfb1KO'], preds_rel)\n",
    "# plot_test_preds(['01_WT', '01_mfb1KO', '01_mmr1KO'], preds_rel)"
   ]
  },
  {
   "cell_type": "code",
   "execution_count": null,
   "metadata": {},
   "outputs": [],
   "source": []
  },
  {
   "cell_type": "markdown",
   "metadata": {},
   "source": [
    "### Analyse images "
   ]
  },
  {
   "cell_type": "code",
   "execution_count": null,
   "metadata": {},
   "outputs": [],
   "source": []
  },
  {
   "cell_type": "markdown",
   "metadata": {},
   "source": [
    "#### Show random correct/incorrectly classified images:"
   ]
  },
  {
   "cell_type": "code",
   "execution_count": null,
   "metadata": {},
   "outputs": [],
   "source": [
    "log_preds_mean = np.mean(log_preds, axis=0) # averages predictions on original + 4 TTA images\n",
    "preds = np.argmax(log_preds_mean, axis=1) # converts into 0 or 1"
   ]
  },
  {
   "cell_type": "code",
   "execution_count": null,
   "metadata": {},
   "outputs": [],
   "source": [
    "# probs = np.exp(log_preds_mean[:,0]) # prediction(WT)\n",
    "probs = np.exp(log_preds_mean) # predictions"
   ]
  },
  {
   "cell_type": "code",
   "execution_count": null,
   "metadata": {},
   "outputs": [],
   "source": [
    "def rand_by_mask(mask): return np.random.choice(np.where(mask)[0], 4, replace=False)\n",
    "def rand_by_correct(is_correct): return rand_by_mask((preds == data.val_y)==is_correct)"
   ]
  },
  {
   "cell_type": "code",
   "execution_count": null,
   "metadata": {},
   "outputs": [],
   "source": [
    "def plots(ims, channel, figsize=(12,6), rows=1, titles=None):\n",
    "    f = plt.figure(figsize=figsize)\n",
    "    for i in range(len(ims)):\n",
    "        sp = f.add_subplot(rows, len(ims)//rows, i+1)\n",
    "        sp.axis('Off')\n",
    "        if titles is not None: sp.set_title(titles[i], fontsize=11)\n",
    "        if channel is not None: plt.imshow(ims[i,channel,:,:]) \n",
    "        else: plt.imshow(np.sum(ims, axis=1)[i,:,:])"
   ]
  },
  {
   "cell_type": "code",
   "execution_count": null,
   "metadata": {},
   "outputs": [],
   "source": [
    "def plot_val_with_title_from_ds_no_denorm(idxs, title, channel=None):\n",
    "    \n",
    "    imgs = np.stack(data.val_ds[x][0] for x in idxs) # get images by idx\n",
    "    corr_lbl = np.stack(data.val_ds[x][1] for x in idxs) # get correct label from data.val_ds by idx\n",
    "    pred_lbl = np.stack(preds[x] for x in idxs) # get predicted label from preds by idx\n",
    "    p_max = [np.amax(probs[x,:]) for x in idxs] # get highest probability from probs by idx\n",
    "    \n",
    "    title_fin = [f\"true = {corr_lbl[x]}\\n predicted: {pred_lbl[x]}\\n  p = {p_max[x]}\" for x, _ in enumerate(corr_lbl)]\n",
    "    print(title)\n",
    "    \n",
    "    return plots(imgs, channel, rows=1, titles=title_fin, figsize=(16,8))"
   ]
  },
  {
   "cell_type": "code",
   "execution_count": null,
   "metadata": {},
   "outputs": [],
   "source": [
    "lbl2idx_"
   ]
  },
  {
   "cell_type": "markdown",
   "metadata": {},
   "source": [
    "### Plot images according to predictions"
   ]
  },
  {
   "cell_type": "code",
   "execution_count": null,
   "metadata": {
    "scrolled": true
   },
   "outputs": [],
   "source": [
    "# load from ds - not denormalized! \n",
    "plot_val_with_title_from_ds_no_denorm(rand_by_correct(True), \"Correctly classified\")\n",
    "#optionally pass channel arg. to select single channel"
   ]
  },
  {
   "cell_type": "code",
   "execution_count": null,
   "metadata": {
    "scrolled": false
   },
   "outputs": [],
   "source": [
    "plot_val_with_title_from_ds_no_denorm(rand_by_correct(False), \"Incorrectly classified\")"
   ]
  },
  {
   "cell_type": "markdown",
   "metadata": {},
   "source": [
    "#### Show most correct/incorrectly classified images per class:"
   ]
  },
  {
   "cell_type": "code",
   "execution_count": null,
   "metadata": {},
   "outputs": [],
   "source": [
    "def most_by_mask(mask, y, mult):\n",
    "    idxs = np.where(mask)[0]\n",
    "    return idxs[np.argsort(mult * probs[:,y][idxs])[0:5]]\n",
    "\n",
    "def most_by_correct(y, is_correct): \n",
    "    mult = -1 if is_correct else 1\n",
    "    return most_by_mask(((preds == data.val_y)==is_correct) & (data.val_y == y), y, mult)"
   ]
  },
  {
   "cell_type": "code",
   "execution_count": null,
   "metadata": {},
   "outputs": [],
   "source": [
    "plot_val_with_title_from_ds_no_denorm(most_by_correct(0, True), \"Most correctly classified WT\")"
   ]
  },
  {
   "cell_type": "code",
   "execution_count": null,
   "metadata": {
    "scrolled": false
   },
   "outputs": [],
   "source": [
    "plot_val_with_title_from_ds_no_denorm(most_by_correct(0, False), \"Most incorrectly classified WT\") # logic?"
   ]
  },
  {
   "cell_type": "code",
   "execution_count": null,
   "metadata": {},
   "outputs": [],
   "source": [
    "plot_val_with_title_from_ds_no_denorm(most_by_correct(1, True), \"Most correctly classified mfb1KO\") "
   ]
  },
  {
   "cell_type": "code",
   "execution_count": null,
   "metadata": {},
   "outputs": [],
   "source": [
    "plot_val_with_title_from_ds_no_denorm(most_by_correct(1, False), \"Most incorrectly classified mfb1KO\")"
   ]
  },
  {
   "cell_type": "code",
   "execution_count": null,
   "metadata": {
    "scrolled": true
   },
   "outputs": [],
   "source": [
    "plot_val_with_title_from_ds_no_denorm(most_by_correct(2, True), \"Most correctly classified mfb1KO-mmr1KO\")"
   ]
  },
  {
   "cell_type": "code",
   "execution_count": null,
   "metadata": {
    "scrolled": false
   },
   "outputs": [],
   "source": [
    "plot_val_with_title_from_ds_no_denorm(most_by_correct(3, True), \"Most correctly classified CK666\")"
   ]
  },
  {
   "cell_type": "code",
   "execution_count": null,
   "metadata": {
    "scrolled": true
   },
   "outputs": [],
   "source": [
    "plot_val_with_title_from_ds_no_denorm(most_by_correct(4, True), \"Most correctly classified LatA\")"
   ]
  },
  {
   "cell_type": "code",
   "execution_count": null,
   "metadata": {
    "scrolled": true
   },
   "outputs": [],
   "source": [
    "plot_val_with_title_from_ds_no_denorm(most_by_correct(5, True), \"Most correctly classified dnnm1KO\")"
   ]
  },
  {
   "cell_type": "code",
   "execution_count": null,
   "metadata": {},
   "outputs": [],
   "source": [
    "plot_val_with_title_from_ds_no_denorm(most_by_correct(6, True), \"Most correctly classified fzo1KO\")"
   ]
  },
  {
   "cell_type": "markdown",
   "metadata": {},
   "source": [
    "#### Show (most) uncertain images"
   ]
  },
  {
   "cell_type": "code",
   "execution_count": null,
   "metadata": {
    "scrolled": true
   },
   "outputs": [],
   "source": [
    "most_uncertain = t = np.argsort(np.amax(probs, axis = 1))[1:5] # get best \"guess\" per image and list the least confident ones\n",
    "plot_val_with_title_from_ds_no_denorm(most_uncertain, \"Most uncertain predictions\")"
   ]
  },
  {
   "cell_type": "code",
   "execution_count": null,
   "metadata": {},
   "outputs": [],
   "source": [
    "lbl2idx_"
   ]
  },
  {
   "cell_type": "code",
   "execution_count": null,
   "metadata": {},
   "outputs": [],
   "source": []
  }
 ],
 "metadata": {
  "kernelspec": {
   "display_name": "Python 3",
   "language": "python",
   "name": "python3"
  },
  "language_info": {
   "codemirror_mode": {
    "name": "ipython",
    "version": 3
   },
   "file_extension": ".py",
   "mimetype": "text/x-python",
   "name": "python",
   "nbconvert_exporter": "python",
   "pygments_lexer": "ipython3",
   "version": "3.6.7"
  }
 },
 "nbformat": 4,
 "nbformat_minor": 2
}
