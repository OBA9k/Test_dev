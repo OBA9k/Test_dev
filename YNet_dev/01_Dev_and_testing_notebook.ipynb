{
 "cells": [
  {
   "cell_type": "markdown",
   "metadata": {},
   "source": [
    "# Dev and Test notebook"
   ]
  },
  {
   "cell_type": "markdown",
   "metadata": {},
   "source": [
    "## Imports"
   ]
  },
  {
   "cell_type": "code",
   "execution_count": 1,
   "metadata": {},
   "outputs": [],
   "source": [
    "%matplotlib inline\n",
    "%reload_ext autoreload\n",
    "%autoreload 2"
   ]
  },
  {
   "cell_type": "code",
   "execution_count": 2,
   "metadata": {},
   "outputs": [],
   "source": [
    "import os\n",
    "from pathlib import Path\n",
    "import skimage.external.tifffile as tiff\n",
    "\n",
    "from common import Statistics, dataset_source\n",
    "from resources.conv_learner import *\n",
    "from resources.plots import *\n",
    "from pprint import pprint\n",
    "import matplotlib.pyplot as plt\n",
    "%matplotlib inline"
   ]
  },
  {
   "cell_type": "code",
   "execution_count": 3,
   "metadata": {},
   "outputs": [],
   "source": [
    "PATH = \"datasets/yeast_v10/\"\n",
    "data_path = Path(PATH)"
   ]
  },
  {
   "cell_type": "code",
   "execution_count": 4,
   "metadata": {},
   "outputs": [],
   "source": [
    "CLASSES = ('WT', 'mfb1KO', 'mmr1KO','mmm1KO', 'num1KO','mfb1KO_mmr1KO')\n",
    "NUM_CLASSES = len(CLASSES)\n",
    "BATCH_SIZE = 64\n",
    "SIZE = 200"
   ]
  },
  {
   "cell_type": "code",
   "execution_count": 5,
   "metadata": {
    "scrolled": true
   },
   "outputs": [
    {
     "name": "stdout",
     "output_type": "stream",
     "text": [
      "working on: datasets\\yeast_v10\\train\\01_mfb1KO\n",
      "working on: datasets\\yeast_v10\\val\\01_mfb1KO\n",
      "working on: datasets\\yeast_v10\\train\\01_mmm1KO\n",
      "working on: datasets\\yeast_v10\\val\\01_mmm1KO\n",
      "working on: datasets\\yeast_v10\\train\\01_mmr1KO\n",
      "working on: datasets\\yeast_v10\\val\\01_mmr1KO\n",
      "working on: datasets\\yeast_v10\\train\\01_num1KO\n",
      "working on: datasets\\yeast_v10\\val\\01_num1KO\n",
      "working on: datasets\\yeast_v10\\train\\01_WT\n",
      "working on: datasets\\yeast_v10\\val\\01_WT\n",
      "working on: datasets\\yeast_v10\\train\\02_mfb1KO\n",
      "working on: datasets\\yeast_v10\\val\\02_mfb1KO\n",
      "working on: datasets\\yeast_v10\\train\\02_mmr1KO\n",
      "working on: datasets\\yeast_v10\\val\\02_mmr1KO\n",
      "working on: datasets\\yeast_v10\\train\\02_mmr1KO-mfb1KO\n",
      "working on: datasets\\yeast_v10\\val\\02_mmr1KO-mfb1KO\n",
      "working on: datasets\\yeast_v10\\train\\02_WT\n",
      "working on: datasets\\yeast_v10\\val\\02_WT\n",
      "working on: datasets\\yeast_v10\\train\\03_dnm1KO\n",
      "working on: datasets\\yeast_v10\\val\\03_dnm1KO\n",
      "working on: datasets\\yeast_v10\\train\\03_fzo1KO\n",
      "working on: datasets\\yeast_v10\\val\\03_fzo1KO\n",
      "working on: datasets\\yeast_v10\\train\\03_H2O2\n",
      "working on: datasets\\yeast_v10\\val\\03_H2O2\n",
      "working on: datasets\\yeast_v10\\train\\03_WT\n",
      "working on: datasets\\yeast_v10\\val\\03_WT\n"
     ]
    }
   ],
   "source": [
    "# stats_name = \"yeast_v5.3_per_class.dict\"\n",
    "classes = Statistics.source_class(data_path)\n",
    "\n",
    "train_val = zip(classes['train'], classes['val'])\n",
    "# Xtest = zip(classes['test'])\n",
    " \n",
    "main_stats = Statistics.per_class(train_val, inspect = False)\n",
    "# test_stats = Statistics.per_class(Xtest, save_name=stats_name)"
   ]
  },
  {
   "cell_type": "code",
   "execution_count": 6,
   "metadata": {
    "scrolled": true
   },
   "outputs": [
    {
     "name": "stdout",
     "output_type": "stream",
     "text": [
      "01_mfb1KO: \t \t \t (array([0.02111, 0.00453]), array([0.00149, 0.00161]))\n",
      "01_mmm1KO: \t \t \t (array([0.02102, 0.00424]), array([0.00149, 0.00183]))\n",
      "01_mmr1KO: \t \t \t (array([0.02115, 0.00486]), array([0.00157, 0.00194]))\n",
      "01_num1KO: \t \t \t (array([0.02098, 0.005  ]), array([0.00153, 0.00209]))\n",
      "01_WT: \t \t \t (array([0.0211, 0.0045]), array([0.00149, 0.00129]))\n",
      "02_mfb1KO: \t \t \t (array([0.00794, 0.00484]), array([0.00075, 0.00163]))\n",
      "02_mmr1KO: \t \t \t (array([0.00799, 0.00503]), array([0.0008 , 0.00186]))\n",
      "02_mmr1KO-mfb1KO: \t \t \t (array([0.00791, 0.00489]), array([0.00073, 0.00162]))\n",
      "02_WT: \t \t \t (array([0.00796, 0.00478]), array([0.00075, 0.00149]))\n",
      "03_dnm1KO: \t \t \t (array([0.02515, 0.00477]), array([0.0025 , 0.00192]))\n",
      "03_fzo1KO: \t \t \t (array([0.02517, 0.0047 ]), array([0.00202, 0.00202]))\n",
      "03_H2O2: \t \t \t (array([0.02574, 0.00364]), array([0.00221, 0.00018]))\n",
      "03_WT: \t \t \t (array([0.02536, 0.00459]), array([0.00255, 0.00147]))\n"
     ]
    }
   ],
   "source": [
    "for keys in main_stats.keys():\n",
    "    print(f\"{keys}: \\t \\t \\t {main_stats[keys]}\")"
   ]
  },
  {
   "cell_type": "code",
   "execution_count": null,
   "metadata": {},
   "outputs": [],
   "source": [
    "print(main_stats['01_WT'])"
   ]
  },
  {
   "cell_type": "markdown",
   "metadata": {},
   "source": [
    "# Bug in balancing batch composition:"
   ]
  },
  {
   "cell_type": "code",
   "execution_count": null,
   "metadata": {},
   "outputs": [],
   "source": [
    "wgths = to_np(data.trn_dl.sampler.weights) #__dict__.keys()\n",
    "ws = dict.fromkeys(list(wgths)).keys()\n",
    "list(ws)[0] /sum(ws)\n",
    "print(set(wgths))"
   ]
  },
  {
   "cell_type": "code",
   "execution_count": null,
   "metadata": {},
   "outputs": [],
   "source": [
    "#raw code from dataset.compute_adjusted_weights()\n",
    "\n",
    "dataset = data.trn_dl.dataset.y\n",
    "\n",
    "\n",
    "weights = np.zeros(len(dataset))\n",
    "labels = list(set(dataset))\n",
    "occurrences = np.bincount(dataset)\n",
    "probs = [100 * count/sum(occurrences) for count in occurrences]\n",
    "\n",
    "for idx, label in enumerate(labels):\n",
    "    weights[dataset == label] = probs[idx] / occurrences[idx]\n",
    "desired = 100 / len(labels) # desired probability per class\n",
    "\n",
    "\n",
    "for idx, prob in enumerate(probs):\n",
    "    delta = desired - prob # unlikely to be 0\n",
    "    correction = delta / occurrences[idx]\n",
    "    weights[dataset == labels[idx]] += correction"
   ]
  },
  {
   "cell_type": "code",
   "execution_count": null,
   "metadata": {},
   "outputs": [],
   "source": [
    "print(sorted(set(probs), reverse = True))\n",
    "print(desired)\n",
    "# print(weights)\n",
    "print(occurrences)\n",
    "print(labels)\n",
    "print(delta)\n",
    "print(correction)\n",
    "print(sorted(set(weights)))"
   ]
  },
  {
   "cell_type": "code",
   "execution_count": null,
   "metadata": {},
   "outputs": [],
   "source": [
    "def analyze_batch_composition():\n",
    "    \n",
    "    bat_ = iter(data.trn_dl)\n",
    "\n",
    "    for i in range(len(data.trn_dl)):\n",
    "        x, y = next(bat_)\n",
    "        ys = np.array([list(to_np(y)).count(j) for j in range(NUM_CLASSES)])\n",
    "        print\n",
    "        if i == 0:\n",
    "            bys = ys\n",
    "        else:\n",
    "            bys = np.vstack((bys, ys))\n",
    "\n",
    "    means = np.mean(bys, axis = 0)/64\n",
    "    print(means)"
   ]
  },
  {
   "cell_type": "code",
   "execution_count": null,
   "metadata": {},
   "outputs": [],
   "source": [
    "analyze_batch_composition()"
   ]
  },
  {
   "cell_type": "markdown",
   "metadata": {},
   "source": [
    "# Analyzing and visualizing inference results:"
   ]
  },
  {
   "cell_type": "code",
   "execution_count": 1,
   "metadata": {},
   "outputs": [],
   "source": [
    "# Need to define and warm-up model..."
   ]
  },
  {
   "cell_type": "code",
   "execution_count": null,
   "metadata": {},
   "outputs": [],
   "source": [
    "test_log_preds, targs = learn.predict_with_targs(is_test=True)\n",
    "testprobs = np.exp(test_log_preds)\n",
    "preds = np.argmax(testprobs, axis=1)"
   ]
  },
  {
   "cell_type": "code",
   "execution_count": null,
   "metadata": {},
   "outputs": [],
   "source": [
    "_, lbl2idx_, test_lbl2idx_ = ImageClassifierData.prepare_from_path(PATH, val_name='val', bs=64, num_workers=1, test_name='test', test_with_labels=True)"
   ]
  },
  {
   "cell_type": "code",
   "execution_count": null,
   "metadata": {},
   "outputs": [],
   "source": [
    "# make predictions dictionary\n",
    "\n",
    "h = 0\n",
    "preds_dict = {}\n",
    "for i, key in enumerate(test_lbl2idx_.keys()):\n",
    "    l = h\n",
    "    h = h + list(data.test_dl.dataset.src_idx).count(i)\n",
    "    preds_dict[key] = list(preds[l:h])\n",
    "    print(f\"{key} predictions ready ({h - l} elements)\")"
   ]
  },
  {
   "cell_type": "code",
   "execution_count": null,
   "metadata": {},
   "outputs": [],
   "source": [
    "preds_rel = {}\n",
    "for key in preds_dict.keys():\n",
    "    val = {cls: preds_dict[key].count(i)/len(preds_dict[key]) for i, cls in enumerate(data.classes)}\n",
    "    preds_rel[key]= val"
   ]
  },
  {
   "cell_type": "code",
   "execution_count": null,
   "metadata": {},
   "outputs": [],
   "source": [
    "def plot_test_preds(targets, preds_rel):\n",
    "    \n",
    "    if not isinstance(targets, list):\n",
    "        targets = [targets]\n",
    "        \n",
    "    x = math.ceil((int(len(targets)) /2)) # dynamic scaling of GridSpec\n",
    "    sz = 4 * x # dynamic scaling of figuresize\n",
    "    \n",
    "    # plotting:\n",
    "    plt.figure(figsize=(12,sz))\n",
    "    gs1 = plt.GridSpec(x,2)\n",
    "    gs1.update(wspace = 0.4)\n",
    "\n",
    "    for i, targ in enumerate(targets):\n",
    "        to_plot = [preds_rel[targ][key] for key in data.classes] # extracting data\n",
    "        ax1 = plt.subplot(gs1[i])\n",
    "        ax1.barh(data.classes, to_plot)\n",
    "        ax1.set_title(targ)\n",
    "        ax1.set_xlim(0,1)\n",
    "    \n",
    "    plt.show()"
   ]
  },
  {
   "cell_type": "code",
   "execution_count": null,
   "metadata": {},
   "outputs": [],
   "source": [
    "test_classes = list(test_lbl2idx_.keys())\n",
    "\n",
    "plot_test_preds(test_classes, preds_rel)\n",
    "# plot_test_preds(['01_WT', '03_WT', '03_fzo1KO', '01_mfb1KO'], preds_rel)"
   ]
  },
  {
   "cell_type": "markdown",
   "metadata": {},
   "source": [
    "# Plotting means of dataset"
   ]
  },
  {
   "cell_type": "code",
   "execution_count": 7,
   "metadata": {},
   "outputs": [],
   "source": [
    "def source_classX(root_path: Path):\n",
    "    folders = {}\n",
    "    for ds in root_path.iterdir(): # train, test, val\n",
    "        if any(sub in str(ds) for sub in ['test', 'train', 'val']):\n",
    "            folders[ds.name] = [dir_ for dir_ in ds.iterdir()]\n",
    "    return folders"
   ]
  },
  {
   "cell_type": "code",
   "execution_count": null,
   "metadata": {
    "scrolled": true
   },
   "outputs": [],
   "source": [
    "inspect = True\n",
    "\n",
    "src_folders = source_classX(data_path)\n",
    "zipped = zip(src_folders['train'], src_folders['val'])\n",
    "\n",
    "norm_value=65536\n",
    "stats = {}\n",
    "\n",
    "for t in zipped:\n",
    "    class_images = []\n",
    "    class_stats = []\n",
    "    \n",
    "    for class_dir in t: # t is a tuple\n",
    "        class_name = class_dir.name\n",
    "        \n",
    "        # read from each dir and append to the images\n",
    "        for file in class_dir.iterdir():\n",
    "            image = tiff.imread(str(file))\n",
    "            class_images.append(image)\n",
    "\n",
    "        # print(f\"working on: {class_name}\")\n",
    "#         print(f\"working on: {class_dir}\")\n",
    "        print(len(class_images))\n",
    "\n",
    "        if inspect is False:\n",
    "            mean = np.mean(class_images, axis=(0, 2, 3)) / norm_value\n",
    "            stdev = np.std(class_images, axis=(0, 2, 3)) / norm_value\n",
    "        else:\n",
    "            mean = np.mean(class_images, axis=(2, 3)) #/ norm_value\n",
    "            stdev = np.std(class_images, axis=(2, 3)) #/ norm_value \n",
    "\n",
    "        stats[class_name] = (mean, stdev)"
   ]
  },
  {
   "cell_type": "code",
   "execution_count": 54,
   "metadata": {
    "scrolled": false
   },
   "outputs": [
    {
     "data": {
      "image/png": "[encoded data removed]",
      "text/plain": [
       "<Figure size 432x288 with 1 Axes>"
      ]
     },
     "metadata": {},
     "output_type": "display_data"
    }
   ],
   "source": [
    "# d = [key.split('_')[0] for key in stats.keys()]\n",
    "# ds = list(dict.fromkeys(d))\n",
    "ims_means = {key: stats[key][0] for key in stats.keys()}\n",
    "ims_means_scaled = {key: (((ims_means[key] / norm_value) - main_stats[key][0]) / main_stats[key][1]) for key in ims_means.keys()}\n",
    "\n",
    "ims_to_plot = ims_means_scaled\n",
    "\n",
    "plt.style.use('seaborn-whitegrid')\n",
    "fig = plt.figure()\n",
    "ax = plt.subplot(111)\n",
    "\n",
    "for k in stats.keys():\n",
    "    if '01' in k:\n",
    "        ax.plot(ims_to_plot[k][:,0], ims_to_plot[k][:,1], 'o', label=k, color = 'C0', alpha = 0.2)\n",
    "    elif '02' in k:\n",
    "        ax.plot(ims_to_plot[k][:,0], ims_to_plot[k][:,1], 'o', label=k, color = 'C1', alpha = 0.2)\n",
    "    elif '03' in k:\n",
    "        ax.plot(ims_to_plot[k][:,0], ims_to_plot[k][:,1], 'o', label=k, color = 'C2', alpha = 0.2)\n",
    "        \n",
    "# box = ax.get_position()\n",
    "# ax.set_position([box.x0, box.y0, box.width * 0.8, box.height])\n",
    "ax.legend(loc='center left', bbox_to_anchor=(1, 0.5))\n",
    "\n",
    "plt.xlabel('Mean DIC intensity')\n",
    "plt.ylabel('Mean Cit1-mCherry intensity');\n",
    "# plt.xlim(0,1750)\n",
    "# plt.ylim(0,550);\n",
    "# plt.legend(fancybox=True, frameon=True, loc='lower center', ncol=2);"
   ]
  },
  {
   "cell_type": "code",
   "execution_count": null,
   "metadata": {},
   "outputs": [],
   "source": [
    "ims_means = {key: stats[key][0] for key in stats.keys()}\n",
    "# ims_means_scaledX = {x: (((ims_means[x] / norm_value) - main_stats[x][0]) / main_stats[x][1]) for x in im_means.keys()}"
   ]
  },
  {
   "cell_type": "code",
   "execution_count": null,
   "metadata": {},
   "outputs": [],
   "source": [
    "dude = ((ims_means['03_dnm1KO'] / norm_value) - main_stats['03_dnm1KO'][0]) / main_stats['03_dnm1KO'][1]"
   ]
  },
  {
   "cell_type": "code",
   "execution_count": null,
   "metadata": {
    "scrolled": false
   },
   "outputs": [],
   "source": [
    "plt.style.use('seaborn-whitegrid')\n",
    "d = [key.split('_')[0] for key in stats.keys()]\n",
    "ds = list(dict.fromkeys(d))\n",
    "\n",
    "for k in stats.keys():\n",
    "    if '01' in k:\n",
    "        plt.plot(stats[k][0][:,0], stats[k][0][:,1], 'o', label=k, color = 'C0', alpha = 0.2)\n",
    "    else:\n",
    "        plt.plot(stats[k][0][:,0], stats[k][0][:,1], 'o', label=k, color = 'C1', alpha = 0.2)\n",
    "\n",
    "\n",
    "    plt.xlabel('Mean Cit-mCherry intensity')\n",
    "    plt.ylabel('Mean DIC intensity')\n",
    "    plt.xlim(0,1500)\n",
    "    plt.ylim(0,500)\n",
    "    plt.legend(fancybox=True, frameon=True, loc='lower center', ncol=2)"
   ]
  },
  {
   "cell_type": "markdown",
   "metadata": {},
   "source": [
    "## Allowing normalization according to both dataset (source) and class"
   ]
  },
  {
   "cell_type": "code",
   "execution_count": 28,
   "metadata": {},
   "outputs": [],
   "source": [
    "def read_dirsX(path, folder):\n",
    "    '''\n",
    "    Fetches name of all files in path in long form, and labels associated by extrapolation of directory names. \n",
    "    '''\n",
    "    lbls, fnames, all_lbls = [], [], [] #(!) Need to modify here for z lable\n",
    "    full_path = os.path.join(path, folder)\n",
    "    for lbl in sorted(os.listdir(full_path)):\n",
    "        if lbl not in ('.ipynb_checkpoints', '.DS_Store'):\n",
    "            all_lbls.append(lbl)\n",
    "            for fname in os.listdir(os.path.join(full_path, lbl)):\n",
    "                if fname not in ('.DS_Store'):\n",
    "                    fnames.append(os.path.join(folder, lbl, fname))\n",
    "                    lbls.append(lbl)\n",
    "    return fnames, lbls, all_lbls"
   ]
  },
  {
   "cell_type": "code",
   "execution_count": 25,
   "metadata": {},
   "outputs": [],
   "source": [
    "path = PATH\n",
    "folder = 'val'\n",
    "fnames, lbls, all_lbls = read_dirsX(path, folder)\n",
    "    \n",
    "lbls2classes = {l: l.split('_')[1] for l in all_lbls} # (!) dict mapping lbls (folders) to classes (genotype)\n",
    "u_classes = list(dict.fromkeys(list(lbls2classes.values()))) # (!) get unique classes\n",
    "\n",
    "d = {}\n",
    "if d == {}:\n",
    "    d_cls = {label: idx for idx, label in enumerate(u_classes)}\n",
    "    d_src = {label_: idx_ for idx_, label_ in enumerate(lbls2classes)}\n",
    "    \n",
    "#     for idx, label in enumerate(u_classes):\n",
    "#         d_cls[label] = idx\n",
    "#     for idx_, label_ in enumerate(lbls2classes):\n",
    "#         d_src[label_] = idx_\n",
    "\n",
    "    # (!) populating d with lbls: class, class_idx   \n",
    "    for key, value in lbls2classes.items():\n",
    "        d[key] = [d_src[key], d_cls[value], lbls2classes[key]] \n",
    "\n",
    "src_idxs  = [d[lbl][0] for lbl in lbls] # (!) using d to generate class-lables for each image\n",
    "cls_idxs  = [d[lbl][1] for lbl in lbls] # (!) using d to generate class-lables for each image\n",
    "\n",
    "src_idx_arr = np.array(src_idxs, dtype=int)\n",
    "cls_idx_arr = np.array(cls_idxs, dtype=int)"
   ]
  },
  {
   "cell_type": "code",
   "execution_count": null,
   "metadata": {},
   "outputs": [],
   "source": []
  },
  {
   "cell_type": "code",
   "execution_count": 26,
   "metadata": {},
   "outputs": [
    {
     "data": {
      "text/plain": [
       "(455,)"
      ]
     },
     "execution_count": 26,
     "metadata": {},
     "output_type": "execute_result"
    }
   ],
   "source": [
    "cls_idx_arr.shape"
   ]
  },
  {
   "cell_type": "code",
   "execution_count": 27,
   "metadata": {},
   "outputs": [
    {
     "name": "stdout",
     "output_type": "stream",
     "text": [
      "{'01_WT': [0, 0, 'WT'], '01_mfb1KO': [1, 1, 'mfb1KO'], '01_mmm1KO': [2, 2, 'mmm1KO'], '01_mmr1KO': [3, 3, 'mmr1KO'], '01_num1KO': [4, 4, 'num1KO'], '02_WT': [5, 0, 'WT'], '02_mfb1KO': [6, 1, 'mfb1KO'], '02_mmr1KO': [7, 3, 'mmr1KO'], '02_mmr1KO-mfb1KO': [8, 5, 'mmr1KO-mfb1KO'], '03_H2O2': [9, 6, 'H2O2'], '03_WT': [10, 0, 'WT'], '03_dnm1KO': [11, 7, 'dnm1KO'], '03_fzo1KO': [12, 8, 'fzo1KO']}\n",
      "[ 0  0  0  0  0  0  0  0  0  0  0  0  0  0  0  0  0  0  0  0  0  0  0  0  0  0  0  0  0  0  0  0  0  0  0  1\n",
      "  1  1  1  1  1  1  1  1  1  1  1  1  1  1  1  1  1  1  1  1  1  1  1  1  1  1  1  1  1  1  1  1  1  1  2  2\n",
      "  2  2  2  2  2  2  2  2  2  2  2  2  2  2  2  2  2  2  2  2  2  2  2  2  2  2  2  2  2  2  2  2  2  3  3  3\n",
      "  3  3  3  3  3  3  3  3  3  3  3  3  3  3  3  3  3  3  3  3  3  3  3  3  3  3  3  3  3  3  3  3  4  4  4  4\n",
      "  4  4  4  4  4  4  4  4  4  4  4  4  4  4  4  4  4  4  4  4  4  4  4  4  4  4  4  4  4  4  4  5  5  5  5  5\n",
      "  5  5  5  5  5  5  5  5  5  5  5  5  5  5  5  5  5  5  5  5  5  5  5  5  5  5  5  5  5  5  6  6  6  6  6  6\n",
      "  6  6  6  6  6  6  6  6  6  6  6  6  6  6  6  6  6  6  6  6  6  6  6  6  6  6  6  6  6  7  7  7  7  7  7  7\n",
      "  7  7  7  7  7  7  7  7  7  7  7  7  7  7  7  7  7  7  7  7  7  7  7  7  7  7  7  7  8  8  8  8  8  8  8  8\n",
      "  8  8  8  8  8  8  8  8  8  8  8  8  8  8  8  8  8  8  8  8  8  8  8  8  8  8  8  9  9  9  9  9  9  9  9  9\n",
      "  9  9  9  9  9  9  9  9  9  9  9  9  9  9  9  9  9  9  9  9  9  9  9  9  9  9 10 10 10 10 10 10 10 10 10 10\n",
      " 10 10 10 10 10 10 10 10 10 10 10 10 10 10 10 10 10 10 10 10 10 10 10 10 10 11 11 11 11 11 11 11 11 11 11 11\n",
      " 11 11 11 11 11 11 11 11 11 11 11 11 11 11 11 11 11 11 11 11 11 11 11 11 12 12 12 12 12 12 12 12 12 12 12 12\n",
      " 12 12 12 12 12 12 12 12 12 12 12 12 12 12 12 12 12 12 12 12 12 12 12]\n",
      "[0 0 0 0 0 0 0 0 0 0 0 0 0 0 0 0 0 0 0 0 0 0 0 0 0 0 0 0 0 0 0 0 0 0 0 1 1 1 1 1 1 1 1 1 1 1 1 1 1 1 1 1 1 1\n",
      " 1 1 1 1 1 1 1 1 1 1 1 1 1 1 1 1 2 2 2 2 2 2 2 2 2 2 2 2 2 2 2 2 2 2 2 2 2 2 2 2 2 2 2 2 2 2 2 2 2 2 2 3 3 3\n",
      " 3 3 3 3 3 3 3 3 3 3 3 3 3 3 3 3 3 3 3 3 3 3 3 3 3 3 3 3 3 3 3 3 4 4 4 4 4 4 4 4 4 4 4 4 4 4 4 4 4 4 4 4 4 4\n",
      " 4 4 4 4 4 4 4 4 4 4 4 4 4 0 0 0 0 0 0 0 0 0 0 0 0 0 0 0 0 0 0 0 0 0 0 0 0 0 0 0 0 0 0 0 0 0 0 0 1 1 1 1 1 1\n",
      " 1 1 1 1 1 1 1 1 1 1 1 1 1 1 1 1 1 1 1 1 1 1 1 1 1 1 1 1 1 3 3 3 3 3 3 3 3 3 3 3 3 3 3 3 3 3 3 3 3 3 3 3 3 3\n",
      " 3 3 3 3 3 3 3 3 3 3 5 5 5 5 5 5 5 5 5 5 5 5 5 5 5 5 5 5 5 5 5 5 5 5 5 5 5 5 5 5 5 5 5 5 5 6 6 6 6 6 6 6 6 6\n",
      " 6 6 6 6 6 6 6 6 6 6 6 6 6 6 6 6 6 6 6 6 6 6 6 6 6 6 0 0 0 0 0 0 0 0 0 0 0 0 0 0 0 0 0 0 0 0 0 0 0 0 0 0 0 0\n",
      " 0 0 0 0 0 0 0 7 7 7 7 7 7 7 7 7 7 7 7 7 7 7 7 7 7 7 7 7 7 7 7 7 7 7 7 7 7 7 7 7 7 7 8 8 8 8 8 8 8 8 8 8 8 8\n",
      " 8 8 8 8 8 8 8 8 8 8 8 8 8 8 8 8 8 8 8 8 8 8 8]\n"
     ]
    }
   ],
   "source": [
    "print(d)\n",
    "print(src_idx_arr)\n",
    "print(cls_idx_arr)"
   ]
  },
  {
   "cell_type": "code",
   "execution_count": null,
   "metadata": {},
   "outputs": [],
   "source": [
    "lbl2indexX = {}\n",
    "trnX = folder_sourceX(PATH, 'val', lbl2indexX)"
   ]
  },
  {
   "cell_type": "code",
   "execution_count": 29,
   "metadata": {},
   "outputs": [],
   "source": [
    "def folder_sourceX(path, folder, d):\n",
    "    \"\"\"\n",
    "    Returns the filenames and labels for a folder within a path\n",
    "    (!) Modified to accomodate multiple source folders for a single class e.g. WT from Experiment 01 and 02\n",
    "\n",
    "    Returns:\n",
    "    -------\n",
    "    fnames: a list of the filenames within `folder`\n",
    "    cls_idx_arr: a numpy array of the label indices in `u_classes` (indices per unique classes)\n",
    "    u_classes: a list of unique classes (e.g. genotypes) present in all_lbls\n",
    "    src_idx_arr: a numpy array of the label indices in 'all_lbls' (indices per labels in 'folder'), useful for normalization.\n",
    "    all_lbls: a list of all of the labels in `folder`, where the # of labels is determined by the # of directories within `folder`\n",
    "    \n",
    "    \"\"\"\n",
    "    fnames, lbls, all_lbls = read_dirsX(path, folder)\n",
    "    \n",
    "    lbls2classes = {l: l.split('_')[1] for l in all_lbls} # (!) dict mapping lbls (folders) to classes (genotype)\n",
    "    u_classes = list(dict.fromkeys(list(lbls2classes.values()))) # (!) get unique classes\n",
    "    \n",
    "    if d == {}:\n",
    "        d_cls = {label: idx for idx, label in enumerate(u_classes)}\n",
    "        d_src = {label_: idx_ for idx_, label_ in enumerate(all_lbls)}\n",
    "\n",
    "        # (!) populating d with lbls: class, class_idx   \n",
    "        for key, value in lbls2classes.items():\n",
    "            d[key] = [d_src[key], d_cls[value], lbls2classes[key]]\n",
    "\n",
    "    src_idxs  = [d[lbl][0] for lbl in lbls] # (!) using d to generate class-lables for each image\n",
    "    cls_idxs  = [d[lbl][1] for lbl in lbls] # (!) using d to generate source-lables (which dataset) for each image\n",
    "\n",
    "    src_idx_arr = np.array(src_idxs, dtype=int)\n",
    "    cls_idx_arr = np.array(cls_idxs, dtype=int)\n",
    "    \n",
    "    # temp = [idxs.index(i) for i in range(len(all_lbls))]\n",
    "    # for ii in temp: print(f\"{idxs[ii]} maps to {fnames[ii]}\")\n",
    "    \n",
    "    return fnames, cls_idx_arr, u_classes, src_idx_arr, all_lbls"
   ]
  },
  {
   "cell_type": "code",
   "execution_count": 38,
   "metadata": {},
   "outputs": [],
   "source": [
    "PATH = \"datasets/yeast_v10.1/\"\n",
    "data_path = Path(PATH)"
   ]
  },
  {
   "cell_type": "code",
   "execution_count": 42,
   "metadata": {},
   "outputs": [],
   "source": [
    "lbl2indexX = {}\n",
    "trnX = folder_sourceX(PATH, 'test', lbl2indexX)"
   ]
  },
  {
   "cell_type": "code",
   "execution_count": 52,
   "metadata": {},
   "outputs": [
    {
     "data": {
      "text/plain": [
       "True"
      ]
     },
     "execution_count": 52,
     "metadata": {},
     "output_type": "execute_result"
    }
   ],
   "source": [
    "isinstance(trnX, tuple)"
   ]
  },
  {
   "cell_type": "code",
   "execution_count": null,
   "metadata": {},
   "outputs": [],
   "source": []
  },
  {
   "cell_type": "markdown",
   "metadata": {},
   "source": [
    "## data_inspect with data_loader"
   ]
  },
  {
   "cell_type": "code",
   "execution_count": 3,
   "metadata": {},
   "outputs": [],
   "source": [
    "dl_ = data.trn_dl\n",
    "batch_ = iter(dl_)\n",
    "\n",
    "\n",
    "plt.style.use('seaborn-whitegrid')\n",
    "fig = plt.figure()\n",
    "ax = plt.subplot(111)\n",
    "\n",
    "for b in range(0,len(dl)):\n",
    "    x_, y_ = next(batch_)\n",
    "    \n",
    "#     x_np = x_.cpu().numpy()\n",
    "#     y_np = y.cpu().numpy().copy()\n",
    "\n",
    "    x_np = to_np(x_)\n",
    "    y_np = to_np(y_)\n",
    "    \n",
    "    im_means = np.mean(x_np, axis=(2,3))\n",
    "    \n",
    "    ax.plot(im_means[:,0], im_means[:,1], 'o', color = 'C1' , alpha=0.5)"
   ]
  }
 ],
 "metadata": {
  "kernelspec": {
   "display_name": "Python 3",
   "language": "python",
   "name": "python3"
  },
  "language_info": {
   "codemirror_mode": {
    "name": "ipython",
    "version": 3
   },
   "file_extension": ".py",
   "mimetype": "text/x-python",
   "name": "python",
   "nbconvert_exporter": "python",
   "pygments_lexer": "ipython3",
   "version": "3.6.5"
  }
 },
 "nbformat": 4,
 "nbformat_minor": 2
}
