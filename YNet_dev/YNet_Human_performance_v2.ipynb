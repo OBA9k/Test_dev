{
 "cells": [
  {
   "cell_type": "markdown",
   "metadata": {},
   "source": [
    "## Nb to establish expert level human performance on classifying YNet yeast data.\n",
    "\n"
   ]
  },
  {
   "cell_type": "code",
   "execution_count": 1,
   "metadata": {},
   "outputs": [],
   "source": [
    "%matplotlib inline\n",
    "%reload_ext autoreload\n",
    "%autoreload 2"
   ]
  },
  {
   "cell_type": "code",
   "execution_count": 2,
   "metadata": {},
   "outputs": [],
   "source": [
    "import os\n",
    "from pathlib import Path\n",
    "import skimage.external.tifffile as tiff\n",
    "from common import Statistics, dataset_source\n",
    "from resources.conv_learner import *\n",
    "from resources.plots import *\n",
    "%matplotlib inline"
   ]
  },
  {
   "cell_type": "code",
   "execution_count": 3,
   "metadata": {},
   "outputs": [],
   "source": [
    "def tfms_for_test(sz):\n",
    "    test_norm = Normalize(stats=None, IntNorm=True)\n",
    "    test_denorm = None\n",
    "    val_crop = CropType.NO\n",
    "    test_tfms = image_gen(test_norm, test_denorm,sz, crop_type=val_crop)\n",
    "    return test_tfms"
   ]
  },
  {
   "cell_type": "code",
   "execution_count": 4,
   "metadata": {},
   "outputs": [],
   "source": [
    "def get_data(path: str, sz, bs): # , num_workers=1\n",
    "    create, lbl2index, lbl2index_test = ImageClassifierData.prepare_from_path(path, val_name='val', bs=bs, num_workers = 8,                                                                            \n",
    "                                                                             balance=True)\n",
    "    augs = [RandomDihedral(),\n",
    "            RandomRotate(90),\n",
    "           ]\n",
    "    \n",
    "    tfms = tfms_with_IntNorm(sz, aug_tfms=augs, crop_type=CropType.CENTER, pad=sz[1]//8)\n",
    "    test_tfms = tfms_for_test(sz)\n",
    "    tfms += (test_tfms, )\n",
    "    \n",
    "    return create(tfms), lbl2index, lbl2index_test"
   ]
  },
  {
   "cell_type": "code",
   "execution_count": 5,
   "metadata": {},
   "outputs": [],
   "source": [
    "# CLASSES = ('WT', 'mfb1KO', 'mmr1KO', 'mmm1KO', 'num1KO','LatA-5uM','CK666', 'fzo1KO', 'dnm1KO')"
   ]
  },
  {
   "cell_type": "code",
   "execution_count": 6,
   "metadata": {
    "scrolled": true
   },
   "outputs": [
    {
     "name": "stdout",
     "output_type": "stream",
     "text": [
      "Internal Normalization\n",
      "val_crop is: 2\n",
      "Internal Normalization\n",
      "Using WeightedRandomSampler\n"
     ]
    }
   ],
   "source": [
    "bs = 64\n",
    "sz = [2,224,224]\n",
    "path = \"datasets/yeast_v11.3_manual/\"\n",
    "\n",
    "data, lbl2idx, lbl2idx_test = get_data(path,sz,bs)\n",
    "\n",
    "# generate dict for manual annotation\n",
    "lbl2index = {value[2]: value[1] for key, value in lbl2idx.items()}"
   ]
  },
  {
   "cell_type": "code",
   "execution_count": 58,
   "metadata": {},
   "outputs": [],
   "source": [
    "import pandas as pd\n",
    "import matplotlib.pyplot as plt\n",
    "from ipywidgets import *\n",
    "from IPython.display import display\n",
    "from IPython.display import clear_output\n",
    "\n",
    "from sklearn.metrics import classification_report\n",
    "from sklearn.metrics import accuracy_score\n",
    "\n",
    "def plot_acc_curve(preds, targs):\n",
    "#     print(f\"preds: {len(preds)},targets: {len(targs)}\")\n",
    "    acc_curve = [sum(preds[:i + 5] == np.asarray(targs[:i + 5])) / (i + 5) for i in range(len(targs) - 5)]\n",
    "    plt.plot(acc_curve)\n",
    "    \n",
    "    \n",
    "def on_button_clicked(pred):\n",
    "    \n",
    "    # converting to str and parsing to get description of the button clicked.\n",
    "    _, cls, _ = str(pred).split(\"'\")\n",
    "    \n",
    "    global idx\n",
    "    global x\n",
    "    global y\n",
    "    global targs\n",
    "    global preds\n",
    "    global clss\n",
    "    \n",
    "    \n",
    "    clear_output()\n",
    "    \n",
    "    if cls == 'Exit':\n",
    "        print('Saving results...')\n",
    "        df = pd.DataFrame({'predictions': preds, 'targets': targs}, columns=['predictions', 'targets'])\n",
    "        if os.path.isfile(res_path + '.csv'): \n",
    "            m = 'a'\n",
    "            print('appending...')\n",
    "        else: m = 'w'\n",
    "        df.to_csv(res_path + '.csv', index=False, mode=m)\n",
    "        print(f\"Results saved to {res_path}\")\n",
    "        print('evaluation...')\n",
    "        \n",
    "        plot_acc_curve(preds, targs)\n",
    "        cm = confusion_matrix(targs,preds)\n",
    "        plot_confusion_matrix(cm, data.classes)\n",
    "        print(accuracy_score(preds, targs))\n",
    "        print(classification_report(preds, targs, target_names=data.classes))     \n",
    "       \n",
    "    else:\n",
    "        for c in clss:\n",
    "            buttons = widgets.Button(description=c)\n",
    "            buttons.on_click(on_button_clicked)\n",
    "            display(buttons)\n",
    "\n",
    "        preds.append(lbl2index[cls])\n",
    "        targs.append(y[idx])\n",
    "        \n",
    "        if idx == (data.bs - 1):\n",
    "            print('new Batch!')\n",
    "            idx = 0\n",
    "            x, y = next(iter(data.trn_dl)) \n",
    "            xx = x[idx].cpu().numpy().copy()\n",
    "            plt.imshow(np.sum(xx, axis=0))\n",
    "\n",
    "        else:\n",
    "            idx = idx + 1\n",
    "            # loading it from GPU to CPU\n",
    "            xx = x[idx].cpu().numpy().copy()\n",
    "            yy = y[idx]\n",
    "            plt.imshow(np.sum(xx, axis=0))\n",
    "\n",
    "\n",
    "        print(f\"{preds[-1] == targs[-1]} prediction!\")\n",
    "        print(f\"human-level accuracy: [{sum((np.asarray(preds)) == (np.asarray(targs))) / len(targs):4.4}]\")\n",
    "        \n",
    "def manual_preds(save_path, investigator, loaded_preds = None, loaded_targs = None):    \n",
    "    \n",
    "    \n",
    "#     from IPython.display import clear_output\n",
    "    \n",
    "    global idx\n",
    "    global preds\n",
    "    global targs\n",
    "    global clss\n",
    "    global res_path\n",
    "    \n",
    "    res_path = save_path + investigator\n",
    "\n",
    "    if loaded_preds is not None and loaded_targs is not None:\n",
    "        preds = loaded_preds\n",
    "        targs = loaded_targs\n",
    "        print(f\"loaded...\")\n",
    "        print(f\"current human-level accuracy: [{sum((np.asarray(preds)) == (np.asarray(targs))) / len(targs):4.4}]\")\n",
    "        print(\"continuing with new batch\")\n",
    "    else:\n",
    "        preds = []\n",
    "        targs = []\n",
    "        print(\"no previous results loaded - fresh start\")\n",
    "        \n",
    "    idx = 0\n",
    "    clss = list(lbl2index.keys())\n",
    "    clss.append('Exit')\n",
    "\n",
    "    # creating buttons\n",
    "    for c in clss:\n",
    "        buttons = widgets.Button(description=c)\n",
    "        buttons.on_click(on_button_clicked)\n",
    "        display(buttons)\n",
    "    \n",
    "    # load first image:\n",
    "    xx = x[idx].cpu().numpy().copy()\n",
    "    yy = y[idx]\n",
    "    plt.imshow(np.sum(xx, axis=0))"
   ]
  },
  {
   "cell_type": "code",
   "execution_count": 49,
   "metadata": {},
   "outputs": [],
   "source": [
    "x, y = next(iter(data.trn_dl)) "
   ]
  },
  {
   "cell_type": "code",
   "execution_count": 63,
   "metadata": {},
   "outputs": [
    {
     "name": "stdout",
     "output_type": "stream",
     "text": [
      "Saving results...\n",
      "appending...\n",
      "Results saved to datasets/yeast_v11.3_manual/manual_predictions_WP\n",
      "evaluation...\n",
      "preds: 204,targets: 204\n",
      "0.46568627450980393\n",
      "             precision    recall  f1-score   support\n",
      "\n",
      "     mmm1KO       0.72      0.74      0.73        31\n",
      "     num1KO       0.19      0.25      0.22        24\n",
      "         WT       0.59      0.65      0.62        26\n",
      "     mfb1KO       0.60      0.29      0.39        42\n",
      "     mmr1KO       0.58      0.45      0.51        33\n",
      "     dnm1KO       0.39      0.46      0.42        26\n",
      "     fzo1KO       0.29      0.45      0.35        22\n",
      "\n",
      "avg / total       0.50      0.47      0.47       204\n",
      "\n"
     ]
    },
    {
     "data": {
      "image/png": "[encoded data removed]",
      "text/plain": [
       "<Figure size 432x288 with 1 Axes>"
      ]
     },
     "metadata": {},
     "output_type": "display_data"
    },
    {
     "data": {
      "image/png": "[encoded data removed]",
      "text/plain": [
       "<Figure size 432x288 with 2 Axes>"
      ]
     },
     "metadata": {},
     "output_type": "display_data"
    }
   ],
   "source": [
    "save_path = 'datasets/yeast_v11.3_manual/manual_predictions_'\n",
    "investigator = 'WP'\n",
    "\n",
    "manual_preds(save_path, investigator)"
   ]
  },
  {
   "cell_type": "code",
   "execution_count": 62,
   "metadata": {},
   "outputs": [],
   "source": [
    "# df = pd.read_csv('datasets/yeast_v11.3_manual/manual_predictions_WP.csv')\n",
    "# load_preds = list(df['predictions'])[1:]\n",
    "# load_targs = list(df['targets'])[1:]"
   ]
  },
  {
   "cell_type": "code",
   "execution_count": null,
   "metadata": {},
   "outputs": [],
   "source": [
    "# save_path = 'datasets/yeast_v11.3_manual/manual_predictions_'\n",
    "# investigator = 'WP'\n",
    "\n",
    "# manual_preds(save_path, investigator, load_preds, load_targs)"
   ]
  }
 ],
 "metadata": {
  "kernelspec": {
   "display_name": "Python 3",
   "language": "python",
   "name": "python3"
  },
  "language_info": {
   "codemirror_mode": {
    "name": "ipython",
    "version": 3
   },
   "file_extension": ".py",
   "mimetype": "text/x-python",
   "name": "python",
   "nbconvert_exporter": "python",
   "pygments_lexer": "ipython3",
   "version": "3.6.5"
  }
 },
 "nbformat": 4,
 "nbformat_minor": 2
}
