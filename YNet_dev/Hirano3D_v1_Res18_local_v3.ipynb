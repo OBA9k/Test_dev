{
 "cells": [
  {
   "cell_type": "code",
   "execution_count": 1,
   "metadata": {},
   "outputs": [],
   "source": [
    "# %matplotlib inline\n",
    "%reload_ext autoreload\n",
    "%autoreload 2"
   ]
  },
  {
   "cell_type": "code",
   "execution_count": 2,
   "metadata": {},
   "outputs": [],
   "source": [
    "import os\n",
    "from pathlib import Path\n",
    "import skimage.external.tifffile as tiff\n",
    "\n",
    "from common import Statistics, dataset_source\n",
    "from resources.conv_learner import *\n",
    "from resources.plots import *\n",
    "from pprint import pprint\n",
    "import matplotlib.pyplot as plt\n",
    "%matplotlib inline"
   ]
  },
  {
   "cell_type": "code",
   "execution_count": 3,
   "metadata": {},
   "outputs": [],
   "source": [
    "path = \"datasets/Hirano3D/\"\n",
    "# data_path = Path(PATH)"
   ]
  },
  {
   "cell_type": "code",
   "execution_count": 4,
   "metadata": {},
   "outputs": [],
   "source": [
    "NUM_CLASSES = 4\n",
    "bs = 64\n",
    "sz = [4,224,224]"
   ]
  },
  {
   "cell_type": "code",
   "execution_count": 5,
   "metadata": {},
   "outputs": [],
   "source": [
    "_clss = {'NM17-002': 0,\n",
    "         'Ctrl-AK': 0,\n",
    "         'GUK1-D': 1, \n",
    "         'GUK1-R': 1,\n",
    "         'MFN2-1': 2,\n",
    "         'VCP-1': 3}"
   ]
  },
  {
   "cell_type": "markdown",
   "metadata": {},
   "source": [
    "#### CV generation via sklearn, Multilabel implementation by trent-b, or FastAi\n",
    "\n",
    "Both libraries seem to be completely useless... can just use native fastai function: get_cv_idxs().<br>\n",
    "However, get_cv_idxs() does NOT shuffle...!"
   ]
  },
  {
   "cell_type": "code",
   "execution_count": 7,
   "metadata": {},
   "outputs": [],
   "source": [
    "from sklearn.model_selection import StratifiedShuffleSplit\n",
    "\n",
    "def get_label_stratified_CV_idxs2(csv_path):\n",
    "    \n",
    "    _all_labels = pd.read_csv(csv_path)\n",
    "    arr = _all_labels.values\n",
    "\n",
    "    X = arr[:,0]\n",
    "    y = arr[:,1:]\n",
    "    \n",
    "    ### sklearn.model_selection.StratifiedKFold\n",
    "    sss = StratifiedShuffleSplit(n_splits=1, test_size=0.2, random_state=0)\n",
    "    \n",
    "    for train_index, val_index in sss.split(X, y):\n",
    "        trn_idxs = train_index\n",
    "        val_idxs = val_index\n",
    "    \n",
    "    print(f\"\"\"Train label-distribution:\\n\"\"\"\n",
    "          f\"\"\"{pd.Series(arr[:,1][trn_idxs]).value_counts()}\"\"\")\n",
    "    print(f\"\"\"Val label-distribution:\\n\"\"\"\n",
    "          f\"\"\"{pd.Series(arr[:,1][val_idxs]).value_counts()}\"\"\")\n",
    "    \n",
    "    return trn_idxs, val_idxs\n",
    "\n",
    "\n",
    "from iterstrat.ml_stratifiers import MultilabelStratifiedShuffleSplit\n",
    "\n",
    "def get_label_stratified_CV_idxs(csv_path):\n",
    "    \n",
    "    _all_labels = pd.read_csv(csv_path)\n",
    "#     _all_labels['fake'] = pd.Series(np.zeros(len(_all_labels), dtype=int)) #need fake secondary-label column\n",
    "    _all_labels['fake'] = _all_labels.Targets.copy() #need fake secondary-label column\n",
    "    arr = _all_labels.values\n",
    "\n",
    "    X = arr[:,0]\n",
    "    y = arr[:,1:]\n",
    "    \n",
    "    ### Iterative stratification library: https://github.com/trent-b/iterative-stratification\n",
    "    msss = MultilabelStratifiedShuffleSplit(n_splits=1, test_size=0.1, random_state=42)\n",
    "    \n",
    "    for train_index, val_index in msss.split(X, y):\n",
    "        trn_idxs = train_index\n",
    "        val_idxs = val_index\n",
    "    \n",
    "    print(f\"\"\"Train label-distribution:\\n\"\"\"\n",
    "          f\"\"\"{pd.Series(arr[:,1][trn_idxs]).value_counts()}\"\"\")\n",
    "    print(f\"\"\"Val label-distribution:\\n\"\"\"\n",
    "          f\"\"\"{pd.Series(arr[:,1][val_idxs]).value_counts()}\"\"\")\n",
    "    \n",
    "    return trn_idxs, val_idxs"
   ]
  },
  {
   "cell_type": "code",
   "execution_count": 8,
   "metadata": {},
   "outputs": [
    {
     "name": "stdout",
     "output_type": "stream",
     "text": [
      "Train label-distribution:\n",
      "0    216\n",
      "1    163\n",
      "2    161\n",
      "3    124\n",
      "dtype: int64\n",
      "Val label-distribution:\n",
      "0    54\n",
      "1    41\n",
      "2    40\n",
      "3    31\n",
      "dtype: int64\n"
     ]
    }
   ],
   "source": [
    "### used atm...\n",
    "csv_path = path + '16bit_multi_folder_Hirano3D_v1.csv'\n",
    "trn_idxs, val_idxs = get_label_stratified_CV_idxs2(csv_path)"
   ]
  },
  {
   "cell_type": "code",
   "execution_count": null,
   "metadata": {
    "scrolled": true
   },
   "outputs": [],
   "source": [
    "# csv_path = path + 'multi_folder_Hirano3D_02.csv'\n",
    "# trn_idxs, val_idxs = get_label_stratified_CV_idxs(csv_path)"
   ]
  },
  {
   "cell_type": "code",
   "execution_count": null,
   "metadata": {
    "scrolled": true
   },
   "outputs": [],
   "source": [
    "# setting up a list of a random 20% of images in train as the validation set\n",
    "\n",
    "# lbl_csv = path + 'multi_folder_Hirano3D_02.csv'\n",
    "# n = len(list(open(lbl_csv))) -1\n",
    "# val_idxs = get_cv_idxs(n, val_pct=0.2)\n",
    "\n",
    "\n",
    "# # Count labels\n",
    "# # _all_labels = pd.read_csv(PATH + 'multi_folder_Hirano3D_02.csv')\n",
    "# # print(_all_labels.Targets.value_counts())\n",
    "\n",
    "# _arr = _all_labels.values\n",
    "# _val_labels = pd.DataFrame(_arr[val_idxs], columns=['Id','Targets'])\n",
    "# print(_val_labels.Targets.value_counts())"
   ]
  },
  {
   "cell_type": "markdown",
   "metadata": {},
   "source": [
    "### Define Dataloader:"
   ]
  },
  {
   "cell_type": "code",
   "execution_count": 9,
   "metadata": {},
   "outputs": [],
   "source": [
    "def get_data(path, lbl_csv, val_idxs, sz, bs, aug_tfms):\n",
    "\n",
    "    tfms = tfms_with_IntNorm(sz, aug_tfms=aug_tfms, crop_type=CropType.CENTER)\n",
    "    data = ImageClassifierData.from_csv(PATH, 'data', lbl_csv, \n",
    "                                        val_idxs = val_idxs,\n",
    "                                        test_name='data/16bit_Hirano3D_MaxP_GRFB_test_512', \n",
    "                                        tfms=tfms, bs=bs, suffix = '.tif', \n",
    "                                        balance=True)\n",
    "    return data"
   ]
  },
  {
   "cell_type": "code",
   "execution_count": 10,
   "metadata": {},
   "outputs": [],
   "source": [
    "PATH = \"datasets/Hirano3D/\"\n",
    "# data_path = Path(PATH)"
   ]
  },
  {
   "cell_type": "code",
   "execution_count": 11,
   "metadata": {},
   "outputs": [
    {
     "name": "stdout",
     "output_type": "stream",
     "text": [
      "Internal Normalization\n",
      "val_crop is: 2\n",
      "Calculating weights...\n",
      "one-hot encoding single-labels...\n",
      "Weights calculated successfully!\n",
      "Using WeightedRandomSampler\n"
     ]
    }
   ],
   "source": [
    "# define augmentations\n",
    "augs = [RandomDihedral()]\n",
    "\n",
    "# csv:\n",
    "lbl_csv = path + '16bit_multi_folder_Hirano3D_v1.csv'\n",
    "\n",
    "# initialize data object\n",
    "data = get_data(PATH, lbl_csv, val_idxs, sz, bs, aug_tfms = augs)"
   ]
  },
  {
   "cell_type": "markdown",
   "metadata": {},
   "source": [
    "### inpsect data_loaders"
   ]
  },
  {
   "cell_type": "code",
   "execution_count": null,
   "metadata": {},
   "outputs": [],
   "source": [
    "x, y = next(iter(data.trn_dl))\n",
    "# x_test, y_test = next(iter(data.test_dl))"
   ]
  },
  {
   "cell_type": "code",
   "execution_count": null,
   "metadata": {},
   "outputs": [],
   "source": [
    "plt.imshow(to_np(x)[5][2])"
   ]
  },
  {
   "cell_type": "code",
   "execution_count": null,
   "metadata": {},
   "outputs": [],
   "source": [
    "# loading epoch for manual inspection..."
   ]
  },
  {
   "cell_type": "code",
   "execution_count": null,
   "metadata": {},
   "outputs": [],
   "source": [
    "def load_epoch(dl = data.trn_dl):\n",
    "    \n",
    "    batch = iter(dl)\n",
    "\n",
    "    xs = []\n",
    "    ys = []\n",
    "\n",
    "#     for b in range(0,len(dl)):\n",
    "    for b in range(0,10):\n",
    "\n",
    "        x_, y_ = next(batch)\n",
    "        x_np, y_np = to_np(x_), to_np(y_)\n",
    "        xs.append(x_np)\n",
    "        ys.append(y_np)\n",
    "\n",
    "    return np.vstack(xs), np.concatenate(ys)\n"
   ]
  },
  {
   "cell_type": "markdown",
   "metadata": {},
   "source": [
    "### inpsecting loaded images and labels"
   ]
  },
  {
   "cell_type": "code",
   "execution_count": null,
   "metadata": {},
   "outputs": [],
   "source": [
    "def to_label(y):\n",
    "    ind = [i for i, p in enumerate(y) if y[i]==1]\n",
    "    return(ind)"
   ]
  },
  {
   "cell_type": "code",
   "execution_count": null,
   "metadata": {
    "scrolled": true
   },
   "outputs": [],
   "source": [
    "# inspect train images\n",
    "plt.style.use('seaborn-white')\n",
    "\n",
    "idx = 2\n",
    "\n",
    "im = to_np(x)[idx]\n",
    "\n",
    "lbl = to_np(y)[idx]\n",
    "# lbl = to_label(to_np(y)[idx])\n",
    "print(lbl)\n",
    "\n",
    "fig, ax = plt.subplots(1,4, figsize=(16,10))\n",
    "for i, ax in enumerate(ax.flat):\n",
    "    ax.imshow(im[i])"
   ]
  },
  {
   "cell_type": "code",
   "execution_count": null,
   "metadata": {
    "scrolled": true
   },
   "outputs": [],
   "source": [
    "# inspect test images\n",
    "plt.style.use('seaborn-white')\n",
    "\n",
    "idx = 3\n",
    "\n",
    "im = to_np(x_test)[idx]\n",
    "\n",
    "# lbl = to_label(to_np(y)[idx])\n",
    "# print(lbl)\n",
    "\n",
    "fig, ax = plt.subplots(1,4, figsize=(16,10))\n",
    "for i, ax in enumerate(ax.flat):\n",
    "    ax.imshow(im[i])"
   ]
  },
  {
   "cell_type": "markdown",
   "metadata": {},
   "source": [
    "# training"
   ]
  },
  {
   "cell_type": "code",
   "execution_count": null,
   "metadata": {},
   "outputs": [],
   "source": [
    "torch.cuda.is_available()"
   ]
  },
  {
   "cell_type": "code",
   "execution_count": 12,
   "metadata": {},
   "outputs": [],
   "source": [
    "# base-model\n",
    "\n",
    "arch = resnet18_c\n",
    "# arch = resnet50\n",
    "learn = ConvLearner.pretrained(arch, data, ps=0.25, opt_fn=optim.Adam, pretrained=False)"
   ]
  },
  {
   "cell_type": "code",
   "execution_count": 13,
   "metadata": {},
   "outputs": [],
   "source": [
    "# additional parameters\n",
    "\n",
    "wd=1e-5 # weight-decay/L2 regularization \n",
    "# learn.metrics = [accuracy_thresh(0.5),f1_macro]"
   ]
  },
  {
   "cell_type": "code",
   "execution_count": 14,
   "metadata": {},
   "outputs": [],
   "source": [
    "learn.unfreeze()"
   ]
  },
  {
   "cell_type": "code",
   "execution_count": null,
   "metadata": {},
   "outputs": [],
   "source": [
    "learn.summary()"
   ]
  },
  {
   "cell_type": "code",
   "execution_count": null,
   "metadata": {},
   "outputs": [],
   "source": [
    "learn.lr_find()"
   ]
  },
  {
   "cell_type": "code",
   "execution_count": null,
   "metadata": {},
   "outputs": [],
   "source": [
    "learn.sched.plot()"
   ]
  },
  {
   "cell_type": "code",
   "execution_count": null,
   "metadata": {},
   "outputs": [],
   "source": [
    "# training loops:"
   ]
  },
  {
   "cell_type": "code",
   "execution_count": 15,
   "metadata": {
    "scrolled": true
   },
   "outputs": [
    {
     "data": {
      "application/vnd.jupyter.widget-view+json": {
       "model_id": "",
       "version_major": 2,
       "version_minor": 0
      },
      "text/plain": [
       "HBox(children=(IntProgress(value=0, description='Epoch', max=8), HTML(value='')))"
      ]
     },
     "metadata": {},
     "output_type": "display_data"
    },
    {
     "name": "stdout",
     "output_type": "stream",
     "text": [
      "EPOCH 0 ---------------------------------------- STEP 0                                                                                                                                                              \n",
      "epoch      trn_loss   val_loss   accuracy   \n",
      "    0      1.517403   2.20572    0.210843  \n",
      "EPOCH 1 ---------------------------------------- STEP 1                                                                                                                                                              \n",
      "    1      1.446878   2.080296   0.26506   \n",
      "EPOCH 2 ---------------------------------------- STEP 2                                                                                                                                                              \n",
      "    2      1.40584    1.464769   0.409639  \n",
      "EPOCH 3 ---------------------------------------- STEP 3                                                                                                                                                              \n",
      "    3      1.360082   1.361106   0.36747   \n",
      "EPOCH 4 ---------------------------------------- STEP 4                                                                                                                                                              \n",
      "    4      1.308257   1.482603   0.331325  \n",
      "EPOCH 5 ---------------------------------------- STEP 5                                                                                                                                                              \n",
      "    5      1.268656   1.253473   0.457831  \n",
      "EPOCH 6 ---------------------------------------- STEP 6                                                                                                                                                              \n",
      "    6      1.258597   1.251958   0.427711  \n",
      "EPOCH 7 ---------------------------------------- STEP 7                                                                                                                                                              \n",
      "    7      1.228721   1.143004   0.512048  \n",
      "\n",
      "appending existing log-files...\n",
      "log-files saved to: datasets/Hirano3D/\n",
      "Wall time: 1min 58s\n"
     ]
    },
    {
     "data": {
      "text/plain": [
       "[array([1.143]), 0.5120481916938919]"
      ]
     },
     "execution_count": 15,
     "metadata": {},
     "output_type": "execute_result"
    }
   ],
   "source": [
    "%time learn.fit(1e-3, 8, cycle_len=1, wds=wd, use_wd_sched=True)"
   ]
  },
  {
   "cell_type": "code",
   "execution_count": 16,
   "metadata": {
    "scrolled": true
   },
   "outputs": [
    {
     "data": {
      "application/vnd.jupyter.widget-view+json": {
       "model_id": "",
       "version_major": 2,
       "version_minor": 0
      },
      "text/plain": [
       "HBox(children=(IntProgress(value=0, description='Epoch', max=8), HTML(value='')))"
      ]
     },
     "metadata": {},
     "output_type": "display_data"
    },
    {
     "name": "stdout",
     "output_type": "stream",
     "text": [
      "EPOCH 0 ---------------------------------------- STEP 8                                                                                                                                                              \n",
      "epoch      trn_loss   val_loss   accuracy   \n",
      "    0      1.23694    1.940466   0.228916  \n",
      "EPOCH 1 ---------------------------------------- STEP 9                                                                                                                                                              \n",
      "    1      1.184067   1.384985   0.451807  \n",
      "EPOCH 2 ---------------------------------------- STEP 10                                                                                                                                                             \n",
      "    2      1.149106   1.60902    0.39759   \n",
      "EPOCH 3 ---------------------------------------- STEP 11                                                                                                                                                             \n",
      "    3      1.124211   1.210038   0.518072  \n",
      "EPOCH 4 ---------------------------------------- STEP 12                                                                                                                                                             \n",
      "    4      1.093964   2.663736   0.295181  \n",
      "EPOCH 5 ---------------------------------------- STEP 13                                                                                                                                                             \n",
      "    5      1.042813   1.072205   0.524096  \n",
      "EPOCH 6 ---------------------------------------- STEP 14                                                                                                                                                             \n",
      "    6      1.043267   1.133178   0.554217  \n",
      "EPOCH 7 ---------------------------------------- STEP 15                                                                                                                                                             \n",
      "    7      1.026911   1.59728    0.421687  \n",
      "\n",
      "appending existing log-files...\n",
      "log-files saved to: datasets/Hirano3D/\n",
      "Wall time: 1min 58s\n"
     ]
    },
    {
     "data": {
      "text/plain": [
       "[array([1.59728]), 0.42168674734701594]"
      ]
     },
     "execution_count": 16,
     "metadata": {},
     "output_type": "execute_result"
    }
   ],
   "source": [
    "%time learn.fit(1e-3, 8, cycle_len=1, wds=wd, use_wd_sched=True)"
   ]
  },
  {
   "cell_type": "code",
   "execution_count": 17,
   "metadata": {
    "scrolled": true
   },
   "outputs": [
    {
     "data": {
      "application/vnd.jupyter.widget-view+json": {
       "model_id": "",
       "version_major": 2,
       "version_minor": 0
      },
      "text/plain": [
       "HBox(children=(IntProgress(value=0, description='Epoch', max=32), HTML(value='')))"
      ]
     },
     "metadata": {},
     "output_type": "display_data"
    },
    {
     "name": "stdout",
     "output_type": "stream",
     "text": [
      "EPOCH 0 ---------------------------------------- STEP 16                                                                                                                                                             \n",
      "epoch      trn_loss   val_loss   accuracy   \n",
      "    0      0.973382   2.170615   0.313253  \n",
      "EPOCH 1 ---------------------------------------- STEP 17                                                                                                                                                             \n",
      "    1      0.931949   1.481722   0.493976  \n",
      "EPOCH 2 ---------------------------------------- STEP 18                                                                                                                                                             \n",
      "    2      0.939776   1.041025   0.572289  \n",
      "EPOCH 3 ---------------------------------------- STEP 19                                                                                                                                                             \n",
      "    3      0.920676   1.831182   0.427711  \n",
      "EPOCH 4 ---------------------------------------- STEP 20                                                                                                                                                             \n",
      "    4      0.923369   1.521695   0.421687  \n",
      "EPOCH 5 ---------------------------------------- STEP 21                                                                                                                                                             \n",
      "    5      0.916068   1.351164   0.481928  \n",
      "EPOCH 6 ---------------------------------------- STEP 22                                                                                                                                                             \n",
      "    6      0.869024   1.577674   0.457831  \n",
      "EPOCH 7 ---------------------------------------- STEP 23                                                                                                                                                             \n",
      "    7      0.836372   2.546274   0.295181  \n",
      "EPOCH 8 ---------------------------------------- STEP 24                                                                                                                                                             \n",
      "    8      0.815376   1.522006   0.439759  \n",
      "EPOCH 9 ---------------------------------------- STEP 25                                                                                                                                                             \n",
      "    9      0.794853   1.132531   0.53012   \n",
      "EPOCH 10 ---------------------------------------- STEP 26                                                                                                                                                            \n",
      "    10     0.76747    1.333654   0.548193  \n",
      "EPOCH 11 ---------------------------------------- STEP 27                                                                                                                                                            \n",
      "    11     0.762892   1.283113   0.554217  \n",
      "EPOCH 12 ---------------------------------------- STEP 28                                                                                                                                                            \n",
      "    12     0.765984   4.841518   0.295181  \n",
      "EPOCH 13 ---------------------------------------- STEP 29                                                                                                                                                            \n",
      "    13     0.758394   2.057254   0.325301  \n",
      "EPOCH 14 ---------------------------------------- STEP 30                                                                                                                                                            \n",
      "    14     0.747769   1.244839   0.542169  \n",
      "EPOCH 15 ---------------------------------------- STEP 31                                                                                                                                                            \n",
      "    15     0.741839   1.486471   0.518072  \n",
      "EPOCH 16 ---------------------------------------- STEP 32                                                                                                                                                            \n",
      "    16     0.713531   1.159508   0.590361  \n",
      "EPOCH 17 ---------------------------------------- STEP 33                                                                                                                                                            \n",
      "    17     0.683857   1.292876   0.536145  \n",
      "EPOCH 18 ---------------------------------------- STEP 34                                                                                                                                                            \n",
      "    18     0.672918   1.362322   0.536145  \n",
      "EPOCH 19 ---------------------------------------- STEP 35                                                                                                                                                            \n",
      "    19     0.655075   1.39141    0.560241  \n",
      "EPOCH 20 ---------------------------------------- STEP 36                                                                                                                                                            \n",
      "    20     0.632157   1.650321   0.445783  \n",
      "EPOCH 21 ---------------------------------------- STEP 37                                                                                                                                                            \n",
      "    21     0.612812   1.187974   0.572289  \n",
      "EPOCH 22 ---------------------------------------- STEP 38                                                                                                                                                            \n",
      "    22     0.597732   1.296458   0.560241  \n",
      "EPOCH 23 ---------------------------------------- STEP 39                                                                                                                                                            \n",
      "    23     0.580502   1.153981   0.584337  \n",
      "EPOCH 24 ---------------------------------------- STEP 40                                                                                                                                                            \n",
      "    24     0.556594   1.343536   0.554217  \n",
      "EPOCH 25 ---------------------------------------- STEP 41                                                                                                                                                            \n",
      "    25     0.534528   1.234986   0.60241   \n",
      "EPOCH 26 ---------------------------------------- STEP 42                                                                                                                                                            \n",
      "    26     0.518825   1.748759   0.566265  \n",
      "EPOCH 27 ---------------------------------------- STEP 43                                                                                                                                                            \n",
      "    27     0.504562   1.772809   0.560241  \n",
      "EPOCH 28 ---------------------------------------- STEP 44                                                                                                                                                            \n",
      "    28     0.486601   2.804087   0.325301  \n",
      "EPOCH 29 ---------------------------------------- STEP 45                                                                                                                                                            \n",
      "    29     0.472929   1.37775    0.60241   \n",
      "EPOCH 30 ---------------------------------------- STEP 46                                                                                                                                                            \n",
      "    30     0.482219   2.402303   0.481928  \n"
     ]
    },
    {
     "name": "stdout",
     "output_type": "stream",
     "text": [
      "EPOCH 31 ---------------------------------------- STEP 47                                                                                                                                                            \n",
      "    31     0.474696   4.740773   0.253012  \n",
      "\n",
      "appending existing log-files...\n",
      "log-files saved to: datasets/Hirano3D/\n",
      "Wall time: 8min 30s\n"
     ]
    },
    {
     "data": {
      "text/plain": [
       "[array([4.74077]), 0.2530120494494955]"
      ]
     },
     "execution_count": 17,
     "metadata": {},
     "output_type": "execute_result"
    }
   ],
   "source": [
    "%time learn.fit(8e-4, 32, cycle_len=1, wds=wd, use_wd_sched=True)"
   ]
  },
  {
   "cell_type": "code",
   "execution_count": 18,
   "metadata": {
    "scrolled": true
   },
   "outputs": [
    {
     "data": {
      "application/vnd.jupyter.widget-view+json": {
       "model_id": "",
       "version_major": 2,
       "version_minor": 0
      },
      "text/plain": [
       "HBox(children=(IntProgress(value=0, description='Epoch', max=16), HTML(value='')))"
      ]
     },
     "metadata": {},
     "output_type": "display_data"
    },
    {
     "name": "stdout",
     "output_type": "stream",
     "text": [
      "EPOCH 0 ---------------------------------------- STEP 48                                                                                                                                                             \n",
      "epoch      trn_loss   val_loss   accuracy   \n",
      "    0      0.392256   1.43872    0.560241  \n",
      "EPOCH 1 ---------------------------------------- STEP 49                                                                                                                                                             \n",
      "    1      0.396128   1.599786   0.578313  \n",
      "EPOCH 2 ---------------------------------------- STEP 50                                                                                                                                                             \n",
      "    2      0.350987   1.365139   0.60241   \n",
      "EPOCH 3 ---------------------------------------- STEP 51                                                                                                                                                             \n",
      "    3      0.327095   1.780024   0.560241  \n",
      "EPOCH 4 ---------------------------------------- STEP 52                                                                                                                                                             \n",
      "    4      0.297285   1.568103   0.566265  \n",
      "EPOCH 5 ---------------------------------------- STEP 53                                                                                                                                                             \n",
      "    5      0.278362   1.126184   0.608434  \n",
      "EPOCH 6 ---------------------------------------- STEP 54                                                                                                                                                             \n",
      "    6      0.274319   1.378949   0.572289  \n",
      "EPOCH 7 ---------------------------------------- STEP 55                                                                                                                                                             \n",
      "    7      0.273262   1.517516   0.560241  \n",
      "EPOCH 8 ---------------------------------------- STEP 56                                                                                                                                                             \n",
      "    8      0.267702   1.279542   0.590361  \n",
      "EPOCH 9 ---------------------------------------- STEP 57                                                                                                                                                             \n",
      "    9      0.260503   1.443734   0.584337  \n",
      "EPOCH 10 ---------------------------------------- STEP 58                                                                                                                                                            \n",
      "    10     0.249621   1.839724   0.554217  \n",
      "EPOCH 11 ---------------------------------------- STEP 59                                                                                                                                                            \n",
      "    11     0.236376   1.765722   0.548193  \n",
      "EPOCH 12 ---------------------------------------- STEP 60                                                                                                                                                            \n",
      "    12     0.233602   1.904252   0.578313  \n",
      "EPOCH 13 ---------------------------------------- STEP 61                                                                                                                                                            \n",
      "    13     0.223083   1.933666   0.572289  \n",
      "EPOCH 14 ---------------------------------------- STEP 62                                                                                                                                                            \n",
      "    14     0.211666   1.386989   0.680723  \n",
      "EPOCH 15 ---------------------------------------- STEP 63                                                                                                                                                            \n",
      "    15     0.207533   1.504788   0.566265  \n",
      "\n",
      "appending existing log-files...\n",
      "log-files saved to: datasets/Hirano3D/\n",
      "appending existing log-files...\n",
      "log-files saved to: datasets/Hirano3D/\n",
      "Wall time: 3min 37s\n"
     ]
    },
    {
     "data": {
      "text/plain": [
       "[array([1.50479]), 0.5662650537778096]"
      ]
     },
     "execution_count": 18,
     "metadata": {},
     "output_type": "execute_result"
    }
   ],
   "source": [
    "%time learn.fit(6e-4, 16, cycle_len=1, wds=wd, use_wd_sched=True, best_save_name='H3D_Res18_local_v3_1')"
   ]
  },
  {
   "cell_type": "code",
   "execution_count": 19,
   "metadata": {
    "scrolled": true
   },
   "outputs": [
    {
     "data": {
      "application/vnd.jupyter.widget-view+json": {
       "model_id": "f1d11575aefc442f95c2a552bc95e3d8",
       "version_major": 2,
       "version_minor": 0
      },
      "text/plain": [
       "HBox(children=(IntProgress(value=0, description='Epoch', max=16), HTML(value='')))"
      ]
     },
     "metadata": {},
     "output_type": "display_data"
    },
    {
     "name": "stdout",
     "output_type": "stream",
     "text": [
      "EPOCH 0 ---------------------------------------- STEP 64                                                                                                                                                             \n",
      "epoch      trn_loss   val_loss   accuracy   \n",
      "    0      0.148897   1.364937   0.638554  \n",
      "EPOCH 1 ---------------------------------------- STEP 65                                                                                                                                                             \n",
      "    1      0.125087   1.264435   0.626506  \n",
      "EPOCH 2 ---------------------------------------- STEP 66                                                                                                                                                             \n",
      "    2      0.111476   1.268848   0.650602  \n",
      "EPOCH 3 ---------------------------------------- STEP 67                                                                                                                                                             \n",
      "    3      0.103915   1.306942   0.656627  \n",
      "EPOCH 4 ---------------------------------------- STEP 68                                                                                                                                                             \n",
      "    4      0.098978   1.32229    0.63253   \n",
      "EPOCH 5 ---------------------------------------- STEP 69                                                                                                                                                             \n",
      "    5      0.094119   1.256864   0.626506  \n",
      "EPOCH 6 ---------------------------------------- STEP 70                                                                                                                                                             \n",
      "    6      0.090683   1.307226   0.650602  \n",
      "EPOCH 7 ---------------------------------------- STEP 71                                                                                                                                                             \n",
      "    7      0.087637   1.256688   0.63253   \n",
      "EPOCH 8 ---------------------------------------- STEP 72                                                                                                                                                             \n",
      "    8      0.081986   1.276102   0.638554  \n",
      "EPOCH 9 ---------------------------------------- STEP 73                                                                                                                                                             \n",
      "    9      0.080068   1.292997   0.638554  \n",
      "EPOCH 10 ---------------------------------------- STEP 74                                                                                                                                                            \n",
      "    10     0.074258   1.368194   0.644578  \n",
      "EPOCH 11 ---------------------------------------- STEP 75                                                                                                                                                            \n",
      "    11     0.072388   1.301155   0.668675  \n",
      "EPOCH 12 ---------------------------------------- STEP 76                                                                                                                                                            \n",
      "    12     0.065251   1.33206    0.644578  \n",
      "EPOCH 13 ---------------------------------------- STEP 77                                                                                                                                                            \n",
      "    13     0.064718   1.359955   0.638554  \n",
      "EPOCH 14 ---------------------------------------- STEP 78                                                                                                                                                            \n",
      "    14     0.059907   1.377011   0.644578  \n",
      "EPOCH 15 ---------------------------------------- STEP 79                                                                                                                                                            \n",
      "    15     0.057415   1.375161   0.63253   \n",
      "\n",
      "appending existing log-files...\n",
      "log-files saved to: datasets/Hirano3D/\n",
      "appending existing log-files...\n",
      "log-files saved to: datasets/Hirano3D/\n",
      "Wall time: 3min 42s\n"
     ]
    },
    {
     "data": {
      "text/plain": [
       "[array([1.37516]), 0.6325301154550299]"
      ]
     },
     "execution_count": 19,
     "metadata": {},
     "output_type": "execute_result"
    }
   ],
   "source": [
    "%time learn.fit(1e-4, 16, cycle_len=1, wds=wd, use_wd_sched=True, best_save_name='H3D_Res18_local_v3_2')"
   ]
  },
  {
   "cell_type": "code",
   "execution_count": null,
   "metadata": {},
   "outputs": [],
   "source": []
  },
  {
   "cell_type": "code",
   "execution_count": null,
   "metadata": {},
   "outputs": [],
   "source": [
    "lr = (5e-4, 1e-3, 5e-3)"
   ]
  },
  {
   "cell_type": "code",
   "execution_count": 20,
   "metadata": {},
   "outputs": [
    {
     "name": "stdout",
     "output_type": "stream",
     "text": [
      "Internal Normalization\n",
      "val_crop is: 2\n",
      "Calculating weights...\n",
      "one-hot encoding single-labels...\n",
      "Weights calculated successfully!\n",
      "Using WeightedRandomSampler\n"
     ]
    }
   ],
   "source": [
    "sz = [4,512, 512]\n",
    "learn.set_data(get_data(PATH, lbl_csv, val_idxs, sz, bs, aug_tfms = augs))"
   ]
  },
  {
   "cell_type": "code",
   "execution_count": 21,
   "metadata": {
    "scrolled": true
   },
   "outputs": [
    {
     "data": {
      "application/vnd.jupyter.widget-view+json": {
       "model_id": "3288d2b69ba14976834ee9c071430e9a",
       "version_major": 2,
       "version_minor": 0
      },
      "text/plain": [
       "HBox(children=(IntProgress(value=0, description='Epoch', max=8), HTML(value='')))"
      ]
     },
     "metadata": {},
     "output_type": "display_data"
    },
    {
     "name": "stdout",
     "output_type": "stream",
     "text": [
      "EPOCH 0 ---------------------------------------- STEP 80                                                                                                                                                             \n",
      "epoch      trn_loss   val_loss   accuracy   \n",
      "    0      1.15899    1.962104   0.536145  \n",
      "EPOCH 1 ---------------------------------------- STEP 81                                                                                                                                                             \n",
      "    1      1.13715    1.633762   0.578313  \n",
      "EPOCH 2 ---------------------------------------- STEP 82                                                                                                                                                             \n",
      "    2      1.074423   1.568484   0.578313  \n",
      "EPOCH 3 ---------------------------------------- STEP 83                                                                                                                                                             \n",
      "    3      1.061822   1.505874   0.566265  \n",
      "EPOCH 4 ---------------------------------------- STEP 84                                                                                                                                                             \n",
      "    4      1.005777   1.495218   0.560241  \n",
      "EPOCH 5 ---------------------------------------- STEP 85                                                                                                                                                             \n",
      "    5      1.0314     1.47134    0.566265  \n",
      "EPOCH 6 ---------------------------------------- STEP 86                                                                                                                                                             \n",
      "    6      1.024926   1.484199   0.572289  \n",
      "EPOCH 7 ---------------------------------------- STEP 87                                                                                                                                                             \n",
      "    7      1.008149   1.498414   0.578313  \n",
      "\n",
      "appending existing log-files...\n",
      "log-files saved to: datasets/Hirano3D/\n",
      "Wall time: 5min 10s\n"
     ]
    },
    {
     "data": {
      "text/plain": [
       "[array([1.49841]), 0.5783132522939199]"
      ]
     },
     "execution_count": 21,
     "metadata": {},
     "output_type": "execute_result"
    }
   ],
   "source": [
    "%time learn.fit(1e-4, 1, cycle_len=8, cycle_mult=2, wds=wd, use_wd_sched=True)"
   ]
  },
  {
   "cell_type": "code",
   "execution_count": 22,
   "metadata": {
    "scrolled": true
   },
   "outputs": [
    {
     "data": {
      "application/vnd.jupyter.widget-view+json": {
       "model_id": "",
       "version_major": 2,
       "version_minor": 0
      },
      "text/plain": [
       "HBox(children=(IntProgress(value=0, description='Epoch', max=16), HTML(value='')))"
      ]
     },
     "metadata": {},
     "output_type": "display_data"
    },
    {
     "name": "stdout",
     "output_type": "stream",
     "text": [
      "EPOCH 0 ---------------------------------------- STEP 88                                                                                                                                                             \n",
      "epoch      trn_loss   val_loss   accuracy   \n",
      "    0      0.918284   1.462105   0.572289  \n",
      "EPOCH 1 ---------------------------------------- STEP 89                                                                                                                                                             \n",
      "    1      0.967737   1.381784   0.554217  \n",
      "EPOCH 2 ---------------------------------------- STEP 90                                                                                                                                                             \n",
      "    2      0.924543   1.307081   0.572289  \n",
      "EPOCH 3 ---------------------------------------- STEP 91                                                                                                                                                             \n",
      "    3      0.90237    1.280507   0.578313  \n",
      "EPOCH 4 ---------------------------------------- STEP 92                                                                                                                                                             \n",
      "    4      0.885371   1.23759    0.578313  \n",
      "EPOCH 5 ---------------------------------------- STEP 93                                                                                                                                                             \n",
      "    5      0.850855   1.205189   0.578313  \n",
      "EPOCH 6 ---------------------------------------- STEP 94                                                                                                                                                             \n",
      "    6      0.818191   1.187833   0.590361  \n",
      "EPOCH 7 ---------------------------------------- STEP 95                                                                                                                                                             \n",
      "    7      0.811062   1.190348   0.578313  \n",
      "EPOCH 8 ---------------------------------------- STEP 96                                                                                                                                                             \n",
      "    8      0.795322   1.164822   0.572289  \n",
      "EPOCH 9 ---------------------------------------- STEP 97                                                                                                                                                             \n",
      "    9      0.778263   1.147968   0.596386  \n",
      "EPOCH 10 ---------------------------------------- STEP 98                                                                                                                                                            \n",
      "    10     0.749909   1.144725   0.584337  \n",
      "EPOCH 11 ---------------------------------------- STEP 99                                                                                                                                                            \n",
      "    11     0.735013   1.135268   0.60241   \n",
      "EPOCH 12 ---------------------------------------- STEP 100                                                                                                                                                           \n",
      "    12     0.730324   1.114848   0.596386  \n",
      "EPOCH 13 ---------------------------------------- STEP 101                                                                                                                                                           \n",
      "    13     0.707728   1.120099   0.626506  \n",
      "EPOCH 14 ---------------------------------------- STEP 102                                                                                                                                                           \n",
      "    14     0.68865    1.119276   0.596386  \n",
      "EPOCH 15 ---------------------------------------- STEP 103                                                                                                                                                           \n",
      "    15     0.674267   1.113641   0.590361  \n",
      "\n",
      "appending existing log-files...\n",
      "log-files saved to: datasets/Hirano3D/\n",
      "appending existing log-files...\n",
      "log-files saved to: datasets/Hirano3D/\n",
      "Wall time: 10min 26s\n"
     ]
    },
    {
     "data": {
      "text/plain": [
       "[array([1.11364]), 0.5903614493737738]"
      ]
     },
     "execution_count": 22,
     "metadata": {},
     "output_type": "execute_result"
    }
   ],
   "source": [
    "%time learn.fit(2e-4, 1, cycle_len=16, wds=wd, use_wd_sched=True, use_clr=(20,8, 0.95, 0.85), best_save_name='H3D_Res18_local_v3_3')"
   ]
  },
  {
   "cell_type": "code",
   "execution_count": 23,
   "metadata": {
    "scrolled": true
   },
   "outputs": [
    {
     "data": {
      "application/vnd.jupyter.widget-view+json": {
       "model_id": "",
       "version_major": 2,
       "version_minor": 0
      },
      "text/plain": [
       "HBox(children=(IntProgress(value=0, description='Epoch', max=16), HTML(value='')))"
      ]
     },
     "metadata": {},
     "output_type": "display_data"
    },
    {
     "name": "stdout",
     "output_type": "stream",
     "text": [
      "EPOCH 0 ---------------------------------------- STEP 104                                                                                                                                                            \n",
      "epoch      trn_loss   val_loss   accuracy   \n",
      "    0      0.702431   1.118489   0.590361  \n",
      "EPOCH 1 ---------------------------------------- STEP 105                                                                                                                                                            \n",
      "    1      0.673735   1.119673   0.60241   \n",
      "EPOCH 2 ---------------------------------------- STEP 106                                                                                                                                                            \n",
      "    2      0.672354   1.103502   0.620482  \n",
      "EPOCH 3 ---------------------------------------- STEP 107                                                                                                                                                            \n",
      "    3      0.66093    1.095798   0.596386  \n",
      "EPOCH 4 ---------------------------------------- STEP 108                                                                                                                                                            \n",
      "    4      0.647446   1.094002   0.608434  \n",
      "EPOCH 5 ---------------------------------------- STEP 109                                                                                                                                                            \n",
      "    5      0.625313   1.086785   0.590361  \n",
      "EPOCH 6 ---------------------------------------- STEP 110                                                                                                                                                            \n",
      "    6      0.601097   1.080218   0.608434  \n",
      "EPOCH 7 ---------------------------------------- STEP 111                                                                                                                                                            \n",
      "    7      0.587682   1.087528   0.620482  \n",
      "EPOCH 8 ---------------------------------------- STEP 112                                                                                                                                                            \n",
      "    8      0.601736   1.085355   0.620482  \n",
      "EPOCH 9 ---------------------------------------- STEP 113                                                                                                                                                            \n",
      "    9      0.592981   1.064593   0.63253   \n",
      "EPOCH 10 ---------------------------------------- STEP 114                                                                                                                                                           \n",
      "    10     0.606092   1.084219   0.626506  \n",
      "EPOCH 11 ---------------------------------------- STEP 115                                                                                                                                                           \n",
      "    11     0.610464   1.08842    0.626506  \n",
      "EPOCH 12 ---------------------------------------- STEP 116                                                                                                                                                           \n",
      "    12     0.60005    1.082956   0.626506  \n",
      "EPOCH 13 ---------------------------------------- STEP 117                                                                                                                                                           \n",
      "    13     0.596487   1.079575   0.620482  \n",
      "EPOCH 14 ---------------------------------------- STEP 118                                                                                                                                                           \n",
      "    14     0.589135   1.07477    0.626506  \n",
      "EPOCH 15 ---------------------------------------- STEP 119                                                                                                                                                           \n",
      "    15     0.582396   1.07737    0.620482  \n",
      "\n",
      "appending existing log-files...\n",
      "log-files saved to: datasets/Hirano3D/\n",
      "appending existing log-files...\n",
      "log-files saved to: datasets/Hirano3D/\n",
      "Wall time: 10min 35s\n"
     ]
    },
    {
     "data": {
      "text/plain": [
       "[array([1.07737]), 0.6204819212476891]"
      ]
     },
     "execution_count": 23,
     "metadata": {},
     "output_type": "execute_result"
    }
   ],
   "source": [
    "%time learn.fit(2e-4, 1, cycle_len=16, wds=wd, use_wd_sched=True, use_clr=(20,8, 0.95, 0.85), best_save_name='H3D_Res18_local_v3_4')"
   ]
  },
  {
   "cell_type": "code",
   "execution_count": 24,
   "metadata": {
    "scrolled": true
   },
   "outputs": [
    {
     "data": {
      "application/vnd.jupyter.widget-view+json": {
       "model_id": "5467ceef2c3f43f4a31a42896a70c801",
       "version_major": 2,
       "version_minor": 0
      },
      "text/plain": [
       "HBox(children=(IntProgress(value=0, description='Epoch', max=48), HTML(value='')))"
      ]
     },
     "metadata": {},
     "output_type": "display_data"
    },
    {
     "name": "stdout",
     "output_type": "stream",
     "text": [
      "EPOCH 0 ---------------------------------------- STEP 120                                                                                                                                                            \n",
      "epoch      trn_loss   val_loss   accuracy   \n",
      "    0      0.604895   1.068891   0.608434  \n",
      "EPOCH 1 ---------------------------------------- STEP 121                                                                                                                                                            \n",
      "    1      0.581285   1.06791    0.614458  \n",
      "EPOCH 2 ---------------------------------------- STEP 122                                                                                                                                                            \n",
      "    2      0.569044   1.064982   0.626506  \n",
      "EPOCH 3 ---------------------------------------- STEP 123                                                                                                                                                            \n",
      "    3      0.574846   1.072545   0.614458  \n",
      "EPOCH 4 ---------------------------------------- STEP 124                                                                                                                                                            \n",
      "    4      0.573357   1.066474   0.620482  \n",
      "EPOCH 5 ---------------------------------------- STEP 125                                                                                                                                                            \n",
      "    5      0.552392   1.061296   0.626506  \n",
      "EPOCH 6 ---------------------------------------- STEP 126                                                                                                                                                            \n",
      "    6      0.536721   1.060677   0.614458  \n",
      "EPOCH 7 ---------------------------------------- STEP 127                                                                                                                                                            \n",
      "    7      0.541739   1.043247   0.620482  \n",
      "EPOCH 8 ---------------------------------------- STEP 128                                                                                                                                                            \n",
      "    8      0.540009   1.059037   0.614458  \n",
      "EPOCH 9 ---------------------------------------- STEP 129                                                                                                                                                            \n",
      "    9      0.523543   1.056923   0.614458  \n",
      "EPOCH 10 ---------------------------------------- STEP 130                                                                                                                                                           \n",
      "    10     0.513226   1.050941   0.63253   \n",
      "EPOCH 11 ---------------------------------------- STEP 131                                                                                                                                                           \n",
      "    11     0.508834   1.047183   0.626506  \n",
      "EPOCH 12 ---------------------------------------- STEP 132                                                                                                                                                           \n",
      "    12     0.521089   1.057202   0.638554  \n",
      "EPOCH 13 ---------------------------------------- STEP 133                                                                                                                                                           \n",
      "    13     0.516007   1.058358   0.644578  \n",
      "EPOCH 14 ---------------------------------------- STEP 134                                                                                                                                                           \n",
      "    14     0.512249   1.06018    0.608434  \n",
      "EPOCH 15 ---------------------------------------- STEP 135                                                                                                                                                           \n",
      "    15     0.503912   1.049644   0.620482  \n",
      "EPOCH 16 ---------------------------------------- STEP 136                                                                                                                                                           \n",
      "    16     0.497253   1.046236   0.626506  \n",
      "EPOCH 17 ---------------------------------------- STEP 137                                                                                                                                                           \n",
      "    17     0.502969   1.057764   0.614458  \n",
      "EPOCH 18 ---------------------------------------- STEP 138                                                                                                                                                           \n",
      "    18     0.49504    1.060656   0.614458  \n",
      "EPOCH 19 ---------------------------------------- STEP 139                                                                                                                                                           \n",
      "    19     0.48792    1.048426   0.614458  \n",
      "EPOCH 20 ---------------------------------------- STEP 140                                                                                                                                                           \n",
      "    20     0.492304   1.0342     0.626506  \n",
      "EPOCH 21 ---------------------------------------- STEP 141                                                                                                                                                           \n",
      "    21     0.489294   1.049115   0.620482  \n",
      "EPOCH 22 ---------------------------------------- STEP 142                                                                                                                                                           \n",
      "    22     0.487598   1.069372   0.63253   \n",
      "EPOCH 23 ---------------------------------------- STEP 143                                                                                                                                                           \n",
      "    23     0.48549    1.041929   0.63253   \n",
      "EPOCH 24 ---------------------------------------- STEP 144                                                                                                                                                           \n",
      "    24     0.477892   1.03769    0.63253   \n",
      "EPOCH 25 ---------------------------------------- STEP 145                                                                                                                                                           \n",
      "    25     0.479359   1.040604   0.63253   \n",
      "EPOCH 26 ---------------------------------------- STEP 146                                                                                                                                                           \n",
      "    26     0.469168   1.040031   0.620482  \n",
      "EPOCH 27 ---------------------------------------- STEP 147                                                                                                                                                           \n",
      "    27     0.468007   1.056126   0.626506  \n",
      "EPOCH 28 ---------------------------------------- STEP 148                                                                                                                                                           \n",
      "    28     0.467185   1.072324   0.63253   \n",
      "EPOCH 29 ---------------------------------------- STEP 149                                                                                                                                                           \n",
      "    29     0.475868   1.075867   0.626506  \n",
      "EPOCH 30 ---------------------------------------- STEP 150                                                                                                                                                           \n",
      "    30     0.479619   1.06514    0.626506  \n"
     ]
    },
    {
     "name": "stdout",
     "output_type": "stream",
     "text": [
      "EPOCH 31 ---------------------------------------- STEP 151                                                                                                                                                           \n",
      "    31     0.477211   1.072219   0.620482  \n",
      "EPOCH 32 ---------------------------------------- STEP 152                                                                                                                                                           \n",
      "    32     0.468774   1.063839   0.614458  \n",
      "EPOCH 33 ---------------------------------------- STEP 153                                                                                                                                                           \n",
      "    33     0.472032   1.061457   0.614458  \n",
      "EPOCH 34 ---------------------------------------- STEP 154                                                                                                                                                           \n",
      "    34     0.464741   1.042908   0.620482  \n",
      "EPOCH 35 ---------------------------------------- STEP 155                                                                                                                                                           \n",
      "    35     0.471776   1.058827   0.626506  \n",
      "EPOCH 36 ---------------------------------------- STEP 156                                                                                                                                                           \n",
      "    36     0.464058   1.060779   0.650602  \n",
      "EPOCH 37 ---------------------------------------- STEP 157                                                                                                                                                           \n",
      "    37     0.458572   1.05882    0.620482  \n",
      "EPOCH 38 ---------------------------------------- STEP 158                                                                                                                                                           \n",
      "    38     0.454602   1.067108   0.626506  \n",
      "EPOCH 39 ---------------------------------------- STEP 159                                                                                                                                                           \n",
      "    39     0.447921   1.058504   0.63253   \n",
      "EPOCH 40 ---------------------------------------- STEP 160                                                                                                                                                           \n",
      "    40     0.448592   1.055559   0.626506  \n",
      "EPOCH 41 ---------------------------------------- STEP 161                                                                                                                                                           \n",
      "    41     0.447672   1.047535   0.63253   \n",
      "EPOCH 42 ---------------------------------------- STEP 162                                                                                                                                                           \n",
      "    42     0.438609   1.048171   0.63253   \n",
      "EPOCH 43 ---------------------------------------- STEP 163                                                                                                                                                           \n",
      "    43     0.439056   1.051851   0.63253   \n",
      "EPOCH 44 ---------------------------------------- STEP 164                                                                                                                                                           \n",
      "    44     0.430453   1.045746   0.626506  \n",
      "EPOCH 45 ---------------------------------------- STEP 165                                                                                                                                                           \n",
      "    45     0.436004   1.056469   0.620482  \n",
      "EPOCH 46 ---------------------------------------- STEP 166                                                                                                                                                           \n",
      "    46     0.439239   1.064705   0.63253   \n",
      "EPOCH 47 ---------------------------------------- STEP 167                                                                                                                                                           \n",
      "    47     0.435976   1.059073   0.63253   \n",
      "\n",
      "appending existing log-files...\n",
      "log-files saved to: datasets/Hirano3D/\n",
      "appending existing log-files...\n",
      "log-files saved to: datasets/Hirano3D/\n",
      "Wall time: 27min 56s\n"
     ]
    },
    {
     "data": {
      "text/plain": [
       "[array([1.05907]), 0.6325301147369017]"
      ]
     },
     "execution_count": 24,
     "metadata": {},
     "output_type": "execute_result"
    }
   ],
   "source": [
    "%time learn.fit(2e-4, 3, cycle_len=16, wds=wd, use_wd_sched=True, use_clr=(20,8, 0.95, 0.85), best_save_name='H3D_Res18_local_v3_5')"
   ]
  },
  {
   "cell_type": "code",
   "execution_count": 25,
   "metadata": {},
   "outputs": [
    {
     "data": {
      "application/vnd.jupyter.widget-view+json": {
       "model_id": "81fb3e1d7baf49b489035040a2629f9b",
       "version_major": 2,
       "version_minor": 0
      },
      "text/plain": [
       "HBox(children=(IntProgress(value=0, description='Epoch', max=48), HTML(value='')))"
      ]
     },
     "metadata": {},
     "output_type": "display_data"
    },
    {
     "name": "stdout",
     "output_type": "stream",
     "text": [
      "EPOCH 0 ---------------------------------------- STEP 168                                                                                                                                                            \n",
      "epoch      trn_loss   val_loss   accuracy   \n",
      "    0      0.429494   1.037873   0.620482  \n",
      "EPOCH 1 ---------------------------------------- STEP 169                                                                                                                                                            \n",
      "    1      0.438696   1.03754    0.656627  \n",
      "EPOCH 2 ---------------------------------------- STEP 170                                                                                                                                                            \n",
      "    2      0.420417   1.050079   0.638554  \n",
      "EPOCH 3 ---------------------------------------- STEP 171                                                                                                                                                            \n",
      "    3      0.413229   1.054598   0.626506  \n",
      "EPOCH 4 ---------------------------------------- STEP 172                                                                                                                                                            \n",
      "    4      0.408354   1.049408   0.644578  \n",
      "EPOCH 5 ---------------------------------------- STEP 173                                                                                                                                                            \n",
      "    5      0.413528   1.040379   0.644578  \n",
      "EPOCH 6 ---------------------------------------- STEP 174                                                                                                                                                            \n",
      "    6      0.413814   1.037527   0.650602  \n",
      "EPOCH 7 ---------------------------------------- STEP 175                                                                                                                                                            \n",
      "    7      0.413922   1.041698   0.644578  \n",
      "EPOCH 8 ---------------------------------------- STEP 176                                                                                                                                                            \n",
      "    8      0.414602   1.052629   0.63253   \n",
      "EPOCH 9 ---------------------------------------- STEP 177                                                                                                                                                            \n",
      "    9      0.42408    1.043773   0.638554  \n",
      "EPOCH 10 ---------------------------------------- STEP 178                                                                                                                                                           \n",
      "    10     0.425717   1.032767   0.656627  \n",
      "EPOCH 11 ---------------------------------------- STEP 179                                                                                                                                                           \n",
      "    11     0.412822   1.033645   0.656627  \n",
      "EPOCH 12 ---------------------------------------- STEP 180                                                                                                                                                           \n",
      "    12     0.4131     1.036721   0.644578  \n",
      "EPOCH 13 ---------------------------------------- STEP 181                                                                                                                                                           \n",
      "    13     0.426583   1.047156   0.650602  \n",
      "EPOCH 14 ---------------------------------------- STEP 182                                                                                                                                                           \n",
      "    14     0.427561   1.046217   0.656627  \n",
      "EPOCH 15 ---------------------------------------- STEP 183                                                                                                                                                           \n",
      "    15     0.42643    1.044467   0.656627  \n",
      "EPOCH 16 ---------------------------------------- STEP 184                                                                                                                                                           \n",
      "    16     0.419073   1.043582   0.644578  \n",
      "EPOCH 17 ---------------------------------------- STEP 185                                                                                                                                                           \n",
      "    17     0.415329   1.038814   0.644578  \n",
      "EPOCH 18 ---------------------------------------- STEP 186                                                                                                                                                           \n",
      "    18     0.415551   1.03686    0.644578  \n",
      "EPOCH 19 ---------------------------------------- STEP 187                                                                                                                                                           \n",
      "    19     0.40996    1.036314   0.644578  \n",
      "EPOCH 20 ---------------------------------------- STEP 188                                                                                                                                                           \n",
      "    20     0.408718   1.047851   0.650602  \n",
      "EPOCH 21 ---------------------------------------- STEP 189                                                                                                                                                           \n",
      "    21     0.40554    1.050804   0.650602  \n",
      "EPOCH 22 ---------------------------------------- STEP 190                                                                                                                                                           \n",
      "    22     0.404835   1.058851   0.650602  \n",
      "EPOCH 23 ---------------------------------------- STEP 191                                                                                                                                                           \n",
      "    23     0.410587   1.059662   0.644578  \n",
      "EPOCH 24 ---------------------------------------- STEP 192                                                                                                                                                           \n",
      "    24     0.402144   1.044675   0.638554  \n",
      "EPOCH 25 ---------------------------------------- STEP 193                                                                                                                                                           \n",
      "    25     0.410586   1.049043   0.650602  \n",
      "EPOCH 26 ---------------------------------------- STEP 194                                                                                                                                                           \n",
      "    26     0.419253   1.067327   0.656627  \n",
      "EPOCH 27 ---------------------------------------- STEP 195                                                                                                                                                           \n",
      "    27     0.416041   1.068998   0.644578  \n",
      "EPOCH 28 ---------------------------------------- STEP 196                                                                                                                                                           \n",
      "    28     0.409805   1.056802   0.638554  \n",
      "EPOCH 29 ---------------------------------------- STEP 197                                                                                                                                                           \n",
      "    29     0.400413   1.041601   0.656627  \n",
      "EPOCH 30 ---------------------------------------- STEP 198                                                                                                                                                           \n",
      "    30     0.399994   1.053353   0.656627  \n"
     ]
    },
    {
     "name": "stdout",
     "output_type": "stream",
     "text": [
      "EPOCH 31 ---------------------------------------- STEP 199                                                                                                                                                           \n",
      "    31     0.394581   1.042322   0.650602  \n",
      "EPOCH 32 ---------------------------------------- STEP 200                                                                                                                                                           \n",
      "    32     0.398427   1.050534   0.662651  \n",
      "EPOCH 33 ---------------------------------------- STEP 201                                                                                                                                                           \n",
      "    33     0.389245   1.034651   0.644578  \n",
      "EPOCH 34 ---------------------------------------- STEP 202                                                                                                                                                           \n",
      "    34     0.393724   1.048913   0.650602  \n",
      "EPOCH 35 ---------------------------------------- STEP 203                                                                                                                                                           \n",
      "    35     0.387851   1.063778   0.644578  \n",
      "EPOCH 36 ---------------------------------------- STEP 204                                                                                                                                                           \n",
      "    36     0.390166   1.05019    0.644578  \n",
      "EPOCH 37 ---------------------------------------- STEP 205                                                                                                                                                           \n",
      "    37     0.386811   1.040797   0.638554  \n",
      "EPOCH 38 ---------------------------------------- STEP 206                                                                                                                                                           \n",
      "    38     0.386612   1.036746   0.644578  \n",
      "EPOCH 39 ---------------------------------------- STEP 207                                                                                                                                                           \n",
      "    39     0.386559   1.025606   0.656627  \n",
      "EPOCH 40 ---------------------------------------- STEP 208                                                                                                                                                           \n",
      "    40     0.384061   1.04113    0.644578  \n",
      "EPOCH 41 ---------------------------------------- STEP 209                                                                                                                                                           \n",
      "    41     0.384335   1.054536   0.644578  \n",
      "EPOCH 42 ---------------------------------------- STEP 210                                                                                                                                                           \n",
      "    42     0.380065   1.038482   0.638554  \n",
      "EPOCH 43 ---------------------------------------- STEP 211                                                                                                                                                           \n",
      "    43     0.383541   1.055889   0.650602  \n",
      "EPOCH 44 ---------------------------------------- STEP 212                                                                                                                                                           \n",
      "    44     0.379403   1.053491   0.656627  \n",
      "EPOCH 45 ---------------------------------------- STEP 213                                                                                                                                                           \n",
      "    45     0.376697   1.05142    0.650602  \n",
      "EPOCH 46 ---------------------------------------- STEP 214                                                                                                                                                           \n",
      "    46     0.378261   1.05091    0.644578  \n",
      "EPOCH 47 ---------------------------------------- STEP 215                                                                                                                                                           \n",
      "    47     0.374049   1.043391   0.650602  \n",
      "\n",
      "appending existing log-files...\n",
      "log-files saved to: datasets/Hirano3D/\n",
      "appending existing log-files...\n",
      "log-files saved to: datasets/Hirano3D/\n",
      "Wall time: 23min 36s\n"
     ]
    },
    {
     "data": {
      "text/plain": [
       "[array([1.04339]), 0.6506024038935282]"
      ]
     },
     "execution_count": 25,
     "metadata": {},
     "output_type": "execute_result"
    }
   ],
   "source": [
    "%time learn.fit(1e-4, 3, cycle_len=16, wds=wd, use_wd_sched=True, use_clr=(20,8, 0.95, 0.85), best_save_name='H3D_Res18_local_v3_6')"
   ]
  },
  {
   "cell_type": "code",
   "execution_count": null,
   "metadata": {},
   "outputs": [],
   "source": [
    "%time learn.fit(5e-5, 1, cycle_len=16, wds=wd, use_wd_sched=True, use_clr=(20,8, 0.95, 0.85), best_save_name='H3D_Res18_local_v3_7')"
   ]
  },
  {
   "cell_type": "code",
   "execution_count": 26,
   "metadata": {},
   "outputs": [
    {
     "data": {
      "application/vnd.jupyter.widget-view+json": {
       "model_id": "ad361b80a64540f7aaf2b3b7661a95e7",
       "version_major": 2,
       "version_minor": 0
      },
      "text/plain": [
       "HBox(children=(IntProgress(value=0, description='Epoch', max=32), HTML(value='')))"
      ]
     },
     "metadata": {},
     "output_type": "display_data"
    },
    {
     "name": "stdout",
     "output_type": "stream",
     "text": [
      "EPOCH 0 ---------------------------------------- STEP 216                                                                                                                                                            \n",
      "epoch      trn_loss   val_loss   accuracy   \n",
      "    0      0.353664   1.027977   0.644578  \n",
      "EPOCH 1 ---------------------------------------- STEP 217                                                                                                                                                            \n",
      "    1      0.378796   1.035852   0.644578  \n",
      "EPOCH 2 ---------------------------------------- STEP 218                                                                                                                                                            \n",
      "    2      0.369143   1.042463   0.638554  \n",
      "EPOCH 3 ---------------------------------------- STEP 219                                                                                                                                                            \n",
      "    3      0.375773   1.06208    0.650602  \n",
      "EPOCH 4 ---------------------------------------- STEP 220                                                                                                                                                            \n",
      "    4      0.385236   1.056919   0.656627  \n",
      "EPOCH 5 ---------------------------------------- STEP 221                                                                                                                                                            \n",
      "    5      0.383265   1.040763   0.650602  \n",
      "EPOCH 6 ---------------------------------------- STEP 222                                                                                                                                                            \n",
      "    6      0.380177   1.054427   0.644578  \n",
      "EPOCH 7 ---------------------------------------- STEP 223                                                                                                                                                            \n",
      "    7      0.390451   1.051366   0.644578  \n",
      "EPOCH 8 ---------------------------------------- STEP 224                                                                                                                                                            \n",
      "    8      0.386586   1.033792   0.644578  \n",
      "EPOCH 9 ---------------------------------------- STEP 225                                                                                                                                                            \n",
      "    9      0.372468   1.040414   0.644578  \n",
      "EPOCH 10 ---------------------------------------- STEP 226                                                                                                                                                           \n",
      "    10     0.376174   1.047061   0.650602  \n",
      "EPOCH 11 ---------------------------------------- STEP 227                                                                                                                                                           \n",
      "    11     0.366859   1.045682   0.644578  \n",
      "EPOCH 12 ---------------------------------------- STEP 228                                                                                                                                                           \n",
      "    12     0.373105   1.052551   0.644578  \n",
      "EPOCH 13 ---------------------------------------- STEP 229                                                                                                                                                           \n",
      "    13     0.378473   1.040918   0.650602  \n",
      "EPOCH 14 ---------------------------------------- STEP 230                                                                                                                                                           \n",
      "    14     0.380387   1.048601   0.644578  \n",
      "EPOCH 15 ---------------------------------------- STEP 231                                                                                                                                                           \n",
      "    15     0.379494   1.048547   0.644578  \n",
      "EPOCH 16 ---------------------------------------- STEP 232                                                                                                                                                           \n",
      "    16     0.370818   1.039616   0.644578  \n",
      "EPOCH 17 ---------------------------------------- STEP 233                                                                                                                                                           \n",
      "    17     0.370103   1.03759    0.644578  \n",
      "EPOCH 18 ---------------------------------------- STEP 234                                                                                                                                                           \n",
      "    18     0.363258   1.037835   0.644578  \n",
      "EPOCH 19 ---------------------------------------- STEP 235                                                                                                                                                           \n",
      "    19     0.36263    1.038585   0.656627  \n",
      "EPOCH 20 ---------------------------------------- STEP 236                                                                                                                                                           \n",
      "    20     0.37001    1.048727   0.644578  \n",
      "EPOCH 21 ---------------------------------------- STEP 237                                                                                                                                                           \n",
      "    21     0.363661   1.043092   0.644578  \n",
      "EPOCH 22 ---------------------------------------- STEP 238                                                                                                                                                           \n",
      "    22     0.360565   1.046266   0.644578  \n",
      "EPOCH 23 ---------------------------------------- STEP 239                                                                                                                                                           \n",
      "    23     0.356156   1.033474   0.650602  \n",
      "EPOCH 24 ---------------------------------------- STEP 240                                                                                                                                                           \n",
      "    24     0.35949    1.032778   0.650602  \n",
      "EPOCH 25 ---------------------------------------- STEP 241                                                                                                                                                           \n",
      "    25     0.367243   1.050167   0.638554  \n",
      "EPOCH 26 ---------------------------------------- STEP 242                                                                                                                                                           \n",
      "    26     0.373096   1.044599   0.638554  \n",
      "EPOCH 27 ---------------------------------------- STEP 243                                                                                                                                                           \n",
      "    27     0.373245   1.045542   0.644578  \n",
      "EPOCH 28 ---------------------------------------- STEP 244                                                                                                                                                           \n",
      "    28     0.374262   1.03417    0.656627  \n",
      "EPOCH 29 ---------------------------------------- STEP 245                                                                                                                                                           \n",
      "    29     0.376933   1.049064   0.650602  \n",
      "EPOCH 30 ---------------------------------------- STEP 246                                                                                                                                                           \n",
      "    30     0.378755   1.042964   0.650602  \n"
     ]
    },
    {
     "name": "stdout",
     "output_type": "stream",
     "text": [
      "EPOCH 31 ---------------------------------------- STEP 247                                                                                                                                                           \n",
      "    31     0.377045   1.046355   0.644578  \n",
      "\n",
      "appending existing log-files...\n",
      "log-files saved to: datasets/Hirano3D/\n",
      "appending existing log-files...\n",
      "log-files saved to: datasets/Hirano3D/\n",
      "Wall time: 15min 24s\n"
     ]
    },
    {
     "data": {
      "text/plain": [
       "[array([1.04636]), 0.6445783168436533]"
      ]
     },
     "execution_count": 26,
     "metadata": {},
     "output_type": "execute_result"
    }
   ],
   "source": [
    "%time learn.fit(1e-5, 2, cycle_len=16, wds=wd, use_wd_sched=True, use_clr=(20,8, 0.95, 0.85), best_save_name='H3D_Res18_local_v3_8')"
   ]
  },
  {
   "cell_type": "code",
   "execution_count": 27,
   "metadata": {},
   "outputs": [
    {
     "data": {
      "application/vnd.jupyter.widget-view+json": {
       "model_id": "a4aa2a11276148bdb0475ca67956177c",
       "version_major": 2,
       "version_minor": 0
      },
      "text/plain": [
       "HBox(children=(IntProgress(value=0, description='Epoch', max=32), HTML(value='')))"
      ]
     },
     "metadata": {},
     "output_type": "display_data"
    },
    {
     "name": "stdout",
     "output_type": "stream",
     "text": [
      "EPOCH 0 ---------------------------------------- STEP 248                                                                                                                                                            \n",
      "epoch      trn_loss   val_loss   accuracy   \n",
      "    0      0.400751   1.040245   0.644578  \n",
      "EPOCH 1 ---------------------------------------- STEP 249                                                                                                                                                            \n",
      "    1      0.388181   1.044493   0.662651  \n",
      "EPOCH 2 ---------------------------------------- STEP 250                                                                                                                                                            \n",
      "    2      0.389151   1.034721   0.650602  \n",
      "EPOCH 3 ---------------------------------------- STEP 251                                                                                                                                                            \n",
      "    3      0.380031   1.040415   0.656627  \n",
      "EPOCH 4 ---------------------------------------- STEP 252                                                                                                                                                            \n",
      "    4      0.379043   1.0488     0.644578  \n",
      "EPOCH 5 ---------------------------------------- STEP 253                                                                                                                                                            \n",
      "    5      0.379967   1.042801   0.650602  \n",
      "EPOCH 6 ---------------------------------------- STEP 254                                                                                                                                                            \n",
      "    6      0.380791   1.048678   0.644578  \n",
      "EPOCH 7 ---------------------------------------- STEP 255                                                                                                                                                            \n",
      "    7      0.380205   1.046894   0.656627  \n",
      "EPOCH 8 ---------------------------------------- STEP 256                                                                                                                                                            \n",
      "    8      0.374134   1.052383   0.656627  \n",
      "EPOCH 9 ---------------------------------------- STEP 257                                                                                                                                                            \n",
      "    9      0.361302   1.057812   0.656627  \n",
      "EPOCH 10 ---------------------------------------- STEP 258                                                                                                                                                           \n",
      "    10     0.364314   1.060343   0.650602  \n",
      "EPOCH 11 ---------------------------------------- STEP 259                                                                                                                                                           \n",
      "    11     0.367872   1.049404   0.644578  \n",
      "EPOCH 12 ---------------------------------------- STEP 260                                                                                                                                                           \n",
      "    12     0.376446   1.044446   0.644578  \n",
      "EPOCH 13 ---------------------------------------- STEP 261                                                                                                                                                           \n",
      "    13     0.377914   1.036611   0.644578  \n",
      "EPOCH 14 ---------------------------------------- STEP 262                                                                                                                                                           \n",
      "    14     0.386132   1.047522   0.650602  \n",
      "EPOCH 15 ---------------------------------------- STEP 263                                                                                                                                                           \n",
      "    15     0.382381   1.03553    0.656627  \n",
      "EPOCH 16 ---------------------------------------- STEP 264                                                                                                                                                           \n",
      "    16     0.382961   1.054512   0.650602  \n",
      "EPOCH 17 ---------------------------------------- STEP 265                                                                                                                                                           \n",
      "    17     0.368887   1.047625   0.650602  \n",
      "EPOCH 18 ---------------------------------------- STEP 266                                                                                                                                                           \n",
      "    18     0.371355   1.043198   0.656627  \n",
      "EPOCH 19 ---------------------------------------- STEP 267                                                                                                                                                           \n",
      "    19     0.374389   1.059033   0.644578  \n",
      "EPOCH 20 ---------------------------------------- STEP 268                                                                                                                                                           \n",
      "    20     0.366081   1.053705   0.656627  \n",
      "EPOCH 21 ---------------------------------------- STEP 269                                                                                                                                                           \n",
      "    21     0.367842   1.045583   0.656627  \n",
      "EPOCH 22 ---------------------------------------- STEP 270                                                                                                                                                           \n",
      "    22     0.367158   1.040846   0.656627  \n",
      "EPOCH 23 ---------------------------------------- STEP 271                                                                                                                                                           \n",
      "    23     0.364366   1.045115   0.644578  \n",
      "EPOCH 24 ---------------------------------------- STEP 272                                                                                                                                                           \n",
      "    24     0.362162   1.034732   0.656627  \n",
      "EPOCH 25 ---------------------------------------- STEP 273                                                                                                                                                           \n",
      "    25     0.371982   1.043005   0.650602  \n",
      "EPOCH 26 ---------------------------------------- STEP 274                                                                                                                                                           \n",
      "    26     0.378975   1.038516   0.650602  \n",
      "EPOCH 27 ---------------------------------------- STEP 275                                                                                                                                                           \n",
      "    27     0.373548   1.038299   0.650602  \n",
      "EPOCH 28 ---------------------------------------- STEP 276                                                                                                                                                           \n",
      "    28     0.373475   1.033468   0.656627  \n",
      "EPOCH 29 ---------------------------------------- STEP 277                                                                                                                                                           \n",
      "    29     0.377129   1.039716   0.650602  \n",
      "EPOCH 30 ---------------------------------------- STEP 278                                                                                                                                                           \n",
      "    30     0.374747   1.049529   0.644578  \n"
     ]
    },
    {
     "name": "stdout",
     "output_type": "stream",
     "text": [
      "EPOCH 31 ---------------------------------------- STEP 279                                                                                                                                                           \n",
      "    31     0.372055   1.055406   0.644578  \n",
      "\n",
      "appending existing log-files...\n",
      "log-files saved to: datasets/Hirano3D/\n",
      "appending existing log-files...\n",
      "log-files saved to: datasets/Hirano3D/\n",
      "Wall time: 15min 17s\n"
     ]
    },
    {
     "data": {
      "text/plain": [
       "[array([1.05541]), 0.6445783075079861]"
      ]
     },
     "execution_count": 27,
     "metadata": {},
     "output_type": "execute_result"
    }
   ],
   "source": [
    "%time learn.fit(5e-6, 2, cycle_len=16, wds=wd, use_wd_sched=True, use_clr=(20,8, 0.95, 0.85), best_save_name='H3D_Res18_local_v3_9')"
   ]
  },
  {
   "cell_type": "code",
   "execution_count": 28,
   "metadata": {},
   "outputs": [
    {
     "data": {
      "application/vnd.jupyter.widget-view+json": {
       "model_id": "d8285b20017f4ae892fe36532fa990c8",
       "version_major": 2,
       "version_minor": 0
      },
      "text/plain": [
       "HBox(children=(IntProgress(value=0, description='Epoch', max=32), HTML(value='')))"
      ]
     },
     "metadata": {},
     "output_type": "display_data"
    },
    {
     "name": "stdout",
     "output_type": "stream",
     "text": [
      "EPOCH 0 ---------------------------------------- STEP 280                                                                                                                                                            \n",
      "epoch      trn_loss   val_loss   accuracy   \n",
      "    0      0.367204   1.05853    0.644578  \n",
      "EPOCH 1 ---------------------------------------- STEP 281                                                                                                                                                            \n",
      "    1      0.365431   1.051582   0.650602  \n",
      "EPOCH 2 ---------------------------------------- STEP 282                                                                                                                                                            \n",
      "    2      0.364539   1.062111   0.644578  \n",
      "EPOCH 3 ---------------------------------------- STEP 283                                                                                                                                                            \n",
      "    3      0.374116   1.06968    0.63253   \n",
      "EPOCH 4 ---------------------------------------- STEP 284                                                                                                                                                            \n",
      "    4      0.379019   1.05341    0.644578  \n",
      "EPOCH 5 ---------------------------------------- STEP 285                                                                                                                                                            \n",
      "    5      0.368342   1.066611   0.63253   \n",
      "EPOCH 6 ---------------------------------------- STEP 286                                                                                                                                                            \n",
      "    6      0.370778   1.071194   0.63253   \n",
      "EPOCH 7 ---------------------------------------- STEP 287                                                                                                                                                            \n",
      "    7      0.369917   1.076377   0.63253   \n",
      "EPOCH 8 ---------------------------------------- STEP 288                                                                                                                                                            \n",
      "    8      0.368981   1.067346   0.638554  \n",
      "EPOCH 9 ---------------------------------------- STEP 289                                                                                                                                                            \n",
      "    9      0.362554   1.061369   0.638554  \n",
      "EPOCH 10 ---------------------------------------- STEP 290                                                                                                                                                           \n",
      "    10     0.357369   1.081422   0.638554  \n",
      "EPOCH 11 ---------------------------------------- STEP 291                                                                                                                                                           \n",
      "    11     0.355971   1.050327   0.644578  \n",
      "EPOCH 12 ---------------------------------------- STEP 292                                                                                                                                                           \n",
      "    12     0.354893   1.049919   0.656627  \n",
      "EPOCH 13 ---------------------------------------- STEP 293                                                                                                                                                           \n",
      "    13     0.362087   1.073845   0.650602  \n",
      "EPOCH 14 ---------------------------------------- STEP 294                                                                                                                                                           \n",
      "    14     0.347442   1.059991   0.644578  \n",
      "EPOCH 15 ---------------------------------------- STEP 295                                                                                                                                                           \n",
      "    15     0.351612   1.061945   0.656627  \n",
      "EPOCH 16 ---------------------------------------- STEP 296                                                                                                                                                           \n",
      "    16     0.35209    1.041298   0.650602  \n",
      "EPOCH 17 ---------------------------------------- STEP 297                                                                                                                                                           \n",
      "    17     0.348994   1.051454   0.650602  \n",
      "EPOCH 18 ---------------------------------------- STEP 298                                                                                                                                                           \n",
      "    18     0.34743    1.061922   0.650602  \n",
      "EPOCH 19 ---------------------------------------- STEP 299                                                                                                                                                           \n",
      "    19     0.353809   1.073519   0.644578  \n",
      "EPOCH 20 ---------------------------------------- STEP 300                                                                                                                                                           \n",
      "    20     0.353663   1.080598   0.650602  \n",
      "EPOCH 21 ---------------------------------------- STEP 301                                                                                                                                                           \n",
      "    21     0.35354    1.083064   0.63253   \n",
      "EPOCH 22 ---------------------------------------- STEP 302                                                                                                                                                           \n",
      "    22     0.352536   1.0785     0.638554  \n",
      "EPOCH 23 ---------------------------------------- STEP 303                                                                                                                                                           \n",
      "    23     0.34773    1.073372   0.644578  \n",
      "EPOCH 24 ---------------------------------------- STEP 304                                                                                                                                                           \n",
      "    24     0.360029   1.081197   0.644578  \n",
      "EPOCH 25 ---------------------------------------- STEP 305                                                                                                                                                           \n",
      "    25     0.3615     1.072251   0.656627  \n",
      "EPOCH 26 ---------------------------------------- STEP 306                                                                                                                                                           \n",
      "    26     0.356258   1.057808   0.650602  \n",
      "EPOCH 27 ---------------------------------------- STEP 307                                                                                                                                                           \n",
      "    27     0.369185   1.061725   0.656627  \n",
      "EPOCH 28 ---------------------------------------- STEP 308                                                                                                                                                           \n",
      "    28     0.367071   1.067409   0.650602  \n",
      "EPOCH 29 ---------------------------------------- STEP 309                                                                                                                                                           \n",
      "    29     0.36995    1.075442   0.644578  \n",
      "EPOCH 30 ---------------------------------------- STEP 310                                                                                                                                                           \n",
      "    30     0.362644   1.066622   0.656627  \n"
     ]
    },
    {
     "name": "stdout",
     "output_type": "stream",
     "text": [
      "EPOCH 31 ---------------------------------------- STEP 311                                                                                                                                                           \n",
      "    31     0.365883   1.057258   0.650602  \n",
      "\n",
      "appending existing log-files...\n",
      "log-files saved to: datasets/Hirano3D/\n",
      "appending existing log-files...\n",
      "log-files saved to: datasets/Hirano3D/\n",
      "Wall time: 15min 51s\n"
     ]
    },
    {
     "data": {
      "text/plain": [
       "[array([1.05726]), 0.6506024132291954]"
      ]
     },
     "execution_count": 28,
     "metadata": {},
     "output_type": "execute_result"
    }
   ],
   "source": [
    "%time learn.fit(1e-4, 2, cycle_len=16, wds=wd, use_wd_sched=True, use_clr=(20,8, 0.95, 0.85), best_save_name='H3D_Res18_local_v3_10')"
   ]
  },
  {
   "cell_type": "code",
   "execution_count": null,
   "metadata": {},
   "outputs": [],
   "source": [
    "learn.save('Hirano3D_v1_ResNet18_512_72')"
   ]
  },
  {
   "cell_type": "code",
   "execution_count": null,
   "metadata": {},
   "outputs": [],
   "source": [
    "learn.load('Hirano3D_v1_ResNet18_512_72')"
   ]
  },
  {
   "cell_type": "code",
   "execution_count": null,
   "metadata": {},
   "outputs": [],
   "source": [
    "learn.warm_up(1e-10)"
   ]
  },
  {
   "cell_type": "markdown",
   "metadata": {},
   "source": [
    "## test-predictions"
   ]
  },
  {
   "cell_type": "code",
   "execution_count": 62,
   "metadata": {},
   "outputs": [
    {
     "name": "stdout",
     "output_type": "stream",
     "text": [
      "                                                                                                                                                                                                                     \r"
     ]
    }
   ],
   "source": [
    "log_preds, y = learn.TTA(n_aug=8)\n",
    "# preds = np.argmax(log_preds, axis=1)"
   ]
  },
  {
   "cell_type": "code",
   "execution_count": 5,
   "metadata": {},
   "outputs": [],
   "source": [
    "_clss = {'NM17-002': 0,'Ctrl-AK': 0,'GUK1-D': 1,'GUK1-R': 1,'MFN2-1': 2,'VCP-1': 3}"
   ]
  },
  {
   "cell_type": "code",
   "execution_count": 30,
   "metadata": {},
   "outputs": [
    {
     "name": "stdout",
     "output_type": "stream",
     "text": [
      "[[37  2 12  8]\n",
      " [ 3 28  4  4]\n",
      " [10  1 27  5]\n",
      " [ 2  3  3 17]]\n"
     ]
    },
    {
     "data": {
      "image/png": "[encoded data removed]",
      "text/plain": [
       "<Figure size 432x288 with 2 Axes>"
      ]
     },
     "metadata": {},
     "output_type": "display_data"
    }
   ],
   "source": [
    "# Plot confusion matrix \n",
    "plt.style.use('seaborn-white')\n",
    "log_preds_mean = np.mean(log_preds, axis=0)\n",
    "preds = np.argmax(log_preds_mean, axis=1)\n",
    "cm = confusion_matrix(preds,y)\n",
    "plot_confusion_matrix(cm, data.classes)"
   ]
  },
  {
   "cell_type": "code",
   "execution_count": 31,
   "metadata": {},
   "outputs": [
    {
     "name": "stdout",
     "output_type": "stream",
     "text": [
      "0.6566265060240963\n",
      "             precision    recall  f1-score   support\n",
      "\n",
      "          0       0.71      0.63      0.67        59\n",
      "          1       0.82      0.72      0.77        39\n",
      "          2       0.59      0.63      0.61        43\n",
      "          3       0.50      0.68      0.58        25\n",
      "\n",
      "avg / total       0.67      0.66      0.66       166\n",
      "\n"
     ]
    }
   ],
   "source": [
    "from sklearn.metrics import classification_report\n",
    "from sklearn.metrics import accuracy_score\n",
    "\n",
    "print(accuracy_score(preds, y))\n",
    "print(classification_report(preds, y, target_names=data.classes))"
   ]
  },
  {
   "cell_type": "code",
   "execution_count": null,
   "metadata": {},
   "outputs": [],
   "source": [
    "log_preds, y =  learn.TTA(is_test=True)\n",
    "log_preds_mean = np.mean(log_preds, axis=0)\n",
    "preds = np.argmax(log_preds_mean, axis=1)\n",
    "print(preds)"
   ]
  },
  {
   "cell_type": "code",
   "execution_count": 32,
   "metadata": {},
   "outputs": [],
   "source": [
    "# function to be called by register_forward_hook\n",
    "\n",
    "def get_embeddings(layer_name):\n",
    "    def register_hook(layer_name):\n",
    "        def get_embedding(layer, inp, outp):\n",
    "            tmp = inp[0]\n",
    "            embedding.append(tmp)\n",
    "\n",
    "        hook = layer.register_forward_hook(get_embedding) \n",
    "        \n",
    "        for i in ['trn', 'val', 'test']:\n",
    "            embedding = []\n",
    "            preds, y = learn.predict_with_targs(i)\n",
    "            \n",
    "            # populating dict, consiting of [0]: preds, [1]: y, [2]: activations[layer]\n",
    "            embeddings[i] = [preds, y, np.vstack(to_np(embedding))]\n",
    "            \n",
    "        hook.remove()\n",
    "        \n",
    "    embeddings = {}    \n",
    "    layer = learn.models.model._modules.get(layer_name)\n",
    "    register_hook(layer)\n",
    "    \n",
    "    return embeddings"
   ]
  },
  {
   "cell_type": "code",
   "execution_count": 33,
   "metadata": {},
   "outputs": [],
   "source": [
    "embeddings = get_embeddings('14')"
   ]
  },
  {
   "cell_type": "code",
   "execution_count": 34,
   "metadata": {},
   "outputs": [
    {
     "name": "stdout",
     "output_type": "stream",
     "text": [
      "(664, 512)\n",
      "(166, 512)\n",
      "(60, 512)\n",
      "(664,)\n",
      "(166,)\n",
      "(60,)\n"
     ]
    }
   ],
   "source": [
    "# unpacking embeddings\n",
    "\n",
    "embs_trn = embeddings['trn'][2]\n",
    "y_trn = embeddings['trn'][1]\n",
    "\n",
    "embs_val = embeddings['val'][2]\n",
    "y_val = embeddings['val'][1]\n",
    "\n",
    "embs_test = embeddings['test'][2]\n",
    "y_test = embeddings['test'][1]\n",
    "\n",
    "print(embs_trn.shape)\n",
    "print(embs_val.shape)\n",
    "print(embs_test.shape)\n",
    "\n",
    "print(y_trn.shape)\n",
    "print(y_val.shape)\n",
    "print(y_test.shape)\n"
   ]
  },
  {
   "cell_type": "code",
   "execution_count": 35,
   "metadata": {},
   "outputs": [],
   "source": [
    "import umap"
   ]
  },
  {
   "cell_type": "code",
   "execution_count": 60,
   "metadata": {},
   "outputs": [
    {
     "data": {
      "text/plain": [
       "array([1., 1., 1., 1., 1., 1., 1., 1., 1., 1., 1., 1., 1., 1., 1., 1., 1., 1., 1., 1., 1., 1., 1., 1., 1.,\n",
       "       1., 1., 1., 1., 1., 0., 0., 0., 0., 0., 0., 0., 0., 0., 0., 0., 0., 0., 0., 0., 0., 0., 0., 0., 0.,\n",
       "       0., 0., 0., 0., 0., 0., 0., 0., 0., 0.])"
      ]
     },
     "execution_count": 60,
     "metadata": {},
     "output_type": "execute_result"
    }
   ],
   "source": [
    "y_test = np.zeros(60)\n",
    "y_test[:30] = y_test[:30] +1 \n",
    "y_test"
   ]
  },
  {
   "cell_type": "code",
   "execution_count": 57,
   "metadata": {},
   "outputs": [],
   "source": [
    "UMAP_trn_embedding = umap.UMAP(n_neighbors=10,\n",
    "                      min_dist=0.4,\n",
    "                      metric='correlation').fit(embs_trn)\n",
    "\n",
    "UMAP_trn = UMAP_trn_embedding.embedding_\n",
    "UMAP_val = UMAP_trn_embedding.transform(embs_val)\n",
    "UMAP_test = UMAP_trn_embedding.transform(embs_test)"
   ]
  },
  {
   "cell_type": "code",
   "execution_count": 58,
   "metadata": {},
   "outputs": [],
   "source": [
    "# data.test_ds.fnames"
   ]
  },
  {
   "cell_type": "code",
   "execution_count": 61,
   "metadata": {},
   "outputs": [
    {
     "data": {
      "image/png": "[encoded data removed]",
      "text/plain": [
       "<Figure size 1440x576 with 2 Axes>"
      ]
     },
     "metadata": {},
     "output_type": "display_data"
    }
   ],
   "source": [
    "# plotting PCA vs TSNE results\n",
    "\n",
    "fig, axarr = plt.subplots(1, 2, figsize=(20, 8))\n",
    "\n",
    "compA = 0\n",
    "compB = 1\n",
    "\n",
    "for i in range(4):\n",
    "    trn_UMAP_cls = UMAP_trn[y_trn == i]\n",
    "\n",
    "    axarr[0].scatter(trn_UMAP_cls[:,compA], trn_UMAP_cls[:,compB], label = data.classes[i], s = 5)\n",
    "    axarr[0].legend(loc='center left', bbox_to_anchor=(1, 0.5))\n",
    "    \n",
    "    if i == 0:\n",
    "        axarr[1].scatter(trn_UMAP_cls[:,compA], trn_UMAP_cls[:,compB], label = data.classes[i], s = 5)\n",
    "\n",
    "#     axarr[0].set_xlim(-10,5)\n",
    "#     axarr[0].set_ylim(-5,8)\n",
    "    \n",
    "for i in [0,1]:\n",
    "    test_UMAP_cls = UMAP_test[y_test == i]\n",
    "    \n",
    "    axarr[1].scatter(test_UMAP_cls[:,compA], test_UMAP_cls[:,compB], s = 5)\n",
    "    axarr[1].legend(loc='center left', bbox_to_anchor=(1, 0.5))\n",
    "#     axarr[1].set_xlim(-10,5)\n",
    "#     axarr[1].set_ylim(-5,8)\n"
   ]
  },
  {
   "cell_type": "code",
   "execution_count": null,
   "metadata": {},
   "outputs": [],
   "source": []
  },
  {
   "cell_type": "code",
   "execution_count": null,
   "metadata": {},
   "outputs": [],
   "source": []
  },
  {
   "cell_type": "code",
   "execution_count": null,
   "metadata": {},
   "outputs": [],
   "source": [
    "def opt_th(preds, targs, start=0.2, end=0.6, step=0.05):\n",
    "    ths = np.arange(start,end,step)\n",
    "    res = [f1_macro(preds, targs, thresh=th, kind='macro') for th in ths]\n",
    "    idx = np.argmax(res)\n",
    "    return ths[idx], res"
   ]
  },
  {
   "cell_type": "code",
   "execution_count": null,
   "metadata": {},
   "outputs": [],
   "source": [
    "# get train predictions\n",
    "\n",
    "preds_trn, targs_trn =  learn.predict_with_targs('trn')\n",
    "\n",
    "preds_trn_torch = torch.from_numpy(preds_trn)\n",
    "targs_trn_torch = torch.from_numpy(targs_trn)\n",
    "\n",
    "opt_th(preds_trn_torch, targs_trn_torch)"
   ]
  },
  {
   "cell_type": "code",
   "execution_count": null,
   "metadata": {},
   "outputs": [],
   "source": [
    "print(preds_val_torch[0])\n",
    "print(preds_trn_torch[0])"
   ]
  },
  {
   "cell_type": "code",
   "execution_count": null,
   "metadata": {},
   "outputs": [],
   "source": [
    "# get val predictions\n",
    "\n",
    "preds_val, targs_val =  learn.predict_with_targs('val')\n",
    "\n",
    "preds_val_torch = torch.from_numpy(preds_val)\n",
    "targs_val_torch = torch.from_numpy(targs_val)\n",
    "\n",
    "opt_th(preds_val_torch, targs_val_torch)"
   ]
  },
  {
   "cell_type": "code",
   "execution_count": null,
   "metadata": {},
   "outputs": [],
   "source": [
    "# get test predictions\n",
    "\n",
    "preds_test, targs_test =  learn.predict_with_targs('test')"
   ]
  },
  {
   "cell_type": "code",
   "execution_count": null,
   "metadata": {},
   "outputs": [],
   "source": [
    "targs_test[:50]"
   ]
  },
  {
   "cell_type": "code",
   "execution_count": null,
   "metadata": {},
   "outputs": [],
   "source": [
    "def load_epoch(dl = data.trn_dl):\n",
    "    \n",
    "    batch = iter(dl)\n",
    "\n",
    "    xs = []\n",
    "    ys = []\n",
    "\n",
    "#     for b in range(0,len(dl)):\n",
    "    for b in range(0,10):\n",
    "\n",
    "        x_, y_ = next(batch)\n",
    "        x_np, y_np = to_np(x_), to_np(y_)\n",
    "        xs.append(x_np)\n",
    "        ys.append(y_np)\n",
    "\n",
    "    return np.vstack(xs), np.concatenate(ys)"
   ]
  },
  {
   "cell_type": "code",
   "execution_count": null,
   "metadata": {},
   "outputs": [],
   "source": [
    "data.test_dl.sampler"
   ]
  },
  {
   "cell_type": "code",
   "execution_count": null,
   "metadata": {},
   "outputs": [],
   "source": [
    "test_names = data.test_ds.fnames\n",
    "test_names[:10]"
   ]
  },
  {
   "cell_type": "code",
   "execution_count": null,
   "metadata": {},
   "outputs": [],
   "source": []
  },
  {
   "cell_type": "code",
   "execution_count": null,
   "metadata": {},
   "outputs": [],
   "source": []
  },
  {
   "cell_type": "code",
   "execution_count": null,
   "metadata": {},
   "outputs": [],
   "source": [
    "def create_submission(preds_file, output_name, th = 0.3, TTA=False):\n",
    "    \n",
    "    # creating submission file\n",
    "    \n",
    "    if TTA:\n",
    "        preds = preds_file.mean(axis=0)\n",
    "        print('TTA:',preds.shape)\n",
    "    else: preds = preds_file\n",
    "    \n",
    "    clss = np.arange(0, len(data.classes)) # get class indeces\n",
    "    res = np.array([' '.join(np.char.mod('%d', clss[np.where(p > th)])) for p in preds]) # generating output\n",
    "\n",
    "    # ensure that there are no empty cells: in case no value > thresh, fill in with argmax()\n",
    "    for i in range(res.shape[0]):\n",
    "        if res[i] == '':\n",
    "            res[i] = preds[i].argmax()\n",
    "\n",
    "    # getting image Ids\n",
    "    fnames = np.array([os.path.basename(im).split('.')[0] for im in data.test_ds.fnames])\n",
    "\n",
    "    # creating submission file\n",
    "    sub_df = pd.DataFrame(res, index=fnames, columns=['Predicted'])\n",
    "    sub_df.to_csv(output_name, index_label='Id')"
   ]
  },
  {
   "cell_type": "code",
   "execution_count": null,
   "metadata": {},
   "outputs": [],
   "source": [
    "submission_name = PATH + 'submissions/Res18_pre_0.42_t-03.csv'\n",
    "\n",
    "create_submission(log_preds, submission_name, th=0.3, TTA=True)"
   ]
  },
  {
   "cell_type": "markdown",
   "metadata": {},
   "source": [
    "## other stuff"
   ]
  },
  {
   "cell_type": "code",
   "execution_count": null,
   "metadata": {},
   "outputs": [],
   "source": [
    "# List of label identities:\n",
    "\n",
    "cell_location_label = {\n",
    "0:  'Nucleoplasm',\n",
    "1:  'Nuclear membrane',\n",
    "2:  'Nucleoli',   \n",
    "3:  'Nucleoli fibrillar center',\n",
    "4:  'Nuclear speckles',\n",
    "5:  'Nuclear bodies',\n",
    "6:  'Endoplasmic reticulum',   \n",
    "7:  'Golgi apparatus',\n",
    "8:  'Peroxisomes',\n",
    "9:  'Endosomes',\n",
    "10:  'Lysosomes',\n",
    "11:  'Intermediate filaments',\n",
    "12:  'Actin filaments',\n",
    "13:  'Focal adhesion sites',   \n",
    "14:  'Microtubules',\n",
    "15:  'Microtubule ends',  \n",
    "16:  'Cytokinetic bridge',   \n",
    "17:  'Mitotic spindle',\n",
    "18:  'Microtubule organizing center',  \n",
    "19:  'Centrosome',\n",
    "20:  'Lipid droplets',\n",
    "21:  'Plasma membrane',   \n",
    "22:  'Cell junctions', \n",
    "23:  'Mitochondria',\n",
    "24:  'Aggresome',\n",
    "25:  'Cytosol',\n",
    "26:  'Cytoplasmic bodies',   \n",
    "27:  'Rods & rings' }"
   ]
  },
  {
   "cell_type": "code",
   "execution_count": null,
   "metadata": {},
   "outputs": [],
   "source": [
    "# from sklearn.metrics import f1_score\n",
    "\n",
    "# thresholds = np.linspace(0, 1, 1000)\n",
    "# score = 0.0\n",
    "# test_threshold=0.5*np.ones(28)\n",
    "# best_threshold=np.zeros(28)\n",
    "# best_val = np.zeros(28)\n",
    "# for i in range(28):\n",
    "#     for threshold in thresholds:\n",
    "#         test_threshold[i] = threshold\n",
    "#         max_val = np.max(preds_y)\n",
    "#         val_predict = (preds_y > test_threshold)\n",
    "#         score = f1_score(valid_y > 0.5, val_predict, average='macro')\n",
    "#         if score > best_val[i]:\n",
    "#             best_threshold[i] = threshold\n",
    "#             best_val[i] = score\n",
    "#     print(\"Threshold[%d] %0.6f, F1: %0.6f\" % (i,best_threshold[i],best_val[i]))\n",
    "#     test_threshold[i] = best_threshold[i]\n",
    "# print(\"Best threshold: \")\n",
    "# print(best_threshold)\n",
    "# print(\"Best f1:\")\n",
    "# print(best_val)"
   ]
  }
 ],
 "metadata": {
  "kernelspec": {
   "display_name": "Python 3",
   "language": "python",
   "name": "python3"
  },
  "language_info": {
   "codemirror_mode": {
    "name": "ipython",
    "version": 3
   },
   "file_extension": ".py",
   "mimetype": "text/x-python",
   "name": "python",
   "nbconvert_exporter": "python",
   "pygments_lexer": "ipython3",
   "version": "3.6.5"
  }
 },
 "nbformat": 4,
 "nbformat_minor": 2
}
