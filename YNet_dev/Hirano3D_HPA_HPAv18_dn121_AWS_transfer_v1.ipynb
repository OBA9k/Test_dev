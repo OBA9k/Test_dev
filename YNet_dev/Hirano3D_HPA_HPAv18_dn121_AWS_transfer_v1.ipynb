{
 "cells": [
  {
   "cell_type": "code",
   "execution_count": 1,
   "metadata": {},
   "outputs": [],
   "source": [
    "# %matplotlib inline\n",
    "%reload_ext autoreload\n",
    "%autoreload 2"
   ]
  },
  {
   "cell_type": "code",
   "execution_count": 2,
   "metadata": {},
   "outputs": [],
   "source": [
    "import os\n",
    "from pathlib import Path\n",
    "import skimage.external.tifffile as tiff\n",
    "\n",
    "from common import Statistics, dataset_source\n",
    "from resources.conv_learner import *\n",
    "from resources.plots import *\n",
    "from pprint import pprint\n",
    "import matplotlib.pyplot as plt\n",
    "%matplotlib inline"
   ]
  },
  {
   "cell_type": "code",
   "execution_count": 3,
   "metadata": {},
   "outputs": [],
   "source": [
    "path = \"datasets/HPA_challenge_2018/Hirano3D/\"\n",
    "# data_path = Path(PATH)"
   ]
  },
  {
   "cell_type": "markdown",
   "metadata": {},
   "source": [
    "#### CV generation via sklearn, Multilabel implementation by trent-b, or FastAi\n",
    "\n",
    "Both libraries seem to be completely useless... can just use native fastai function: get_cv_idxs().<br>\n",
    "However, get_cv_idxs() does NOT shuffle...!"
   ]
  },
  {
   "cell_type": "code",
   "execution_count": 4,
   "metadata": {},
   "outputs": [],
   "source": [
    "from sklearn.model_selection import StratifiedShuffleSplit\n",
    "\n",
    "def get_label_stratified_CV_idxs(csv_path):\n",
    "    \n",
    "    _all_labels = pd.read_csv(csv_path)\n",
    "    arr = _all_labels.values\n",
    "\n",
    "    X = arr[:,0]\n",
    "    y = arr[:,1:]\n",
    "    \n",
    "    ### sklearn.model_selection.StratifiedKFold\n",
    "    sss = StratifiedShuffleSplit(n_splits=1, test_size=0.2, random_state=0)\n",
    "    \n",
    "    for train_index, val_index in sss.split(X, y):\n",
    "        trn_idxs = train_index\n",
    "        val_idxs = val_index\n",
    "    \n",
    "    print(f\"\"\"Train label-distribution:\\n\"\"\"\n",
    "          f\"\"\"{pd.Series(arr[:,1][trn_idxs]).value_counts()}\"\"\")\n",
    "    print(f\"\"\"Val label-distribution:\\n\"\"\"\n",
    "          f\"\"\"{pd.Series(arr[:,1][val_idxs]).value_counts()}\"\"\")\n",
    "    \n",
    "    return trn_idxs, val_idxs\n",
    "\n",
    "\n",
    "from iterstrat.ml_stratifiers import MultilabelStratifiedShuffleSplit\n",
    "\n",
    "def get_label_stratified_CV_idxs_multi(csv_path):\n",
    "    \n",
    "    # FastAi csv_source expects a folder-name string to be passed as first arg... -> 'dummy'\n",
    "    X, y, all_lbls = csv_source('dummy', csv_path)\n",
    "    \n",
    "    ### Iterative stratification library: https://github.com/trent-b/iterative-stratification\n",
    "    msss = MultilabelStratifiedShuffleSplit(n_splits=1, test_size=0.2)\n",
    "    \n",
    "    for train_index, val_index in msss.split(X, y):\n",
    "        trn_idxs = train_index\n",
    "        val_idxs = val_index\n",
    "    \n",
    "    trn_count = np.sum(y[trn_idxs], axis=0)\n",
    "    val_count = np.sum(y[val_idxs], axis=0)\n",
    "    \n",
    "    print(f\"\"\"Train label-distribution:\\n\"\"\"\n",
    "          f\"\"\"{trn_count}\"\"\")\n",
    "    print(f\"\"\"Val label-distribution:\\n\"\"\"\n",
    "          f\"\"\"{val_count}\"\"\")\n",
    "    \n",
    "    return trn_idxs, val_idxs"
   ]
  },
  {
   "cell_type": "code",
   "execution_count": 5,
   "metadata": {},
   "outputs": [],
   "source": [
    "import pickle\n",
    "\n",
    "# idxs_dict = {'trn_idxs': trn_idxs, 'val_idxs': val_idxs}\n",
    "\n",
    "# with open('datasets/HPA_challenge_2018/tmp/dn121_AWS_1_cont_idxs.pkl', 'wb') as handle:\n",
    "#     pickle.dump(idxs_dict, handle, protocol=pickle.HIGHEST_PROTOCOL)\n",
    "\n",
    "with open('datasets/HPA_challenge_2018/Hirano3D/Hirano3D_AWS_idxs.pkl', 'rb') as handle:\n",
    "    idxs_dict_load = pickle.load(handle)\n",
    "    \n",
    "val_idxs_loaded = idxs_dict_load['val_idxs']"
   ]
  },
  {
   "cell_type": "code",
   "execution_count": null,
   "metadata": {
    "scrolled": true
   },
   "outputs": [],
   "source": [
    "# setting up a list of a random 20% of images in train as the validation set\n",
    "\n",
    "# lbl_csv = path + 'Kaggle_AND_HPAv18_60x_NoDefDupes_labels.csv'\n",
    "# n = len(list(open(lbl_csv))) -1\n",
    "# val_idxs = get_cv_idxs(n, val_pct=0.2)\n",
    "\n",
    "\n",
    "# Count labels\n",
    "# _all_labels = pd.read_csv(PATH + 'multi_folder_Hirano3D_02.csv')\n",
    "# print(_all_labels.Targets.value_counts())\n",
    "\n",
    "# _arr = _all_labels.values\n",
    "# _val_labels = pd.DataFrame(_arr[val_idxs], columns=['Id','Targets'])\n",
    "# print(_val_labels.Targets.value_counts())"
   ]
  },
  {
   "cell_type": "code",
   "execution_count": null,
   "metadata": {},
   "outputs": [],
   "source": [
    "# l = os.listdir('datasets/HPA_challenge_2018/HPAv18_GBRY_60x_def_dupes_removed_all')\n",
    "# l[0]"
   ]
  },
  {
   "cell_type": "markdown",
   "metadata": {},
   "source": [
    "### Define Dataloader:"
   ]
  },
  {
   "cell_type": "code",
   "execution_count": 6,
   "metadata": {},
   "outputs": [],
   "source": [
    "def get_data(path, lbl_csv, val_idxs, sz, bs, aug_tfms):\n",
    "\n",
    "    tfms = tfms_with_IntNorm(sz, aug_tfms=aug_tfms, crop_type=CropType.CENTER)\n",
    "    data = ImageClassifierData.from_csv(path, 'data', lbl_csv, \n",
    "                                        val_idxs = val_idxs,\n",
    "                                        test_name='data/8bit_Hirano3D_MaxP_GRFB_test_512', \n",
    "                                        tfms=tfms, bs=bs, suffix = '.tif', \n",
    "                                        balance=True, num_workers=0)\n",
    "    return data"
   ]
  },
  {
   "cell_type": "code",
   "execution_count": 7,
   "metadata": {},
   "outputs": [
    {
     "name": "stdout",
     "output_type": "stream",
     "text": [
      "Internal Normalization\n",
      "val_crop is: 2\n",
      "Calculating weights...\n",
      "one-hot encoding single-labels...\n",
      "Weights calculated successfully!\n",
      "Using WeightedRandomSampler\n"
     ]
    }
   ],
   "source": [
    "# define augmentations\n",
    "augs = [RandomDihedral(),RandomRotate(90)]\n",
    "NUM_CLASSES = 4\n",
    "bs = 16\n",
    "sz = [4,512,512]\n",
    "lbl_csv = path + '8bit_multi_folder_Hirano3D_v1.csv'\n",
    "# initialize data object\n",
    "data = get_data(path, lbl_csv, val_idxs_loaded, sz, bs, aug_tfms = augs)"
   ]
  },
  {
   "cell_type": "code",
   "execution_count": 8,
   "metadata": {},
   "outputs": [
    {
     "data": {
      "text/plain": [
       "(4, 512, 512)"
      ]
     },
     "execution_count": 8,
     "metadata": {},
     "output_type": "execute_result"
    }
   ],
   "source": [
    "x, y = next(iter(data.trn_dl))\n",
    "im = to_np(x)[0]\n",
    "im.shape\n",
    "# x_test, y_test = next(iter(data.test_dl))"
   ]
  },
  {
   "cell_type": "code",
   "execution_count": null,
   "metadata": {},
   "outputs": [],
   "source": []
  },
  {
   "cell_type": "code",
   "execution_count": null,
   "metadata": {
    "scrolled": true
   },
   "outputs": [],
   "source": [
    "# print transformations\n",
    "# plt.style.use('seaborn-white')\n",
    "\n",
    "c = 0\n",
    "idx = 0\n",
    "fig, ax = plt.subplots(1,4, figsize=(16,10))\n",
    "for i, ax in enumerate(ax.flat):\n",
    "    x, y = next(iter(data.aug_dl))\n",
    "    im = to_np(x)[idx]\n",
    "#     ax.imshow(np.sum(im, axis = 0))\n",
    "    ax.imshow(im[c])"
   ]
  },
  {
   "cell_type": "code",
   "execution_count": null,
   "metadata": {},
   "outputs": [],
   "source": [
    "# loading epoch for manual inspection..."
   ]
  },
  {
   "cell_type": "code",
   "execution_count": null,
   "metadata": {},
   "outputs": [],
   "source": [
    "def load_epoch(dl = data.trn_dl):\n",
    "    \n",
    "    batch = iter(dl)\n",
    "\n",
    "    xs = []\n",
    "    ys = []\n",
    "\n",
    "#     for b in range(0,len(dl)):\n",
    "    for b in range(0,10):\n",
    "\n",
    "        x_, y_ = next(batch)\n",
    "        x_np, y_np = to_np(x_), to_np(y_)\n",
    "        xs.append(x_np)\n",
    "        ys.append(y_np)\n",
    "\n",
    "    return np.vstack(xs), np.concatenate(ys)\n"
   ]
  },
  {
   "cell_type": "markdown",
   "metadata": {},
   "source": [
    "### inpsecting loaded images and labels"
   ]
  },
  {
   "cell_type": "code",
   "execution_count": null,
   "metadata": {},
   "outputs": [],
   "source": [
    "def to_label(y):\n",
    "    ind = [i for i, p in enumerate(y) if y[i]==1]\n",
    "    return(ind)"
   ]
  },
  {
   "cell_type": "code",
   "execution_count": null,
   "metadata": {
    "scrolled": true
   },
   "outputs": [],
   "source": [
    "# inspect train images\n",
    "plt.style.use('seaborn-white')\n",
    "\n",
    "idx = 2\n",
    "\n",
    "im = to_np(x)[idx]\n",
    "\n",
    "# lbl = to_np(y)[idx]\n",
    "lbl = to_label(to_np(y)[idx])\n",
    "print(lbl)\n",
    "\n",
    "fig, ax = plt.subplots(1,4, figsize=(16,10))\n",
    "for i, ax in enumerate(ax.flat):\n",
    "    ax.imshow(im[i])"
   ]
  },
  {
   "cell_type": "code",
   "execution_count": null,
   "metadata": {
    "scrolled": true
   },
   "outputs": [],
   "source": [
    "# inspect test images\n",
    "plt.style.use('seaborn-white')\n",
    "\n",
    "idx = 3\n",
    "\n",
    "im = to_np(x_test)[idx]\n",
    "\n",
    "# lbl = to_label(to_np(y)[idx])\n",
    "# print(lbl)\n",
    "\n",
    "fig, ax = plt.subplots(1,4, figsize=(16,10))\n",
    "for i, ax in enumerate(ax.flat):\n",
    "    ax.imshow(im[i])"
   ]
  },
  {
   "cell_type": "markdown",
   "metadata": {},
   "source": [
    "# training"
   ]
  },
  {
   "cell_type": "code",
   "execution_count": null,
   "metadata": {},
   "outputs": [],
   "source": [
    "torch.cuda.is_available()"
   ]
  },
  {
   "cell_type": "code",
   "execution_count": 9,
   "metadata": {},
   "outputs": [],
   "source": [
    "import copy\n",
    "\n",
    "def check_model_loading(learn_obj, loaded_state_dict):\n",
    "    learn_weight0 = list(copy.deepcopy(learn_obj.models.model.state_dict()).items())[0] # need deepcopy here\n",
    "    learn_weight10 = list(copy.deepcopy(learn_obj.models.model.state_dict()).items())[604] # need deepcopy here\n",
    "\n",
    "    learn_obj.models.model.load_state_dict(loaded_state_dict, strict=False)\n",
    "    learn_weight0_loaded = list(learn_obj.models.model.state_dict().items())[0]\n",
    "    learn_weight10_loaded = list(learn_obj.models.model.state_dict().items())[604]\n",
    "\n",
    "#     print('weights_0:')\n",
    "#     print(learn_weight0[1][0] - learn_weight0_loaded[1][0])\n",
    "#     print('weights_10:')\n",
    "#     print(learn_weight10[1][0] - learn_weight10_loaded[1][0])"
   ]
  },
  {
   "cell_type": "code",
   "execution_count": 10,
   "metadata": {},
   "outputs": [],
   "source": [
    "saved_state_dict_path = 'datasets/HPA_challenge_2018/models/HPAv18_bs64_sz256_rCrp_dn121_v2_2_val_009.h5'\n",
    "loaded_state_dict = torch.load(saved_state_dict_path)"
   ]
  },
  {
   "cell_type": "code",
   "execution_count": 11,
   "metadata": {},
   "outputs": [
    {
     "name": "stdout",
     "output_type": "stream",
     "text": [
      "loaded_state_dict # keys:  616\n",
      "loaded_state_dict_trunc # keys:  604\n"
     ]
    }
   ],
   "source": [
    "# truncating saved model_state_dict()\n",
    "\n",
    "loaded_state_dict_trunc = copy.deepcopy(loaded_state_dict)\n",
    "del_keys = list(loaded_state_dict_trunc.keys())[604:]\n",
    "for key in del_keys: del loaded_state_dict_trunc[key]\n",
    "\n",
    "print('loaded_state_dict # keys: ', len(loaded_state_dict.keys()))    \n",
    "print('loaded_state_dict_trunc # keys: ', len(loaded_state_dict_trunc.keys()))    \n",
    "\n",
    "# Print model's state_dict\n",
    "# print(\"Model's state_dict:\")\n",
    "# for param_tensor in learn.models.model.state_dict():\n",
    "#     print(param_tensor, \"\\t\", learn.models.model.state_dict()[param_tensor].size())"
   ]
  },
  {
   "cell_type": "code",
   "execution_count": 12,
   "metadata": {},
   "outputs": [],
   "source": [
    "arch = dn121_c\n",
    "\n",
    "learn = ConvLearner.pretrained(arch, data, opt_fn=optim.Adam, ps=0.5, pretrained=False)\n",
    "check_model_loading(learn, loaded_state_dict_trunc)"
   ]
  },
  {
   "cell_type": "code",
   "execution_count": 13,
   "metadata": {},
   "outputs": [],
   "source": [
    "# additional parameters\n",
    "\n",
    "wd=1e-4 # weight-decay/L2 regularization \n",
    "# learn.metrics = [accuracy, f1_micro]"
   ]
  },
  {
   "cell_type": "code",
   "execution_count": 14,
   "metadata": {},
   "outputs": [],
   "source": [
    "learn.unfreeze()"
   ]
  },
  {
   "cell_type": "code",
   "execution_count": 15,
   "metadata": {},
   "outputs": [],
   "source": [
    "lrs = np.array([1e-6,1e-4,1e-3])"
   ]
  },
  {
   "cell_type": "code",
   "execution_count": 16,
   "metadata": {},
   "outputs": [
    {
     "data": {
      "application/vnd.jupyter.widget-view+json": {
       "model_id": "3a13e6d2e3034997b7a968663952301b",
       "version_major": 2,
       "version_minor": 0
      },
      "text/plain": [
       "HBox(children=(IntProgress(value=0, description='Epoch', max=2, style=ProgressStyle(description_width='initial…"
      ]
     },
     "metadata": {},
     "output_type": "display_data"
    },
    {
     "name": "stdout",
     "output_type": "stream",
     "text": [
      "EPOCH 0 ---------------------------------------- STEP 0   \n",
      "epoch      trn_loss   val_loss   accuracy   \n",
      "    0      1.533484   1.259084   0.506024  \n",
      "EPOCH 1 ---------------------------------------- STEP 1   \n",
      "    1      1.306975   1.105823   0.53012   \n",
      "\n",
      "creating log-files...\n",
      "log-files saved to: datasets/HPA_challenge_2018/Hirano3D/\n",
      "appending existing log-files...\n",
      "log-files saved to: datasets/HPA_challenge_2018/Hirano3D/\n",
      "CPU times: user 4min 15s, sys: 25.9 s, total: 4min 41s\n",
      "Wall time: 4min 35s\n"
     ]
    },
    {
     "data": {
      "text/plain": [
       "[array([1.10582]), 0.530120482286775]"
      ]
     },
     "execution_count": 16,
     "metadata": {},
     "output_type": "execute_result"
    }
   ],
   "source": [
    "%time learn.fit(lrs, 2, wds=wd, use_wd_sched=True, best_save_name='Hirano3D_dn121_512_transferHPA_v1')"
   ]
  },
  {
   "cell_type": "code",
   "execution_count": 17,
   "metadata": {},
   "outputs": [
    {
     "data": {
      "application/vnd.jupyter.widget-view+json": {
       "model_id": "e34a60a9edd1439ca48480f6f032b0e3",
       "version_major": 2,
       "version_minor": 0
      },
      "text/plain": [
       "HBox(children=(IntProgress(value=0, description='Epoch', max=3, style=ProgressStyle(description_width='initial…"
      ]
     },
     "metadata": {},
     "output_type": "display_data"
    },
    {
     "name": "stdout",
     "output_type": "stream",
     "text": [
      "EPOCH 0 ---------------------------------------- STEP 2   \n",
      "epoch      trn_loss   val_loss   accuracy   \n",
      "    0      1.119408   1.249912   0.518072  \n",
      "EPOCH 1 ---------------------------------------- STEP 3   \n",
      "    1      1.043418   1.140043   0.53012   \n",
      "EPOCH 2 ---------------------------------------- STEP 4   \n",
      "    2      1.031245   1.063561   0.560241  \n",
      "\n",
      "appending existing log-files...\n",
      "log-files saved to: datasets/HPA_challenge_2018/Hirano3D/\n",
      "appending existing log-files...\n",
      "log-files saved to: datasets/HPA_challenge_2018/Hirano3D/\n",
      "CPU times: user 6min 23s, sys: 34.1 s, total: 6min 57s\n",
      "Wall time: 6min 48s\n"
     ]
    },
    {
     "data": {
      "text/plain": [
       "[array([1.06356]), 0.5602409638554217]"
      ]
     },
     "execution_count": 17,
     "metadata": {},
     "output_type": "execute_result"
    }
   ],
   "source": [
    "%time learn.fit(lrs, 3, wds=wd, use_wd_sched=True, best_save_name='Hirano3D_dn121_512_transferHPA_v1')"
   ]
  },
  {
   "cell_type": "code",
   "execution_count": 18,
   "metadata": {},
   "outputs": [],
   "source": [
    "lrs = np.array([1e-4,5e-4,1e-3])"
   ]
  },
  {
   "cell_type": "code",
   "execution_count": 19,
   "metadata": {
    "scrolled": true
   },
   "outputs": [
    {
     "data": {
      "application/vnd.jupyter.widget-view+json": {
       "model_id": "7decf2460e8d4fea807a823a84db2ac8",
       "version_major": 2,
       "version_minor": 0
      },
      "text/plain": [
       "HBox(children=(IntProgress(value=0, description='Epoch', max=4, style=ProgressStyle(description_width='initial…"
      ]
     },
     "metadata": {},
     "output_type": "display_data"
    },
    {
     "name": "stdout",
     "output_type": "stream",
     "text": [
      "EPOCH 0 ---------------------------------------- STEP 5   \n",
      "epoch      trn_loss   val_loss   accuracy   \n",
      "    0      1.08316    1.152153   0.53012   \n",
      "EPOCH 1 ---------------------------------------- STEP 6    \n",
      "    1      0.944399   1.225646   0.566265  \n",
      "EPOCH 2 ---------------------------------------- STEP 7    \n",
      "    2      0.909283   1.10834    0.590361  \n",
      "EPOCH 3 ---------------------------------------- STEP 8    \n",
      "    3      0.804855   1.007621   0.596386  \n",
      "\n",
      "appending existing log-files...\n",
      "log-files saved to: datasets/HPA_challenge_2018/Hirano3D/\n",
      "appending existing log-files...\n",
      "log-files saved to: datasets/HPA_challenge_2018/Hirano3D/\n",
      "CPU times: user 8min 31s, sys: 45.1 s, total: 9min 16s\n",
      "Wall time: 9min 5s\n"
     ]
    },
    {
     "data": {
      "text/plain": [
       "[array([1.00762]), 0.5963855421686747]"
      ]
     },
     "execution_count": 19,
     "metadata": {},
     "output_type": "execute_result"
    }
   ],
   "source": [
    "%time learn.fit(lrs, 4, wds=wd, use_wd_sched=True, best_save_name='Hirano3D_dn121_512_transferHPA_v1')"
   ]
  },
  {
   "cell_type": "code",
   "execution_count": 20,
   "metadata": {},
   "outputs": [],
   "source": [
    "wd = 1e-3"
   ]
  },
  {
   "cell_type": "code",
   "execution_count": 21,
   "metadata": {},
   "outputs": [
    {
     "data": {
      "application/vnd.jupyter.widget-view+json": {
       "model_id": "3e5be4b5c6224d06aaeaa6401f9b50e1",
       "version_major": 2,
       "version_minor": 0
      },
      "text/plain": [
       "HBox(children=(IntProgress(value=0, description='Epoch', max=4, style=ProgressStyle(description_width='initial…"
      ]
     },
     "metadata": {},
     "output_type": "display_data"
    },
    {
     "name": "stdout",
     "output_type": "stream",
     "text": [
      "EPOCH 0 ---------------------------------------- STEP 9    \n",
      "epoch      trn_loss   val_loss   accuracy   \n",
      "    0      0.902267   1.205712   0.566265  \n",
      "EPOCH 1 ---------------------------------------- STEP 10   \n",
      "    1      0.745801   1.151965   0.572289  \n",
      "EPOCH 2 ---------------------------------------- STEP 11   \n",
      "    2      0.697623   1.05382    0.60241   \n",
      "EPOCH 3 ---------------------------------------- STEP 12   \n",
      "    3      0.692708   0.974555   0.60241   \n",
      "\n",
      "appending existing log-files...\n",
      "log-files saved to: datasets/HPA_challenge_2018/Hirano3D/\n",
      "appending existing log-files...\n",
      "log-files saved to: datasets/HPA_challenge_2018/Hirano3D/\n",
      "CPU times: user 8min 31s, sys: 45.1 s, total: 9min 16s\n",
      "Wall time: 9min 3s\n"
     ]
    },
    {
     "data": {
      "text/plain": [
       "[array([0.97455]), 0.6024096385542169]"
      ]
     },
     "execution_count": 21,
     "metadata": {},
     "output_type": "execute_result"
    }
   ],
   "source": [
    "%time learn.fit(lrs, 4, wds=wd, use_wd_sched=True, best_save_name='Hirano3D_dn121_512_transferHPA_v2')"
   ]
  },
  {
   "cell_type": "code",
   "execution_count": 22,
   "metadata": {},
   "outputs": [
    {
     "data": {
      "application/vnd.jupyter.widget-view+json": {
       "model_id": "89c1ff47810046139e02fc7a0219ba78",
       "version_major": 2,
       "version_minor": 0
      },
      "text/plain": [
       "HBox(children=(IntProgress(value=0, description='Epoch', max=4, style=ProgressStyle(description_width='initial…"
      ]
     },
     "metadata": {},
     "output_type": "display_data"
    },
    {
     "name": "stdout",
     "output_type": "stream",
     "text": [
      "EPOCH 0 ---------------------------------------- STEP 13   \n",
      "epoch      trn_loss   val_loss   accuracy   \n",
      "    0      0.554884   0.95452    0.614458  \n",
      "EPOCH 1 ---------------------------------------- STEP 14   \n",
      "    1      0.520966   0.893683   0.626506  \n",
      "EPOCH 2 ---------------------------------------- STEP 15   \n",
      "    2      0.467085   0.926303   0.60241   \n",
      "EPOCH 3 ---------------------------------------- STEP 16   \n",
      "    3      0.457922   0.983832   0.620482  \n",
      "\n",
      "appending existing log-files...\n",
      "log-files saved to: datasets/HPA_challenge_2018/Hirano3D/\n",
      "appending existing log-files...\n",
      "log-files saved to: datasets/HPA_challenge_2018/Hirano3D/\n",
      "CPU times: user 8min 30s, sys: 46.7 s, total: 9min 17s\n",
      "Wall time: 9min 5s\n"
     ]
    },
    {
     "data": {
      "text/plain": [
       "[array([0.98383]), 0.6204819284289717]"
      ]
     },
     "execution_count": 22,
     "metadata": {},
     "output_type": "execute_result"
    }
   ],
   "source": [
    "%time learn.fit(1e-4, 4, wds=wd, use_wd_sched=True, best_save_name='Hirano3D_dn121_512_transferHPA_v3')"
   ]
  },
  {
   "cell_type": "code",
   "execution_count": 23,
   "metadata": {
    "scrolled": true
   },
   "outputs": [
    {
     "data": {
      "application/vnd.jupyter.widget-view+json": {
       "model_id": "971f61d9216546a59b2b2f462b56c454",
       "version_major": 2,
       "version_minor": 0
      },
      "text/plain": [
       "HBox(children=(IntProgress(value=0, description='Epoch', max=16, style=ProgressStyle(description_width='initia…"
      ]
     },
     "metadata": {},
     "output_type": "display_data"
    },
    {
     "name": "stdout",
     "output_type": "stream",
     "text": [
      "EPOCH 0 ---------------------------------------- STEP 17   \n",
      "epoch      trn_loss   val_loss   accuracy   \n",
      "    0      0.524163   1.478992   0.53012   \n",
      "EPOCH 1 ---------------------------------------- STEP 18   \n",
      "    1      0.706804   1.323869   0.506024  \n",
      "EPOCH 2 ---------------------------------------- STEP 19   \n",
      "    2      0.685119   1.187399   0.572289  \n",
      "EPOCH 3 ---------------------------------------- STEP 20   \n",
      "    3      0.620629   0.984921   0.674699  \n",
      "EPOCH 4 ---------------------------------------- STEP 21   \n",
      "    4      0.607244   1.069384   0.614458  \n",
      "EPOCH 5 ---------------------------------------- STEP 22   \n",
      "    5      0.505628   0.975346   0.644578  \n",
      "EPOCH 6 ---------------------------------------- STEP 23   \n",
      "    6      0.450526   1.02132    0.644578  \n",
      "EPOCH 7 ---------------------------------------- STEP 24   \n",
      "    7      0.396202   0.959084   0.698795  \n",
      "EPOCH 8 ---------------------------------------- STEP 25   \n",
      "    8      0.382718   1.245899   0.596386  \n",
      "EPOCH 9 ---------------------------------------- STEP 26   \n",
      "    9      0.432777   1.232746   0.548193  \n",
      "EPOCH 10 ---------------------------------------- STEP 27  \n",
      "    10     0.490083   1.376855   0.542169  \n",
      "EPOCH 11 ---------------------------------------- STEP 28  \n",
      "    11     0.544019   1.257495   0.584337  \n",
      "EPOCH 12 ---------------------------------------- STEP 29  \n",
      "    12     0.516657   1.036921   0.644578  \n",
      "EPOCH 13 ---------------------------------------- STEP 30  \n",
      "    13     0.426623   1.053054   0.644578  \n",
      "EPOCH 14 ---------------------------------------- STEP 31  \n",
      "    14     0.354759   0.948568   0.662651  \n",
      "EPOCH 15 ---------------------------------------- STEP 32  \n",
      "    15     0.312516   0.929199   0.704819  \n",
      "\n",
      "appending existing log-files...\n",
      "log-files saved to: datasets/HPA_challenge_2018/Hirano3D/\n",
      "appending existing log-files...\n",
      "log-files saved to: datasets/HPA_challenge_2018/Hirano3D/\n",
      "CPU times: user 34min 6s, sys: 3min, total: 37min 6s\n",
      "Wall time: 36min 19s\n"
     ]
    },
    {
     "data": {
      "text/plain": [
       "[array([0.9292]), 0.7048192763903055]"
      ]
     },
     "execution_count": 23,
     "metadata": {},
     "output_type": "execute_result"
    }
   ],
   "source": [
    "%time learn.fit(1e-3, 2, cycle_len=8, wds=wd, use_wd_sched=True, use_clr=(20,8, 0.95, 0.85), best_save_name='Hirano3D_dn121_512_transferHPA_v4')"
   ]
  },
  {
   "cell_type": "code",
   "execution_count": 11,
   "metadata": {},
   "outputs": [],
   "source": [
    "arch = dn121_c\n",
    "wd = 1e-3\n",
    "learn = ConvLearner.pretrained(arch, data, opt_fn=optim.Adam, ps=0.5, pretrained=False)"
   ]
  },
  {
   "cell_type": "code",
   "execution_count": 12,
   "metadata": {},
   "outputs": [],
   "source": [
    "learn.load('Hirano3D_dn121_512_transferHPA_v4')"
   ]
  },
  {
   "cell_type": "code",
   "execution_count": 13,
   "metadata": {},
   "outputs": [
    {
     "data": {
      "application/vnd.jupyter.widget-view+json": {
       "model_id": "951d8c88bd644c51b7619891430fda25",
       "version_major": 2,
       "version_minor": 0
      },
      "text/plain": [
       "HBox(children=(IntProgress(value=0, description='Epoch', max=16, style=ProgressStyle(description_width='initia…"
      ]
     },
     "metadata": {},
     "output_type": "display_data"
    },
    {
     "name": "stdout",
     "output_type": "stream",
     "text": [
      "EPOCH 0 ---------------------------------------- STEP 0    \n",
      "epoch      trn_loss   val_loss   accuracy   \n",
      "    0      0.228102   0.937856   0.704819  \n",
      "EPOCH 1 ---------------------------------------- STEP 1    \n",
      "    1      0.215028   1.016051   0.728916  \n",
      "EPOCH 2 ---------------------------------------- STEP 2    \n",
      "    2      0.216698   1.036658   0.716867  \n",
      "EPOCH 3 ---------------------------------------- STEP 3    \n",
      "    3      0.185915   1.012291   0.692771  \n",
      "EPOCH 4 ---------------------------------------- STEP 4    \n",
      "    4      0.216514   1.057943   0.686747  \n",
      "EPOCH 5 ---------------------------------------- STEP 5    \n",
      "    5      0.196268   1.042959   0.680723  \n",
      "EPOCH 6 ---------------------------------------- STEP 6    \n",
      "    6      0.164228   1.071928   0.680723  \n",
      "EPOCH 7 ---------------------------------------- STEP 7    \n",
      "    7      0.176888   1.093766   0.680723  \n",
      "EPOCH 8 ---------------------------------------- STEP 8    \n",
      "    8      0.152491   1.044826   0.686747  \n",
      "EPOCH 9 ---------------------------------------- STEP 9    \n",
      "    9      0.172533   1.117226   0.692771  \n",
      "EPOCH 10 ---------------------------------------- STEP 10  \n",
      "    10     0.184849   1.120334   0.716867  \n",
      "EPOCH 11 ---------------------------------------- STEP 11  \n",
      "    11     0.145022   1.113595   0.680723  \n",
      "EPOCH 12 ---------------------------------------- STEP 12  \n",
      "    12     0.145323   1.127346   0.686747  \n",
      "EPOCH 13 ---------------------------------------- STEP 13  \n",
      "    13     0.152867   1.174564   0.710843  \n",
      "EPOCH 14 ---------------------------------------- STEP 14  \n",
      "    14     0.139164   1.186761   0.668675  \n",
      "EPOCH 15 ---------------------------------------- STEP 15  \n",
      "    15     0.132624   1.122238   0.698795  \n",
      "\n",
      "appending existing log-files...\n",
      "log-files saved to: datasets/HPA_challenge_2018/Hirano3D/\n",
      "appending existing log-files...\n",
      "log-files saved to: datasets/HPA_challenge_2018/Hirano3D/\n",
      "CPU times: user 15min 17s, sys: 3min 52s, total: 19min 10s\n",
      "Wall time: 18min 21s\n"
     ]
    },
    {
     "data": {
      "text/plain": [
       "[array([1.12224]), 0.6987951800047633]"
      ]
     },
     "execution_count": 13,
     "metadata": {},
     "output_type": "execute_result"
    }
   ],
   "source": [
    "%time learn.fit(1e-3, 2, cycle_len=8, wds=wd, use_wd_sched=True, use_clr=(20,8, 0.95, 0.85), best_save_name='Hirano3D_dn121_512_transferHPA_v5')"
   ]
  },
  {
   "cell_type": "code",
   "execution_count": null,
   "metadata": {},
   "outputs": [],
   "source": [
    "p = learn.sched\n",
    "\n",
    "_iter_log = [[p.iterations[i], p.losses[i], p.lrs[i]] for i in range(len(p.iterations))]\n",
    "_epoch_log = [[p.glob_step[i], p.val_losses[i], *p.rec_metrics[i]] for i in range(len(p.glob_step))]\n",
    "\n",
    "_iter_log = pd.DataFrame(_iter_log, columns=[\"Iterations\", 'trn_oss', 'Lr'])\n",
    "_epoch_log = pd.DataFrame(_epoch_log, columns=['Global_step','val_loss','metric_1', 'f1_macro'])\n",
    "\n",
    "_iter_log.to_csv('datasets/HPA_challenge_2018/logs/iter_log_HPAv18_bs128_sz128_rCrp_dn121_v1_.csv', index=False) \n",
    "_epoch_log.to_csv('datasets/HPA_challenge_2018/logs/epoch_log_HPAv18_bs128_sz128_rCrp_dn121_v1_.csv', index=False)"
   ]
  },
  {
   "cell_type": "code",
   "execution_count": null,
   "metadata": {},
   "outputs": [],
   "source": [
    "p = learn.sched\n",
    "\n",
    "_iter_log = [[p.iterations[i], p.losses[i], p.lrs[i]] for i in range(len(p.iterations))]\n",
    "_epoch_log = [[p.glob_step[i], p.val_losses[i], *p.rec_metrics[i]] for i in range(len(p.glob_step))]\n",
    "\n",
    "_iter_log = pd.DataFrame(_iter_log, columns=[\"Iterations\", 'trn_oss', 'Lr'])\n",
    "_epoch_log = pd.DataFrame(_epoch_log, columns=['Global_step','val_loss','metric_1', 'f1_macro'])\n",
    "\n",
    "_iter_log.to_csv('datasets/HPA_challenge_2018/logs/iter_log_HPAv18_bs128_sz128_rCrp_dn121_v1_.csv', header=False, index=False, mode='a') \n",
    "_epoch_log.to_csv('datasets/HPA_challenge_2018/logs/epoch_log_HPAv18_bs128_sz128_rCrp_dn121_v1_.csv', header=False, index=False, mode='a')"
   ]
  },
  {
   "cell_type": "code",
   "execution_count": 14,
   "metadata": {},
   "outputs": [],
   "source": [
    "learn.load('Hirano3D_dn121_512_transferHPA_v4')"
   ]
  },
  {
   "cell_type": "code",
   "execution_count": 15,
   "metadata": {},
   "outputs": [],
   "source": [
    "learn.freeze_to(3)"
   ]
  },
  {
   "cell_type": "markdown",
   "metadata": {},
   "source": [
    "## test-predictions"
   ]
  },
  {
   "cell_type": "code",
   "execution_count": null,
   "metadata": {},
   "outputs": [],
   "source": [
    "log_preds, y = learn.predict_with_targs()\n",
    "preds = np.argmax(log_preds, axis=1)\n",
    "print(preds)"
   ]
  },
  {
   "cell_type": "code",
   "execution_count": 16,
   "metadata": {
    "scrolled": true
   },
   "outputs": [
    {
     "name": "stdout",
     "output_type": "stream",
     "text": [
      "                                             \r"
     ]
    }
   ],
   "source": [
    "log_preds, y =  learn.TTA(8)"
   ]
  },
  {
   "cell_type": "code",
   "execution_count": 17,
   "metadata": {},
   "outputs": [
    {
     "name": "stdout",
     "output_type": "stream",
     "text": [
      "[[42  3 13  7]\n",
      " [ 1 25  2  5]\n",
      " [ 4  3 28  2]\n",
      " [ 5  3  3 20]]\n"
     ]
    },
    {
     "data": {
      "image/png": "[encoded data removed]",
      "text/plain": [
       "<Figure size 432x288 with 2 Axes>"
      ]
     },
     "metadata": {},
     "output_type": "display_data"
    }
   ],
   "source": [
    "# Plot confusion matrix \n",
    "plt.style.use('seaborn-white')\n",
    "log_preds_mean = np.mean(log_preds, axis=0)\n",
    "preds = np.argmax(log_preds_mean, axis=1)\n",
    "cm = confusion_matrix(preds,y)\n",
    "plot_confusion_matrix(cm, data.classes)"
   ]
  },
  {
   "cell_type": "code",
   "execution_count": 18,
   "metadata": {},
   "outputs": [
    {
     "name": "stdout",
     "output_type": "stream",
     "text": [
      "0.6927710843373494\n",
      "              precision    recall  f1-score   support\n",
      "\n",
      "           0       0.81      0.65      0.72        65\n",
      "           1       0.74      0.76      0.75        33\n",
      "           2       0.61      0.76      0.67        37\n",
      "           3       0.59      0.65      0.62        31\n",
      "\n",
      "   micro avg       0.69      0.69      0.69       166\n",
      "   macro avg       0.68      0.70      0.69       166\n",
      "weighted avg       0.71      0.69      0.69       166\n",
      "\n"
     ]
    }
   ],
   "source": [
    "from sklearn.metrics import classification_report\n",
    "from sklearn.metrics import accuracy_score\n",
    "\n",
    "print(accuracy_score(preds, y))\n",
    "print(classification_report(preds, y, target_names=data.classes))"
   ]
  },
  {
   "cell_type": "code",
   "execution_count": null,
   "metadata": {},
   "outputs": [],
   "source": [
    "log_preds, y =  learn.TTA(is_test=True)\n",
    "log_preds_mean = np.mean(log_preds, axis=0)\n",
    "preds = np.argmax(log_preds_mean, axis=1)\n",
    "print(preds)"
   ]
  },
  {
   "cell_type": "code",
   "execution_count": 19,
   "metadata": {},
   "outputs": [],
   "source": [
    "# function to be called by register_forward_hook\n",
    "\n",
    "def get_embeddings(layer_name):\n",
    "    def register_hook(layer_name):\n",
    "        def get_embedding(layer, inp, outp):\n",
    "            tmp = inp[0]\n",
    "            embedding.append(tmp)\n",
    "\n",
    "        hook = layer.register_forward_hook(get_embedding) \n",
    "        \n",
    "        for i in ['trn', 'val', 'test']:\n",
    "            embedding = []\n",
    "            preds, y = learn.predict_with_targs(i)\n",
    "            \n",
    "            # populating dict, consiting of [0]: preds, [1]: y, [2]: activations[layer]\n",
    "            embeddings[i] = [preds, y, np.vstack(to_np(embedding))]\n",
    "            \n",
    "        hook.remove()\n",
    "        \n",
    "    embeddings = {}    \n",
    "    layer = learn.models.model._modules.get(layer_name)\n",
    "    register_hook(layer)\n",
    "    \n",
    "    return embeddings"
   ]
  },
  {
   "cell_type": "code",
   "execution_count": 20,
   "metadata": {},
   "outputs": [],
   "source": [
    "embeddings = get_embeddings('7')"
   ]
  },
  {
   "cell_type": "code",
   "execution_count": 21,
   "metadata": {},
   "outputs": [],
   "source": [
    "import pickle\n",
    "\n",
    "# with open('datasets/HPA_challenge_2018/Hirano3D/tmp/Embeddings_Hirano3D_dn121_512_transferHPA_v4.pkl', 'wb') as handle:\n",
    "#     pickle.dump(embeddings, handle, protocol=pickle.HIGHEST_PROTOCOL)\n",
    "\n",
    "with open('datasets/HPA_challenge_2018/Hirano3D/tmp/Embeddings_Hirano3D_dn121_512_transferHPA_v4.pkl', 'rb') as handle:\n",
    "    embeddings_loaded = pickle.load(handle)\n",
    "    \n",
    "# embeddings = embeddings_loaded"
   ]
  },
  {
   "cell_type": "code",
   "execution_count": 22,
   "metadata": {},
   "outputs": [
    {
     "name": "stdout",
     "output_type": "stream",
     "text": [
      "(664, 512)\n",
      "(166, 512)\n",
      "(60, 512)\n",
      "(664,)\n",
      "(166,)\n",
      "(60,)\n"
     ]
    }
   ],
   "source": [
    "# unpacking embeddings\n",
    "\n",
    "embs_trn = embeddings['trn'][2]\n",
    "y_trn = embeddings['trn'][1]\n",
    "\n",
    "embs_val = embeddings['val'][2]\n",
    "y_val = embeddings['val'][1]\n",
    "\n",
    "embs_test = embeddings['test'][2]\n",
    "y_test = embeddings['test'][1]\n",
    "\n",
    "print(embs_trn.shape)\n",
    "print(embs_val.shape)\n",
    "print(embs_test.shape)\n",
    "\n",
    "print(y_trn.shape)\n",
    "print(y_val.shape)\n",
    "print(y_test.shape)\n"
   ]
  },
  {
   "cell_type": "code",
   "execution_count": 25,
   "metadata": {},
   "outputs": [
    {
     "ename": "ModuleNotFoundError",
     "evalue": "No module named 'umap'",
     "output_type": "error",
     "traceback": [
      "\u001b[0;31m---------------------------------------------------------------------------\u001b[0m",
      "\u001b[0;31mModuleNotFoundError\u001b[0m                       Traceback (most recent call last)",
      "\u001b[0;32m<ipython-input-25-623e299b05c0>\u001b[0m in \u001b[0;36m<module>\u001b[0;34m\u001b[0m\n\u001b[0;32m----> 1\u001b[0;31m \u001b[0;32mimport\u001b[0m \u001b[0mumap\u001b[0m\u001b[0;34m\u001b[0m\u001b[0;34m\u001b[0m\u001b[0m\n\u001b[0m",
      "\u001b[0;31mModuleNotFoundError\u001b[0m: No module named 'umap'"
     ]
    }
   ],
   "source": [
    "import umap"
   ]
  },
  {
   "cell_type": "code",
   "execution_count": 24,
   "metadata": {},
   "outputs": [
    {
     "ename": "NameError",
     "evalue": "name 'umap' is not defined",
     "output_type": "error",
     "traceback": [
      "\u001b[0;31m---------------------------------------------------------------------------\u001b[0m",
      "\u001b[0;31mNameError\u001b[0m                                 Traceback (most recent call last)",
      "\u001b[0;32m<ipython-input-24-b0f5d20442dd>\u001b[0m in \u001b[0;36m<module>\u001b[0;34m\u001b[0m\n\u001b[0;32m----> 1\u001b[0;31m UMAP_trn_embedding = umap.UMAP(n_neighbors=10,\n\u001b[0m\u001b[1;32m      2\u001b[0m                       \u001b[0mmin_dist\u001b[0m\u001b[0;34m=\u001b[0m\u001b[0;36m0.3\u001b[0m\u001b[0;34m,\u001b[0m\u001b[0;34m\u001b[0m\u001b[0;34m\u001b[0m\u001b[0m\n\u001b[1;32m      3\u001b[0m                       metric='correlation').fit(embs_trn)\n\u001b[1;32m      4\u001b[0m \u001b[0;34m\u001b[0m\u001b[0m\n\u001b[1;32m      5\u001b[0m \u001b[0mUMAP_trn\u001b[0m \u001b[0;34m=\u001b[0m \u001b[0mUMAP_trn_embedding\u001b[0m\u001b[0;34m.\u001b[0m\u001b[0membedding_\u001b[0m\u001b[0;34m\u001b[0m\u001b[0;34m\u001b[0m\u001b[0m\n",
      "\u001b[0;31mNameError\u001b[0m: name 'umap' is not defined"
     ]
    }
   ],
   "source": [
    "UMAP_trn_embedding = umap.UMAP(n_neighbors=10,\n",
    "                      min_dist=0.3,\n",
    "                      metric='correlation').fit(embs_trn)\n",
    "\n",
    "UMAP_trn = UMAP_trn_embedding.embedding_\n",
    "UMAP_val = UMAP_trn_embedding.transform(embs_val)\n",
    "UMAP_test = UMAP_trn_embedding.transform(embs_test)"
   ]
  },
  {
   "cell_type": "code",
   "execution_count": null,
   "metadata": {},
   "outputs": [],
   "source": [
    "# data.test_ds.fnames"
   ]
  },
  {
   "cell_type": "code",
   "execution_count": null,
   "metadata": {},
   "outputs": [],
   "source": [
    "y_test = np.zeros(60)\n",
    "y_test[:30] = y_test[:30] +1 \n",
    "y_test"
   ]
  },
  {
   "cell_type": "code",
   "execution_count": null,
   "metadata": {},
   "outputs": [],
   "source": [
    "# plotting PCA vs TSNE results\n",
    "\n",
    "fig, axarr = plt.subplots(1, 2, figsize=(20, 8))\n",
    "\n",
    "compA = 0\n",
    "compB = 1\n",
    "\n",
    "for i in range(4):\n",
    "    trn_UMAP_cls = UMAP_trn[y_trn == i]\n",
    "\n",
    "    axarr[0].scatter(trn_UMAP_cls[:,compA], trn_UMAP_cls[:,compB], label = data.classes[i], s = 5)\n",
    "    axarr[0].legend(loc='center left', bbox_to_anchor=(1, 0.5))\n",
    "    \n",
    "    if i == 0:\n",
    "        axarr[1].scatter(trn_UMAP_cls[:,compA], trn_UMAP_cls[:,compB], label = data.classes[i], s = 5)\n",
    "\n",
    "    axarr[0].set_xlim(-10,5)\n",
    "    axarr[0].set_ylim(-5,8)\n",
    "    \n",
    "for i in [0,1]:\n",
    "    test_UMAP_cls = UMAP_test[y_test == i]\n",
    "    \n",
    "    axarr[1].scatter(test_UMAP_cls[:,compA], test_UMAP_cls[:,compB], s = 5)\n",
    "    axarr[1].legend(loc='center left', bbox_to_anchor=(1, 0.5))\n",
    "    axarr[1].set_xlim(-10,5)\n",
    "    axarr[1].set_ylim(-5,8)\n"
   ]
  },
  {
   "cell_type": "code",
   "execution_count": null,
   "metadata": {},
   "outputs": [],
   "source": []
  },
  {
   "cell_type": "code",
   "execution_count": null,
   "metadata": {},
   "outputs": [],
   "source": []
  },
  {
   "cell_type": "code",
   "execution_count": null,
   "metadata": {},
   "outputs": [],
   "source": [
    "def opt_th(preds, targs, start=0.2, end=0.6, step=0.05):\n",
    "    ths = np.arange(start,end,step)\n",
    "    res = [f1_macro(preds, targs, thresh=th, kind='macro') for th in ths]\n",
    "    idx = np.argmax(res)\n",
    "    return ths[idx], res"
   ]
  },
  {
   "cell_type": "code",
   "execution_count": null,
   "metadata": {},
   "outputs": [],
   "source": [
    "# get train predictions\n",
    "\n",
    "preds_trn, targs_trn =  learn.predict_with_targs('trn')\n",
    "\n",
    "preds_trn_torch = torch.from_numpy(preds_trn)\n",
    "targs_trn_torch = torch.from_numpy(targs_trn)\n",
    "\n",
    "opt_th(preds_trn_torch, targs_trn_torch)"
   ]
  },
  {
   "cell_type": "code",
   "execution_count": null,
   "metadata": {},
   "outputs": [],
   "source": [
    "print(preds_val_torch[0])\n",
    "print(preds_trn_torch[0])"
   ]
  },
  {
   "cell_type": "code",
   "execution_count": null,
   "metadata": {},
   "outputs": [],
   "source": [
    "log_preds_mean = np.mean(log_preds, axis=0)\n",
    "preds = np.argmax(log_preds_mean, axis=1)"
   ]
  },
  {
   "cell_type": "code",
   "execution_count": null,
   "metadata": {},
   "outputs": [],
   "source": [
    "# get val predictions\n",
    "\n",
    "preds_val, targs_val =  learn.predict_with_targs('val')\n",
    "\n",
    "preds_val_torch = torch.from_numpy(preds_val)\n",
    "targs_val_torch = torch.from_numpy(targs_val)\n",
    "\n",
    "opt_th(preds_val_torch, targs_val_torch)"
   ]
  },
  {
   "cell_type": "code",
   "execution_count": null,
   "metadata": {},
   "outputs": [],
   "source": [
    "# get val predictions\n",
    "\n",
    "preds_val, targs_val =  learn.TTA(n=8)\n",
    "preds_val= np.mean(preds_val, axis=0)\n",
    "preds_val_torch = torch.from_numpy(preds_val)\n",
    "targs_val_torch = torch.from_numpy(targs_val)\n",
    "\n",
    "opt_th(preds_val_torch, targs_val_torch)"
   ]
  },
  {
   "cell_type": "code",
   "execution_count": null,
   "metadata": {},
   "outputs": [],
   "source": [
    "# get val predictions\n",
    "\n",
    "preds_val, targs_val =  learn.TTA(8)\n",
    "preds_val= np.mean(preds_val, axis=0)\n",
    "preds_val_torch = torch.from_numpy(preds_val)\n",
    "targs_val_torch = torch.from_numpy(targs_val)\n",
    "\n",
    "opt_th(preds_val_torch, targs_val_torch)"
   ]
  },
  {
   "cell_type": "code",
   "execution_count": null,
   "metadata": {},
   "outputs": [],
   "source": [
    "# get test predictions\n",
    "\n",
    "preds_test, targs_test =  learn.predict_with_targs('test')"
   ]
  },
  {
   "cell_type": "code",
   "execution_count": null,
   "metadata": {},
   "outputs": [],
   "source": [
    "targs_test[:50]"
   ]
  },
  {
   "cell_type": "code",
   "execution_count": null,
   "metadata": {},
   "outputs": [],
   "source": [
    "def load_epoch(dl = data.trn_dl):\n",
    "    \n",
    "    batch = iter(dl)\n",
    "\n",
    "    xs = []\n",
    "    ys = []\n",
    "\n",
    "#     for b in range(0,len(dl)):\n",
    "    for b in range(0,10):\n",
    "\n",
    "        x_, y_ = next(batch)\n",
    "        x_np, y_np = to_np(x_), to_np(y_)\n",
    "        xs.append(x_np)\n",
    "        ys.append(y_np)\n",
    "\n",
    "    return np.vstack(xs), np.concatenate(ys)"
   ]
  },
  {
   "cell_type": "code",
   "execution_count": null,
   "metadata": {},
   "outputs": [],
   "source": [
    "data.test_dl.sampler"
   ]
  },
  {
   "cell_type": "code",
   "execution_count": null,
   "metadata": {},
   "outputs": [],
   "source": [
    "test_names = data.test_ds.fnames\n",
    "test_names[:10]"
   ]
  },
  {
   "cell_type": "code",
   "execution_count": null,
   "metadata": {},
   "outputs": [],
   "source": []
  },
  {
   "cell_type": "code",
   "execution_count": null,
   "metadata": {},
   "outputs": [],
   "source": []
  },
  {
   "cell_type": "code",
   "execution_count": null,
   "metadata": {},
   "outputs": [],
   "source": [
    "def create_submission(preds_file, output_name, th = 0.3, TTA=False):\n",
    "    \n",
    "    # creating submission file\n",
    "    \n",
    "    if TTA:\n",
    "        preds = preds_file.mean(axis=0)\n",
    "        print('TTA:',preds.shape)\n",
    "    else: preds = preds_file\n",
    "    \n",
    "    clss = np.arange(0, len(data.classes)) # get class indeces\n",
    "    res = np.array([' '.join(np.char.mod('%d', clss[np.where(p > th)])) for p in preds]) # generating output\n",
    "\n",
    "    # ensure that there are no empty cells: in case no value > thresh, fill in with argmax()\n",
    "    for i in range(res.shape[0]):\n",
    "        if res[i] == '':\n",
    "            res[i] = preds[i].argmax()\n",
    "\n",
    "    # getting image Ids\n",
    "    fnames = np.array([os.path.basename(im).split('.')[0] for im in data.test_ds.fnames])\n",
    "\n",
    "    # creating submission file\n",
    "    sub_df = pd.DataFrame(res, index=fnames, columns=['Predicted'])\n",
    "    sub_df.to_csv(output_name, index_label='Id')"
   ]
  },
  {
   "cell_type": "code",
   "execution_count": null,
   "metadata": {},
   "outputs": [],
   "source": [
    "submission_name = PATH + 'submissions/Res18_pre_0.42_t-03.csv'\n",
    "\n",
    "create_submission(log_preds, submission_name, th=0.3, TTA=True)"
   ]
  },
  {
   "cell_type": "markdown",
   "metadata": {},
   "source": [
    "## other stuff"
   ]
  },
  {
   "cell_type": "code",
   "execution_count": null,
   "metadata": {},
   "outputs": [],
   "source": [
    "# List of label identities:\n",
    "\n",
    "cell_location_label = {\n",
    "0:  'Nucleoplasm',\n",
    "1:  'Nuclear membrane',\n",
    "2:  'Nucleoli',   \n",
    "3:  'Nucleoli fibrillar center',\n",
    "4:  'Nuclear speckles',\n",
    "5:  'Nuclear bodies',\n",
    "6:  'Endoplasmic reticulum',   \n",
    "7:  'Golgi apparatus',\n",
    "8:  'Peroxisomes',\n",
    "9:  'Endosomes',\n",
    "10:  'Lysosomes',\n",
    "11:  'Intermediate filaments',\n",
    "12:  'Actin filaments',\n",
    "13:  'Focal adhesion sites',   \n",
    "14:  'Microtubules',\n",
    "15:  'Microtubule ends',  \n",
    "16:  'Cytokinetic bridge',   \n",
    "17:  'Mitotic spindle',\n",
    "18:  'Microtubule organizing center',  \n",
    "19:  'Centrosome',\n",
    "20:  'Lipid droplets',\n",
    "21:  'Plasma membrane',   \n",
    "22:  'Cell junctions', \n",
    "23:  'Mitochondria',\n",
    "24:  'Aggresome',\n",
    "25:  'Cytosol',\n",
    "26:  'Cytoplasmic bodies',   \n",
    "27:  'Rods & rings' }"
   ]
  },
  {
   "cell_type": "code",
   "execution_count": null,
   "metadata": {},
   "outputs": [],
   "source": [
    "# from sklearn.metrics import f1_score\n",
    "\n",
    "# thresholds = np.linspace(0, 1, 1000)\n",
    "# score = 0.0\n",
    "# test_threshold=0.5*np.ones(28)\n",
    "# best_threshold=np.zeros(28)\n",
    "# best_val = np.zeros(28)\n",
    "# for i in range(28):\n",
    "#     for threshold in thresholds:\n",
    "#         test_threshold[i] = threshold\n",
    "#         max_val = np.max(preds_y)\n",
    "#         val_predict = (preds_y > test_threshold)\n",
    "#         score = f1_score(valid_y > 0.5, val_predict, average='macro')\n",
    "#         if score > best_val[i]:\n",
    "#             best_threshold[i] = threshold\n",
    "#             best_val[i] = score\n",
    "#     print(\"Threshold[%d] %0.6f, F1: %0.6f\" % (i,best_threshold[i],best_val[i]))\n",
    "#     test_threshold[i] = best_threshold[i]\n",
    "# print(\"Best threshold: \")\n",
    "# print(best_threshold)\n",
    "# print(\"Best f1:\")\n",
    "# print(best_val)"
   ]
  }
 ],
 "metadata": {
  "kernelspec": {
   "display_name": "Python 3",
   "language": "python",
   "name": "python3"
  },
  "language_info": {
   "codemirror_mode": {
    "name": "ipython",
    "version": 3
   },
   "file_extension": ".py",
   "mimetype": "text/x-python",
   "name": "python",
   "nbconvert_exporter": "python",
   "pygments_lexer": "ipython3",
   "version": "3.6.7"
  }
 },
 "nbformat": 4,
 "nbformat_minor": 2
}
