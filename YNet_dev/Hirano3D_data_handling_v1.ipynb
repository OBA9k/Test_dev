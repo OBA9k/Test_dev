{
 "cells": [
  {
   "cell_type": "code",
   "execution_count": 1,
   "metadata": {},
   "outputs": [],
   "source": [
    "# %matplotlib inline\n",
    "%reload_ext autoreload\n",
    "%autoreload 2"
   ]
  },
  {
   "cell_type": "code",
   "execution_count": 2,
   "metadata": {},
   "outputs": [],
   "source": [
    "import numpy as np \n",
    "import pandas as pd\n",
    "import os\n",
    "import csv\n",
    "from resources.conv_learner import *\n",
    "\n",
    "# required to get individual channels out of image object\n",
    "from PIL import Image, ImageSequence"
   ]
  },
  {
   "cell_type": "markdown",
   "metadata": {},
   "source": [
    "### Create labels csv:\n",
    "\n",
    "Ensure files are labeled according to: \"Cell-line-Id + Experiment_ID + _00x.nd2\"<br>\n",
    "Note the Cell-line-Id has '-' delimiters, while all other name-fields have '_' delimiters!"
   ]
  },
  {
   "cell_type": "code",
   "execution_count": 3,
   "metadata": {},
   "outputs": [],
   "source": [
    "# make csv from images in folder\n",
    "\n",
    "def csv_from_dir(path, folders, labels_dict, outfile):\n",
    "    _fnames = []\n",
    "    if not isinstance(folders, list): folders = [folders]\n",
    "    print(type(folders), folders)\n",
    "    for folder in folders: _fnames.extend(read_dir(path, folder)) \n",
    "    \n",
    "    fnames = [[os.path.basename(ims).split('.')[0], # get image basename\n",
    "                               labels_dict[os.path.basename(ims).split('_')[0]] # get label from labels_dict                              \n",
    "                              ] for ims in _fnames]\n",
    "    \n",
    "    fnames_df = pd.DataFrame(fnames, columns=['Id', 'Targets'])\n",
    "    uni_fnames = fnames_df.drop_duplicates('Id'); # only unique fnames\n",
    "    \n",
    "    print(f'Total unique files: {len(uni_fnames)}')\n",
    "    return uni_fnames"
   ]
  },
  {
   "cell_type": "code",
   "execution_count": 14,
   "metadata": {},
   "outputs": [],
   "source": [
    "# manually define labels:\n",
    "labels = {'NM17-002': 0,\n",
    "         'Ctrl-AK': 0,\n",
    "         'GUK1-D': 1, \n",
    "         'GUK1-R': 1,\n",
    "         'MFN2-1': 2,\n",
    "         'VCP-1': 3}\n",
    "\n",
    "### Define other arguments:\n",
    "path = 'datasets/Hirano3D/'\n",
    "folders = 'Hirano3D_MaxP_GRFB_02_512'\n",
    "# folders = ['Hirano3D_MaxP_GRFB_02_512', 'Hirano3D_MaxP_GRFB_02_2_512']\n",
    "outfile = 'Hirano3D_02_all_v1.csv'"
   ]
  },
  {
   "cell_type": "code",
   "execution_count": 15,
   "metadata": {},
   "outputs": [
    {
     "name": "stdout",
     "output_type": "stream",
     "text": [
      "<class 'list'> ['Hirano3D_MaxP_GRFB_02_512']\n",
      "Total unique files: 359\n"
     ]
    }
   ],
   "source": [
    "# run function:\n",
    "Hirano3D_df = csv_from_dir(path, folders, labels, outfile)"
   ]
  },
  {
   "cell_type": "code",
   "execution_count": 16,
   "metadata": {},
   "outputs": [],
   "source": [
    "### save to csv\n",
    "Hirano3D_df.to_csv(path + outfile, index=False)"
   ]
  },
  {
   "cell_type": "markdown",
   "metadata": {},
   "source": [
    "### Generate multi-folder csv:"
   ]
  },
  {
   "cell_type": "code",
   "execution_count": 18,
   "metadata": {},
   "outputs": [],
   "source": [
    "# add partial path to Id's in csv's\n",
    "\n",
    "def multi_folder_csv(df_folderpath_dict):\n",
    "    \"\"\"\n",
    "    df_folderpath_dict: dictionary of (at least 2 pairs) of {Partial_folder_path : label_dataframe}, \n",
    "    e.g. with label_dataframes containing columns 'Id' and 'Target'.\n",
    "    \n",
    "    res: one unified pandas DataFrame with Partial_folder_path added to 'Id's \n",
    "    \"\"\"\n",
    "    _dict = df_folderpath_dict.copy()\n",
    "    for partial_path, df in _dict.items():\n",
    "        for n in tqdm(df.Id, total = len(df.Id), unit=\"files\"):\n",
    "            df.Id.replace(n, partial_path + n, inplace=True)  \n",
    "            \n",
    "    res = list(_dict.values())[0].append(list(_dict.values())[1:])\n",
    "    \n",
    "    return res"
   ]
  },
  {
   "cell_type": "code",
   "execution_count": 19,
   "metadata": {},
   "outputs": [],
   "source": [
    "path = 'datasets/Hirano3D/'\n",
    "Hirano3D_02_df = pd.read_csv(path + 'Hirano3D_02_all_v1.csv')\n",
    "Hirano3D_02_2_df = pd.read_csv(path + 'Hirano3D_02_2_all_v1.csv')\n",
    "\n",
    "df_folderpath_dict = {'Hirano3D_MaxP_GRFB_02_512/':Hirano3D_02_df,\n",
    "                     'Hirano3D_MaxP_GRFB_02_2_512/': Hirano3D_02_2_df}"
   ]
  },
  {
   "cell_type": "code",
   "execution_count": 20,
   "metadata": {},
   "outputs": [
    {
     "name": "stdout",
     "output_type": "stream",
     "text": [
      "100%|█████████████████████████████████████████████████████████████████████████████████████████████████████████████████████████████████████████████████████████████████████████| 359/359 [00:00<00:00, 1747.37files/s]\n",
      "100%|█████████████████████████████████████████████████████████████████████████████████████████████████████████████████████████████████████████████████████████████████████████| 471/471 [00:00<00:00, 1662.67files/s]\n"
     ]
    }
   ],
   "source": [
    "mod_df = multi_folder_csv(df_folderpath_dict)"
   ]
  },
  {
   "cell_type": "code",
   "execution_count": 21,
   "metadata": {},
   "outputs": [],
   "source": [
    "mod_df.to_csv(path + 'multi_folder_Hirano3D_v1.csv', index=False)"
   ]
  },
  {
   "cell_type": "markdown",
   "metadata": {},
   "source": [
    "### Image checking:"
   ]
  },
  {
   "cell_type": "code",
   "execution_count": 61,
   "metadata": {},
   "outputs": [],
   "source": [
    "import skimage.external.tifffile as tiff"
   ]
  },
  {
   "cell_type": "code",
   "execution_count": 63,
   "metadata": {},
   "outputs": [
    {
     "data": {
      "text/plain": [
       "(4, 512, 512)"
      ]
     },
     "execution_count": 63,
     "metadata": {},
     "output_type": "execute_result"
    }
   ],
   "source": [
    "im = tiff.imread(path + 'test_zproject/' +'GUK1-R_064.tif')\n",
    "im.shape"
   ]
  },
  {
   "cell_type": "code",
   "execution_count": null,
   "metadata": {},
   "outputs": [],
   "source": [
    "tiff.imshow(im[0])"
   ]
  },
  {
   "cell_type": "code",
   "execution_count": null,
   "metadata": {},
   "outputs": [],
   "source": []
  }
 ],
 "metadata": {
  "kernelspec": {
   "display_name": "Python 3",
   "language": "python",
   "name": "python3"
  },
  "language_info": {
   "codemirror_mode": {
    "name": "ipython",
    "version": 3
   },
   "file_extension": ".py",
   "mimetype": "text/x-python",
   "name": "python",
   "nbconvert_exporter": "python",
   "pygments_lexer": "ipython3",
   "version": "3.6.5"
  }
 },
 "nbformat": 4,
 "nbformat_minor": 2
}
