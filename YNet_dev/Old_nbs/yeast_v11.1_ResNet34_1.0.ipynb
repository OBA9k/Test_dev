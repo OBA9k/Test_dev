{
 "cells": [
  {
   "cell_type": "markdown",
   "metadata": {},
   "source": [
    "### Importing utilities:"
   ]
  },
  {
   "cell_type": "code",
   "execution_count": 1,
   "metadata": {
    "scrolled": true
   },
   "outputs": [],
   "source": [
    "# %matplotlib inline\n",
    "%reload_ext autoreload\n",
    "%autoreload 2"
   ]
  },
  {
   "cell_type": "code",
   "execution_count": 2,
   "metadata": {},
   "outputs": [],
   "source": [
    "import os\n",
    "from pathlib import Path\n",
    "import skimage.external.tifffile as tiff\n",
    "\n",
    "from common import Statistics, dataset_source\n",
    "from resources.conv_learner import *\n",
    "from resources.plots import *\n",
    "from pprint import pprint\n",
    "import matplotlib.pyplot as plt\n",
    "%matplotlib inline"
   ]
  },
  {
   "cell_type": "markdown",
   "metadata": {},
   "source": [
    "#### Setting up variables"
   ]
  },
  {
   "cell_type": "code",
   "execution_count": 3,
   "metadata": {},
   "outputs": [],
   "source": [
    "PATH = \"datasets/yeast_v11.1/\"\n",
    "data_path = Path(PATH)"
   ]
  },
  {
   "cell_type": "code",
   "execution_count": 4,
   "metadata": {},
   "outputs": [],
   "source": [
    "CLASSES = ('WT', 'mfb1KO', 'mmr1KO', 'dnm1KO', 'LatA_5uM', 'fzo1KO', 'CK666')\n",
    "NUM_CLASSES = len(CLASSES)\n",
    "BATCH_SIZE = 64\n",
    "SIZE = [2,224,224]"
   ]
  },
  {
   "cell_type": "markdown",
   "metadata": {},
   "source": [
    "#### Calculating normalization statistics\n",
    "\n",
    "Note that we are setting up train & val data, as well as test. Within test, we are here including a mutant cell type that the model never trains on. The idea is to use to the feature space developed during training to evaluate novel cell types by similarity to the landmarks that the model was trained on. "
   ]
  },
  {
   "cell_type": "code",
   "execution_count": 5,
   "metadata": {
    "scrolled": true
   },
   "outputs": [
    {
     "name": "stdout",
     "output_type": "stream",
     "text": [
      "working on: datasets\\yeast_v11.1\\train\\02_mfb1KO\n",
      "working on: datasets\\yeast_v11.1\\val\\02_mfb1KO\n",
      "working on: datasets\\yeast_v11.1\\train\\02_mmr1KO\n",
      "working on: datasets\\yeast_v11.1\\val\\02_mmr1KO\n",
      "working on: datasets\\yeast_v11.1\\train\\02_WT\n",
      "working on: datasets\\yeast_v11.1\\val\\02_WT\n",
      "working on: datasets\\yeast_v11.1\\train\\03_CK666\n",
      "working on: datasets\\yeast_v11.1\\val\\03_CK666\n",
      "working on: datasets\\yeast_v11.1\\train\\03_dnm1KO\n",
      "working on: datasets\\yeast_v11.1\\val\\03_dnm1KO\n",
      "working on: datasets\\yeast_v11.1\\train\\03_fzo1KO\n",
      "working on: datasets\\yeast_v11.1\\val\\03_fzo1KO\n",
      "working on: datasets\\yeast_v11.1\\train\\03_LatA-5uM\n",
      "working on: datasets\\yeast_v11.1\\val\\03_LatA-5uM\n",
      "working on: datasets\\yeast_v11.1\\train\\03_WT\n",
      "working on: datasets\\yeast_v11.1\\val\\03_WT\n",
      "working on: datasets\\yeast_v11.1\\train\\04_WT\n",
      "working on: datasets\\yeast_v11.1\\val\\04_WT\n",
      "working on: datasets\\yeast_v11.1\\test\\01_mfb1KO\n",
      "working on: datasets\\yeast_v11.1\\test\\01_mmm1KO\n",
      "working on: datasets\\yeast_v11.1\\test\\01_mmr1KO\n",
      "working on: datasets\\yeast_v11.1\\test\\01_num1KO\n",
      "working on: datasets\\yeast_v11.1\\test\\01_WT\n",
      "working on: datasets\\yeast_v11.1\\test\\02_mmr1KO-mfb1KO\n",
      "working on: datasets\\yeast_v11.1\\test\\03_axl1KO\n",
      "working on: datasets\\yeast_v11.1\\test\\03_bud1KO\n",
      "working on: datasets\\yeast_v11.1\\test\\03_DTT\n",
      "working on: datasets\\yeast_v11.1\\test\\03_Eth\n",
      "working on: datasets\\yeast_v11.1\\test\\03_H2O2\n",
      "working on: datasets\\yeast_v11.1\\test\\03_LatA-05uM\n"
     ]
    }
   ],
   "source": [
    "classes = Statistics.source_class(data_path)\n",
    "\n",
    "train_val = zip(classes['train'], classes['val'])\n",
    "test_ = zip(classes['test'])\n",
    "\n",
    "\n",
    "stats_name = \"yeast_v11.1_per_class.dict\"\n",
    "main_stats = Statistics.per_class(train_val, save_name = stats_name)\n",
    "test_stats = Statistics.per_class(test_)"
   ]
  },
  {
   "cell_type": "code",
   "execution_count": null,
   "metadata": {
    "scrolled": true
   },
   "outputs": [],
   "source": [
    "for keys in main_stats.keys():\n",
    "    print(f\"{keys}: \\t \\t \\t {main_stats[keys]}\")"
   ]
  },
  {
   "cell_type": "code",
   "execution_count": null,
   "metadata": {},
   "outputs": [],
   "source": [
    "main_stats['02']"
   ]
  },
  {
   "cell_type": "code",
   "execution_count": null,
   "metadata": {},
   "outputs": [],
   "source": [
    "for i in main_stats.keys():\n",
    "    c0.append(main_stats[i][0][0]/main_stats[i][0][1])"
   ]
  },
  {
   "cell_type": "code",
   "execution_count": 78,
   "metadata": {
    "scrolled": false
   },
   "outputs": [
    {
     "name": "stdout",
     "output_type": "stream",
     "text": [
      "01_mfb1KO: \t \t \t (array([0.0211 , 0.00454]), array([0.00151, 0.00165]))\n",
      "01_mmm1KO: \t \t \t (array([0.02102, 0.00424]), array([0.0015 , 0.00181]))\n",
      "01_mmr1KO: \t \t \t (array([0.02115, 0.00486]), array([0.00158, 0.00193]))\n",
      "01_num1KO: \t \t \t (array([0.02099, 0.00499]), array([0.00156, 0.00208]))\n",
      "01_WT: \t \t \t (array([0.0211 , 0.00449]), array([0.00149, 0.00129]))\n",
      "02_mmr1KO-mfb1KO: \t \t \t (array([0.00792, 0.00489]), array([0.00072, 0.00163]))\n",
      "03_axl1KO: \t \t \t (array([0.02547, 0.00477]), array([0.00224, 0.00144]))\n",
      "03_bud1KO: \t \t \t (array([0.02543, 0.00459]), array([0.00222, 0.00142]))\n",
      "03_DTT: \t \t \t (array([0.02585, 0.00495]), array([0.00225, 0.00166]))\n",
      "03_Eth: \t \t \t (array([0.02533, 0.00469]), array([0.00227, 0.00133]))\n",
      "03_H2O2: \t \t \t (array([0.02573, 0.00364]), array([0.00224, 0.00018]))\n",
      "03_LatA-05uM: \t \t \t (array([0.02535, 0.00497]), array([0.0025 , 0.00169]))\n"
     ]
    }
   ],
   "source": [
    "for keys in test_stats.keys():\n",
    "    print(f\"{keys}: \\t \\t \\t {test_stats[keys]}\")"
   ]
  },
  {
   "cell_type": "markdown",
   "metadata": {},
   "source": [
    "## Defining datasets:"
   ]
  },
  {
   "cell_type": "code",
   "execution_count": 6,
   "metadata": {},
   "outputs": [],
   "source": [
    "def tfms_for_test(stats, sz):\n",
    "    test_norm = Normalize(stats, IntNorm=True)\n",
    "    test_denorm = Denormalize(stats)\n",
    "    val_crop = CropType.NO\n",
    "    test_tfms = image_gen(test_norm, test_denorm,sz, crop_type=val_crop)\n",
    "    return test_tfms"
   ]
  },
  {
   "cell_type": "code",
   "execution_count": 13,
   "metadata": {},
   "outputs": [],
   "source": [
    "def get_data(path: str, sz, bs): # , num_workers=1\n",
    "    create, lbl2index, lbl2index_test = ImageClassifierData.prepare_from_path(path, val_name='val', bs=bs, num_workers = 8,\n",
    "                                                                             test_name='test', test_with_labels=True, balance=True)\n",
    "\n",
    "    main_stats_X = {lbl2index[key][0]: val for key, val in main_stats.items()}\n",
    "    augs = [RandomDihedral(),\n",
    "#             Random_brightness(),\n",
    "#             RandomRotate(90),\n",
    "#             Gauss_noise(stats = main_stats_X, IntNorm=True)\n",
    "           ]\n",
    "    tfms = tfms_from_stats_IntNorm(main_stats_X, sz, aug_tfms=augs, crop_type=CropType.CENTER, pad=sz[1]//8)\n",
    "    \n",
    "    test_stats_X = {lbl2index_test[key][0]: val for key, val in test_stats.items()}\n",
    "    test_tfms = tfms_for_test(test_stats_X,sz)\n",
    "    tfms += (test_tfms, )\n",
    "    \n",
    "    return create(tfms), lbl2index, lbl2index_test"
   ]
  },
  {
   "cell_type": "code",
   "execution_count": 14,
   "metadata": {
    "scrolled": false
   },
   "outputs": [],
   "source": [
    "data, lbl2idx, lbl2idx_test = get_data(PATH,SIZE,BATCH_SIZE)"
   ]
  },
  {
   "cell_type": "code",
   "execution_count": 15,
   "metadata": {},
   "outputs": [],
   "source": [
    "x , y = next(iter(data.trn_dl))"
   ]
  },
  {
   "cell_type": "code",
   "execution_count": null,
   "metadata": {},
   "outputs": [],
   "source": [
    "for i in range(20):\n",
    "    print(np.mean(xs[i], axis=(1,2)))\n",
    "#     print(np.std(xs[i], axis=(1,2)))\n",
    "    \n"
   ]
  },
  {
   "cell_type": "code",
   "execution_count": null,
   "metadata": {},
   "outputs": [],
   "source": [
    "to_np(x)[0].shape"
   ]
  },
  {
   "cell_type": "code",
   "execution_count": null,
   "metadata": {},
   "outputs": [],
   "source": [
    "print(data.aug_dl.dataset.transform.tfms)"
   ]
  },
  {
   "cell_type": "markdown",
   "metadata": {},
   "source": [
    "### Inspect loaded data:\n",
    "\n",
    "Displaying the same image with and without normalization."
   ]
  },
  {
   "cell_type": "code",
   "execution_count": null,
   "metadata": {},
   "outputs": [],
   "source": [
    "# print transformations\n",
    "plt.style.use('seaborn-white')\n",
    "\n",
    "c = 1\n",
    "idx = 0\n",
    "fig, ax = plt.subplots(2,4, figsize=(16,10))\n",
    "for i, ax in enumerate(ax.flat):\n",
    "    x, y = next(iter(data.aug_dl))\n",
    "    im = to_np(x)[idx]\n",
    "#     ax.imshow(np.sum(im, axis = 0))\n",
    "    ax.imshow(im[c])"
   ]
  },
  {
   "cell_type": "code",
   "execution_count": null,
   "metadata": {},
   "outputs": [],
   "source": [
    "plt.style.use('seaborn-white')"
   ]
  },
  {
   "cell_type": "code",
   "execution_count": null,
   "metadata": {},
   "outputs": [],
   "source": [
    "def load_epoch(dl = data.trn_dl):\n",
    "    \n",
    "    batch = iter(dl)\n",
    "\n",
    "    xs = []\n",
    "    ys = []\n",
    "\n",
    "    for b in range(0,len(dl)):\n",
    "        x_, y_ = next(batch)\n",
    "        x_np, y_np = to_np(x_), to_np(y_)\n",
    "        xs.append(x_np)\n",
    "        ys.append(y_np)\n",
    "\n",
    "    return np.vstack(xs), np.concatenate(ys)"
   ]
  },
  {
   "cell_type": "code",
   "execution_count": null,
   "metadata": {
    "scrolled": true
   },
   "outputs": [],
   "source": [
    "xs, ys =  load_epoch()"
   ]
  },
  {
   "cell_type": "code",
   "execution_count": null,
   "metadata": {},
   "outputs": [],
   "source": [
    "def apply_tfm(ims, tfm_fn, **kwargs):\n",
    "    \n",
    "    tfmd_ims = np.zeros((ims.shape))\n",
    "    \n",
    "    for i in range(ims.shape[0]):\n",
    "        tfmd_ims[i] = tfm_fn(ims[i,...], **kwargs)\n",
    "        \n",
    "    return tfmd_ims"
   ]
  },
  {
   "cell_type": "code",
   "execution_count": null,
   "metadata": {},
   "outputs": [],
   "source": [
    "# xs_gauss = apply_tfm(xs, gauss_noiseX2, stats = [0.02515, 0.0025])\n",
    "xs_bright = apply_tfm(xs, random_brightness)\n",
    "# xs_gauss_bright = apply_tfm(xs_gauss, random_brightness)"
   ]
  },
  {
   "cell_type": "code",
   "execution_count": null,
   "metadata": {
    "scrolled": false
   },
   "outputs": [],
   "source": [
    "lbl2idx"
   ]
  },
  {
   "cell_type": "code",
   "execution_count": null,
   "metadata": {},
   "outputs": [],
   "source": [
    "import seaborn as sns"
   ]
  },
  {
   "cell_type": "code",
   "execution_count": null,
   "metadata": {
    "scrolled": false
   },
   "outputs": [],
   "source": [
    "fig, axarr = plt.subplots(1, 2, figsize=(14, 8))\n",
    "\n",
    "for i in [2,3]:\n",
    "    \n",
    "    xs_clss = xs[ys == i] \n",
    "    xs_sub = xs_clss[:100,...]\n",
    "    xs_sub = xs_sub.reshape(-1,2,50176)\n",
    "    \n",
    "    ch0, ch1 = np.ravel(xs_sub[:,0]), np.ravel(xs_sub[:,1])\n",
    "    print(ch1.shape)\n",
    "\n",
    "    sns.kdeplot(ch0, ax = axarr[0], label = data.classes[i])\n",
    "    sns.kdeplot(ch1, ax = axarr[1], label = data.classes[i])\n",
    "    \n",
    "axarr[0].set_xlim(-12,12);\n",
    "axarr[1].set_xlim(-10,18);   \n",
    "axarr[0].set_ylim(0,0.8);\n",
    "axarr[1].set_ylim(0,1.8);\n",
    "axarr[1].legend()"
   ]
  },
  {
   "cell_type": "code",
   "execution_count": null,
   "metadata": {},
   "outputs": [],
   "source": [
    "fig, axarr = plt.subplots(1, 2, figsize=(14, 8))\n",
    "colors = ['SteelBlue', 'Orange']\n",
    "alphas = [1, 0.5]\n",
    "\n",
    "for c,i in enumerate([2,3]):\n",
    "    \n",
    "    xs_clss = xs_bright[ys == i] \n",
    "    xs_sub = xs_clss[:20,...]\n",
    "    xs_sub = xs_sub.reshape(-1,2,40000)\n",
    "    col = colors[c]\n",
    "    a = alphas[c]\n",
    "    \n",
    "    for im in range(20):\n",
    "        ch0, ch1 = xs_sub[im,0], xs_sub[im,1]\n",
    "\n",
    "        sns.kdeplot(ch0, ax = axarr[0], color = col, alpha = a)\n",
    "        sns.kdeplot(ch1, ax = axarr[1], color = col, alpha = a)\n",
    "        \n",
    "axarr[0].set_xlim(-12,12);\n",
    "axarr[1].set_xlim(-10,17);"
   ]
  },
  {
   "cell_type": "code",
   "execution_count": null,
   "metadata": {},
   "outputs": [],
   "source": []
  },
  {
   "cell_type": "code",
   "execution_count": null,
   "metadata": {},
   "outputs": [],
   "source": []
  },
  {
   "cell_type": "code",
   "execution_count": null,
   "metadata": {},
   "outputs": [],
   "source": [
    "im.shape"
   ]
  },
  {
   "cell_type": "code",
   "execution_count": null,
   "metadata": {},
   "outputs": [],
   "source": [
    "print(len(data.val_dl.dataset.y))\n",
    "print(len(data.trn_dl.dataset.y))\n",
    "print(len(data.test_dl.dataset.y))"
   ]
  },
  {
   "cell_type": "markdown",
   "metadata": {},
   "source": [
    "# Training setup"
   ]
  },
  {
   "cell_type": "code",
   "execution_count": null,
   "metadata": {},
   "outputs": [],
   "source": [
    "torch.cuda.is_available()"
   ]
  },
  {
   "cell_type": "markdown",
   "metadata": {},
   "source": [
    "## ResNet_with_Batchnorm\n",
    "\n",
    "Defining network architecture. "
   ]
  },
  {
   "cell_type": "code",
   "execution_count": 16,
   "metadata": {},
   "outputs": [],
   "source": [
    "# arch = resnet18_c\n",
    "arch = resnet34_c"
   ]
  },
  {
   "cell_type": "code",
   "execution_count": 17,
   "metadata": {},
   "outputs": [],
   "source": [
    "learn = ConvLearner.pretrained(arch, data, ps=0.25, opt_fn=optim.Adam, pretrained=False)"
   ]
  },
  {
   "cell_type": "code",
   "execution_count": 18,
   "metadata": {},
   "outputs": [],
   "source": [
    "learn.unfreeze()"
   ]
  },
  {
   "cell_type": "code",
   "execution_count": 49,
   "metadata": {
    "scrolled": true
   },
   "outputs": [
    {
     "data": {
      "text/plain": [
       "OrderedDict([('Conv2d-1',\n",
       "              OrderedDict([('input_shape', [-1, 2, 224, 224]),\n",
       "                           ('output_shape', [-1, 64, 112, 112]),\n",
       "                           ('trainable', True),\n",
       "                           ('nb_params', 6272)])),\n",
       "             ('BatchNorm2d-2',\n",
       "              OrderedDict([('input_shape', [-1, 64, 112, 112]),\n",
       "                           ('output_shape', [-1, 64, 112, 112]),\n",
       "                           ('trainable', True),\n",
       "                           ('nb_params', 128)])),\n",
       "             ('ReLU-3',\n",
       "              OrderedDict([('input_shape', [-1, 64, 112, 112]),\n",
       "                           ('output_shape', [-1, 64, 112, 112]),\n",
       "                           ('nb_params', 0)])),\n",
       "             ('MaxPool2d-4',\n",
       "              OrderedDict([('input_shape', [-1, 64, 112, 112]),\n",
       "                           ('output_shape', [-1, 64, 56, 56]),\n",
       "                           ('nb_params', 0)])),\n",
       "             ('Conv2d-5',\n",
       "              OrderedDict([('input_shape', [-1, 64, 56, 56]),\n",
       "                           ('output_shape', [-1, 64, 56, 56]),\n",
       "                           ('trainable', True),\n",
       "                           ('nb_params', 36864)])),\n",
       "             ('BatchNorm2d-6',\n",
       "              OrderedDict([('input_shape', [-1, 64, 56, 56]),\n",
       "                           ('output_shape', [-1, 64, 56, 56]),\n",
       "                           ('trainable', True),\n",
       "                           ('nb_params', 128)])),\n",
       "             ('ReLU-7',\n",
       "              OrderedDict([('input_shape', [-1, 64, 56, 56]),\n",
       "                           ('output_shape', [-1, 64, 56, 56]),\n",
       "                           ('nb_params', 0)])),\n",
       "             ('Conv2d-8',\n",
       "              OrderedDict([('input_shape', [-1, 64, 56, 56]),\n",
       "                           ('output_shape', [-1, 64, 56, 56]),\n",
       "                           ('trainable', True),\n",
       "                           ('nb_params', 36864)])),\n",
       "             ('BatchNorm2d-9',\n",
       "              OrderedDict([('input_shape', [-1, 64, 56, 56]),\n",
       "                           ('output_shape', [-1, 64, 56, 56]),\n",
       "                           ('trainable', True),\n",
       "                           ('nb_params', 128)])),\n",
       "             ('ReLU-10',\n",
       "              OrderedDict([('input_shape', [-1, 64, 56, 56]),\n",
       "                           ('output_shape', [-1, 64, 56, 56]),\n",
       "                           ('nb_params', 0)])),\n",
       "             ('BasicBlock-11',\n",
       "              OrderedDict([('input_shape', [-1, 64, 56, 56]),\n",
       "                           ('output_shape', [-1, 64, 56, 56]),\n",
       "                           ('nb_params', 0)])),\n",
       "             ('Conv2d-12',\n",
       "              OrderedDict([('input_shape', [-1, 64, 56, 56]),\n",
       "                           ('output_shape', [-1, 64, 56, 56]),\n",
       "                           ('trainable', True),\n",
       "                           ('nb_params', 36864)])),\n",
       "             ('BatchNorm2d-13',\n",
       "              OrderedDict([('input_shape', [-1, 64, 56, 56]),\n",
       "                           ('output_shape', [-1, 64, 56, 56]),\n",
       "                           ('trainable', True),\n",
       "                           ('nb_params', 128)])),\n",
       "             ('ReLU-14',\n",
       "              OrderedDict([('input_shape', [-1, 64, 56, 56]),\n",
       "                           ('output_shape', [-1, 64, 56, 56]),\n",
       "                           ('nb_params', 0)])),\n",
       "             ('Conv2d-15',\n",
       "              OrderedDict([('input_shape', [-1, 64, 56, 56]),\n",
       "                           ('output_shape', [-1, 64, 56, 56]),\n",
       "                           ('trainable', True),\n",
       "                           ('nb_params', 36864)])),\n",
       "             ('BatchNorm2d-16',\n",
       "              OrderedDict([('input_shape', [-1, 64, 56, 56]),\n",
       "                           ('output_shape', [-1, 64, 56, 56]),\n",
       "                           ('trainable', True),\n",
       "                           ('nb_params', 128)])),\n",
       "             ('ReLU-17',\n",
       "              OrderedDict([('input_shape', [-1, 64, 56, 56]),\n",
       "                           ('output_shape', [-1, 64, 56, 56]),\n",
       "                           ('nb_params', 0)])),\n",
       "             ('BasicBlock-18',\n",
       "              OrderedDict([('input_shape', [-1, 64, 56, 56]),\n",
       "                           ('output_shape', [-1, 64, 56, 56]),\n",
       "                           ('nb_params', 0)])),\n",
       "             ('Conv2d-19',\n",
       "              OrderedDict([('input_shape', [-1, 64, 56, 56]),\n",
       "                           ('output_shape', [-1, 64, 56, 56]),\n",
       "                           ('trainable', True),\n",
       "                           ('nb_params', 36864)])),\n",
       "             ('BatchNorm2d-20',\n",
       "              OrderedDict([('input_shape', [-1, 64, 56, 56]),\n",
       "                           ('output_shape', [-1, 64, 56, 56]),\n",
       "                           ('trainable', True),\n",
       "                           ('nb_params', 128)])),\n",
       "             ('ReLU-21',\n",
       "              OrderedDict([('input_shape', [-1, 64, 56, 56]),\n",
       "                           ('output_shape', [-1, 64, 56, 56]),\n",
       "                           ('nb_params', 0)])),\n",
       "             ('Conv2d-22',\n",
       "              OrderedDict([('input_shape', [-1, 64, 56, 56]),\n",
       "                           ('output_shape', [-1, 64, 56, 56]),\n",
       "                           ('trainable', True),\n",
       "                           ('nb_params', 36864)])),\n",
       "             ('BatchNorm2d-23',\n",
       "              OrderedDict([('input_shape', [-1, 64, 56, 56]),\n",
       "                           ('output_shape', [-1, 64, 56, 56]),\n",
       "                           ('trainable', True),\n",
       "                           ('nb_params', 128)])),\n",
       "             ('ReLU-24',\n",
       "              OrderedDict([('input_shape', [-1, 64, 56, 56]),\n",
       "                           ('output_shape', [-1, 64, 56, 56]),\n",
       "                           ('nb_params', 0)])),\n",
       "             ('BasicBlock-25',\n",
       "              OrderedDict([('input_shape', [-1, 64, 56, 56]),\n",
       "                           ('output_shape', [-1, 64, 56, 56]),\n",
       "                           ('nb_params', 0)])),\n",
       "             ('Conv2d-26',\n",
       "              OrderedDict([('input_shape', [-1, 64, 56, 56]),\n",
       "                           ('output_shape', [-1, 128, 28, 28]),\n",
       "                           ('trainable', True),\n",
       "                           ('nb_params', 73728)])),\n",
       "             ('BatchNorm2d-27',\n",
       "              OrderedDict([('input_shape', [-1, 128, 28, 28]),\n",
       "                           ('output_shape', [-1, 128, 28, 28]),\n",
       "                           ('trainable', True),\n",
       "                           ('nb_params', 256)])),\n",
       "             ('ReLU-28',\n",
       "              OrderedDict([('input_shape', [-1, 128, 28, 28]),\n",
       "                           ('output_shape', [-1, 128, 28, 28]),\n",
       "                           ('nb_params', 0)])),\n",
       "             ('Conv2d-29',\n",
       "              OrderedDict([('input_shape', [-1, 128, 28, 28]),\n",
       "                           ('output_shape', [-1, 128, 28, 28]),\n",
       "                           ('trainable', True),\n",
       "                           ('nb_params', 147456)])),\n",
       "             ('BatchNorm2d-30',\n",
       "              OrderedDict([('input_shape', [-1, 128, 28, 28]),\n",
       "                           ('output_shape', [-1, 128, 28, 28]),\n",
       "                           ('trainable', True),\n",
       "                           ('nb_params', 256)])),\n",
       "             ('Conv2d-31',\n",
       "              OrderedDict([('input_shape', [-1, 64, 56, 56]),\n",
       "                           ('output_shape', [-1, 128, 28, 28]),\n",
       "                           ('trainable', True),\n",
       "                           ('nb_params', 8192)])),\n",
       "             ('BatchNorm2d-32',\n",
       "              OrderedDict([('input_shape', [-1, 128, 28, 28]),\n",
       "                           ('output_shape', [-1, 128, 28, 28]),\n",
       "                           ('trainable', True),\n",
       "                           ('nb_params', 256)])),\n",
       "             ('ReLU-33',\n",
       "              OrderedDict([('input_shape', [-1, 128, 28, 28]),\n",
       "                           ('output_shape', [-1, 128, 28, 28]),\n",
       "                           ('nb_params', 0)])),\n",
       "             ('BasicBlock-34',\n",
       "              OrderedDict([('input_shape', [-1, 64, 56, 56]),\n",
       "                           ('output_shape', [-1, 128, 28, 28]),\n",
       "                           ('nb_params', 0)])),\n",
       "             ('Conv2d-35',\n",
       "              OrderedDict([('input_shape', [-1, 128, 28, 28]),\n",
       "                           ('output_shape', [-1, 128, 28, 28]),\n",
       "                           ('trainable', True),\n",
       "                           ('nb_params', 147456)])),\n",
       "             ('BatchNorm2d-36',\n",
       "              OrderedDict([('input_shape', [-1, 128, 28, 28]),\n",
       "                           ('output_shape', [-1, 128, 28, 28]),\n",
       "                           ('trainable', True),\n",
       "                           ('nb_params', 256)])),\n",
       "             ('ReLU-37',\n",
       "              OrderedDict([('input_shape', [-1, 128, 28, 28]),\n",
       "                           ('output_shape', [-1, 128, 28, 28]),\n",
       "                           ('nb_params', 0)])),\n",
       "             ('Conv2d-38',\n",
       "              OrderedDict([('input_shape', [-1, 128, 28, 28]),\n",
       "                           ('output_shape', [-1, 128, 28, 28]),\n",
       "                           ('trainable', True),\n",
       "                           ('nb_params', 147456)])),\n",
       "             ('BatchNorm2d-39',\n",
       "              OrderedDict([('input_shape', [-1, 128, 28, 28]),\n",
       "                           ('output_shape', [-1, 128, 28, 28]),\n",
       "                           ('trainable', True),\n",
       "                           ('nb_params', 256)])),\n",
       "             ('ReLU-40',\n",
       "              OrderedDict([('input_shape', [-1, 128, 28, 28]),\n",
       "                           ('output_shape', [-1, 128, 28, 28]),\n",
       "                           ('nb_params', 0)])),\n",
       "             ('BasicBlock-41',\n",
       "              OrderedDict([('input_shape', [-1, 128, 28, 28]),\n",
       "                           ('output_shape', [-1, 128, 28, 28]),\n",
       "                           ('nb_params', 0)])),\n",
       "             ('Conv2d-42',\n",
       "              OrderedDict([('input_shape', [-1, 128, 28, 28]),\n",
       "                           ('output_shape', [-1, 128, 28, 28]),\n",
       "                           ('trainable', True),\n",
       "                           ('nb_params', 147456)])),\n",
       "             ('BatchNorm2d-43',\n",
       "              OrderedDict([('input_shape', [-1, 128, 28, 28]),\n",
       "                           ('output_shape', [-1, 128, 28, 28]),\n",
       "                           ('trainable', True),\n",
       "                           ('nb_params', 256)])),\n",
       "             ('ReLU-44',\n",
       "              OrderedDict([('input_shape', [-1, 128, 28, 28]),\n",
       "                           ('output_shape', [-1, 128, 28, 28]),\n",
       "                           ('nb_params', 0)])),\n",
       "             ('Conv2d-45',\n",
       "              OrderedDict([('input_shape', [-1, 128, 28, 28]),\n",
       "                           ('output_shape', [-1, 128, 28, 28]),\n",
       "                           ('trainable', True),\n",
       "                           ('nb_params', 147456)])),\n",
       "             ('BatchNorm2d-46',\n",
       "              OrderedDict([('input_shape', [-1, 128, 28, 28]),\n",
       "                           ('output_shape', [-1, 128, 28, 28]),\n",
       "                           ('trainable', True),\n",
       "                           ('nb_params', 256)])),\n",
       "             ('ReLU-47',\n",
       "              OrderedDict([('input_shape', [-1, 128, 28, 28]),\n",
       "                           ('output_shape', [-1, 128, 28, 28]),\n",
       "                           ('nb_params', 0)])),\n",
       "             ('BasicBlock-48',\n",
       "              OrderedDict([('input_shape', [-1, 128, 28, 28]),\n",
       "                           ('output_shape', [-1, 128, 28, 28]),\n",
       "                           ('nb_params', 0)])),\n",
       "             ('Conv2d-49',\n",
       "              OrderedDict([('input_shape', [-1, 128, 28, 28]),\n",
       "                           ('output_shape', [-1, 128, 28, 28]),\n",
       "                           ('trainable', True),\n",
       "                           ('nb_params', 147456)])),\n",
       "             ('BatchNorm2d-50',\n",
       "              OrderedDict([('input_shape', [-1, 128, 28, 28]),\n",
       "                           ('output_shape', [-1, 128, 28, 28]),\n",
       "                           ('trainable', True),\n",
       "                           ('nb_params', 256)])),\n",
       "             ('ReLU-51',\n",
       "              OrderedDict([('input_shape', [-1, 128, 28, 28]),\n",
       "                           ('output_shape', [-1, 128, 28, 28]),\n",
       "                           ('nb_params', 0)])),\n",
       "             ('Conv2d-52',\n",
       "              OrderedDict([('input_shape', [-1, 128, 28, 28]),\n",
       "                           ('output_shape', [-1, 128, 28, 28]),\n",
       "                           ('trainable', True),\n",
       "                           ('nb_params', 147456)])),\n",
       "             ('BatchNorm2d-53',\n",
       "              OrderedDict([('input_shape', [-1, 128, 28, 28]),\n",
       "                           ('output_shape', [-1, 128, 28, 28]),\n",
       "                           ('trainable', True),\n",
       "                           ('nb_params', 256)])),\n",
       "             ('ReLU-54',\n",
       "              OrderedDict([('input_shape', [-1, 128, 28, 28]),\n",
       "                           ('output_shape', [-1, 128, 28, 28]),\n",
       "                           ('nb_params', 0)])),\n",
       "             ('BasicBlock-55',\n",
       "              OrderedDict([('input_shape', [-1, 128, 28, 28]),\n",
       "                           ('output_shape', [-1, 128, 28, 28]),\n",
       "                           ('nb_params', 0)])),\n",
       "             ('Conv2d-56',\n",
       "              OrderedDict([('input_shape', [-1, 128, 28, 28]),\n",
       "                           ('output_shape', [-1, 256, 14, 14]),\n",
       "                           ('trainable', True),\n",
       "                           ('nb_params', 294912)])),\n",
       "             ('BatchNorm2d-57',\n",
       "              OrderedDict([('input_shape', [-1, 256, 14, 14]),\n",
       "                           ('output_shape', [-1, 256, 14, 14]),\n",
       "                           ('trainable', True),\n",
       "                           ('nb_params', 512)])),\n",
       "             ('ReLU-58',\n",
       "              OrderedDict([('input_shape', [-1, 256, 14, 14]),\n",
       "                           ('output_shape', [-1, 256, 14, 14]),\n",
       "                           ('nb_params', 0)])),\n",
       "             ('Conv2d-59',\n",
       "              OrderedDict([('input_shape', [-1, 256, 14, 14]),\n",
       "                           ('output_shape', [-1, 256, 14, 14]),\n",
       "                           ('trainable', True),\n",
       "                           ('nb_params', 589824)])),\n",
       "             ('BatchNorm2d-60',\n",
       "              OrderedDict([('input_shape', [-1, 256, 14, 14]),\n",
       "                           ('output_shape', [-1, 256, 14, 14]),\n",
       "                           ('trainable', True),\n",
       "                           ('nb_params', 512)])),\n",
       "             ('Conv2d-61',\n",
       "              OrderedDict([('input_shape', [-1, 128, 28, 28]),\n",
       "                           ('output_shape', [-1, 256, 14, 14]),\n",
       "                           ('trainable', True),\n",
       "                           ('nb_params', 32768)])),\n",
       "             ('BatchNorm2d-62',\n",
       "              OrderedDict([('input_shape', [-1, 256, 14, 14]),\n",
       "                           ('output_shape', [-1, 256, 14, 14]),\n",
       "                           ('trainable', True),\n",
       "                           ('nb_params', 512)])),\n",
       "             ('ReLU-63',\n",
       "              OrderedDict([('input_shape', [-1, 256, 14, 14]),\n",
       "                           ('output_shape', [-1, 256, 14, 14]),\n",
       "                           ('nb_params', 0)])),\n",
       "             ('BasicBlock-64',\n",
       "              OrderedDict([('input_shape', [-1, 128, 28, 28]),\n",
       "                           ('output_shape', [-1, 256, 14, 14]),\n",
       "                           ('nb_params', 0)])),\n",
       "             ('Conv2d-65',\n",
       "              OrderedDict([('input_shape', [-1, 256, 14, 14]),\n",
       "                           ('output_shape', [-1, 256, 14, 14]),\n",
       "                           ('trainable', True),\n",
       "                           ('nb_params', 589824)])),\n",
       "             ('BatchNorm2d-66',\n",
       "              OrderedDict([('input_shape', [-1, 256, 14, 14]),\n",
       "                           ('output_shape', [-1, 256, 14, 14]),\n",
       "                           ('trainable', True),\n",
       "                           ('nb_params', 512)])),\n",
       "             ('ReLU-67',\n",
       "              OrderedDict([('input_shape', [-1, 256, 14, 14]),\n",
       "                           ('output_shape', [-1, 256, 14, 14]),\n",
       "                           ('nb_params', 0)])),\n",
       "             ('Conv2d-68',\n",
       "              OrderedDict([('input_shape', [-1, 256, 14, 14]),\n",
       "                           ('output_shape', [-1, 256, 14, 14]),\n",
       "                           ('trainable', True),\n",
       "                           ('nb_params', 589824)])),\n",
       "             ('BatchNorm2d-69',\n",
       "              OrderedDict([('input_shape', [-1, 256, 14, 14]),\n",
       "                           ('output_shape', [-1, 256, 14, 14]),\n",
       "                           ('trainable', True),\n",
       "                           ('nb_params', 512)])),\n",
       "             ('ReLU-70',\n",
       "              OrderedDict([('input_shape', [-1, 256, 14, 14]),\n",
       "                           ('output_shape', [-1, 256, 14, 14]),\n",
       "                           ('nb_params', 0)])),\n",
       "             ('BasicBlock-71',\n",
       "              OrderedDict([('input_shape', [-1, 256, 14, 14]),\n",
       "                           ('output_shape', [-1, 256, 14, 14]),\n",
       "                           ('nb_params', 0)])),\n",
       "             ('Conv2d-72',\n",
       "              OrderedDict([('input_shape', [-1, 256, 14, 14]),\n",
       "                           ('output_shape', [-1, 256, 14, 14]),\n",
       "                           ('trainable', True),\n",
       "                           ('nb_params', 589824)])),\n",
       "             ('BatchNorm2d-73',\n",
       "              OrderedDict([('input_shape', [-1, 256, 14, 14]),\n",
       "                           ('output_shape', [-1, 256, 14, 14]),\n",
       "                           ('trainable', True),\n",
       "                           ('nb_params', 512)])),\n",
       "             ('ReLU-74',\n",
       "              OrderedDict([('input_shape', [-1, 256, 14, 14]),\n",
       "                           ('output_shape', [-1, 256, 14, 14]),\n",
       "                           ('nb_params', 0)])),\n",
       "             ('Conv2d-75',\n",
       "              OrderedDict([('input_shape', [-1, 256, 14, 14]),\n",
       "                           ('output_shape', [-1, 256, 14, 14]),\n",
       "                           ('trainable', True),\n",
       "                           ('nb_params', 589824)])),\n",
       "             ('BatchNorm2d-76',\n",
       "              OrderedDict([('input_shape', [-1, 256, 14, 14]),\n",
       "                           ('output_shape', [-1, 256, 14, 14]),\n",
       "                           ('trainable', True),\n",
       "                           ('nb_params', 512)])),\n",
       "             ('ReLU-77',\n",
       "              OrderedDict([('input_shape', [-1, 256, 14, 14]),\n",
       "                           ('output_shape', [-1, 256, 14, 14]),\n",
       "                           ('nb_params', 0)])),\n",
       "             ('BasicBlock-78',\n",
       "              OrderedDict([('input_shape', [-1, 256, 14, 14]),\n",
       "                           ('output_shape', [-1, 256, 14, 14]),\n",
       "                           ('nb_params', 0)])),\n",
       "             ('Conv2d-79',\n",
       "              OrderedDict([('input_shape', [-1, 256, 14, 14]),\n",
       "                           ('output_shape', [-1, 256, 14, 14]),\n",
       "                           ('trainable', True),\n",
       "                           ('nb_params', 589824)])),\n",
       "             ('BatchNorm2d-80',\n",
       "              OrderedDict([('input_shape', [-1, 256, 14, 14]),\n",
       "                           ('output_shape', [-1, 256, 14, 14]),\n",
       "                           ('trainable', True),\n",
       "                           ('nb_params', 512)])),\n",
       "             ('ReLU-81',\n",
       "              OrderedDict([('input_shape', [-1, 256, 14, 14]),\n",
       "                           ('output_shape', [-1, 256, 14, 14]),\n",
       "                           ('nb_params', 0)])),\n",
       "             ('Conv2d-82',\n",
       "              OrderedDict([('input_shape', [-1, 256, 14, 14]),\n",
       "                           ('output_shape', [-1, 256, 14, 14]),\n",
       "                           ('trainable', True),\n",
       "                           ('nb_params', 589824)])),\n",
       "             ('BatchNorm2d-83',\n",
       "              OrderedDict([('input_shape', [-1, 256, 14, 14]),\n",
       "                           ('output_shape', [-1, 256, 14, 14]),\n",
       "                           ('trainable', True),\n",
       "                           ('nb_params', 512)])),\n",
       "             ('ReLU-84',\n",
       "              OrderedDict([('input_shape', [-1, 256, 14, 14]),\n",
       "                           ('output_shape', [-1, 256, 14, 14]),\n",
       "                           ('nb_params', 0)])),\n",
       "             ('BasicBlock-85',\n",
       "              OrderedDict([('input_shape', [-1, 256, 14, 14]),\n",
       "                           ('output_shape', [-1, 256, 14, 14]),\n",
       "                           ('nb_params', 0)])),\n",
       "             ('Conv2d-86',\n",
       "              OrderedDict([('input_shape', [-1, 256, 14, 14]),\n",
       "                           ('output_shape', [-1, 256, 14, 14]),\n",
       "                           ('trainable', True),\n",
       "                           ('nb_params', 589824)])),\n",
       "             ('BatchNorm2d-87',\n",
       "              OrderedDict([('input_shape', [-1, 256, 14, 14]),\n",
       "                           ('output_shape', [-1, 256, 14, 14]),\n",
       "                           ('trainable', True),\n",
       "                           ('nb_params', 512)])),\n",
       "             ('ReLU-88',\n",
       "              OrderedDict([('input_shape', [-1, 256, 14, 14]),\n",
       "                           ('output_shape', [-1, 256, 14, 14]),\n",
       "                           ('nb_params', 0)])),\n",
       "             ('Conv2d-89',\n",
       "              OrderedDict([('input_shape', [-1, 256, 14, 14]),\n",
       "                           ('output_shape', [-1, 256, 14, 14]),\n",
       "                           ('trainable', True),\n",
       "                           ('nb_params', 589824)])),\n",
       "             ('BatchNorm2d-90',\n",
       "              OrderedDict([('input_shape', [-1, 256, 14, 14]),\n",
       "                           ('output_shape', [-1, 256, 14, 14]),\n",
       "                           ('trainable', True),\n",
       "                           ('nb_params', 512)])),\n",
       "             ('ReLU-91',\n",
       "              OrderedDict([('input_shape', [-1, 256, 14, 14]),\n",
       "                           ('output_shape', [-1, 256, 14, 14]),\n",
       "                           ('nb_params', 0)])),\n",
       "             ('BasicBlock-92',\n",
       "              OrderedDict([('input_shape', [-1, 256, 14, 14]),\n",
       "                           ('output_shape', [-1, 256, 14, 14]),\n",
       "                           ('nb_params', 0)])),\n",
       "             ('Conv2d-93',\n",
       "              OrderedDict([('input_shape', [-1, 256, 14, 14]),\n",
       "                           ('output_shape', [-1, 256, 14, 14]),\n",
       "                           ('trainable', True),\n",
       "                           ('nb_params', 589824)])),\n",
       "             ('BatchNorm2d-94',\n",
       "              OrderedDict([('input_shape', [-1, 256, 14, 14]),\n",
       "                           ('output_shape', [-1, 256, 14, 14]),\n",
       "                           ('trainable', True),\n",
       "                           ('nb_params', 512)])),\n",
       "             ('ReLU-95',\n",
       "              OrderedDict([('input_shape', [-1, 256, 14, 14]),\n",
       "                           ('output_shape', [-1, 256, 14, 14]),\n",
       "                           ('nb_params', 0)])),\n",
       "             ('Conv2d-96',\n",
       "              OrderedDict([('input_shape', [-1, 256, 14, 14]),\n",
       "                           ('output_shape', [-1, 256, 14, 14]),\n",
       "                           ('trainable', True),\n",
       "                           ('nb_params', 589824)])),\n",
       "             ('BatchNorm2d-97',\n",
       "              OrderedDict([('input_shape', [-1, 256, 14, 14]),\n",
       "                           ('output_shape', [-1, 256, 14, 14]),\n",
       "                           ('trainable', True),\n",
       "                           ('nb_params', 512)])),\n",
       "             ('ReLU-98',\n",
       "              OrderedDict([('input_shape', [-1, 256, 14, 14]),\n",
       "                           ('output_shape', [-1, 256, 14, 14]),\n",
       "                           ('nb_params', 0)])),\n",
       "             ('BasicBlock-99',\n",
       "              OrderedDict([('input_shape', [-1, 256, 14, 14]),\n",
       "                           ('output_shape', [-1, 256, 14, 14]),\n",
       "                           ('nb_params', 0)])),\n",
       "             ('Conv2d-100',\n",
       "              OrderedDict([('input_shape', [-1, 256, 14, 14]),\n",
       "                           ('output_shape', [-1, 512, 7, 7]),\n",
       "                           ('trainable', True),\n",
       "                           ('nb_params', 1179648)])),\n",
       "             ('BatchNorm2d-101',\n",
       "              OrderedDict([('input_shape', [-1, 512, 7, 7]),\n",
       "                           ('output_shape', [-1, 512, 7, 7]),\n",
       "                           ('trainable', True),\n",
       "                           ('nb_params', 1024)])),\n",
       "             ('ReLU-102',\n",
       "              OrderedDict([('input_shape', [-1, 512, 7, 7]),\n",
       "                           ('output_shape', [-1, 512, 7, 7]),\n",
       "                           ('nb_params', 0)])),\n",
       "             ('Conv2d-103',\n",
       "              OrderedDict([('input_shape', [-1, 512, 7, 7]),\n",
       "                           ('output_shape', [-1, 512, 7, 7]),\n",
       "                           ('trainable', True),\n",
       "                           ('nb_params', 2359296)])),\n",
       "             ('BatchNorm2d-104',\n",
       "              OrderedDict([('input_shape', [-1, 512, 7, 7]),\n",
       "                           ('output_shape', [-1, 512, 7, 7]),\n",
       "                           ('trainable', True),\n",
       "                           ('nb_params', 1024)])),\n",
       "             ('Conv2d-105',\n",
       "              OrderedDict([('input_shape', [-1, 256, 14, 14]),\n",
       "                           ('output_shape', [-1, 512, 7, 7]),\n",
       "                           ('trainable', True),\n",
       "                           ('nb_params', 131072)])),\n",
       "             ('BatchNorm2d-106',\n",
       "              OrderedDict([('input_shape', [-1, 512, 7, 7]),\n",
       "                           ('output_shape', [-1, 512, 7, 7]),\n",
       "                           ('trainable', True),\n",
       "                           ('nb_params', 1024)])),\n",
       "             ('ReLU-107',\n",
       "              OrderedDict([('input_shape', [-1, 512, 7, 7]),\n",
       "                           ('output_shape', [-1, 512, 7, 7]),\n",
       "                           ('nb_params', 0)])),\n",
       "             ('BasicBlock-108',\n",
       "              OrderedDict([('input_shape', [-1, 256, 14, 14]),\n",
       "                           ('output_shape', [-1, 512, 7, 7]),\n",
       "                           ('nb_params', 0)])),\n",
       "             ('Conv2d-109',\n",
       "              OrderedDict([('input_shape', [-1, 512, 7, 7]),\n",
       "                           ('output_shape', [-1, 512, 7, 7]),\n",
       "                           ('trainable', True),\n",
       "                           ('nb_params', 2359296)])),\n",
       "             ('BatchNorm2d-110',\n",
       "              OrderedDict([('input_shape', [-1, 512, 7, 7]),\n",
       "                           ('output_shape', [-1, 512, 7, 7]),\n",
       "                           ('trainable', True),\n",
       "                           ('nb_params', 1024)])),\n",
       "             ('ReLU-111',\n",
       "              OrderedDict([('input_shape', [-1, 512, 7, 7]),\n",
       "                           ('output_shape', [-1, 512, 7, 7]),\n",
       "                           ('nb_params', 0)])),\n",
       "             ('Conv2d-112',\n",
       "              OrderedDict([('input_shape', [-1, 512, 7, 7]),\n",
       "                           ('output_shape', [-1, 512, 7, 7]),\n",
       "                           ('trainable', True),\n",
       "                           ('nb_params', 2359296)])),\n",
       "             ('BatchNorm2d-113',\n",
       "              OrderedDict([('input_shape', [-1, 512, 7, 7]),\n",
       "                           ('output_shape', [-1, 512, 7, 7]),\n",
       "                           ('trainable', True),\n",
       "                           ('nb_params', 1024)])),\n",
       "             ('ReLU-114',\n",
       "              OrderedDict([('input_shape', [-1, 512, 7, 7]),\n",
       "                           ('output_shape', [-1, 512, 7, 7]),\n",
       "                           ('nb_params', 0)])),\n",
       "             ('BasicBlock-115',\n",
       "              OrderedDict([('input_shape', [-1, 512, 7, 7]),\n",
       "                           ('output_shape', [-1, 512, 7, 7]),\n",
       "                           ('nb_params', 0)])),\n",
       "             ('Conv2d-116',\n",
       "              OrderedDict([('input_shape', [-1, 512, 7, 7]),\n",
       "                           ('output_shape', [-1, 512, 7, 7]),\n",
       "                           ('trainable', True),\n",
       "                           ('nb_params', 2359296)])),\n",
       "             ('BatchNorm2d-117',\n",
       "              OrderedDict([('input_shape', [-1, 512, 7, 7]),\n",
       "                           ('output_shape', [-1, 512, 7, 7]),\n",
       "                           ('trainable', True),\n",
       "                           ('nb_params', 1024)])),\n",
       "             ('ReLU-118',\n",
       "              OrderedDict([('input_shape', [-1, 512, 7, 7]),\n",
       "                           ('output_shape', [-1, 512, 7, 7]),\n",
       "                           ('nb_params', 0)])),\n",
       "             ('Conv2d-119',\n",
       "              OrderedDict([('input_shape', [-1, 512, 7, 7]),\n",
       "                           ('output_shape', [-1, 512, 7, 7]),\n",
       "                           ('trainable', True),\n",
       "                           ('nb_params', 2359296)])),\n",
       "             ('BatchNorm2d-120',\n",
       "              OrderedDict([('input_shape', [-1, 512, 7, 7]),\n",
       "                           ('output_shape', [-1, 512, 7, 7]),\n",
       "                           ('trainable', True),\n",
       "                           ('nb_params', 1024)])),\n",
       "             ('ReLU-121',\n",
       "              OrderedDict([('input_shape', [-1, 512, 7, 7]),\n",
       "                           ('output_shape', [-1, 512, 7, 7]),\n",
       "                           ('nb_params', 0)])),\n",
       "             ('BasicBlock-122',\n",
       "              OrderedDict([('input_shape', [-1, 512, 7, 7]),\n",
       "                           ('output_shape', [-1, 512, 7, 7]),\n",
       "                           ('nb_params', 0)])),\n",
       "             ('AdaptiveMaxPool2d-123',\n",
       "              OrderedDict([('input_shape', [-1, 512, 7, 7]),\n",
       "                           ('output_shape', [-1, 512, 1, 1]),\n",
       "                           ('nb_params', 0)])),\n",
       "             ('AdaptiveAvgPool2d-124',\n",
       "              OrderedDict([('input_shape', [-1, 512, 7, 7]),\n",
       "                           ('output_shape', [-1, 512, 1, 1]),\n",
       "                           ('nb_params', 0)])),\n",
       "             ('AdaptiveConcatPool2d-125',\n",
       "              OrderedDict([('input_shape', [-1, 512, 7, 7]),\n",
       "                           ('output_shape', [-1, 1024, 1, 1]),\n",
       "                           ('nb_params', 0)])),\n",
       "             ('Flatten-126',\n",
       "              OrderedDict([('input_shape', [-1, 1024, 1, 1]),\n",
       "                           ('output_shape', [-1, 1024]),\n",
       "                           ('nb_params', 0)])),\n",
       "             ('BatchNorm1d-127',\n",
       "              OrderedDict([('input_shape', [-1, 1024]),\n",
       "                           ('output_shape', [-1, 1024]),\n",
       "                           ('trainable', True),\n",
       "                           ('nb_params', 2048)])),\n",
       "             ('Dropout-128',\n",
       "              OrderedDict([('input_shape', [-1, 1024]),\n",
       "                           ('output_shape', [-1, 1024]),\n",
       "                           ('nb_params', 0)])),\n",
       "             ('Linear-129',\n",
       "              OrderedDict([('input_shape', [-1, 1024]),\n",
       "                           ('output_shape', [-1, 512]),\n",
       "                           ('trainable', True),\n",
       "                           ('nb_params', 524800)])),\n",
       "             ('ReLU-130',\n",
       "              OrderedDict([('input_shape', [-1, 512]),\n",
       "                           ('output_shape', [-1, 512]),\n",
       "                           ('nb_params', 0)])),\n",
       "             ('BatchNorm1d-131',\n",
       "              OrderedDict([('input_shape', [-1, 512]),\n",
       "                           ('output_shape', [-1, 512]),\n",
       "                           ('trainable', True),\n",
       "                           ('nb_params', 1024)])),\n",
       "             ('Dropout-132',\n",
       "              OrderedDict([('input_shape', [-1, 512]),\n",
       "                           ('output_shape', [-1, 512]),\n",
       "                           ('nb_params', 0)])),\n",
       "             ('Linear-133',\n",
       "              OrderedDict([('input_shape', [-1, 512]),\n",
       "                           ('output_shape', [-1, 7]),\n",
       "                           ('trainable', True),\n",
       "                           ('nb_params', 3591)])),\n",
       "             ('LogSoftmax-134',\n",
       "              OrderedDict([('input_shape', [-1, 7]),\n",
       "                           ('output_shape', [-1, 7]),\n",
       "                           ('nb_params', 0)]))])"
      ]
     },
     "execution_count": 49,
     "metadata": {},
     "output_type": "execute_result"
    }
   ],
   "source": [
    "learn.summary()"
   ]
  },
  {
   "cell_type": "code",
   "execution_count": null,
   "metadata": {},
   "outputs": [],
   "source": [
    "learn.models.model"
   ]
  },
  {
   "cell_type": "code",
   "execution_count": 19,
   "metadata": {},
   "outputs": [],
   "source": [
    "wd=1e-5 # weight-decay/L2 regularization "
   ]
  },
  {
   "cell_type": "code",
   "execution_count": 24,
   "metadata": {},
   "outputs": [
    {
     "data": {
      "application/vnd.jupyter.widget-view+json": {
       "model_id": "38e1254e94a648c7a0ebd62fb56b2cc4",
       "version_major": 2,
       "version_minor": 0
      },
      "text/plain": [
       "HBox(children=(IntProgress(value=0, description='Epoch', max=1), HTML(value='')))"
      ]
     },
     "metadata": {},
     "output_type": "display_data"
    },
    {
     "name": "stdout",
     "output_type": "stream",
     "text": [
      " 95%|███████████████████████████████████████████████████████████████████████████████████████████████████████████████████████████████████████████████████████████████████████████████████▎         | 37/39 [00:42<00:02,  1.15s/it, loss=7.73]"
     ]
    }
   ],
   "source": [
    "learn.lr_find(1e-10)"
   ]
  },
  {
   "cell_type": "code",
   "execution_count": 25,
   "metadata": {},
   "outputs": [
    {
     "data": {
      "image/png": "[encoded data removed]",
      "text/plain": [
       "<Figure size 432x288 with 1 Axes>"
      ]
     },
     "metadata": {},
     "output_type": "display_data"
    }
   ],
   "source": [
    "learn.sched.plot()"
   ]
  },
  {
   "cell_type": "code",
   "execution_count": 23,
   "metadata": {
    "scrolled": true
   },
   "outputs": [
    {
     "data": {
      "application/vnd.jupyter.widget-view+json": {
       "model_id": "cd3e0462dcd14eba8d1ee014dfba11f4",
       "version_major": 2,
       "version_minor": 0
      },
      "text/plain": [
       "HBox(children=(IntProgress(value=0, description='Epoch', max=3), HTML(value='')))"
      ]
     },
     "metadata": {},
     "output_type": "display_data"
    },
    {
     "name": "stdout",
     "output_type": "stream",
     "text": [
      "EPOCH 0 ---------------------------------------- STEP 3                                                                                                                                                                                      \n",
      "mean: [14.64103 13.41026 13.71795 13.79487 13.41026 13.89744 13.76923]\n",
      "stdev: [6.14978 4.53882 3.90232 4.46169 3.50617 4.44796 4.2875 ]\n",
      "\n",
      "[WT]: 8.571%\n",
      "[mfb1KO]: 18.57%\n",
      "[mmr1KO]: 68.57%\n",
      "[CK666]: 8.571%\n",
      "[LatA-5uM]: 24.29%\n",
      "[dnm1KO]: 17.14%\n",
      "[fzo1KO]: 95.71%\n",
      "epoch      trn_loss   val_loss   accuracy   \n",
      "    0      1.335382   1.99545    0.287302  \n",
      "EPOCH 1 ---------------------------------------- STEP 4                                                                                                                                                                                      \n",
      "mean: [13.05128 14.69231 13.4359  13.4359  14.10256 14.41026 13.58974]\n",
      "stdev: [4.36741 4.72394 6.25441 4.40742 4.83998 3.93354 4.24698]\n",
      "\n",
      "[WT]: 20.0%\n",
      "[mfb1KO]: 78.57%\n",
      "[mmr1KO]: 72.86%\n",
      "[CK666]: 67.14%\n",
      "[LatA-5uM]: 31.43%\n",
      "[dnm1KO]: 88.57%\n",
      "[fzo1KO]: 67.14%\n",
      "    1      1.248786   1.119411   0.51746   \n",
      "EPOCH 2 ---------------------------------------- STEP 5                                                                                                                                                                                      \n",
      "mean: [13.07692 13.28205 15.07692 13.17949 14.76923 13.92308 13.20513]\n",
      "stdev: [4.3109  4.13211 5.80179 4.92441 3.75849 4.48007 3.51684]\n",
      "\n",
      "[WT]: 37.14%\n",
      "[mfb1KO]: 84.29%\n",
      "[mmr1KO]: 68.57%\n",
      "[CK666]: 51.43%\n",
      "[LatA-5uM]: 27.14%\n",
      "[dnm1KO]: 87.14%\n",
      "[fzo1KO]: 71.43%\n",
      "    2      1.158404   1.08089    0.557143  \n",
      "Wall time: 2min 36s\n"
     ]
    },
    {
     "data": {
      "text/plain": [
       "[array([1.08089]), 0.5571428566698045]"
      ]
     },
     "execution_count": 23,
     "metadata": {},
     "output_type": "execute_result"
    }
   ],
   "source": [
    "%time learn.fit(1e-3, 3, cycle_len=1, wds=wd, use_wd_sched=True)"
   ]
  },
  {
   "cell_type": "code",
   "execution_count": null,
   "metadata": {
    "scrolled": true
   },
   "outputs": [],
   "source": [
    "f = plt.figure()\n",
    "x = learn.sched.plot_loss()\n",
    "plt.ylabel('Loss')\n",
    "plt.xlabel('Iterations')\n",
    "plt.show()"
   ]
  },
  {
   "cell_type": "code",
   "execution_count": null,
   "metadata": {},
   "outputs": [],
   "source": [
    "wd=1e-7 # weight-decay/L2 regularization "
   ]
  },
  {
   "cell_type": "code",
   "execution_count": 27,
   "metadata": {
    "scrolled": true
   },
   "outputs": [
    {
     "data": {
      "application/vnd.jupyter.widget-view+json": {
       "model_id": "",
       "version_major": 2,
       "version_minor": 0
      },
      "text/plain": [
       "HBox(children=(IntProgress(value=0, description='Epoch', max=14), HTML(value='')))"
      ]
     },
     "metadata": {},
     "output_type": "display_data"
    },
    {
     "name": "stdout",
     "output_type": "stream",
     "text": [
      "EPOCH 0 ---------------------------------------- STEP 14                                                                                                                                                                                     \n",
      "mean: [13.97436 13.79487 13.02564 14.33333 12.71795 14.5641  14.28205]\n",
      "stdev: [4.24558 4.27383 4.68214 4.12828 3.90232 4.98611 3.94155]\n",
      "\n",
      "[WT]: 42.86%\n",
      "[mfb1KO]: 88.57%\n",
      "[mmr1KO]: 84.29%\n",
      "[CK666]: 82.86%\n",
      "[LatA-5uM]: 37.14%\n",
      "[dnm1KO]: 78.57%\n",
      "[fzo1KO]: 85.71%\n",
      "epoch      trn_loss   val_loss   accuracy   \n",
      "    0      0.739069   0.866098   0.650794  \n",
      "EPOCH 1 ---------------------------------------- STEP 15                                                                                                                                                                                     \n",
      "mean: [14.07692 14.      13.38462 13.89744 14.23077 13.79487 13.38462]\n",
      "stdev: [4.27506 3.92885 4.40638 3.58626 4.83821 4.42707 3.59212]\n",
      "\n",
      "[WT]: 45.71%\n",
      "[mfb1KO]: 90.0%\n",
      "[mmr1KO]: 84.29%\n",
      "[CK666]: 50.0%\n",
      "[LatA-5uM]: 61.43%\n",
      "[dnm1KO]: 98.57%\n",
      "[fzo1KO]: 98.57%\n",
      "    1      0.664346   0.764154   0.688889  \n",
      "EPOCH 2 ---------------------------------------- STEP 16                                                                                                                                                                                     \n",
      "mean: [13.71795 13.4359  15.25641 13.74359 13.23077 12.92308 14.35897]\n",
      "stdev: [3.87595 4.86639 5.15761 5.23165 3.94489 4.26305 4.90153]\n",
      "\n",
      "[WT]: 1.905%\n",
      "[mfb1KO]: 1.429%\n",
      "[mmr1KO]: 1.429%\n",
      "[CK666]: 4.286%\n",
      "[LatA-5uM]: 21.43%\n",
      "[dnm1KO]: 60.0%\n",
      "[fzo1KO]: 100.0%\n",
      "    2      0.717928   4.773512   0.215873  \n",
      "EPOCH 3 ---------------------------------------- STEP 17                                                                                                                                                                                     \n",
      "mean: [13.69231 13.15385 14.97436 15.30769 13.46154 13.30769 12.76923]\n",
      "stdev: [4.46154 3.85998 4.88581 5.2874  4.93988 4.17043 4.05388]\n",
      "\n",
      "[WT]: 13.81%\n",
      "[mfb1KO]: 77.14%\n",
      "[mmr1KO]: 94.29%\n",
      "[CK666]: 71.43%\n",
      "[LatA-5uM]: 52.86%\n",
      "[dnm1KO]: 100.0%\n",
      "[fzo1KO]: 51.43%\n",
      "    3      0.675145   1.174149   0.542857  \n",
      "EPOCH 4 ---------------------------------------- STEP 18                                                                                                                                                                                     \n",
      "mean: [12.87179 14.97436 12.61538 12.97436 14.97436 14.30769 13.84615]\n",
      "stdev: [3.67374 3.79262 5.04145 4.49779 7.10178 4.37448 4.79069]\n",
      "\n",
      "[WT]: 63.81%\n",
      "[mfb1KO]: 94.29%\n",
      "[mmr1KO]: 84.29%\n",
      "[CK666]: 37.14%\n",
      "[LatA-5uM]: 65.71%\n",
      "[dnm1KO]: 97.14%\n",
      "[fzo1KO]: 97.14%\n",
      "    4      0.624949   0.646466   0.74127   \n",
      "EPOCH 5 ---------------------------------------- STEP 19                                                                                                                                                                                     \n",
      "mean: [13.66667 13.58974 14.12821 14.58974 13.71795 12.28205 14.41026]\n",
      "stdev: [3.75078 4.82365 4.79412 4.39532 5.07861 4.18145 4.30097]\n",
      "\n",
      "[WT]: 51.43%\n",
      "[mfb1KO]: 94.29%\n",
      "[mmr1KO]: 84.29%\n",
      "[CK666]: 55.71%\n",
      "[LatA-5uM]: 65.71%\n",
      "[dnm1KO]: 100.0%\n",
      "[fzo1KO]: 94.29%\n",
      "    5      0.561286   0.639994   0.720635  \n",
      "EPOCH 6 ---------------------------------------- STEP 20                                                                                                                                                                                     \n",
      "mean: [14.4359  14.48718 12.84615 13.05128 14.20513 14.02564 13.46154]\n",
      "stdev: [5.11807 6.38456 4.09213 4.57949 5.11999 4.53752 3.42574]\n",
      "\n",
      "[WT]: 33.81%\n",
      "[mfb1KO]: 64.29%\n",
      "[mmr1KO]: 4.286%\n",
      "[CK666]: 98.57%\n",
      "[LatA-5uM]: 5.714%\n",
      "[dnm1KO]: 2.857%\n",
      "[fzo1KO]: 7.143%\n",
      "    6      0.603534   2.470998   0.315873  \n",
      "EPOCH 7 ---------------------------------------- STEP 21                                                                                                                                                                                     \n",
      "mean: [11.97436 14.12821 15.28205 14.12821 15.05128 13.97436 12.05128]\n",
      "stdev: [4.49209 4.42707 4.49472 3.94305 6.65235 5.40886 4.13211]\n",
      "\n",
      "[WT]: 7.143%\n",
      "[mfb1KO]: 30.0%\n",
      "[mmr1KO]: 58.57%\n",
      "[CK666]: 88.57%\n",
      "[LatA-5uM]: 54.29%\n",
      "[dnm1KO]: 100.0%\n",
      "[fzo1KO]: 34.29%\n",
      "    7      0.617578   1.538141   0.430159  \n",
      "EPOCH 8 ---------------------------------------- STEP 22                                                                                                                                                                                     \n",
      "mean: [14.12821 12.74359 12.58974 15.4359  13.94872 13.79487 14.15385]\n",
      "stdev: [4.68593 4.797   3.99819 5.18279 3.63705 4.81546 4.60512]\n",
      "\n",
      "[WT]: 62.38%\n",
      "[mfb1KO]: 98.57%\n",
      "[mmr1KO]: 44.29%\n",
      "[CK666]: 17.14%\n",
      "[LatA-5uM]: 37.14%\n",
      "[dnm1KO]: 58.57%\n",
      "[fzo1KO]: 92.86%\n",
      "    8      0.584675   1.142003   0.595238  \n",
      "EPOCH 9 ---------------------------------------- STEP 23                                                                                                                                                                                     \n",
      "mean: [15.33333 14.5641  13.51282 13.82051 13.10256 13.23077 13.07692]\n",
      "stdev: [4.32247 5.31951 5.00703 5.28118 3.46258 4.86991 3.9832 ]\n",
      "\n",
      "[WT]: 42.38%\n",
      "[mfb1KO]: 64.29%\n",
      "[mmr1KO]: 85.71%\n",
      "[CK666]: 81.43%\n",
      "[LatA-5uM]: 42.86%\n",
      "[dnm1KO]: 98.57%\n",
      "[fzo1KO]: 75.71%\n",
      "    9      0.561436   0.844766   0.639683  \n",
      "EPOCH 10 ---------------------------------------- STEP 24                                                                                                                                                                                    \n",
      "mean: [14.02564 13.82051 13.69231 12.76923 14.02564 14.33333 13.87179]\n",
      "stdev: [4.73117 3.80871 4.6418  4.1846  4.90676 4.46257 4.62535]\n",
      "\n",
      "[WT]: 48.57%\n",
      "[mfb1KO]: 95.71%\n",
      "[mmr1KO]: 54.29%\n",
      "[CK666]: 62.86%\n",
      "[LatA-5uM]: 78.57%\n",
      "[dnm1KO]: 67.14%\n",
      "[fzo1KO]: 95.71%\n",
      "    10     0.508284   0.797408   0.666667  \n",
      "EPOCH 11 ---------------------------------------- STEP 25                                                                                                                                                                                    \n",
      "mean: [12.74359 13.      15.64103 12.82051 14.35897 13.79487 14.15385]\n",
      "stdev: [5.03179 4.24868 3.91242 3.76129 4.45771 4.36877 4.70427]\n",
      "\n",
      "[WT]: 59.52%\n",
      "[mfb1KO]: 92.86%\n",
      "[mmr1KO]: 85.71%\n",
      "[CK666]: 61.43%\n",
      "[LatA-5uM]: 68.57%\n",
      "[dnm1KO]: 97.14%\n",
      "[fzo1KO]: 90.0%\n",
      "    11     0.443432   0.601482   0.749206  \n",
      "EPOCH 12 ---------------------------------------- STEP 26                                                                                                                                                                                    \n",
      "mean: [12.4359  14.35897 14.87179 14.05128 13.      13.82051 13.94872]\n",
      "stdev: [4.98096 5.12654 5.62585 4.3083  4.57978 4.49998 4.78217]\n",
      "\n",
      "[WT]: 50.48%\n",
      "[mfb1KO]: 94.29%\n",
      "[mmr1KO]: 88.57%\n",
      "[CK666]: 62.86%\n",
      "[LatA-5uM]: 78.57%\n",
      "[dnm1KO]: 97.14%\n",
      "[fzo1KO]: 94.29%\n",
      "    12     0.417087   0.606115   0.74127   \n",
      "EPOCH 13 ---------------------------------------- STEP 27                                                                                                                                                                                    \n",
      "mean: [13.94872 13.35897 12.71795 15.15385 13.33333 14.71795 13.51282]\n",
      "stdev: [3.88256 4.97423 3.79574 4.32369 5.27856 4.68467 4.31379]\n",
      "\n",
      "[WT]: 45.24%\n",
      "[mfb1KO]: 95.71%\n",
      "[mmr1KO]: 91.43%\n",
      "[CK666]: 61.43%\n",
      "[LatA-5uM]: 78.57%\n",
      "[dnm1KO]: 97.14%\n",
      "[fzo1KO]: 97.14%\n",
      "    13     0.412904   0.622965   0.730159  \n",
      "Wall time: 11min 13s\n"
     ]
    },
    {
     "data": {
      "text/plain": [
       "[array([0.62296]), 0.7301587304425619]"
      ]
     },
     "execution_count": 27,
     "metadata": {},
     "output_type": "execute_result"
    }
   ],
   "source": [
    "%time learn.fit(1e-3, 3, cycle_len=2, cycle_mult=2, wds=wd, use_wd_sched=True)"
   ]
  },
  {
   "cell_type": "code",
   "execution_count": 29,
   "metadata": {
    "scrolled": true
   },
   "outputs": [
    {
     "data": {
      "application/vnd.jupyter.widget-view+json": {
       "model_id": "",
       "version_major": 2,
       "version_minor": 0
      },
      "text/plain": [
       "HBox(children=(IntProgress(value=0, description='Epoch', max=8), HTML(value='')))"
      ]
     },
     "metadata": {},
     "output_type": "display_data"
    },
    {
     "name": "stdout",
     "output_type": "stream",
     "text": [
      "EPOCH 0 ---------------------------------------- STEP 28                                                                                                                                                                                     \n",
      "mean: [12.82051 14.94872 14.05128 13.51282 14.64103 14.17949 12.41026]\n",
      "stdev: [4.24791 4.50042 5.13384 5.1683  4.56007 3.88205 4.85015]\n",
      "\n",
      "[WT]: 32.38%\n",
      "[mfb1KO]: 95.71%\n",
      "[mmr1KO]: 72.86%\n",
      "[CK666]: 58.57%\n",
      "[LatA-5uM]: 78.57%\n",
      "[dnm1KO]: 100.0%\n",
      "[fzo1KO]: 100.0%\n",
      "epoch      trn_loss   val_loss   accuracy   \n",
      "    0      0.373277   0.770744   0.669841  \n",
      "EPOCH 1 ---------------------------------------- STEP 29                                                                                                                                                                                     \n",
      "mean: [13.30769 14.51282 14.17949 14.25641 14.23077 13.5641  12.4359 ]\n",
      "stdev: [4.68579 5.13346 4.17484 3.51348 4.12908 5.75925 4.75985]\n",
      "\n",
      "[WT]: 61.43%\n",
      "[mfb1KO]: 94.29%\n",
      "[mmr1KO]: 84.29%\n",
      "[CK666]: 58.57%\n",
      "[LatA-5uM]: 75.71%\n",
      "[dnm1KO]: 98.57%\n",
      "[fzo1KO]: 98.57%\n",
      "    1      0.355557   0.556802   0.771429  \n",
      "EPOCH 2 ---------------------------------------- STEP 30                                                                                                                                                                                     \n",
      "mean: [13.76923 14.28205 15.23077 13.07692 13.51282 13.71795 13.12821]\n",
      "stdev: [5.47939 4.58509 5.06603 4.21465 4.31379 4.90917 3.4949 ]\n",
      "\n",
      "[WT]: 60.0%\n",
      "[mfb1KO]: 91.43%\n",
      "[mmr1KO]: 82.86%\n",
      "[CK666]: 70.0%\n",
      "[LatA-5uM]: 74.29%\n",
      "[dnm1KO]: 98.57%\n",
      "[fzo1KO]: 98.57%\n",
      "    2      0.346075   0.566775   0.773016  \n",
      "EPOCH 3 ---------------------------------------- STEP 31                                                                                                                                                                                     \n",
      "mean: [13.82051 12.82051 14.35897 13.66667 14.76923 13.10256 14.33333]\n",
      "stdev: [4.59024 4.94001 5.10649 5.40813 4.95343 4.26551 4.91118]\n",
      "\n",
      "[WT]: 61.43%\n",
      "[mfb1KO]: 94.29%\n",
      "[mmr1KO]: 82.86%\n",
      "[CK666]: 70.0%\n",
      "[LatA-5uM]: 70.0%\n",
      "[dnm1KO]: 98.57%\n",
      "[fzo1KO]: 95.71%\n",
      "    3      0.351957   0.556913   0.773016  \n",
      "EPOCH 4 ---------------------------------------- STEP 32                                                                                                                                                                                     \n",
      "mean: [13.84615 13.10256 14.38462 13.5641  13.76923 14.94872 13.07692]\n",
      "stdev: [4.53781 4.38409 4.88648 4.58423 4.47478 4.52882 4.36997]\n",
      "\n",
      "[WT]: 60.95%\n",
      "[mfb1KO]: 94.29%\n",
      "[mmr1KO]: 91.43%\n",
      "[CK666]: 68.57%\n",
      "[LatA-5uM]: 68.57%\n",
      "[dnm1KO]: 98.57%\n",
      "[fzo1KO]: 95.71%\n",
      "    4      0.345596   0.565913   0.777778  \n",
      "EPOCH 5 ---------------------------------------- STEP 33                                                                                                                                                                                     \n",
      "mean: [14.23077 12.35897 13.58974 14.71795 14.87179 12.69231 14.10256]\n",
      "stdev: [5.3945  3.92551 5.08753 5.03296 4.7673  4.17658 3.94705]\n",
      "\n",
      "[WT]: 62.38%\n",
      "[mfb1KO]: 97.14%\n",
      "[mmr1KO]: 80.0%\n",
      "[CK666]: 68.57%\n",
      "[LatA-5uM]: 75.71%\n",
      "[dnm1KO]: 98.57%\n",
      "[fzo1KO]: 94.29%\n",
      "    5      0.358331   0.564479   0.779365  \n",
      "EPOCH 6 ---------------------------------------- STEP 34                                                                                                                                                                                     \n",
      "mean: [13.87179 12.61538 12.82051 14.89744 14.33333 14.12821 13.94872]\n",
      "stdev: [3.78377 4.61111 3.60819 5.37704 4.53665 5.17479 4.85137]\n",
      "\n",
      "[WT]: 52.86%\n",
      "[mfb1KO]: 94.29%\n",
      "[mmr1KO]: 85.71%\n",
      "[CK666]: 71.43%\n",
      "[LatA-5uM]: 77.14%\n",
      "[dnm1KO]: 98.57%\n",
      "[fzo1KO]: 98.57%\n",
      "    6      0.351447   0.571398   0.760317  \n",
      "EPOCH 7 ---------------------------------------- STEP 35                                                                                                                                                                                     \n",
      "mean: [13.97436 12.97436 13.53846 13.46154 13.46154 15.10256 14.23077]\n",
      "stdev: [5.11653 4.43464 3.99901 4.52824 4.19307 5.93467 4.50334]\n",
      "\n",
      "[WT]: 59.05%\n",
      "[mfb1KO]: 95.71%\n",
      "[mmr1KO]: 87.14%\n",
      "[CK666]: 67.14%\n",
      "[LatA-5uM]: 74.29%\n",
      "[dnm1KO]: 98.57%\n",
      "[fzo1KO]: 94.29%\n",
      "    7      0.334006   0.545732   0.771429  \n",
      "Wall time: 6min 24s\n"
     ]
    },
    {
     "data": {
      "text/plain": [
       "[array([0.54573]), 0.7714285718070136]"
      ]
     },
     "execution_count": 29,
     "metadata": {},
     "output_type": "execute_result"
    }
   ],
   "source": [
    "%time learn.fit(1e-4, 2, cycle_len=4, wds=wd, use_wd_sched=True)"
   ]
  },
  {
   "cell_type": "code",
   "execution_count": 33,
   "metadata": {
    "scrolled": true
   },
   "outputs": [
    {
     "data": {
      "application/vnd.jupyter.widget-view+json": {
       "model_id": "",
       "version_major": 2,
       "version_minor": 0
      },
      "text/plain": [
       "HBox(children=(IntProgress(value=0, description='Epoch', max=16), HTML(value='')))"
      ]
     },
     "metadata": {},
     "output_type": "display_data"
    },
    {
     "name": "stdout",
     "output_type": "stream",
     "text": [
      "EPOCH 0 ---------------------------------------- STEP 36                                                                                                                                                                                     \n",
      "mean: [13.38462 14.33333 12.25641 14.82051 12.76923 14.38462 14.53846]\n",
      "stdev: [4.21606 4.32247 3.98534 3.52916 4.44604 4.04218 5.71927]\n",
      "\n",
      "[WT]: 12.86%\n",
      "[mfb1KO]: 70.0%\n",
      "[mmr1KO]: 30.0%\n",
      "[CK666]: 34.29%\n",
      "[LatA-5uM]: 61.43%\n",
      "[dnm1KO]: 100.0%\n",
      "[fzo1KO]: 92.86%\n",
      "epoch      trn_loss   val_loss   accuracy   \n",
      "    0      0.335459   1.886915   0.474603  \n",
      "EPOCH 1 ---------------------------------------- STEP 37                                                                                                                                                                                     \n",
      "mean: [14.61538 13.94872 13.87179 13.35897 13.25641 14.66667 12.84615]\n",
      "stdev: [4.53259 3.78898 4.14592 4.25162 4.46478 5.06032 4.22774]\n",
      "\n",
      "[WT]: 79.05%\n",
      "[mfb1KO]: 94.29%\n",
      "[mmr1KO]: 72.86%\n",
      "[CK666]: 48.57%\n",
      "[LatA-5uM]: 37.14%\n",
      "[dnm1KO]: 94.29%\n",
      "[fzo1KO]: 70.0%\n",
      "    1      0.374805   0.708745   0.726984  \n",
      "EPOCH 2 ---------------------------------------- STEP 38                                                                                                                                                                                     \n",
      "mean: [11.74359 14.07692 13.02564 14.38462 14.58974 14.71795 14.02564]\n",
      "stdev: [3.95953 3.57616 4.19088 4.53259 6.89004 5.16869 3.79937]\n",
      "\n",
      "[WT]: 49.05%\n",
      "[mfb1KO]: 97.14%\n",
      "[mmr1KO]: 77.14%\n",
      "[CK666]: 71.43%\n",
      "[LatA-5uM]: 67.14%\n",
      "[dnm1KO]: 95.71%\n",
      "[fzo1KO]: 88.57%\n",
      "    2      0.368953   0.686573   0.715873  \n",
      "EPOCH 3 ---------------------------------------- STEP 39                                                                                                                                                                                     \n",
      "mean: [13.5641  13.15385 13.28205 13.74359 12.64103 15.23077 14.89744]\n",
      "stdev: [4.41904 3.75901 4.67371 4.16775 4.08554 5.38498 4.12494]\n",
      "\n",
      "[WT]: 23.33%\n",
      "[mfb1KO]: 87.14%\n",
      "[mmr1KO]: 54.29%\n",
      "[CK666]: 68.57%\n",
      "[LatA-5uM]: 92.86%\n",
      "[dnm1KO]: 97.14%\n",
      "[fzo1KO]: 97.14%\n",
      "    3      0.369391   0.923672   0.630159  \n",
      "EPOCH 4 ---------------------------------------- STEP 40                                                                                                                                                                                     \n",
      "mean: [13.58974 13.76923 12.84615 14.17949 13.82051 14.64103 13.82051]\n",
      "stdev: [4.73242 4.57116 5.08663 5.12346 4.09422 5.03061 4.34341]\n",
      "\n",
      "[WT]: 61.43%\n",
      "[mfb1KO]: 91.43%\n",
      "[mmr1KO]: 88.57%\n",
      "[CK666]: 72.86%\n",
      "[LatA-5uM]: 67.14%\n",
      "[dnm1KO]: 100.0%\n",
      "[fzo1KO]: 97.14%\n",
      "    4      0.357272   0.541528   0.779365  \n",
      "EPOCH 5 ---------------------------------------- STEP 41                                                                                                                                                                                     \n",
      "mean: [14.25641 13.64103 12.89744 13.66667 13.92308 13.69231 14.66667]\n",
      "stdev: [5.0976  4.68214 4.55617 4.34613 4.56511 6.03474 4.5592 ]\n",
      "\n",
      "[WT]: 58.57%\n",
      "[mfb1KO]: 95.71%\n",
      "[mmr1KO]: 84.29%\n",
      "[CK666]: 70.0%\n",
      "[LatA-5uM]: 80.0%\n",
      "[dnm1KO]: 98.57%\n",
      "[fzo1KO]: 100.0%\n",
      "    5      0.329311   0.503095   0.78254   \n",
      "EPOCH 6 ---------------------------------------- STEP 42                                                                                                                                                                                     \n",
      "mean: [13.69231 13.84615 12.23077 14.79487 14.33333 14.15385 13.5641 ]\n",
      "stdev: [4.41532 4.18507 4.28151 4.38634 3.9893  4.0417  4.31334]\n",
      "\n",
      "[WT]: 60.0%\n",
      "[mfb1KO]: 95.71%\n",
      "[mmr1KO]: 87.14%\n",
      "[CK666]: 67.14%\n",
      "[LatA-5uM]: 78.57%\n",
      "[dnm1KO]: 100.0%\n",
      "[fzo1KO]: 100.0%\n",
      "    6      0.299685   0.492298   0.787302  \n",
      "EPOCH 7 ---------------------------------------- STEP 43                                                                                                                                                                                     \n",
      "mean: [12.92308 15.38462 13.30769 14.12821 13.89744 13.66667 13.10256]\n",
      "stdev: [3.88544 5.51741 4.63628 4.43864 5.01687 4.43375 5.02708]\n",
      "\n",
      "[WT]: 62.38%\n",
      "[mfb1KO]: 92.86%\n",
      "[mmr1KO]: 88.57%\n",
      "[CK666]: 65.71%\n",
      "[LatA-5uM]: 81.43%\n",
      "[dnm1KO]: 100.0%\n",
      "[fzo1KO]: 100.0%\n",
      "    7      0.302327   0.489639   0.795238  \n",
      "EPOCH 8 ---------------------------------------- STEP 44                                                                                                                                                                                     \n",
      "mean: [13.10256 13.69231 12.66667 14.20513 14.84615 13.58974 14.53846]\n",
      "stdev: [3.99868 4.85774 3.66783 4.19511 5.50775 3.86117 3.64337]\n",
      "\n",
      "[WT]: 90.48%\n",
      "[mfb1KO]: 91.43%\n",
      "[mmr1KO]: 68.57%\n",
      "[CK666]: 2.857%\n",
      "[LatA-5uM]: 25.71%\n",
      "[dnm1KO]: 24.29%\n",
      "[fzo1KO]: 5.714%\n",
      "    8      0.349951   1.846055   0.544444  \n",
      "EPOCH 9 ---------------------------------------- STEP 45                                                                                                                                                                                     \n",
      "mean: [14.41026 14.25641 13.53846 13.5641  14.69231 13.46154 12.64103]\n",
      "stdev: [4.4186  4.27106 4.39607 4.81342 4.68579 5.01713 4.49779]\n",
      "\n",
      "[WT]: 71.43%\n",
      "[mfb1KO]: 70.0%\n",
      "[mmr1KO]: 54.29%\n",
      "[CK666]: 37.14%\n",
      "[LatA-5uM]: 41.43%\n",
      "[dnm1KO]: 100.0%\n",
      "[fzo1KO]: 91.43%\n",
      "    9      0.357376   0.937478   0.67619   \n",
      "EPOCH 10 ---------------------------------------- STEP 46                                                                                                                                                                                    \n",
      "mean: [14.4359  14.66667 13.4359  12.48718 13.5641  15.05128 13.02564]\n",
      "stdev: [5.08792 5.26884 4.38994 5.81277 4.64534 4.96112 4.44042]\n",
      "\n",
      "[WT]: 19.05%\n",
      "[mfb1KO]: 87.14%\n",
      "[mmr1KO]: 65.71%\n",
      "[CK666]: 51.43%\n",
      "[LatA-5uM]: 100.0%\n",
      "[dnm1KO]: 91.43%\n",
      "[fzo1KO]: 100.0%\n",
      "    10     0.374058   1.0968     0.614286  \n",
      "EPOCH 11 ---------------------------------------- STEP 47                                                                                                                                                                                    \n",
      "mean: [13.94872 13.84615 14.02564 14.66667 12.82051 14.07692 13.35897]\n",
      "stdev: [3.83606 4.40011 3.95803 4.78959 3.6576  4.66512 5.07628]\n",
      "\n",
      "[WT]: 85.24%\n",
      "[mfb1KO]: 91.43%\n",
      "[mmr1KO]: 77.14%\n",
      "[CK666]: 44.29%\n",
      "[LatA-5uM]: 37.14%\n",
      "[dnm1KO]: 97.14%\n",
      "[fzo1KO]: 91.43%\n",
      "    11     0.325902   0.599006   0.771429  \n",
      "EPOCH 12 ---------------------------------------- STEP 48                                                                                                                                                                                    \n",
      "mean: [13.41026 14.20513 14.12821 13.33333 13.71795 14.74359 13.15385]\n",
      "stdev: [5.59633 3.60327 3.65976 5.92402 4.00608 4.87652 4.62179]\n",
      "\n",
      "[WT]: 68.1%\n",
      "[mfb1KO]: 94.29%\n",
      "[mmr1KO]: 90.0%\n",
      "[CK666]: 75.71%\n",
      "[LatA-5uM]: 71.43%\n",
      "[dnm1KO]: 100.0%\n",
      "[fzo1KO]: 92.86%\n",
      "    12     0.30552    0.468615   0.809524  \n",
      "EPOCH 13 ---------------------------------------- STEP 49                                                                                                                                                                                    \n",
      "mean: [13.23077 14.07692 14.82051 14.76923 13.25641 13.61538 12.84615]\n",
      "stdev: [5.21075 4.81656 5.12846 3.59816 4.30693 4.40638 4.26397]\n",
      "\n",
      "[WT]: 60.0%\n",
      "[mfb1KO]: 97.14%\n",
      "[mmr1KO]: 87.14%\n",
      "[CK666]: 77.14%\n",
      "[LatA-5uM]: 94.29%\n",
      "[dnm1KO]: 98.57%\n",
      "[fzo1KO]: 98.57%\n",
      "    13     0.271495   0.462722   0.814286  \n",
      "EPOCH 14 ---------------------------------------- STEP 50                                                                                                                                                                                    \n",
      "mean: [13.51282 15.28205 13.5641  14.07692 13.84615 13.28205 13.10256]\n",
      "stdev: [5.05291 4.3083  3.92098 4.31684 4.85977 4.11968 3.80819]\n",
      "\n",
      "[WT]: 69.52%\n",
      "[mfb1KO]: 95.71%\n",
      "[mmr1KO]: 88.57%\n",
      "[CK666]: 65.71%\n",
      "[LatA-5uM]: 82.86%\n",
      "[dnm1KO]: 100.0%\n",
      "[fzo1KO]: 98.57%\n",
      "    14     0.253449   0.410114   0.822222  \n"
     ]
    },
    {
     "name": "stdout",
     "output_type": "stream",
     "text": [
      "EPOCH 15 ---------------------------------------- STEP 51                                                                                                                                                                                    \n",
      "mean: [15.15385 13.25641 14.61538 13.41026 13.94872 12.53846 13.58974]\n",
      "stdev: [5.38058 4.11201 4.83372 4.6998  4.03795 5.56014 5.49927]\n",
      "\n",
      "[WT]: 66.19%\n",
      "[mfb1KO]: 97.14%\n",
      "[mmr1KO]: 84.29%\n",
      "[CK666]: 74.29%\n",
      "[LatA-5uM]: 84.29%\n",
      "[dnm1KO]: 100.0%\n",
      "[fzo1KO]: 97.14%\n",
      "    15     0.248281   0.428436   0.81746   \n",
      "Wall time: 13min 16s\n"
     ]
    },
    {
     "data": {
      "text/plain": [
       "[array([0.42844]), 0.8174603150004432]"
      ]
     },
     "execution_count": 33,
     "metadata": {},
     "output_type": "execute_result"
    }
   ],
   "source": [
    "%time learn.fit(5e-4, 2, cycle_len=8, wds=wd, use_wd_sched=True)"
   ]
  },
  {
   "cell_type": "code",
   "execution_count": 38,
   "metadata": {
    "scrolled": false
   },
   "outputs": [
    {
     "data": {
      "image/png": "[encoded data removed]",
      "text/plain": [
       "<Figure size 864x288 with 2 Axes>"
      ]
     },
     "metadata": {},
     "output_type": "display_data"
    }
   ],
   "source": [
    "learn.sched.plot_lr()"
   ]
  },
  {
   "cell_type": "markdown",
   "metadata": {},
   "source": [
    "#### Run some more cylces - error & accuracy should continuously improve\n",
    "\n",
    "Note: cycle len = number of epochs per cycle"
   ]
  },
  {
   "cell_type": "code",
   "execution_count": 37,
   "metadata": {
    "scrolled": true
   },
   "outputs": [
    {
     "data": {
      "application/vnd.jupyter.widget-view+json": {
       "model_id": "a9cc5f366a98479b86ba832e698527ce",
       "version_major": 2,
       "version_minor": 0
      },
      "text/plain": [
       "HBox(children=(IntProgress(value=0, description='Epoch', max=16), HTML(value='')))"
      ]
     },
     "metadata": {},
     "output_type": "display_data"
    },
    {
     "name": "stdout",
     "output_type": "stream",
     "text": [
      "EPOCH 0 ---------------------------------------- STEP 68                                                                                                                                                                                     \n",
      "mean: [14.58974 14.25641 13.28205 13.10256 14.30769 13.87179 13.30769]\n",
      "stdev: [4.24094 5.0976  4.99717 5.16296 5.32124 4.01395 4.63074]\n",
      "\n",
      "[WT]: 70.48%\n",
      "[mfb1KO]: 97.14%\n",
      "[mmr1KO]: 85.71%\n",
      "[CK666]: 70.0%\n",
      "[LatA-5uM]: 87.14%\n",
      "[dnm1KO]: 98.57%\n",
      "[fzo1KO]: 98.57%\n",
      "epoch      trn_loss   val_loss   accuracy   \n",
      "    0      0.202535   0.398796   0.831746  \n",
      "EPOCH 1 ---------------------------------------- STEP 69                                                                                                                                                                                     \n",
      "mean: [12.82051 14.4359  13.89744 13.53846 13.74359 14.53846 13.74359]\n",
      "stdev: [4.22369 5.24182 4.41904 4.36093 4.62833 4.02458 4.3484 ]\n",
      "\n",
      "[WT]: 72.86%\n",
      "[mfb1KO]: 97.14%\n",
      "[mmr1KO]: 85.71%\n",
      "[CK666]: 65.71%\n",
      "[LatA-5uM]: 88.57%\n",
      "[dnm1KO]: 98.57%\n",
      "[fzo1KO]: 98.57%\n",
      "    1      0.18943    0.384971   0.836508  \n",
      "EPOCH 2 ---------------------------------------- STEP 70                                                                                                                                                                                     \n",
      "mean: [14.05128 13.4359  14.15385 13.48718 13.38462 14.74359 13.33333]\n",
      "stdev: [4.71739 4.20497 5.54024 4.61809 4.47566 4.82896 4.72491]\n",
      "\n",
      "[WT]: 68.1%\n",
      "[mfb1KO]: 97.14%\n",
      "[mmr1KO]: 85.71%\n",
      "[CK666]: 70.0%\n",
      "[LatA-5uM]: 90.0%\n",
      "[dnm1KO]: 100.0%\n",
      "[fzo1KO]: 98.57%\n",
      "    2      0.193432   0.406966   0.828571  \n",
      "EPOCH 3 ---------------------------------------- STEP 71                                                                                                                                                                                     \n",
      "mean: [13.12821 13.92308 13.51282 13.28205 14.48718 14.97436 13.23077]\n",
      "stdev: [3.89727 4.26906 4.05647 5.12384 3.41093 4.88581 4.46905]\n",
      "\n",
      "[WT]: 69.52%\n",
      "[mfb1KO]: 97.14%\n",
      "[mmr1KO]: 84.29%\n",
      "[CK666]: 70.0%\n",
      "[LatA-5uM]: 90.0%\n",
      "[dnm1KO]: 97.14%\n",
      "[fzo1KO]: 98.57%\n",
      "    3      0.185052   0.405544   0.828571  \n",
      "EPOCH 4 ---------------------------------------- STEP 72                                                                                                                                                                                     \n",
      "mean: [14.38462 13.51282 12.92308 14.5641  13.17949 13.41026 14.87179]\n",
      "stdev: [4.44116 4.88258 4.42826 5.90868 3.3195  4.0555  5.05447]\n",
      "\n",
      "[WT]: 70.0%\n",
      "[mfb1KO]: 98.57%\n",
      "[mmr1KO]: 84.29%\n",
      "[CK666]: 68.57%\n",
      "[LatA-5uM]: 90.0%\n",
      "[dnm1KO]: 98.57%\n",
      "[fzo1KO]: 98.57%\n",
      "    4      0.193547   0.414868   0.831746  \n",
      "EPOCH 5 ---------------------------------------- STEP 73                                                                                                                                                                                     \n",
      "mean: [15.28205 13.33333 15.25641 15.28205 11.97436 12.74359 12.69231]\n",
      "stdev: [5.0023  5.78829 5.60548 5.39681 4.28765 4.31288 4.53564]\n",
      "\n",
      "[WT]: 68.1%\n",
      "[mfb1KO]: 97.14%\n",
      "[mmr1KO]: 84.29%\n",
      "[CK666]: 70.0%\n",
      "[LatA-5uM]: 92.86%\n",
      "[dnm1KO]: 98.57%\n",
      "[fzo1KO]: 98.57%\n",
      "    5      0.194742   0.419495   0.828571  \n",
      "EPOCH 6 ---------------------------------------- STEP 74                                                                                                                                                                                     \n",
      "mean: [12.82051 13.41026 13.66667 13.79487 15.61538 13.66667 13.64103]\n",
      "stdev: [3.69942 4.55011 5.34614 4.20732 4.46993 4.12207 3.42305]\n",
      "\n",
      "[WT]: 69.52%\n",
      "[mfb1KO]: 97.14%\n",
      "[mmr1KO]: 85.71%\n",
      "[CK666]: 71.43%\n",
      "[LatA-5uM]: 90.0%\n",
      "[dnm1KO]: 98.57%\n",
      "[fzo1KO]: 98.57%\n",
      "    6      0.182014   0.399719   0.833333  \n",
      "EPOCH 7 ---------------------------------------- STEP 75                                                                                                                                                                                     \n",
      "mean: [14.05128 14.41026 12.94872 13.53846 13.87179 13.64103 14.17949]\n",
      "stdev: [5.45353 4.44752 4.54013 4.03095 4.24976 6.85935 4.19934]\n",
      "\n",
      "[WT]: 71.9%\n",
      "[mfb1KO]: 97.14%\n",
      "[mmr1KO]: 84.29%\n",
      "[CK666]: 71.43%\n",
      "[LatA-5uM]: 85.71%\n",
      "[dnm1KO]: 98.57%\n",
      "[fzo1KO]: 98.57%\n",
      "    7      0.192943   0.399651   0.834921  \n",
      "EPOCH 8 ---------------------------------------- STEP 76                                                                                                                                                                                     \n",
      "mean: [13.97436 12.76923 13.66667 14.38462 14.38462 13.41026 14.     ]\n",
      "stdev: [3.33964 5.26946 4.37553 5.99836 4.64435 4.45328 3.3665 ]\n",
      "\n",
      "[WT]: 70.48%\n",
      "[mfb1KO]: 97.14%\n",
      "[mmr1KO]: 85.71%\n",
      "[CK666]: 71.43%\n",
      "[LatA-5uM]: 85.71%\n",
      "[dnm1KO]: 100.0%\n",
      "[fzo1KO]: 98.57%\n",
      "    8      0.196245   0.403016   0.833333  \n",
      "EPOCH 9 ---------------------------------------- STEP 77                                                                                                                                                                                     \n",
      "mean: [14.97436 13.69231 12.64103 13.48718 13.87179 13.82051 14.25641]\n",
      "stdev: [4.79576 3.74271 4.742   4.75487 4.53578 5.01215 5.7187 ]\n",
      "\n",
      "[WT]: 70.48%\n",
      "[mfb1KO]: 97.14%\n",
      "[mmr1KO]: 82.86%\n",
      "[CK666]: 71.43%\n",
      "[LatA-5uM]: 88.57%\n",
      "[dnm1KO]: 98.57%\n",
      "[fzo1KO]: 98.57%\n",
      "    9      0.184881   0.399591   0.831746  \n",
      "EPOCH 10 ---------------------------------------- STEP 78                                                                                                                                                                                    \n",
      "mean: [13.97436 13.64103 13.4359  13.76923 14.12821 14.4359  13.35897]\n",
      "stdev: [3.45289 4.38814 4.09374 4.4287  3.9235  4.02425 4.14164]\n",
      "\n",
      "[WT]: 69.05%\n",
      "[mfb1KO]: 97.14%\n",
      "[mmr1KO]: 85.71%\n",
      "[CK666]: 70.0%\n",
      "[LatA-5uM]: 90.0%\n",
      "[dnm1KO]: 100.0%\n",
      "[fzo1KO]: 98.57%\n",
      "    10     0.1821     0.397367   0.831746  \n",
      "EPOCH 11 ---------------------------------------- STEP 79                                                                                                                                                                                    \n",
      "mean: [13.51282 13.64103 13.92308 13.35897 14.25641 14.02564 13.89744]\n",
      "stdev: [5.00191 4.80644 5.37985 4.44619 3.4546  4.45771 4.80809]\n",
      "\n",
      "[WT]: 70.0%\n",
      "[mfb1KO]: 97.14%\n",
      "[mmr1KO]: 82.86%\n",
      "[CK666]: 71.43%\n",
      "[LatA-5uM]: 91.43%\n",
      "[dnm1KO]: 98.57%\n",
      "[fzo1KO]: 98.57%\n",
      "    11     0.183954   0.405045   0.833333  \n",
      "EPOCH 12 ---------------------------------------- STEP 80                                                                                                                                                                                    \n",
      "mean: [13.97436 14.20513 14.76923 13.5641  13.33333 12.61538 13.97436]\n",
      "stdev: [4.57691 4.25579 5.38022 5.25647 4.65383 4.45269 3.30103]\n",
      "\n",
      "[WT]: 70.48%\n",
      "[mfb1KO]: 97.14%\n",
      "[mmr1KO]: 84.29%\n",
      "[CK666]: 70.0%\n",
      "[LatA-5uM]: 88.57%\n",
      "[dnm1KO]: 100.0%\n",
      "[fzo1KO]: 98.57%\n",
      "    12     0.176934   0.401469   0.833333  \n",
      "EPOCH 13 ---------------------------------------- STEP 81                                                                                                                                                                                    \n",
      "mean: [13.74359 13.92308 12.30769 13.82051 14.      13.74359 15.12821]\n",
      "stdev: [4.9184  5.09592 4.28566 4.69518 4.24264 3.46201 5.41688]\n",
      "\n",
      "[WT]: 71.43%\n",
      "[mfb1KO]: 97.14%\n",
      "[mmr1KO]: 82.86%\n",
      "[CK666]: 70.0%\n",
      "[LatA-5uM]: 91.43%\n",
      "[dnm1KO]: 98.57%\n",
      "[fzo1KO]: 98.57%\n",
      "    13     0.175429   0.398947   0.836508  \n",
      "EPOCH 14 ---------------------------------------- STEP 82                                                                                                                                                                                    \n",
      "mean: [14.28205 14.4359  12.82051 13.76923 13.61538 14.69231 13.20513]\n",
      "stdev: [4.82488 4.88218 4.30189 5.58139 3.99753 8.34866 5.21428]\n",
      "\n",
      "[WT]: 69.52%\n",
      "[mfb1KO]: 98.57%\n",
      "[mmr1KO]: 85.71%\n",
      "[CK666]: 70.0%\n",
      "[LatA-5uM]: 88.57%\n",
      "[dnm1KO]: 97.14%\n",
      "[fzo1KO]: 98.57%\n",
      "    14     0.191755   0.403822   0.830159  \n"
     ]
    },
    {
     "name": "stdout",
     "output_type": "stream",
     "text": [
      "EPOCH 15 ---------------------------------------- STEP 83                                                                                                                                                                                    \n",
      "mean: [14.12821 12.53846 13.53846 14.07692 13.07692 15.23077 14.05128]\n",
      "stdev: [4.24373 4.27183 4.55646 4.0849  4.80056 4.04755 4.59626]\n",
      "\n",
      "[WT]: 68.1%\n",
      "[mfb1KO]: 97.14%\n",
      "[mmr1KO]: 85.71%\n",
      "[CK666]: 72.86%\n",
      "[LatA-5uM]: 91.43%\n",
      "[dnm1KO]: 100.0%\n",
      "[fzo1KO]: 98.57%\n",
      "    15     0.189202   0.416811   0.833333  \n",
      "Wall time: 11min 35s\n"
     ]
    },
    {
     "data": {
      "text/plain": [
       "[array([0.41681]), 0.83333333276567]"
      ]
     },
     "execution_count": 37,
     "metadata": {},
     "output_type": "execute_result"
    }
   ],
   "source": [
    "%time learn.fit(1e-5, 2, cycle_len=8, wds=wd, use_wd_sched=True, use_clr=(20,8, 0.95, 0.85))"
   ]
  },
  {
   "cell_type": "code",
   "execution_count": null,
   "metadata": {
    "scrolled": true
   },
   "outputs": [],
   "source": [
    "%time learn.fit(5e-5, 1, cycle_len=8, wds=wd, use_wd_sched=True, use_clr=(20,8, 0.95, 0.85))"
   ]
  },
  {
   "cell_type": "code",
   "execution_count": null,
   "metadata": {
    "scrolled": true
   },
   "outputs": [],
   "source": [
    "%time learn.fit(5e-7, 1, cycle_len=4, wds=wd, use_wd_sched=True, use_clr=(20,8, 0.95, 0.85))"
   ]
  },
  {
   "cell_type": "code",
   "execution_count": 60,
   "metadata": {},
   "outputs": [
    {
     "name": "stdout",
     "output_type": "stream",
     "text": [
      "{'02_WT': [0, 0, 'WT'], '02_mfb1KO': [1, 1, 'mfb1KO'], '02_mmr1KO': [2, 2, 'mmr1KO'], '03_CK666': [3, 3, 'CK666'], '03_LatA-5uM': [4, 4, 'LatA-5uM'], '03_WT': [5, 0, 'WT'], '03_dnm1KO': [6, 5, 'dnm1KO'], '03_fzo1KO': [7, 6, 'fzo1KO'], '04_WT': [8, 0, 'WT']}\n"
     ]
    }
   ],
   "source": [
    "print(lbl2idx)"
   ]
  },
  {
   "cell_type": "code",
   "execution_count": 59,
   "metadata": {},
   "outputs": [
    {
     "data": {
      "text/plain": [
       "OrderedDict([('Conv2d-1',\n",
       "              OrderedDict([('input_shape', [-1, 2, 224, 224]),\n",
       "                           ('output_shape', [-1, 64, 112, 112]),\n",
       "                           ('trainable', False),\n",
       "                           ('nb_params', 6272)])),\n",
       "             ('BatchNorm2d-2',\n",
       "              OrderedDict([('input_shape', [-1, 64, 112, 112]),\n",
       "                           ('output_shape', [-1, 64, 112, 112]),\n",
       "                           ('trainable', False),\n",
       "                           ('nb_params', 128)])),\n",
       "             ('ReLU-3',\n",
       "              OrderedDict([('input_shape', [-1, 64, 112, 112]),\n",
       "                           ('output_shape', [-1, 64, 112, 112]),\n",
       "                           ('nb_params', 0)])),\n",
       "             ('MaxPool2d-4',\n",
       "              OrderedDict([('input_shape', [-1, 64, 112, 112]),\n",
       "                           ('output_shape', [-1, 64, 56, 56]),\n",
       "                           ('nb_params', 0)])),\n",
       "             ('Conv2d-5',\n",
       "              OrderedDict([('input_shape', [-1, 64, 56, 56]),\n",
       "                           ('output_shape', [-1, 64, 56, 56]),\n",
       "                           ('trainable', False),\n",
       "                           ('nb_params', 36864)])),\n",
       "             ('BatchNorm2d-6',\n",
       "              OrderedDict([('input_shape', [-1, 64, 56, 56]),\n",
       "                           ('output_shape', [-1, 64, 56, 56]),\n",
       "                           ('trainable', False),\n",
       "                           ('nb_params', 128)])),\n",
       "             ('ReLU-7',\n",
       "              OrderedDict([('input_shape', [-1, 64, 56, 56]),\n",
       "                           ('output_shape', [-1, 64, 56, 56]),\n",
       "                           ('nb_params', 0)])),\n",
       "             ('Conv2d-8',\n",
       "              OrderedDict([('input_shape', [-1, 64, 56, 56]),\n",
       "                           ('output_shape', [-1, 64, 56, 56]),\n",
       "                           ('trainable', False),\n",
       "                           ('nb_params', 36864)])),\n",
       "             ('BatchNorm2d-9',\n",
       "              OrderedDict([('input_shape', [-1, 64, 56, 56]),\n",
       "                           ('output_shape', [-1, 64, 56, 56]),\n",
       "                           ('trainable', False),\n",
       "                           ('nb_params', 128)])),\n",
       "             ('ReLU-10',\n",
       "              OrderedDict([('input_shape', [-1, 64, 56, 56]),\n",
       "                           ('output_shape', [-1, 64, 56, 56]),\n",
       "                           ('nb_params', 0)])),\n",
       "             ('BasicBlock-11',\n",
       "              OrderedDict([('input_shape', [-1, 64, 56, 56]),\n",
       "                           ('output_shape', [-1, 64, 56, 56]),\n",
       "                           ('nb_params', 0)])),\n",
       "             ('Conv2d-12',\n",
       "              OrderedDict([('input_shape', [-1, 64, 56, 56]),\n",
       "                           ('output_shape', [-1, 64, 56, 56]),\n",
       "                           ('trainable', False),\n",
       "                           ('nb_params', 36864)])),\n",
       "             ('BatchNorm2d-13',\n",
       "              OrderedDict([('input_shape', [-1, 64, 56, 56]),\n",
       "                           ('output_shape', [-1, 64, 56, 56]),\n",
       "                           ('trainable', False),\n",
       "                           ('nb_params', 128)])),\n",
       "             ('ReLU-14',\n",
       "              OrderedDict([('input_shape', [-1, 64, 56, 56]),\n",
       "                           ('output_shape', [-1, 64, 56, 56]),\n",
       "                           ('nb_params', 0)])),\n",
       "             ('Conv2d-15',\n",
       "              OrderedDict([('input_shape', [-1, 64, 56, 56]),\n",
       "                           ('output_shape', [-1, 64, 56, 56]),\n",
       "                           ('trainable', False),\n",
       "                           ('nb_params', 36864)])),\n",
       "             ('BatchNorm2d-16',\n",
       "              OrderedDict([('input_shape', [-1, 64, 56, 56]),\n",
       "                           ('output_shape', [-1, 64, 56, 56]),\n",
       "                           ('trainable', False),\n",
       "                           ('nb_params', 128)])),\n",
       "             ('ReLU-17',\n",
       "              OrderedDict([('input_shape', [-1, 64, 56, 56]),\n",
       "                           ('output_shape', [-1, 64, 56, 56]),\n",
       "                           ('nb_params', 0)])),\n",
       "             ('BasicBlock-18',\n",
       "              OrderedDict([('input_shape', [-1, 64, 56, 56]),\n",
       "                           ('output_shape', [-1, 64, 56, 56]),\n",
       "                           ('nb_params', 0)])),\n",
       "             ('Conv2d-19',\n",
       "              OrderedDict([('input_shape', [-1, 64, 56, 56]),\n",
       "                           ('output_shape', [-1, 64, 56, 56]),\n",
       "                           ('trainable', False),\n",
       "                           ('nb_params', 36864)])),\n",
       "             ('BatchNorm2d-20',\n",
       "              OrderedDict([('input_shape', [-1, 64, 56, 56]),\n",
       "                           ('output_shape', [-1, 64, 56, 56]),\n",
       "                           ('trainable', False),\n",
       "                           ('nb_params', 128)])),\n",
       "             ('ReLU-21',\n",
       "              OrderedDict([('input_shape', [-1, 64, 56, 56]),\n",
       "                           ('output_shape', [-1, 64, 56, 56]),\n",
       "                           ('nb_params', 0)])),\n",
       "             ('Conv2d-22',\n",
       "              OrderedDict([('input_shape', [-1, 64, 56, 56]),\n",
       "                           ('output_shape', [-1, 64, 56, 56]),\n",
       "                           ('trainable', False),\n",
       "                           ('nb_params', 36864)])),\n",
       "             ('BatchNorm2d-23',\n",
       "              OrderedDict([('input_shape', [-1, 64, 56, 56]),\n",
       "                           ('output_shape', [-1, 64, 56, 56]),\n",
       "                           ('trainable', False),\n",
       "                           ('nb_params', 128)])),\n",
       "             ('ReLU-24',\n",
       "              OrderedDict([('input_shape', [-1, 64, 56, 56]),\n",
       "                           ('output_shape', [-1, 64, 56, 56]),\n",
       "                           ('nb_params', 0)])),\n",
       "             ('BasicBlock-25',\n",
       "              OrderedDict([('input_shape', [-1, 64, 56, 56]),\n",
       "                           ('output_shape', [-1, 64, 56, 56]),\n",
       "                           ('nb_params', 0)])),\n",
       "             ('Conv2d-26',\n",
       "              OrderedDict([('input_shape', [-1, 64, 56, 56]),\n",
       "                           ('output_shape', [-1, 128, 28, 28]),\n",
       "                           ('trainable', False),\n",
       "                           ('nb_params', 73728)])),\n",
       "             ('BatchNorm2d-27',\n",
       "              OrderedDict([('input_shape', [-1, 128, 28, 28]),\n",
       "                           ('output_shape', [-1, 128, 28, 28]),\n",
       "                           ('trainable', False),\n",
       "                           ('nb_params', 256)])),\n",
       "             ('ReLU-28',\n",
       "              OrderedDict([('input_shape', [-1, 128, 28, 28]),\n",
       "                           ('output_shape', [-1, 128, 28, 28]),\n",
       "                           ('nb_params', 0)])),\n",
       "             ('Conv2d-29',\n",
       "              OrderedDict([('input_shape', [-1, 128, 28, 28]),\n",
       "                           ('output_shape', [-1, 128, 28, 28]),\n",
       "                           ('trainable', False),\n",
       "                           ('nb_params', 147456)])),\n",
       "             ('BatchNorm2d-30',\n",
       "              OrderedDict([('input_shape', [-1, 128, 28, 28]),\n",
       "                           ('output_shape', [-1, 128, 28, 28]),\n",
       "                           ('trainable', False),\n",
       "                           ('nb_params', 256)])),\n",
       "             ('Conv2d-31',\n",
       "              OrderedDict([('input_shape', [-1, 64, 56, 56]),\n",
       "                           ('output_shape', [-1, 128, 28, 28]),\n",
       "                           ('trainable', False),\n",
       "                           ('nb_params', 8192)])),\n",
       "             ('BatchNorm2d-32',\n",
       "              OrderedDict([('input_shape', [-1, 128, 28, 28]),\n",
       "                           ('output_shape', [-1, 128, 28, 28]),\n",
       "                           ('trainable', False),\n",
       "                           ('nb_params', 256)])),\n",
       "             ('ReLU-33',\n",
       "              OrderedDict([('input_shape', [-1, 128, 28, 28]),\n",
       "                           ('output_shape', [-1, 128, 28, 28]),\n",
       "                           ('nb_params', 0)])),\n",
       "             ('BasicBlock-34',\n",
       "              OrderedDict([('input_shape', [-1, 64, 56, 56]),\n",
       "                           ('output_shape', [-1, 128, 28, 28]),\n",
       "                           ('nb_params', 0)])),\n",
       "             ('Conv2d-35',\n",
       "              OrderedDict([('input_shape', [-1, 128, 28, 28]),\n",
       "                           ('output_shape', [-1, 128, 28, 28]),\n",
       "                           ('trainable', False),\n",
       "                           ('nb_params', 147456)])),\n",
       "             ('BatchNorm2d-36',\n",
       "              OrderedDict([('input_shape', [-1, 128, 28, 28]),\n",
       "                           ('output_shape', [-1, 128, 28, 28]),\n",
       "                           ('trainable', False),\n",
       "                           ('nb_params', 256)])),\n",
       "             ('ReLU-37',\n",
       "              OrderedDict([('input_shape', [-1, 128, 28, 28]),\n",
       "                           ('output_shape', [-1, 128, 28, 28]),\n",
       "                           ('nb_params', 0)])),\n",
       "             ('Conv2d-38',\n",
       "              OrderedDict([('input_shape', [-1, 128, 28, 28]),\n",
       "                           ('output_shape', [-1, 128, 28, 28]),\n",
       "                           ('trainable', False),\n",
       "                           ('nb_params', 147456)])),\n",
       "             ('BatchNorm2d-39',\n",
       "              OrderedDict([('input_shape', [-1, 128, 28, 28]),\n",
       "                           ('output_shape', [-1, 128, 28, 28]),\n",
       "                           ('trainable', False),\n",
       "                           ('nb_params', 256)])),\n",
       "             ('ReLU-40',\n",
       "              OrderedDict([('input_shape', [-1, 128, 28, 28]),\n",
       "                           ('output_shape', [-1, 128, 28, 28]),\n",
       "                           ('nb_params', 0)])),\n",
       "             ('BasicBlock-41',\n",
       "              OrderedDict([('input_shape', [-1, 128, 28, 28]),\n",
       "                           ('output_shape', [-1, 128, 28, 28]),\n",
       "                           ('nb_params', 0)])),\n",
       "             ('Conv2d-42',\n",
       "              OrderedDict([('input_shape', [-1, 128, 28, 28]),\n",
       "                           ('output_shape', [-1, 128, 28, 28]),\n",
       "                           ('trainable', False),\n",
       "                           ('nb_params', 147456)])),\n",
       "             ('BatchNorm2d-43',\n",
       "              OrderedDict([('input_shape', [-1, 128, 28, 28]),\n",
       "                           ('output_shape', [-1, 128, 28, 28]),\n",
       "                           ('trainable', False),\n",
       "                           ('nb_params', 256)])),\n",
       "             ('ReLU-44',\n",
       "              OrderedDict([('input_shape', [-1, 128, 28, 28]),\n",
       "                           ('output_shape', [-1, 128, 28, 28]),\n",
       "                           ('nb_params', 0)])),\n",
       "             ('Conv2d-45',\n",
       "              OrderedDict([('input_shape', [-1, 128, 28, 28]),\n",
       "                           ('output_shape', [-1, 128, 28, 28]),\n",
       "                           ('trainable', False),\n",
       "                           ('nb_params', 147456)])),\n",
       "             ('BatchNorm2d-46',\n",
       "              OrderedDict([('input_shape', [-1, 128, 28, 28]),\n",
       "                           ('output_shape', [-1, 128, 28, 28]),\n",
       "                           ('trainable', False),\n",
       "                           ('nb_params', 256)])),\n",
       "             ('ReLU-47',\n",
       "              OrderedDict([('input_shape', [-1, 128, 28, 28]),\n",
       "                           ('output_shape', [-1, 128, 28, 28]),\n",
       "                           ('nb_params', 0)])),\n",
       "             ('BasicBlock-48',\n",
       "              OrderedDict([('input_shape', [-1, 128, 28, 28]),\n",
       "                           ('output_shape', [-1, 128, 28, 28]),\n",
       "                           ('nb_params', 0)])),\n",
       "             ('Conv2d-49',\n",
       "              OrderedDict([('input_shape', [-1, 128, 28, 28]),\n",
       "                           ('output_shape', [-1, 128, 28, 28]),\n",
       "                           ('trainable', False),\n",
       "                           ('nb_params', 147456)])),\n",
       "             ('BatchNorm2d-50',\n",
       "              OrderedDict([('input_shape', [-1, 128, 28, 28]),\n",
       "                           ('output_shape', [-1, 128, 28, 28]),\n",
       "                           ('trainable', False),\n",
       "                           ('nb_params', 256)])),\n",
       "             ('ReLU-51',\n",
       "              OrderedDict([('input_shape', [-1, 128, 28, 28]),\n",
       "                           ('output_shape', [-1, 128, 28, 28]),\n",
       "                           ('nb_params', 0)])),\n",
       "             ('Conv2d-52',\n",
       "              OrderedDict([('input_shape', [-1, 128, 28, 28]),\n",
       "                           ('output_shape', [-1, 128, 28, 28]),\n",
       "                           ('trainable', False),\n",
       "                           ('nb_params', 147456)])),\n",
       "             ('BatchNorm2d-53',\n",
       "              OrderedDict([('input_shape', [-1, 128, 28, 28]),\n",
       "                           ('output_shape', [-1, 128, 28, 28]),\n",
       "                           ('trainable', False),\n",
       "                           ('nb_params', 256)])),\n",
       "             ('ReLU-54',\n",
       "              OrderedDict([('input_shape', [-1, 128, 28, 28]),\n",
       "                           ('output_shape', [-1, 128, 28, 28]),\n",
       "                           ('nb_params', 0)])),\n",
       "             ('BasicBlock-55',\n",
       "              OrderedDict([('input_shape', [-1, 128, 28, 28]),\n",
       "                           ('output_shape', [-1, 128, 28, 28]),\n",
       "                           ('nb_params', 0)])),\n",
       "             ('Conv2d-56',\n",
       "              OrderedDict([('input_shape', [-1, 128, 28, 28]),\n",
       "                           ('output_shape', [-1, 256, 14, 14]),\n",
       "                           ('trainable', False),\n",
       "                           ('nb_params', 294912)])),\n",
       "             ('BatchNorm2d-57',\n",
       "              OrderedDict([('input_shape', [-1, 256, 14, 14]),\n",
       "                           ('output_shape', [-1, 256, 14, 14]),\n",
       "                           ('trainable', False),\n",
       "                           ('nb_params', 512)])),\n",
       "             ('ReLU-58',\n",
       "              OrderedDict([('input_shape', [-1, 256, 14, 14]),\n",
       "                           ('output_shape', [-1, 256, 14, 14]),\n",
       "                           ('nb_params', 0)])),\n",
       "             ('Conv2d-59',\n",
       "              OrderedDict([('input_shape', [-1, 256, 14, 14]),\n",
       "                           ('output_shape', [-1, 256, 14, 14]),\n",
       "                           ('trainable', False),\n",
       "                           ('nb_params', 589824)])),\n",
       "             ('BatchNorm2d-60',\n",
       "              OrderedDict([('input_shape', [-1, 256, 14, 14]),\n",
       "                           ('output_shape', [-1, 256, 14, 14]),\n",
       "                           ('trainable', False),\n",
       "                           ('nb_params', 512)])),\n",
       "             ('Conv2d-61',\n",
       "              OrderedDict([('input_shape', [-1, 128, 28, 28]),\n",
       "                           ('output_shape', [-1, 256, 14, 14]),\n",
       "                           ('trainable', False),\n",
       "                           ('nb_params', 32768)])),\n",
       "             ('BatchNorm2d-62',\n",
       "              OrderedDict([('input_shape', [-1, 256, 14, 14]),\n",
       "                           ('output_shape', [-1, 256, 14, 14]),\n",
       "                           ('trainable', False),\n",
       "                           ('nb_params', 512)])),\n",
       "             ('ReLU-63',\n",
       "              OrderedDict([('input_shape', [-1, 256, 14, 14]),\n",
       "                           ('output_shape', [-1, 256, 14, 14]),\n",
       "                           ('nb_params', 0)])),\n",
       "             ('BasicBlock-64',\n",
       "              OrderedDict([('input_shape', [-1, 128, 28, 28]),\n",
       "                           ('output_shape', [-1, 256, 14, 14]),\n",
       "                           ('nb_params', 0)])),\n",
       "             ('Conv2d-65',\n",
       "              OrderedDict([('input_shape', [-1, 256, 14, 14]),\n",
       "                           ('output_shape', [-1, 256, 14, 14]),\n",
       "                           ('trainable', False),\n",
       "                           ('nb_params', 589824)])),\n",
       "             ('BatchNorm2d-66',\n",
       "              OrderedDict([('input_shape', [-1, 256, 14, 14]),\n",
       "                           ('output_shape', [-1, 256, 14, 14]),\n",
       "                           ('trainable', False),\n",
       "                           ('nb_params', 512)])),\n",
       "             ('ReLU-67',\n",
       "              OrderedDict([('input_shape', [-1, 256, 14, 14]),\n",
       "                           ('output_shape', [-1, 256, 14, 14]),\n",
       "                           ('nb_params', 0)])),\n",
       "             ('Conv2d-68',\n",
       "              OrderedDict([('input_shape', [-1, 256, 14, 14]),\n",
       "                           ('output_shape', [-1, 256, 14, 14]),\n",
       "                           ('trainable', False),\n",
       "                           ('nb_params', 589824)])),\n",
       "             ('BatchNorm2d-69',\n",
       "              OrderedDict([('input_shape', [-1, 256, 14, 14]),\n",
       "                           ('output_shape', [-1, 256, 14, 14]),\n",
       "                           ('trainable', False),\n",
       "                           ('nb_params', 512)])),\n",
       "             ('ReLU-70',\n",
       "              OrderedDict([('input_shape', [-1, 256, 14, 14]),\n",
       "                           ('output_shape', [-1, 256, 14, 14]),\n",
       "                           ('nb_params', 0)])),\n",
       "             ('BasicBlock-71',\n",
       "              OrderedDict([('input_shape', [-1, 256, 14, 14]),\n",
       "                           ('output_shape', [-1, 256, 14, 14]),\n",
       "                           ('nb_params', 0)])),\n",
       "             ('Conv2d-72',\n",
       "              OrderedDict([('input_shape', [-1, 256, 14, 14]),\n",
       "                           ('output_shape', [-1, 256, 14, 14]),\n",
       "                           ('trainable', False),\n",
       "                           ('nb_params', 589824)])),\n",
       "             ('BatchNorm2d-73',\n",
       "              OrderedDict([('input_shape', [-1, 256, 14, 14]),\n",
       "                           ('output_shape', [-1, 256, 14, 14]),\n",
       "                           ('trainable', False),\n",
       "                           ('nb_params', 512)])),\n",
       "             ('ReLU-74',\n",
       "              OrderedDict([('input_shape', [-1, 256, 14, 14]),\n",
       "                           ('output_shape', [-1, 256, 14, 14]),\n",
       "                           ('nb_params', 0)])),\n",
       "             ('Conv2d-75',\n",
       "              OrderedDict([('input_shape', [-1, 256, 14, 14]),\n",
       "                           ('output_shape', [-1, 256, 14, 14]),\n",
       "                           ('trainable', False),\n",
       "                           ('nb_params', 589824)])),\n",
       "             ('BatchNorm2d-76',\n",
       "              OrderedDict([('input_shape', [-1, 256, 14, 14]),\n",
       "                           ('output_shape', [-1, 256, 14, 14]),\n",
       "                           ('trainable', False),\n",
       "                           ('nb_params', 512)])),\n",
       "             ('ReLU-77',\n",
       "              OrderedDict([('input_shape', [-1, 256, 14, 14]),\n",
       "                           ('output_shape', [-1, 256, 14, 14]),\n",
       "                           ('nb_params', 0)])),\n",
       "             ('BasicBlock-78',\n",
       "              OrderedDict([('input_shape', [-1, 256, 14, 14]),\n",
       "                           ('output_shape', [-1, 256, 14, 14]),\n",
       "                           ('nb_params', 0)])),\n",
       "             ('Conv2d-79',\n",
       "              OrderedDict([('input_shape', [-1, 256, 14, 14]),\n",
       "                           ('output_shape', [-1, 256, 14, 14]),\n",
       "                           ('trainable', False),\n",
       "                           ('nb_params', 589824)])),\n",
       "             ('BatchNorm2d-80',\n",
       "              OrderedDict([('input_shape', [-1, 256, 14, 14]),\n",
       "                           ('output_shape', [-1, 256, 14, 14]),\n",
       "                           ('trainable', False),\n",
       "                           ('nb_params', 512)])),\n",
       "             ('ReLU-81',\n",
       "              OrderedDict([('input_shape', [-1, 256, 14, 14]),\n",
       "                           ('output_shape', [-1, 256, 14, 14]),\n",
       "                           ('nb_params', 0)])),\n",
       "             ('Conv2d-82',\n",
       "              OrderedDict([('input_shape', [-1, 256, 14, 14]),\n",
       "                           ('output_shape', [-1, 256, 14, 14]),\n",
       "                           ('trainable', False),\n",
       "                           ('nb_params', 589824)])),\n",
       "             ('BatchNorm2d-83',\n",
       "              OrderedDict([('input_shape', [-1, 256, 14, 14]),\n",
       "                           ('output_shape', [-1, 256, 14, 14]),\n",
       "                           ('trainable', False),\n",
       "                           ('nb_params', 512)])),\n",
       "             ('ReLU-84',\n",
       "              OrderedDict([('input_shape', [-1, 256, 14, 14]),\n",
       "                           ('output_shape', [-1, 256, 14, 14]),\n",
       "                           ('nb_params', 0)])),\n",
       "             ('BasicBlock-85',\n",
       "              OrderedDict([('input_shape', [-1, 256, 14, 14]),\n",
       "                           ('output_shape', [-1, 256, 14, 14]),\n",
       "                           ('nb_params', 0)])),\n",
       "             ('Conv2d-86',\n",
       "              OrderedDict([('input_shape', [-1, 256, 14, 14]),\n",
       "                           ('output_shape', [-1, 256, 14, 14]),\n",
       "                           ('trainable', False),\n",
       "                           ('nb_params', 589824)])),\n",
       "             ('BatchNorm2d-87',\n",
       "              OrderedDict([('input_shape', [-1, 256, 14, 14]),\n",
       "                           ('output_shape', [-1, 256, 14, 14]),\n",
       "                           ('trainable', False),\n",
       "                           ('nb_params', 512)])),\n",
       "             ('ReLU-88',\n",
       "              OrderedDict([('input_shape', [-1, 256, 14, 14]),\n",
       "                           ('output_shape', [-1, 256, 14, 14]),\n",
       "                           ('nb_params', 0)])),\n",
       "             ('Conv2d-89',\n",
       "              OrderedDict([('input_shape', [-1, 256, 14, 14]),\n",
       "                           ('output_shape', [-1, 256, 14, 14]),\n",
       "                           ('trainable', False),\n",
       "                           ('nb_params', 589824)])),\n",
       "             ('BatchNorm2d-90',\n",
       "              OrderedDict([('input_shape', [-1, 256, 14, 14]),\n",
       "                           ('output_shape', [-1, 256, 14, 14]),\n",
       "                           ('trainable', False),\n",
       "                           ('nb_params', 512)])),\n",
       "             ('ReLU-91',\n",
       "              OrderedDict([('input_shape', [-1, 256, 14, 14]),\n",
       "                           ('output_shape', [-1, 256, 14, 14]),\n",
       "                           ('nb_params', 0)])),\n",
       "             ('BasicBlock-92',\n",
       "              OrderedDict([('input_shape', [-1, 256, 14, 14]),\n",
       "                           ('output_shape', [-1, 256, 14, 14]),\n",
       "                           ('nb_params', 0)])),\n",
       "             ('Conv2d-93',\n",
       "              OrderedDict([('input_shape', [-1, 256, 14, 14]),\n",
       "                           ('output_shape', [-1, 256, 14, 14]),\n",
       "                           ('trainable', False),\n",
       "                           ('nb_params', 589824)])),\n",
       "             ('BatchNorm2d-94',\n",
       "              OrderedDict([('input_shape', [-1, 256, 14, 14]),\n",
       "                           ('output_shape', [-1, 256, 14, 14]),\n",
       "                           ('trainable', False),\n",
       "                           ('nb_params', 512)])),\n",
       "             ('ReLU-95',\n",
       "              OrderedDict([('input_shape', [-1, 256, 14, 14]),\n",
       "                           ('output_shape', [-1, 256, 14, 14]),\n",
       "                           ('nb_params', 0)])),\n",
       "             ('Conv2d-96',\n",
       "              OrderedDict([('input_shape', [-1, 256, 14, 14]),\n",
       "                           ('output_shape', [-1, 256, 14, 14]),\n",
       "                           ('trainable', False),\n",
       "                           ('nb_params', 589824)])),\n",
       "             ('BatchNorm2d-97',\n",
       "              OrderedDict([('input_shape', [-1, 256, 14, 14]),\n",
       "                           ('output_shape', [-1, 256, 14, 14]),\n",
       "                           ('trainable', False),\n",
       "                           ('nb_params', 512)])),\n",
       "             ('ReLU-98',\n",
       "              OrderedDict([('input_shape', [-1, 256, 14, 14]),\n",
       "                           ('output_shape', [-1, 256, 14, 14]),\n",
       "                           ('nb_params', 0)])),\n",
       "             ('BasicBlock-99',\n",
       "              OrderedDict([('input_shape', [-1, 256, 14, 14]),\n",
       "                           ('output_shape', [-1, 256, 14, 14]),\n",
       "                           ('nb_params', 0)])),\n",
       "             ('Conv2d-100',\n",
       "              OrderedDict([('input_shape', [-1, 256, 14, 14]),\n",
       "                           ('output_shape', [-1, 512, 7, 7]),\n",
       "                           ('trainable', False),\n",
       "                           ('nb_params', 1179648)])),\n",
       "             ('BatchNorm2d-101',\n",
       "              OrderedDict([('input_shape', [-1, 512, 7, 7]),\n",
       "                           ('output_shape', [-1, 512, 7, 7]),\n",
       "                           ('trainable', False),\n",
       "                           ('nb_params', 1024)])),\n",
       "             ('ReLU-102',\n",
       "              OrderedDict([('input_shape', [-1, 512, 7, 7]),\n",
       "                           ('output_shape', [-1, 512, 7, 7]),\n",
       "                           ('nb_params', 0)])),\n",
       "             ('Conv2d-103',\n",
       "              OrderedDict([('input_shape', [-1, 512, 7, 7]),\n",
       "                           ('output_shape', [-1, 512, 7, 7]),\n",
       "                           ('trainable', False),\n",
       "                           ('nb_params', 2359296)])),\n",
       "             ('BatchNorm2d-104',\n",
       "              OrderedDict([('input_shape', [-1, 512, 7, 7]),\n",
       "                           ('output_shape', [-1, 512, 7, 7]),\n",
       "                           ('trainable', False),\n",
       "                           ('nb_params', 1024)])),\n",
       "             ('Conv2d-105',\n",
       "              OrderedDict([('input_shape', [-1, 256, 14, 14]),\n",
       "                           ('output_shape', [-1, 512, 7, 7]),\n",
       "                           ('trainable', False),\n",
       "                           ('nb_params', 131072)])),\n",
       "             ('BatchNorm2d-106',\n",
       "              OrderedDict([('input_shape', [-1, 512, 7, 7]),\n",
       "                           ('output_shape', [-1, 512, 7, 7]),\n",
       "                           ('trainable', False),\n",
       "                           ('nb_params', 1024)])),\n",
       "             ('ReLU-107',\n",
       "              OrderedDict([('input_shape', [-1, 512, 7, 7]),\n",
       "                           ('output_shape', [-1, 512, 7, 7]),\n",
       "                           ('nb_params', 0)])),\n",
       "             ('BasicBlock-108',\n",
       "              OrderedDict([('input_shape', [-1, 256, 14, 14]),\n",
       "                           ('output_shape', [-1, 512, 7, 7]),\n",
       "                           ('nb_params', 0)])),\n",
       "             ('Conv2d-109',\n",
       "              OrderedDict([('input_shape', [-1, 512, 7, 7]),\n",
       "                           ('output_shape', [-1, 512, 7, 7]),\n",
       "                           ('trainable', False),\n",
       "                           ('nb_params', 2359296)])),\n",
       "             ('BatchNorm2d-110',\n",
       "              OrderedDict([('input_shape', [-1, 512, 7, 7]),\n",
       "                           ('output_shape', [-1, 512, 7, 7]),\n",
       "                           ('trainable', False),\n",
       "                           ('nb_params', 1024)])),\n",
       "             ('ReLU-111',\n",
       "              OrderedDict([('input_shape', [-1, 512, 7, 7]),\n",
       "                           ('output_shape', [-1, 512, 7, 7]),\n",
       "                           ('nb_params', 0)])),\n",
       "             ('Conv2d-112',\n",
       "              OrderedDict([('input_shape', [-1, 512, 7, 7]),\n",
       "                           ('output_shape', [-1, 512, 7, 7]),\n",
       "                           ('trainable', False),\n",
       "                           ('nb_params', 2359296)])),\n",
       "             ('BatchNorm2d-113',\n",
       "              OrderedDict([('input_shape', [-1, 512, 7, 7]),\n",
       "                           ('output_shape', [-1, 512, 7, 7]),\n",
       "                           ('trainable', False),\n",
       "                           ('nb_params', 1024)])),\n",
       "             ('ReLU-114',\n",
       "              OrderedDict([('input_shape', [-1, 512, 7, 7]),\n",
       "                           ('output_shape', [-1, 512, 7, 7]),\n",
       "                           ('nb_params', 0)])),\n",
       "             ('BasicBlock-115',\n",
       "              OrderedDict([('input_shape', [-1, 512, 7, 7]),\n",
       "                           ('output_shape', [-1, 512, 7, 7]),\n",
       "                           ('nb_params', 0)])),\n",
       "             ('Conv2d-116',\n",
       "              OrderedDict([('input_shape', [-1, 512, 7, 7]),\n",
       "                           ('output_shape', [-1, 512, 7, 7]),\n",
       "                           ('trainable', False),\n",
       "                           ('nb_params', 2359296)])),\n",
       "             ('BatchNorm2d-117',\n",
       "              OrderedDict([('input_shape', [-1, 512, 7, 7]),\n",
       "                           ('output_shape', [-1, 512, 7, 7]),\n",
       "                           ('trainable', False),\n",
       "                           ('nb_params', 1024)])),\n",
       "             ('ReLU-118',\n",
       "              OrderedDict([('input_shape', [-1, 512, 7, 7]),\n",
       "                           ('output_shape', [-1, 512, 7, 7]),\n",
       "                           ('nb_params', 0)])),\n",
       "             ('Conv2d-119',\n",
       "              OrderedDict([('input_shape', [-1, 512, 7, 7]),\n",
       "                           ('output_shape', [-1, 512, 7, 7]),\n",
       "                           ('trainable', False),\n",
       "                           ('nb_params', 2359296)])),\n",
       "             ('BatchNorm2d-120',\n",
       "              OrderedDict([('input_shape', [-1, 512, 7, 7]),\n",
       "                           ('output_shape', [-1, 512, 7, 7]),\n",
       "                           ('trainable', False),\n",
       "                           ('nb_params', 1024)])),\n",
       "             ('ReLU-121',\n",
       "              OrderedDict([('input_shape', [-1, 512, 7, 7]),\n",
       "                           ('output_shape', [-1, 512, 7, 7]),\n",
       "                           ('nb_params', 0)])),\n",
       "             ('BasicBlock-122',\n",
       "              OrderedDict([('input_shape', [-1, 512, 7, 7]),\n",
       "                           ('output_shape', [-1, 512, 7, 7]),\n",
       "                           ('nb_params', 0)])),\n",
       "             ('AdaptiveMaxPool2d-123',\n",
       "              OrderedDict([('input_shape', [-1, 512, 7, 7]),\n",
       "                           ('output_shape', [-1, 512, 1, 1]),\n",
       "                           ('nb_params', 0)])),\n",
       "             ('AdaptiveAvgPool2d-124',\n",
       "              OrderedDict([('input_shape', [-1, 512, 7, 7]),\n",
       "                           ('output_shape', [-1, 512, 1, 1]),\n",
       "                           ('nb_params', 0)])),\n",
       "             ('AdaptiveConcatPool2d-125',\n",
       "              OrderedDict([('input_shape', [-1, 512, 7, 7]),\n",
       "                           ('output_shape', [-1, 1024, 1, 1]),\n",
       "                           ('nb_params', 0)])),\n",
       "             ('Flatten-126',\n",
       "              OrderedDict([('input_shape', [-1, 1024, 1, 1]),\n",
       "                           ('output_shape', [-1, 1024]),\n",
       "                           ('nb_params', 0)])),\n",
       "             ('BatchNorm1d-127',\n",
       "              OrderedDict([('input_shape', [-1, 1024]),\n",
       "                           ('output_shape', [-1, 1024]),\n",
       "                           ('trainable', True),\n",
       "                           ('nb_params', 2048)])),\n",
       "             ('Dropout-128',\n",
       "              OrderedDict([('input_shape', [-1, 1024]),\n",
       "                           ('output_shape', [-1, 1024]),\n",
       "                           ('nb_params', 0)])),\n",
       "             ('Linear-129',\n",
       "              OrderedDict([('input_shape', [-1, 1024]),\n",
       "                           ('output_shape', [-1, 512]),\n",
       "                           ('trainable', True),\n",
       "                           ('nb_params', 524800)])),\n",
       "             ('ReLU-130',\n",
       "              OrderedDict([('input_shape', [-1, 512]),\n",
       "                           ('output_shape', [-1, 512]),\n",
       "                           ('nb_params', 0)])),\n",
       "             ('BatchNorm1d-131',\n",
       "              OrderedDict([('input_shape', [-1, 512]),\n",
       "                           ('output_shape', [-1, 512]),\n",
       "                           ('trainable', True),\n",
       "                           ('nb_params', 1024)])),\n",
       "             ('Dropout-132',\n",
       "              OrderedDict([('input_shape', [-1, 512]),\n",
       "                           ('output_shape', [-1, 512]),\n",
       "                           ('nb_params', 0)])),\n",
       "             ('Linear-133',\n",
       "              OrderedDict([('input_shape', [-1, 512]),\n",
       "                           ('output_shape', [-1, 7]),\n",
       "                           ('trainable', True),\n",
       "                           ('nb_params', 3591)])),\n",
       "             ('LogSoftmax-134',\n",
       "              OrderedDict([('input_shape', [-1, 7]),\n",
       "                           ('output_shape', [-1, 7]),\n",
       "                           ('nb_params', 0)]))])"
      ]
     },
     "execution_count": 59,
     "metadata": {},
     "output_type": "execute_result"
    }
   ],
   "source": [
    "learn.summary()"
   ]
  },
  {
   "cell_type": "code",
   "execution_count": null,
   "metadata": {},
   "outputs": [],
   "source": [
    "learn.models.model"
   ]
  },
  {
   "cell_type": "code",
   "execution_count": 58,
   "metadata": {},
   "outputs": [],
   "source": [
    "learn.freeze_to(2)"
   ]
  },
  {
   "cell_type": "code",
   "execution_count": 68,
   "metadata": {
    "scrolled": true
   },
   "outputs": [
    {
     "data": {
      "application/vnd.jupyter.widget-view+json": {
       "model_id": "cd3782f6b63c4adca870119a7335c1d0",
       "version_major": 2,
       "version_minor": 0
      },
      "text/plain": [
       "HBox(children=(IntProgress(value=0, description='Epoch', max=4), HTML(value='')))"
      ]
     },
     "metadata": {},
     "output_type": "display_data"
    },
    {
     "name": "stdout",
     "output_type": "stream",
     "text": [
      "  0%|                                                                                                                                                                                                                 | 0/39 [00:00<?, ?it/s][731 181 277 414 201 373 267]\n",
      "EPOCH 0 ---------------------------------------- STEP 115                                                                                                                                                                                    \n",
      "mean: [20.79487 15.87179 22.20513  3.38462  4.02564 15.25641 15.41026]\n",
      "stdev: [3.70848 3.77019 4.10865 2.84303 4.22136 4.25904 4.56136]\n",
      "\n",
      "[WT]: 82.38%\n",
      "[mfb1KO]: 95.71%\n",
      "[mmr1KO]: 80.0%\n",
      "[CK666]: 45.71%\n",
      "[LatA-5uM]: 84.29%\n",
      "[dnm1KO]: 98.57%\n",
      "[fzo1KO]: 98.57%\n",
      "epoch      trn_loss   val_loss   accuracy   \n",
      "    0      0.112056   0.414184   0.833333  \n",
      "  0%|                                                                                                                                                                                                                 | 0/39 [00:00<?, ?it/s][731 181 277 414 201 373 267]\n",
      "EPOCH 1 ---------------------------------------- STEP 116                                                                                                                                                                                    \n",
      "mean: [22.05128 15.58974 20.97436  4.02564  2.92308 15.76923 15.4359 ]\n",
      "stdev: [5.08365 4.72157 5.27931 2.3478  1.89986 6.11204 4.62321]\n",
      "\n",
      "[WT]: 83.33%\n",
      "[mfb1KO]: 94.29%\n",
      "[mmr1KO]: 80.0%\n",
      "[CK666]: 48.57%\n",
      "[LatA-5uM]: 87.14%\n",
      "[dnm1KO]: 98.57%\n",
      "[fzo1KO]: 98.57%\n",
      "    1      0.127607   0.405101   0.84127   \n",
      "  0%|                                                                                                                                                                                                                 | 0/39 [00:00<?, ?it/s][731 181 277 414 201 373 267]\n",
      "EPOCH 2 ---------------------------------------- STEP 117                                                                                                                                                                                    \n",
      "mean: [20.23077 16.4359  20.97436  4.05128  3.33333 16.51282 15.35897]\n",
      "stdev: [5.0559  5.19267 6.01062 2.35283 2.06725 4.30784 4.37057]\n",
      "\n",
      "[WT]: 84.29%\n",
      "[mfb1KO]: 92.86%\n",
      "[mmr1KO]: 80.0%\n",
      "[CK666]: 44.29%\n",
      "[LatA-5uM]: 87.14%\n",
      "[dnm1KO]: 97.14%\n",
      "[fzo1KO]: 98.57%\n",
      "    2      0.12287    0.403945   0.836508  \n",
      "  0%|                                                                                                                                                                                                                 | 0/39 [00:00<?, ?it/s][731 181 277 414 201 373 267]\n",
      "EPOCH 3 ---------------------------------------- STEP 118                                                                                                                                                                                    \n",
      "mean: [21.94872 15.41026 21.69231  3.71795  3.61538 15.53846 14.97436]\n",
      "stdev: [4.01247 5.01648 4.32141 2.864   1.9164  5.51383 4.49779]\n",
      "\n",
      "[WT]: 83.81%\n",
      "[mfb1KO]: 94.29%\n",
      "[mmr1KO]: 80.0%\n",
      "[CK666]: 48.57%\n",
      "[LatA-5uM]: 87.14%\n",
      "[dnm1KO]: 98.57%\n",
      "[fzo1KO]: 98.57%\n",
      "    3      0.125468   0.410593   0.842857  \n",
      "Wall time: 2min 26s\n"
     ]
    },
    {
     "data": {
      "text/plain": [
       "[array([0.41059]), 0.8428571443709116]"
      ]
     },
     "execution_count": 68,
     "metadata": {},
     "output_type": "execute_result"
    }
   ],
   "source": [
    "adjust = {0:22,\n",
    "          1:16,\n",
    "          2:22,\n",
    "#           3:20,\n",
    "#           4:20,\n",
    "         5:16,\n",
    "         6:16}\n",
    "# use_clr=(20,8, 0.95, 0.85),\n",
    "%time learn.fit(1e-5, 1, cycle_len=4, wds=wd, use_wd_sched=True, adjust_class=adjust)"
   ]
  },
  {
   "cell_type": "markdown",
   "metadata": {},
   "source": [
    "## Analysis/Model evaluation\n",
    "\n",
    "This is one of the major areas that needs improvement in our workflow. The tools we have so far (confusion matrix and manual inpsection of images) are essential but definitely not sufficient to ensure that our model learns something biologicaly relevant. Ideas are welcome!"
   ]
  },
  {
   "cell_type": "markdown",
   "metadata": {},
   "source": [
    "### ...after training "
   ]
  },
  {
   "cell_type": "code",
   "execution_count": 66,
   "metadata": {},
   "outputs": [],
   "source": [
    "learn.save('YNet_v11.1_ResNet34_dihedral_ps025_IntNorm_FT-nonActin_84')"
   ]
  },
  {
   "cell_type": "code",
   "execution_count": null,
   "metadata": {},
   "outputs": [],
   "source": [
    "## Load model:\n",
    "learn.load('YNet_v11.1_ResNet18_dihedral_89')"
   ]
  },
  {
   "cell_type": "code",
   "execution_count": null,
   "metadata": {},
   "outputs": [],
   "source": [
    "learn.freeze()"
   ]
  },
  {
   "cell_type": "code",
   "execution_count": null,
   "metadata": {
    "scrolled": true
   },
   "outputs": [],
   "source": [
    "%time learn.fit(1e-3, 1, cycle_len=1, wds=wd, use_wd_sched=True, use_clr=(20,8, 0.95, 0.85))"
   ]
  },
  {
   "cell_type": "code",
   "execution_count": null,
   "metadata": {
    "scrolled": true
   },
   "outputs": [],
   "source": [
    "learn.lr_find()"
   ]
  },
  {
   "cell_type": "code",
   "execution_count": 69,
   "metadata": {
    "scrolled": false
   },
   "outputs": [
    {
     "name": "stdout",
     "output_type": "stream",
     "text": [
      "                                                                                                                                                                                                                                             \r"
     ]
    }
   ],
   "source": [
    "log_preds, y = learn.TTA(n_aug=1) # run predictions with TTA"
   ]
  },
  {
   "cell_type": "markdown",
   "metadata": {},
   "source": [
    "### Cross_validation evaluation"
   ]
  },
  {
   "cell_type": "code",
   "execution_count": 70,
   "metadata": {
    "scrolled": false
   },
   "outputs": [
    {
     "name": "stdout",
     "output_type": "stream",
     "text": [
      "[[180   3   8  30   4   0   0]\n",
      " [  4  65   0   0   0   0   1]\n",
      " [  2   1  57   0   1   0   0]\n",
      " [ 16   0   4  35   4   0   0]\n",
      " [  7   0   1   5  61   0   0]\n",
      " [  0   0   0   0   0  70   0]\n",
      " [  1   1   0   0   0   0  69]]\n"
     ]
    },
    {
     "data": {
      "image/png": "[encoded data removed]",
      "text/plain": [
       "<Figure size 432x288 with 2 Axes>"
      ]
     },
     "metadata": {},
     "output_type": "display_data"
    }
   ],
   "source": [
    "# Plot confusion matrix \n",
    "plt.style.use('seaborn-white')\n",
    "log_preds_mean = np.mean(log_preds, axis=0)\n",
    "preds = np.argmax(log_preds_mean, axis=1)\n",
    "cm = confusion_matrix(preds,y)\n",
    "plot_confusion_matrix(cm, data.classes)"
   ]
  },
  {
   "cell_type": "code",
   "execution_count": null,
   "metadata": {},
   "outputs": [],
   "source": []
  },
  {
   "cell_type": "markdown",
   "metadata": {},
   "source": [
    "## Test-set eval"
   ]
  },
  {
   "cell_type": "code",
   "execution_count": null,
   "metadata": {
    "scrolled": true
   },
   "outputs": [],
   "source": [
    "learn.models.model"
   ]
  },
  {
   "cell_type": "code",
   "execution_count": 71,
   "metadata": {},
   "outputs": [],
   "source": [
    "# function to be called by register_forward_hook\n",
    "\n",
    "def get_embeddings(layer_name):\n",
    "    def register_hook(layer_name):\n",
    "        def get_embedding(layer, inp, outp):\n",
    "            tmp = inp[0]\n",
    "            embedding.append(tmp)\n",
    "\n",
    "        hook = layer.register_forward_hook(get_embedding) \n",
    "        \n",
    "        for i in ['trn', 'val', 'test']:\n",
    "            embedding = []\n",
    "            preds, y = learn.predict_with_targs(i)\n",
    "            \n",
    "            # populating dict, consiting of [0]: preds, [1]: y, [2]: activations[layer]\n",
    "            embeddings[i] = [preds, y, np.vstack(to_np(embedding))]\n",
    "            \n",
    "        hook.remove()\n",
    "        \n",
    "    embeddings = {}    \n",
    "    layer = learn.models.model._modules.get(layer_name)\n",
    "    register_hook(layer)\n",
    "    \n",
    "    return embeddings"
   ]
  },
  {
   "cell_type": "code",
   "execution_count": 72,
   "metadata": {},
   "outputs": [],
   "source": [
    "embeddings = get_embeddings('14')"
   ]
  },
  {
   "cell_type": "code",
   "execution_count": 73,
   "metadata": {},
   "outputs": [
    {
     "name": "stdout",
     "output_type": "stream",
     "text": [
      "(2444, 512)\n",
      "(630, 512)\n",
      "(2721, 512)\n",
      "(2444,)\n",
      "(630,)\n",
      "(2721,)\n"
     ]
    }
   ],
   "source": [
    "# unpacking embeddings\n",
    "\n",
    "embs_trn = embeddings['trn'][2]\n",
    "y_trn = embeddings['trn'][1]\n",
    "\n",
    "embs_val = embeddings['val'][2]\n",
    "y_val = embeddings['val'][1]\n",
    "\n",
    "embs_test = embeddings['test'][2]\n",
    "y_test = embeddings['test'][1]\n",
    "\n",
    "print(embs_trn.shape)\n",
    "print(embs_val.shape)\n",
    "print(embs_test.shape)\n",
    "\n",
    "print(y_trn.shape)\n",
    "print(y_val.shape)\n",
    "print(y_test.shape)\n"
   ]
  },
  {
   "cell_type": "code",
   "execution_count": null,
   "metadata": {},
   "outputs": [],
   "source": [
    "from sklearn.decomposition import PCA\n",
    "from sklearn.manifold import TSNE"
   ]
  },
  {
   "cell_type": "code",
   "execution_count": null,
   "metadata": {},
   "outputs": [],
   "source": [
    "# running PCA on embeddings\n",
    "pca = []\n",
    "n_components = 50\n",
    "pca = PCA(n_components)\n",
    "\n",
    "trn_pca_result = pca.fit_transform(embs_trn)\n",
    "val_pca_result = pca.transform(embs_val)\n",
    "test_pca_result = pca.transform(embs_test)"
   ]
  },
  {
   "cell_type": "code",
   "execution_count": null,
   "metadata": {},
   "outputs": [],
   "source": [
    "#plotting compenent-wise cumulative explained variance (for PCA)\n",
    "\n",
    "plt.plot(range(n_components), pca.explained_variance_ratio_)\n",
    "plt.plot(range(n_components), np.cumsum(pca.explained_variance_ratio_))\n",
    "plt.title(\"Component-wise and Cumulative Explained Variance\")"
   ]
  },
  {
   "cell_type": "code",
   "execution_count": null,
   "metadata": {
    "scrolled": true
   },
   "outputs": [],
   "source": [
    "# running TSNE on embeddings\n",
    "\n",
    "tsne = TSNE(n_components=2, verbose=1, perplexity=40, n_iter=300)\n",
    "tsne_results = tsne.fit_transform(embs_trn)"
   ]
  },
  {
   "cell_type": "code",
   "execution_count": null,
   "metadata": {
    "scrolled": false
   },
   "outputs": [],
   "source": [
    "# plotting PCA vs TSNE results\n",
    "\n",
    "fig, axarr = plt.subplots(1, 2, figsize=(20, 8))\n",
    "\n",
    "compA = 0\n",
    "compB = 1\n",
    "\n",
    "for i in range(7):\n",
    "    PCA_cls = trn_pca_result[y_trn == i]\n",
    "    TSNE_cls = tsne_results[y_trn == i]\n",
    "    \n",
    "    axarr[0].scatter(PCA_cls[:,compA], PCA_cls[:,compB], label = data.classes[i])\n",
    "    axarr[1].scatter(TSNE_cls[:,compA], TSNE_cls[:,compB], label = data.classes[i])\n",
    "    axarr[1].legend(loc='center left', bbox_to_anchor=(1, 0.5))"
   ]
  },
  {
   "cell_type": "code",
   "execution_count": null,
   "metadata": {
    "scrolled": false
   },
   "outputs": [],
   "source": [
    "# plotting PCA vs TSNE results\n",
    "\n",
    "fig, axarr = plt.subplots(1, 2, figsize=(20, 8))\n",
    "\n",
    "compA = 0\n",
    "compB = 1\n",
    "\n",
    "for i in range(7):\n",
    "    trn_PCA_cls = trn_pca_result[y_trn == i]\n",
    "    val_PCA_cls = val_pca_result[y_val == i]\n",
    "\n",
    "    axarr[0].scatter(trn_PCA_cls[:,compA], trn_PCA_cls[:,compB], label = data.classes[i])\n",
    "    axarr[1].scatter(val_PCA_cls[:,compA], val_PCA_cls[:,compB], label = data.classes[i])\n",
    "    axarr[1].legend(loc='center left', bbox_to_anchor=(1, 0.5))"
   ]
  },
  {
   "cell_type": "code",
   "execution_count": null,
   "metadata": {
    "scrolled": true
   },
   "outputs": [],
   "source": [
    "print(lbl2idx_test)"
   ]
  },
  {
   "cell_type": "code",
   "execution_count": null,
   "metadata": {
    "scrolled": false
   },
   "outputs": [],
   "source": [
    "# plotting PCA vs TSNE results\n",
    "\n",
    "fig, axarr = plt.subplots(1, 2, figsize=(20, 8))\n",
    "\n",
    "compA = 0\n",
    "compB = 1\n",
    "\n",
    "for i in range(7):\n",
    "    trn_PCA_cls = trn_pca_result[y_trn == i]\n",
    "\n",
    "    axarr[0].scatter(trn_PCA_cls[:,compA], trn_PCA_cls[:,compB], label = data.classes[i])\n",
    "    axarr[0].legend(loc='center left', bbox_to_anchor=(1, 0.5))\n",
    "    axarr[0].set_xlim(-15,45)\n",
    "    axarr[0].set_ylim(-20,20)\n",
    "    \n",
    "for i in [0,1,3]:\n",
    "    test_PCA_cls = test_pca_result[y_test == i]\n",
    "    axarr[1].scatter(test_PCA_cls[:,compA], test_PCA_cls[:,compB], label = list(lbl2idx_test.keys())[i])\n",
    "    axarr[1].legend(loc='center left', bbox_to_anchor=(1, 0.5))\n",
    "    axarr[1].set_xlim(-15,45)\n",
    "    axarr[1].set_ylim(-20,20)\n"
   ]
  },
  {
   "cell_type": "code",
   "execution_count": null,
   "metadata": {},
   "outputs": [],
   "source": [
    "list(lbl2idx_test.keys())[0]"
   ]
  },
  {
   "cell_type": "code",
   "execution_count": null,
   "metadata": {},
   "outputs": [],
   "source": [
    "# Generate 3D TSNE space from PCA of embeddings\n",
    "\n",
    "tsne3D = TSNE(n_components=3, verbose=1, perplexity=40, n_iter=300, learning_rate=50.0)\n",
    "PCA2tSNE_results_3D = tsne3D.fit_transform(embs)"
   ]
  },
  {
   "cell_type": "code",
   "execution_count": null,
   "metadata": {},
   "outputs": [],
   "source": [
    "tsne3D"
   ]
  },
  {
   "cell_type": "code",
   "execution_count": null,
   "metadata": {},
   "outputs": [],
   "source": [
    "from mpl_toolkits import mplot3d\n",
    "\n",
    "# magic command to make plots interactive.\n",
    "# restart kernel if you want to switch to e.g. %matplotlib inline\n",
    "%matplotlib notebook"
   ]
  },
  {
   "cell_type": "code",
   "execution_count": null,
   "metadata": {},
   "outputs": [],
   "source": [
    "# 3D plotting - very slow interactivity atm...\n",
    "\n",
    "fig = plt.figure()\n",
    "ax = plt.axes(projection='3d')\n",
    "\n",
    "compA = 0\n",
    "compB = 1\n",
    "compC = 2\n",
    "\n",
    "for i in range(10):\n",
    "    clss = PCA2tSNE_results_3D[y == i]\n",
    "    cls_C = clss[0:500,:]\n",
    "    ax.scatter3D(cls_C[:,compA], cls_C[:,compB], cls_C[:,compC])"
   ]
  },
  {
   "cell_type": "code",
   "execution_count": null,
   "metadata": {},
   "outputs": [],
   "source": []
  },
  {
   "cell_type": "code",
   "execution_count": 45,
   "metadata": {},
   "outputs": [],
   "source": [
    "import umap"
   ]
  },
  {
   "cell_type": "code",
   "execution_count": 74,
   "metadata": {
    "scrolled": true
   },
   "outputs": [],
   "source": [
    "UMAP_trn_embedding = umap.UMAP(n_neighbors=10,\n",
    "                      min_dist=0.3,\n",
    "                      metric='correlation').fit(embs_trn)\n",
    "\n",
    "UMAP_trn = UMAP_trn_embedding.embedding_\n",
    "UMAP_val = UMAP_trn_embedding.transform(embs_val)\n",
    "UMAP_test = UMAP_trn_embedding.transform(embs_test)"
   ]
  },
  {
   "cell_type": "code",
   "execution_count": 76,
   "metadata": {},
   "outputs": [
    {
     "data": {
      "image/png": "[encoded data removed]",
      "text/plain": [
       "<Figure size 1440x576 with 2 Axes>"
      ]
     },
     "metadata": {},
     "output_type": "display_data"
    }
   ],
   "source": [
    "# plotting PCA vs TSNE results\n",
    "\n",
    "fig, axarr = plt.subplots(1, 2, figsize=(20, 8))\n",
    "\n",
    "compA = 0\n",
    "compB = 1\n",
    "\n",
    "for i in range(7):\n",
    "    trn_UMAP_cls = UMAP_trn[y_trn == i]\n",
    "\n",
    "    axarr[0].scatter(trn_UMAP_cls[:,compA], trn_UMAP_cls[:,compB], label = data.classes[i], s = 5)\n",
    "    axarr[0].legend(loc='center left', bbox_to_anchor=(1, 0.5))\n",
    "    \n",
    "    if i == 0:\n",
    "        axarr[1].scatter(trn_UMAP_cls[:,compA], trn_UMAP_cls[:,compB], label = data.classes[i], s = 1)\n",
    "\n",
    "#     axarr[0].set_xlim(-22,15)\n",
    "#     axarr[0].set_ylim(-15,12)\n",
    "    \n",
    "for i in [0,5,6,7,8,9,10,11]:\n",
    "    test_UMAP_cls = UMAP_test[y_test == i]\n",
    "    \n",
    "    axarr[1].scatter(test_UMAP_cls[:,compA], test_UMAP_cls[:,compB], label = list(lbl2idx_test.keys())[i], s = 5)\n",
    "    axarr[1].legend(loc='center left', bbox_to_anchor=(1, 0.5))\n",
    "#     axarr[1].set_xlim(-22,15)\n",
    "#     axarr[1].set_ylim(-15,12)\n"
   ]
  },
  {
   "cell_type": "code",
   "execution_count": null,
   "metadata": {},
   "outputs": [],
   "source": [
    "print(lbl2idx_test)"
   ]
  },
  {
   "cell_type": "markdown",
   "metadata": {},
   "source": [
    "### Visualizing train and test datasets as exposed by dataloader"
   ]
  },
  {
   "cell_type": "markdown",
   "metadata": {},
   "source": [
    "## @Yinan, please take the functionality of the next 2 cells and transfer it to the data_vis.py"
   ]
  },
  {
   "cell_type": "code",
   "execution_count": null,
   "metadata": {},
   "outputs": [],
   "source": [
    "dl_ = data.trn_dl\n",
    "batch_ = iter(dl_)\n",
    "\n",
    "\n",
    "plt.style.use('seaborn-white')\n",
    "fig = plt.figure()\n",
    "ax = plt.subplot(111)\n",
    "\n",
    "for b in range(0,len(dl_)):\n",
    "    x_, y_ = next(batch_)\n",
    "\n",
    "    x_np = to_np(x_)\n",
    "    y_np = to_np(y_)\n",
    "    \n",
    "    im_means = np.mean(x_np, axis=(2,3))\n",
    "    \n",
    "    ax.plot(im_means[:,0], im_means[:,1], 'o', color = 'C0' , alpha=0.5)\n",
    "        \n",
    "plt.xlim(-0.4,0.4)\n",
    "plt.ylim(-1, 4)"
   ]
  },
  {
   "cell_type": "code",
   "execution_count": null,
   "metadata": {},
   "outputs": [],
   "source": [
    "dl_t = data.test_dl\n",
    "batch_t = iter(dl_t)\n",
    "\n",
    "plt.style.use('seaborn-whitegrid')\n",
    "fig = plt.figure()\n",
    "ax = plt.subplot(111)\n",
    "\n",
    "for b in range(0,len(dl_t)):\n",
    "    x_, y_ = next(batch_t)\n",
    "\n",
    "    x_np = to_np(x_)\n",
    "    y_np = to_np(y_)\n",
    "    \n",
    "    im_means = np.mean(x_np, axis=(2,3))\n",
    "    \n",
    "    ax.plot(im_means[:,0], im_means[:,1], 'o', color = 'C1' , alpha=0.5)\n",
    "    \n",
    "plt.xlim(-0.4,0.4)\n",
    "plt.ylim(-1, 4)"
   ]
  },
  {
   "cell_type": "markdown",
   "metadata": {},
   "source": [
    "### Inference"
   ]
  },
  {
   "cell_type": "code",
   "execution_count": 81,
   "metadata": {},
   "outputs": [],
   "source": [
    "test_log_preds, targs = learn.predict_with_targs('test')\n",
    "testprobs = np.exp(test_log_preds)\n",
    "preds = np.argmax(testprobs, axis=1)"
   ]
  },
  {
   "cell_type": "markdown",
   "metadata": {},
   "source": [
    "## @James, please transfer the functionality of the next 5 cells into the data_vis.py"
   ]
  },
  {
   "cell_type": "code",
   "execution_count": null,
   "metadata": {},
   "outputs": [],
   "source": [
    "# @James, there is definitely a simpler way of generating test_lbl2idx_ than calling this entire line. Please trim it down. \n",
    "\n",
    "_, lbl2idx_, test_lbl2idx_ = ImageClassifierData.prepare_from_path(PATH, val_name='val', bs=64, num_workers=1, test_name='test', test_with_labels=True)\n"
   ]
  },
  {
   "cell_type": "code",
   "execution_count": 79,
   "metadata": {},
   "outputs": [
    {
     "data": {
      "text/plain": [
       "{'01_WT': [0, 0, 'WT'],\n",
       " '01_mfb1KO': [1, 1, 'mfb1KO'],\n",
       " '01_mmm1KO': [2, 2, 'mmm1KO'],\n",
       " '01_mmr1KO': [3, 3, 'mmr1KO'],\n",
       " '01_num1KO': [4, 4, 'num1KO'],\n",
       " '02_mmr1KO-mfb1KO': [5, 5, 'mmr1KO-mfb1KO'],\n",
       " '03_DTT': [6, 6, 'DTT'],\n",
       " '03_Eth': [7, 7, 'Eth'],\n",
       " '03_H2O2': [8, 8, 'H2O2'],\n",
       " '03_LatA-05uM': [9, 9, 'LatA-05uM'],\n",
       " '03_axl1KO': [10, 10, 'axl1KO'],\n",
       " '03_bud1KO': [11, 11, 'bud1KO']}"
      ]
     },
     "execution_count": 79,
     "metadata": {},
     "output_type": "execute_result"
    }
   ],
   "source": [
    "lbl2idx_test"
   ]
  },
  {
   "cell_type": "code",
   "execution_count": 82,
   "metadata": {
    "scrolled": false
   },
   "outputs": [
    {
     "name": "stdout",
     "output_type": "stream",
     "text": [
      "01_WT predictions ready (140 elements)\n",
      "01_mfb1KO predictions ready (140 elements)\n",
      "01_mmm1KO predictions ready (195 elements)\n",
      "01_mmr1KO predictions ready (205 elements)\n",
      "01_num1KO predictions ready (75 elements)\n",
      "02_mmr1KO-mfb1KO predictions ready (284 elements)\n",
      "03_DTT predictions ready (258 elements)\n",
      "03_Eth predictions ready (260 elements)\n",
      "03_H2O2 predictions ready (310 elements)\n",
      "03_LatA-05uM predictions ready (309 elements)\n",
      "03_axl1KO predictions ready (290 elements)\n",
      "03_bud1KO predictions ready (255 elements)\n"
     ]
    }
   ],
   "source": [
    "# make predictions dictionary\n",
    "\n",
    "h = 0\n",
    "preds_dict = {}\n",
    "for i, key in enumerate(lbl2idx_test.keys()):\n",
    "    l = h\n",
    "    h = h + list(data.test_dl.dataset.src_idx).count(i)\n",
    "    preds_dict[key] = list(preds[l:h])\n",
    "    print(f\"{key} predictions ready ({h - l} elements)\")"
   ]
  },
  {
   "cell_type": "code",
   "execution_count": 83,
   "metadata": {},
   "outputs": [
    {
     "name": "stdout",
     "output_type": "stream",
     "text": [
      "01_WT\n",
      "01_mfb1KO\n",
      "01_mmm1KO\n",
      "01_mmr1KO\n",
      "01_num1KO\n",
      "02_mmr1KO-mfb1KO\n",
      "03_DTT\n",
      "03_Eth\n",
      "03_H2O2\n",
      "03_LatA-05uM\n",
      "03_axl1KO\n",
      "03_bud1KO\n"
     ]
    }
   ],
   "source": [
    "preds_rel = {}\n",
    "for key in preds_dict.keys():\n",
    "    print(key)\n",
    "    val = {cls: preds_dict[key].count(i)/len(preds_dict[key]) for i, cls in enumerate(data.classes)}\n",
    "    preds_rel[key]= val"
   ]
  },
  {
   "cell_type": "code",
   "execution_count": 84,
   "metadata": {},
   "outputs": [],
   "source": [
    "def plot_test_preds(targets, preds_rel):\n",
    "    \n",
    "    if not isinstance(targets, list):\n",
    "        targets = [targets]\n",
    "        \n",
    "    x = math.ceil((int(len(targets)) /2)) # dynamic scaling of GridSpec\n",
    "    sz = 4 * x # dynamic scaling of figuresize\n",
    "    \n",
    "    # plotting:\n",
    "    plt.figure(figsize=(12,sz))\n",
    "    gs1 = plt.GridSpec(x,2)\n",
    "    gs1.update(wspace = 0.4)\n",
    "\n",
    "    for i, targ in enumerate(targets):\n",
    "        to_plot = [preds_rel[targ][key] for key in data.classes] # extracting data\n",
    "        ax1 = plt.subplot(gs1[i])\n",
    "        ax1.barh(data.classes, to_plot)\n",
    "        ax1.set_title(targ)\n",
    "        ax1.set_xlim(0,1)\n",
    "    \n",
    "    plt.show()"
   ]
  },
  {
   "cell_type": "code",
   "execution_count": 87,
   "metadata": {},
   "outputs": [
    {
     "data": {
      "image/png": "[encoded data removed]",
      "text/plain": [
       "<Figure size 864x1728 with 12 Axes>"
      ]
     },
     "metadata": {},
     "output_type": "display_data"
    }
   ],
   "source": [
    "test_classes = list(lbl2idx_test.keys())\n",
    "\n",
    "plot_test_preds(test_classes, preds_rel)\n",
    "# plot_test_preds(['01_WT', '03_WT', '03_fzo1KO', '01_mfb1KO'], preds_rel)\n",
    "# plot_test_preds(['01_WT', '01_mfb1KO', '01_mmr1KO'], preds_rel)"
   ]
  },
  {
   "cell_type": "code",
   "execution_count": null,
   "metadata": {},
   "outputs": [],
   "source": []
  },
  {
   "cell_type": "markdown",
   "metadata": {},
   "source": [
    "### Analyse images "
   ]
  },
  {
   "cell_type": "code",
   "execution_count": null,
   "metadata": {},
   "outputs": [],
   "source": []
  },
  {
   "cell_type": "markdown",
   "metadata": {},
   "source": [
    "#### Show random correct/incorrectly classified images:"
   ]
  },
  {
   "cell_type": "code",
   "execution_count": null,
   "metadata": {},
   "outputs": [],
   "source": [
    "log_preds_mean = np.mean(log_preds, axis=0) # averages predictions on original + 4 TTA images\n",
    "preds = np.argmax(log_preds_mean, axis=1) # converts into 0 or 1"
   ]
  },
  {
   "cell_type": "code",
   "execution_count": null,
   "metadata": {},
   "outputs": [],
   "source": [
    "# probs = np.exp(log_preds_mean[:,0]) # prediction(WT)\n",
    "probs = np.exp(log_preds_mean) # predictions"
   ]
  },
  {
   "cell_type": "code",
   "execution_count": null,
   "metadata": {},
   "outputs": [],
   "source": [
    "def rand_by_mask(mask): return np.random.choice(np.where(mask)[0], 4, replace=False)\n",
    "def rand_by_correct(is_correct): return rand_by_mask((preds == data.val_y)==is_correct)"
   ]
  },
  {
   "cell_type": "code",
   "execution_count": null,
   "metadata": {},
   "outputs": [],
   "source": [
    "def plots(ims, channel, figsize=(12,6), rows=1, titles=None):\n",
    "    f = plt.figure(figsize=figsize)\n",
    "    for i in range(len(ims)):\n",
    "        sp = f.add_subplot(rows, len(ims)//rows, i+1)\n",
    "        sp.axis('Off')\n",
    "        if titles is not None: sp.set_title(titles[i], fontsize=11)\n",
    "        if channel is not None: plt.imshow(ims[i,channel,:,:]) \n",
    "        else: plt.imshow(np.sum(ims, axis=1)[i,:,:])"
   ]
  },
  {
   "cell_type": "code",
   "execution_count": null,
   "metadata": {},
   "outputs": [],
   "source": [
    "def plot_val_with_title_from_ds_no_denorm(idxs, title, channel=None):\n",
    "    \n",
    "    imgs = np.stack(data.val_ds[x][0] for x in idxs) # get images by idx\n",
    "    corr_lbl = np.stack(data.val_ds[x][1] for x in idxs) # get correct label from data.val_ds by idx\n",
    "    pred_lbl = np.stack(preds[x] for x in idxs) # get predicted label from preds by idx\n",
    "    p_max = [np.amax(probs[x,:]) for x in idxs] # get highest probability from probs by idx\n",
    "    \n",
    "    title_fin = [f\"true = {corr_lbl[x]}\\n predicted: {pred_lbl[x]}\\n  p = {p_max[x]}\" for x, _ in enumerate(corr_lbl)]\n",
    "    print(title)\n",
    "    \n",
    "    return plots(imgs, channel, rows=1, titles=title_fin, figsize=(16,8))"
   ]
  },
  {
   "cell_type": "code",
   "execution_count": null,
   "metadata": {},
   "outputs": [],
   "source": [
    "lbl2idx_"
   ]
  },
  {
   "cell_type": "markdown",
   "metadata": {},
   "source": [
    "### Plot images according to predictions"
   ]
  },
  {
   "cell_type": "code",
   "execution_count": null,
   "metadata": {
    "scrolled": true
   },
   "outputs": [],
   "source": [
    "# load from ds - not denormalized! \n",
    "plot_val_with_title_from_ds_no_denorm(rand_by_correct(True), \"Correctly classified\")\n",
    "#optionally pass channel arg. to select single channel"
   ]
  },
  {
   "cell_type": "code",
   "execution_count": null,
   "metadata": {
    "scrolled": false
   },
   "outputs": [],
   "source": [
    "plot_val_with_title_from_ds_no_denorm(rand_by_correct(False), \"Incorrectly classified\")"
   ]
  },
  {
   "cell_type": "markdown",
   "metadata": {},
   "source": [
    "#### Show most correct/incorrectly classified images per class:"
   ]
  },
  {
   "cell_type": "code",
   "execution_count": null,
   "metadata": {},
   "outputs": [],
   "source": [
    "def most_by_mask(mask, y, mult):\n",
    "    idxs = np.where(mask)[0]\n",
    "    return idxs[np.argsort(mult * probs[:,y][idxs])[0:5]]\n",
    "\n",
    "def most_by_correct(y, is_correct): \n",
    "    mult = -1 if is_correct else 1\n",
    "    return most_by_mask(((preds == data.val_y)==is_correct) & (data.val_y == y), y, mult)"
   ]
  },
  {
   "cell_type": "code",
   "execution_count": null,
   "metadata": {},
   "outputs": [],
   "source": [
    "plot_val_with_title_from_ds_no_denorm(most_by_correct(0, True), \"Most correctly classified WT\")"
   ]
  },
  {
   "cell_type": "code",
   "execution_count": null,
   "metadata": {
    "scrolled": false
   },
   "outputs": [],
   "source": [
    "plot_val_with_title_from_ds_no_denorm(most_by_correct(0, False), \"Most incorrectly classified WT\") # logic?"
   ]
  },
  {
   "cell_type": "code",
   "execution_count": null,
   "metadata": {},
   "outputs": [],
   "source": [
    "plot_val_with_title_from_ds_no_denorm(most_by_correct(1, True), \"Most correctly classified mfb1KO\") "
   ]
  },
  {
   "cell_type": "code",
   "execution_count": null,
   "metadata": {},
   "outputs": [],
   "source": [
    "plot_val_with_title_from_ds_no_denorm(most_by_correct(1, False), \"Most incorrectly classified mfb1KO\")"
   ]
  },
  {
   "cell_type": "code",
   "execution_count": null,
   "metadata": {
    "scrolled": true
   },
   "outputs": [],
   "source": [
    "plot_val_with_title_from_ds_no_denorm(most_by_correct(2, True), \"Most correctly classified mfb1KO-mmr1KO\")"
   ]
  },
  {
   "cell_type": "code",
   "execution_count": null,
   "metadata": {
    "scrolled": false
   },
   "outputs": [],
   "source": [
    "plot_val_with_title_from_ds_no_denorm(most_by_correct(3, True), \"Most correctly classified CK666\")"
   ]
  },
  {
   "cell_type": "code",
   "execution_count": null,
   "metadata": {
    "scrolled": true
   },
   "outputs": [],
   "source": [
    "plot_val_with_title_from_ds_no_denorm(most_by_correct(4, True), \"Most correctly classified LatA\")"
   ]
  },
  {
   "cell_type": "code",
   "execution_count": null,
   "metadata": {
    "scrolled": true
   },
   "outputs": [],
   "source": [
    "plot_val_with_title_from_ds_no_denorm(most_by_correct(5, True), \"Most correctly classified dnnm1KO\")"
   ]
  },
  {
   "cell_type": "code",
   "execution_count": null,
   "metadata": {},
   "outputs": [],
   "source": [
    "plot_val_with_title_from_ds_no_denorm(most_by_correct(6, True), \"Most correctly classified fzo1KO\")"
   ]
  },
  {
   "cell_type": "markdown",
   "metadata": {},
   "source": [
    "#### Show (most) uncertain images"
   ]
  },
  {
   "cell_type": "code",
   "execution_count": null,
   "metadata": {
    "scrolled": true
   },
   "outputs": [],
   "source": [
    "most_uncertain = t = np.argsort(np.amax(probs, axis = 1))[1:5] # get best \"guess\" per image and list the least confident ones\n",
    "plot_val_with_title_from_ds_no_denorm(most_uncertain, \"Most uncertain predictions\")"
   ]
  },
  {
   "cell_type": "code",
   "execution_count": null,
   "metadata": {},
   "outputs": [],
   "source": [
    "lbl2idx_"
   ]
  },
  {
   "cell_type": "code",
   "execution_count": null,
   "metadata": {},
   "outputs": [],
   "source": []
  }
 ],
 "metadata": {
  "kernelspec": {
   "display_name": "Python 3",
   "language": "python",
   "name": "python3"
  },
  "language_info": {
   "codemirror_mode": {
    "name": "ipython",
    "version": 3
   },
   "file_extension": ".py",
   "mimetype": "text/x-python",
   "name": "python",
   "nbconvert_exporter": "python",
   "pygments_lexer": "ipython3",
   "version": "3.6.5"
  }
 },
 "nbformat": 4,
 "nbformat_minor": 2
}
