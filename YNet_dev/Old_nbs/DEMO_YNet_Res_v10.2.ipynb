{
 "cells": [
  {
   "cell_type": "markdown",
   "metadata": {},
   "source": [
    "# YNet - Dataset 10.2:\n",
    "\n",
    "Data from Experiment (2), Mitochondria = Cit1-mCherry "
   ]
  },
  {
   "cell_type": "markdown",
   "metadata": {},
   "source": [
    "### Importing utilities:"
   ]
  },
  {
   "cell_type": "code",
   "execution_count": 1,
   "metadata": {},
   "outputs": [],
   "source": [
    "%matplotlib inline\n",
    "%reload_ext autoreload\n",
    "%autoreload 2"
   ]
  },
  {
   "cell_type": "code",
   "execution_count": 2,
   "metadata": {},
   "outputs": [],
   "source": [
    "import os\n",
    "from pathlib import Path\n",
    "import skimage.external.tifffile as tiff\n",
    "\n",
    "from common import Statistics, dataset_source\n",
    "from resources.conv_learner import *\n",
    "from resources.plots import *\n",
    "from pprint import pprint\n",
    "import matplotlib.pyplot as plt\n",
    "%matplotlib inline"
   ]
  },
  {
   "cell_type": "markdown",
   "metadata": {},
   "source": [
    "#### Setting up variables"
   ]
  },
  {
   "cell_type": "code",
   "execution_count": 3,
   "metadata": {},
   "outputs": [],
   "source": [
    "PATH = \"datasets/yeast_v10.2/\"\n",
    "data_path = Path(PATH)"
   ]
  },
  {
   "cell_type": "code",
   "execution_count": 4,
   "metadata": {},
   "outputs": [],
   "source": [
    "CLASSES = ('WT', 'mfb1KO', 'mmr1KO','mmm1KO', 'num1KO', 'dnm1KO', 'fzo1KO', 'H2O2')\n",
    "NUM_CLASSES = len(CLASSES)\n",
    "BATCH_SIZE = 64\n",
    "SIZE = 200"
   ]
  },
  {
   "cell_type": "markdown",
   "metadata": {},
   "source": [
    "#### Calculating normalization statistics\n",
    "\n",
    "Note that we are setting up train & val data, as well as test. Within test, we are here including a mutant cell type that the model never trains on. The idea is to use to the feature space developed during training to evaluate novel cell types by similarity to the landmarks that the model was trained on. "
   ]
  },
  {
   "cell_type": "code",
   "execution_count": 5,
   "metadata": {
    "scrolled": true
   },
   "outputs": [
    {
     "name": "stdout",
     "output_type": "stream",
     "text": [
      "working on: datasets\\yeast_v10.2\\train\\01_mfb1KO\n",
      "working on: datasets\\yeast_v10.2\\val\\01_mfb1KO\n",
      "working on: datasets\\yeast_v10.2\\train\\01_mmm1KO\n",
      "working on: datasets\\yeast_v10.2\\val\\01_mmm1KO\n",
      "working on: datasets\\yeast_v10.2\\train\\01_mmr1KO\n",
      "working on: datasets\\yeast_v10.2\\val\\01_mmr1KO\n",
      "working on: datasets\\yeast_v10.2\\train\\01_num1KO\n",
      "working on: datasets\\yeast_v10.2\\val\\01_num1KO\n",
      "working on: datasets\\yeast_v10.2\\train\\01_WT\n",
      "working on: datasets\\yeast_v10.2\\val\\01_WT\n",
      "working on: datasets\\yeast_v10.2\\train\\02_WT\n",
      "working on: datasets\\yeast_v10.2\\val\\02_WT\n",
      "working on: datasets\\yeast_v10.2\\train\\03_dnm1KO\n",
      "working on: datasets\\yeast_v10.2\\val\\03_dnm1KO\n",
      "working on: datasets\\yeast_v10.2\\train\\03_fzo1KO\n",
      "working on: datasets\\yeast_v10.2\\val\\03_fzo1KO\n",
      "working on: datasets\\yeast_v10.2\\train\\03_H2O2\n",
      "working on: datasets\\yeast_v10.2\\val\\03_H2O2\n",
      "working on: datasets\\yeast_v10.2\\train\\03_WT\n",
      "working on: datasets\\yeast_v10.2\\val\\03_WT\n",
      "working on: datasets\\yeast_v10.2\\test\\02_mfb1KO\n",
      "working on: datasets\\yeast_v10.2\\test\\02_mmr1KO\n",
      "working on: datasets\\yeast_v10.2\\test\\02_mmr1KO-mfb1KO\n"
     ]
    }
   ],
   "source": [
    "stats_name = \"yeast_v10.2_per_class.dict\"\n",
    "classes = Statistics.source_class(data_path)\n",
    "\n",
    "train_val = zip(classes['train'], classes['val'])\n",
    "test_ = zip(classes['test'])\n",
    " \n",
    "main_stats = Statistics.per_class(train_val, save_name=stats_name)\n",
    "test_stats = Statistics.per_class(test_)"
   ]
  },
  {
   "cell_type": "code",
   "execution_count": 6,
   "metadata": {
    "scrolled": true
   },
   "outputs": [
    {
     "name": "stdout",
     "output_type": "stream",
     "text": [
      "01_mfb1KO: \t \t \t (array([0.02111, 0.00453]), array([0.00149, 0.00161]))\n",
      "01_mmm1KO: \t \t \t (array([0.02102, 0.00424]), array([0.00149, 0.00183]))\n",
      "01_mmr1KO: \t \t \t (array([0.02115, 0.00486]), array([0.00157, 0.00194]))\n",
      "01_num1KO: \t \t \t (array([0.02098, 0.005  ]), array([0.00153, 0.00209]))\n",
      "01_WT: \t \t \t (array([0.0211, 0.0045]), array([0.00149, 0.00129]))\n",
      "02_WT: \t \t \t (array([0.00796, 0.00478]), array([0.00075, 0.00149]))\n",
      "03_dnm1KO: \t \t \t (array([0.02515, 0.00477]), array([0.0025 , 0.00192]))\n",
      "03_fzo1KO: \t \t \t (array([0.02517, 0.0047 ]), array([0.00202, 0.00202]))\n",
      "03_H2O2: \t \t \t (array([0.02574, 0.00364]), array([0.00221, 0.00018]))\n",
      "03_WT: \t \t \t (array([0.02536, 0.00459]), array([0.00255, 0.00147]))\n"
     ]
    }
   ],
   "source": [
    "for keys in main_stats.keys():\n",
    "    print(f\"{keys}: \\t \\t \\t {main_stats[keys]}\")"
   ]
  },
  {
   "cell_type": "code",
   "execution_count": 7,
   "metadata": {
    "scrolled": true
   },
   "outputs": [
    {
     "name": "stdout",
     "output_type": "stream",
     "text": [
      "02_mfb1KO: \t \t \t (array([0.00794, 0.00483]), array([0.00074, 0.00162]))\n",
      "02_mmr1KO: \t \t \t (array([0.00799, 0.00503]), array([0.0008 , 0.00184]))\n",
      "02_mmr1KO-mfb1KO: \t \t \t (array([0.00792, 0.00489]), array([0.00072, 0.00163]))\n"
     ]
    }
   ],
   "source": [
    "for keys in test_stats.keys():\n",
    "    print(f\"{keys}: \\t \\t \\t {test_stats[keys]}\")"
   ]
  },
  {
   "cell_type": "markdown",
   "metadata": {},
   "source": [
    "## Defining datasets:"
   ]
  },
  {
   "cell_type": "code",
   "execution_count": 8,
   "metadata": {},
   "outputs": [],
   "source": [
    "def tfms_for_test(stats, sz):\n",
    "    test_norm = Normalize(stats)\n",
    "    test_denorm = Denormalize(stats)\n",
    "    val_crop = CropType.NO\n",
    "    test_tfms = image_gen(test_norm, test_denorm,sz, crop_type=val_crop)\n",
    "    return test_tfms"
   ]
  },
  {
   "cell_type": "code",
   "execution_count": 9,
   "metadata": {},
   "outputs": [],
   "source": [
    "def get_data(path: str, sz, bs):\n",
    "    create, lbl2index, lbl2index_test = ImageClassifierData.prepare_from_path(path, val_name='val', bs=bs, num_workers=1,\n",
    "                                                                             test_name='test', test_with_labels=True)\n",
    "    \n",
    "    main_stats_X = {lbl2index[key][0]: val for key, val in main_stats.items()}\n",
    "    tfms = tfms_from_stats(main_stats_X, sz, aug_tfms=[RandomDihedral()], pad=sz//8)\n",
    "    \n",
    "    test_stats_X = {lbl2index_test[key][0]: val for key, val in test_stats.items()}\n",
    "    test_tfms = tfms_for_test(test_stats_X,sz)\n",
    "    tfms += (test_tfms, )\n",
    "    \n",
    "#     print(main_stats_X)\n",
    "#     print(test_stats_X)\n",
    "    \n",
    "    print('\\n class to index mapping:\\n',lbl2index)\n",
    "    print('\\n class to index mapping:\\n',lbl2index_test)\n",
    "    return create(tfms)"
   ]
  },
  {
   "cell_type": "code",
   "execution_count": 10,
   "metadata": {
    "scrolled": false
   },
   "outputs": [
    {
     "name": "stdout",
     "output_type": "stream",
     "text": [
      "\n",
      " class to index mapping:\n",
      " {'01_WT': [0, 0, 'WT'], '01_mfb1KO': [1, 1, 'mfb1KO'], '01_mmm1KO': [2, 2, 'mmm1KO'], '01_mmr1KO': [3, 3, 'mmr1KO'], '01_num1KO': [4, 4, 'num1KO'], '02_WT': [5, 0, 'WT'], '03_H2O2': [6, 5, 'H2O2'], '03_WT': [7, 0, 'WT'], '03_dnm1KO': [8, 6, 'dnm1KO'], '03_fzo1KO': [9, 7, 'fzo1KO']}\n",
      "\n",
      " class to index mapping:\n",
      " {'02_mfb1KO': [0, 0, 'mfb1KO'], '02_mmr1KO': [1, 1, 'mmr1KO'], '02_mmr1KO-mfb1KO': [2, 2, 'mmr1KO-mfb1KO']}\n"
     ]
    }
   ],
   "source": [
    "data = get_data(PATH,SIZE,BATCH_SIZE)"
   ]
  },
  {
   "cell_type": "code",
   "execution_count": 11,
   "metadata": {
    "scrolled": true
   },
   "outputs": [],
   "source": [
    "x, y = next(iter(data.trn_dl))"
   ]
  },
  {
   "cell_type": "code",
   "execution_count": null,
   "metadata": {},
   "outputs": [],
   "source": [
    "x, y = next(iter(data.test_dl))"
   ]
  },
  {
   "cell_type": "code",
   "execution_count": null,
   "metadata": {},
   "outputs": [],
   "source": [
    "print(len(data.val_dl.dataset.y))\n",
    "print(len(data.trn_dl.dataset.y))\n",
    "# print(y)"
   ]
  },
  {
   "cell_type": "markdown",
   "metadata": {},
   "source": [
    "### Inspect loaded data:\n",
    "\n",
    "Displaying the same image with and without normalization."
   ]
  },
  {
   "cell_type": "code",
   "execution_count": null,
   "metadata": {
    "scrolled": true
   },
   "outputs": [],
   "source": [
    "# specify which image-index\n",
    "idx = 6\n",
    "\n",
    "# loading it from GPU to CPU\n",
    "xx = x[idx].cpu().numpy().copy()\n",
    "yy = y[idx]\n",
    "# showing the image\n",
    "#\n",
    "#sp.axis('Off')\n",
    "#sp.set_title(\"Norm\", fontsize=11)\n",
    "figure, _ ,_ = tiff.imshow(np.sum(xx, axis=0))\n",
    "figure.set_size_inches(6,6)\n",
    "figure.add_subplot(111)\n",
    "\n",
    "# figure2, _, _ = tiff.imshow(np.sum(data.trn_ds.denorm(xx,yy).squeeze() * 65536, axis=2)) # not very elegant atm. \n",
    "# figure2.set_size_inches(6,6)\n",
    "print(yy)"
   ]
  },
  {
   "cell_type": "markdown",
   "metadata": {},
   "source": [
    "# Training setup"
   ]
  },
  {
   "cell_type": "code",
   "execution_count": 12,
   "metadata": {},
   "outputs": [
    {
     "data": {
      "text/plain": [
       "True"
      ]
     },
     "execution_count": 12,
     "metadata": {},
     "output_type": "execute_result"
    }
   ],
   "source": [
    "torch.cuda.is_available()"
   ]
  },
  {
   "cell_type": "markdown",
   "metadata": {},
   "source": [
    "## ResNet_with_Batchnorm\n",
    "\n",
    "Defining network architecture. "
   ]
  },
  {
   "cell_type": "code",
   "execution_count": 13,
   "metadata": {},
   "outputs": [],
   "source": [
    "class BnLayer(nn.Module):\n",
    "    def __init__(self, ni, nf, stride=2, kernel_size=3):\n",
    "        super().__init__()\n",
    "        self.conv = nn.Conv2d(ni, nf, kernel_size=kernel_size, stride=stride,\n",
    "                              bias=False, padding=1)\n",
    "        self.a = nn.Parameter(torch.zeros(nf,1,1))\n",
    "        self.m = nn.Parameter(torch.ones(nf,1,1))\n",
    "        \n",
    "    def forward(self, x):\n",
    "        x = F.relu(self.conv(x))\n",
    "        x_chan = x.transpose(0,1).contiguous().view(x.size(1), -1)\n",
    "        if self.training:\n",
    "            self.means = x_chan.mean(1)[:,None,None]\n",
    "            self.stds  = x_chan.std (1)[:,None,None]\n",
    "        return (x-self.means) / self.stds *self.m + self.a"
   ]
  },
  {
   "cell_type": "code",
   "execution_count": 14,
   "metadata": {},
   "outputs": [],
   "source": [
    "class ResnetLayer(BnLayer):\n",
    "    def forward(self, x): return x + super().forward(x)"
   ]
  },
  {
   "cell_type": "code",
   "execution_count": 15,
   "metadata": {},
   "outputs": [],
   "source": [
    "class Resnet(nn.Module):\n",
    "    def __init__(self, layers, c):\n",
    "        super().__init__()\n",
    "        self.conv1 = nn.Conv2d(2, 10, kernel_size=5, stride=1, padding=2)\n",
    "        self.layers = nn.ModuleList([BnLayer(layers[i], layers[i+1])\n",
    "            for i in range(len(layers) - 1)])\n",
    "        self.layers2 = nn.ModuleList([ResnetLayer(layers[i+1], layers[i + 1], 1)\n",
    "            for i in range(len(layers) - 1)])\n",
    "        self.layers3 = nn.ModuleList([ResnetLayer(layers[i+1], layers[i + 1], 1)\n",
    "            for i in range(len(layers) - 1)])\n",
    "        self.out = nn.Linear(layers[-1], c)\n",
    "        \n",
    "    def forward(self, x):\n",
    "        x = self.conv1(x)\n",
    "        for l,l2,l3 in zip(self.layers, self.layers2, self.layers3):\n",
    "            x = l3(l2(l(x)))\n",
    "        x = F.adaptive_max_pool2d(x, 1)\n",
    "        x = x.view(x.size(0), -1)\n",
    "        return F.log_softmax(self.out(x), dim=-1)"
   ]
  },
  {
   "cell_type": "code",
   "execution_count": 16,
   "metadata": {},
   "outputs": [],
   "source": [
    "wd=1e-5 # weight-decay/L2 regularization "
   ]
  },
  {
   "cell_type": "code",
   "execution_count": 17,
   "metadata": {},
   "outputs": [],
   "source": [
    "learn = ConvLearner.from_model_data(Resnet([10, 20, 40, 80, 160], 8), data)"
   ]
  },
  {
   "cell_type": "code",
   "execution_count": null,
   "metadata": {
    "scrolled": true
   },
   "outputs": [],
   "source": [
    "learn.summary()"
   ]
  },
  {
   "cell_type": "code",
   "execution_count": 18,
   "metadata": {
    "scrolled": true
   },
   "outputs": [
    {
     "data": {
      "application/vnd.jupyter.widget-view+json": {
       "model_id": "95e85cb675fc47a1a7e8726e0eeaf6de",
       "version_major": 2,
       "version_minor": 0
      },
      "text/plain": [
       "HBox(children=(IntProgress(value=0, description='Epoch', max=8), HTML(value='')))"
      ]
     },
     "metadata": {},
     "output_type": "display_data"
    },
    {
     "name": "stdout",
     "output_type": "stream",
     "text": [
      "EPOCH 0 ---------------------------------------- STEP 0                                                                                                                                                              \n",
      "mean: [24.6      5.77143  8.2      8.57143  2.97143 15.02857 17.88571 13.17143]\n",
      "stdev: [5.39947 3.60227 3.35346 3.09179 2.10422 4.89014 4.53413 4.56374]\n",
      "\n",
      "[WT]: 91.43%\n",
      "[mfb1KO]: 5.714%\n",
      "[mmm1KO]: 94.29%\n",
      "[mmr1KO]:  0.0%\n",
      "[num1KO]:  0.0%\n",
      "[H2O2]:  0.0%\n",
      "[dnm1KO]: 5.714%\n",
      "[fzo1KO]:  0.0%\n",
      "epoch      trn_loss   val_loss   accuracy   \n",
      "    0      11.098305  4.690538   0.38      \n",
      "EPOCH 1 ---------------------------------------- STEP 1                                                                                                                                                              \n",
      "mean: [24.62857  5.8      8.22857  8.65714  2.94286 14.94286 17.82857 13.08571]\n",
      "stdev: [4.32987 2.62733 3.46481 3.58523 2.17706 3.81683 5.60859 3.71385]\n",
      "\n",
      "[WT]: 71.43%\n",
      "[mfb1KO]:  0.0%\n",
      "[mmm1KO]: 77.14%\n",
      "[mmr1KO]:  0.0%\n",
      "[num1KO]:  0.0%\n",
      "[H2O2]: 28.57%\n",
      "[dnm1KO]: 14.29%\n",
      "[fzo1KO]: 71.43%\n",
      "    1      5.228485   1.913008   0.405714  \n",
      "EPOCH 2 ---------------------------------------- STEP 2                                                                                                                                                              \n",
      "mean: [24.54286  5.82857  8.11429  8.77143  3.      15.05714 17.82857 13.     ]\n",
      "stdev: [5.26087 2.613   3.031   4.46629 1.80476 5.10989 3.5656  4.04263]\n",
      "\n",
      "[WT]: 66.67%\n",
      "[mfb1KO]: 45.71%\n",
      "[mmm1KO]: 97.14%\n",
      "[mmr1KO]:  0.0%\n",
      "[num1KO]:  0.0%\n",
      "[H2O2]: 40.0%\n",
      "[dnm1KO]: 57.14%\n",
      "[fzo1KO]: 68.57%\n",
      "    2      3.047633   1.475711   0.508571  \n",
      "EPOCH 3 ---------------------------------------- STEP 3                                                                                                                                                              \n",
      "mean: [24.54286  5.74286  8.17143  8.68571  2.94286 15.08571 17.91429 13.11429]\n",
      "stdev: [5.60787 2.90165 3.49273 3.63138 1.9264  4.16359 4.292   3.66272]\n",
      "\n",
      "[WT]: 59.05%\n",
      "[mfb1KO]: 34.29%\n",
      "[mmm1KO]: 91.43%\n",
      "[mmr1KO]: 8.571%\n",
      "[num1KO]:  0.0%\n",
      "[H2O2]: 74.29%\n",
      "[dnm1KO]: 71.43%\n",
      "[fzo1KO]: 82.86%\n",
      "    3      2.059822   1.263643   0.54      \n",
      "EPOCH 4 ---------------------------------------- STEP 4                                                                                                                                                              \n",
      "mean: [24.48571  5.82857  8.11429  8.8      2.91429 14.94286 17.77143 13.2    ]\n",
      "stdev: [5.80331 2.69906 3.18722 3.51161 1.9766  4.64108 4.67874 4.49635]\n",
      "\n",
      "[WT]: 89.52%\n",
      "[mfb1KO]: 51.43%\n",
      "[mmm1KO]: 94.29%\n",
      "[mmr1KO]: 11.43%\n",
      "[num1KO]:  0.0%\n",
      "[H2O2]: 88.57%\n",
      "[dnm1KO]: 60.0%\n",
      "[fzo1KO]: 77.14%\n",
      "    4      1.528967   1.046349   0.651429  \n",
      "EPOCH 5 ---------------------------------------- STEP 5                                                                                                                                                              \n",
      "mean: [24.6      5.82857  8.25714  8.74286  2.97143 15.05714 17.85714 13.     ]\n",
      "stdev: [5.51466 3.01885 3.55643 3.9666  2.34808 3.46363 5.84144 5.25357]\n",
      "\n",
      "[WT]: 71.43%\n",
      "[mfb1KO]: 74.29%\n",
      "[mmm1KO]: 94.29%\n",
      "[mmr1KO]: 14.29%\n",
      "[num1KO]: 8.571%\n",
      "[H2O2]: 91.43%\n",
      "[dnm1KO]: 88.57%\n",
      "[fzo1KO]: 65.71%\n",
      "    5      1.222075   1.000388   0.651429  \n",
      "EPOCH 6 ---------------------------------------- STEP 6                                                                                                                                                              \n",
      "mean: [24.6      5.82857  8.22857  8.82857  3.      15.02857 17.85714 13.05714]\n",
      "stdev: [6.91251 3.2644  3.6181  3.65268 2.15141 3.50906 4.34999 4.84587]\n",
      "\n",
      "[WT]: 79.05%\n",
      "[mfb1KO]: 71.43%\n",
      "[mmm1KO]: 97.14%\n",
      "[mmr1KO]: 20.0%\n",
      "[num1KO]:  0.0%\n",
      "[H2O2]: 97.14%\n",
      "[dnm1KO]: 85.71%\n",
      "[fzo1KO]: 65.71%\n",
      "    6      1.064216   0.919069   0.674286  \n",
      "EPOCH 7 ---------------------------------------- STEP 7                                                                                                                                                              \n",
      "mean: [24.6      5.8      8.14286  8.68571  2.94286 15.02857 17.88571 13.05714]\n",
      "stdev: [4.23725 3.3958  4.00102 3.214   2.21608 4.26605 5.02435 3.87625]\n",
      "\n",
      "[WT]: 80.0%\n",
      "[mfb1KO]: 74.29%\n",
      "[mmm1KO]: 88.57%\n",
      "[mmr1KO]: 20.0%\n",
      "[num1KO]:  0.0%\n",
      "[H2O2]: 97.14%\n",
      "[dnm1KO]: 88.57%\n",
      "[fzo1KO]: 80.0%\n",
      "    7      0.881549   0.90993    0.688571  \n",
      "\n",
      "Wall time: 2min 44s\n"
     ]
    },
    {
     "data": {
      "text/plain": [
       "[array([0.90993]), 0.6885714268684388]"
      ]
     },
     "execution_count": 18,
     "metadata": {},
     "output_type": "execute_result"
    }
   ],
   "source": [
    "%time learn.fit(1e-2, 8, cycle_len=1, wds=wd)"
   ]
  },
  {
   "cell_type": "code",
   "execution_count": 19,
   "metadata": {
    "scrolled": true
   },
   "outputs": [
    {
     "data": {
      "image/png": "[encoded data removed]",
      "text/plain": [
       "<Figure size 432x288 with 1 Axes>"
      ]
     },
     "metadata": {},
     "output_type": "display_data"
    }
   ],
   "source": [
    "f = plt.figure()\n",
    "x = learn.sched.plot_loss()\n",
    "plt.ylabel('Loss')\n",
    "plt.xlabel('Iterations')\n",
    "plt.show()"
   ]
  },
  {
   "cell_type": "code",
   "execution_count": 20,
   "metadata": {},
   "outputs": [
    {
     "data": {
      "image/png": "[encoded data removed]",
      "text/plain": [
       "<Figure size 432x288 with 1 Axes>"
      ]
     },
     "metadata": {},
     "output_type": "display_data"
    }
   ],
   "source": [
    "learn.sched.plot_lr()"
   ]
  },
  {
   "cell_type": "markdown",
   "metadata": {},
   "source": [
    "#### Run some more cylces - error & accuracy should continuously improve\n",
    "\n",
    "Note: cycle len = number of epochs per cycle"
   ]
  },
  {
   "cell_type": "code",
   "execution_count": null,
   "metadata": {
    "scrolled": true
   },
   "outputs": [],
   "source": [
    "%time learn.fit(1e-2, 2, cycle_len=5, cycle_mult=2, use_clr=(20,8, 0.95, 0.85))"
   ]
  },
  {
   "cell_type": "code",
   "execution_count": 21,
   "metadata": {
    "scrolled": true
   },
   "outputs": [
    {
     "data": {
      "application/vnd.jupyter.widget-view+json": {
       "model_id": "87e572f0528c4815b2cbfa0f6f5d1982",
       "version_major": 2,
       "version_minor": 0
      },
      "text/plain": [
       "HBox(children=(IntProgress(value=0, description='Epoch', max=40), HTML(value='')))"
      ]
     },
     "metadata": {},
     "output_type": "display_data"
    },
    {
     "name": "stdout",
     "output_type": "stream",
     "text": [
      "EPOCH 0 ---------------------------------------- STEP 8                                                                                                                                                              \n",
      "mean: [24.68571  5.8      8.25714  8.65714  3.08571 14.97143 17.91429 12.97143]\n",
      "stdev: [5.12011 2.86656 3.72131 3.9565  2.08904 4.35225 5.44779 4.76587]\n",
      "\n",
      "[WT]: 82.86%\n",
      "[mfb1KO]: 85.71%\n",
      "[mmm1KO]: 94.29%\n",
      "[mmr1KO]: 40.0%\n",
      "[num1KO]:  0.0%\n",
      "[H2O2]: 100.0%\n",
      "[dnm1KO]: 71.43%\n",
      "[fzo1KO]: 85.71%\n",
      "epoch      trn_loss   val_loss   accuracy   \n",
      "    0      0.667777   0.807664   0.725714  \n",
      "EPOCH 1 ---------------------------------------- STEP 9                                                                                                                                                              \n",
      "mean: [24.57143  5.82857  8.25714  8.62857  3.      15.02857 17.8     13.02857]\n",
      "stdev: [5.42105 2.41998 3.34103 3.19004 2.26779 5.14635 6.22346 3.82089]\n",
      "\n",
      "[WT]: 83.81%\n",
      "[mfb1KO]: 34.29%\n",
      "[mmm1KO]: 57.14%\n",
      "[mmr1KO]: 20.0%\n",
      "[num1KO]:  0.0%\n",
      "[H2O2]: 97.14%\n",
      "[dnm1KO]: 82.86%\n",
      "[fzo1KO]: 57.14%\n",
      "    1      0.660771   1.075763   0.6       \n",
      "EPOCH 2 ---------------------------------------- STEP 10                                                                                                                                                             \n",
      "mean: [24.57143  5.82857  8.22857  8.71429  2.97143 14.91429 17.82857 13.05714]\n",
      "stdev: [5.60758 2.94216 3.45655 3.31724 2.07689 4.8484  5.07929 5.05932]\n",
      "\n",
      "[WT]: 87.62%\n",
      "[mfb1KO]: 80.0%\n",
      "[mmm1KO]: 94.29%\n",
      "[mmr1KO]: 54.29%\n",
      "[num1KO]: 5.714%\n",
      "[H2O2]: 97.14%\n",
      "[dnm1KO]: 71.43%\n",
      "[fzo1KO]: 77.14%\n",
      "    2      0.656016   0.760674   0.742857  \n",
      "EPOCH 3 ---------------------------------------- STEP 11                                                                                                                                                             \n",
      "mean: [24.62857  5.85714  8.2      8.71429  2.97143 14.91429 17.85714 13.05714]\n",
      "stdev: [6.05728 3.36488 2.97417 3.57428 2.34808 4.77117 5.30845 4.69007]\n",
      "\n",
      "[WT]: 88.57%\n",
      "[mfb1KO]: 74.29%\n",
      "[mmm1KO]: 97.14%\n",
      "[mmr1KO]: 37.14%\n",
      "[num1KO]:  0.0%\n",
      "[H2O2]: 97.14%\n",
      "[dnm1KO]: 77.14%\n",
      "[fzo1KO]: 74.29%\n",
      "    3      0.640971   0.798016   0.722857  \n",
      "EPOCH 4 ---------------------------------------- STEP 12                                                                                                                                                             \n",
      "mean: [24.68571  5.74286  8.25714  8.62857  2.97143 15.      17.8     13.02857]\n",
      "stdev: [4.82713 2.68693 4.03798 3.3559  1.84369 4.22239 4.1528  4.58249]\n",
      "\n",
      "[WT]: 80.95%\n",
      "[mfb1KO]: 85.71%\n",
      "[mmm1KO]: 94.29%\n",
      "[mmr1KO]: 42.86%\n",
      "[num1KO]: 2.857%\n",
      "[H2O2]: 100.0%\n",
      "[dnm1KO]: 94.29%\n",
      "[fzo1KO]: 74.29%\n",
      "    4      0.628096   0.77411    0.737143  \n",
      "EPOCH 5 ---------------------------------------- STEP 13                                                                                                                                                             \n",
      "mean: [24.57143  5.8      8.22857  8.65714  3.02857 15.05714 17.8     13.14286]\n",
      "stdev: [5.39463 2.51623 3.84771 3.01371 1.85912 3.83177 3.84559 4.55533]\n",
      "\n",
      "[WT]: 90.48%\n",
      "[mfb1KO]: 77.14%\n",
      "[mmm1KO]: 97.14%\n",
      "[mmr1KO]: 28.57%\n",
      "[num1KO]:  0.0%\n",
      "[H2O2]: 100.0%\n",
      "[dnm1KO]: 77.14%\n",
      "[fzo1KO]: 62.86%\n",
      "    5      0.623714   0.77332    0.714286  \n",
      "EPOCH 6 ---------------------------------------- STEP 14                                                                                                                                                             \n",
      "mean: [24.62857  5.8      8.22857  8.74286  3.02857 15.      17.91429 13.08571]\n",
      "stdev: [4.75146 2.8365  3.43998 4.14965 2.31129 4.45934 5.1734  4.13605]\n",
      "\n",
      "[WT]: 83.81%\n",
      "[mfb1KO]: 88.57%\n",
      "[mmm1KO]: 91.43%\n",
      "[mmr1KO]: 37.14%\n",
      "[num1KO]: 8.571%\n",
      "[H2O2]: 100.0%\n",
      "[dnm1KO]: 85.71%\n",
      "[fzo1KO]: 80.0%\n",
      "    6      0.614856   0.717682   0.742857  \n",
      "EPOCH 7 ---------------------------------------- STEP 15                                                                                                                                                             \n",
      "mean: [24.68571  5.82857  8.17143  8.62857  3.      15.      17.82857 13.11429]\n",
      "stdev: [5.76577 2.65637 3.23804 4.40185 2.0702  5.49805 5.9689  4.26126]\n",
      "\n",
      "[WT]: 84.76%\n",
      "[mfb1KO]: 97.14%\n",
      "[mmm1KO]: 94.29%\n",
      "[mmr1KO]: 40.0%\n",
      "[num1KO]: 8.571%\n",
      "[H2O2]: 100.0%\n",
      "[dnm1KO]: 85.71%\n",
      "[fzo1KO]: 77.14%\n",
      "    7      0.601491   0.696094   0.757143  \n",
      "EPOCH 8 ---------------------------------------- STEP 16                                                                                                                                                             \n",
      "mean: [24.62857  5.71429  8.2      8.71429  3.      15.      17.8     13.05714]\n",
      "stdev: [5.1663  3.28261 3.35346 4.4694  2.30527 5.73212 3.66294 4.38792]\n",
      "\n",
      "[WT]: 84.76%\n",
      "[mfb1KO]: 88.57%\n",
      "[mmm1KO]: 91.43%\n",
      "[mmr1KO]: 45.71%\n",
      "[num1KO]: 14.29%\n",
      "[H2O2]: 100.0%\n",
      "[dnm1KO]: 80.0%\n",
      "[fzo1KO]: 80.0%\n",
      "    8      0.599793   0.707747   0.754286  \n",
      "EPOCH 9 ---------------------------------------- STEP 17                                                                                                                                                             \n",
      "mean: [24.57143  5.82857  8.31429  8.71429  2.97143 15.05714 17.8     13.11429]\n",
      "stdev: [4.33778 3.47633 3.8897  4.06076 2.40815 4.60399 5.71614 4.18686]\n",
      "\n",
      "[WT]: 82.86%\n",
      "[mfb1KO]: 91.43%\n",
      "[mmm1KO]: 91.43%\n",
      "[mmr1KO]: 25.71%\n",
      "[num1KO]: 17.14%\n",
      "[H2O2]: 97.14%\n",
      "[dnm1KO]: 85.71%\n",
      "[fzo1KO]: 74.29%\n",
      "    9      0.589246   0.77943    0.731429  \n",
      "EPOCH 10 ---------------------------------------- STEP 18                                                                                                                                                            \n",
      "mean: [24.54286  5.8      8.17143  8.71429  2.97143 15.      17.8     13.05714]\n",
      "stdev: [4.50614 3.19643 2.82323 3.40228 1.93444 4.71472 5.1923  4.26241]\n",
      "\n",
      "[WT]: 86.67%\n",
      "[mfb1KO]: 91.43%\n",
      "[mmm1KO]: 91.43%\n",
      "[mmr1KO]: 14.29%\n",
      "[num1KO]: 17.14%\n",
      "[H2O2]: 97.14%\n",
      "[dnm1KO]: 85.71%\n",
      "[fzo1KO]: 74.29%\n",
      "    10     0.577592   0.713646   0.731429  \n",
      "EPOCH 11 ---------------------------------------- STEP 19                                                                                                                                                            \n",
      "mean: [24.54286  5.8      8.25714  8.68571  2.94286 15.      17.82857 13.02857]\n",
      "stdev: [6.35764 2.81628 3.35808 3.84538 2.29213 4.75695 5.14079 3.18466]\n",
      "\n",
      "[WT]: 82.86%\n",
      "[mfb1KO]: 91.43%\n",
      "[mmm1KO]: 91.43%\n",
      "[mmr1KO]: 42.86%\n",
      "[num1KO]: 11.43%\n",
      "[H2O2]: 100.0%\n",
      "[dnm1KO]: 85.71%\n",
      "[fzo1KO]: 82.86%\n",
      "    11     0.564633   0.715327   0.754286  \n",
      "EPOCH 12 ---------------------------------------- STEP 20                                                                                                                                                            \n",
      "mean: [24.57143  5.74286  8.17143  8.68571  3.05714 15.02857 17.91429 13.08571]\n",
      "stdev: [3.79688 2.23406 3.5656  3.70152 1.97039 4.05312 4.53791 3.64395]\n",
      "\n",
      "[WT]: 87.62%\n",
      "[mfb1KO]: 85.71%\n",
      "[mmm1KO]: 94.29%\n",
      "[mmr1KO]: 51.43%\n",
      "[num1KO]: 8.571%\n",
      "[H2O2]: 100.0%\n",
      "[dnm1KO]: 77.14%\n",
      "[fzo1KO]: 80.0%\n",
      "    12     0.559707   0.703483   0.76      \n",
      "EPOCH 13 ---------------------------------------- STEP 21                                                                                                                                                            \n",
      "mean: [24.68571  5.77143  8.22857  8.68571  3.      15.08571 17.82857 13.05714]\n",
      "stdev: [4.13191 2.64127 3.22566 2.9739  1.67332 4.05231 4.43677 5.23146]\n",
      "\n",
      "[WT]: 87.62%\n",
      "[mfb1KO]: 97.14%\n",
      "[mmm1KO]: 94.29%\n",
      "[mmr1KO]: 34.29%\n",
      "[num1KO]: 11.43%\n",
      "[H2O2]: 100.0%\n",
      "[dnm1KO]: 82.86%\n",
      "[fzo1KO]: 82.86%\n",
      "    13     0.557413   0.653681   0.765714  \n",
      "EPOCH 14 ---------------------------------------- STEP 22                                                                                                                                                            \n",
      "mean: [24.54286  5.91429  8.2      8.74286  2.97143 14.91429 17.8     13.08571]\n",
      "stdev: [4.39053 3.90876 3.63947 3.7595  1.84369 4.66826 4.95004 4.0169 ]\n",
      "\n",
      "[WT]: 90.48%\n",
      "[mfb1KO]: 91.43%\n",
      "[mmm1KO]: 94.29%\n",
      "[mmr1KO]: 45.71%\n",
      "[num1KO]: 17.14%\n",
      "[H2O2]: 100.0%\n",
      "[dnm1KO]: 77.14%\n",
      "[fzo1KO]: 74.29%\n",
      "    14     0.560085   0.685294   0.771429  \n"
     ]
    },
    {
     "name": "stdout",
     "output_type": "stream",
     "text": [
      "EPOCH 15 ---------------------------------------- STEP 23                                                                                                                                                            \n",
      "mean: [24.57143  5.77143  8.25714  8.62857  2.97143 15.      17.94286 13.14286]\n",
      "stdev: [6.12389 2.69482 3.40036 2.99605 2.37229 4.64758 3.94203 3.41545]\n",
      "\n",
      "[WT]: 84.76%\n",
      "[mfb1KO]: 88.57%\n",
      "[mmm1KO]: 97.14%\n",
      "[mmr1KO]: 45.71%\n",
      "[num1KO]: 20.0%\n",
      "[H2O2]: 100.0%\n",
      "[dnm1KO]: 82.86%\n",
      "[fzo1KO]: 82.86%\n",
      "    15     0.553294   0.652906   0.771429  \n",
      "EPOCH 16 ---------------------------------------- STEP 24                                                                                                                                                            \n",
      "mean: [24.62857  5.74286  8.28571  8.6      2.94286 14.97143 17.85714 13.05714]\n",
      "stdev: [5.77228 2.88189 3.829   3.83369 2.06941 4.18491 4.16888 3.72592]\n",
      "\n",
      "[WT]: 84.76%\n",
      "[mfb1KO]: 97.14%\n",
      "[mmm1KO]: 91.43%\n",
      "[mmr1KO]: 48.57%\n",
      "[num1KO]: 22.86%\n",
      "[H2O2]: 100.0%\n",
      "[dnm1KO]: 82.86%\n",
      "[fzo1KO]: 77.14%\n",
      "    16     0.55092    0.663608   0.774286  \n",
      "EPOCH 17 ---------------------------------------- STEP 25                                                                                                                                                            \n",
      "mean: [24.65714  5.82857  8.22857  8.74286  3.02857 15.08571 17.77143 13.     ]\n",
      "stdev: [5.14333 2.96152 3.06208 3.9953  1.85912 4.31854 6.38787 3.71868]\n",
      "\n",
      "[WT]: 82.86%\n",
      "[mfb1KO]: 100.0%\n",
      "[mmm1KO]: 94.29%\n",
      "[mmr1KO]: 51.43%\n",
      "[num1KO]: 11.43%\n",
      "[H2O2]: 100.0%\n",
      "[dnm1KO]: 85.71%\n",
      "[fzo1KO]: 71.43%\n",
      "    17     0.548176   0.699994   0.762857  \n",
      "EPOCH 18 ---------------------------------------- STEP 26                                                                                                                                                            \n",
      "mean: [24.65714  5.71429  8.28571  8.62857  3.      14.97143 17.91429 13.     ]\n",
      "stdev: [4.67176 2.83419 3.29997 4.02908 2.11119 3.70703 4.80102 4.0918 ]\n",
      "\n",
      "[WT]: 81.9%\n",
      "[mfb1KO]: 71.43%\n",
      "[mmm1KO]: 91.43%\n",
      "[mmr1KO]: 42.86%\n",
      "[num1KO]: 20.0%\n",
      "[H2O2]: 100.0%\n",
      "[dnm1KO]: 88.57%\n",
      "[fzo1KO]: 82.86%\n",
      "    18     0.527815   0.718279   0.742857  \n",
      "EPOCH 19 ---------------------------------------- STEP 27                                                                                                                                                            \n",
      "mean: [24.54286  5.85714  8.14286  8.62857  2.97143 15.02857 17.8     13.02857]\n",
      "stdev: [5.36839 2.75829 2.77893 3.4066  2.86342 5.88696 3.96268 4.68118]\n",
      "\n",
      "[WT]: 89.52%\n",
      "[mfb1KO]: 85.71%\n",
      "[mmm1KO]: 94.29%\n",
      "[mmr1KO]: 22.86%\n",
      "[num1KO]: 14.29%\n",
      "[H2O2]: 97.14%\n",
      "[dnm1KO]: 80.0%\n",
      "[fzo1KO]: 71.43%\n",
      "    19     0.534612   0.716752   0.734286  \n",
      "EPOCH 20 ---------------------------------------- STEP 28                                                                                                                                                            \n",
      "mean: [24.57143  5.77143  8.2      8.68571  2.94286 15.05714 17.88571 13.14286]\n",
      "stdev: [5.30921 3.33026 3.46245 3.67051 1.73934 3.71055 3.62351 4.62381]\n",
      "\n",
      "[WT]: 83.81%\n",
      "[mfb1KO]: 85.71%\n",
      "[mmm1KO]: 94.29%\n",
      "[mmr1KO]: 31.43%\n",
      "[num1KO]: 14.29%\n",
      "[H2O2]: 100.0%\n",
      "[dnm1KO]: 94.29%\n",
      "[fzo1KO]: 74.29%\n",
      "    20     0.534887   0.732057   0.745714  \n",
      "EPOCH 21 ---------------------------------------- STEP 29                                                                                                                                                            \n",
      "mean: [24.54286  5.82857  8.17143  8.74286  2.97143 15.      17.91429 13.14286]\n",
      "stdev: [6.30801 2.81309 3.15763 3.49974 2.52401 4.37526 4.31854 3.53062]\n",
      "\n",
      "[WT]: 83.81%\n",
      "[mfb1KO]: 100.0%\n",
      "[mmm1KO]: 94.29%\n",
      "[mmr1KO]: 60.0%\n",
      "[num1KO]: 17.14%\n",
      "[H2O2]: 100.0%\n",
      "[dnm1KO]: 80.0%\n",
      "[fzo1KO]: 74.29%\n",
      "    21     0.528218   0.65155    0.777143  \n",
      "EPOCH 22 ---------------------------------------- STEP 30                                                                                                                                                            \n",
      "mean: [24.62857  5.77143  8.2      8.62857  2.97143 15.      17.8     12.97143]\n",
      "stdev: [5.63198 2.7054  3.68627 3.9863  2.11776 4.38178 5.87878 4.15063]\n",
      "\n",
      "[WT]: 79.05%\n",
      "[mfb1KO]: 85.71%\n",
      "[mmm1KO]: 91.43%\n",
      "[mmr1KO]: 40.0%\n",
      "[num1KO]: 25.71%\n",
      "[H2O2]: 100.0%\n",
      "[dnm1KO]: 94.29%\n",
      "[fzo1KO]: 82.86%\n",
      "    22     0.528268   0.701992   0.757143  \n",
      "EPOCH 23 ---------------------------------------- STEP 31                                                                                                                                                            \n",
      "mean: [24.62857  5.77143  8.17143  8.62857  2.94286 15.      17.8     13.05714]\n",
      "stdev: [6.28416 2.82929 4.3391  3.37288 1.9264  3.63318 4.79762 5.07624]\n",
      "\n",
      "[WT]: 84.76%\n",
      "[mfb1KO]: 88.57%\n",
      "[mmm1KO]: 91.43%\n",
      "[mmr1KO]: 48.57%\n",
      "[num1KO]: 20.0%\n",
      "[H2O2]: 100.0%\n",
      "[dnm1KO]: 94.29%\n",
      "[fzo1KO]: 68.57%\n",
      "    23     0.531493   0.695138   0.765714  \n",
      "EPOCH 24 ---------------------------------------- STEP 32                                                                                                                                                            \n",
      "mean: [24.6      5.74286  8.14286  8.62857  3.      15.05714 17.91429 13.14286]\n",
      "stdev: [4.88847 2.4651  4.17573 3.86993 2.02837 4.97963 5.26645 3.92896]\n",
      "\n",
      "[WT]: 80.0%\n",
      "[mfb1KO]: 88.57%\n",
      "[mmm1KO]: 94.29%\n",
      "[mmr1KO]: 62.86%\n",
      "[num1KO]: 8.571%\n",
      "[H2O2]: 100.0%\n",
      "[dnm1KO]: 80.0%\n",
      "[fzo1KO]: 80.0%\n",
      "    24     0.519643   0.699453   0.754286  \n",
      "EPOCH 25 ---------------------------------------- STEP 33                                                                                                                                                            \n",
      "mean: [24.57143  5.74286  8.22857  8.65714  2.94286 15.      17.77143 13.08571]\n",
      "stdev: [6.27141 2.38259 2.87934 3.71055 1.83526 4.98569 6.21558 4.12914]\n",
      "\n",
      "[WT]: 87.62%\n",
      "[mfb1KO]: 74.29%\n",
      "[mmm1KO]: 94.29%\n",
      "[mmr1KO]: 17.14%\n",
      "[num1KO]: 8.571%\n",
      "[H2O2]: 100.0%\n",
      "[dnm1KO]: 88.57%\n",
      "[fzo1KO]: 62.86%\n",
      "    25     0.527434   0.838076   0.708571  \n",
      "EPOCH 26 ---------------------------------------- STEP 34                                                                                                                                                            \n",
      "mean: [24.48571  5.85714  8.2      8.68571  2.97143 15.02857 17.82857 13.14286]\n",
      "stdev: [5.64862 2.84999 3.80075 3.42071 2.37229 3.5334  5.07366 4.42165]\n",
      "\n",
      "[WT]: 81.9%\n",
      "[mfb1KO]: 91.43%\n",
      "[mmm1KO]: 94.29%\n",
      "[mmr1KO]: 51.43%\n",
      "[num1KO]: 28.57%\n",
      "[H2O2]: 100.0%\n",
      "[dnm1KO]: 88.57%\n",
      "[fzo1KO]: 82.86%\n",
      "    26     0.525474   0.651622   0.782857  \n",
      "EPOCH 27 ---------------------------------------- STEP 35                                                                                                                                                            \n",
      "mean: [24.68571  5.85714  8.34286  8.62857  2.94286 15.05714 17.82857 13.02857]\n",
      "stdev: [5.06964 2.75829 3.86887 3.27838 2.34146 5.71686 4.98848 4.32591]\n",
      "\n",
      "[WT]: 81.9%\n",
      "[mfb1KO]: 74.29%\n",
      "[mmm1KO]: 85.71%\n",
      "[mmr1KO]: 42.86%\n",
      "[num1KO]: 20.0%\n",
      "[H2O2]: 100.0%\n",
      "[dnm1KO]: 85.71%\n",
      "[fzo1KO]: 82.86%\n",
      "    27     0.519489   0.700663   0.737143  \n",
      "EPOCH 28 ---------------------------------------- STEP 36                                                                                                                                                            \n",
      "mean: [24.65714  5.82857  8.22857  8.6      3.      15.02857 17.88571 13.08571]\n",
      "stdev: [4.85765 2.75147 3.89935 2.64251 2.41424 4.12301 5.56402 3.5966 ]\n",
      "\n",
      "[WT]: 87.62%\n",
      "[mfb1KO]: 94.29%\n",
      "[mmm1KO]: 97.14%\n",
      "[mmr1KO]: 51.43%\n",
      "[num1KO]: 28.57%\n",
      "[H2O2]: 100.0%\n",
      "[dnm1KO]: 85.71%\n",
      "[fzo1KO]: 71.43%\n",
      "    28     0.512098   0.631569   0.791429  \n",
      "EPOCH 29 ---------------------------------------- STEP 37                                                                                                                                                            \n",
      "mean: [24.6      5.74286  8.22857  8.62857  3.02857 15.      17.91429 13.11429]\n",
      "stdev: [3.70482 2.81164 3.00557 3.3644  2.13121 4.22915 5.52072 3.86021]\n",
      "\n",
      "[WT]: 81.9%\n",
      "[mfb1KO]: 97.14%\n",
      "[mmm1KO]: 91.43%\n",
      "[mmr1KO]: 65.71%\n",
      "[num1KO]: 25.71%\n",
      "[H2O2]: 100.0%\n",
      "[dnm1KO]: 80.0%\n",
      "[fzo1KO]: 80.0%\n",
      "    29     0.500723   0.653174   0.785714  \n"
     ]
    },
    {
     "name": "stdout",
     "output_type": "stream",
     "text": [
      "EPOCH 30 ---------------------------------------- STEP 38                                                                                                                                                            \n",
      "mean: [24.6      5.71429  8.14286  8.57143  2.94286 14.94286 17.94286 13.14286]\n",
      "stdev: [5.94354 3.00068 3.55482 3.49927 2.05555 4.45897 5.17103 3.90708]\n",
      "\n",
      "[WT]: 83.81%\n",
      "[mfb1KO]: 85.71%\n",
      "[mmm1KO]: 94.29%\n",
      "[mmr1KO]: 71.43%\n",
      "[num1KO]: 17.14%\n",
      "[H2O2]: 100.0%\n",
      "[dnm1KO]: 74.29%\n",
      "[fzo1KO]: 82.86%\n",
      "    30     0.491652   0.660817   0.777143  \n",
      "EPOCH 31 ---------------------------------------- STEP 39                                                                                                                                                            \n",
      "mean: [24.6      5.82857  8.2      8.62857  2.97143 15.08571 17.8     13.11429]\n",
      "stdev: [5.34095 2.33588 2.98377 3.01506 2.0352  4.3515  4.04122 3.99121]\n",
      "\n",
      "[WT]: 79.05%\n",
      "[mfb1KO]: 97.14%\n",
      "[mmm1KO]: 94.29%\n",
      "[mmr1KO]: 62.86%\n",
      "[num1KO]: 20.0%\n",
      "[H2O2]: 100.0%\n",
      "[dnm1KO]: 85.71%\n",
      "[fzo1KO]: 80.0%\n",
      "    31     0.48585    0.65577    0.777143  \n",
      "EPOCH 32 ---------------------------------------- STEP 40                                                                                                                                                            \n",
      "mean: [24.6      5.8      8.25714  8.68571  2.94286 15.08571 17.82857 13.02857]\n",
      "stdev: [5.62748 2.97417 3.57246 3.16021 2.09684 3.75212 4.49435 5.6694 ]\n",
      "\n",
      "[WT]: 86.67%\n",
      "[mfb1KO]: 85.71%\n",
      "[mmm1KO]: 91.43%\n",
      "[mmr1KO]: 42.86%\n",
      "[num1KO]: 14.29%\n",
      "[H2O2]: 100.0%\n",
      "[dnm1KO]: 80.0%\n",
      "[fzo1KO]: 80.0%\n",
      "    32     0.478836   0.65656    0.754286  \n",
      "EPOCH 33 ---------------------------------------- STEP 41                                                                                                                                                            \n",
      "mean: [24.62857  5.8      8.25714  8.65714  2.85714 15.05714 17.8     13.08571]\n",
      "stdev: [4.75746 2.60549 3.28062 4.01385 1.94412 3.7943  5.18129 4.40371]\n",
      "\n",
      "[WT]: 84.76%\n",
      "[mfb1KO]: 94.29%\n",
      "[mmm1KO]: 97.14%\n",
      "[mmr1KO]: 54.29%\n",
      "[num1KO]: 25.71%\n",
      "[H2O2]: 100.0%\n",
      "[dnm1KO]: 91.43%\n",
      "[fzo1KO]: 80.0%\n",
      "    33     0.467673   0.614832   0.797143  \n",
      "EPOCH 34 ---------------------------------------- STEP 42                                                                                                                                                            \n",
      "mean: [24.51429  5.8      8.2      8.65714  2.88571 14.97143 17.97143 13.02857]\n",
      "stdev: [4.60665 2.61643 3.05941 3.35468 1.95333 4.42387 5.41155 3.75299]\n",
      "\n",
      "[WT]: 83.81%\n",
      "[mfb1KO]: 94.29%\n",
      "[mmm1KO]: 97.14%\n",
      "[mmr1KO]: 62.86%\n",
      "[num1KO]: 22.86%\n",
      "[H2O2]: 100.0%\n",
      "[dnm1KO]: 80.0%\n",
      "[fzo1KO]: 85.71%\n",
      "    34     0.470043   0.591456   0.794286  \n",
      "EPOCH 35 ---------------------------------------- STEP 43                                                                                                                                                            \n",
      "mean: [24.57143  5.8      8.17143  8.65714  3.      14.91429 17.71429 13.02857]\n",
      "stdev: [4.65548 2.65975 2.87338 3.47187 1.89737 4.51898 5.39614 3.87288]\n",
      "\n",
      "[WT]: 80.95%\n",
      "[mfb1KO]: 82.86%\n",
      "[mmm1KO]: 94.29%\n",
      "[mmr1KO]: 48.57%\n",
      "[num1KO]: 8.571%\n",
      "[H2O2]: 100.0%\n",
      "[dnm1KO]: 74.29%\n",
      "[fzo1KO]: 82.86%\n",
      "    35     0.469752   0.731719   0.734286  \n",
      "EPOCH 36 ---------------------------------------- STEP 44                                                                                                                                                            \n",
      "mean: [24.62857  5.8      8.22857  8.6      2.91429 15.11429 17.88571 13.05714]\n",
      "stdev: [5.21035 2.97417 3.92855 3.61109 2.0053  3.71692 4.82121 4.86353]\n",
      "\n",
      "[WT]: 87.62%\n",
      "[mfb1KO]: 97.14%\n",
      "[mmm1KO]: 97.14%\n",
      "[mmr1KO]: 54.29%\n",
      "[num1KO]: 31.43%\n",
      "[H2O2]: 100.0%\n",
      "[dnm1KO]: 80.0%\n",
      "[fzo1KO]: 74.29%\n",
      "    36     0.46227    0.57896    0.797143  \n",
      "EPOCH 37 ---------------------------------------- STEP 45                                                                                                                                                            \n",
      "mean: [24.62857  5.85714  8.31429  8.62857  2.94286 15.      17.88571 13.05714]\n",
      "stdev: [5.81174 3.58682 3.63924 2.56443 2.32923 4.28952 5.43413 4.16751]\n",
      "\n",
      "[WT]: 80.0%\n",
      "[mfb1KO]: 100.0%\n",
      "[mmm1KO]: 94.29%\n",
      "[mmr1KO]: 62.86%\n",
      "[num1KO]: 17.14%\n",
      "[H2O2]: 100.0%\n",
      "[dnm1KO]: 85.71%\n",
      "[fzo1KO]: 82.86%\n",
      "    37     0.460201   0.62749    0.782857  \n",
      "EPOCH 38 ---------------------------------------- STEP 46                                                                                                                                                            \n",
      "mean: [24.71429  5.82857  8.2      8.71429  2.91429 15.05714 17.88571 13.     ]\n",
      "stdev: [4.89648 2.75147 3.42094 4.15122 1.96209 4.08442 6.39987 3.69556]\n",
      "\n",
      "[WT]: 67.62%\n",
      "[mfb1KO]: 91.43%\n",
      "[mmm1KO]: 94.29%\n",
      "[mmr1KO]: 65.71%\n",
      "[num1KO]: 20.0%\n",
      "[H2O2]: 100.0%\n",
      "[dnm1KO]: 88.57%\n",
      "[fzo1KO]: 82.86%\n",
      "    38     0.458339   0.694798   0.745714  \n",
      "EPOCH 39 ---------------------------------------- STEP 47                                                                                                                                                            \n",
      "mean: [24.62857  5.68571  8.28571  8.62857  3.05714 14.97143 17.82857 13.17143]\n",
      "stdev: [4.31003 3.39556 3.66116 3.92855 2.17706 3.85068 4.38495 3.85068]\n",
      "\n",
      "[WT]: 83.81%\n",
      "[mfb1KO]: 100.0%\n",
      "[mmm1KO]: 91.43%\n",
      "[mmr1KO]: 62.86%\n",
      "[num1KO]: 25.71%\n",
      "[H2O2]: 100.0%\n",
      "[dnm1KO]: 88.57%\n",
      "[fzo1KO]: 77.14%\n",
      "    39     0.450393   0.624316   0.797143  \n",
      "\n",
      "Wall time: 16min 25s\n"
     ]
    },
    {
     "data": {
      "text/plain": [
       "[array([0.62432]), 0.797142858164651]"
      ]
     },
     "execution_count": 21,
     "metadata": {},
     "output_type": "execute_result"
    }
   ],
   "source": [
    "%time learn.fit(1e-3, 2, wds=wd, cycle_len=20, use_clr=(20,8, 0.95, 0.85))"
   ]
  },
  {
   "cell_type": "code",
   "execution_count": 22,
   "metadata": {},
   "outputs": [
    {
     "data": {
      "image/png": "[encoded data removed]",
      "text/plain": [
       "<Figure size 432x288 with 1 Axes>"
      ]
     },
     "metadata": {},
     "output_type": "display_data"
    }
   ],
   "source": [
    "f = plt.figure()\n",
    "x = learn.sched.plot_loss()\n",
    "plt.ylabel('Loss')\n",
    "plt.xlabel('Iterations')\n",
    "plt.show()"
   ]
  },
  {
   "cell_type": "code",
   "execution_count": 23,
   "metadata": {},
   "outputs": [
    {
     "data": {
      "image/png": "[encoded data removed]",
      "text/plain": [
       "<Figure size 864x288 with 2 Axes>"
      ]
     },
     "metadata": {},
     "output_type": "display_data"
    }
   ],
   "source": [
    "learn.sched.plot_lr()"
   ]
  },
  {
   "cell_type": "code",
   "execution_count": null,
   "metadata": {
    "scrolled": true
   },
   "outputs": [],
   "source": [
    "%time learn.fit(1e-3, 10, wds=wd, cycle_len=2, use_clr=(20,8, 0.95, 0.85), best_save_name='YNet_Res_v10')"
   ]
  },
  {
   "cell_type": "code",
   "execution_count": 24,
   "metadata": {
    "scrolled": true
   },
   "outputs": [
    {
     "data": {
      "application/vnd.jupyter.widget-view+json": {
       "model_id": "2b86de6686d745548bb4707d42acab35",
       "version_major": 2,
       "version_minor": 0
      },
      "text/plain": [
       "HBox(children=(IntProgress(value=0, description='Epoch', max=20), HTML(value='')))"
      ]
     },
     "metadata": {},
     "output_type": "display_data"
    },
    {
     "name": "stdout",
     "output_type": "stream",
     "text": [
      "EPOCH 0 ---------------------------------------- STEP 48                                                                                                                                                             \n",
      "mean: [24.6      5.82857  8.31429  8.6      2.97143 15.02857 17.88571 13.05714]\n",
      "stdev: [5.36763 3.49273 3.83794 4.57446 1.97825 5.03976 4.98438 4.06338]\n",
      "\n",
      "[WT]: 91.43%\n",
      "[mfb1KO]: 82.86%\n",
      "[mmm1KO]: 85.71%\n",
      "[mmr1KO]: 42.86%\n",
      "[num1KO]: 22.86%\n",
      "[H2O2]: 100.0%\n",
      "[dnm1KO]: 80.0%\n",
      "[fzo1KO]: 71.43%\n",
      "epoch      trn_loss   val_loss   accuracy   \n",
      "    0      0.469879   0.663187   0.76      \n",
      "EPOCH 1 ---------------------------------------- STEP 49                                                                                                                                                             \n",
      "mean: [24.57143  5.71429  8.2      8.62857  2.94286 15.      17.85714 13.     ]\n",
      "stdev: [5.39992 3.31724 3.00286 3.03396 1.9264  4.86973 5.15554 4.55443]\n",
      "\n",
      "[WT]: 84.76%\n",
      "[mfb1KO]: 82.86%\n",
      "[mmm1KO]: 97.14%\n",
      "[mmr1KO]: 51.43%\n",
      "[num1KO]: 31.43%\n",
      "[H2O2]: 100.0%\n",
      "[dnm1KO]: 85.71%\n",
      "[fzo1KO]: 85.71%\n",
      "WARNING: there is already a saved model at this path\n",
      "input an addition to the save path or leave blank to abort\n",
      "prompt: 1\n",
      "    1      0.45938    0.584119   0.788571  \n",
      "EPOCH 2 ---------------------------------------- STEP 50                                                                                                                                                             \n",
      "mean: [24.62857  5.8      8.28571  8.65714  2.97143 15.      17.85714 13.08571]\n",
      "stdev: [4.24995 2.94521 3.14934 3.67962 2.10422 4.72077 4.17573 5.34721]\n",
      "\n",
      "[WT]: 87.62%\n",
      "[mfb1KO]: 94.29%\n",
      "[mmm1KO]: 97.14%\n",
      "[mmr1KO]: 65.71%\n",
      "[num1KO]: 34.29%\n",
      "[H2O2]: 100.0%\n",
      "[dnm1KO]: 82.86%\n",
      "[fzo1KO]: 77.14%\n",
      "WARNING: there is already a saved model at this path\n",
      "input an addition to the save path or leave blank to abort\n",
      "prompt: 2\n",
      "    2      0.451852   0.597341   0.814286  \n",
      "EPOCH 3 ---------------------------------------- STEP 51                                                                                                                                                             \n",
      "mean: [24.6      5.74286  8.17143  8.65714  3.      14.97143 17.82857 13.11429]\n",
      "stdev: [4.90597 2.66558 3.29923 3.50463 2.22967 3.66829 4.84907 4.86252]\n",
      "\n",
      "[WT]: 91.43%\n",
      "[mfb1KO]: 62.86%\n",
      "[mmm1KO]: 97.14%\n",
      "[mmr1KO]: 40.0%\n",
      "[num1KO]: 20.0%\n",
      "[H2O2]: 100.0%\n",
      "[dnm1KO]: 82.86%\n",
      "[fzo1KO]: 77.14%\n",
      "    3      0.458997   0.692031   0.754286  \n",
      "EPOCH 4 ---------------------------------------- STEP 52                                                                                                                                                             \n",
      "mean: [24.62857  5.77143  8.25714  8.82857  2.91429 15.02857 17.85714 13.02857]\n",
      "stdev: [5.16076 2.7577  3.82729 3.83581 2.08904 3.15763 4.94624 4.7116 ]\n",
      "\n",
      "[WT]: 76.19%\n",
      "[mfb1KO]: 85.71%\n",
      "[mmm1KO]: 97.14%\n",
      "[mmr1KO]: 48.57%\n",
      "[num1KO]: 25.71%\n",
      "[H2O2]: 100.0%\n",
      "[dnm1KO]: 82.86%\n",
      "[fzo1KO]: 80.0%\n",
      "    4      0.455466   0.678656   0.748571  \n",
      "EPOCH 5 ---------------------------------------- STEP 53                                                                                                                                                             \n",
      "mean: [24.65714  5.77143  8.2      8.77143  3.      15.05714 17.82857 13.     ]\n",
      "stdev: [5.08748 3.49764 3.80826 3.89201 2.26779 4.45256 4.58249 5.33988]\n",
      "\n",
      "[WT]: 80.95%\n",
      "[mfb1KO]: 94.29%\n",
      "[mmm1KO]: 97.14%\n",
      "[mmr1KO]: 60.0%\n",
      "[num1KO]: 17.14%\n",
      "[H2O2]: 100.0%\n",
      "[dnm1KO]: 85.71%\n",
      "[fzo1KO]: 82.86%\n",
      "    5      0.451846   0.652093   0.78      \n",
      "EPOCH 6 ---------------------------------------- STEP 54                                                                                                                                                             \n",
      "mean: [24.6      5.82857  8.22857  8.65714  2.94286 15.      17.88571 13.14286]\n",
      "stdev: [4.67944 2.87338 3.72701 3.07007 2.30457 4.06378 5.24144 3.64999]\n",
      "\n",
      "[WT]: 84.76%\n",
      "[mfb1KO]: 88.57%\n",
      "[mmm1KO]: 97.14%\n",
      "[mmr1KO]: 45.71%\n",
      "[num1KO]: 25.71%\n",
      "[H2O2]: 100.0%\n",
      "[dnm1KO]: 88.57%\n",
      "[fzo1KO]: 82.86%\n",
      "    6      0.445139   0.639985   0.782857  \n",
      "EPOCH 7 ---------------------------------------- STEP 55                                                                                                                                                             \n",
      "mean: [24.71429  5.8      8.22857  8.68571  2.97143 15.05714 17.82857 13.08571]\n",
      "stdev: [6.09248 2.64899 3.60227 3.29304 2.02111 5.33422 4.32591 4.48726]\n",
      "\n",
      "[WT]: 77.14%\n",
      "[mfb1KO]: 88.57%\n",
      "[mmm1KO]: 94.29%\n",
      "[mmr1KO]: 51.43%\n",
      "[num1KO]: 22.86%\n",
      "[H2O2]: 100.0%\n",
      "[dnm1KO]: 85.71%\n",
      "[fzo1KO]: 77.14%\n",
      "    7      0.448058   0.663028   0.751429  \n",
      "EPOCH 8 ---------------------------------------- STEP 56                                                                                                                                                             \n",
      "mean: [24.62857  5.77143  8.25714  8.65714  2.97143 14.94286 17.8     13.05714]\n",
      "stdev: [6.22018 3.24333 3.64373 3.78677 2.02111 4.70224 4.97307 4.0914 ]\n",
      "\n",
      "[WT]: 81.9%\n",
      "[mfb1KO]: 80.0%\n",
      "[mmm1KO]: 85.71%\n",
      "[mmr1KO]: 25.71%\n",
      "[num1KO]: 28.57%\n",
      "[H2O2]: 100.0%\n",
      "[dnm1KO]: 85.71%\n",
      "[fzo1KO]: 82.86%\n",
      "    8      0.446466   0.692128   0.734286  \n",
      "EPOCH 9 ---------------------------------------- STEP 57                                                                                                                                                             \n",
      "mean: [24.54286  5.77143  8.2      8.62857  2.97143 15.02857 17.97143 13.08571]\n",
      "stdev: [5.21724 3.27838 3.20535 3.4066  1.99264 4.7358  4.63826 4.11528]\n",
      "\n",
      "[WT]: 76.19%\n",
      "[mfb1KO]: 100.0%\n",
      "[mmm1KO]: 97.14%\n",
      "[mmr1KO]: 57.14%\n",
      "[num1KO]: 28.57%\n",
      "[H2O2]: 100.0%\n",
      "[dnm1KO]: 91.43%\n",
      "[fzo1KO]: 80.0%\n",
      "    9      0.435343   0.608633   0.782857  \n",
      "EPOCH 10 ---------------------------------------- STEP 58                                                                                                                                                            \n",
      "mean: [24.65714  5.8      8.2      8.65714  2.97143 15.      17.77143 13.02857]\n",
      "stdev: [5.01963 2.32748 3.83815 2.90756 2.0352  4.74492 4.46629 4.09519]\n",
      "\n",
      "[WT]: 78.1%\n",
      "[mfb1KO]: 100.0%\n",
      "[mmm1KO]: 97.14%\n",
      "[mmr1KO]: 68.57%\n",
      "[num1KO]: 34.29%\n",
      "[H2O2]: 100.0%\n",
      "[dnm1KO]: 85.71%\n",
      "[fzo1KO]: 77.14%\n",
      "    10     0.44304    0.573378   0.797143  \n",
      "EPOCH 11 ---------------------------------------- STEP 59                                                                                                                                                            \n",
      "mean: [24.68571  5.82857  8.17143  8.57143  2.94286 14.94286 17.85714 13.05714]\n",
      "stdev: [5.76577 2.51266 3.89495 3.61177 1.88138 3.99959 4.79966 4.41389]\n",
      "\n",
      "[WT]: 77.14%\n",
      "[mfb1KO]: 94.29%\n",
      "[mmm1KO]: 94.29%\n",
      "[mmr1KO]: 65.71%\n",
      "[num1KO]: 34.29%\n",
      "[H2O2]: 100.0%\n",
      "[dnm1KO]: 88.57%\n",
      "[fzo1KO]: 85.71%\n",
      "    11     0.440866   0.597642   0.794286  \n",
      "EPOCH 12 ---------------------------------------- STEP 60                                                                                                                                                            \n",
      "mean: [24.6      5.74286  8.25714  8.62857  2.91429 15.02857 17.77143 13.05714]\n",
      "stdev: [5.89043 2.55615 3.07379 3.28708 2.08904 5.06239 4.36928 4.06338]\n",
      "\n",
      "[WT]: 81.9%\n",
      "[mfb1KO]: 71.43%\n",
      "[mmm1KO]: 97.14%\n",
      "[mmr1KO]: 57.14%\n",
      "[num1KO]: 42.86%\n",
      "[H2O2]: 100.0%\n",
      "[dnm1KO]: 97.14%\n",
      "[fzo1KO]: 71.43%\n",
      "    12     0.426511   0.636406   0.782857  \n",
      "EPOCH 13 ---------------------------------------- STEP 61                                                                                                                                                            \n",
      "mean: [24.71429  5.71429  8.2      8.54286  2.97143 15.      17.91429 13.05714]\n",
      "stdev: [6.16243 3.10365 3.67073 3.86444 1.6985  4.04263 4.64986 3.9781 ]\n",
      "\n",
      "[WT]: 83.81%\n",
      "[mfb1KO]: 97.14%\n",
      "[mmm1KO]: 94.29%\n",
      "[mmr1KO]: 74.29%\n",
      "[num1KO]: 22.86%\n",
      "[H2O2]: 100.0%\n",
      "[dnm1KO]: 85.71%\n",
      "[fzo1KO]: 77.14%\n",
      "    13     0.421328   0.604083   0.802857  \n",
      "EPOCH 14 ---------------------------------------- STEP 62                                                                                                                                                            \n",
      "mean: [24.68571  5.68571  8.34286  8.68571  2.97143 15.02857 17.77143 13.05714]\n",
      "stdev: [5.90289 3.14208 3.71824 3.76276 1.97825 5.33712 4.45348 4.62257]\n"
     ]
    },
    {
     "name": "stdout",
     "output_type": "stream",
     "text": [
      "\n",
      "[WT]: 77.14%\n",
      "[mfb1KO]: 94.29%\n",
      "[mmm1KO]: 94.29%\n",
      "[mmr1KO]: 62.86%\n",
      "[num1KO]: 37.14%\n",
      "[H2O2]: 100.0%\n",
      "[dnm1KO]: 88.57%\n",
      "[fzo1KO]: 80.0%\n",
      "    14     0.42168    0.640049   0.788571  \n",
      "EPOCH 15 ---------------------------------------- STEP 63                                                                                                                                                            \n",
      "mean: [24.62857  5.88571  8.2      8.68571  2.97143 14.97143 17.91429 13.08571]\n",
      "stdev: [4.50451 3.42071 3.80075 3.94803 2.18417 4.21891 5.01068 4.10833]\n",
      "\n",
      "[WT]: 85.71%\n",
      "[mfb1KO]: 82.86%\n",
      "[mmm1KO]: 97.14%\n",
      "[mmr1KO]: 57.14%\n",
      "[num1KO]: 20.0%\n",
      "[H2O2]: 100.0%\n",
      "[dnm1KO]: 80.0%\n",
      "[fzo1KO]: 82.86%\n",
      "    15     0.418816   0.638089   0.777143  \n",
      "EPOCH 16 ---------------------------------------- STEP 64                                                                                                                                                            \n",
      "mean: [24.62857  5.77143  8.25714  8.65714  2.91429 15.11429 17.91429 13.14286]\n",
      "stdev: [5.08828 2.91876 3.54032 3.47187 2.16955 3.65491 4.63756 3.74275]\n",
      "\n",
      "[WT]: 88.57%\n",
      "[mfb1KO]: 77.14%\n",
      "[mmm1KO]: 97.14%\n",
      "[mmr1KO]: 57.14%\n",
      "[num1KO]: 31.43%\n",
      "[H2O2]: 100.0%\n",
      "[dnm1KO]: 85.71%\n",
      "[fzo1KO]: 71.43%\n",
      "    16     0.415815   0.599031   0.785714  \n",
      "EPOCH 17 ---------------------------------------- STEP 65                                                                                                                                                            \n",
      "mean: [24.6      5.8      8.31429  8.6      2.97143 15.      17.82857 13.2    ]\n",
      "stdev: [5.26552 2.91597 4.18686 3.22667 1.99264 4.67211 4.0106  3.51974]\n",
      "\n",
      "[WT]: 85.71%\n",
      "[mfb1KO]: 100.0%\n",
      "[mmm1KO]: 97.14%\n",
      "[mmr1KO]: 65.71%\n",
      "[num1KO]: 22.86%\n",
      "[H2O2]: 100.0%\n",
      "[dnm1KO]: 82.86%\n",
      "[fzo1KO]: 77.14%\n",
      "    17     0.410515   0.614025   0.802857  \n",
      "EPOCH 18 ---------------------------------------- STEP 66                                                                                                                                                            \n",
      "mean: [24.6      5.85714  8.17143  8.71429  3.05714 15.02857 17.85714 13.     ]\n",
      "stdev: [4.55569 2.83995 3.84326 3.526   2.42538 4.08122 4.35656 4.88145]\n",
      "\n",
      "[WT]: 90.48%\n",
      "[mfb1KO]: 94.29%\n",
      "[mmm1KO]: 97.14%\n",
      "[mmr1KO]: 65.71%\n",
      "[num1KO]: 22.86%\n",
      "[H2O2]: 100.0%\n",
      "[dnm1KO]: 77.14%\n",
      "[fzo1KO]: 80.0%\n",
      "    18     0.411967   0.547171   0.808571  \n",
      "EPOCH 19 ---------------------------------------- STEP 67                                                                                                                                                            \n",
      "mean: [24.62857  5.74286  8.17143  8.74286  3.02857 14.82857 17.8     13.02857]\n",
      "stdev: [5.31889 3.11992 3.5975  3.63588 2.13121 4.98848 3.98425 4.37843]\n",
      "\n",
      "[WT]: 83.81%\n",
      "[mfb1KO]: 94.29%\n",
      "[mmm1KO]: 97.14%\n",
      "[mmr1KO]: 74.29%\n",
      "[num1KO]: 25.71%\n",
      "[H2O2]: 100.0%\n",
      "[dnm1KO]: 88.57%\n",
      "[fzo1KO]: 85.71%\n",
      "WARNING: there is already a saved model at this path\n",
      "input an addition to the save path or leave blank to abort\n",
      "prompt: 3\n",
      "    19     0.411574   0.594932   0.817143  \n",
      "\n",
      "Wall time: 8min 41s\n"
     ]
    },
    {
     "data": {
      "text/plain": [
       "[array([0.59493]), 0.8171428550992693]"
      ]
     },
     "execution_count": 24,
     "metadata": {},
     "output_type": "execute_result"
    }
   ],
   "source": [
    "%time learn.fit(1e-3, 10, wds=wd, cycle_len=2, use_clr=(20,8, 0.95, 0.85), best_save_name='YNet_Res_v10')"
   ]
  },
  {
   "cell_type": "markdown",
   "metadata": {},
   "source": [
    "## Analysis/Model evaluation\n",
    "\n",
    "This is one of the major areas that needs improvement in our workflow. The tools we have so far (confusion matrix and manual inpsection of images) are essential but definitely not sufficient to ensure that our model learns something biologicaly relevant. Ideas are welcome!"
   ]
  },
  {
   "cell_type": "markdown",
   "metadata": {},
   "source": [
    "### ...after training "
   ]
  },
  {
   "cell_type": "code",
   "execution_count": null,
   "metadata": {},
   "outputs": [],
   "source": [
    "learn.save('YNet_Res_v10.1')"
   ]
  },
  {
   "cell_type": "code",
   "execution_count": null,
   "metadata": {},
   "outputs": [],
   "source": [
    "## Load model:\n",
    "learn.load('YNet_Res_v10.1')"
   ]
  },
  {
   "cell_type": "code",
   "execution_count": null,
   "metadata": {
    "scrolled": false
   },
   "outputs": [],
   "source": [
    "%time learn.fit(1e-10, 1, wds=wd, cycle_len=1)"
   ]
  },
  {
   "cell_type": "code",
   "execution_count": null,
   "metadata": {},
   "outputs": [],
   "source": [
    "learn.warm_up(1e-10)"
   ]
  },
  {
   "cell_type": "code",
   "execution_count": 53,
   "metadata": {
    "scrolled": false
   },
   "outputs": [
    {
     "name": "stdout",
     "output_type": "stream",
     "text": [
      "                                                                                                                                                                                                                     \r"
     ]
    }
   ],
   "source": [
    "log_preds, y = learn.TTA(n_aug=4) # run predictions with TTA"
   ]
  },
  {
   "cell_type": "markdown",
   "metadata": {},
   "source": [
    "### Confusion matrix"
   ]
  },
  {
   "cell_type": "code",
   "execution_count": 54,
   "metadata": {
    "scrolled": true
   },
   "outputs": [
    {
     "name": "stdout",
     "output_type": "stream",
     "text": [
      "[[87  0  0  1  3  0  2  1]\n",
      " [ 2 33  0  3  2  0  0  0]\n",
      " [ 0  0 34  0  0  0  0  1]\n",
      " [ 4  0  0 27  4  0  2  3]\n",
      " [ 2  0  0  0 13  0  1  0]\n",
      " [ 3  2  0  2  2 35  0  0]\n",
      " [ 0  0  0  1  0  0 30  0]\n",
      " [ 7  0  1  1 11  0  0 30]]\n"
     ]
    },
    {
     "data": {
      "image/png": "[encoded data removed]",
      "text/plain": [
       "<Figure size 432x288 with 2 Axes>"
      ]
     },
     "metadata": {},
     "output_type": "display_data"
    }
   ],
   "source": [
    "# Plot confusion matrix \n",
    "log_preds_mean = np.mean(log_preds, axis=0)\n",
    "preds = np.argmax(log_preds_mean, axis=1)\n",
    "cm = confusion_matrix(preds,y)\n",
    "plot_confusion_matrix(cm, data.classes)"
   ]
  },
  {
   "cell_type": "markdown",
   "metadata": {},
   "source": [
    "### Test-set eval"
   ]
  },
  {
   "cell_type": "code",
   "execution_count": null,
   "metadata": {},
   "outputs": [],
   "source": [
    "test_learn = ConvLearner.from_model_data(Resnet([10, 20, 40, 80, 160], 4), test_data)"
   ]
  },
  {
   "cell_type": "code",
   "execution_count": null,
   "metadata": {},
   "outputs": [],
   "source": [
    "# learn.load('YNet_Res_v10.1')"
   ]
  },
  {
   "cell_type": "code",
   "execution_count": null,
   "metadata": {
    "scrolled": true
   },
   "outputs": [],
   "source": [
    "data = get_data(PATH,SIZE,BATCH_SIZE)"
   ]
  },
  {
   "cell_type": "code",
   "execution_count": null,
   "metadata": {
    "scrolled": true
   },
   "outputs": [],
   "source": [
    "tx, ty = next(test_batch)\n",
    "print(ty)"
   ]
  },
  {
   "cell_type": "code",
   "execution_count": null,
   "metadata": {},
   "outputs": [],
   "source": [
    "dl_ = data.trn_dl\n",
    "batch_ = iter(dl_)"
   ]
  },
  {
   "cell_type": "code",
   "execution_count": null,
   "metadata": {},
   "outputs": [],
   "source": [
    "s1a, s2a = next(batch_)"
   ]
  },
  {
   "cell_type": "code",
   "execution_count": null,
   "metadata": {},
   "outputs": [],
   "source": [
    "batch2x = np.concatenate((s1.cpu().numpy().copy(), s1a.cpu().numpy().copy()), axis = 0)\n",
    "print(batch2x.shape)"
   ]
  },
  {
   "cell_type": "code",
   "execution_count": null,
   "metadata": {},
   "outputs": [],
   "source": [
    "ims = None\n",
    "lbls = None\n",
    "\n",
    "for b in range(0,len(dl)):\n",
    "    x_, y_ = next(batch_)\n",
    "    \n",
    "    x_np = x.cpu().numpy().copy()\n",
    "    y_np = y.cpu().numpy().copy()\n",
    "    \n",
    "    if ims is None:\n",
    "        ims = x_np\n",
    "        lbls = y_np\n",
    "    else:\n",
    "        ims = np.concatenate((ims, x_np), axis = 0)\n",
    "        lbls = np.concatenate((lbls, y_np), axis = 0)"
   ]
  },
  {
   "cell_type": "code",
   "execution_count": null,
   "metadata": {},
   "outputs": [],
   "source": [
    "dl_ = data.trn_dl\n",
    "batch_ = iter(dl_)\n",
    "\n",
    "\n",
    "plt.style.use('seaborn-whitegrid')\n",
    "fig = plt.figure()\n",
    "ax = plt.subplot(111)\n",
    "\n",
    "for b in range(0,len(dl)):\n",
    "    x_, y_ = next(batch_)\n",
    "\n",
    "    x_np = to_np(x_)\n",
    "    y_np = to_np(y_)\n",
    "    \n",
    "    im_means = np.mean(x_np, axis=(2,3))\n",
    "    \n",
    "    ax.plot(im_means[:,0], im_means[:,1], 'o', color = 'C0' , alpha=0.5)\n",
    "        \n",
    "plt.xlim(-0.4,0.4)\n",
    "plt.ylim(-1, 4)"
   ]
  },
  {
   "cell_type": "code",
   "execution_count": null,
   "metadata": {},
   "outputs": [],
   "source": [
    "dl_t = data.test_dl\n",
    "batch_t = iter(dl_t)\n",
    "\n",
    "ax = plt.subplot(111)\n",
    "\n",
    "for b in range(0,len(dl_t)):\n",
    "    x_, y_ = next(batch_t)\n",
    "\n",
    "    x_np = to_np(x_)\n",
    "    y_np = to_np(y_)\n",
    "    \n",
    "    im_means = np.mean(x_np, axis=(2,3))\n",
    "    \n",
    "    ax.plot(im_means[:,0], im_means[:,1], 'o', color = 'C1' , alpha=0.5)\n",
    "    \n",
    "plt.xlim(-0.4,0.4)\n",
    "plt.ylim(-1, 4)"
   ]
  },
  {
   "cell_type": "code",
   "execution_count": null,
   "metadata": {},
   "outputs": [],
   "source": [
    "# specify which image-index\n",
    "idx = 60\n",
    "\n",
    "# loading it from GPU to CPU\n",
    "xx = x[idx].cpu().numpy().copy()\n",
    "yy = y[idx]\n",
    "# showing the image\n",
    "#\n",
    "#sp.axis('Off')\n",
    "#sp.set_title(\"Norm\", fontsize=11)\n",
    "figure, _ ,_ = tiff.imshow(np.sum(xx, axis=0))\n",
    "# figure, _ ,_ = plt.imshow(np.sum(xx, axis=0))\n",
    "\n",
    "# figure.set_size_inches(6,6)\n",
    "# figure.add_subplot(111)\n",
    "\n",
    "# figure2, _, _ = tiff.imshow(np.sum(data.trn_ds.denorm(xx,yy).squeeze() * 65536, axis=2)) # not very elegant atm. \n",
    "# figure2.set_size_inches(6,6)\n",
    "print(yy)"
   ]
  },
  {
   "cell_type": "code",
   "execution_count": null,
   "metadata": {
    "scrolled": false
   },
   "outputs": [],
   "source": [
    "tiff.imshow(data.test_ds[1][0][0,:,:])\n"
   ]
  },
  {
   "cell_type": "code",
   "execution_count": 26,
   "metadata": {
    "scrolled": false
   },
   "outputs": [
    {
     "name": "stdout",
     "output_type": "stream",
     "text": [
      "\n",
      " class to index mapping:\n",
      " {'01_WT': [0, 0, 'WT'], '01_mfb1KO': [1, 1, 'mfb1KO'], '01_mmm1KO': [2, 2, 'mmm1KO'], '01_mmr1KO': [3, 3, 'mmr1KO'], '01_num1KO': [4, 4, 'num1KO'], '02_WT': [5, 0, 'WT'], '03_H2O2': [6, 5, 'H2O2'], '03_WT': [7, 0, 'WT'], '03_dnm1KO': [8, 6, 'dnm1KO'], '03_fzo1KO': [9, 7, 'fzo1KO']}\n",
      "\n",
      " class to index mapping:\n",
      " {'02_mfb1KO': [0, 0, 'mfb1KO'], '02_mmr1KO': [1, 1, 'mmr1KO'], '02_mmr1KO-mfb1KO': [2, 2, 'mmr1KO-mfb1KO']}\n"
     ]
    }
   ],
   "source": [
    "data = get_data(PATH,SIZE,BATCH_SIZE)"
   ]
  },
  {
   "cell_type": "code",
   "execution_count": 56,
   "metadata": {},
   "outputs": [
    {
     "name": "stdout",
     "output_type": "stream",
     "text": [
      "350\n",
      "2228\n",
      "812\n"
     ]
    }
   ],
   "source": [
    "print(len(data.val_dl.dataset.y))\n",
    "print(len(data.trn_dl.dataset.y))\n",
    "print(len(data.test_dl.dataset.y))"
   ]
  },
  {
   "cell_type": "code",
   "execution_count": 62,
   "metadata": {},
   "outputs": [],
   "source": [
    "test_log_preds, targs = learn.predict_with_targs(is_test=True)\n",
    "testprobs = np.exp(test_log_preds)\n",
    "preds = np.argmax(testprobs, axis=1)"
   ]
  },
  {
   "cell_type": "code",
   "execution_count": 63,
   "metadata": {},
   "outputs": [
    {
     "name": "stdout",
     "output_type": "stream",
     "text": [
      "[0 7 0 7 7 7 7 0 3 0 0 0 7 7 0 7 7 7 7 0 0 7 3 1 0 0 0 7 0 7 7 6 7 0 7 3 7 7 0 4 7 7 1 7 7 7 7 7 7 7 7 7 7 7\n",
      " 0 7 0 3 7 3 7 7 0 0 7 7 7 7 0 3 3 0 0 3 7 7 7 7 0 7 7 7 7 0 2 2 7 3 7 7 0 3 3 7 7 7 7 7 7 7 3 7 7 7 7 0 1 3\n",
      " 0 7 7 7 3 0 0 0 7 3 7 0 6 7 0 4 0 1 6 7 6 7 3 7 3 3 0 0 0 0 4 7 0 7 3 3 3 7 0 0 0 3 3 1 3 7 0 0 7 7 3 0 1 3\n",
      " 0 7 7 0 7 3 7 0 7 7 0 0 3 7 0 7 3 2 0 0 0 7 3 1 1 1 1 2 0 0 7 0 3 3 0 1 0 7 3 0 7 0 0 1 1 3 1 0 0 4 4 7 0 7\n",
      " 0 0 0 0 6 0 6 4 4 3 6 6 6 4 0 6 4 5 0 0 0 4 5 6 6 0 6 0 0 3 0 0 6 0 0 0 0 0 0 6 0 0 0 0 4 0 0 5 0 0 6 6 1 7\n",
      " 5 6 6 0 4 7 4 0 4 4 6 0 0 7 0 3 6 4 0 5 0 0 0 7 4 4 7 4 4 4 0 0 4 0 0 6 6 6 0 0 0 7 3 0 6 0 3 6 0 4 6 6 0 3\n",
      " 6 4 0 6 0 4 6 4 4 3 0 5 6 0 4 6 6 6 0 0 0 0 6 0 6 0 4 0 5 0 4 0 4 0 0 0 0 0 5 0 0 0 0 0 1 0 0 0 0 6 6 6 6 6\n",
      " 6 4 6 6 6 6 4 0 6 0 6 6 3 3 3 1 0 4 0 0 0 0 0 1 7 7 1 0 2 3 0 0 6 6 3 4 6 5 7 0 6 3 7 7 3 1 0 4 2 4 6 0 4 6\n",
      " 6 0 3 4 7 3 2 0 6 4 4 6 6 6 6 6 6 6 0 6 6 2 6 6 6 3 3 3 6 6 6 6 3 2 5 6 6 6 6 6 6 6 5 0 6 3 3 6 6 4 4 0 6 6\n",
      " 6 6 6 0 4 0 6 6 0 0 0 5 0 6 6 0 3 0 0 6 0 0 0 6 6 0 0 0 0 0 0 0 6 0 6 0 4 6 0 0 0 6 4 0 4 1 0 0 6 0 0 7 4 0\n",
      " 6 0 5 4 0 0 6 7 7 0 4 0 0 1 3 0 0 7 0 3 7 3 7 3 5 7 2 7 5 7 7 3 1 7 2 2 7 1 7 3 7 0 7 7 3 7 7 3 7 7 7 7 7 6\n",
      " 0 2 7 7 7 7 4 0 0 0 0 7 0 0 4 4 0 4 0 0 5 3 7 6 3 3 3 7 0 0 0 0 0 7 0 0 0 0 0 0 7 4 4 0 0 0 6 0 0 0 0 0 6 0\n",
      " 0 0 0 0 0 0 0 0 5 6 0 0 0 7 0 0 7 7 0 0 0 0 6 6 0 0 7 0 7 6 7 5 0 7 0 3 4 6 0 6 0 0 0 0 3 0 6 6 0 0 6 5 4 0\n",
      " 6 0 0 6 0 7 0 0 0 0 4 5 7 0 0 7 0 4 7 7 1 3 0 6 0 6 0 0 0 6 0 3 0 4 0 0 0 0 0 4 7 7 0 3 4 0 0 0 3 7 6 0 0 3\n",
      " 6 6 0 0 0 0 0 0 7 7 6 0 0 7 0 6 0 0 4 3 0 0 7 1 0 6 6 0 6 6 0 5 0 0 0 0 4 0 7 0 0 0 0 0 0 7 0 4 0 0 0 7 0 0\n",
      " 0 0]\n",
      "[0 0 0 0 0 0 0 0 0 0 0 0 0 0 0 0 0 0 0 0 0 0 0 0 0 0 0 0 0 0 0 0 0 0 0 0 0 0 0 0 0 0 0 0 0 0 0 0 0 0 0 0 0 0\n",
      " 0 0 0 0 0 0 0 0 0 0 0 0 0 0 0 0 0 0 0 0 0 0 0 0 0 0 0 0 0 0 0 0 0 0 0 0 0 0 0 0 0 0 0 0 0 0 0 0 0 0 0 0 0 0\n",
      " 0 0 0 0 0 0 0 0 0 0 0 0 0 0 0 0 0 0 0 0 0 0 0 0 0 0 0 0 0 0 0 0 0 0 0 0 0 0 0 0 0 0 0 0 0 0 0 0 0 0 0 0 0 0\n",
      " 0 0 0 0 0 0 0 0 0 0 0 0 0 0 0 0 0 0 0 0 0 0 0 0 0 0 0 0 0 0 0 0 0 0 0 0 0 0 0 0 0 0 0 0 0 0 0 0 0 0 0 0 0 0\n",
      " 1 1 1 1 1 1 1 1 1 1 1 1 1 1 1 1 1 1 1 1 1 1 1 1 1 1 1 1 1 1 1 1 1 1 1 1 1 1 1 1 1 1 1 1 1 1 1 1 1 1 1 1 1 1\n",
      " 1 1 1 1 1 1 1 1 1 1 1 1 1 1 1 1 1 1 1 1 1 1 1 1 1 1 1 1 1 1 1 1 1 1 1 1 1 1 1 1 1 1 1 1 1 1 1 1 1 1 1 1 1 1\n",
      " 1 1 1 1 1 1 1 1 1 1 1 1 1 1 1 1 1 1 1 1 1 1 1 1 1 1 1 1 1 1 1 1 1 1 1 1 1 1 1 1 1 1 1 1 1 1 1 1 1 1 1 1 1 1\n",
      " 1 1 1 1 1 1 1 1 1 1 1 1 1 1 1 1 1 1 1 1 1 1 1 1 1 1 1 1 1 1 1 1 1 1 1 1 1 1 1 1 1 1 1 1 1 1 1 1 1 1 1 1 1 1\n",
      " 1 1 1 1 1 1 1 1 1 1 1 1 1 1 1 1 1 1 1 1 1 1 1 1 1 1 1 1 1 1 1 1 1 1 1 1 1 1 1 1 1 1 1 1 1 1 1 1 1 1 1 1 1 1\n",
      " 1 1 1 1 1 1 1 1 1 1 1 1 1 1 1 1 1 1 1 1 1 1 1 1 1 1 1 1 1 1 1 1 1 1 1 1 1 1 1 1 1 1 2 2 2 2 2 2 2 2 2 2 2 2\n",
      " 2 2 2 2 2 2 2 2 2 2 2 2 2 2 2 2 2 2 2 2 2 2 2 2 2 2 2 2 2 2 2 2 2 2 2 2 2 2 2 2 2 2 2 2 2 2 2 2 2 2 2 2 2 2\n",
      " 2 2 2 2 2 2 2 2 2 2 2 2 2 2 2 2 2 2 2 2 2 2 2 2 2 2 2 2 2 2 2 2 2 2 2 2 2 2 2 2 2 2 2 2 2 2 2 2 2 2 2 2 2 2\n",
      " 2 2 2 2 2 2 2 2 2 2 2 2 2 2 2 2 2 2 2 2 2 2 2 2 2 2 2 2 2 2 2 2 2 2 2 2 2 2 2 2 2 2 2 2 2 2 2 2 2 2 2 2 2 2\n",
      " 2 2 2 2 2 2 2 2 2 2 2 2 2 2 2 2 2 2 2 2 2 2 2 2 2 2 2 2 2 2 2 2 2 2 2 2 2 2 2 2 2 2 2 2 2 2 2 2 2 2 2 2 2 2\n",
      " 2 2 2 2 2 2 2 2 2 2 2 2 2 2 2 2 2 2 2 2 2 2 2 2 2 2 2 2 2 2 2 2 2 2 2 2 2 2 2 2 2 2 2 2 2 2 2 2 2 2 2 2 2 2\n",
      " 2 2]\n"
     ]
    }
   ],
   "source": [
    "print(preds)\n",
    "print(targs)"
   ]
  },
  {
   "cell_type": "code",
   "execution_count": 59,
   "metadata": {},
   "outputs": [
    {
     "data": {
      "text/plain": [
       "['WT', 'mfb1KO', 'mmm1KO', 'mmr1KO', 'num1KO', 'H2O2', 'dnm1KO', 'fzo1KO']"
      ]
     },
     "execution_count": 59,
     "metadata": {},
     "output_type": "execute_result"
    }
   ],
   "source": [
    "data.classes"
   ]
  },
  {
   "cell_type": "code",
   "execution_count": 61,
   "metadata": {
    "scrolled": true
   },
   "outputs": [
    {
     "name": "stdout",
     "output_type": "stream",
     "text": [
      "[[ 64  14   4  34   5   0   4  91]\n",
      " [118   6   5  23  40  12  96  12]\n",
      " [140   6   4  20  21   9  30  54]\n",
      " [  0   0   0   0   0   0   0   0]\n",
      " [  0   0   0   0   0   0   0   0]\n",
      " [  0   0   0   0   0   0   0   0]\n",
      " [  0   0   0   0   0   0   0   0]\n",
      " [  0   0   0   0   0   0   0   0]]\n"
     ]
    },
    {
     "data": {
      "image/png": "[encoded data removed]",
      "text/plain": [
       "<Figure size 432x288 with 2 Axes>"
      ]
     },
     "metadata": {},
     "output_type": "display_data"
    }
   ],
   "source": [
    "cm = confusion_matrix(targs,preds)\n",
    "plot_confusion_matrix(cm, data.classes)"
   ]
  },
  {
   "cell_type": "code",
   "execution_count": null,
   "metadata": {},
   "outputs": [],
   "source": []
  },
  {
   "cell_type": "code",
   "execution_count": 29,
   "metadata": {},
   "outputs": [],
   "source": [
    "_, lbl2idx_, test_lbl2idx_ = ImageClassifierData.prepare_from_path(PATH, val_name='val', bs=64, num_workers=1,\n",
    "                                                                             test_name='test', test_with_labels=True)"
   ]
  },
  {
   "cell_type": "code",
   "execution_count": 45,
   "metadata": {},
   "outputs": [
    {
     "name": "stdout",
     "output_type": "stream",
     "text": [
      "{'01_WT': [0, 0, 'WT'], '01_mfb1KO': [1, 1, 'mfb1KO'], '01_mmm1KO': [2, 2, 'mmm1KO'], '01_mmr1KO': [3, 3, 'mmr1KO'], '01_num1KO': [4, 4, 'num1KO'], '02_WT': [5, 0, 'WT'], '03_H2O2': [6, 5, 'H2O2'], '03_WT': [7, 0, 'WT'], '03_dnm1KO': [8, 6, 'dnm1KO'], '03_fzo1KO': [9, 7, 'fzo1KO']}\n",
      "{'02_mfb1KO': [0, 0, 'mfb1KO'], '02_mmr1KO': [1, 1, 'mmr1KO'], '02_mmr1KO-mfb1KO': [2, 2, 'mmr1KO-mfb1KO']}\n"
     ]
    }
   ],
   "source": [
    "print(lbl2idx_)\n",
    "print(test_lbl2idx_)"
   ]
  },
  {
   "cell_type": "code",
   "execution_count": 32,
   "metadata": {},
   "outputs": [],
   "source": [
    "uIdx2uCls = {lbl2idx_[key][1]: lbl2idx_[key][2] for key in lbl2idx_.keys()}\n",
    "test_uIdx2uCls = {test_lbl2idx_[key][1]: test_lbl2idx_[key][2] for key in test_lbl2idx_.keys()}"
   ]
  },
  {
   "cell_type": "code",
   "execution_count": 47,
   "metadata": {},
   "outputs": [
    {
     "name": "stdout",
     "output_type": "stream",
     "text": [
      "{0: 'WT', 1: 'mfb1KO', 2: 'mmm1KO', 3: 'mmr1KO', 4: 'num1KO', 5: 'H2O2', 6: 'dnm1KO', 7: 'fzo1KO'}\n",
      "{0: 'mfb1KO', 1: 'mmr1KO', 2: 'mmr1KO-mfb1KO'}\n"
     ]
    }
   ],
   "source": [
    "print(uIdx2uCls)\n",
    "print(test_uIdx2uCls)"
   ]
  },
  {
   "cell_type": "code",
   "execution_count": 50,
   "metadata": {},
   "outputs": [],
   "source": [
    "vrb_preds = [uIdx2uCls[preds[i]] for i, _ in enumerate(preds)]\n",
    "verb_targs = [test_uIdx2uCls[targs[i]] for i, _ in enumerate(targs)]"
   ]
  },
  {
   "cell_type": "code",
   "execution_count": 52,
   "metadata": {
    "scrolled": true
   },
   "outputs": [
    {
     "name": "stdout",
     "output_type": "stream",
     "text": [
      "['WT', 'fzo1KO', 'WT', 'fzo1KO', 'fzo1KO', 'fzo1KO', 'fzo1KO', 'WT', 'mmr1KO', 'WT', 'WT', 'WT', 'fzo1KO', 'fzo1KO', 'WT', 'fzo1KO', 'fzo1KO', 'fzo1KO', 'fzo1KO', 'WT', 'WT', 'fzo1KO', 'mmr1KO', 'mfb1KO', 'WT', 'WT', 'WT', 'fzo1KO', 'WT', 'fzo1KO', 'fzo1KO', 'dnm1KO', 'fzo1KO', 'WT', 'fzo1KO', 'mmr1KO', 'fzo1KO', 'fzo1KO', 'WT', 'num1KO', 'fzo1KO', 'fzo1KO', 'mfb1KO', 'fzo1KO', 'fzo1KO', 'fzo1KO', 'fzo1KO', 'fzo1KO', 'fzo1KO', 'fzo1KO', 'fzo1KO', 'fzo1KO', 'fzo1KO', 'fzo1KO', 'WT', 'fzo1KO', 'WT', 'mmr1KO', 'fzo1KO', 'mmr1KO', 'fzo1KO', 'fzo1KO', 'WT', 'WT', 'fzo1KO', 'fzo1KO', 'fzo1KO', 'fzo1KO', 'WT', 'mmr1KO', 'mmr1KO', 'WT', 'WT', 'mmr1KO', 'fzo1KO', 'fzo1KO', 'fzo1KO', 'fzo1KO', 'WT', 'fzo1KO', 'fzo1KO', 'fzo1KO', 'fzo1KO', 'WT', 'mmm1KO', 'mmm1KO', 'fzo1KO', 'mmr1KO', 'fzo1KO', 'fzo1KO', 'WT', 'mmr1KO', 'mmr1KO', 'fzo1KO', 'fzo1KO', 'fzo1KO', 'fzo1KO', 'fzo1KO', 'fzo1KO', 'fzo1KO', 'mmr1KO', 'fzo1KO', 'fzo1KO', 'fzo1KO', 'fzo1KO', 'WT', 'mfb1KO', 'mmr1KO', 'WT', 'fzo1KO', 'fzo1KO', 'fzo1KO', 'mmr1KO', 'WT', 'WT', 'WT', 'fzo1KO', 'mmr1KO', 'fzo1KO', 'WT', 'dnm1KO', 'fzo1KO', 'WT', 'num1KO', 'WT', 'mfb1KO', 'dnm1KO', 'fzo1KO', 'dnm1KO', 'fzo1KO', 'mmr1KO', 'fzo1KO', 'mmr1KO', 'mmr1KO', 'WT', 'WT', 'WT', 'WT', 'num1KO', 'fzo1KO', 'WT', 'fzo1KO', 'mmr1KO', 'mmr1KO', 'mmr1KO', 'fzo1KO', 'WT', 'WT', 'WT', 'mmr1KO', 'mmr1KO', 'mfb1KO', 'mmr1KO', 'fzo1KO', 'WT', 'WT', 'fzo1KO', 'fzo1KO', 'mmr1KO', 'WT', 'mfb1KO', 'mmr1KO', 'WT', 'fzo1KO', 'fzo1KO', 'WT', 'fzo1KO', 'mmr1KO', 'fzo1KO', 'WT', 'fzo1KO', 'fzo1KO', 'WT', 'WT', 'mmr1KO', 'fzo1KO', 'WT', 'fzo1KO', 'mmr1KO', 'mmm1KO', 'WT', 'WT', 'WT', 'fzo1KO', 'mmr1KO', 'mfb1KO', 'mfb1KO', 'mfb1KO', 'mfb1KO', 'mmm1KO', 'WT', 'WT', 'fzo1KO', 'WT', 'mmr1KO', 'mmr1KO', 'WT', 'mfb1KO', 'WT', 'fzo1KO', 'mmr1KO', 'WT', 'fzo1KO', 'WT', 'WT', 'mfb1KO', 'mfb1KO', 'mmr1KO', 'mfb1KO', 'WT', 'WT', 'num1KO', 'num1KO', 'fzo1KO', 'WT', 'fzo1KO', 'WT', 'WT', 'WT', 'WT', 'dnm1KO', 'WT', 'dnm1KO', 'num1KO', 'num1KO', 'mmr1KO', 'dnm1KO', 'dnm1KO', 'dnm1KO', 'num1KO', 'WT', 'dnm1KO', 'num1KO', 'H2O2', 'WT', 'WT', 'WT', 'num1KO', 'H2O2', 'dnm1KO', 'dnm1KO', 'WT', 'dnm1KO', 'WT', 'WT', 'mmr1KO', 'WT', 'WT', 'dnm1KO', 'WT', 'WT', 'WT', 'WT', 'WT', 'WT', 'dnm1KO', 'WT', 'WT', 'WT', 'WT', 'num1KO', 'WT', 'WT', 'H2O2', 'WT', 'WT', 'dnm1KO', 'dnm1KO', 'mfb1KO', 'fzo1KO', 'H2O2', 'dnm1KO', 'dnm1KO', 'WT', 'num1KO', 'fzo1KO', 'num1KO', 'WT', 'num1KO', 'num1KO', 'dnm1KO', 'WT', 'WT', 'fzo1KO', 'WT', 'mmr1KO', 'dnm1KO', 'num1KO', 'WT', 'H2O2', 'WT', 'WT', 'WT', 'fzo1KO', 'num1KO', 'num1KO', 'fzo1KO', 'num1KO', 'num1KO', 'num1KO', 'WT', 'WT', 'num1KO', 'WT', 'WT', 'dnm1KO', 'dnm1KO', 'dnm1KO', 'WT', 'WT', 'WT', 'fzo1KO', 'mmr1KO', 'WT', 'dnm1KO', 'WT', 'mmr1KO', 'dnm1KO', 'WT', 'num1KO', 'dnm1KO', 'dnm1KO', 'WT', 'mmr1KO', 'dnm1KO', 'num1KO', 'WT', 'dnm1KO', 'WT', 'num1KO', 'dnm1KO', 'num1KO', 'num1KO', 'mmr1KO', 'WT', 'H2O2', 'dnm1KO', 'WT', 'num1KO', 'dnm1KO', 'dnm1KO', 'dnm1KO', 'WT', 'WT', 'WT', 'WT', 'dnm1KO', 'WT', 'dnm1KO', 'WT', 'num1KO', 'WT', 'H2O2', 'WT', 'num1KO', 'WT', 'num1KO', 'WT', 'WT', 'WT', 'WT', 'WT', 'H2O2', 'WT', 'WT', 'WT', 'WT', 'WT', 'mfb1KO', 'WT', 'WT', 'WT', 'WT', 'dnm1KO', 'dnm1KO', 'dnm1KO', 'dnm1KO', 'dnm1KO', 'dnm1KO', 'num1KO', 'dnm1KO', 'dnm1KO', 'dnm1KO', 'dnm1KO', 'num1KO', 'WT', 'dnm1KO', 'WT', 'dnm1KO', 'dnm1KO', 'mmr1KO', 'mmr1KO', 'mmr1KO', 'mfb1KO', 'WT', 'num1KO', 'WT', 'WT', 'WT', 'WT', 'WT', 'mfb1KO', 'fzo1KO', 'fzo1KO', 'mfb1KO', 'WT', 'mmm1KO', 'mmr1KO', 'WT', 'WT', 'dnm1KO', 'dnm1KO', 'mmr1KO', 'num1KO', 'dnm1KO', 'H2O2', 'fzo1KO', 'WT', 'dnm1KO', 'mmr1KO', 'fzo1KO', 'fzo1KO', 'mmr1KO', 'mfb1KO', 'WT', 'num1KO', 'mmm1KO', 'num1KO', 'dnm1KO', 'WT', 'num1KO', 'dnm1KO', 'dnm1KO', 'WT', 'mmr1KO', 'num1KO', 'fzo1KO', 'mmr1KO', 'mmm1KO', 'WT', 'dnm1KO', 'num1KO', 'num1KO', 'dnm1KO', 'dnm1KO', 'dnm1KO', 'dnm1KO', 'dnm1KO', 'dnm1KO', 'dnm1KO', 'WT', 'dnm1KO', 'dnm1KO', 'mmm1KO', 'dnm1KO', 'dnm1KO', 'dnm1KO', 'mmr1KO', 'mmr1KO', 'mmr1KO', 'dnm1KO', 'dnm1KO', 'dnm1KO', 'dnm1KO', 'mmr1KO', 'mmm1KO', 'H2O2', 'dnm1KO', 'dnm1KO', 'dnm1KO', 'dnm1KO', 'dnm1KO', 'dnm1KO', 'dnm1KO', 'H2O2', 'WT', 'dnm1KO', 'mmr1KO', 'mmr1KO', 'dnm1KO', 'dnm1KO', 'num1KO', 'num1KO', 'WT', 'dnm1KO', 'dnm1KO', 'dnm1KO', 'dnm1KO', 'dnm1KO', 'WT', 'num1KO', 'WT', 'dnm1KO', 'dnm1KO', 'WT', 'WT', 'WT', 'H2O2', 'WT', 'dnm1KO', 'dnm1KO', 'WT', 'mmr1KO', 'WT', 'WT', 'dnm1KO', 'WT', 'WT', 'WT', 'dnm1KO', 'dnm1KO', 'WT', 'WT', 'WT', 'WT', 'WT', 'WT', 'WT', 'dnm1KO', 'WT', 'dnm1KO', 'WT', 'num1KO', 'dnm1KO', 'WT', 'WT', 'WT', 'dnm1KO', 'num1KO', 'WT', 'num1KO', 'mfb1KO', 'WT', 'WT', 'dnm1KO', 'WT', 'WT', 'fzo1KO', 'num1KO', 'WT', 'dnm1KO', 'WT', 'H2O2', 'num1KO', 'WT', 'WT', 'dnm1KO', 'fzo1KO', 'fzo1KO', 'WT', 'num1KO', 'WT', 'WT', 'mfb1KO', 'mmr1KO', 'WT', 'WT', 'fzo1KO', 'WT', 'mmr1KO', 'fzo1KO', 'mmr1KO', 'fzo1KO', 'mmr1KO', 'H2O2', 'fzo1KO', 'mmm1KO', 'fzo1KO', 'H2O2', 'fzo1KO', 'fzo1KO', 'mmr1KO', 'mfb1KO', 'fzo1KO', 'mmm1KO', 'mmm1KO', 'fzo1KO', 'mfb1KO', 'fzo1KO', 'mmr1KO', 'fzo1KO', 'WT', 'fzo1KO', 'fzo1KO', 'mmr1KO', 'fzo1KO', 'fzo1KO', 'mmr1KO', 'fzo1KO', 'fzo1KO', 'fzo1KO', 'fzo1KO', 'fzo1KO', 'dnm1KO', 'WT', 'mmm1KO', 'fzo1KO', 'fzo1KO', 'fzo1KO', 'fzo1KO', 'num1KO', 'WT', 'WT', 'WT', 'WT', 'fzo1KO', 'WT', 'WT', 'num1KO', 'num1KO', 'WT', 'num1KO', 'WT', 'WT', 'H2O2', 'mmr1KO', 'fzo1KO', 'dnm1KO', 'mmr1KO', 'mmr1KO', 'mmr1KO', 'fzo1KO', 'WT', 'WT', 'WT', 'WT', 'WT', 'fzo1KO', 'WT', 'WT', 'WT', 'WT', 'WT', 'WT', 'fzo1KO', 'num1KO', 'num1KO', 'WT', 'WT', 'WT', 'dnm1KO', 'WT', 'WT', 'WT', 'WT', 'WT', 'dnm1KO', 'WT', 'WT', 'WT', 'WT', 'WT', 'WT', 'WT', 'WT', 'WT', 'H2O2', 'dnm1KO', 'WT', 'WT', 'WT', 'fzo1KO', 'WT', 'WT', 'fzo1KO', 'fzo1KO', 'WT', 'WT', 'WT', 'WT', 'dnm1KO', 'dnm1KO', 'WT', 'WT', 'fzo1KO', 'WT', 'fzo1KO', 'dnm1KO', 'fzo1KO', 'H2O2', 'WT', 'fzo1KO', 'WT', 'mmr1KO', 'num1KO', 'dnm1KO', 'WT', 'dnm1KO', 'WT', 'WT', 'WT', 'WT', 'mmr1KO', 'WT', 'dnm1KO', 'dnm1KO', 'WT', 'WT', 'dnm1KO', 'H2O2', 'num1KO', 'WT', 'dnm1KO', 'WT', 'WT', 'dnm1KO', 'WT', 'fzo1KO', 'WT', 'WT', 'WT', 'WT', 'num1KO', 'H2O2', 'fzo1KO', 'WT', 'WT', 'fzo1KO', 'WT', 'num1KO', 'fzo1KO', 'fzo1KO', 'mfb1KO', 'mmr1KO', 'WT', 'dnm1KO', 'WT', 'dnm1KO', 'WT', 'WT', 'WT', 'dnm1KO', 'WT', 'mmr1KO', 'WT', 'num1KO', 'WT', 'WT', 'WT', 'WT', 'WT', 'num1KO', 'fzo1KO', 'fzo1KO', 'WT', 'mmr1KO', 'num1KO', 'WT', 'WT', 'WT', 'mmr1KO', 'fzo1KO', 'dnm1KO', 'WT', 'WT', 'mmr1KO', 'dnm1KO', 'dnm1KO', 'WT', 'WT', 'WT', 'WT', 'WT', 'WT', 'fzo1KO', 'fzo1KO', 'dnm1KO', 'WT', 'WT', 'fzo1KO', 'WT', 'dnm1KO', 'WT', 'WT', 'num1KO', 'mmr1KO', 'WT', 'WT', 'fzo1KO', 'mfb1KO', 'WT', 'dnm1KO', 'dnm1KO', 'WT', 'dnm1KO', 'dnm1KO', 'WT', 'H2O2', 'WT', 'WT', 'WT', 'WT', 'num1KO', 'WT', 'fzo1KO', 'WT', 'WT', 'WT', 'WT', 'WT', 'WT', 'fzo1KO', 'WT', 'num1KO', 'WT', 'WT', 'WT', 'fzo1KO', 'WT', 'WT', 'WT', 'WT']\n"
     ]
    }
   ],
   "source": [
    "print(vrb_preds)\n",
    "# print(verb_targs)"
   ]
  },
  {
   "cell_type": "code",
   "execution_count": null,
   "metadata": {
    "scrolled": true
   },
   "outputs": [],
   "source": [
    "test_log_preds[188:220]"
   ]
  },
  {
   "cell_type": "markdown",
   "metadata": {},
   "source": [
    "### Analyse images "
   ]
  },
  {
   "cell_type": "markdown",
   "metadata": {},
   "source": [
    "#### Show random correct/incorrectly classified images:"
   ]
  },
  {
   "cell_type": "code",
   "execution_count": null,
   "metadata": {},
   "outputs": [],
   "source": [
    "log_preds_mean = np.mean(log_preds, axis=0) # averages predictions on original + 4 TTA images\n",
    "preds = np.argmax(log_preds_mean, axis=1) # converts into 0 or 1"
   ]
  },
  {
   "cell_type": "code",
   "execution_count": null,
   "metadata": {},
   "outputs": [],
   "source": [
    "# probs = np.exp(log_preds_mean[:,0]) # prediction(WT)\n",
    "probs = np.exp(log_preds_mean) # predictions"
   ]
  },
  {
   "cell_type": "code",
   "execution_count": null,
   "metadata": {},
   "outputs": [],
   "source": [
    "def rand_by_mask(mask): return np.random.choice(np.where(mask)[0], 4, replace=False)\n",
    "def rand_by_correct(is_correct): return rand_by_mask((preds == data.val_y)==is_correct)"
   ]
  },
  {
   "cell_type": "code",
   "execution_count": null,
   "metadata": {},
   "outputs": [],
   "source": [
    "def plots(ims, channel, figsize=(12,6), rows=1, titles=None):\n",
    "    f = plt.figure(figsize=figsize)\n",
    "    for i in range(len(ims)):\n",
    "        sp = f.add_subplot(rows, len(ims)//rows, i+1)\n",
    "        sp.axis('Off')\n",
    "        if titles is not None: sp.set_title(titles[i], fontsize=11)\n",
    "        if channel is not None: plt.imshow(ims[i,channel,:,:]) \n",
    "        else: plt.imshow(np.sum(ims, axis=1)[i,:,:])"
   ]
  },
  {
   "cell_type": "code",
   "execution_count": null,
   "metadata": {},
   "outputs": [],
   "source": [
    "def plot_val_with_title_from_ds_no_denorm(idxs, title, channel=None):\n",
    "    \n",
    "    imgs = np.stack(data.val_ds[x][0] for x in idxs) # get images by idx\n",
    "    corr_lbl = np.stack(data.val_ds[x][1] for x in idxs) # get correct label from data.val_ds by idx\n",
    "    pred_lbl = np.stack(preds[x] for x in idxs) # get predicted label from preds by idx\n",
    "    p_max = [np.amax(probs[x,:]) for x in idxs] # get highes probability from probs by idx\n",
    "    \n",
    "    title_fin = [f\"true = {corr_lbl[x]}\\n predicted: {pred_lbl[x]}\\n  p = {p_max[x]}\" for x in corr_lbl]\n",
    "    print(title)\n",
    "    \n",
    "    return plots(imgs, channel, rows=1, titles=title_fin, figsize=(16,8))"
   ]
  },
  {
   "cell_type": "markdown",
   "metadata": {},
   "source": [
    "### Plot images according to predictions"
   ]
  },
  {
   "cell_type": "code",
   "execution_count": null,
   "metadata": {
    "scrolled": true
   },
   "outputs": [],
   "source": [
    "# load from ds - not denormalized! \n",
    "plot_val_with_title_from_ds_no_denorm(rand_by_correct(True), \"Correctly classified\")\n",
    "#optionally pass channel arg. to select single channel"
   ]
  },
  {
   "cell_type": "code",
   "execution_count": null,
   "metadata": {
    "scrolled": false
   },
   "outputs": [],
   "source": [
    "plot_val_with_title_from_ds_no_denorm(rand_by_correct(False), \"Incorrectly classified\")"
   ]
  },
  {
   "cell_type": "markdown",
   "metadata": {},
   "source": [
    "#### Show most correct/incorrectly classified images per class:"
   ]
  },
  {
   "cell_type": "code",
   "execution_count": null,
   "metadata": {},
   "outputs": [],
   "source": [
    "def most_by_mask(mask, y, mult):\n",
    "    idxs = np.where(mask)[0]\n",
    "    return idxs[np.argsort(mult * probs[:,y][idxs])[:4]]\n",
    "\n",
    "def most_by_correct(y, is_correct): \n",
    "    mult = -1 if is_correct else 1\n",
    "    return most_by_mask(((preds == data.val_y)==is_correct) & (data.val_y == y), y, mult)"
   ]
  },
  {
   "cell_type": "code",
   "execution_count": null,
   "metadata": {},
   "outputs": [],
   "source": [
    "plot_val_with_title_from_ds_no_denorm(most_by_correct(0, True), \"Most correctly classified WT\")"
   ]
  },
  {
   "cell_type": "code",
   "execution_count": null,
   "metadata": {
    "scrolled": false
   },
   "outputs": [],
   "source": [
    "plot_val_with_title_from_ds_no_denorm(most_by_correct(0, False), \"Most incorrectly classified WT\") # logic?"
   ]
  },
  {
   "cell_type": "code",
   "execution_count": null,
   "metadata": {},
   "outputs": [],
   "source": [
    "plot_val_with_title_from_ds_no_denorm(most_by_correct(1, True), \"Most correctly classified mfb1KO\") "
   ]
  },
  {
   "cell_type": "code",
   "execution_count": null,
   "metadata": {},
   "outputs": [],
   "source": [
    "plot_val_with_title_from_ds_no_denorm(most_by_correct(1, False), \"Most incorrectly classified mfb1KO\")"
   ]
  },
  {
   "cell_type": "code",
   "execution_count": null,
   "metadata": {
    "scrolled": true
   },
   "outputs": [],
   "source": [
    "plot_val_with_title_from_ds_no_denorm(most_by_correct(2, True), \"Most correctly classified mfb1KO-mmr1KO\")"
   ]
  },
  {
   "cell_type": "code",
   "execution_count": null,
   "metadata": {
    "scrolled": false
   },
   "outputs": [],
   "source": [
    "plot_val_with_title_from_ds_no_denorm(most_by_correct(3, True), \"Most correctly classified mmr1KO\")"
   ]
  },
  {
   "cell_type": "code",
   "execution_count": null,
   "metadata": {},
   "outputs": [],
   "source": [
    "# etc."
   ]
  },
  {
   "cell_type": "markdown",
   "metadata": {},
   "source": [
    "#### Show (most) uncertain images"
   ]
  },
  {
   "cell_type": "code",
   "execution_count": null,
   "metadata": {},
   "outputs": [],
   "source": [
    "most_uncertain = t = np.argsort(np.amax(probs, axis = 1))[:6] # get best \"guess\" per image and list the least confident ones\n",
    "plot_val_with_title_from_ds_no_denorm(most_uncertain, \"Most uncertain predictions\")"
   ]
  },
  {
   "cell_type": "code",
   "execution_count": null,
   "metadata": {},
   "outputs": [],
   "source": []
  }
 ],
 "metadata": {
  "kernelspec": {
   "display_name": "Python 3",
   "language": "python",
   "name": "python3"
  },
  "language_info": {
   "codemirror_mode": {
    "name": "ipython",
    "version": 3
   },
   "file_extension": ".py",
   "mimetype": "text/x-python",
   "name": "python",
   "nbconvert_exporter": "python",
   "pygments_lexer": "ipython3",
   "version": "3.6.5"
  }
 },
 "nbformat": 4,
 "nbformat_minor": 2
}
