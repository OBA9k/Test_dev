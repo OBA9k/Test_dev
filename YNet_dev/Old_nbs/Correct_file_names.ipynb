{
 "cells": [
  {
   "cell_type": "code",
   "execution_count": 1,
   "metadata": {},
   "outputs": [],
   "source": [
    "import os\n",
    "from pathlib import Path"
   ]
  },
  {
   "cell_type": "code",
   "execution_count": 2,
   "metadata": {},
   "outputs": [],
   "source": [
    "base = \"./datasets/yeast_v4.4/train/Cit1_MC_mfb1KO/names/\"\n",
    "PATH = Path(base)"
   ]
  },
  {
   "cell_type": "code",
   "execution_count": 3,
   "metadata": {},
   "outputs": [],
   "source": [
    "c = 0\n",
    "for i in PATH.iterdir():\n",
    "    c = c + 1\n",
    "    i.rename(Path(base +\"mfb1_WP_E2_S2_F1_IX_C\" + str(c) + \"_A0.tif\"))"
   ]
  },
  {
   "cell_type": "code",
   "execution_count": null,
   "metadata": {},
   "outputs": [],
   "source": [
    "\"datasets\\yeast_v4.4\\train\\Cit1_MC_mmr1KO\\0080-0894-0968.tifstack.tif\""
   ]
  }
 ],
 "metadata": {
  "kernelspec": {
   "display_name": "Python 3",
   "language": "python",
   "name": "python3"
  },
  "language_info": {
   "codemirror_mode": {
    "name": "ipython",
    "version": 3
   },
   "file_extension": ".py",
   "mimetype": "text/x-python",
   "name": "python",
   "nbconvert_exporter": "python",
   "pygments_lexer": "ipython3",
   "version": "3.6.5"
  }
 },
 "nbformat": 4,
 "nbformat_minor": 2
}
