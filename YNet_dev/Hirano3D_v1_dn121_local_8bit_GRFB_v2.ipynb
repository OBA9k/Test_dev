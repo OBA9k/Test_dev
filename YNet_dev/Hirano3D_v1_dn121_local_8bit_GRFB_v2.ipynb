{
 "cells": [
  {
   "cell_type": "code",
   "execution_count": 1,
   "metadata": {},
   "outputs": [],
   "source": [
    "# %matplotlib inline\n",
    "%reload_ext autoreload\n",
    "%autoreload 2"
   ]
  },
  {
   "cell_type": "code",
   "execution_count": 2,
   "metadata": {},
   "outputs": [],
   "source": [
    "import os\n",
    "from pathlib import Path\n",
    "import skimage.external.tifffile as tiff\n",
    "\n",
    "from common import Statistics, dataset_source\n",
    "from resources.conv_learner import *\n",
    "from resources.plots import *\n",
    "from pprint import pprint\n",
    "import matplotlib.pyplot as plt\n",
    "%matplotlib inline"
   ]
  },
  {
   "cell_type": "code",
   "execution_count": 3,
   "metadata": {},
   "outputs": [],
   "source": [
    "path = \"datasets/Hirano3D/\"\n",
    "# data_path = Path(PATH)"
   ]
  },
  {
   "cell_type": "code",
   "execution_count": 4,
   "metadata": {},
   "outputs": [],
   "source": [
    "_clss = {'NM17-002': 0,\n",
    "         'Ctrl-AK': 0,\n",
    "         'GUK1-D': 1, \n",
    "         'GUK1-R': 1,\n",
    "         'MFN2-1': 2,\n",
    "         'VCP-1': 3}"
   ]
  },
  {
   "cell_type": "markdown",
   "metadata": {},
   "source": [
    "#### CV generation via sklearn, Multilabel implementation by trent-b, or FastAi\n",
    "\n",
    "Both libraries seem to be completely useless... can just use native fastai function: get_cv_idxs().<br>\n",
    "However, get_cv_idxs() does NOT shuffle...!"
   ]
  },
  {
   "cell_type": "code",
   "execution_count": 5,
   "metadata": {},
   "outputs": [],
   "source": [
    "from sklearn.model_selection import StratifiedShuffleSplit\n",
    "\n",
    "def get_label_stratified_CV_idxs(csv_path):\n",
    "    \n",
    "    _all_labels = pd.read_csv(csv_path)\n",
    "    arr = _all_labels.values\n",
    "\n",
    "    X = arr[:,0]\n",
    "    y = arr[:,1:]\n",
    "    \n",
    "    ### sklearn.model_selection.StratifiedKFold\n",
    "    sss = StratifiedShuffleSplit(n_splits=1, test_size=0.2, random_state=0)\n",
    "    \n",
    "    for train_index, val_index in sss.split(X, y):\n",
    "        trn_idxs = train_index\n",
    "        val_idxs = val_index\n",
    "    \n",
    "    print(f\"\"\"Train label-distribution:\\n\"\"\"\n",
    "          f\"\"\"{pd.Series(arr[:,1][trn_idxs]).value_counts()}\"\"\")\n",
    "    print(f\"\"\"Val label-distribution:\\n\"\"\"\n",
    "          f\"\"\"{pd.Series(arr[:,1][val_idxs]).value_counts()}\"\"\")\n",
    "    \n",
    "    return trn_idxs, val_idxs\n",
    "\n",
    "\n",
    "from iterstrat.ml_stratifiers import MultilabelStratifiedShuffleSplit\n",
    "\n",
    "def get_label_stratified_CV_idxs_multi(csv_path):\n",
    "    \n",
    "    # FastAi csv_source expects a folder-name string to be passed as first arg... -> 'dummy'\n",
    "    X, y, all_lbls = csv_source('dummy', csv_path)\n",
    "    \n",
    "    ### Iterative stratification library: https://github.com/trent-b/iterative-stratification\n",
    "    msss = MultilabelStratifiedShuffleSplit(n_splits=1, test_size=0.2, random_state=42)\n",
    "    \n",
    "    for train_index, val_index in msss.split(X, y):\n",
    "        trn_idxs = train_index\n",
    "        val_idxs = val_index\n",
    "    \n",
    "    trn_count = np.sum(y[trn_idxs], axis=0)\n",
    "    val_count = np.sum(y[val_idxs], axis=0)\n",
    "    \n",
    "    print(f\"\"\"Train label-distribution:\\n\"\"\"\n",
    "          f\"\"\"{trn_count}\"\"\")\n",
    "    print(f\"\"\"Val label-distribution:\\n\"\"\"\n",
    "          f\"\"\"{val_count}\"\"\")\n",
    "    \n",
    "    return trn_idxs, val_idxs"
   ]
  },
  {
   "cell_type": "code",
   "execution_count": 6,
   "metadata": {},
   "outputs": [
    {
     "name": "stdout",
     "output_type": "stream",
     "text": [
      "Train label-distribution:\n",
      "0    216\n",
      "1    163\n",
      "2    161\n",
      "3    124\n",
      "dtype: int64\n",
      "Val label-distribution:\n",
      "0    54\n",
      "1    41\n",
      "2    40\n",
      "3    31\n",
      "dtype: int64\n"
     ]
    }
   ],
   "source": [
    "### used atm...\n",
    "csv_path = path + '8bit_multi_folder_Hirano3D_v1.csv'\n",
    "trn_idxs, val_idxs = get_label_stratified_CV_idxs(csv_path)"
   ]
  },
  {
   "cell_type": "code",
   "execution_count": 64,
   "metadata": {},
   "outputs": [],
   "source": [
    "import pickle\n",
    "\n",
    "idxs_dict = {'trn_idxs': trn_idxs, 'val_idxs': val_idxs}\n",
    "\n",
    "with open('datasets/Hirano3D/tmp/Hirano3D_dn121_local_8bit_idxs.pkl', 'wb') as handle:\n",
    "    pickle.dump(idxs_dict, handle, protocol=pickle.HIGHEST_PROTOCOL)\n",
    "\n",
    "with open('datasets/Hirano3D/tmp/Hirano3D_dn121_local_8bit_idxs.pkl', 'rb') as handle:\n",
    "    idxs_dict_load = pickle.load(handle)\n",
    "    \n",
    "val_idxs_loaded = idxs_dict_load['val_idxs']"
   ]
  },
  {
   "cell_type": "code",
   "execution_count": 7,
   "metadata": {
    "scrolled": true
   },
   "outputs": [],
   "source": [
    "# csv_path = path + 'multi_folder_Hirano3D_02.csv'\n",
    "# trn_idxs, val_idxs = get_label_stratified_CV_idxs(csv_path)"
   ]
  },
  {
   "cell_type": "code",
   "execution_count": 8,
   "metadata": {
    "scrolled": true
   },
   "outputs": [],
   "source": [
    "# setting up a list of a random 20% of images in train as the validation set\n",
    "\n",
    "# lbl_csv = path + 'multi_folder_Hirano3D_02.csv'\n",
    "# n = len(list(open(lbl_csv))) -1\n",
    "# val_idxs = get_cv_idxs(n, val_pct=0.2)\n",
    "\n",
    "\n",
    "# # Count labels\n",
    "# # _all_labels = pd.read_csv(PATH + 'multi_folder_Hirano3D_02.csv')\n",
    "# # print(_all_labels.Targets.value_counts())\n",
    "\n",
    "# _arr = _all_labels.values\n",
    "# _val_labels = pd.DataFrame(_arr[val_idxs], columns=['Id','Targets'])\n",
    "# print(_val_labels.Targets.value_counts())"
   ]
  },
  {
   "cell_type": "markdown",
   "metadata": {},
   "source": [
    "### Define Dataloader:"
   ]
  },
  {
   "cell_type": "code",
   "execution_count": 9,
   "metadata": {},
   "outputs": [],
   "source": [
    "def get_data(path, lbl_csv, val_idxs, sz, bs, aug_tfms):\n",
    "\n",
    "    tfms = tfms_with_IntNorm(sz, aug_tfms=aug_tfms, crop_type=CropType.CENTER)\n",
    "    data = ImageClassifierData.from_csv(PATH, 'data', lbl_csv, \n",
    "                                        val_idxs = val_idxs,\n",
    "                                        test_name='data/8bit_Hirano3D_MaxP_GRFB_test_512', \n",
    "                                        tfms=tfms, bs=bs, suffix = '.tif', \n",
    "                                        balance=True, num_workers=0)\n",
    "    return data"
   ]
  },
  {
   "cell_type": "code",
   "execution_count": 10,
   "metadata": {},
   "outputs": [],
   "source": [
    "PATH = \"datasets/Hirano3D\"\n",
    "# data_path = Path(PATH)"
   ]
  },
  {
   "cell_type": "code",
   "execution_count": null,
   "metadata": {},
   "outputs": [],
   "source": []
  },
  {
   "cell_type": "code",
   "execution_count": 11,
   "metadata": {},
   "outputs": [
    {
     "name": "stdout",
     "output_type": "stream",
     "text": [
      "val_crop is: 2\n",
      "Calculating weights...\n",
      "one-hot encoding single-labels...\n",
      "Weights calculated successfully!\n",
      "Using WeightedRandomSampler\n"
     ]
    }
   ],
   "source": [
    "# define augmentations\n",
    "augs = [RandomDihedral()]\n",
    "NUM_CLASSES = 4\n",
    "bs = 32\n",
    "sz = [4,224,224]\n",
    "lbl_csv = path + '8bit_multi_folder_Hirano3D_v1.csv'\n",
    "# initialize data object\n",
    "data = get_data(PATH, lbl_csv, val_idxs, sz, bs, aug_tfms = augs)"
   ]
  },
  {
   "cell_type": "markdown",
   "metadata": {},
   "source": [
    "### inpsect data_loaders"
   ]
  },
  {
   "cell_type": "code",
   "execution_count": null,
   "metadata": {},
   "outputs": [],
   "source": [
    "data.trn_dl.dataset.transform.tfms"
   ]
  },
  {
   "cell_type": "code",
   "execution_count": 12,
   "metadata": {},
   "outputs": [
    {
     "data": {
      "text/plain": [
       "(4, 224, 224)"
      ]
     },
     "execution_count": 12,
     "metadata": {},
     "output_type": "execute_result"
    }
   ],
   "source": [
    "x, y = next(iter(data.trn_dl))\n",
    "im = to_np(x[0])\n",
    "im.shape"
   ]
  },
  {
   "cell_type": "code",
   "execution_count": null,
   "metadata": {},
   "outputs": [],
   "source": []
  },
  {
   "cell_type": "code",
   "execution_count": null,
   "metadata": {},
   "outputs": [],
   "source": [
    "x, y = next(iter(data.val_dl))\n",
    "# x_test, y_test = next(iter(data.test_dl))"
   ]
  },
  {
   "cell_type": "code",
   "execution_count": null,
   "metadata": {},
   "outputs": [],
   "source": [
    "x[0].shape"
   ]
  },
  {
   "cell_type": "code",
   "execution_count": null,
   "metadata": {
    "scrolled": true
   },
   "outputs": [],
   "source": [
    "# print transformations\n",
    "# plt.style.use('seaborn-white')\n",
    "\n",
    "c = 0\n",
    "idx = 0\n",
    "fig, ax = plt.subplots(1,4, figsize=(16,10))\n",
    "for i, ax in enumerate(ax.flat):\n",
    "    x, y = next(iter(data.aug_dl))\n",
    "    im = to_np(x)[idx]\n",
    "#     ax.imshow(np.sum(im, axis = 0))\n",
    "    ax.imshow(im[c])"
   ]
  },
  {
   "cell_type": "code",
   "execution_count": null,
   "metadata": {},
   "outputs": [],
   "source": [
    "from PIL import Image"
   ]
  },
  {
   "cell_type": "code",
   "execution_count": null,
   "metadata": {},
   "outputs": [],
   "source": [
    "im_raw = tiff.imread('datasets\\\\Hirano3D\\\\test_out/fCMT2_02_e3_017.tif')\n",
    "im_scaled = (im_raw/255)\n",
    "\n",
    "im_sc_rot = np.moveaxis(im_scaled, 0,-1)\n",
    "\n",
    "m = np.array(np.mean(im_sc_rot, axis=(0,1)), dtype=np.float32)\n",
    "s = np.array(np.std(im_sc_rot, axis=(0,1)), dtype=np.float32)\n",
    "\n",
    "im_scaled_normed = (im_sc_rot - m) / s\n",
    "m_n = np.mean(im_scaled_normed[0])\n",
    "s_n = np.std(im_scaled_normed[0])\n",
    "\n",
    "print(np.mean(im_raw[0]))\n",
    "print(np.mean(im_scaled[0]))\n",
    "print(np.max(im_scaled_normed[0]))\n",
    "print(m)\n",
    "\n",
    "print(m_n, s_n)\n",
    "\n",
    "im_raw.shape"
   ]
  },
  {
   "cell_type": "code",
   "execution_count": null,
   "metadata": {},
   "outputs": [],
   "source": [
    "tiff.imshow(im_raw[0])"
   ]
  },
  {
   "cell_type": "code",
   "execution_count": null,
   "metadata": {},
   "outputs": [],
   "source": [
    "# inspect images\n",
    "plt.style.use('seaborn-white')\n",
    "ch = 0\n",
    "idx = 0\n",
    "\n",
    "# im = to_np(x)[idx]\n",
    "im_rawHPA = tiff.imread('datasets\\\\Kaggle_HPA_2018\\\\HPAv18_BGR_test\\\\1183_51_A11_2.tiff')\n",
    "im_raw = tiff.imread('datasets\\\\Hirano3D\\\\test_out/fCMT2_02_e3_017.tif')\n",
    "# im_scaled = (im_raw/255)\n",
    "\n",
    "\n",
    "fig, ax = plt.subplots(1,2, figsize=(16,10))\n",
    "ax[0].imshow(im_rawHPA[0])\n",
    "ax[1].imshow(im_raw[ch])"
   ]
  },
  {
   "cell_type": "code",
   "execution_count": null,
   "metadata": {},
   "outputs": [],
   "source": [
    "ch = 1\n",
    "\n",
    "print(np.max(im_raw[ch]))\n",
    "print(np.max(im_rawHPA[ch]))"
   ]
  },
  {
   "cell_type": "code",
   "execution_count": null,
   "metadata": {},
   "outputs": [],
   "source": [
    "print(im_rawHPA[ch])"
   ]
  },
  {
   "cell_type": "code",
   "execution_count": null,
   "metadata": {},
   "outputs": [],
   "source": [
    "plt.imshow(to_np(x)[5][2])"
   ]
  },
  {
   "cell_type": "code",
   "execution_count": null,
   "metadata": {},
   "outputs": [],
   "source": [
    "# loading epoch for manual inspection..."
   ]
  },
  {
   "cell_type": "code",
   "execution_count": null,
   "metadata": {},
   "outputs": [],
   "source": [
    "def load_epoch(dl = data.trn_dl):\n",
    "    \n",
    "    batch = iter(dl)\n",
    "\n",
    "    xs = []\n",
    "    ys = []\n",
    "\n",
    "#     for b in range(0,len(dl)):\n",
    "    for b in range(0,10):\n",
    "\n",
    "        x_, y_ = next(batch)\n",
    "        x_np, y_np = to_np(x_), to_np(y_)\n",
    "        xs.append(x_np)\n",
    "        ys.append(y_np)\n",
    "\n",
    "    return np.vstack(xs), np.concatenate(ys)\n"
   ]
  },
  {
   "cell_type": "markdown",
   "metadata": {},
   "source": [
    "### inpsecting loaded images and labels"
   ]
  },
  {
   "cell_type": "code",
   "execution_count": null,
   "metadata": {},
   "outputs": [],
   "source": [
    "def to_label(y):\n",
    "    ind = [i for i, p in enumerate(y) if y[i]==1]\n",
    "    return(ind)"
   ]
  },
  {
   "cell_type": "code",
   "execution_count": null,
   "metadata": {
    "scrolled": true
   },
   "outputs": [],
   "source": [
    "# inspect train images\n",
    "plt.style.use('seaborn-white')\n",
    "\n",
    "idx = 2\n",
    "\n",
    "im = to_np(x)[idx]\n",
    "\n",
    "lbl = to_np(y)[idx]\n",
    "# lbl = to_label(to_np(y)[idx])\n",
    "print(lbl)\n",
    "\n",
    "fig, ax = plt.subplots(1,4, figsize=(16,10))\n",
    "for i, ax in enumerate(ax.flat):\n",
    "    ax.imshow(im[i])"
   ]
  },
  {
   "cell_type": "code",
   "execution_count": null,
   "metadata": {
    "scrolled": true
   },
   "outputs": [],
   "source": [
    "# inspect test images\n",
    "plt.style.use('seaborn-white')\n",
    "\n",
    "idx = 3\n",
    "\n",
    "im = to_np(x_test)[idx]\n",
    "\n",
    "# lbl = to_label(to_np(y)[idx])\n",
    "# print(lbl)\n",
    "\n",
    "fig, ax = plt.subplots(1,4, figsize=(16,10))\n",
    "for i, ax in enumerate(ax.flat):\n",
    "    ax.imshow(im[i])"
   ]
  },
  {
   "cell_type": "markdown",
   "metadata": {},
   "source": [
    "# training"
   ]
  },
  {
   "cell_type": "code",
   "execution_count": null,
   "metadata": {},
   "outputs": [],
   "source": [
    "torch.cuda.is_available()"
   ]
  },
  {
   "cell_type": "code",
   "execution_count": 13,
   "metadata": {},
   "outputs": [],
   "source": [
    "# base-model\n",
    "\n",
    "arch = dn121_c\n",
    "# arch = resnet50\n",
    "learn = ConvLearner.pretrained(arch, data, opt_fn=optim.Adam, ps=0, pretrained=False)"
   ]
  },
  {
   "cell_type": "code",
   "execution_count": 14,
   "metadata": {},
   "outputs": [],
   "source": [
    "# additional parameters\n",
    "\n",
    "wd=1e-8 # weight-decay/L2 regularization \n",
    "# learn.metrics = [accuracy, f1_micro]"
   ]
  },
  {
   "cell_type": "code",
   "execution_count": null,
   "metadata": {},
   "outputs": [],
   "source": [
    "learn.crit"
   ]
  },
  {
   "cell_type": "code",
   "execution_count": 16,
   "metadata": {},
   "outputs": [],
   "source": [
    "learn.unfreeze()"
   ]
  },
  {
   "cell_type": "code",
   "execution_count": null,
   "metadata": {},
   "outputs": [],
   "source": [
    "learn.lr_find2(1e-8)"
   ]
  },
  {
   "cell_type": "code",
   "execution_count": null,
   "metadata": {},
   "outputs": [],
   "source": [
    "learn.sched.plot()"
   ]
  },
  {
   "cell_type": "code",
   "execution_count": null,
   "metadata": {},
   "outputs": [],
   "source": [
    "learn.summary()"
   ]
  },
  {
   "cell_type": "code",
   "execution_count": 18,
   "metadata": {
    "scrolled": true
   },
   "outputs": [
    {
     "data": {
      "application/vnd.jupyter.widget-view+json": {
       "model_id": "a360cac16e614440807725d9e94e0180",
       "version_major": 2,
       "version_minor": 0
      },
      "text/plain": [
       "HBox(children=(IntProgress(value=0, description='Epoch', max=32), HTML(value='')))"
      ]
     },
     "metadata": {},
     "output_type": "display_data"
    },
    {
     "name": "stdout",
     "output_type": "stream",
     "text": [
      "EPOCH 0 ---------------------------------------- STEP 0                                                                                                                                                                                      \n",
      "epoch      trn_loss   val_loss   accuracy   \n",
      "    0      1.39219    1.580265   0.277108  \n",
      "EPOCH 1 ---------------------------------------- STEP 1                                                                                                                                                                                      \n",
      "    1      1.353507   2.277456   0.277108  \n",
      "EPOCH 2 ---------------------------------------- STEP 2                                                                                                                                                                                      \n",
      "    2      1.347699   2.236724   0.204819  \n",
      "EPOCH 3 ---------------------------------------- STEP 3                                                                                                                                                                                      \n",
      "    3      1.268945   1.605096   0.204819  \n",
      "EPOCH 4 ---------------------------------------- STEP 4                                                                                                                                                                                      \n",
      "    4      1.199048   1.586713   0.259036  \n",
      "EPOCH 5 ---------------------------------------- STEP 5                                                                                                                                                                                      \n",
      "    5      1.148325   1.254752   0.439759  \n",
      "EPOCH 6 ---------------------------------------- STEP 6                                                                                                                                                                                      \n",
      "    6      1.104404   1.466434   0.385542  \n",
      "EPOCH 7 ---------------------------------------- STEP 7                                                                                                                                                                                      \n",
      "    7      1.068369   1.529125   0.409639  \n",
      "EPOCH 8 ---------------------------------------- STEP 8                                                                                                                                                                                      \n",
      "    8      1.042316   1.087842   0.548193  \n",
      "EPOCH 9 ---------------------------------------- STEP 9                                                                                                                                                                                      \n",
      "    9      0.97865    1.135338   0.572289  \n",
      "EPOCH 10 ---------------------------------------- STEP 10                                                                                                                                                                                    \n",
      "    10     0.934184   1.263818   0.536145  \n",
      "EPOCH 11 ---------------------------------------- STEP 11                                                                                                                                                                                    \n",
      "    11     0.874787   1.272708   0.524096  \n",
      "EPOCH 12 ---------------------------------------- STEP 12                                                                                                                                                                                    \n",
      "    12     0.838554   1.105432   0.566265  \n",
      "EPOCH 13 ---------------------------------------- STEP 13                                                                                                                                                                                    \n",
      "    13     0.786301   1.223112   0.536145  \n",
      "EPOCH 14 ---------------------------------------- STEP 14                                                                                                                                                                                    \n",
      "    14     0.757848   1.204956   0.53012   \n",
      "EPOCH 15 ---------------------------------------- STEP 15                                                                                                                                                                                    \n",
      "    15     0.715089   1.24687    0.512048  \n",
      "EPOCH 16 ---------------------------------------- STEP 16                                                                                                                                                                                    \n",
      "    16     0.666389   1.523799   0.512048  \n",
      "EPOCH 17 ---------------------------------------- STEP 17                                                                                                                                                                                    \n",
      "    17     0.704868   2.837854   0.343373  \n",
      "EPOCH 18 ---------------------------------------- STEP 18                                                                                                                                                                                    \n",
      "    18     0.818193   1.937687   0.427711  \n",
      "EPOCH 19 ---------------------------------------- STEP 19                                                                                                                                                                                    \n",
      "    19     0.856404   1.307476   0.445783  \n",
      "EPOCH 20 ---------------------------------------- STEP 20                                                                                                                                                                                    \n",
      "    20     0.871406   1.433564   0.451807  \n",
      "EPOCH 21 ---------------------------------------- STEP 21                                                                                                                                                                                    \n",
      "    21     0.866389   1.361874   0.487952  \n",
      "EPOCH 22 ---------------------------------------- STEP 22                                                                                                                                                                                    \n",
      "    22     0.841461   1.240684   0.524096  \n",
      "EPOCH 23 ---------------------------------------- STEP 23                                                                                                                                                                                    \n",
      "    23     0.798012   1.170211   0.53012   \n",
      "EPOCH 24 ---------------------------------------- STEP 24                                                                                                                                                                                    \n",
      "    24     0.761189   1.39114    0.524096  \n",
      "EPOCH 25 ---------------------------------------- STEP 25                                                                                                                                                                                    \n",
      "    25     0.707955   1.169436   0.524096  \n",
      "EPOCH 26 ---------------------------------------- STEP 26                                                                                                                                                                                    \n",
      "    26     0.642885   1.422373   0.5       \n",
      "EPOCH 27 ---------------------------------------- STEP 27                                                                                                                                                                                    \n",
      "    27     0.602867   1.104535   0.572289  \n",
      "EPOCH 28 ---------------------------------------- STEP 28                                                                                                                                                                                    \n",
      "    28     0.556142   1.246684   0.578313  \n",
      "EPOCH 29 ---------------------------------------- STEP 29                                                                                                                                                                                    \n",
      "    29     0.497516   1.193941   0.584337  \n",
      "EPOCH 30 ---------------------------------------- STEP 30                                                                                                                                                                                    \n",
      "    30     0.452746   1.230463   0.548193  \n",
      "EPOCH 31 ---------------------------------------- STEP 31                                                                                                                                                                                    \n",
      "    31     0.415266   1.131623   0.60241   \n",
      "\n",
      "appending existing log-files...\n",
      "log-files saved to: datasets/Hirano3D\n",
      "appending existing log-files...\n",
      "log-files saved to: datasets/Hirano3D\n",
      "Wall time: 12min 56s\n"
     ]
    },
    {
     "data": {
      "text/plain": [
       "[array([1.13162]), 0.6024096378360886]"
      ]
     },
     "execution_count": 18,
     "metadata": {},
     "output_type": "execute_result"
    }
   ],
   "source": [
    "%time learn.fit(1e-3, 2, cycle_len=16, wds=wd, use_wd_sched=True, use_clr=(20,8, 0.95, 0.85), best_save_name='Hirano3D_v1_dn121_8bit_bs32_sz224_v2')"
   ]
  },
  {
   "cell_type": "code",
   "execution_count": 19,
   "metadata": {},
   "outputs": [
    {
     "data": {
      "image/png": "[encoded data removed]",
      "text/plain": [
       "<Figure size 432x288 with 1 Axes>"
      ]
     },
     "metadata": {},
     "output_type": "display_data"
    }
   ],
   "source": [
    "learn.sched.plot_loss()"
   ]
  },
  {
   "cell_type": "code",
   "execution_count": 20,
   "metadata": {
    "scrolled": true
   },
   "outputs": [
    {
     "data": {
      "application/vnd.jupyter.widget-view+json": {
       "model_id": "6aa6717f12e749d8be4dac7b537521ec",
       "version_major": 2,
       "version_minor": 0
      },
      "text/plain": [
       "HBox(children=(IntProgress(value=0, description='Epoch', max=16), HTML(value='')))"
      ]
     },
     "metadata": {},
     "output_type": "display_data"
    },
    {
     "name": "stdout",
     "output_type": "stream",
     "text": [
      "EPOCH 0 ---------------------------------------- STEP 32                                                                                                                                                                                     \n",
      "epoch      trn_loss   val_loss   accuracy   \n",
      "    0      0.33739    1.329391   0.63253   \n",
      "EPOCH 1 ---------------------------------------- STEP 33                                                                                                                                                                                     \n",
      "    1      0.447565   1.642701   0.481928  \n",
      "EPOCH 2 ---------------------------------------- STEP 34                                                                                                                                                                                     \n",
      "    2      0.616699   1.485875   0.524096  \n",
      "EPOCH 3 ---------------------------------------- STEP 35                                                                                                                                                                                     \n",
      "    3      0.643013   1.258106   0.536145  \n",
      "EPOCH 4 ---------------------------------------- STEP 36                                                                                                                                                                                     \n",
      "    4      0.614086   1.339988   0.512048  \n",
      "EPOCH 5 ---------------------------------------- STEP 37                                                                                                                                                                                     \n",
      "    5      0.597984   1.317933   0.493976  \n",
      "EPOCH 6 ---------------------------------------- STEP 38                                                                                                                                                                                     \n",
      "    6      0.576937   1.625652   0.433735  \n",
      "EPOCH 7 ---------------------------------------- STEP 39                                                                                                                                                                                     \n",
      "    7      0.544682   1.238499   0.566265  \n",
      "EPOCH 8 ---------------------------------------- STEP 40                                                                                                                                                                                     \n",
      "    8      0.524118   1.339972   0.542169  \n",
      "EPOCH 9 ---------------------------------------- STEP 41                                                                                                                                                                                     \n",
      "    9      0.481549   1.19922    0.572289  \n",
      "EPOCH 10 ---------------------------------------- STEP 42                                                                                                                                                                                    \n",
      "    10     0.413493   1.316584   0.548193  \n",
      "EPOCH 11 ---------------------------------------- STEP 43                                                                                                                                                                                    \n",
      "    11     0.372104   1.334001   0.620482  \n",
      "EPOCH 12 ---------------------------------------- STEP 44                                                                                                                                                                                    \n",
      "    12     0.33867    1.272448   0.572289  \n",
      "EPOCH 13 ---------------------------------------- STEP 45                                                                                                                                                                                    \n",
      "    13     0.287788   1.235682   0.60241   \n",
      "EPOCH 14 ---------------------------------------- STEP 46                                                                                                                                                                                    \n",
      "    14     0.268085   1.228583   0.578313  \n",
      "EPOCH 15 ---------------------------------------- STEP 47                                                                                                                                                                                    \n",
      "    15     0.236308   1.206959   0.614458  \n",
      "\n",
      "appending existing log-files...\n",
      "log-files saved to: datasets/Hirano3D\n",
      "appending existing log-files...\n",
      "log-files saved to: datasets/Hirano3D\n",
      "Wall time: 6min 26s\n"
     ]
    },
    {
     "data": {
      "text/plain": [
       "[array([1.20696]), 0.614457830607173]"
      ]
     },
     "execution_count": 20,
     "metadata": {},
     "output_type": "execute_result"
    }
   ],
   "source": [
    "%time learn.fit(6e-4, 1, cycle_len=16, wds=wd, use_wd_sched=True, use_clr=(20,8, 0.95, 0.85), best_save_name='Hirano3D_v1_dn121_8bit_bs32_sz224_v2_2')"
   ]
  },
  {
   "cell_type": "code",
   "execution_count": 21,
   "metadata": {},
   "outputs": [
    {
     "data": {
      "application/vnd.jupyter.widget-view+json": {
       "model_id": "11e12da9204c4d319671e6fc82a79606",
       "version_major": 2,
       "version_minor": 0
      },
      "text/plain": [
       "HBox(children=(IntProgress(value=0, description='Epoch', max=32), HTML(value='')))"
      ]
     },
     "metadata": {},
     "output_type": "display_data"
    },
    {
     "name": "stdout",
     "output_type": "stream",
     "text": [
      "EPOCH 0 ---------------------------------------- STEP 48                                                                                                                                                                                     \n",
      "epoch      trn_loss   val_loss   accuracy   \n",
      "    0      0.322217   1.600793   0.53012   \n",
      "EPOCH 1 ---------------------------------------- STEP 49                                                                                                                                                                                     \n",
      "    1      0.584379   1.557682   0.506024  \n",
      "EPOCH 2 ---------------------------------------- STEP 50                                                                                                                                                                                     \n",
      "    2      0.636146   1.718524   0.427711  \n",
      "EPOCH 3 ---------------------------------------- STEP 51                                                                                                                                                                                     \n",
      "    3      0.587801   1.273903   0.548193  \n",
      "EPOCH 4 ---------------------------------------- STEP 52                                                                                                                                                                                     \n",
      "    4      0.524972   1.457618   0.548193  \n",
      "EPOCH 5 ---------------------------------------- STEP 53                                                                                                                                                                                     \n",
      "    5      0.458298   1.389638   0.554217  \n",
      "EPOCH 6 ---------------------------------------- STEP 54                                                                                                                                                                                     \n",
      "    6      0.408945   1.429465   0.560241  \n",
      "EPOCH 7 ---------------------------------------- STEP 55                                                                                                                                                                                     \n",
      "    7      0.352281   1.327002   0.542169  \n",
      "EPOCH 8 ---------------------------------------- STEP 56                                                                                                                                                                                     \n",
      "    8      0.319314   1.660274   0.542169  \n",
      "EPOCH 9 ---------------------------------------- STEP 57                                                                                                                                                                                     \n",
      "    9      0.400234   1.879908   0.451807  \n",
      "EPOCH 10 ---------------------------------------- STEP 58                                                                                                                                                                                    \n",
      "    10     0.454552   1.575835   0.475904  \n",
      "EPOCH 11 ---------------------------------------- STEP 59                                                                                                                                                                                    \n",
      "    11     0.456448   1.326167   0.536145  \n",
      "EPOCH 12 ---------------------------------------- STEP 60                                                                                                                                                                                    \n",
      "    12     0.440024   1.243955   0.578313  \n",
      "EPOCH 13 ---------------------------------------- STEP 61                                                                                                                                                                                    \n",
      "    13     0.39902    1.257615   0.590361  \n",
      "EPOCH 14 ---------------------------------------- STEP 62                                                                                                                                                                                    \n",
      "    14     0.344164   1.247034   0.620482  \n",
      "EPOCH 15 ---------------------------------------- STEP 63                                                                                                                                                                                    \n",
      "    15     0.304149   1.256709   0.638554  \n",
      "EPOCH 16 ---------------------------------------- STEP 64                                                                                                                                                                                    \n",
      "    16     0.270347   1.378364   0.60241   \n",
      "EPOCH 17 ---------------------------------------- STEP 65                                                                                                                                                                                    \n",
      "    17     0.330661   2.501663   0.493976  \n",
      "EPOCH 18 ---------------------------------------- STEP 66                                                                                                                                                                                    \n",
      "    18     0.402492   1.965492   0.409639  \n",
      "EPOCH 19 ---------------------------------------- STEP 67                                                                                                                                                                                    \n",
      "    19     0.439274   1.486438   0.53012   \n",
      "EPOCH 20 ---------------------------------------- STEP 68                                                                                                                                                                                    \n",
      "    20     0.423987   1.20269    0.620482  \n",
      "EPOCH 21 ---------------------------------------- STEP 69                                                                                                                                                                                    \n",
      "    21     0.369499   1.276584   0.596386  \n",
      "EPOCH 22 ---------------------------------------- STEP 70                                                                                                                                                                                    \n",
      "    22     0.323669   1.212382   0.608434  \n",
      "EPOCH 23 ---------------------------------------- STEP 71                                                                                                                                                                                    \n",
      "    23     0.267395   1.254086   0.638554  \n",
      "EPOCH 24 ---------------------------------------- STEP 72                                                                                                                                                                                    \n",
      "    24     0.240025   1.499359   0.542169  \n",
      "EPOCH 25 ---------------------------------------- STEP 73                                                                                                                                                                                    \n",
      "    25     0.289356   1.623812   0.542169  \n",
      "EPOCH 26 ---------------------------------------- STEP 74                                                                                                                                                                                    \n",
      "    26     0.353383   1.599319   0.560241  \n",
      "EPOCH 27 ---------------------------------------- STEP 75                                                                                                                                                                                    \n",
      "    27     0.362734   1.451652   0.644578  \n",
      "EPOCH 28 ---------------------------------------- STEP 76                                                                                                                                                                                    \n",
      "    28     0.350103   1.366721   0.566265  \n",
      "EPOCH 29 ---------------------------------------- STEP 77                                                                                                                                                                                    \n",
      "    29     0.322714   1.349335   0.536145  \n",
      "EPOCH 30 ---------------------------------------- STEP 78                                                                                                                                                                                    \n",
      "    30     0.278569   1.315423   0.60241   \n",
      "EPOCH 31 ---------------------------------------- STEP 79                                                                                                                                                                                    \n",
      "    31     0.240325   1.26215    0.626506  \n",
      "\n",
      "appending existing log-files...\n",
      "log-files saved to: datasets/Hirano3D\n",
      "appending existing log-files...\n",
      "log-files saved to: datasets/Hirano3D\n",
      "Wall time: 14min 1s\n"
     ]
    },
    {
     "data": {
      "text/plain": [
       "[array([1.26215]), 0.6265060248145138]"
      ]
     },
     "execution_count": 21,
     "metadata": {},
     "output_type": "execute_result"
    }
   ],
   "source": [
    "%time learn.fit(8e-4, 4, cycle_len=8, wds=wd, use_wd_sched=True, use_clr=(20,8, 0.95, 0.85), best_save_name='Hirano3D_v1_dn121_8bit_bs32_sz224_v2_2')"
   ]
  },
  {
   "cell_type": "code",
   "execution_count": 22,
   "metadata": {},
   "outputs": [
    {
     "data": {
      "application/vnd.jupyter.widget-view+json": {
       "model_id": "4724357af73e42aba2ae67c1f5e3da13",
       "version_major": 2,
       "version_minor": 0
      },
      "text/plain": [
       "HBox(children=(IntProgress(value=0, description='Epoch', max=32), HTML(value='')))"
      ]
     },
     "metadata": {},
     "output_type": "display_data"
    },
    {
     "name": "stdout",
     "output_type": "stream",
     "text": [
      "EPOCH 0 ---------------------------------------- STEP 80                                                                                                                                                                                     \n",
      "epoch      trn_loss   val_loss   accuracy   \n",
      "    0      0.14351    1.222646   0.626506  \n",
      "EPOCH 1 ---------------------------------------- STEP 81                                                                                                                                                                                     \n",
      "    1      0.126164   1.403043   0.614458  \n",
      "EPOCH 2 ---------------------------------------- STEP 82                                                                                                                                                                                     \n",
      "    2      0.126797   1.38206    0.626506  \n",
      "EPOCH 3 ---------------------------------------- STEP 83                                                                                                                                                                                     \n",
      "    3      0.120005   1.277625   0.644578  \n",
      "EPOCH 4 ---------------------------------------- STEP 84                                                                                                                                                                                     \n",
      "    4      0.11382    1.253274   0.638554  \n",
      "EPOCH 5 ---------------------------------------- STEP 85                                                                                                                                                                                     \n",
      "    5      0.101975   1.275      0.626506  \n",
      "EPOCH 6 ---------------------------------------- STEP 86                                                                                                                                                                                     \n",
      "    6      0.091271   1.270312   0.644578  \n",
      "EPOCH 7 ---------------------------------------- STEP 87                                                                                                                                                                                     \n",
      "    7      0.08542    1.274526   0.644578  \n",
      "EPOCH 8 ---------------------------------------- STEP 88                                                                                                                                                                                     \n",
      "    8      0.082132   1.287732   0.63253   \n",
      "EPOCH 9 ---------------------------------------- STEP 89                                                                                                                                                                                     \n",
      "    9      0.081089   1.298767   0.662651  \n",
      "EPOCH 10 ---------------------------------------- STEP 90                                                                                                                                                                                    \n",
      "    10     0.07118    1.308656   0.644578  \n",
      "EPOCH 11 ---------------------------------------- STEP 91                                                                                                                                                                                    \n",
      "    11     0.067837   1.33193    0.650602  \n",
      "EPOCH 12 ---------------------------------------- STEP 92                                                                                                                                                                                    \n",
      "    12     0.069038   1.33948    0.650602  \n",
      "EPOCH 13 ---------------------------------------- STEP 93                                                                                                                                                                                    \n",
      "    13     0.062945   1.381467   0.644578  \n",
      "EPOCH 14 ---------------------------------------- STEP 94                                                                                                                                                                                    \n",
      "    14     0.057008   1.374946   0.638554  \n",
      "EPOCH 15 ---------------------------------------- STEP 95                                                                                                                                                                                    \n",
      "    15     0.054448   1.377766   0.656627  \n",
      "EPOCH 16 ---------------------------------------- STEP 96                                                                                                                                                                                    \n",
      "    16     0.052203   1.438348   0.626506  \n",
      "EPOCH 17 ---------------------------------------- STEP 97                                                                                                                                                                                    \n",
      "    17     0.050268   1.415011   0.620482  \n",
      "EPOCH 18 ---------------------------------------- STEP 98                                                                                                                                                                                    \n",
      "    18     0.049458   1.396263   0.620482  \n",
      "EPOCH 19 ---------------------------------------- STEP 99                                                                                                                                                                                    \n",
      "    19     0.053003   1.442832   0.608434  \n",
      "EPOCH 20 ---------------------------------------- STEP 100                                                                                                                                                                                   \n",
      "    20     0.048972   1.460537   0.60241   \n",
      "EPOCH 21 ---------------------------------------- STEP 101                                                                                                                                                                                   \n",
      "    21     0.046749   1.432825   0.584337  \n",
      "EPOCH 22 ---------------------------------------- STEP 102                                                                                                                                                                                   \n",
      "    22     0.044468   1.38797    0.608434  \n",
      "EPOCH 23 ---------------------------------------- STEP 103                                                                                                                                                                                   \n",
      "    23     0.041188   1.393653   0.596386  \n",
      "EPOCH 24 ---------------------------------------- STEP 104                                                                                                                                                                                   \n",
      "    24     0.037083   1.363554   0.63253   \n",
      "EPOCH 25 ---------------------------------------- STEP 105                                                                                                                                                                                   \n",
      "    25     0.037476   1.394412   0.620482  \n",
      "EPOCH 26 ---------------------------------------- STEP 106                                                                                                                                                                                   \n",
      "    26     0.037608   1.423182   0.644578  \n",
      "EPOCH 27 ---------------------------------------- STEP 107                                                                                                                                                                                   \n",
      "    27     0.034699   1.449731   0.644578  \n",
      "EPOCH 28 ---------------------------------------- STEP 108                                                                                                                                                                                   \n",
      "    28     0.033695   1.404181   0.650602  \n",
      "EPOCH 29 ---------------------------------------- STEP 109                                                                                                                                                                                   \n",
      "    29     0.030439   1.396138   0.638554  \n",
      "EPOCH 30 ---------------------------------------- STEP 110                                                                                                                                                                                   \n",
      "    30     0.031401   1.414485   0.644578  \n",
      "EPOCH 31 ---------------------------------------- STEP 111                                                                                                                                                                                   \n",
      "    31     0.029222   1.393354   0.662651  \n",
      "\n",
      "appending existing log-files...\n",
      "log-files saved to: datasets/Hirano3D\n",
      "appending existing log-files...\n",
      "log-files saved to: datasets/Hirano3D\n",
      "Wall time: 13min 19s\n"
     ]
    },
    {
     "data": {
      "text/plain": [
       "[array([1.39335]), 0.6626506031277668]"
      ]
     },
     "execution_count": 22,
     "metadata": {},
     "output_type": "execute_result"
    }
   ],
   "source": [
    "%time learn.fit(1e-4, 4, cycle_len=8, wds=wd, use_wd_sched=True, use_clr=(20,8, 0.95, 0.85), best_save_name='Hirano3D_v1_dn121_8bit_bs32_sz224_v2_3')"
   ]
  },
  {
   "cell_type": "code",
   "execution_count": 23,
   "metadata": {
    "scrolled": true
   },
   "outputs": [
    {
     "data": {
      "application/vnd.jupyter.widget-view+json": {
       "model_id": "e5fc1be3478242bbbb182d061a625eb1",
       "version_major": 2,
       "version_minor": 0
      },
      "text/plain": [
       "HBox(children=(IntProgress(value=0, description='Epoch', max=32), HTML(value='')))"
      ]
     },
     "metadata": {},
     "output_type": "display_data"
    },
    {
     "name": "stdout",
     "output_type": "stream",
     "text": [
      "EPOCH 0 ---------------------------------------- STEP 112                                                                                                                                                                                    \n",
      "epoch      trn_loss   val_loss   accuracy   \n",
      "    0      0.031391   1.463439   0.644578  \n",
      "EPOCH 1 ---------------------------------------- STEP 113                                                                                                                                                                                    \n",
      "    1      0.030422   1.452      0.662651  \n",
      "EPOCH 2 ---------------------------------------- STEP 114                                                                                                                                                                                    \n",
      "    2      0.025333   1.463051   0.63253   \n",
      "EPOCH 3 ---------------------------------------- STEP 115                                                                                                                                                                                    \n",
      "    3      0.033577   1.438728   0.662651  \n",
      "EPOCH 4 ---------------------------------------- STEP 116                                                                                                                                                                                    \n",
      "    4      0.034229   1.423751   0.656627  \n",
      "EPOCH 5 ---------------------------------------- STEP 117                                                                                                                                                                                    \n",
      "    5      0.029219   1.381927   0.674699  \n",
      "EPOCH 6 ---------------------------------------- STEP 118                                                                                                                                                                                    \n",
      "    6      0.027344   1.403442   0.638554  \n",
      "EPOCH 7 ---------------------------------------- STEP 119                                                                                                                                                                                    \n",
      "    7      0.029142   1.434419   0.638554  \n",
      "EPOCH 8 ---------------------------------------- STEP 120                                                                                                                                                                                    \n",
      "    8      0.024983   1.431436   0.638554  \n",
      "EPOCH 9 ---------------------------------------- STEP 121                                                                                                                                                                                    \n",
      "    9      0.022068   1.474119   0.626506  \n",
      "EPOCH 10 ---------------------------------------- STEP 122                                                                                                                                                                                   \n",
      "    10     0.020814   1.474065   0.626506  \n",
      "EPOCH 11 ---------------------------------------- STEP 123                                                                                                                                                                                   \n",
      "    11     0.020678   1.438406   0.63253   \n",
      "EPOCH 12 ---------------------------------------- STEP 124                                                                                                                                                                                   \n",
      "    12     0.023108   1.444731   0.620482  \n",
      "EPOCH 13 ---------------------------------------- STEP 125                                                                                                                                                                                   \n",
      "    13     0.021416   1.487357   0.620482  \n",
      "EPOCH 14 ---------------------------------------- STEP 126                                                                                                                                                                                   \n",
      "    14     0.018698   1.451188   0.638554  \n",
      "EPOCH 15 ---------------------------------------- STEP 127                                                                                                                                                                                   \n",
      "    15     0.020846   1.495268   0.608434  \n",
      "EPOCH 16 ---------------------------------------- STEP 128                                                                                                                                                                                   \n",
      "    16     0.021926   1.471675   0.63253   \n",
      "EPOCH 17 ---------------------------------------- STEP 129                                                                                                                                                                                   \n",
      "    17     0.021894   1.503955   0.644578  \n",
      "EPOCH 18 ---------------------------------------- STEP 130                                                                                                                                                                                   \n",
      "    18     0.023119   1.467087   0.626506  \n",
      "EPOCH 19 ---------------------------------------- STEP 131                                                                                                                                                                                   \n",
      "    19     0.020323   1.479508   0.638554  \n",
      "EPOCH 20 ---------------------------------------- STEP 132                                                                                                                                                                                   \n",
      "    20     0.017686   1.517707   0.626506  \n",
      "EPOCH 21 ---------------------------------------- STEP 133                                                                                                                                                                                   \n",
      "    21     0.017031   1.549383   0.63253   \n",
      "EPOCH 22 ---------------------------------------- STEP 134                                                                                                                                                                                   \n",
      "    22     0.019827   1.494752   0.638554  \n",
      "EPOCH 23 ---------------------------------------- STEP 135                                                                                                                                                                                   \n",
      "    23     0.018927   1.517919   0.650602  \n",
      "EPOCH 24 ---------------------------------------- STEP 136                                                                                                                                                                                   \n",
      "    24     0.02029    1.528405   0.626506  \n",
      "EPOCH 25 ---------------------------------------- STEP 137                                                                                                                                                                                   \n",
      "    25     0.021738   1.439846   0.650602  \n",
      "EPOCH 26 ---------------------------------------- STEP 138                                                                                                                                                                                   \n",
      "    26     0.019862   1.545299   0.650602  \n",
      "EPOCH 27 ---------------------------------------- STEP 139                                                                                                                                                                                   \n",
      "    27     0.020244   1.568948   0.644578  \n",
      "EPOCH 28 ---------------------------------------- STEP 140                                                                                                                                                                                   \n",
      "    28     0.018252   1.507957   0.650602  \n",
      "EPOCH 29 ---------------------------------------- STEP 141                                                                                                                                                                                   \n",
      "    29     0.01562    1.494476   0.644578  \n",
      "EPOCH 30 ---------------------------------------- STEP 142                                                                                                                                                                                   \n",
      "    30     0.015767   1.504309   0.638554  \n",
      "EPOCH 31 ---------------------------------------- STEP 143                                                                                                                                                                                   \n",
      "    31     0.016884   1.526849   0.644578  \n",
      "\n",
      "appending existing log-files...\n",
      "log-files saved to: datasets/Hirano3D\n",
      "appending existing log-files...\n",
      "log-files saved to: datasets/Hirano3D\n",
      "Wall time: 13min 19s\n"
     ]
    },
    {
     "data": {
      "text/plain": [
       "[array([1.52685]), 0.6445783139711403]"
      ]
     },
     "execution_count": 23,
     "metadata": {},
     "output_type": "execute_result"
    }
   ],
   "source": [
    "%time learn.fit(5e-5, 4, cycle_len=8, wds=wd, use_wd_sched=True, use_clr=(20,8, 0.95, 0.85), best_save_name='Hirano3D_v1_dn121_8bit_bs32_sz224_v2_4')"
   ]
  },
  {
   "cell_type": "code",
   "execution_count": 24,
   "metadata": {
    "scrolled": true
   },
   "outputs": [
    {
     "data": {
      "application/vnd.jupyter.widget-view+json": {
       "model_id": "f376ad0e057a42729eac68eba3100fdd",
       "version_major": 2,
       "version_minor": 0
      },
      "text/plain": [
       "HBox(children=(IntProgress(value=0, description='Epoch', max=32), HTML(value='')))"
      ]
     },
     "metadata": {},
     "output_type": "display_data"
    },
    {
     "name": "stdout",
     "output_type": "stream",
     "text": [
      "EPOCH 0 ---------------------------------------- STEP 144                                                                                                                                                                                    \n",
      "epoch      trn_loss   val_loss   accuracy   \n",
      "    0      0.026007   1.542364   0.650602  \n",
      "EPOCH 1 ---------------------------------------- STEP 145                                                                                                                                                                                    \n",
      "    1      0.019589   1.562376   0.644578  \n",
      "EPOCH 2 ---------------------------------------- STEP 146                                                                                                                                                                                    \n",
      "    2      0.019904   1.573586   0.63253   \n",
      "EPOCH 3 ---------------------------------------- STEP 147                                                                                                                                                                                    \n",
      "    3      0.01647    1.539182   0.656627  \n",
      "EPOCH 4 ---------------------------------------- STEP 148                                                                                                                                                                                    \n",
      "    4      0.0142     1.531706   0.644578  \n",
      "EPOCH 5 ---------------------------------------- STEP 149                                                                                                                                                                                    \n",
      "    5      0.014535   1.47262    0.662651  \n",
      "EPOCH 6 ---------------------------------------- STEP 150                                                                                                                                                                                    \n",
      "    6      0.015209   1.502142   0.644578  \n",
      "EPOCH 7 ---------------------------------------- STEP 151                                                                                                                                                                                    \n",
      "    7      0.020224   1.539182   0.638554  \n",
      "EPOCH 8 ---------------------------------------- STEP 152                                                                                                                                                                                    \n",
      "    8      0.01913    1.492718   0.644578  \n",
      "EPOCH 9 ---------------------------------------- STEP 153                                                                                                                                                                                    \n",
      "    9      0.016918   1.491396   0.650602  \n",
      "EPOCH 10 ---------------------------------------- STEP 154                                                                                                                                                                                   \n",
      "    10     0.014369   1.525694   0.650602  \n",
      "EPOCH 11 ---------------------------------------- STEP 155                                                                                                                                                                                   \n",
      "    11     0.015583   1.532812   0.662651  \n",
      "EPOCH 12 ---------------------------------------- STEP 156                                                                                                                                                                                   \n",
      "    12     0.012939   1.522629   0.650602  \n",
      "EPOCH 13 ---------------------------------------- STEP 157                                                                                                                                                                                   \n",
      "    13     0.011378   1.530263   0.638554  \n",
      "EPOCH 14 ---------------------------------------- STEP 158                                                                                                                                                                                   \n",
      "    14     0.011199   1.493426   0.662651  \n",
      "EPOCH 15 ---------------------------------------- STEP 159                                                                                                                                                                                   \n",
      "    15     0.012461   1.494609   0.644578  \n",
      "EPOCH 16 ---------------------------------------- STEP 160                                                                                                                                                                                   \n",
      "    16     0.011725   1.522897   0.638554  \n",
      "EPOCH 17 ---------------------------------------- STEP 161                                                                                                                                                                                   \n",
      "    17     0.010921   1.527339   0.626506  \n",
      "EPOCH 18 ---------------------------------------- STEP 162                                                                                                                                                                                   \n",
      "    18     0.010557   1.51268    0.644578  \n",
      "EPOCH 19 ---------------------------------------- STEP 163                                                                                                                                                                                   \n",
      "    19     0.010479   1.546814   0.656627  \n",
      "EPOCH 20 ---------------------------------------- STEP 164                                                                                                                                                                                   \n",
      "    20     0.01249    1.536716   0.656627  \n",
      "EPOCH 21 ---------------------------------------- STEP 165                                                                                                                                                                                   \n",
      "    21     0.014199   1.521626   0.650602  \n",
      "EPOCH 22 ---------------------------------------- STEP 166                                                                                                                                                                                   \n",
      "    22     0.013483   1.55384    0.638554  \n",
      "EPOCH 23 ---------------------------------------- STEP 167                                                                                                                                                                                   \n",
      "    23     0.014847   1.534217   0.620482  \n",
      "EPOCH 24 ---------------------------------------- STEP 168                                                                                                                                                                                   \n",
      "    24     0.014255   1.566986   0.626506  \n",
      "EPOCH 25 ---------------------------------------- STEP 169                                                                                                                                                                                   \n",
      "    25     0.01258    1.556585   0.638554  \n",
      "EPOCH 26 ---------------------------------------- STEP 170                                                                                                                                                                                   \n",
      "    26     0.011959   1.545557   0.662651  \n",
      "EPOCH 27 ---------------------------------------- STEP 171                                                                                                                                                                                   \n",
      "    27     0.011493   1.505259   0.650602  \n",
      "EPOCH 28 ---------------------------------------- STEP 172                                                                                                                                                                                   \n",
      "    28     0.012854   1.571918   0.638554  \n",
      "EPOCH 29 ---------------------------------------- STEP 173                                                                                                                                                                                   \n",
      "    29     0.01096    1.539723   0.63253   \n",
      "EPOCH 30 ---------------------------------------- STEP 174                                                                                                                                                                                   \n",
      "    30     0.011069   1.53293    0.656627  \n",
      "EPOCH 31 ---------------------------------------- STEP 175                                                                                                                                                                                   \n",
      "    31     0.010922   1.500591   0.638554  \n",
      "\n",
      "appending existing log-files...\n",
      "log-files saved to: datasets/Hirano3D\n",
      "appending existing log-files...\n",
      "log-files saved to: datasets/Hirano3D\n",
      "Wall time: 12min 6s\n"
     ]
    },
    {
     "data": {
      "text/plain": [
       "[array([1.50059]), 0.6385542175855982]"
      ]
     },
     "execution_count": 24,
     "metadata": {},
     "output_type": "execute_result"
    }
   ],
   "source": [
    "%time learn.fit(1e-5, 4, cycle_len=8, wds=wd, use_wd_sched=True, use_clr=(20,8, 0.95, 0.85), best_save_name='Hirano3D_v1_dn121_8bit_bs32_sz224_v2_5')"
   ]
  },
  {
   "cell_type": "code",
   "execution_count": 25,
   "metadata": {},
   "outputs": [
    {
     "data": {
      "application/vnd.jupyter.widget-view+json": {
       "model_id": "a2112d0816af45448f8072880edea7ee",
       "version_major": 2,
       "version_minor": 0
      },
      "text/plain": [
       "HBox(children=(IntProgress(value=0, description='Epoch', max=32), HTML(value='')))"
      ]
     },
     "metadata": {},
     "output_type": "display_data"
    },
    {
     "name": "stdout",
     "output_type": "stream",
     "text": [
      "EPOCH 0 ---------------------------------------- STEP 176                                                                                                                                                                                    \n",
      "epoch      trn_loss   val_loss   accuracy   \n",
      "    0      0.011268   1.535957   0.662651  \n",
      "EPOCH 1 ---------------------------------------- STEP 177                                                                                                                                                                                    \n",
      "    1      0.012036   1.481114   0.656627  \n",
      "EPOCH 2 ---------------------------------------- STEP 178                                                                                                                                                                                    \n",
      "    2      0.010604   1.524911   0.644578  \n",
      "EPOCH 3 ---------------------------------------- STEP 179                                                                                                                                                                                    \n",
      "    3      0.009953   1.524801   0.638554  \n",
      "EPOCH 4 ---------------------------------------- STEP 180                                                                                                                                                                                    \n",
      "    4      0.010125   1.540579   0.638554  \n",
      "EPOCH 5 ---------------------------------------- STEP 181                                                                                                                                                                                    \n",
      "    5      0.010809   1.550329   0.668675  \n",
      "EPOCH 6 ---------------------------------------- STEP 182                                                                                                                                                                                    \n",
      "    6      0.012468   1.550932   0.644578  \n",
      "EPOCH 7 ---------------------------------------- STEP 183                                                                                                                                                                                    \n",
      "    7      0.012047   1.534303   0.662651  \n",
      "EPOCH 8 ---------------------------------------- STEP 184                                                                                                                                                                                    \n",
      "    8      0.011378   1.573331   0.668675  \n",
      "EPOCH 9 ---------------------------------------- STEP 185                                                                                                                                                                                    \n",
      "    9      0.011927   1.495101   0.656627  \n",
      "EPOCH 10 ---------------------------------------- STEP 186                                                                                                                                                                                   \n",
      "    10     0.010416   1.543531   0.644578  \n",
      "EPOCH 11 ---------------------------------------- STEP 187                                                                                                                                                                                   \n",
      "    11     0.010282   1.55693    0.668675  \n",
      "EPOCH 12 ---------------------------------------- STEP 188                                                                                                                                                                                   \n",
      "    12     0.010384   1.567105   0.650602  \n",
      "EPOCH 13 ---------------------------------------- STEP 189                                                                                                                                                                                   \n",
      "    13     0.009663   1.539425   0.644578  \n",
      "EPOCH 14 ---------------------------------------- STEP 190                                                                                                                                                                                   \n",
      "    14     0.008921   1.559439   0.638554  \n",
      "EPOCH 15 ---------------------------------------- STEP 191                                                                                                                                                                                   \n",
      "    15     0.008929   1.578817   0.626506  \n",
      "EPOCH 16 ---------------------------------------- STEP 192                                                                                                                                                                                   \n",
      "    16     0.010128   1.548074   0.626506  \n",
      "EPOCH 17 ---------------------------------------- STEP 193                                                                                                                                                                                   \n",
      "    17     0.010518   1.549719   0.644578  \n",
      "EPOCH 18 ---------------------------------------- STEP 194                                                                                                                                                                                   \n",
      "    18     0.012092   1.509832   0.668675  \n",
      "EPOCH 19 ---------------------------------------- STEP 195                                                                                                                                                                                   \n",
      "    19     0.01537    1.531072   0.662651  \n",
      "EPOCH 20 ---------------------------------------- STEP 196                                                                                                                                                                                   \n",
      "    20     0.01571    1.559058   0.668675  \n",
      "EPOCH 21 ---------------------------------------- STEP 197                                                                                                                                                                                   \n",
      "    21     0.013208   1.506438   0.650602  \n",
      "EPOCH 22 ---------------------------------------- STEP 198                                                                                                                                                                                   \n",
      "    22     0.01199    1.509008   0.662651  \n",
      "EPOCH 23 ---------------------------------------- STEP 199                                                                                                                                                                                   \n",
      "    23     0.012044   1.54214    0.644578  \n",
      "EPOCH 24 ---------------------------------------- STEP 200                                                                                                                                                                                   \n",
      "    24     0.014179   1.507624   0.650602  \n",
      "EPOCH 25 ---------------------------------------- STEP 201                                                                                                                                                                                   \n",
      "    25     0.012094   1.49565    0.656627  \n",
      "EPOCH 26 ---------------------------------------- STEP 202                                                                                                                                                                                   \n",
      "    26     0.011574   1.532616   0.650602  \n",
      "EPOCH 27 ---------------------------------------- STEP 203                                                                                                                                                                                   \n",
      "    27     0.011492   1.565867   0.650602  \n",
      "EPOCH 28 ---------------------------------------- STEP 204                                                                                                                                                                                   \n",
      "    28     0.010936   1.567048   0.644578  \n",
      "EPOCH 29 ---------------------------------------- STEP 205                                                                                                                                                                                   \n",
      "    29     0.011268   1.556188   0.638554  \n",
      "EPOCH 30 ---------------------------------------- STEP 206                                                                                                                                                                                   \n",
      "    30     0.011204   1.509924   0.662651  \n",
      "EPOCH 31 ---------------------------------------- STEP 207                                                                                                                                                                                   \n",
      "    31     0.010119   1.555196   0.656627  \n",
      "\n",
      "appending existing log-files...\n",
      "log-files saved to: datasets/Hirano3D\n",
      "appending existing log-files...\n",
      "log-files saved to: datasets/Hirano3D\n",
      "Wall time: 12min 8s\n"
     ]
    },
    {
     "data": {
      "text/plain": [
       "[array([1.5552]), 0.6566265067422247]"
      ]
     },
     "execution_count": 25,
     "metadata": {},
     "output_type": "execute_result"
    }
   ],
   "source": [
    "%time learn.fit(5e-6, 4, cycle_len=8, wds=wd, use_wd_sched=True, use_clr=(20,8, 0.95, 0.85), best_save_name='Hirano3D_v1_dn121_8bit_bs32_sz224_v2_6')"
   ]
  },
  {
   "cell_type": "code",
   "execution_count": null,
   "metadata": {},
   "outputs": [],
   "source": [
    "%time learn.fit(1e-5, 4, cycle_len=8, wds=wd, use_wd_sched=True, use_clr=(20,8, 0.95, 0.85), best_save_name='Hirano3D_v1_dn121_8bit_bs32_sz224_v2_7')"
   ]
  },
  {
   "cell_type": "code",
   "execution_count": null,
   "metadata": {},
   "outputs": [],
   "source": [
    "%time learn.fit(1e-4, 2, cycle_len=16, wds=wd, use_wd_sched=True, use_clr=(20,8, 0.95, 0.85), best_save_name='Hirano3D_v1_dn121_8bit_bs32_sz224_v2')"
   ]
  },
  {
   "cell_type": "code",
   "execution_count": null,
   "metadata": {},
   "outputs": [],
   "source": []
  },
  {
   "cell_type": "code",
   "execution_count": null,
   "metadata": {},
   "outputs": [],
   "source": []
  },
  {
   "cell_type": "code",
   "execution_count": null,
   "metadata": {
    "scrolled": true
   },
   "outputs": [],
   "source": [
    "%time learn.fit(1e-3, 2, cycle_len=16, wds=wd, use_wd_sched=True, use_clr=(20,8, 0.95, 0.85))"
   ]
  },
  {
   "cell_type": "code",
   "execution_count": null,
   "metadata": {
    "scrolled": true
   },
   "outputs": [],
   "source": [
    "learn.sched.plot_lr()"
   ]
  },
  {
   "cell_type": "code",
   "execution_count": null,
   "metadata": {
    "scrolled": true
   },
   "outputs": [],
   "source": [
    "%time learn.fit(6e-4, 2, cycle_len=16, wds=wd, use_wd_sched=True, use_clr=(20,8, 0.95, 0.85))"
   ]
  },
  {
   "cell_type": "code",
   "execution_count": null,
   "metadata": {},
   "outputs": [],
   "source": [
    "wd = 1e-10\n",
    "%time learn.fit(6e-4, 2, cycle_len=16, wds=wd, use_wd_sched=True, use_clr=(20,8, 0.95, 0.85))"
   ]
  },
  {
   "cell_type": "code",
   "execution_count": null,
   "metadata": {},
   "outputs": [],
   "source": []
  },
  {
   "cell_type": "code",
   "execution_count": null,
   "metadata": {},
   "outputs": [],
   "source": [
    "# define augmentations\n",
    "augs = [RandomDihedral()]\n",
    "NUM_CLASSES = 4\n",
    "bs = 64\n",
    "sz = [4,256,256]\n",
    "lbl_csv = path + '8bit_multi_folder_Hirano3D_v1.csv'\n",
    "# initialize data object\n",
    "data_64_256 = get_data(PATH, lbl_csv, val_idxs, sz, bs, aug_tfms = augs)\n",
    "learn.set_data(data_64_256)"
   ]
  },
  {
   "cell_type": "code",
   "execution_count": null,
   "metadata": {},
   "outputs": [],
   "source": [
    "learn.data.bs"
   ]
  },
  {
   "cell_type": "code",
   "execution_count": null,
   "metadata": {},
   "outputs": [],
   "source": [
    "%time learn.fit(1e-3, 1, cycle_len=4, wds=wd, use_wd_sched=True)"
   ]
  },
  {
   "cell_type": "code",
   "execution_count": null,
   "metadata": {
    "scrolled": true
   },
   "outputs": [],
   "source": [
    "%time learn.fit(1e-3, 1, cycle_len=24, wds=wd, use_wd_sched=True)"
   ]
  },
  {
   "cell_type": "code",
   "execution_count": null,
   "metadata": {},
   "outputs": [],
   "source": [
    "%time learn.fit(1e-2, 5, wds=wd, use_wd_sched=True)"
   ]
  },
  {
   "cell_type": "code",
   "execution_count": null,
   "metadata": {},
   "outputs": [],
   "source": [
    "%time learn.fit(8e-3, 6, wds=wd, use_wd_sched=True)"
   ]
  },
  {
   "cell_type": "code",
   "execution_count": null,
   "metadata": {
    "scrolled": true
   },
   "outputs": [],
   "source": [
    "%time learn.fit(1e-3, 2, cycle_len=8, wds=wd, use_wd_sched=True, use_clr=(20,8, 0.95, 0.85))"
   ]
  },
  {
   "cell_type": "code",
   "execution_count": null,
   "metadata": {
    "scrolled": true
   },
   "outputs": [],
   "source": [
    "%time learn.fit(8e-4, 1, cycle_len=16, wds=wd, use_wd_sched=True, use_clr=(20,8, 0.95, 0.85))"
   ]
  },
  {
   "cell_type": "code",
   "execution_count": null,
   "metadata": {},
   "outputs": [],
   "source": [
    "learn.sched.plot_lr()"
   ]
  },
  {
   "cell_type": "code",
   "execution_count": null,
   "metadata": {
    "scrolled": true
   },
   "outputs": [],
   "source": [
    "%time learn.fit(3e-4, 1, cycle_len=16, wds=wd, use_wd_sched=True, use_clr=(20,8, 0.95, 0.85))"
   ]
  },
  {
   "cell_type": "code",
   "execution_count": null,
   "metadata": {},
   "outputs": [],
   "source": [
    "%time learn.fit(1e-4, 1, cycle_len=16, wds=wd, use_wd_sched=True, use_clr=(20,8, 0.95, 0.85))"
   ]
  },
  {
   "cell_type": "code",
   "execution_count": null,
   "metadata": {},
   "outputs": [],
   "source": [
    "learn.lr_find2()"
   ]
  },
  {
   "cell_type": "code",
   "execution_count": null,
   "metadata": {
    "scrolled": true
   },
   "outputs": [],
   "source": [
    "learn.sched.plot_lr()"
   ]
  },
  {
   "cell_type": "code",
   "execution_count": null,
   "metadata": {},
   "outputs": [],
   "source": [
    "learn.save('Hirano3D_v1_dn121_bs128_128_1_42')"
   ]
  },
  {
   "cell_type": "code",
   "execution_count": null,
   "metadata": {},
   "outputs": [],
   "source": [
    "# define augmentations\n",
    "augs = [RandomDihedral()]\n",
    "NUM_CLASSES = 4\n",
    "bs = 64\n",
    "sz = [4,128,128]\n",
    "\n",
    "lbl_csv = path + '8bit_multi_folder_Hirano3D_v1.csv'\n",
    "# initialize data object\n",
    "data_64_128 = get_data(PATH, lbl_csv, val_idxs, sz, bs, aug_tfms = augs)\n",
    "learn.set_data(data_64_128)"
   ]
  },
  {
   "cell_type": "code",
   "execution_count": null,
   "metadata": {},
   "outputs": [],
   "source": [
    "learn.data.sz"
   ]
  },
  {
   "cell_type": "code",
   "execution_count": null,
   "metadata": {},
   "outputs": [],
   "source": [
    "learn.lr_find2()\n",
    "learn.sched.plot_lr()"
   ]
  },
  {
   "cell_type": "code",
   "execution_count": null,
   "metadata": {},
   "outputs": [],
   "source": []
  },
  {
   "cell_type": "code",
   "execution_count": null,
   "metadata": {},
   "outputs": [],
   "source": []
  },
  {
   "cell_type": "code",
   "execution_count": null,
   "metadata": {},
   "outputs": [],
   "source": []
  },
  {
   "cell_type": "code",
   "execution_count": null,
   "metadata": {},
   "outputs": [],
   "source": []
  },
  {
   "cell_type": "code",
   "execution_count": null,
   "metadata": {},
   "outputs": [],
   "source": []
  },
  {
   "cell_type": "code",
   "execution_count": null,
   "metadata": {},
   "outputs": [],
   "source": [
    "# training loops:"
   ]
  },
  {
   "cell_type": "code",
   "execution_count": null,
   "metadata": {},
   "outputs": [],
   "source": [
    "learn.sched.__dict__.keys()"
   ]
  },
  {
   "cell_type": "code",
   "execution_count": null,
   "metadata": {},
   "outputs": [],
   "source": []
  },
  {
   "cell_type": "code",
   "execution_count": null,
   "metadata": {
    "scrolled": true
   },
   "outputs": [],
   "source": [
    "\n",
    "\n",
    "_per_iter = [[i, learn.sched.losses[idx], learn.sched.lrs[idx]] for idx, i in enumerate(learn.sched.iterations)]\n",
    "_per_iter = pd.DataFrame(per_iter, columns=['Iteration', 'trn_loss', 'lr'])\n",
    "per_iter_df.append(_per_iter)\n",
    "\n",
    "if learn.sched.glob_step: \n",
    "    per_iter_df = _per_iter\n",
    "    print('created')\n",
    "else: \n",
    "    per_iter_df.append(_per_iter)\n",
    "    print('appended')"
   ]
  },
  {
   "cell_type": "code",
   "execution_count": null,
   "metadata": {},
   "outputs": [],
   "source": [
    "learn.sched.plot_lr()"
   ]
  },
  {
   "cell_type": "code",
   "execution_count": null,
   "metadata": {},
   "outputs": [],
   "source": [
    "%time learn.fit(1e-2, 2, cycle_len=1, wds=wd, use_wd_sched=True)"
   ]
  },
  {
   "cell_type": "code",
   "execution_count": null,
   "metadata": {},
   "outputs": [],
   "source": [
    "learn.sched.Glob_lrs"
   ]
  },
  {
   "cell_type": "code",
   "execution_count": null,
   "metadata": {},
   "outputs": [],
   "source": [
    "learn.sched.plot_loss()"
   ]
  },
  {
   "cell_type": "code",
   "execution_count": null,
   "metadata": {},
   "outputs": [],
   "source": [
    "%time learn.fit(1e-4, 8, cycle_len=1, wds=wd, use_wd_sched=True)"
   ]
  },
  {
   "cell_type": "code",
   "execution_count": null,
   "metadata": {
    "scrolled": true
   },
   "outputs": [],
   "source": [
    "%time learn.fit(1e-5, 4, cycle_len=8, wds=wd, use_wd_sched=True, use_clr=(20,8, 0.95, 0.85))"
   ]
  },
  {
   "cell_type": "code",
   "execution_count": null,
   "metadata": {},
   "outputs": [],
   "source": [
    "%time learn.fit(1e-4, 2, cycle_len=16, cycle_mult=2, wds=wd, use_wd_sched=True, use_clr=(20,8, 0.95, 0.85))"
   ]
  },
  {
   "cell_type": "code",
   "execution_count": null,
   "metadata": {
    "scrolled": true
   },
   "outputs": [],
   "source": [
    "%time learn.fit(2e-5, 1, cycle_len=8, cycle_mult=2, wds=wd, use_wd_sched=True)"
   ]
  },
  {
   "cell_type": "code",
   "execution_count": null,
   "metadata": {},
   "outputs": [],
   "source": [
    "lr = (5e-4, 1e-3, 5e-3)"
   ]
  },
  {
   "cell_type": "code",
   "execution_count": null,
   "metadata": {},
   "outputs": [],
   "source": [
    "sz = [4,516, 516]\n",
    "learn.set_data(get_data(PATH, lbl_csv, val_idxs, sz, bs, aug_tfms = augs))"
   ]
  },
  {
   "cell_type": "code",
   "execution_count": null,
   "metadata": {
    "scrolled": true
   },
   "outputs": [],
   "source": [
    "%time learn.fit(1e-3, 1, cycle_len=8, cycle_mult=2, wds=wd, use_wd_sched=True)"
   ]
  },
  {
   "cell_type": "code",
   "execution_count": null,
   "metadata": {},
   "outputs": [],
   "source": [
    "%time learn.fit(1e-3, 2, cycle_len=8, wds=wd, use_wd_sched=True)"
   ]
  },
  {
   "cell_type": "code",
   "execution_count": null,
   "metadata": {},
   "outputs": [],
   "source": [
    "learn.save('Hirano3D_v1_ResNet18_512_72')"
   ]
  },
  {
   "cell_type": "markdown",
   "metadata": {},
   "source": [
    "## test-predictions"
   ]
  },
  {
   "cell_type": "code",
   "execution_count": 48,
   "metadata": {},
   "outputs": [],
   "source": [
    "learn.load('Hirano3D_v1_dn121_8bit_bs32_sz224_v2')"
   ]
  },
  {
   "cell_type": "code",
   "execution_count": 49,
   "metadata": {},
   "outputs": [],
   "source": [
    "learn.freeze()"
   ]
  },
  {
   "cell_type": "code",
   "execution_count": 51,
   "metadata": {},
   "outputs": [
    {
     "data": {
      "application/vnd.jupyter.widget-view+json": {
       "model_id": "5eb7d29f49dd47318723c9bfe0d1d404",
       "version_major": 2,
       "version_minor": 0
      },
      "text/plain": [
       "HBox(children=(IntProgress(value=0, description='Epoch', max=1), HTML(value='')))"
      ]
     },
     "metadata": {},
     "output_type": "display_data"
    },
    {
     "name": "stdout",
     "output_type": "stream",
     "text": [
      "EPOCH 0 ---------------------------------------- STEP 208                                                                                                                                                                                    \n",
      "epoch      trn_loss   val_loss   accuracy   \n",
      "    0      0.245818   1.127193   0.572289  \n",
      "\n",
      "appending existing log-files...\n",
      "log-files saved to: datasets/Hirano3D\n"
     ]
    },
    {
     "data": {
      "text/plain": [
       "[array([1.12719]), 0.5722891559083778]"
      ]
     },
     "execution_count": 51,
     "metadata": {},
     "output_type": "execute_result"
    }
   ],
   "source": [
    "learn.warm_up(1e-10)"
   ]
  },
  {
   "cell_type": "code",
   "execution_count": null,
   "metadata": {},
   "outputs": [],
   "source": [
    "log_preds, y = learn.predict_with_targs()\n",
    "preds = np.argmax(log_preds, axis=1)\n",
    "print(preds)"
   ]
  },
  {
   "cell_type": "code",
   "execution_count": 52,
   "metadata": {
    "scrolled": true
   },
   "outputs": [
    {
     "name": "stdout",
     "output_type": "stream",
     "text": [
      "                                                                                                                                                                                                                                             \r"
     ]
    }
   ],
   "source": [
    "log_preds, y =  learn.TTA()"
   ]
  },
  {
   "cell_type": "code",
   "execution_count": 53,
   "metadata": {},
   "outputs": [
    {
     "name": "stdout",
     "output_type": "stream",
     "text": [
      "[[31  4  7  6]\n",
      " [ 2 24  6  4]\n",
      " [11  2 29  6]\n",
      " [ 8  4  4 18]]\n"
     ]
    },
    {
     "data": {
      "image/png": "[encoded data removed]",
      "text/plain": [
       "<Figure size 432x288 with 2 Axes>"
      ]
     },
     "metadata": {},
     "output_type": "display_data"
    }
   ],
   "source": [
    "# Plot confusion matrix \n",
    "plt.style.use('seaborn-white')\n",
    "log_preds_mean = np.mean(log_preds, axis=0)\n",
    "preds = np.argmax(log_preds_mean, axis=1)\n",
    "cm = confusion_matrix(preds,y)\n",
    "plot_confusion_matrix(cm, data.classes)"
   ]
  },
  {
   "cell_type": "code",
   "execution_count": null,
   "metadata": {},
   "outputs": [],
   "source": [
    "log_preds, y =  learn.TTA(is_test=True)\n",
    "log_preds_mean = np.mean(log_preds, axis=0)\n",
    "preds = np.argmax(log_preds_mean, axis=1)\n",
    "print(preds)"
   ]
  },
  {
   "cell_type": "code",
   "execution_count": 34,
   "metadata": {},
   "outputs": [
    {
     "data": {
      "text/plain": [
       "OrderedDict([('0', Sequential(\n",
       "                (conv0): Conv2d(4, 64, kernel_size=(7, 7), stride=(2, 2), padding=(3, 3), bias=False)\n",
       "                (norm0): BatchNorm2d(64, eps=1e-05, momentum=0.1, affine=True)\n",
       "                (relu0): ReLU(inplace)\n",
       "                (pool0): MaxPool2d(kernel_size=(3, 3), stride=(2, 2), padding=(1, 1), dilation=(1, 1), ceil_mode=False)\n",
       "                (denseblock1): _DenseBlock(\n",
       "                  (denselayer1): _DenseLayer(\n",
       "                    (norm1): BatchNorm2d(64, eps=1e-05, momentum=0.1, affine=True)\n",
       "                    (relu1): ReLU(inplace)\n",
       "                    (conv1): Conv2d(64, 128, kernel_size=(1, 1), stride=(1, 1), bias=False)\n",
       "                    (norm2): BatchNorm2d(128, eps=1e-05, momentum=0.1, affine=True)\n",
       "                    (relu2): ReLU(inplace)\n",
       "                    (conv2): Conv2d(128, 32, kernel_size=(3, 3), stride=(1, 1), padding=(1, 1), bias=False)\n",
       "                  )\n",
       "                  (denselayer2): _DenseLayer(\n",
       "                    (norm1): BatchNorm2d(96, eps=1e-05, momentum=0.1, affine=True)\n",
       "                    (relu1): ReLU(inplace)\n",
       "                    (conv1): Conv2d(96, 128, kernel_size=(1, 1), stride=(1, 1), bias=False)\n",
       "                    (norm2): BatchNorm2d(128, eps=1e-05, momentum=0.1, affine=True)\n",
       "                    (relu2): ReLU(inplace)\n",
       "                    (conv2): Conv2d(128, 32, kernel_size=(3, 3), stride=(1, 1), padding=(1, 1), bias=False)\n",
       "                  )\n",
       "                  (denselayer3): _DenseLayer(\n",
       "                    (norm1): BatchNorm2d(128, eps=1e-05, momentum=0.1, affine=True)\n",
       "                    (relu1): ReLU(inplace)\n",
       "                    (conv1): Conv2d(128, 128, kernel_size=(1, 1), stride=(1, 1), bias=False)\n",
       "                    (norm2): BatchNorm2d(128, eps=1e-05, momentum=0.1, affine=True)\n",
       "                    (relu2): ReLU(inplace)\n",
       "                    (conv2): Conv2d(128, 32, kernel_size=(3, 3), stride=(1, 1), padding=(1, 1), bias=False)\n",
       "                  )\n",
       "                  (denselayer4): _DenseLayer(\n",
       "                    (norm1): BatchNorm2d(160, eps=1e-05, momentum=0.1, affine=True)\n",
       "                    (relu1): ReLU(inplace)\n",
       "                    (conv1): Conv2d(160, 128, kernel_size=(1, 1), stride=(1, 1), bias=False)\n",
       "                    (norm2): BatchNorm2d(128, eps=1e-05, momentum=0.1, affine=True)\n",
       "                    (relu2): ReLU(inplace)\n",
       "                    (conv2): Conv2d(128, 32, kernel_size=(3, 3), stride=(1, 1), padding=(1, 1), bias=False)\n",
       "                  )\n",
       "                  (denselayer5): _DenseLayer(\n",
       "                    (norm1): BatchNorm2d(192, eps=1e-05, momentum=0.1, affine=True)\n",
       "                    (relu1): ReLU(inplace)\n",
       "                    (conv1): Conv2d(192, 128, kernel_size=(1, 1), stride=(1, 1), bias=False)\n",
       "                    (norm2): BatchNorm2d(128, eps=1e-05, momentum=0.1, affine=True)\n",
       "                    (relu2): ReLU(inplace)\n",
       "                    (conv2): Conv2d(128, 32, kernel_size=(3, 3), stride=(1, 1), padding=(1, 1), bias=False)\n",
       "                  )\n",
       "                  (denselayer6): _DenseLayer(\n",
       "                    (norm1): BatchNorm2d(224, eps=1e-05, momentum=0.1, affine=True)\n",
       "                    (relu1): ReLU(inplace)\n",
       "                    (conv1): Conv2d(224, 128, kernel_size=(1, 1), stride=(1, 1), bias=False)\n",
       "                    (norm2): BatchNorm2d(128, eps=1e-05, momentum=0.1, affine=True)\n",
       "                    (relu2): ReLU(inplace)\n",
       "                    (conv2): Conv2d(128, 32, kernel_size=(3, 3), stride=(1, 1), padding=(1, 1), bias=False)\n",
       "                  )\n",
       "                )\n",
       "                (transition1): _Transition(\n",
       "                  (norm): BatchNorm2d(256, eps=1e-05, momentum=0.1, affine=True)\n",
       "                  (relu): ReLU(inplace)\n",
       "                  (conv): Conv2d(256, 128, kernel_size=(1, 1), stride=(1, 1), bias=False)\n",
       "                  (pool): AvgPool2d(kernel_size=2, stride=2, padding=0, ceil_mode=False, count_include_pad=True)\n",
       "                )\n",
       "                (denseblock2): _DenseBlock(\n",
       "                  (denselayer1): _DenseLayer(\n",
       "                    (norm1): BatchNorm2d(128, eps=1e-05, momentum=0.1, affine=True)\n",
       "                    (relu1): ReLU(inplace)\n",
       "                    (conv1): Conv2d(128, 128, kernel_size=(1, 1), stride=(1, 1), bias=False)\n",
       "                    (norm2): BatchNorm2d(128, eps=1e-05, momentum=0.1, affine=True)\n",
       "                    (relu2): ReLU(inplace)\n",
       "                    (conv2): Conv2d(128, 32, kernel_size=(3, 3), stride=(1, 1), padding=(1, 1), bias=False)\n",
       "                  )\n",
       "                  (denselayer2): _DenseLayer(\n",
       "                    (norm1): BatchNorm2d(160, eps=1e-05, momentum=0.1, affine=True)\n",
       "                    (relu1): ReLU(inplace)\n",
       "                    (conv1): Conv2d(160, 128, kernel_size=(1, 1), stride=(1, 1), bias=False)\n",
       "                    (norm2): BatchNorm2d(128, eps=1e-05, momentum=0.1, affine=True)\n",
       "                    (relu2): ReLU(inplace)\n",
       "                    (conv2): Conv2d(128, 32, kernel_size=(3, 3), stride=(1, 1), padding=(1, 1), bias=False)\n",
       "                  )\n",
       "                  (denselayer3): _DenseLayer(\n",
       "                    (norm1): BatchNorm2d(192, eps=1e-05, momentum=0.1, affine=True)\n",
       "                    (relu1): ReLU(inplace)\n",
       "                    (conv1): Conv2d(192, 128, kernel_size=(1, 1), stride=(1, 1), bias=False)\n",
       "                    (norm2): BatchNorm2d(128, eps=1e-05, momentum=0.1, affine=True)\n",
       "                    (relu2): ReLU(inplace)\n",
       "                    (conv2): Conv2d(128, 32, kernel_size=(3, 3), stride=(1, 1), padding=(1, 1), bias=False)\n",
       "                  )\n",
       "                  (denselayer4): _DenseLayer(\n",
       "                    (norm1): BatchNorm2d(224, eps=1e-05, momentum=0.1, affine=True)\n",
       "                    (relu1): ReLU(inplace)\n",
       "                    (conv1): Conv2d(224, 128, kernel_size=(1, 1), stride=(1, 1), bias=False)\n",
       "                    (norm2): BatchNorm2d(128, eps=1e-05, momentum=0.1, affine=True)\n",
       "                    (relu2): ReLU(inplace)\n",
       "                    (conv2): Conv2d(128, 32, kernel_size=(3, 3), stride=(1, 1), padding=(1, 1), bias=False)\n",
       "                  )\n",
       "                  (denselayer5): _DenseLayer(\n",
       "                    (norm1): BatchNorm2d(256, eps=1e-05, momentum=0.1, affine=True)\n",
       "                    (relu1): ReLU(inplace)\n",
       "                    (conv1): Conv2d(256, 128, kernel_size=(1, 1), stride=(1, 1), bias=False)\n",
       "                    (norm2): BatchNorm2d(128, eps=1e-05, momentum=0.1, affine=True)\n",
       "                    (relu2): ReLU(inplace)\n",
       "                    (conv2): Conv2d(128, 32, kernel_size=(3, 3), stride=(1, 1), padding=(1, 1), bias=False)\n",
       "                  )\n",
       "                  (denselayer6): _DenseLayer(\n",
       "                    (norm1): BatchNorm2d(288, eps=1e-05, momentum=0.1, affine=True)\n",
       "                    (relu1): ReLU(inplace)\n",
       "                    (conv1): Conv2d(288, 128, kernel_size=(1, 1), stride=(1, 1), bias=False)\n",
       "                    (norm2): BatchNorm2d(128, eps=1e-05, momentum=0.1, affine=True)\n",
       "                    (relu2): ReLU(inplace)\n",
       "                    (conv2): Conv2d(128, 32, kernel_size=(3, 3), stride=(1, 1), padding=(1, 1), bias=False)\n",
       "                  )\n",
       "                  (denselayer7): _DenseLayer(\n",
       "                    (norm1): BatchNorm2d(320, eps=1e-05, momentum=0.1, affine=True)\n",
       "                    (relu1): ReLU(inplace)\n",
       "                    (conv1): Conv2d(320, 128, kernel_size=(1, 1), stride=(1, 1), bias=False)\n",
       "                    (norm2): BatchNorm2d(128, eps=1e-05, momentum=0.1, affine=True)\n",
       "                    (relu2): ReLU(inplace)\n",
       "                    (conv2): Conv2d(128, 32, kernel_size=(3, 3), stride=(1, 1), padding=(1, 1), bias=False)\n",
       "                  )\n",
       "                  (denselayer8): _DenseLayer(\n",
       "                    (norm1): BatchNorm2d(352, eps=1e-05, momentum=0.1, affine=True)\n",
       "                    (relu1): ReLU(inplace)\n",
       "                    (conv1): Conv2d(352, 128, kernel_size=(1, 1), stride=(1, 1), bias=False)\n",
       "                    (norm2): BatchNorm2d(128, eps=1e-05, momentum=0.1, affine=True)\n",
       "                    (relu2): ReLU(inplace)\n",
       "                    (conv2): Conv2d(128, 32, kernel_size=(3, 3), stride=(1, 1), padding=(1, 1), bias=False)\n",
       "                  )\n",
       "                  (denselayer9): _DenseLayer(\n",
       "                    (norm1): BatchNorm2d(384, eps=1e-05, momentum=0.1, affine=True)\n",
       "                    (relu1): ReLU(inplace)\n",
       "                    (conv1): Conv2d(384, 128, kernel_size=(1, 1), stride=(1, 1), bias=False)\n",
       "                    (norm2): BatchNorm2d(128, eps=1e-05, momentum=0.1, affine=True)\n",
       "                    (relu2): ReLU(inplace)\n",
       "                    (conv2): Conv2d(128, 32, kernel_size=(3, 3), stride=(1, 1), padding=(1, 1), bias=False)\n",
       "                  )\n",
       "                  (denselayer10): _DenseLayer(\n",
       "                    (norm1): BatchNorm2d(416, eps=1e-05, momentum=0.1, affine=True)\n",
       "                    (relu1): ReLU(inplace)\n",
       "                    (conv1): Conv2d(416, 128, kernel_size=(1, 1), stride=(1, 1), bias=False)\n",
       "                    (norm2): BatchNorm2d(128, eps=1e-05, momentum=0.1, affine=True)\n",
       "                    (relu2): ReLU(inplace)\n",
       "                    (conv2): Conv2d(128, 32, kernel_size=(3, 3), stride=(1, 1), padding=(1, 1), bias=False)\n",
       "                  )\n",
       "                  (denselayer11): _DenseLayer(\n",
       "                    (norm1): BatchNorm2d(448, eps=1e-05, momentum=0.1, affine=True)\n",
       "                    (relu1): ReLU(inplace)\n",
       "                    (conv1): Conv2d(448, 128, kernel_size=(1, 1), stride=(1, 1), bias=False)\n",
       "                    (norm2): BatchNorm2d(128, eps=1e-05, momentum=0.1, affine=True)\n",
       "                    (relu2): ReLU(inplace)\n",
       "                    (conv2): Conv2d(128, 32, kernel_size=(3, 3), stride=(1, 1), padding=(1, 1), bias=False)\n",
       "                  )\n",
       "                  (denselayer12): _DenseLayer(\n",
       "                    (norm1): BatchNorm2d(480, eps=1e-05, momentum=0.1, affine=True)\n",
       "                    (relu1): ReLU(inplace)\n",
       "                    (conv1): Conv2d(480, 128, kernel_size=(1, 1), stride=(1, 1), bias=False)\n",
       "                    (norm2): BatchNorm2d(128, eps=1e-05, momentum=0.1, affine=True)\n",
       "                    (relu2): ReLU(inplace)\n",
       "                    (conv2): Conv2d(128, 32, kernel_size=(3, 3), stride=(1, 1), padding=(1, 1), bias=False)\n",
       "                  )\n",
       "                )\n",
       "                (transition2): _Transition(\n",
       "                  (norm): BatchNorm2d(512, eps=1e-05, momentum=0.1, affine=True)\n",
       "                  (relu): ReLU(inplace)\n",
       "                  (conv): Conv2d(512, 256, kernel_size=(1, 1), stride=(1, 1), bias=False)\n",
       "                  (pool): AvgPool2d(kernel_size=2, stride=2, padding=0, ceil_mode=False, count_include_pad=True)\n",
       "                )\n",
       "                (denseblock3): _DenseBlock(\n",
       "                  (denselayer1): _DenseLayer(\n",
       "                    (norm1): BatchNorm2d(256, eps=1e-05, momentum=0.1, affine=True)\n",
       "                    (relu1): ReLU(inplace)\n",
       "                    (conv1): Conv2d(256, 128, kernel_size=(1, 1), stride=(1, 1), bias=False)\n",
       "                    (norm2): BatchNorm2d(128, eps=1e-05, momentum=0.1, affine=True)\n",
       "                    (relu2): ReLU(inplace)\n",
       "                    (conv2): Conv2d(128, 32, kernel_size=(3, 3), stride=(1, 1), padding=(1, 1), bias=False)\n",
       "                  )\n",
       "                  (denselayer2): _DenseLayer(\n",
       "                    (norm1): BatchNorm2d(288, eps=1e-05, momentum=0.1, affine=True)\n",
       "                    (relu1): ReLU(inplace)\n",
       "                    (conv1): Conv2d(288, 128, kernel_size=(1, 1), stride=(1, 1), bias=False)\n",
       "                    (norm2): BatchNorm2d(128, eps=1e-05, momentum=0.1, affine=True)\n",
       "                    (relu2): ReLU(inplace)\n",
       "                    (conv2): Conv2d(128, 32, kernel_size=(3, 3), stride=(1, 1), padding=(1, 1), bias=False)\n",
       "                  )\n",
       "                  (denselayer3): _DenseLayer(\n",
       "                    (norm1): BatchNorm2d(320, eps=1e-05, momentum=0.1, affine=True)\n",
       "                    (relu1): ReLU(inplace)\n",
       "                    (conv1): Conv2d(320, 128, kernel_size=(1, 1), stride=(1, 1), bias=False)\n",
       "                    (norm2): BatchNorm2d(128, eps=1e-05, momentum=0.1, affine=True)\n",
       "                    (relu2): ReLU(inplace)\n",
       "                    (conv2): Conv2d(128, 32, kernel_size=(3, 3), stride=(1, 1), padding=(1, 1), bias=False)\n",
       "                  )\n",
       "                  (denselayer4): _DenseLayer(\n",
       "                    (norm1): BatchNorm2d(352, eps=1e-05, momentum=0.1, affine=True)\n",
       "                    (relu1): ReLU(inplace)\n",
       "                    (conv1): Conv2d(352, 128, kernel_size=(1, 1), stride=(1, 1), bias=False)\n",
       "                    (norm2): BatchNorm2d(128, eps=1e-05, momentum=0.1, affine=True)\n",
       "                    (relu2): ReLU(inplace)\n",
       "                    (conv2): Conv2d(128, 32, kernel_size=(3, 3), stride=(1, 1), padding=(1, 1), bias=False)\n",
       "                  )\n",
       "                  (denselayer5): _DenseLayer(\n",
       "                    (norm1): BatchNorm2d(384, eps=1e-05, momentum=0.1, affine=True)\n",
       "                    (relu1): ReLU(inplace)\n",
       "                    (conv1): Conv2d(384, 128, kernel_size=(1, 1), stride=(1, 1), bias=False)\n",
       "                    (norm2): BatchNorm2d(128, eps=1e-05, momentum=0.1, affine=True)\n",
       "                    (relu2): ReLU(inplace)\n",
       "                    (conv2): Conv2d(128, 32, kernel_size=(3, 3), stride=(1, 1), padding=(1, 1), bias=False)\n",
       "                  )\n",
       "                  (denselayer6): _DenseLayer(\n",
       "                    (norm1): BatchNorm2d(416, eps=1e-05, momentum=0.1, affine=True)\n",
       "                    (relu1): ReLU(inplace)\n",
       "                    (conv1): Conv2d(416, 128, kernel_size=(1, 1), stride=(1, 1), bias=False)\n",
       "                    (norm2): BatchNorm2d(128, eps=1e-05, momentum=0.1, affine=True)\n",
       "                    (relu2): ReLU(inplace)\n",
       "                    (conv2): Conv2d(128, 32, kernel_size=(3, 3), stride=(1, 1), padding=(1, 1), bias=False)\n",
       "                  )\n",
       "                  (denselayer7): _DenseLayer(\n",
       "                    (norm1): BatchNorm2d(448, eps=1e-05, momentum=0.1, affine=True)\n",
       "                    (relu1): ReLU(inplace)\n",
       "                    (conv1): Conv2d(448, 128, kernel_size=(1, 1), stride=(1, 1), bias=False)\n",
       "                    (norm2): BatchNorm2d(128, eps=1e-05, momentum=0.1, affine=True)\n",
       "                    (relu2): ReLU(inplace)\n",
       "                    (conv2): Conv2d(128, 32, kernel_size=(3, 3), stride=(1, 1), padding=(1, 1), bias=False)\n",
       "                  )\n",
       "                  (denselayer8): _DenseLayer(\n",
       "                    (norm1): BatchNorm2d(480, eps=1e-05, momentum=0.1, affine=True)\n",
       "                    (relu1): ReLU(inplace)\n",
       "                    (conv1): Conv2d(480, 128, kernel_size=(1, 1), stride=(1, 1), bias=False)\n",
       "                    (norm2): BatchNorm2d(128, eps=1e-05, momentum=0.1, affine=True)\n",
       "                    (relu2): ReLU(inplace)\n",
       "                    (conv2): Conv2d(128, 32, kernel_size=(3, 3), stride=(1, 1), padding=(1, 1), bias=False)\n",
       "                  )\n",
       "                  (denselayer9): _DenseLayer(\n",
       "                    (norm1): BatchNorm2d(512, eps=1e-05, momentum=0.1, affine=True)\n",
       "                    (relu1): ReLU(inplace)\n",
       "                    (conv1): Conv2d(512, 128, kernel_size=(1, 1), stride=(1, 1), bias=False)\n",
       "                    (norm2): BatchNorm2d(128, eps=1e-05, momentum=0.1, affine=True)\n",
       "                    (relu2): ReLU(inplace)\n",
       "                    (conv2): Conv2d(128, 32, kernel_size=(3, 3), stride=(1, 1), padding=(1, 1), bias=False)\n",
       "                  )\n",
       "                  (denselayer10): _DenseLayer(\n",
       "                    (norm1): BatchNorm2d(544, eps=1e-05, momentum=0.1, affine=True)\n",
       "                    (relu1): ReLU(inplace)\n",
       "                    (conv1): Conv2d(544, 128, kernel_size=(1, 1), stride=(1, 1), bias=False)\n",
       "                    (norm2): BatchNorm2d(128, eps=1e-05, momentum=0.1, affine=True)\n",
       "                    (relu2): ReLU(inplace)\n",
       "                    (conv2): Conv2d(128, 32, kernel_size=(3, 3), stride=(1, 1), padding=(1, 1), bias=False)\n",
       "                  )\n",
       "                  (denselayer11): _DenseLayer(\n",
       "                    (norm1): BatchNorm2d(576, eps=1e-05, momentum=0.1, affine=True)\n",
       "                    (relu1): ReLU(inplace)\n",
       "                    (conv1): Conv2d(576, 128, kernel_size=(1, 1), stride=(1, 1), bias=False)\n",
       "                    (norm2): BatchNorm2d(128, eps=1e-05, momentum=0.1, affine=True)\n",
       "                    (relu2): ReLU(inplace)\n",
       "                    (conv2): Conv2d(128, 32, kernel_size=(3, 3), stride=(1, 1), padding=(1, 1), bias=False)\n",
       "                  )\n",
       "                  (denselayer12): _DenseLayer(\n",
       "                    (norm1): BatchNorm2d(608, eps=1e-05, momentum=0.1, affine=True)\n",
       "                    (relu1): ReLU(inplace)\n",
       "                    (conv1): Conv2d(608, 128, kernel_size=(1, 1), stride=(1, 1), bias=False)\n",
       "                    (norm2): BatchNorm2d(128, eps=1e-05, momentum=0.1, affine=True)\n",
       "                    (relu2): ReLU(inplace)\n",
       "                    (conv2): Conv2d(128, 32, kernel_size=(3, 3), stride=(1, 1), padding=(1, 1), bias=False)\n",
       "                  )\n",
       "                  (denselayer13): _DenseLayer(\n",
       "                    (norm1): BatchNorm2d(640, eps=1e-05, momentum=0.1, affine=True)\n",
       "                    (relu1): ReLU(inplace)\n",
       "                    (conv1): Conv2d(640, 128, kernel_size=(1, 1), stride=(1, 1), bias=False)\n",
       "                    (norm2): BatchNorm2d(128, eps=1e-05, momentum=0.1, affine=True)\n",
       "                    (relu2): ReLU(inplace)\n",
       "                    (conv2): Conv2d(128, 32, kernel_size=(3, 3), stride=(1, 1), padding=(1, 1), bias=False)\n",
       "                  )\n",
       "                  (denselayer14): _DenseLayer(\n",
       "                    (norm1): BatchNorm2d(672, eps=1e-05, momentum=0.1, affine=True)\n",
       "                    (relu1): ReLU(inplace)\n",
       "                    (conv1): Conv2d(672, 128, kernel_size=(1, 1), stride=(1, 1), bias=False)\n",
       "                    (norm2): BatchNorm2d(128, eps=1e-05, momentum=0.1, affine=True)\n",
       "                    (relu2): ReLU(inplace)\n",
       "                    (conv2): Conv2d(128, 32, kernel_size=(3, 3), stride=(1, 1), padding=(1, 1), bias=False)\n",
       "                  )\n",
       "                  (denselayer15): _DenseLayer(\n",
       "                    (norm1): BatchNorm2d(704, eps=1e-05, momentum=0.1, affine=True)\n",
       "                    (relu1): ReLU(inplace)\n",
       "                    (conv1): Conv2d(704, 128, kernel_size=(1, 1), stride=(1, 1), bias=False)\n",
       "                    (norm2): BatchNorm2d(128, eps=1e-05, momentum=0.1, affine=True)\n",
       "                    (relu2): ReLU(inplace)\n",
       "                    (conv2): Conv2d(128, 32, kernel_size=(3, 3), stride=(1, 1), padding=(1, 1), bias=False)\n",
       "                  )\n",
       "                  (denselayer16): _DenseLayer(\n",
       "                    (norm1): BatchNorm2d(736, eps=1e-05, momentum=0.1, affine=True)\n",
       "                    (relu1): ReLU(inplace)\n",
       "                    (conv1): Conv2d(736, 128, kernel_size=(1, 1), stride=(1, 1), bias=False)\n",
       "                    (norm2): BatchNorm2d(128, eps=1e-05, momentum=0.1, affine=True)\n",
       "                    (relu2): ReLU(inplace)\n",
       "                    (conv2): Conv2d(128, 32, kernel_size=(3, 3), stride=(1, 1), padding=(1, 1), bias=False)\n",
       "                  )\n",
       "                  (denselayer17): _DenseLayer(\n",
       "                    (norm1): BatchNorm2d(768, eps=1e-05, momentum=0.1, affine=True)\n",
       "                    (relu1): ReLU(inplace)\n",
       "                    (conv1): Conv2d(768, 128, kernel_size=(1, 1), stride=(1, 1), bias=False)\n",
       "                    (norm2): BatchNorm2d(128, eps=1e-05, momentum=0.1, affine=True)\n",
       "                    (relu2): ReLU(inplace)\n",
       "                    (conv2): Conv2d(128, 32, kernel_size=(3, 3), stride=(1, 1), padding=(1, 1), bias=False)\n",
       "                  )\n",
       "                  (denselayer18): _DenseLayer(\n",
       "                    (norm1): BatchNorm2d(800, eps=1e-05, momentum=0.1, affine=True)\n",
       "                    (relu1): ReLU(inplace)\n",
       "                    (conv1): Conv2d(800, 128, kernel_size=(1, 1), stride=(1, 1), bias=False)\n",
       "                    (norm2): BatchNorm2d(128, eps=1e-05, momentum=0.1, affine=True)\n",
       "                    (relu2): ReLU(inplace)\n",
       "                    (conv2): Conv2d(128, 32, kernel_size=(3, 3), stride=(1, 1), padding=(1, 1), bias=False)\n",
       "                  )\n",
       "                  (denselayer19): _DenseLayer(\n",
       "                    (norm1): BatchNorm2d(832, eps=1e-05, momentum=0.1, affine=True)\n",
       "                    (relu1): ReLU(inplace)\n",
       "                    (conv1): Conv2d(832, 128, kernel_size=(1, 1), stride=(1, 1), bias=False)\n",
       "                    (norm2): BatchNorm2d(128, eps=1e-05, momentum=0.1, affine=True)\n",
       "                    (relu2): ReLU(inplace)\n",
       "                    (conv2): Conv2d(128, 32, kernel_size=(3, 3), stride=(1, 1), padding=(1, 1), bias=False)\n",
       "                  )\n",
       "                  (denselayer20): _DenseLayer(\n",
       "                    (norm1): BatchNorm2d(864, eps=1e-05, momentum=0.1, affine=True)\n",
       "                    (relu1): ReLU(inplace)\n",
       "                    (conv1): Conv2d(864, 128, kernel_size=(1, 1), stride=(1, 1), bias=False)\n",
       "                    (norm2): BatchNorm2d(128, eps=1e-05, momentum=0.1, affine=True)\n",
       "                    (relu2): ReLU(inplace)\n",
       "                    (conv2): Conv2d(128, 32, kernel_size=(3, 3), stride=(1, 1), padding=(1, 1), bias=False)\n",
       "                  )\n",
       "                  (denselayer21): _DenseLayer(\n",
       "                    (norm1): BatchNorm2d(896, eps=1e-05, momentum=0.1, affine=True)\n",
       "                    (relu1): ReLU(inplace)\n",
       "                    (conv1): Conv2d(896, 128, kernel_size=(1, 1), stride=(1, 1), bias=False)\n",
       "                    (norm2): BatchNorm2d(128, eps=1e-05, momentum=0.1, affine=True)\n",
       "                    (relu2): ReLU(inplace)\n",
       "                    (conv2): Conv2d(128, 32, kernel_size=(3, 3), stride=(1, 1), padding=(1, 1), bias=False)\n",
       "                  )\n",
       "                  (denselayer22): _DenseLayer(\n",
       "                    (norm1): BatchNorm2d(928, eps=1e-05, momentum=0.1, affine=True)\n",
       "                    (relu1): ReLU(inplace)\n",
       "                    (conv1): Conv2d(928, 128, kernel_size=(1, 1), stride=(1, 1), bias=False)\n",
       "                    (norm2): BatchNorm2d(128, eps=1e-05, momentum=0.1, affine=True)\n",
       "                    (relu2): ReLU(inplace)\n",
       "                    (conv2): Conv2d(128, 32, kernel_size=(3, 3), stride=(1, 1), padding=(1, 1), bias=False)\n",
       "                  )\n",
       "                  (denselayer23): _DenseLayer(\n",
       "                    (norm1): BatchNorm2d(960, eps=1e-05, momentum=0.1, affine=True)\n",
       "                    (relu1): ReLU(inplace)\n",
       "                    (conv1): Conv2d(960, 128, kernel_size=(1, 1), stride=(1, 1), bias=False)\n",
       "                    (norm2): BatchNorm2d(128, eps=1e-05, momentum=0.1, affine=True)\n",
       "                    (relu2): ReLU(inplace)\n",
       "                    (conv2): Conv2d(128, 32, kernel_size=(3, 3), stride=(1, 1), padding=(1, 1), bias=False)\n",
       "                  )\n",
       "                  (denselayer24): _DenseLayer(\n",
       "                    (norm1): BatchNorm2d(992, eps=1e-05, momentum=0.1, affine=True)\n",
       "                    (relu1): ReLU(inplace)\n",
       "                    (conv1): Conv2d(992, 128, kernel_size=(1, 1), stride=(1, 1), bias=False)\n",
       "                    (norm2): BatchNorm2d(128, eps=1e-05, momentum=0.1, affine=True)\n",
       "                    (relu2): ReLU(inplace)\n",
       "                    (conv2): Conv2d(128, 32, kernel_size=(3, 3), stride=(1, 1), padding=(1, 1), bias=False)\n",
       "                  )\n",
       "                )\n",
       "                (transition3): _Transition(\n",
       "                  (norm): BatchNorm2d(1024, eps=1e-05, momentum=0.1, affine=True)\n",
       "                  (relu): ReLU(inplace)\n",
       "                  (conv): Conv2d(1024, 512, kernel_size=(1, 1), stride=(1, 1), bias=False)\n",
       "                  (pool): AvgPool2d(kernel_size=2, stride=2, padding=0, ceil_mode=False, count_include_pad=True)\n",
       "                )\n",
       "                (denseblock4): _DenseBlock(\n",
       "                  (denselayer1): _DenseLayer(\n",
       "                    (norm1): BatchNorm2d(512, eps=1e-05, momentum=0.1, affine=True)\n",
       "                    (relu1): ReLU(inplace)\n",
       "                    (conv1): Conv2d(512, 128, kernel_size=(1, 1), stride=(1, 1), bias=False)\n",
       "                    (norm2): BatchNorm2d(128, eps=1e-05, momentum=0.1, affine=True)\n",
       "                    (relu2): ReLU(inplace)\n",
       "                    (conv2): Conv2d(128, 32, kernel_size=(3, 3), stride=(1, 1), padding=(1, 1), bias=False)\n",
       "                  )\n",
       "                  (denselayer2): _DenseLayer(\n",
       "                    (norm1): BatchNorm2d(544, eps=1e-05, momentum=0.1, affine=True)\n",
       "                    (relu1): ReLU(inplace)\n",
       "                    (conv1): Conv2d(544, 128, kernel_size=(1, 1), stride=(1, 1), bias=False)\n",
       "                    (norm2): BatchNorm2d(128, eps=1e-05, momentum=0.1, affine=True)\n",
       "                    (relu2): ReLU(inplace)\n",
       "                    (conv2): Conv2d(128, 32, kernel_size=(3, 3), stride=(1, 1), padding=(1, 1), bias=False)\n",
       "                  )\n",
       "                  (denselayer3): _DenseLayer(\n",
       "                    (norm1): BatchNorm2d(576, eps=1e-05, momentum=0.1, affine=True)\n",
       "                    (relu1): ReLU(inplace)\n",
       "                    (conv1): Conv2d(576, 128, kernel_size=(1, 1), stride=(1, 1), bias=False)\n",
       "                    (norm2): BatchNorm2d(128, eps=1e-05, momentum=0.1, affine=True)\n",
       "                    (relu2): ReLU(inplace)\n",
       "                    (conv2): Conv2d(128, 32, kernel_size=(3, 3), stride=(1, 1), padding=(1, 1), bias=False)\n",
       "                  )\n",
       "                  (denselayer4): _DenseLayer(\n",
       "                    (norm1): BatchNorm2d(608, eps=1e-05, momentum=0.1, affine=True)\n",
       "                    (relu1): ReLU(inplace)\n",
       "                    (conv1): Conv2d(608, 128, kernel_size=(1, 1), stride=(1, 1), bias=False)\n",
       "                    (norm2): BatchNorm2d(128, eps=1e-05, momentum=0.1, affine=True)\n",
       "                    (relu2): ReLU(inplace)\n",
       "                    (conv2): Conv2d(128, 32, kernel_size=(3, 3), stride=(1, 1), padding=(1, 1), bias=False)\n",
       "                  )\n",
       "                  (denselayer5): _DenseLayer(\n",
       "                    (norm1): BatchNorm2d(640, eps=1e-05, momentum=0.1, affine=True)\n",
       "                    (relu1): ReLU(inplace)\n",
       "                    (conv1): Conv2d(640, 128, kernel_size=(1, 1), stride=(1, 1), bias=False)\n",
       "                    (norm2): BatchNorm2d(128, eps=1e-05, momentum=0.1, affine=True)\n",
       "                    (relu2): ReLU(inplace)\n",
       "                    (conv2): Conv2d(128, 32, kernel_size=(3, 3), stride=(1, 1), padding=(1, 1), bias=False)\n",
       "                  )\n",
       "                  (denselayer6): _DenseLayer(\n",
       "                    (norm1): BatchNorm2d(672, eps=1e-05, momentum=0.1, affine=True)\n",
       "                    (relu1): ReLU(inplace)\n",
       "                    (conv1): Conv2d(672, 128, kernel_size=(1, 1), stride=(1, 1), bias=False)\n",
       "                    (norm2): BatchNorm2d(128, eps=1e-05, momentum=0.1, affine=True)\n",
       "                    (relu2): ReLU(inplace)\n",
       "                    (conv2): Conv2d(128, 32, kernel_size=(3, 3), stride=(1, 1), padding=(1, 1), bias=False)\n",
       "                  )\n",
       "                  (denselayer7): _DenseLayer(\n",
       "                    (norm1): BatchNorm2d(704, eps=1e-05, momentum=0.1, affine=True)\n",
       "                    (relu1): ReLU(inplace)\n",
       "                    (conv1): Conv2d(704, 128, kernel_size=(1, 1), stride=(1, 1), bias=False)\n",
       "                    (norm2): BatchNorm2d(128, eps=1e-05, momentum=0.1, affine=True)\n",
       "                    (relu2): ReLU(inplace)\n",
       "                    (conv2): Conv2d(128, 32, kernel_size=(3, 3), stride=(1, 1), padding=(1, 1), bias=False)\n",
       "                  )\n",
       "                  (denselayer8): _DenseLayer(\n",
       "                    (norm1): BatchNorm2d(736, eps=1e-05, momentum=0.1, affine=True)\n",
       "                    (relu1): ReLU(inplace)\n",
       "                    (conv1): Conv2d(736, 128, kernel_size=(1, 1), stride=(1, 1), bias=False)\n",
       "                    (norm2): BatchNorm2d(128, eps=1e-05, momentum=0.1, affine=True)\n",
       "                    (relu2): ReLU(inplace)\n",
       "                    (conv2): Conv2d(128, 32, kernel_size=(3, 3), stride=(1, 1), padding=(1, 1), bias=False)\n",
       "                  )\n",
       "                  (denselayer9): _DenseLayer(\n",
       "                    (norm1): BatchNorm2d(768, eps=1e-05, momentum=0.1, affine=True)\n",
       "                    (relu1): ReLU(inplace)\n",
       "                    (conv1): Conv2d(768, 128, kernel_size=(1, 1), stride=(1, 1), bias=False)\n",
       "                    (norm2): BatchNorm2d(128, eps=1e-05, momentum=0.1, affine=True)\n",
       "                    (relu2): ReLU(inplace)\n",
       "                    (conv2): Conv2d(128, 32, kernel_size=(3, 3), stride=(1, 1), padding=(1, 1), bias=False)\n",
       "                  )\n",
       "                  (denselayer10): _DenseLayer(\n",
       "                    (norm1): BatchNorm2d(800, eps=1e-05, momentum=0.1, affine=True)\n",
       "                    (relu1): ReLU(inplace)\n",
       "                    (conv1): Conv2d(800, 128, kernel_size=(1, 1), stride=(1, 1), bias=False)\n",
       "                    (norm2): BatchNorm2d(128, eps=1e-05, momentum=0.1, affine=True)\n",
       "                    (relu2): ReLU(inplace)\n",
       "                    (conv2): Conv2d(128, 32, kernel_size=(3, 3), stride=(1, 1), padding=(1, 1), bias=False)\n",
       "                  )\n",
       "                  (denselayer11): _DenseLayer(\n",
       "                    (norm1): BatchNorm2d(832, eps=1e-05, momentum=0.1, affine=True)\n",
       "                    (relu1): ReLU(inplace)\n",
       "                    (conv1): Conv2d(832, 128, kernel_size=(1, 1), stride=(1, 1), bias=False)\n",
       "                    (norm2): BatchNorm2d(128, eps=1e-05, momentum=0.1, affine=True)\n",
       "                    (relu2): ReLU(inplace)\n",
       "                    (conv2): Conv2d(128, 32, kernel_size=(3, 3), stride=(1, 1), padding=(1, 1), bias=False)\n",
       "                  )\n",
       "                  (denselayer12): _DenseLayer(\n",
       "                    (norm1): BatchNorm2d(864, eps=1e-05, momentum=0.1, affine=True)\n",
       "                    (relu1): ReLU(inplace)\n",
       "                    (conv1): Conv2d(864, 128, kernel_size=(1, 1), stride=(1, 1), bias=False)\n",
       "                    (norm2): BatchNorm2d(128, eps=1e-05, momentum=0.1, affine=True)\n",
       "                    (relu2): ReLU(inplace)\n",
       "                    (conv2): Conv2d(128, 32, kernel_size=(3, 3), stride=(1, 1), padding=(1, 1), bias=False)\n",
       "                  )\n",
       "                  (denselayer13): _DenseLayer(\n",
       "                    (norm1): BatchNorm2d(896, eps=1e-05, momentum=0.1, affine=True)\n",
       "                    (relu1): ReLU(inplace)\n",
       "                    (conv1): Conv2d(896, 128, kernel_size=(1, 1), stride=(1, 1), bias=False)\n",
       "                    (norm2): BatchNorm2d(128, eps=1e-05, momentum=0.1, affine=True)\n",
       "                    (relu2): ReLU(inplace)\n",
       "                    (conv2): Conv2d(128, 32, kernel_size=(3, 3), stride=(1, 1), padding=(1, 1), bias=False)\n",
       "                  )\n",
       "                  (denselayer14): _DenseLayer(\n",
       "                    (norm1): BatchNorm2d(928, eps=1e-05, momentum=0.1, affine=True)\n",
       "                    (relu1): ReLU(inplace)\n",
       "                    (conv1): Conv2d(928, 128, kernel_size=(1, 1), stride=(1, 1), bias=False)\n",
       "                    (norm2): BatchNorm2d(128, eps=1e-05, momentum=0.1, affine=True)\n",
       "                    (relu2): ReLU(inplace)\n",
       "                    (conv2): Conv2d(128, 32, kernel_size=(3, 3), stride=(1, 1), padding=(1, 1), bias=False)\n",
       "                  )\n",
       "                  (denselayer15): _DenseLayer(\n",
       "                    (norm1): BatchNorm2d(960, eps=1e-05, momentum=0.1, affine=True)\n",
       "                    (relu1): ReLU(inplace)\n",
       "                    (conv1): Conv2d(960, 128, kernel_size=(1, 1), stride=(1, 1), bias=False)\n",
       "                    (norm2): BatchNorm2d(128, eps=1e-05, momentum=0.1, affine=True)\n",
       "                    (relu2): ReLU(inplace)\n",
       "                    (conv2): Conv2d(128, 32, kernel_size=(3, 3), stride=(1, 1), padding=(1, 1), bias=False)\n",
       "                  )\n",
       "                  (denselayer16): _DenseLayer(\n",
       "                    (norm1): BatchNorm2d(992, eps=1e-05, momentum=0.1, affine=True)\n",
       "                    (relu1): ReLU(inplace)\n",
       "                    (conv1): Conv2d(992, 128, kernel_size=(1, 1), stride=(1, 1), bias=False)\n",
       "                    (norm2): BatchNorm2d(128, eps=1e-05, momentum=0.1, affine=True)\n",
       "                    (relu2): ReLU(inplace)\n",
       "                    (conv2): Conv2d(128, 32, kernel_size=(3, 3), stride=(1, 1), padding=(1, 1), bias=False)\n",
       "                  )\n",
       "                )\n",
       "                (norm5): BatchNorm2d(1024, eps=1e-05, momentum=0.1, affine=True)\n",
       "              )), ('1', AdaptiveConcatPool2d(\n",
       "                (ap): AdaptiveAvgPool2d(output_size=(1, 1))\n",
       "                (mp): AdaptiveMaxPool2d(output_size=(1, 1))\n",
       "              )), ('2', Flatten(\n",
       "              )), ('3',\n",
       "              BatchNorm1d(2048, eps=1e-05, momentum=0.1, affine=True)), ('4',\n",
       "              Linear(in_features=2048, out_features=512, bias=True)), ('5',\n",
       "              ReLU()), ('6',\n",
       "              BatchNorm1d(512, eps=1e-05, momentum=0.1, affine=True)), ('7',\n",
       "              Linear(in_features=512, out_features=4, bias=True)), ('8',\n",
       "              LogSoftmax())])"
      ]
     },
     "execution_count": 34,
     "metadata": {},
     "output_type": "execute_result"
    }
   ],
   "source": [
    "learn.models.model._modules"
   ]
  },
  {
   "cell_type": "code",
   "execution_count": 54,
   "metadata": {},
   "outputs": [],
   "source": [
    "# function to be called by register_forward_hook\n",
    "\n",
    "def get_embeddings(layer_name):\n",
    "    def register_hook(layer_name):\n",
    "        def get_embedding(layer, inp, outp):\n",
    "            tmp = inp[0]\n",
    "            embedding.append(tmp)\n",
    "\n",
    "        hook = layer.register_forward_hook(get_embedding) \n",
    "        \n",
    "        for i in ['trn', 'val', 'test']:\n",
    "            embedding = []\n",
    "            preds, y = learn.predict_with_targs(i)\n",
    "            \n",
    "            # populating dict, consiting of [0]: preds, [1]: y, [2]: activations[layer]\n",
    "            embeddings[i] = [preds, y, np.vstack(to_np(embedding))]\n",
    "            \n",
    "        hook.remove()\n",
    "        \n",
    "    embeddings = {}    \n",
    "    layer = learn.models.model._modules.get(layer_name)\n",
    "    register_hook(layer)\n",
    "    \n",
    "    return embeddings"
   ]
  },
  {
   "cell_type": "code",
   "execution_count": 55,
   "metadata": {},
   "outputs": [],
   "source": [
    "embeddings = get_embeddings('7')"
   ]
  },
  {
   "cell_type": "code",
   "execution_count": 56,
   "metadata": {},
   "outputs": [
    {
     "name": "stdout",
     "output_type": "stream",
     "text": [
      "(664, 512)\n",
      "(166, 512)\n",
      "(60, 512)\n",
      "(664,)\n",
      "(166,)\n",
      "(60,)\n"
     ]
    }
   ],
   "source": [
    "# unpacking embeddings\n",
    "\n",
    "embs_trn = embeddings['trn'][2]\n",
    "y_trn = embeddings['trn'][1]\n",
    "\n",
    "embs_val = embeddings['val'][2]\n",
    "y_val = embeddings['val'][1]\n",
    "\n",
    "embs_test = embeddings['test'][2]\n",
    "y_test = embeddings['test'][1]\n",
    "\n",
    "print(embs_trn.shape)\n",
    "print(embs_val.shape)\n",
    "print(embs_test.shape)\n",
    "\n",
    "print(y_trn.shape)\n",
    "print(y_val.shape)\n",
    "print(y_test.shape)\n"
   ]
  },
  {
   "cell_type": "code",
   "execution_count": 57,
   "metadata": {},
   "outputs": [],
   "source": [
    "import umap"
   ]
  },
  {
   "cell_type": "code",
   "execution_count": 58,
   "metadata": {},
   "outputs": [],
   "source": [
    "UMAP_trn_embedding = umap.UMAP(n_neighbors=10,\n",
    "                      min_dist=0.3,\n",
    "                      metric='correlation').fit(embs_trn)\n",
    "\n",
    "UMAP_trn = UMAP_trn_embedding.embedding_\n",
    "UMAP_val = UMAP_trn_embedding.transform(embs_val)\n",
    "UMAP_test = UMAP_trn_embedding.transform(embs_test)"
   ]
  },
  {
   "cell_type": "code",
   "execution_count": 59,
   "metadata": {},
   "outputs": [],
   "source": [
    "# data.test_ds.fnames"
   ]
  },
  {
   "cell_type": "code",
   "execution_count": 60,
   "metadata": {},
   "outputs": [
    {
     "data": {
      "text/plain": [
       "array([1., 1., 1., 1., 1., 1., 1., 1., 1., 1., 1., 1., 1., 1., 1., 1., 1., 1., 1., 1., 1., 1., 1., 1., 1.,\n",
       "       1., 1., 1., 1., 1., 0., 0., 0., 0., 0., 0., 0., 0., 0., 0., 0., 0., 0., 0., 0., 0., 0., 0., 0., 0.,\n",
       "       0., 0., 0., 0., 0., 0., 0., 0., 0., 0.])"
      ]
     },
     "execution_count": 60,
     "metadata": {},
     "output_type": "execute_result"
    }
   ],
   "source": [
    "y_test = np.zeros(60)\n",
    "y_test[:30] = y_test[:30] +1 \n",
    "y_test"
   ]
  },
  {
   "cell_type": "code",
   "execution_count": 1,
   "metadata": {},
   "outputs": [
    {
     "ename": "NameError",
     "evalue": "name 'plt' is not defined",
     "output_type": "error",
     "traceback": [
      "\u001b[1;31m---------------------------------------------------------------------------\u001b[0m",
      "\u001b[1;31mNameError\u001b[0m                                 Traceback (most recent call last)",
      "\u001b[1;32m<ipython-input-1-e14eb3254ea9>\u001b[0m in \u001b[0;36m<module>\u001b[1;34m()\u001b[0m\n\u001b[0;32m      1\u001b[0m \u001b[1;31m# plotting PCA vs TSNE results\u001b[0m\u001b[1;33m\u001b[0m\u001b[1;33m\u001b[0m\u001b[0m\n\u001b[0;32m      2\u001b[0m \u001b[1;33m\u001b[0m\u001b[0m\n\u001b[1;32m----> 3\u001b[1;33m \u001b[0mfig\u001b[0m\u001b[1;33m,\u001b[0m \u001b[0maxarr\u001b[0m \u001b[1;33m=\u001b[0m \u001b[0mplt\u001b[0m\u001b[1;33m.\u001b[0m\u001b[0msubplots\u001b[0m\u001b[1;33m(\u001b[0m\u001b[1;36m1\u001b[0m\u001b[1;33m,\u001b[0m \u001b[1;36m2\u001b[0m\u001b[1;33m,\u001b[0m \u001b[0mfigsize\u001b[0m\u001b[1;33m=\u001b[0m\u001b[1;33m(\u001b[0m\u001b[1;36m20\u001b[0m\u001b[1;33m,\u001b[0m \u001b[1;36m8\u001b[0m\u001b[1;33m)\u001b[0m\u001b[1;33m)\u001b[0m\u001b[1;33m\u001b[0m\u001b[0m\n\u001b[0m\u001b[0;32m      4\u001b[0m \u001b[1;33m\u001b[0m\u001b[0m\n\u001b[0;32m      5\u001b[0m \u001b[0mcompA\u001b[0m \u001b[1;33m=\u001b[0m \u001b[1;36m0\u001b[0m\u001b[1;33m\u001b[0m\u001b[0m\n",
      "\u001b[1;31mNameError\u001b[0m: name 'plt' is not defined"
     ]
    }
   ],
   "source": [
    "# plotting PCA vs TSNE results\n",
    "\n",
    "fig, axarr = plt.subplots(1, 2, figsize=(20, 8))\n",
    "\n",
    "compA = 0\n",
    "compB = 1\n",
    "\n",
    "for i in range(4):\n",
    "    trn_UMAP_cls = UMAP_trn[y_trn == i]\n",
    "\n",
    "    axarr[0].scatter(trn_UMAP_cls[:,compA], trn_UMAP_cls[:,compB], label = data.classes[i], s = 5)\n",
    "    axarr[0].legend(loc='center left', bbox_to_anchor=(1, 0.5))\n",
    "    \n",
    "#     if i == 0:\n",
    "#         axarr[1].scatter(trn_UMAP_cls[:,compA], trn_UMAP_cls[:,compB], label = data.classes[i], s = 5)\n",
    "\n",
    "#     axarr[0].set_xlim(-10,5)\n",
    "#     axarr[0].set_ylim(-5,8)\n",
    "    \n",
    "for i in range(4):\n",
    "    test_UMAP_cls = UMAP_val[y_val == i]\n",
    "    \n",
    "    axarr[1].scatter(test_UMAP_cls[:,compA], test_UMAP_cls[:,compB], s = 5)\n",
    "    axarr[1].legend(loc='center left', bbox_to_anchor=(1, 0.5))\n",
    "#     axarr[1].set_xlim(-10,5)\n",
    "#     axarr[1].set_ylim(-5,8)\n"
   ]
  },
  {
   "cell_type": "code",
   "execution_count": null,
   "metadata": {},
   "outputs": [],
   "source": []
  },
  {
   "cell_type": "code",
   "execution_count": null,
   "metadata": {},
   "outputs": [],
   "source": []
  },
  {
   "cell_type": "code",
   "execution_count": null,
   "metadata": {},
   "outputs": [],
   "source": [
    "def opt_th(preds, targs, start=0.2, end=0.6, step=0.05):\n",
    "    ths = np.arange(start,end,step)\n",
    "    res = [f1_macro(preds, targs, thresh=th, kind='macro') for th in ths]\n",
    "    idx = np.argmax(res)\n",
    "    return ths[idx], res"
   ]
  },
  {
   "cell_type": "code",
   "execution_count": null,
   "metadata": {},
   "outputs": [],
   "source": [
    "# get train predictions\n",
    "\n",
    "preds_trn, targs_trn =  learn.predict_with_targs('trn')\n",
    "\n",
    "preds_trn_torch = torch.from_numpy(preds_trn)\n",
    "targs_trn_torch = torch.from_numpy(targs_trn)\n",
    "\n",
    "opt_th(preds_trn_torch, targs_trn_torch)"
   ]
  },
  {
   "cell_type": "code",
   "execution_count": null,
   "metadata": {},
   "outputs": [],
   "source": [
    "print(preds_val_torch[0])\n",
    "print(preds_trn_torch[0])"
   ]
  },
  {
   "cell_type": "code",
   "execution_count": null,
   "metadata": {},
   "outputs": [],
   "source": [
    "# get val predictions\n",
    "\n",
    "preds_val, targs_val =  learn.predict_with_targs('val')\n",
    "\n",
    "preds_val_torch = torch.from_numpy(preds_val)\n",
    "targs_val_torch = torch.from_numpy(targs_val)\n",
    "\n",
    "opt_th(preds_val_torch, targs_val_torch)"
   ]
  },
  {
   "cell_type": "code",
   "execution_count": null,
   "metadata": {},
   "outputs": [],
   "source": [
    "# get test predictions\n",
    "\n",
    "preds_test, targs_test =  learn.predict_with_targs('test')"
   ]
  },
  {
   "cell_type": "code",
   "execution_count": null,
   "metadata": {},
   "outputs": [],
   "source": [
    "targs_test[:50]"
   ]
  },
  {
   "cell_type": "code",
   "execution_count": null,
   "metadata": {},
   "outputs": [],
   "source": [
    "def load_epoch(dl = data.trn_dl):\n",
    "    \n",
    "    batch = iter(dl)\n",
    "\n",
    "    xs = []\n",
    "    ys = []\n",
    "\n",
    "#     for b in range(0,len(dl)):\n",
    "    for b in range(0,10):\n",
    "\n",
    "        x_, y_ = next(batch)\n",
    "        x_np, y_np = to_np(x_), to_np(y_)\n",
    "        xs.append(x_np)\n",
    "        ys.append(y_np)\n",
    "\n",
    "    return np.vstack(xs), np.concatenate(ys)"
   ]
  },
  {
   "cell_type": "code",
   "execution_count": null,
   "metadata": {},
   "outputs": [],
   "source": [
    "data.test_dl.sampler"
   ]
  },
  {
   "cell_type": "code",
   "execution_count": null,
   "metadata": {},
   "outputs": [],
   "source": [
    "test_names = data.test_ds.fnames\n",
    "test_names[:10]"
   ]
  },
  {
   "cell_type": "code",
   "execution_count": null,
   "metadata": {},
   "outputs": [],
   "source": []
  },
  {
   "cell_type": "code",
   "execution_count": null,
   "metadata": {},
   "outputs": [],
   "source": []
  },
  {
   "cell_type": "code",
   "execution_count": null,
   "metadata": {},
   "outputs": [],
   "source": [
    "def create_submission(preds_file, output_name, th = 0.3, TTA=False):\n",
    "    \n",
    "    # creating submission file\n",
    "    \n",
    "    if TTA:\n",
    "        preds = preds_file.mean(axis=0)\n",
    "        print('TTA:',preds.shape)\n",
    "    else: preds = preds_file\n",
    "    \n",
    "    clss = np.arange(0, len(data.classes)) # get class indeces\n",
    "    res = np.array([' '.join(np.char.mod('%d', clss[np.where(p > th)])) for p in preds]) # generating output\n",
    "\n",
    "    # ensure that there are no empty cells: in case no value > thresh, fill in with argmax()\n",
    "    for i in range(res.shape[0]):\n",
    "        if res[i] == '':\n",
    "            res[i] = preds[i].argmax()\n",
    "\n",
    "    # getting image Ids\n",
    "    fnames = np.array([os.path.basename(im).split('.')[0] for im in data.test_ds.fnames])\n",
    "\n",
    "    # creating submission file\n",
    "    sub_df = pd.DataFrame(res, index=fnames, columns=['Predicted'])\n",
    "    sub_df.to_csv(output_name, index_label='Id')"
   ]
  },
  {
   "cell_type": "code",
   "execution_count": null,
   "metadata": {},
   "outputs": [],
   "source": [
    "submission_name = PATH + 'submissions/Res18_pre_0.42_t-03.csv'\n",
    "\n",
    "create_submission(log_preds, submission_name, th=0.3, TTA=True)"
   ]
  },
  {
   "cell_type": "markdown",
   "metadata": {},
   "source": [
    "## other stuff"
   ]
  },
  {
   "cell_type": "code",
   "execution_count": null,
   "metadata": {},
   "outputs": [],
   "source": [
    "# List of label identities:\n",
    "\n",
    "cell_location_label = {\n",
    "0:  'Nucleoplasm',\n",
    "1:  'Nuclear membrane',\n",
    "2:  'Nucleoli',   \n",
    "3:  'Nucleoli fibrillar center',\n",
    "4:  'Nuclear speckles',\n",
    "5:  'Nuclear bodies',\n",
    "6:  'Endoplasmic reticulum',   \n",
    "7:  'Golgi apparatus',\n",
    "8:  'Peroxisomes',\n",
    "9:  'Endosomes',\n",
    "10:  'Lysosomes',\n",
    "11:  'Intermediate filaments',\n",
    "12:  'Actin filaments',\n",
    "13:  'Focal adhesion sites',   \n",
    "14:  'Microtubules',\n",
    "15:  'Microtubule ends',  \n",
    "16:  'Cytokinetic bridge',   \n",
    "17:  'Mitotic spindle',\n",
    "18:  'Microtubule organizing center',  \n",
    "19:  'Centrosome',\n",
    "20:  'Lipid droplets',\n",
    "21:  'Plasma membrane',   \n",
    "22:  'Cell junctions', \n",
    "23:  'Mitochondria',\n",
    "24:  'Aggresome',\n",
    "25:  'Cytosol',\n",
    "26:  'Cytoplasmic bodies',   \n",
    "27:  'Rods & rings' }"
   ]
  },
  {
   "cell_type": "code",
   "execution_count": null,
   "metadata": {},
   "outputs": [],
   "source": [
    "# from sklearn.metrics import f1_score\n",
    "\n",
    "# thresholds = np.linspace(0, 1, 1000)\n",
    "# score = 0.0\n",
    "# test_threshold=0.5*np.ones(28)\n",
    "# best_threshold=np.zeros(28)\n",
    "# best_val = np.zeros(28)\n",
    "# for i in range(28):\n",
    "#     for threshold in thresholds:\n",
    "#         test_threshold[i] = threshold\n",
    "#         max_val = np.max(preds_y)\n",
    "#         val_predict = (preds_y > test_threshold)\n",
    "#         score = f1_score(valid_y > 0.5, val_predict, average='macro')\n",
    "#         if score > best_val[i]:\n",
    "#             best_threshold[i] = threshold\n",
    "#             best_val[i] = score\n",
    "#     print(\"Threshold[%d] %0.6f, F1: %0.6f\" % (i,best_threshold[i],best_val[i]))\n",
    "#     test_threshold[i] = best_threshold[i]\n",
    "# print(\"Best threshold: \")\n",
    "# print(best_threshold)\n",
    "# print(\"Best f1:\")\n",
    "# print(best_val)"
   ]
  }
 ],
 "metadata": {
  "kernelspec": {
   "display_name": "Python 3",
   "language": "python",
   "name": "python3"
  },
  "language_info": {
   "codemirror_mode": {
    "name": "ipython",
    "version": 3
   },
   "file_extension": ".py",
   "mimetype": "text/x-python",
   "name": "python",
   "nbconvert_exporter": "python",
   "pygments_lexer": "ipython3",
   "version": "3.6.5"
  }
 },
 "nbformat": 4,
 "nbformat_minor": 2
}
