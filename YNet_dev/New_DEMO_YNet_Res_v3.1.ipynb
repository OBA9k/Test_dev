{
 "cells": [
  {
   "cell_type": "markdown",
   "metadata": {},
   "source": [
    "# YNet - Dataset 3.1:\n",
    "\n",
    "Data from Experiment (2), Mitochondria = Cit1-mCherry "
   ]
  },
  {
   "cell_type": "markdown",
   "metadata": {},
   "source": [
    "### Importing utilities:"
   ]
  },
  {
   "cell_type": "code",
   "execution_count": 1,
   "metadata": {},
   "outputs": [],
   "source": [
    "%matplotlib inline\n",
    "%reload_ext autoreload\n",
    "%autoreload 2"
   ]
  },
  {
   "cell_type": "code",
   "execution_count": 2,
   "metadata": {},
   "outputs": [],
   "source": [
    "import os\n",
    "from pathlib import Path\n",
    "import skimage.external.tifffile as tiff\n",
    "\n",
    "from common import Statistics, dataset_source\n",
    "from resources.conv_learner import *\n",
    "from resources.plots import *\n",
    "from pprint import pprint\n",
    "import matplotlib.pyplot as plt\n",
    "%matplotlib inline"
   ]
  },
  {
   "cell_type": "markdown",
   "metadata": {},
   "source": [
    "#### Setting up variables"
   ]
  },
  {
   "cell_type": "code",
   "execution_count": 3,
   "metadata": {},
   "outputs": [],
   "source": [
    "PATH = \"datasets/yeast_v3.1/\"\n",
    "data_path = Path(PATH)"
   ]
  },
  {
   "cell_type": "code",
   "execution_count": 4,
   "metadata": {},
   "outputs": [],
   "source": [
    "CLASSES = ('WT', 'mfb1KO', 'mmr1KO','num1KO', 'mmm1KO')\n",
    "NUM_CLASSES = len(CLASSES)\n",
    "BATCH_SIZE = 64\n",
    "SIZE = 200"
   ]
  },
  {
   "cell_type": "markdown",
   "metadata": {},
   "source": [
    "#### Calculating normalization statistics\n",
    "\n",
    "Note that we are setting up train & val data, as well as test. Within test, we are here including a mutant cell type that the model never trains on. The idea is to use to the feature space developed during training to evaluate novel cell types by similarity to the landmarks that the model was trained on. "
   ]
  },
  {
   "cell_type": "code",
   "execution_count": 5,
   "metadata": {
    "scrolled": true
   },
   "outputs": [
    {
     "name": "stdout",
     "output_type": "stream",
     "text": [
      "working on: datasets\\yeast_v3.1\\train\\01_mfb1KO\n",
      "working on: datasets\\yeast_v3.1\\val\\01_mfb1KO\n",
      "working on: datasets\\yeast_v3.1\\train\\01_mmm1KO\n",
      "working on: datasets\\yeast_v3.1\\val\\01_mmm1KO\n",
      "working on: datasets\\yeast_v3.1\\train\\01_mmr1KO\n",
      "working on: datasets\\yeast_v3.1\\val\\01_mmr1KO\n",
      "working on: datasets\\yeast_v3.1\\train\\01_num1KO\n",
      "working on: datasets\\yeast_v3.1\\val\\01_num1KO\n",
      "working on: datasets\\yeast_v3.1\\train\\01_WT\n",
      "working on: datasets\\yeast_v3.1\\val\\01_WT\n",
      "working on: datasets\\yeast_v3.1\\test\\02_mfb1KO\n",
      "working on: datasets\\yeast_v3.1\\test\\02_mmr1KO\n",
      "working on: datasets\\yeast_v3.1\\test\\02_WT\n"
     ]
    }
   ],
   "source": [
    "# stats_name = \"yeast_v10.2_per_class.dict\"\n",
    "classes = Statistics.source_class(data_path)\n",
    "\n",
    "train_val = zip(classes['train'], classes['val'])\n",
    "test_ = zip(classes['test'])\n",
    " \n",
    "main_stats = Statistics.per_class(train_val)\n",
    "test_stats = Statistics.per_class(test_)"
   ]
  },
  {
   "cell_type": "code",
   "execution_count": 6,
   "metadata": {
    "scrolled": true
   },
   "outputs": [
    {
     "name": "stdout",
     "output_type": "stream",
     "text": [
      "01_mfb1KO: \t \t \t (array([0.02111, 0.00453]), array([0.00149, 0.00161]))\n",
      "01_mmm1KO: \t \t \t (array([0.02102, 0.00424]), array([0.00149, 0.00183]))\n",
      "01_mmr1KO: \t \t \t (array([0.02115, 0.00486]), array([0.00157, 0.00194]))\n",
      "01_num1KO: \t \t \t (array([0.02098, 0.005  ]), array([0.00153, 0.00209]))\n",
      "01_WT: \t \t \t (array([0.0211, 0.0045]), array([0.00149, 0.00129]))\n"
     ]
    }
   ],
   "source": [
    "for keys in main_stats.keys():\n",
    "    print(f\"{keys}: \\t \\t \\t {main_stats[keys]}\")"
   ]
  },
  {
   "cell_type": "code",
   "execution_count": 7,
   "metadata": {
    "scrolled": true
   },
   "outputs": [
    {
     "name": "stdout",
     "output_type": "stream",
     "text": [
      "02_mfb1KO: \t \t \t (array([0.00794, 0.00483]), array([0.00074, 0.00162]))\n",
      "02_mmr1KO: \t \t \t (array([0.00799, 0.00503]), array([0.0008 , 0.00184]))\n",
      "02_WT: \t \t \t (array([0.00796, 0.00477]), array([0.00075, 0.00149]))\n"
     ]
    }
   ],
   "source": [
    "for keys in test_stats.keys():\n",
    "    print(f\"{keys}: \\t \\t \\t {test_stats[keys]}\")"
   ]
  },
  {
   "cell_type": "markdown",
   "metadata": {},
   "source": [
    "## Defining datasets:"
   ]
  },
  {
   "cell_type": "code",
   "execution_count": 8,
   "metadata": {},
   "outputs": [],
   "source": [
    "def tfms_for_test(stats, sz):\n",
    "    test_norm = Normalize(stats)\n",
    "    test_denorm = Denormalize(stats)\n",
    "    val_crop = CropType.NO\n",
    "    test_tfms = image_gen(test_norm, test_denorm,sz, crop_type=val_crop)\n",
    "    return test_tfms"
   ]
  },
  {
   "cell_type": "code",
   "execution_count": 9,
   "metadata": {},
   "outputs": [],
   "source": [
    "def get_data(path: str, sz, bs):\n",
    "    create, lbl2index, lbl2index_test = ImageClassifierData.prepare_from_path(path, val_name='val', bs=bs, num_workers=1,\n",
    "                                                                             test_name='test', test_with_labels=True)\n",
    "    \n",
    "    main_stats_X = {lbl2index[key][0]: val for key, val in main_stats.items()}\n",
    "    tfms = tfms_from_stats(main_stats_X, sz, aug_tfms=[RandomDihedral()], pad=sz//8)\n",
    "    \n",
    "    test_stats_X = {lbl2index_test[key][0]: val for key, val in test_stats.items()}\n",
    "    test_tfms = tfms_for_test(test_stats_X,sz)\n",
    "    tfms += (test_tfms, )\n",
    "    \n",
    "#     print(main_stats_X)\n",
    "#     print(test_stats_X)\n",
    "    \n",
    "    print('\\n class to index mapping:\\n',lbl2index)\n",
    "    print('\\n class to index mapping:\\n',lbl2index_test)\n",
    "    return create(tfms)"
   ]
  },
  {
   "cell_type": "code",
   "execution_count": 10,
   "metadata": {
    "scrolled": false
   },
   "outputs": [
    {
     "name": "stdout",
     "output_type": "stream",
     "text": [
      "\n",
      " class to index mapping:\n",
      " {'01_WT': [0, 0, 'WT'], '01_mfb1KO': [1, 1, 'mfb1KO'], '01_mmm1KO': [2, 2, 'mmm1KO'], '01_mmr1KO': [3, 3, 'mmr1KO'], '01_num1KO': [4, 4, 'num1KO']}\n",
      "\n",
      " class to index mapping:\n",
      " {'02_WT': [0, 0, 'WT'], '02_mfb1KO': [1, 1, 'mfb1KO'], '02_mmr1KO': [2, 2, 'mmr1KO']}\n"
     ]
    }
   ],
   "source": [
    "data = get_data(PATH,SIZE,BATCH_SIZE)"
   ]
  },
  {
   "cell_type": "code",
   "execution_count": 11,
   "metadata": {
    "scrolled": true
   },
   "outputs": [],
   "source": [
    "x, y = next(iter(data.trn_dl))"
   ]
  },
  {
   "cell_type": "code",
   "execution_count": null,
   "metadata": {},
   "outputs": [],
   "source": [
    "x, y = next(iter(data.test_dl))"
   ]
  },
  {
   "cell_type": "code",
   "execution_count": null,
   "metadata": {},
   "outputs": [],
   "source": [
    "print(len(data.val_dl.dataset.y))\n",
    "print(len(data.trn_dl.dataset.y))\n",
    "# print(y)"
   ]
  },
  {
   "cell_type": "markdown",
   "metadata": {},
   "source": [
    "### Inspect loaded data:\n",
    "\n",
    "Displaying the same image with and without normalization."
   ]
  },
  {
   "cell_type": "code",
   "execution_count": null,
   "metadata": {
    "scrolled": true
   },
   "outputs": [],
   "source": [
    "# specify which image-index\n",
    "idx = 6\n",
    "\n",
    "# loading it from GPU to CPU\n",
    "xx = x[idx].cpu().numpy().copy()\n",
    "yy = y[idx]\n",
    "# showing the image\n",
    "#\n",
    "#sp.axis('Off')\n",
    "#sp.set_title(\"Norm\", fontsize=11)\n",
    "figure, _ ,_ = tiff.imshow(np.sum(xx, axis=0))\n",
    "figure.set_size_inches(6,6)\n",
    "figure.add_subplot(111)\n",
    "\n",
    "# figure2, _, _ = tiff.imshow(np.sum(data.trn_ds.denorm(xx,yy).squeeze() * 65536, axis=2)) # not very elegant atm. \n",
    "# figure2.set_size_inches(6,6)\n",
    "print(yy)"
   ]
  },
  {
   "cell_type": "markdown",
   "metadata": {},
   "source": [
    "# Training setup"
   ]
  },
  {
   "cell_type": "code",
   "execution_count": 12,
   "metadata": {},
   "outputs": [
    {
     "data": {
      "text/plain": [
       "True"
      ]
     },
     "execution_count": 12,
     "metadata": {},
     "output_type": "execute_result"
    }
   ],
   "source": [
    "torch.cuda.is_available()"
   ]
  },
  {
   "cell_type": "markdown",
   "metadata": {},
   "source": [
    "## ResNet_with_Batchnorm\n",
    "\n",
    "Defining network architecture. "
   ]
  },
  {
   "cell_type": "code",
   "execution_count": 11,
   "metadata": {},
   "outputs": [],
   "source": [
    "class BnLayer(nn.Module):\n",
    "    def __init__(self, ni, nf, stride=2, kernel_size=3):\n",
    "        super().__init__()\n",
    "        self.conv = nn.Conv2d(ni, nf, kernel_size=kernel_size, stride=stride,\n",
    "                              bias=False, padding=1)\n",
    "        self.a = nn.Parameter(torch.zeros(nf,1,1))\n",
    "        self.m = nn.Parameter(torch.ones(nf,1,1))\n",
    "        \n",
    "    def forward(self, x):\n",
    "        x = F.relu(self.conv(x))\n",
    "        x_chan = x.transpose(0,1).contiguous().view(x.size(1), -1)\n",
    "        if self.training:\n",
    "            self.means = x_chan.mean(1)[:,None,None]\n",
    "            self.stds  = x_chan.std (1)[:,None,None]\n",
    "        return (x-self.means) / self.stds *self.m + self.a"
   ]
  },
  {
   "cell_type": "code",
   "execution_count": 12,
   "metadata": {},
   "outputs": [],
   "source": [
    "class ResnetLayer(BnLayer):\n",
    "    def forward(self, x): return x + super().forward(x)"
   ]
  },
  {
   "cell_type": "code",
   "execution_count": 13,
   "metadata": {},
   "outputs": [],
   "source": [
    "class Resnet(nn.Module):\n",
    "    def __init__(self, layers, c):\n",
    "        super().__init__()\n",
    "        self.conv1 = nn.Conv2d(2, 10, kernel_size=5, stride=1, padding=2)\n",
    "        self.layers = nn.ModuleList([BnLayer(layers[i], layers[i+1])\n",
    "            for i in range(len(layers) - 1)])\n",
    "        self.layers2 = nn.ModuleList([ResnetLayer(layers[i+1], layers[i + 1], 1)\n",
    "            for i in range(len(layers) - 1)])\n",
    "        self.layers3 = nn.ModuleList([ResnetLayer(layers[i+1], layers[i + 1], 1)\n",
    "            for i in range(len(layers) - 1)])\n",
    "        self.out = nn.Linear(layers[-1], c)\n",
    "        \n",
    "    def forward(self, x):\n",
    "        x = self.conv1(x)\n",
    "        for l,l2,l3 in zip(self.layers, self.layers2, self.layers3):\n",
    "            x = l3(l2(l(x)))\n",
    "        x = F.adaptive_max_pool2d(x, 1)\n",
    "        x = x.view(x.size(0), -1)\n",
    "        return F.log_softmax(self.out(x), dim=-1)"
   ]
  },
  {
   "cell_type": "code",
   "execution_count": 16,
   "metadata": {},
   "outputs": [],
   "source": [
    "wd=1e-5 # weight-decay/L2 regularization "
   ]
  },
  {
   "cell_type": "code",
   "execution_count": 17,
   "metadata": {},
   "outputs": [],
   "source": [
    "learn = ConvLearner.from_model_data(Resnet([10, 20, 40, 80, 160], 5), data)"
   ]
  },
  {
   "cell_type": "code",
   "execution_count": null,
   "metadata": {
    "scrolled": true
   },
   "outputs": [],
   "source": [
    "learn.summary()"
   ]
  },
  {
   "cell_type": "code",
   "execution_count": 18,
   "metadata": {
    "scrolled": true
   },
   "outputs": [
    {
     "data": {
      "application/vnd.jupyter.widget-view+json": {
       "model_id": "ab04072f62a84160a68b640d8afda223",
       "version_major": 2,
       "version_minor": 0
      },
      "text/plain": [
       "HBox(children=(IntProgress(value=0, description='Epoch', max=8), HTML(value='')))"
      ]
     },
     "metadata": {},
     "output_type": "display_data"
    },
    {
     "name": "stdout",
     "output_type": "stream",
     "text": [
      "EPOCH 0 ---------------------------------------- STEP 0                                                                                                                                                              \n",
      "mean: [17.91667 17.91667 25.66667 26.66667  9.41667]\n",
      "stdev: [4.76897 5.21949 5.37484 5.05525 5.28297]\n",
      "\n",
      "[WT]: 91.43%\n",
      "[mfb1KO]:  0.0%\n",
      "[mmm1KO]: 97.14%\n",
      "[mmr1KO]:  0.0%\n",
      "[num1KO]:  0.0%\n",
      "epoch      trn_loss   val_loss   accuracy   \n",
      "    0      20.981655  7.406739   0.377143  \n",
      "EPOCH 1 ---------------------------------------- STEP 1                                                                                                                                                              \n",
      "mean: [18.      18.      25.41667 26.75     9.33333]\n",
      "stdev: [4.6188  4.76095 5.05731 6.15257 2.74874]\n",
      "\n",
      "[WT]:  0.0%\n",
      "[mfb1KO]:  0.0%\n",
      "[mmm1KO]: 97.14%\n",
      "[mmr1KO]: 80.0%\n",
      "[num1KO]:  0.0%\n",
      "    1      16.733855  13.747852  0.354286  \n",
      "EPOCH 2 ---------------------------------------- STEP 2                                                                                                                                                              \n",
      "mean: [18.16667 17.83333 25.33333 26.58333  9.5    ]\n",
      "stdev: [4.03801 4.07908 4.22953 5.80888 3.1225 ]\n",
      "\n",
      "[WT]:  0.0%\n",
      "[mfb1KO]: 31.43%\n",
      "[mmm1KO]: 100.0%\n",
      "[mmr1KO]:  0.0%\n",
      "[num1KO]: 82.86%\n",
      "    2      12.473726  3.925793   0.428571  \n",
      "EPOCH 3 ---------------------------------------- STEP 3                                                                                                                                                              \n",
      "mean: [18.25    17.83333 25.33333 26.75     9.41667]\n",
      "stdev: [4.81534 4.48764 4.98888 6.79614 4.13236]\n",
      "\n",
      "[WT]: 91.43%\n",
      "[mfb1KO]: 54.29%\n",
      "[mmm1KO]: 91.43%\n",
      "[mmr1KO]: 2.857%\n",
      "[num1KO]:  0.0%\n",
      "    3      8.863659   2.165097   0.48      \n",
      "EPOCH 4 ---------------------------------------- STEP 4                                                                                                                                                              \n",
      "mean: [18.08333 18.08333 25.5     26.58333  9.33333]\n",
      "stdev: [3.30299 2.75252 5.70818 5.6341  2.98142]\n",
      "\n",
      "[WT]: 91.43%\n",
      "[mfb1KO]:  0.0%\n",
      "[mmm1KO]: 100.0%\n",
      "[mmr1KO]: 51.43%\n",
      "[num1KO]:  0.0%\n",
      "    4      6.537145   1.249589   0.485714  \n",
      "EPOCH 5 ---------------------------------------- STEP 5                                                                                                                                                              \n",
      "mean: [18.      18.16667 25.58333 26.5      9.41667]\n",
      "stdev: [4.89898 4.25898 3.92552 5.00833 4.49923]\n",
      "\n",
      "[WT]: 57.14%\n",
      "[mfb1KO]: 2.857%\n",
      "[mmm1KO]: 88.57%\n",
      "[mmr1KO]: 62.86%\n",
      "[num1KO]:  0.0%\n",
      "    5      5.043746   1.151266   0.422857  \n",
      "EPOCH 6 ---------------------------------------- STEP 6                                                                                                                                                              \n",
      "mean: [18.      18.16667 25.41667 26.66667  9.33333]\n",
      "stdev: [6.04152 5.78552 6.11635 4.04832 3.22318]\n",
      "\n",
      "[WT]: 57.14%\n",
      "[mfb1KO]: 48.57%\n",
      "[mmm1KO]: 94.29%\n",
      "[mmr1KO]: 54.29%\n",
      "[num1KO]:  0.0%\n",
      "    6      4.008358   1.244853   0.508571  \n",
      "EPOCH 7 ---------------------------------------- STEP 7                                                                                                                                                              \n",
      "mean: [17.83333 18.33333 25.66667 26.41667  9.33333]\n",
      "stdev: [4.77552 4.42217 6.24944 6.55055 4.81894]\n",
      "\n",
      "[WT]: 68.57%\n",
      "[mfb1KO]:  0.0%\n",
      "[mmm1KO]: 100.0%\n",
      "[mmr1KO]: 88.57%\n",
      "[num1KO]:  0.0%\n",
      "    7      3.238764   1.020594   0.514286  \n",
      "\n",
      "Wall time: 56.7 s\n"
     ]
    },
    {
     "data": {
      "text/plain": [
       "[array([1.02059]), 0.5142857141154153]"
      ]
     },
     "execution_count": 18,
     "metadata": {},
     "output_type": "execute_result"
    }
   ],
   "source": [
    "%time learn.fit(1e-2, 8, cycle_len=1, wds=wd)"
   ]
  },
  {
   "cell_type": "code",
   "execution_count": 19,
   "metadata": {
    "scrolled": true
   },
   "outputs": [
    {
     "data": {
      "image/png": "[encoded data removed]",
      "text/plain": [
       "<Figure size 432x288 with 1 Axes>"
      ]
     },
     "metadata": {},
     "output_type": "display_data"
    }
   ],
   "source": [
    "f = plt.figure()\n",
    "x = learn.sched.plot_loss()\n",
    "plt.ylabel('Loss')\n",
    "plt.xlabel('Iterations')\n",
    "plt.show()"
   ]
  },
  {
   "cell_type": "code",
   "execution_count": 20,
   "metadata": {},
   "outputs": [
    {
     "data": {
      "image/png": "[encoded data removed]",
      "text/plain": [
       "<Figure size 432x288 with 1 Axes>"
      ]
     },
     "metadata": {},
     "output_type": "display_data"
    }
   ],
   "source": [
    "learn.sched.plot_lr()"
   ]
  },
  {
   "cell_type": "markdown",
   "metadata": {},
   "source": [
    "#### Run some more cylces - error & accuracy should continuously improve\n",
    "\n",
    "Note: cycle len = number of epochs per cycle"
   ]
  },
  {
   "cell_type": "code",
   "execution_count": 21,
   "metadata": {
    "scrolled": true
   },
   "outputs": [
    {
     "data": {
      "application/vnd.jupyter.widget-view+json": {
       "model_id": "e82013597a734fc8b4c9093307aa0a2c",
       "version_major": 2,
       "version_minor": 0
      },
      "text/plain": [
       "HBox(children=(IntProgress(value=0, description='Epoch', max=20), HTML(value='')))"
      ]
     },
     "metadata": {},
     "output_type": "display_data"
    },
    {
     "name": "stdout",
     "output_type": "stream",
     "text": [
      "EPOCH 0 ---------------------------------------- STEP 8                                                                                                                                                              \n",
      "mean: [18.08333 18.25    25.08333 26.75     9.41667]\n",
      "stdev: [5.82321 4.84983 6.52506 5.30919 3.83967]\n",
      "\n",
      "[WT]: 57.14%\n",
      "[mfb1KO]: 82.86%\n",
      "[mmm1KO]: 100.0%\n",
      "[mmr1KO]: 40.0%\n",
      "[num1KO]:  0.0%\n",
      "epoch      trn_loss   val_loss   accuracy   \n",
      "    0      0.912515   1.478739   0.56      \n",
      "EPOCH 1 ---------------------------------------- STEP 9                                                                                                                                                              \n",
      "mean: [18.08333 18.16667 25.58333 26.75     9.33333]\n",
      "stdev: [4.99096 3.99653 3.92552 6.74691 3.03681]\n",
      "\n",
      "[WT]: 80.0%\n",
      "[mfb1KO]: 71.43%\n",
      "[mmm1KO]: 85.71%\n",
      "[mmr1KO]: 40.0%\n",
      "[num1KO]: 2.857%\n",
      "    1      0.859988   0.952781   0.56      \n",
      "EPOCH 2 ---------------------------------------- STEP 10                                                                                                                                                             \n",
      "mean: [18.16667 18.16667 25.33333 26.75     9.33333]\n",
      "stdev: [4.77552 4.81029 4.55217 4.41824 3.51979]\n",
      "\n",
      "[WT]: 100.0%\n",
      "[mfb1KO]: 51.43%\n",
      "[mmm1KO]: 94.29%\n",
      "[mmr1KO]: 34.29%\n",
      "[num1KO]:  0.0%\n",
      "    2      0.833199   0.956911   0.56      \n",
      "EPOCH 3 ---------------------------------------- STEP 11                                                                                                                                                             \n",
      "mean: [18.      18.08333 25.41667 26.75     9.5    ]\n",
      "stdev: [3.      4.19242 2.8419  5.14984 2.72336]\n",
      "\n",
      "[WT]: 42.86%\n",
      "[mfb1KO]: 94.29%\n",
      "[mmm1KO]: 100.0%\n",
      "[mmr1KO]: 77.14%\n",
      "[num1KO]:  0.0%\n",
      "    3      0.814532   0.931708   0.628571  \n",
      "EPOCH 4 ---------------------------------------- STEP 12                                                                                                                                                             \n",
      "mean: [18.      18.      25.66667 26.83333  9.41667]\n",
      "stdev: [3.08221 3.10913 4.06885 4.35571 2.66015]\n",
      "\n",
      "[WT]: 54.29%\n",
      "[mfb1KO]: 88.57%\n",
      "[mmm1KO]: 97.14%\n",
      "[mmr1KO]: 77.14%\n",
      "[num1KO]:  0.0%\n",
      "    4      0.797545   0.81192    0.634286  \n",
      "EPOCH 5 ---------------------------------------- STEP 13                                                                                                                                                             \n",
      "mean: [18.08333 18.16667 25.5     26.66667  9.33333]\n",
      "stdev: [5.13904 4.01732 4.23281 3.81517 3.14466]\n",
      "\n",
      "[WT]: 65.71%\n",
      "[mfb1KO]: 88.57%\n",
      "[mmm1KO]: 100.0%\n",
      "[mmr1KO]: 77.14%\n",
      "[num1KO]:  0.0%\n",
      "    5      0.759693   0.769365   0.662857  \n",
      "EPOCH 6 ---------------------------------------- STEP 14                                                                                                                                                             \n",
      "mean: [17.83333 18.33333 25.5     26.75     9.33333]\n",
      "stdev: [5.66912 6.12826 5.34634 4.95185 4.00694]\n",
      "\n",
      "[WT]: 54.29%\n",
      "[mfb1KO]: 60.0%\n",
      "[mmm1KO]: 88.57%\n",
      "[mmr1KO]: 85.71%\n",
      "[num1KO]:  0.0%\n",
      "    6      0.75646    0.971449   0.577143  \n",
      "EPOCH 7 ---------------------------------------- STEP 15                                                                                                                                                             \n",
      "mean: [17.91667 18.08333 25.5     26.83333  9.16667]\n",
      "stdev: [4.80379 2.92855 4.09268 4.09946 4.13991]\n",
      "\n",
      "[WT]: 94.29%\n",
      "[mfb1KO]: 100.0%\n",
      "[mmm1KO]: 100.0%\n",
      "[mmr1KO]: 62.86%\n",
      "[num1KO]: 2.857%\n",
      "    7      0.74343    0.706195   0.72      \n",
      "EPOCH 8 ---------------------------------------- STEP 16                                                                                                                                                             \n",
      "mean: [18.      18.      25.5     26.75     9.41667]\n",
      "stdev: [4.76095 4.98331 6.06218 4.91808 3.774  ]\n",
      "\n",
      "[WT]: 100.0%\n",
      "[mfb1KO]: 80.0%\n",
      "[mmm1KO]: 97.14%\n",
      "[mmr1KO]: 37.14%\n",
      "[num1KO]: 2.857%\n",
      "    8      0.725364   0.807012   0.634286  \n",
      "EPOCH 9 ---------------------------------------- STEP 17                                                                                                                                                             \n",
      "mean: [18.25    18.16667 25.41667 26.75     9.33333]\n",
      "stdev: [5.05181 5.03046 4.62706 3.87567 4.40328]\n",
      "\n",
      "[WT]: 57.14%\n",
      "[mfb1KO]: 100.0%\n",
      "[mmm1KO]: 100.0%\n",
      "[mmr1KO]: 71.43%\n",
      "[num1KO]:  0.0%\n",
      "    9      0.703375   0.70501    0.657143  \n",
      "EPOCH 10 ---------------------------------------- STEP 18                                                                                                                                                            \n",
      "mean: [17.91667 18.08333 25.41667 26.91667  9.5    ]\n",
      "stdev: [4.94062 3.35307 4.13236 6.29098 3.77492]\n",
      "\n",
      "[WT]: 48.57%\n",
      "[mfb1KO]: 100.0%\n",
      "[mmm1KO]: 100.0%\n",
      "[mmr1KO]: 80.0%\n",
      "[num1KO]: 25.71%\n",
      "    10     0.691385   0.669633   0.708571  \n",
      "EPOCH 11 ---------------------------------------- STEP 19                                                                                                                                                            \n",
      "mean: [18.      18.      25.58333 26.75     9.33333]\n",
      "stdev: [4.32049 5.53775 4.82111 5.52457 4.08928]\n",
      "\n",
      "[WT]: 68.57%\n",
      "[mfb1KO]: 88.57%\n",
      "[mmm1KO]: 97.14%\n",
      "[mmr1KO]: 80.0%\n",
      "[num1KO]: 5.714%\n",
      "    11     0.67473    0.717498   0.68      \n",
      "EPOCH 12 ---------------------------------------- STEP 20                                                                                                                                                            \n",
      "mean: [18.16667 17.91667 25.58333 26.66667  9.5    ]\n",
      "stdev: [4.81029 4.25163 5.75121 5.05525 3.3541 ]\n",
      "\n",
      "[WT]: 60.0%\n",
      "[mfb1KO]: 94.29%\n",
      "[mmm1KO]: 100.0%\n",
      "[mmr1KO]: 82.86%\n",
      "[num1KO]:  0.0%\n",
      "    12     0.664986   0.825916   0.674286  \n",
      "EPOCH 13 ---------------------------------------- STEP 21                                                                                                                                                            \n",
      "mean: [17.91667 17.83333 25.66667 26.83333  9.16667]\n",
      "stdev: [3.12139 3.02306 7.47589 4.39381 2.70288]\n",
      "\n",
      "[WT]: 68.57%\n",
      "[mfb1KO]: 100.0%\n",
      "[mmm1KO]: 100.0%\n",
      "[mmr1KO]: 74.29%\n",
      "[num1KO]: 14.29%\n",
      "    13     0.647232   0.634653   0.714286  \n",
      "EPOCH 14 ---------------------------------------- STEP 22                                                                                                                                                            \n",
      "mean: [18.      18.16667 25.25    26.75     9.41667]\n",
      "stdev: [6.84349 4.94694 6.2998  5.76086 3.96775]\n",
      "\n",
      "[WT]: 65.71%\n",
      "[mfb1KO]: 100.0%\n",
      "[mmm1KO]: 100.0%\n",
      "[mmr1KO]: 62.86%\n",
      "[num1KO]: 48.57%\n",
      "    14     0.637682   0.690789   0.754286  \n",
      "EPOCH 15 ---------------------------------------- STEP 23                                                                                                                                                            \n",
      "mean: [17.91667 18.16667 25.5     26.75     9.33333]\n",
      "stdev: [6.80022 4.68745 3.98957 3.58527 3.90157]\n",
      "\n",
      "[WT]: 80.0%\n",
      "[mfb1KO]: 71.43%\n",
      "[mmm1KO]: 97.14%\n",
      "[mmr1KO]: 80.0%\n",
      "[num1KO]: 11.43%\n",
      "    15     0.627349   0.695938   0.68      \n",
      "EPOCH 16 ---------------------------------------- STEP 24                                                                                                                                                            \n",
      "mean: [18.      18.      25.41667 26.75     9.25   ]\n",
      "stdev: [4.79583 3.97911 4.95746 5.64395 2.16506]\n",
      "\n",
      "[WT]: 74.29%\n",
      "[mfb1KO]: 60.0%\n",
      "[mmm1KO]: 97.14%\n",
      "[mmr1KO]: 88.57%\n",
      "[num1KO]: 14.29%\n",
      "    16     0.61817    0.699145   0.668571  \n",
      "EPOCH 17 ---------------------------------------- STEP 25                                                                                                                                                            \n",
      "mean: [18.25    17.91667 25.58333 26.75     9.33333]\n",
      "stdev: [4.36129 5.1065  5.52959 6.84501 4.12984]\n",
      "\n",
      "[WT]: 57.14%\n",
      "[mfb1KO]: 97.14%\n",
      "[mmm1KO]: 97.14%\n",
      "[mmr1KO]: 77.14%\n",
      "[num1KO]: 2.857%\n",
      "    17     0.603456   0.722517   0.662857  \n"
     ]
    },
    {
     "name": "stdout",
     "output_type": "stream",
     "text": [
      "EPOCH 18 ---------------------------------------- STEP 26                                                                                                                                                            \n",
      "mean: [18.25    18.      25.5     26.91667  9.16667]\n",
      "stdev: [5.77531 5.70088 4.48144 3.774   2.79384]\n",
      "\n",
      "[WT]: 74.29%\n",
      "[mfb1KO]: 100.0%\n",
      "[mmm1KO]: 100.0%\n",
      "[mmr1KO]: 77.14%\n",
      "[num1KO]: 31.43%\n",
      "    18     0.603691   0.578558   0.765714  \n",
      "EPOCH 19 ---------------------------------------- STEP 27                                                                                                                                                            \n",
      "mean: [18.      18.      25.58333 26.75     9.41667]\n",
      "stdev: [4.26224 7.68115 3.90424 5.83274 2.75252]\n",
      "\n",
      "[WT]: 48.57%\n",
      "[mfb1KO]: 100.0%\n",
      "[mmm1KO]: 100.0%\n",
      "[mmr1KO]: 77.14%\n",
      "[num1KO]: 22.86%\n",
      "    19     0.592537   0.653949   0.697143  \n",
      "\n",
      "Wall time: 2min 27s\n"
     ]
    },
    {
     "data": {
      "text/plain": [
       "[array([0.65395]), 0.6971428542477744]"
      ]
     },
     "execution_count": 21,
     "metadata": {},
     "output_type": "execute_result"
    }
   ],
   "source": [
    "%time learn.fit(1e-2, 10, wds=wd, cycle_len=2, use_clr=(20,8, 0.95, 0.85))"
   ]
  },
  {
   "cell_type": "code",
   "execution_count": 22,
   "metadata": {
    "scrolled": true
   },
   "outputs": [
    {
     "data": {
      "application/vnd.jupyter.widget-view+json": {
       "model_id": "d4c7d983a6db4a71a4f0510b83cdb35e",
       "version_major": 2,
       "version_minor": 0
      },
      "text/plain": [
       "HBox(children=(IntProgress(value=0, description='Epoch', max=14), HTML(value='')))"
      ]
     },
     "metadata": {},
     "output_type": "display_data"
    },
    {
     "name": "stdout",
     "output_type": "stream",
     "text": [
      "EPOCH 0 ---------------------------------------- STEP 28                                                                                                                                                             \n",
      "mean: [18.      18.25    25.41667 26.75     9.33333]\n",
      "stdev: [6.23164 4.14578 4.5909  5.77531 4.28823]\n",
      "\n",
      "[WT]: 82.86%\n",
      "[mfb1KO]: 94.29%\n",
      "[mmm1KO]: 97.14%\n",
      "[mmr1KO]: 74.29%\n",
      "[num1KO]: 34.29%\n",
      "epoch      trn_loss   val_loss   accuracy   \n",
      "    0      0.532755   0.60096    0.765714  \n",
      "EPOCH 1 ---------------------------------------- STEP 29                                                                                                                                                             \n",
      "mean: [18.16667 18.      25.58333 26.5      9.41667]\n",
      "stdev: [4.13991 2.64575 6.86122 4.59166 3.61613]\n",
      "\n",
      "[WT]: 88.57%\n",
      "[mfb1KO]: 100.0%\n",
      "[mmm1KO]: 100.0%\n",
      "[mmr1KO]: 68.57%\n",
      "[num1KO]: 5.714%\n",
      "    1      0.524037   0.585833   0.725714  \n",
      "EPOCH 2 ---------------------------------------- STEP 30                                                                                                                                                             \n",
      "mean: [18.      18.16667 25.66667 26.75     9.33333]\n",
      "stdev: [5.88784 3.0777  5.37484 6.37868 2.62467]\n",
      "\n",
      "[WT]: 80.0%\n",
      "[mfb1KO]: 100.0%\n",
      "[mmm1KO]: 100.0%\n",
      "[mmr1KO]: 74.29%\n",
      "[num1KO]: 11.43%\n",
      "    2      0.518337   0.585422   0.731429  \n",
      "EPOCH 3 ---------------------------------------- STEP 31                                                                                                                                                             \n",
      "mean: [18.16667 18.16667 25.41667 26.83333  9.33333]\n",
      "stdev: [3.31243 4.68745 3.72957 4.86198 2.77889]\n",
      "\n",
      "[WT]: 88.57%\n",
      "[mfb1KO]: 100.0%\n",
      "[mmm1KO]: 100.0%\n",
      "[mmr1KO]: 71.43%\n",
      "[num1KO]: 25.71%\n",
      "    3      0.516551   0.537083   0.771429  \n",
      "EPOCH 4 ---------------------------------------- STEP 32                                                                                                                                                             \n",
      "mean: [18.      18.16667 25.33333 26.75     9.41667]\n",
      "stdev: [4.74342 4.3748  5.94886 4.08503 3.72957]\n",
      "\n",
      "[WT]: 62.86%\n",
      "[mfb1KO]: 100.0%\n",
      "[mmm1KO]: 100.0%\n",
      "[mmr1KO]: 77.14%\n",
      "[num1KO]: 40.0%\n",
      "    4      0.513495   0.625333   0.76      \n",
      "EPOCH 5 ---------------------------------------- STEP 33                                                                                                                                                             \n",
      "mean: [17.91667 18.08333 25.5     27.       9.41667]\n",
      "stdev: [4.03027 4.29066 3.5473  7.22265 3.40241]\n",
      "\n",
      "[WT]: 85.71%\n",
      "[mfb1KO]: 100.0%\n",
      "[mmm1KO]: 100.0%\n",
      "[mmr1KO]: 71.43%\n",
      "[num1KO]: 28.57%\n",
      "    5      0.505707   0.539681   0.771429  \n",
      "EPOCH 6 ---------------------------------------- STEP 34                                                                                                                                                             \n",
      "mean: [18.      17.75    25.33333 26.75     9.41667]\n",
      "stdev: [5.08265 5.19816 4.18994 6.58439 3.66193]\n",
      "\n",
      "[WT]: 88.57%\n",
      "[mfb1KO]: 100.0%\n",
      "[mmm1KO]: 100.0%\n",
      "[mmr1KO]: 68.57%\n",
      "[num1KO]: 28.57%\n",
      "    6      0.50586    0.53645    0.771429  \n",
      "EPOCH 7 ---------------------------------------- STEP 35                                                                                                                                                             \n",
      "mean: [18.      18.33333 25.58333 26.58333  9.33333]\n",
      "stdev: [7.14143 4.92161 4.66294 5.6636  3.74907]\n",
      "\n",
      "[WT]: 94.29%\n",
      "[mfb1KO]: 97.14%\n",
      "[mmm1KO]: 100.0%\n",
      "[mmr1KO]: 65.71%\n",
      "[num1KO]: 2.857%\n",
      "    7      0.501402   0.606293   0.72      \n",
      "EPOCH 8 ---------------------------------------- STEP 36                                                                                                                                                             \n",
      "mean: [18.      18.      25.33333 26.83333  9.25   ]\n",
      "stdev: [4.72582 5.53775 3.94405 6.45282 3.31976]\n",
      "\n",
      "[WT]: 74.29%\n",
      "[mfb1KO]: 100.0%\n",
      "[mmm1KO]: 100.0%\n",
      "[mmr1KO]: 74.29%\n",
      "[num1KO]: 28.57%\n",
      "    8      0.502776   0.558229   0.754286  \n",
      "EPOCH 9 ---------------------------------------- STEP 37                                                                                                                                                             \n",
      "mean: [18.08333 18.      25.33333 26.58333  9.5    ]\n",
      "stdev: [4.05089 5.      5.24934 5.60444 3.88373]\n",
      "\n",
      "[WT]: 65.71%\n",
      "[mfb1KO]: 100.0%\n",
      "[mmm1KO]: 100.0%\n",
      "[mmr1KO]: 74.29%\n",
      "[num1KO]: 14.29%\n",
      "    9      0.501959   0.657788   0.708571  \n",
      "EPOCH 10 ---------------------------------------- STEP 38                                                                                                                                                            \n",
      "mean: [18.16667 17.91667 25.25    26.83333  9.33333]\n",
      "stdev: [4.39381 5.09016 3.63146 6.79256 4.34613]\n",
      "\n",
      "[WT]: 77.14%\n",
      "[mfb1KO]: 100.0%\n",
      "[mmm1KO]: 100.0%\n",
      "[mmr1KO]: 74.29%\n",
      "[num1KO]: 20.0%\n",
      "    10     0.501946   0.56085    0.742857  \n",
      "EPOCH 11 ---------------------------------------- STEP 39                                                                                                                                                            \n",
      "mean: [17.91667 18.      25.33333 26.83333  9.5    ]\n",
      "stdev: [5.7367  5.95819 4.00694 5.2731  3.90512]\n",
      "\n",
      "[WT]: 82.86%\n",
      "[mfb1KO]: 97.14%\n",
      "[mmm1KO]: 100.0%\n",
      "[mmr1KO]: 77.14%\n",
      "[num1KO]: 28.57%\n",
      "    11     0.497319   0.655438   0.771429  \n",
      "EPOCH 12 ---------------------------------------- STEP 40                                                                                                                                                            \n",
      "mean: [18.08333 18.      25.25    26.75     9.5    ]\n",
      "stdev: [4.53612 4.6188  4.83261 6.05702 2.43242]\n",
      "\n",
      "[WT]: 77.14%\n",
      "[mfb1KO]: 100.0%\n",
      "[mmm1KO]: 100.0%\n",
      "[mmr1KO]: 77.14%\n",
      "[num1KO]: 34.29%\n",
      "    12     0.497107   0.63081    0.777143  \n",
      "EPOCH 13 ---------------------------------------- STEP 41                                                                                                                                                            \n",
      "mean: [18.08333 18.16667 25.08333 26.75     9.41667]\n",
      "stdev: [3.37783 5.11262 5.29872 5.37161 2.81242]\n",
      "\n",
      "[WT]: 62.86%\n",
      "[mfb1KO]: 100.0%\n",
      "[mmm1KO]: 100.0%\n",
      "[mmr1KO]: 80.0%\n",
      "[num1KO]: 22.86%\n",
      "    13     0.494524   0.636666   0.731429  \n",
      "\n",
      "Wall time: 1min 40s\n"
     ]
    },
    {
     "data": {
      "text/plain": [
       "[array([0.63667]), 0.7314285678522927]"
      ]
     },
     "execution_count": 22,
     "metadata": {},
     "output_type": "execute_result"
    }
   ],
   "source": [
    "%time learn.fit(1e-3, 3, wds=wd, cycle_len=2, cycle_mult = 2, use_clr=(20,8, 0.95, 0.85))"
   ]
  },
  {
   "cell_type": "code",
   "execution_count": 25,
   "metadata": {},
   "outputs": [],
   "source": [
    "wd=5e-5 # weight-decay/L2 regularization "
   ]
  },
  {
   "cell_type": "code",
   "execution_count": 26,
   "metadata": {
    "scrolled": true
   },
   "outputs": [
    {
     "data": {
      "application/vnd.jupyter.widget-view+json": {
       "model_id": "e741dcfdbbd14932a058fa2ee5896bf5",
       "version_major": 2,
       "version_minor": 0
      },
      "text/plain": [
       "HBox(children=(IntProgress(value=0, description='Epoch', max=93), HTML(value='')))"
      ]
     },
     "metadata": {},
     "output_type": "display_data"
    },
    {
     "name": "stdout",
     "output_type": "stream",
     "text": [
      "EPOCH 0 ---------------------------------------- STEP 54                                                                                                                                                             \n",
      "mean: [17.91667 17.91667 25.25    26.75     9.5    ]\n",
      "stdev: [5.54464 4.05089 6.86932 9.33742 3.86221]\n",
      "\n",
      "[WT]: 82.86%\n",
      "[mfb1KO]: 100.0%\n",
      "[mmm1KO]: 100.0%\n",
      "[mmr1KO]: 71.43%\n",
      "[num1KO]: 17.14%\n",
      "epoch      trn_loss   val_loss   accuracy   \n",
      "    0      0.489581   0.537449   0.742857  \n",
      "EPOCH 1 ---------------------------------------- STEP 55                                                                                                                                                             \n",
      "mean: [18.25    18.      25.25    26.66667  9.25   ]\n",
      "stdev: [4.9854  4.63681 5.30919 5.55778 2.08666]\n",
      "\n",
      "[WT]: 74.29%\n",
      "[mfb1KO]: 100.0%\n",
      "[mmm1KO]: 100.0%\n",
      "[mmr1KO]: 77.14%\n",
      "[num1KO]: 17.14%\n",
      "    1      0.475936   0.584851   0.737143  \n",
      "EPOCH 2 ---------------------------------------- STEP 56                                                                                                                                                             \n",
      "mean: [18.16667 17.75    25.41667 26.5      9.33333]\n",
      "stdev: [4.25898 5.47913 4.76897 6.33114 2.77889]\n",
      "\n",
      "[WT]: 80.0%\n",
      "[mfb1KO]: 100.0%\n",
      "[mmm1KO]: 100.0%\n",
      "[mmr1KO]: 74.29%\n",
      "[num1KO]: 5.714%\n",
      "    2      0.465953   0.581072   0.72      \n",
      "EPOCH 3 ---------------------------------------- STEP 57                                                                                                                                                             \n",
      "mean: [18.08333 18.16667 25.25    26.75     9.41667]\n",
      "stdev: [6.23777 4.66964 4.798   4.3229  4.00954]\n",
      "\n",
      "[WT]: 88.57%\n",
      "[mfb1KO]: 100.0%\n",
      "[mmm1KO]: 100.0%\n",
      "[mmr1KO]: 71.43%\n",
      "[num1KO]: 37.14%\n",
      "WARNING: there is already a saved model at this path\n",
      "input an addition to the save path or leave blank to abort\n",
      "prompt: 1\n",
      "    3      0.46222    0.517651   0.794286  \n",
      "EPOCH 4 ---------------------------------------- STEP 58                                                                                                                                                             \n",
      "mean: [18.08333 18.08333 25.41667 26.66667  9.33333]\n",
      "stdev: [5.45372 3.54632 6.15709 4.18994 2.86744]\n",
      "\n",
      "[WT]: 82.86%\n",
      "[mfb1KO]: 100.0%\n",
      "[mmm1KO]: 100.0%\n",
      "[mmr1KO]: 74.29%\n",
      "[num1KO]: 25.71%\n",
      "    4      0.462281   0.540056   0.765714  \n",
      "EPOCH 5 ---------------------------------------- STEP 59                                                                                                                                                             \n",
      "mean: [17.91667 17.91667 25.41667 26.66667  9.5    ]\n",
      "stdev: [4.46203 4.94062 6.68903 6.59966 2.32737]\n",
      "\n",
      "[WT]: 80.0%\n",
      "[mfb1KO]: 100.0%\n",
      "[mmm1KO]: 100.0%\n",
      "[mmr1KO]: 74.29%\n",
      "[num1KO]: 31.43%\n",
      "    5      0.464939   0.555867   0.771429  \n",
      "EPOCH 6 ---------------------------------------- STEP 60                                                                                                                                                             \n",
      "mean: [18.08333 18.      25.58333 26.66667  9.16667]\n",
      "stdev: [7.15843 4.79583 6.62644 3.74907 2.5766 ]\n",
      "\n",
      "[WT]: 85.71%\n",
      "[mfb1KO]: 100.0%\n",
      "[mmm1KO]: 100.0%\n",
      "[mmr1KO]: 74.29%\n",
      "[num1KO]: 14.29%\n",
      "    6      0.464152   0.562312   0.748571  \n",
      "EPOCH 7 ---------------------------------------- STEP 61                                                                                                                                                             \n",
      "mean: [18.33333 18.08333 25.33333 26.5      9.33333]\n",
      "stdev: [5.42115 5.29872 5.31246 5.10718 3.03681]\n",
      "\n",
      "[WT]: 82.86%\n",
      "[mfb1KO]: 100.0%\n",
      "[mmm1KO]: 100.0%\n",
      "[mmr1KO]: 74.29%\n",
      "[num1KO]: 17.14%\n",
      "    7      0.465453   0.562367   0.748571  \n",
      "EPOCH 8 ---------------------------------------- STEP 62                                                                                                                                                             \n",
      "mean: [17.91667 18.16667 25.58333 26.83333  9.41667]\n",
      "stdev: [6.34374 5.35153 6.11635 6.51707 4.07141]\n",
      "\n",
      "[WT]: 91.43%\n",
      "[mfb1KO]: 100.0%\n",
      "[mmm1KO]: 100.0%\n",
      "[mmr1KO]: 60.0%\n",
      "[num1KO]: 28.57%\n",
      "    8      0.469319   0.529607   0.76      \n",
      "EPOCH 9 ---------------------------------------- STEP 63                                                                                                                                                             \n",
      "mean: [18.16667 18.08333 25.33333 26.66667  9.25   ]\n",
      "stdev: [4.11974 4.85555 5.72033 7.67391 2.31391]\n",
      "\n",
      "[WT]: 82.86%\n",
      "[mfb1KO]: 100.0%\n",
      "[mmm1KO]: 100.0%\n",
      "[mmr1KO]: 77.14%\n",
      "[num1KO]: 22.86%\n",
      "    9      0.474336   0.590164   0.765714  \n",
      "EPOCH 10 ---------------------------------------- STEP 64                                                                                                                                                            \n",
      "mean: [17.91667 18.16667 25.33333 26.75     9.5    ]\n",
      "stdev: [3.27766 3.99653 4.47834 6.0156  4.272  ]\n",
      "\n",
      "[WT]: 74.29%\n",
      "[mfb1KO]: 100.0%\n",
      "[mmm1KO]: 100.0%\n",
      "[mmr1KO]: 74.29%\n",
      "[num1KO]: 25.71%\n",
      "    10     0.466651   0.608138   0.748571  \n",
      "EPOCH 11 ---------------------------------------- STEP 65                                                                                                                                                            \n",
      "mean: [18.      18.      25.5     26.83333  9.33333]\n",
      "stdev: [4.10284 4.      4.11299 5.55028 2.98142]\n",
      "\n",
      "[WT]: 82.86%\n",
      "[mfb1KO]: 100.0%\n",
      "[mmm1KO]: 100.0%\n",
      "[mmr1KO]: 74.29%\n",
      "[num1KO]: 31.43%\n",
      "    11     0.464429   0.53178    0.777143  \n",
      "EPOCH 12 ---------------------------------------- STEP 66                                                                                                                                                            \n",
      "mean: [18.25    18.      25.33333 26.75     9.41667]\n",
      "stdev: [5.52457 3.95811 2.74874 6.88144 4.42452]\n",
      "\n",
      "[WT]: 62.86%\n",
      "[mfb1KO]: 100.0%\n",
      "[mmm1KO]: 100.0%\n",
      "[mmr1KO]: 77.14%\n",
      "[num1KO]: 11.43%\n",
      "    12     0.46231    0.681241   0.702857  \n",
      "EPOCH 13 ---------------------------------------- STEP 67                                                                                                                                                            \n",
      "mean: [18.25    18.08333 25.33333 26.91667  9.25   ]\n",
      "stdev: [4.36129 4.42452 5.26519 4.29066 2.41954]\n",
      "\n",
      "[WT]: 54.29%\n",
      "[mfb1KO]: 91.43%\n",
      "[mmm1KO]: 100.0%\n",
      "[mmr1KO]: 82.86%\n",
      "[num1KO]: 37.14%\n",
      "    13     0.465053   0.849738   0.731429  \n",
      "EPOCH 14 ---------------------------------------- STEP 68                                                                                                                                                            \n",
      "mean: [18.08333 18.16667 25.25    26.66667  9.5    ]\n",
      "stdev: [5.07376 3.73794 5.53963 4.83621 3.61709]\n",
      "\n",
      "[WT]: 88.57%\n",
      "[mfb1KO]: 100.0%\n",
      "[mmm1KO]: 100.0%\n",
      "[mmr1KO]: 77.14%\n",
      "[num1KO]: 45.71%\n",
      "WARNING: there is already a saved model at this path\n",
      "input an addition to the save path or leave blank to abort\n",
      "prompt: 2\n",
      "    14     0.46736    0.561473   0.822857  \n",
      "EPOCH 15 ---------------------------------------- STEP 69                                                                                                                                                            \n",
      "mean: [18.08333 17.91667 25.5     26.83333  9.5    ]\n",
      "stdev: [4.23199 5.26717 5.54527 5.7999  3.45205]\n",
      "\n",
      "[WT]: 82.86%\n",
      "[mfb1KO]: 100.0%\n",
      "[mmm1KO]: 100.0%\n",
      "[mmr1KO]: 74.29%\n",
      "[num1KO]: 8.571%\n",
      "    15     0.461123   0.579369   0.731429  \n",
      "EPOCH 16 ---------------------------------------- STEP 70                                                                                                                                                            \n",
      "mean: [18.25    17.91667 25.16667 26.75     9.58333]\n",
      "stdev: [5.6734  2.95687 7.946   4.34214 4.57271]\n",
      "\n",
      "[WT]: 82.86%\n",
      "[mfb1KO]: 100.0%\n",
      "[mmm1KO]: 100.0%\n",
      "[mmr1KO]: 74.29%\n",
      "[num1KO]: 20.0%\n",
      "    16     0.46813    0.544955   0.754286  \n",
      "EPOCH 17 ---------------------------------------- STEP 71                                                                                                                                                            \n",
      "mean: [18.33333 18.      25.41667 26.41667  9.33333]\n",
      "stdev: [6.20931 3.74166 4.90677 6.22439 3.22318]\n",
      "\n",
      "[WT]: 68.57%\n",
      "[mfb1KO]: 100.0%\n",
      "[mmm1KO]: 100.0%\n",
      "[mmr1KO]: 77.14%\n"
     ]
    },
    {
     "name": "stdout",
     "output_type": "stream",
     "text": [
      "[num1KO]: 25.71%\n",
      "    17     0.46562    0.576861   0.742857  \n",
      "EPOCH 18 ---------------------------------------- STEP 72                                                                                                                                                            \n",
      "mean: [18.08333 17.83333 25.5     26.91667  9.25   ]\n",
      "stdev: [3.61613 4.25898 5.51513 3.66193 3.96074]\n",
      "\n",
      "[WT]: 88.57%\n",
      "[mfb1KO]: 100.0%\n",
      "[mmm1KO]: 100.0%\n",
      "[mmr1KO]: 71.43%\n",
      "[num1KO]: 14.29%\n",
      "    18     0.464809   0.533566   0.748571  \n",
      "EPOCH 19 ---------------------------------------- STEP 73                                                                                                                                                            \n",
      "mean: [18.16667 18.08333 25.5     26.66667  9.41667]\n",
      "stdev: [5.44416 3.83967 5.13971 5.80708 3.30299]\n",
      "\n",
      "[WT]: 88.57%\n",
      "[mfb1KO]: 100.0%\n",
      "[mmm1KO]: 100.0%\n",
      "[mmr1KO]: 77.14%\n",
      "[num1KO]: 37.14%\n",
      "    19     0.466224   0.504643   0.805714  \n",
      "EPOCH 20 ---------------------------------------- STEP 74                                                                                                                                                            \n",
      "mean: [17.91667 18.      25.41667 26.75     9.41667]\n",
      "stdev: [4.64504 4.22295 4.92372 5.68807 2.53174]\n",
      "\n",
      "[WT]: 80.0%\n",
      "[mfb1KO]: 100.0%\n",
      "[mmm1KO]: 100.0%\n",
      "[mmr1KO]: 71.43%\n",
      "[num1KO]: 25.71%\n",
      "    20     0.460855   0.539513   0.754286  \n",
      "EPOCH 21 ---------------------------------------- STEP 75                                                                                                                                                            \n",
      "mean: [18.      17.91667 25.5     26.5      9.16667]\n",
      "stdev: [5.50757 4.46203 4.82183 6.07591 5.6838 ]\n",
      "\n",
      "[WT]: 82.86%\n",
      "[mfb1KO]: 97.14%\n",
      "[mmm1KO]: 100.0%\n",
      "[mmr1KO]: 77.14%\n",
      "[num1KO]: 8.571%\n",
      "    21     0.4569     0.565281   0.731429  \n",
      "EPOCH 22 ---------------------------------------- STEP 76                                                                                                                                                            \n",
      "mean: [18.      17.91667 25.66667 26.83333  9.25   ]\n",
      "stdev: [5.98609 3.90424 4.58863 6.46572 3.74444]\n",
      "\n",
      "[WT]: 82.86%\n",
      "[mfb1KO]: 100.0%\n",
      "[mmm1KO]: 97.14%\n",
      "[mmr1KO]: 71.43%\n",
      "[num1KO]: 25.71%\n",
      "    22     0.450466   0.556988   0.754286  \n",
      "EPOCH 23 ---------------------------------------- STEP 77                                                                                                                                                            \n",
      "mean: [18.      18.16667 25.33333 26.83333  9.5    ]\n",
      "stdev: [4.3589  3.80424 5.70575 4.3748  3.59398]\n",
      "\n",
      "[WT]: 85.71%\n",
      "[mfb1KO]: 100.0%\n",
      "[mmm1KO]: 100.0%\n",
      "[mmr1KO]: 74.29%\n",
      "[num1KO]: 28.57%\n",
      "    23     0.448242   0.518542   0.777143  \n",
      "EPOCH 24 ---------------------------------------- STEP 78                                                                                                                                                            \n",
      "mean: [17.83333 18.33333 25.16667 26.75     9.5    ]\n",
      "stdev: [3.89087 6.2361  5.74214 4.60299 4.33013]\n",
      "\n",
      "[WT]: 85.71%\n",
      "[mfb1KO]: 97.14%\n",
      "[mmm1KO]: 100.0%\n",
      "[mmr1KO]: 77.14%\n",
      "[num1KO]: 45.71%\n",
      "    24     0.451185   0.509937   0.811429  \n",
      "EPOCH 25 ---------------------------------------- STEP 79                                                                                                                                                            \n",
      "mean: [17.83333 18.16667 25.25    26.83333  9.41667]\n",
      "stdev: [4.77552 6.4786  3.67707 5.84285 4.42452]\n",
      "\n",
      "[WT]: 85.71%\n",
      "[mfb1KO]: 100.0%\n",
      "[mmm1KO]: 100.0%\n",
      "[mmr1KO]: 77.14%\n",
      "[num1KO]: 40.0%\n",
      "    25     0.442275   0.495427   0.805714  \n",
      "EPOCH 26 ---------------------------------------- STEP 80                                                                                                                                                            \n",
      "mean: [18.08333 17.75    25.5     26.75     9.41667]\n",
      "stdev: [3.22641 5.0847  3.88373 4.39934 3.83967]\n",
      "\n",
      "[WT]: 77.14%\n",
      "[mfb1KO]: 100.0%\n",
      "[mmm1KO]: 100.0%\n",
      "[mmr1KO]: 74.29%\n",
      "[num1KO]: 17.14%\n",
      "    26     0.445091   0.568858   0.737143  \n",
      "EPOCH 27 ---------------------------------------- STEP 81                                                                                                                                                            \n",
      "mean: [18.      18.25    25.58333 26.5      9.33333]\n",
      "stdev: [6.      5.73186 5.26717 6.8252  3.56682]\n",
      "\n",
      "[WT]: 85.71%\n",
      "[mfb1KO]: 100.0%\n",
      "[mmm1KO]: 100.0%\n",
      "[mmr1KO]: 82.86%\n",
      "[num1KO]: 20.0%\n",
      "    27     0.443077   0.532974   0.777143  \n",
      "EPOCH 28 ---------------------------------------- STEP 82                                                                                                                                                            \n",
      "mean: [18.08333 18.08333 25.58333 26.58333  9.5    ]\n",
      "stdev: [5.64887 5.26717 3.774   4.46203 4.90748]\n",
      "\n",
      "[WT]: 71.43%\n",
      "[mfb1KO]: 94.29%\n",
      "[mmm1KO]: 100.0%\n",
      "[mmr1KO]: 80.0%\n",
      "[num1KO]: 51.43%\n",
      "    28     0.445996   0.55873    0.794286  \n",
      "EPOCH 29 ---------------------------------------- STEP 83                                                                                                                                                            \n",
      "mean: [17.91667 18.      25.33333 26.75     9.41667]\n",
      "stdev: [6.40909 3.24037 6.01849 5.35607 4.13236]\n",
      "\n",
      "[WT]: 88.57%\n",
      "[mfb1KO]: 100.0%\n",
      "[mmm1KO]: 100.0%\n",
      "[mmr1KO]: 68.57%\n",
      "[num1KO]: 40.0%\n",
      "    29     0.450116   0.49173    0.794286  \n",
      "EPOCH 30 ---------------------------------------- STEP 84                                                                                                                                                            \n",
      "mean: [17.91667 17.83333 25.75    26.75     9.5    ]\n",
      "stdev: [6.73867 3.64768 7.90701 5.06828 2.92973]\n",
      "\n",
      "[WT]: 85.71%\n",
      "[mfb1KO]: 71.43%\n",
      "[mmm1KO]: 91.43%\n",
      "[mmr1KO]: 80.0%\n",
      "[num1KO]: 17.14%\n",
      "    30     0.448444   0.669305   0.691429  \n",
      "EPOCH 31 ---------------------------------------- STEP 85                                                                                                                                                            \n",
      "mean: [18.      17.91667 25.25    27.       9.33333]\n",
      "stdev: [5.04975 2.56445 4.28418 5.55278 3.34996]\n",
      "\n",
      "[WT]: 91.43%\n",
      "[mfb1KO]: 100.0%\n",
      "[mmm1KO]: 100.0%\n",
      "[mmr1KO]: 62.86%\n",
      "[num1KO]: 31.43%\n",
      "    31     0.451315   0.526868   0.771429  \n",
      "EPOCH 32 ---------------------------------------- STEP 86                                                                                                                                                            \n",
      "mean: [18.16667 18.08333 25.25    26.66667  9.33333]\n",
      "stdev: [4.61579 5.69295 4.83261 7.24952 2.89636]\n",
      "\n",
      "[WT]: 71.43%\n",
      "[mfb1KO]: 100.0%\n",
      "[mmm1KO]: 100.0%\n",
      "[mmr1KO]: 77.14%\n",
      "[num1KO]: 28.57%\n",
      "    32     0.448949   0.572295   0.754286  \n",
      "EPOCH 33 ---------------------------------------- STEP 87                                                                                                                                                            \n",
      "mean: [18.      18.      25.41667 26.83333  9.25   ]\n",
      "stdev: [3.48807 5.14782 4.97424 8.05019 3.53848]\n",
      "\n",
      "[WT]: 88.57%\n",
      "[mfb1KO]: 100.0%\n",
      "[mmm1KO]: 100.0%\n",
      "[mmr1KO]: 74.29%\n",
      "[num1KO]: 17.14%\n",
      "    33     0.445228   0.51806    0.76      \n",
      "EPOCH 34 ---------------------------------------- STEP 88                                                                                                                                                            \n",
      "mean: [18.08333 18.16667 25.41667 26.83333  9.25   ]\n",
      "stdev: [5.6341  4.23937 7.11171 6.59335 2.38485]\n",
      "\n",
      "[WT]: 88.57%\n",
      "[mfb1KO]: 97.14%\n",
      "[mmm1KO]: 100.0%\n",
      "[mmr1KO]: 71.43%\n",
      "[num1KO]: 28.57%\n",
      "    34     0.448247   0.52211    0.771429  \n",
      "EPOCH 35 ---------------------------------------- STEP 89                                                                                                                                                            \n",
      "mean: [18.08333 18.16667 25.08333 27.16667  9.33333]\n",
      "stdev: [5.40768 4.94694 5.96459 7.64671 5.15321]\n",
      "\n",
      "[WT]: 88.57%\n",
      "[mfb1KO]: 100.0%\n",
      "[mmm1KO]: 100.0%\n",
      "[mmr1KO]: 74.29%\n",
      "[num1KO]: 51.43%\n",
      "WARNING: there is already a saved model at this path\n",
      "input an addition to the save path or leave blank to abort\n",
      "prompt: 4\n",
      "    35     0.452763   0.499191   0.828571  \n"
     ]
    },
    {
     "name": "stdout",
     "output_type": "stream",
     "text": [
      "EPOCH 36 ---------------------------------------- STEP 90                                                                                                                                                            \n",
      "mean: [18.16667 18.      25.25    26.75     9.41667]\n",
      "stdev: [4.74049 4.52769 5.29347 4.63906 4.48067]\n",
      "\n",
      "[WT]: 91.43%\n",
      "[mfb1KO]: 100.0%\n",
      "[mmm1KO]: 100.0%\n",
      "[mmr1KO]: 74.29%\n",
      "[num1KO]: 22.86%\n",
      "    36     0.449272   0.563359   0.777143  \n",
      "EPOCH 37 ---------------------------------------- STEP 91                                                                                                                                                            \n",
      "mean: [17.91667 17.91667 25.41667 26.58333  9.58333]\n",
      "stdev: [5.26717 4.36765 5.90844 4.78641 3.59301]\n",
      "\n",
      "[WT]: 85.71%\n",
      "[mfb1KO]: 100.0%\n",
      "[mmm1KO]: 100.0%\n",
      "[mmr1KO]: 77.14%\n",
      "[num1KO]: 31.43%\n",
      "    37     0.446733   0.506123   0.788571  \n",
      "EPOCH 38 ---------------------------------------- STEP 92                                                                                                                                                            \n",
      "mean: [18.16667 18.08333 25.25    26.75     9.41667]\n",
      "stdev: [4.66964 5.6783  6.24667 5.6587  3.35307]\n",
      "\n",
      "[WT]: 65.71%\n",
      "[mfb1KO]: 100.0%\n",
      "[mmm1KO]: 100.0%\n",
      "[mmr1KO]: 77.14%\n",
      "[num1KO]: 20.0%\n",
      "    38     0.444643   0.659464   0.725714  \n",
      "EPOCH 39 ---------------------------------------- STEP 93                                                                                                                                                            \n",
      "mean: [18.08333 18.      25.33333 26.58333  9.5    ]\n",
      "stdev: [4.55445 3.69685 6.35523 4.57271 3.66288]\n",
      "\n",
      "[WT]: 82.86%\n",
      "[mfb1KO]: 100.0%\n",
      "[mmm1KO]: 100.0%\n",
      "[mmr1KO]: 74.29%\n",
      "[num1KO]: 28.57%\n",
      "    39     0.440232   0.534376   0.771429  \n",
      "EPOCH 40 ---------------------------------------- STEP 94                                                                                                                                                            \n",
      "mean: [18.      18.16667 25.25    26.83333  9.33333]\n",
      "stdev: [5.47723 4.03801 4.60299 5.3203  2.74874]\n",
      "\n",
      "[WT]: 82.86%\n",
      "[mfb1KO]: 100.0%\n",
      "[mmm1KO]: 100.0%\n",
      "[mmr1KO]: 71.43%\n",
      "[num1KO]: 37.14%\n",
      "    40     0.438159   0.497259   0.782857  \n",
      "EPOCH 41 ---------------------------------------- STEP 95                                                                                                                                                            \n",
      "mean: [18.08333 18.16667 25.08333 26.83333  9.58333]\n",
      "stdev: [3.774   4.0586  6.11635 5.17741 5.52959]\n",
      "\n",
      "[WT]: 71.43%\n",
      "[mfb1KO]: 100.0%\n",
      "[mmm1KO]: 100.0%\n",
      "[mmr1KO]: 80.0%\n",
      "[num1KO]: 31.43%\n",
      "    41     0.43951    0.686827   0.765714  \n",
      "EPOCH 42 ---------------------------------------- STEP 96                                                                                                                                                            \n",
      "mean: [17.83333 17.91667 25.5     26.58333  9.41667]\n",
      "stdev: [3.36237 4.23199 5.76628 6.03405 3.06753]\n",
      "\n",
      "[WT]: 88.57%\n",
      "[mfb1KO]: 97.14%\n",
      "[mmm1KO]: 100.0%\n",
      "[mmr1KO]: 80.0%\n",
      "[num1KO]: 22.86%\n",
      "    42     0.438238   0.521417   0.777143  \n",
      "EPOCH 43 ---------------------------------------- STEP 97                                                                                                                                                            \n",
      "mean: [17.91667 18.08333 25.41667 26.75     9.33333]\n",
      "stdev: [4.57271 3.96775 2.46503 7.71497 4.02768]\n",
      "\n",
      "[WT]: 88.57%\n",
      "[mfb1KO]: 94.29%\n",
      "[mmm1KO]: 100.0%\n",
      "[mmr1KO]: 74.29%\n",
      "[num1KO]: 34.29%\n",
      "    43     0.436755   0.52465    0.782857  \n",
      "EPOCH 44 ---------------------------------------- STEP 98                                                                                                                                                            \n",
      "mean: [18.25    17.91667 25.5     26.66667  9.33333]\n",
      "stdev: [7.56224 3.94669 4.23281 6.45927 4.73169]\n",
      "\n",
      "[WT]: 71.43%\n",
      "[mfb1KO]: 100.0%\n",
      "[mmm1KO]: 100.0%\n",
      "[mmr1KO]: 74.29%\n",
      "[num1KO]: 37.14%\n",
      "    44     0.43886    0.539039   0.765714  \n",
      "EPOCH 45 ---------------------------------------- STEP 99                                                                                                                                                            \n",
      "mean: [18.      17.91667 25.66667 26.58333  9.25   ]\n",
      "stdev: [3.91578 4.85555 5.7494  6.80022 3.36959]\n",
      "\n",
      "[WT]: 77.14%\n",
      "[mfb1KO]: 100.0%\n",
      "[mmm1KO]: 100.0%\n",
      "[mmr1KO]: 74.29%\n",
      "[num1KO]: 11.43%\n",
      "    45     0.436888   0.615774   0.725714  \n",
      "EPOCH 46 ---------------------------------------- STEP 100                                                                                                                                                           \n",
      "mean: [17.91667 18.      25.58333 26.75     9.41667]\n",
      "stdev: [4.27119 4.67262 5.37678 5.74638 3.25214]\n",
      "\n",
      "[WT]: 85.71%\n",
      "[mfb1KO]: 100.0%\n",
      "[mmm1KO]: 100.0%\n",
      "[mmr1KO]: 74.29%\n",
      "[num1KO]: 17.14%\n",
      "    46     0.432837   0.547456   0.754286  \n",
      "EPOCH 47 ---------------------------------------- STEP 101                                                                                                                                                           \n",
      "mean: [18.25    18.33333 25.16667 26.41667  9.33333]\n",
      "stdev: [6.54631 5.00555 6.26941 7.65352 4.57044]\n",
      "\n",
      "[WT]: 71.43%\n",
      "[mfb1KO]: 100.0%\n",
      "[mmm1KO]: 100.0%\n",
      "[mmr1KO]: 80.0%\n",
      "[num1KO]: 14.29%\n",
      "    47     0.438087   0.665327   0.731429  \n",
      "EPOCH 48 ---------------------------------------- STEP 102                                                                                                                                                           \n",
      "mean: [18.      18.08333 25.41667 26.83333  9.33333]\n",
      "stdev: [4.54606 4.1725  4.53612 4.75803 2.52763]\n",
      "\n",
      "[WT]: 94.29%\n",
      "[mfb1KO]: 100.0%\n",
      "[mmm1KO]: 100.0%\n",
      "[mmr1KO]: 71.43%\n",
      "[num1KO]: 31.43%\n",
      "    48     0.440164   0.514561   0.794286  \n",
      "EPOCH 49 ---------------------------------------- STEP 103                                                                                                                                                           \n",
      "mean: [18.      18.08333 25.58333 26.58333  9.41667]\n",
      "stdev: [5.90198 3.774   4.87268 8.33125 2.32588]\n",
      "\n",
      "[WT]: 85.71%\n",
      "[mfb1KO]: 100.0%\n",
      "[mmm1KO]: 100.0%\n",
      "[mmr1KO]: 77.14%\n",
      "[num1KO]: 17.14%\n",
      "    49     0.441398   0.529378   0.76      \n",
      "EPOCH 50 ---------------------------------------- STEP 104                                                                                                                                                           \n",
      "mean: [17.91667 18.08333 25.25    27.       9.41667]\n",
      "stdev: [4.1725  5.7367  5.26189 5.87367 2.8419 ]\n",
      "\n",
      "[WT]: 68.57%\n",
      "[mfb1KO]: 100.0%\n",
      "[mmm1KO]: 100.0%\n",
      "[mmr1KO]: 77.14%\n",
      "[num1KO]: 40.0%\n",
      "    50     0.438023   0.609742   0.771429  \n",
      "EPOCH 51 ---------------------------------------- STEP 105                                                                                                                                                           \n",
      "mean: [18.16667 17.83333 25.58333 26.66667  9.41667]\n",
      "stdev: [2.88194 5.69844 3.66193 5.35931 4.05089]\n",
      "\n",
      "[WT]: 82.86%\n",
      "[mfb1KO]: 100.0%\n",
      "[mmm1KO]: 100.0%\n",
      "[mmr1KO]: 74.29%\n",
      "[num1KO]: 25.71%\n",
      "    51     0.438493   0.530408   0.765714  \n",
      "EPOCH 52 ---------------------------------------- STEP 106                                                                                                                                                           \n",
      "mean: [18.08333 18.      25.33333 26.66667  9.41667]\n",
      "stdev: [5.70757 5.2915  6.69992 7.1686  4.1725 ]\n",
      "\n",
      "[WT]: 77.14%\n",
      "[mfb1KO]: 100.0%\n",
      "[mmm1KO]: 100.0%\n",
      "[mmr1KO]: 77.14%\n",
      "[num1KO]: 28.57%\n",
      "    52     0.434442   0.555842   0.765714  \n",
      "EPOCH 53 ---------------------------------------- STEP 107                                                                                                                                                           \n",
      "mean: [17.83333 18.      25.41667 26.75     9.5    ]\n",
      "stdev: [4.15999 4.14327 5.02425 4.34214 3.96863]\n",
      "\n",
      "[WT]: 80.0%\n",
      "[mfb1KO]: 100.0%\n",
      "[mmm1KO]: 100.0%\n",
      "[mmr1KO]: 80.0%\n",
      "[num1KO]: 31.43%\n",
      "    53     0.427764   0.524753   0.782857  \n",
      "EPOCH 54 ---------------------------------------- STEP 108                                                                                                                                                           \n",
      "mean: [18.33333 18.08333 25.33333 26.58333  9.5    ]\n",
      "stdev: [4.88763 3.45105 3.81517 4.66294 3.75278]\n"
     ]
    },
    {
     "name": "stdout",
     "output_type": "stream",
     "text": [
      "\n",
      "[WT]: 82.86%\n",
      "[mfb1KO]: 100.0%\n",
      "[mmm1KO]: 100.0%\n",
      "[mmr1KO]: 74.29%\n",
      "[num1KO]: 28.57%\n",
      "    54     0.425714   0.509787   0.771429  \n",
      "EPOCH 55 ---------------------------------------- STEP 109                                                                                                                                                           \n",
      "mean: [18.16667 17.83333 25.41667 26.83333  9.5    ]\n",
      "stdev: [3.48409 6.45282 4.85555 4.543   4.38748]\n",
      "\n",
      "[WT]: 82.86%\n",
      "[mfb1KO]: 100.0%\n",
      "[mmm1KO]: 100.0%\n",
      "[mmr1KO]: 74.29%\n",
      "[num1KO]: 20.0%\n",
      "    55     0.423446   0.544216   0.754286  \n",
      "EPOCH 56 ---------------------------------------- STEP 110                                                                                                                                                           \n",
      "mean: [18.      18.16667 25.25    26.75     9.41667]\n",
      "stdev: [4.56435 5.94185 6.60965 6.91767 3.9887 ]\n",
      "\n",
      "[WT]: 91.43%\n",
      "[mfb1KO]: 100.0%\n",
      "[mmm1KO]: 100.0%\n",
      "[mmr1KO]: 68.57%\n",
      "[num1KO]: 40.0%\n",
      "    56     0.423817   0.488602   0.8       \n",
      "EPOCH 57 ---------------------------------------- STEP 111                                                                                                                                                           \n",
      "mean: [18.25    18.      25.33333 26.75     9.41667]\n",
      "stdev: [4.08503 3.24037 4.71405 4.96865 3.32812]\n",
      "\n",
      "[WT]: 80.0%\n",
      "[mfb1KO]: 100.0%\n",
      "[mmm1KO]: 100.0%\n",
      "[mmr1KO]: 80.0%\n",
      "[num1KO]: 25.71%\n",
      "    57     0.421432   0.644359   0.771429  \n",
      "EPOCH 58 ---------------------------------------- STEP 112                                                                                                                                                           \n",
      "mean: [18.25    18.08333 25.66667 26.41667  9.41667]\n",
      "stdev: [5.03529 4.00954 5.67646 6.99355 3.54632]\n",
      "\n",
      "[WT]: 74.29%\n",
      "[mfb1KO]: 100.0%\n",
      "[mmm1KO]: 100.0%\n",
      "[mmr1KO]: 77.14%\n",
      "[num1KO]: 20.0%\n",
      "    58     0.418145   0.61078    0.742857  \n",
      "EPOCH 59 ---------------------------------------- STEP 113                                                                                                                                                           \n",
      "mean: [18.   18.   25.5  26.75  9.25]\n",
      "stdev: [6.0553  6.36396 6.00694 5.84701 2.58602]\n",
      "\n",
      "[WT]: 82.86%\n",
      "[mfb1KO]: 100.0%\n",
      "[mmm1KO]: 100.0%\n",
      "[mmr1KO]: 74.29%\n",
      "[num1KO]: 28.57%\n",
      "    59     0.418195   0.525161   0.771429  \n",
      "EPOCH 60 ---------------------------------------- STEP 114                                                                                                                                                           \n",
      "mean: [17.91667 18.16667 25.33333 26.66667  9.41667]\n",
      "stdev: [5.07376 3.5316  5.69112 5.03874 3.17433]\n",
      "\n",
      "[WT]: 88.57%\n",
      "[mfb1KO]: 100.0%\n",
      "[mmm1KO]: 100.0%\n",
      "[mmr1KO]: 74.29%\n",
      "[num1KO]: 34.29%\n",
      "    60     0.414612   0.50548    0.794286  \n",
      "EPOCH 61 ---------------------------------------- STEP 115                                                                                                                                                           \n",
      "mean: [18.08333 18.16667 25.5     26.66667  9.5    ]\n",
      "stdev: [4.71625 6.42694 5.34634 6.101   3.17543]\n",
      "\n",
      "[WT]: 82.86%\n",
      "[mfb1KO]: 100.0%\n",
      "[mmm1KO]: 100.0%\n",
      "[mmr1KO]: 74.29%\n",
      "[num1KO]: 22.86%\n",
      "    61     0.414399   0.554511   0.76      \n",
      "EPOCH 62 ---------------------------------------- STEP 116                                                                                                                                                           \n",
      "mean: [18.08333 17.91667 25.41667 26.58333  9.25   ]\n",
      "stdev: [4.66294 4.73389 5.02425 7.33097 3.24358]\n",
      "\n",
      "[WT]: 82.86%\n",
      "[mfb1KO]: 100.0%\n",
      "[mmm1KO]: 100.0%\n",
      "[mmr1KO]: 74.29%\n",
      "[num1KO]: 22.86%\n",
      "    62     0.413953   0.522838   0.76      \n",
      "EPOCH 63 ---------------------------------------- STEP 117                                                                                                                                                           \n",
      "mean: [18.25    17.91667 25.41667 26.58333  9.25   ]\n",
      "stdev: [6.63482 4.05089 6.56326 5.28297 2.31391]\n",
      "\n",
      "[WT]: 85.71%\n",
      "[mfb1KO]: 100.0%\n",
      "[mmm1KO]: 100.0%\n",
      "[mmr1KO]: 77.14%\n",
      "[num1KO]: 31.43%\n",
      "    63     0.416404   0.491791   0.788571  \n",
      "EPOCH 64 ---------------------------------------- STEP 118                                                                                                                                                           \n",
      "mean: [18.   18.25 25.25 26.75  9.25]\n",
      "stdev: [3.97911 3.56195 4.91808 5.53963 3.34477]\n",
      "\n",
      "[WT]: 82.86%\n",
      "[mfb1KO]: 100.0%\n",
      "[mmm1KO]: 100.0%\n",
      "[mmr1KO]: 80.0%\n",
      "[num1KO]: 48.57%\n",
      "    64     0.413357   0.48256    0.822857  \n",
      "EPOCH 65 ---------------------------------------- STEP 119                                                                                                                                                           \n",
      "mean: [18.16667 18.      25.33333 26.58333  9.58333]\n",
      "stdev: [3.28718 3.08221 4.83621 6.02022 4.25163]\n",
      "\n",
      "[WT]: 82.86%\n",
      "[mfb1KO]: 100.0%\n",
      "[mmm1KO]: 100.0%\n",
      "[mmr1KO]: 74.29%\n",
      "[num1KO]: 22.86%\n",
      "    65     0.416656   0.526616   0.76      \n",
      "EPOCH 66 ---------------------------------------- STEP 120                                                                                                                                                           \n",
      "mean: [18.08333 18.16667 25.33333 26.83333  9.5    ]\n",
      "stdev: [4.87268 3.31243 2.39212 5.85709 4.272  ]\n",
      "\n",
      "[WT]: 82.86%\n",
      "[mfb1KO]: 100.0%\n",
      "[mmm1KO]: 100.0%\n",
      "[mmr1KO]: 77.14%\n",
      "[num1KO]: 51.43%\n",
      "    66     0.414533   0.470881   0.822857  \n",
      "EPOCH 67 ---------------------------------------- STEP 121                                                                                                                                                           \n",
      "mean: [18.25    18.08333 25.16667 26.66667  9.41667]\n",
      "stdev: [5.00208 4.07141 6.25611 4.32692 3.20048]\n",
      "\n",
      "[WT]: 42.86%\n",
      "[mfb1KO]: 68.57%\n",
      "[mmm1KO]: 100.0%\n",
      "[mmr1KO]: 80.0%\n",
      "[num1KO]: 48.57%\n",
      "    67     0.420702   1.060428   0.68      \n",
      "EPOCH 68 ---------------------------------------- STEP 122                                                                                                                                                           \n",
      "mean: [18.16667 18.08333 25.33333 26.75     9.5    ]\n",
      "stdev: [3.89087 5.55965 6.71234 4.2451  2.69258]\n",
      "\n",
      "[WT]: 82.86%\n",
      "[mfb1KO]: 100.0%\n",
      "[mmm1KO]: 100.0%\n",
      "[mmr1KO]: 77.14%\n",
      "[num1KO]: 45.71%\n",
      "    68     0.420753   0.560029   0.811429  \n",
      "EPOCH 69 ---------------------------------------- STEP 123                                                                                                                                                           \n",
      "mean: [17.91667 18.      25.41667 26.83333  9.33333]\n",
      "stdev: [3.9887  4.86484 6.63901 6.05301 3.72678]\n",
      "\n",
      "[WT]: 77.14%\n",
      "[mfb1KO]: 100.0%\n",
      "[mmm1KO]: 100.0%\n",
      "[mmr1KO]: 74.29%\n",
      "[num1KO]: 22.86%\n",
      "    69     0.427581   0.572651   0.748571  \n",
      "EPOCH 70 ---------------------------------------- STEP 124                                                                                                                                                           \n",
      "mean: [18.33333 18.08333 25.25    26.41667  9.5    ]\n",
      "stdev: [4.74927 5.09016 4.14578 5.17137 2.62996]\n",
      "\n",
      "[WT]: 82.86%\n",
      "[mfb1KO]: 100.0%\n",
      "[mmm1KO]: 100.0%\n",
      "[mmr1KO]: 80.0%\n",
      "[num1KO]: 25.71%\n",
      "    70     0.423041   0.532171   0.777143  \n",
      "EPOCH 71 ---------------------------------------- STEP 125                                                                                                                                                           \n",
      "mean: [18.08333 17.83333 25.16667 26.83333  9.41667]\n",
      "stdev: [6.81247 6.49145 6.06676 7.63581 3.27766]\n",
      "\n",
      "[WT]: 85.71%\n",
      "[mfb1KO]: 100.0%\n",
      "[mmm1KO]: 100.0%\n",
      "[mmr1KO]: 71.43%\n",
      "[num1KO]: 31.43%\n",
      "    71     0.421578   0.519928   0.777143  \n",
      "EPOCH 72 ---------------------------------------- STEP 126                                                                                                                                                           \n",
      "mean: [17.91667 18.41667 25.33333 26.66667  9.41667]\n",
      "stdev: [2.39647 6.46089 4.20978 5.94886 4.80379]\n",
      "\n",
      "[WT]: 91.43%\n",
      "[mfb1KO]: 100.0%\n",
      "[mmm1KO]: 100.0%\n",
      "[mmr1KO]: 77.14%\n",
      "[num1KO]: 45.71%\n",
      "WARNING: there is already a saved model at this path\n",
      "input an addition to the save path or leave blank to abort\n",
      "prompt: 5\n",
      "    72     0.415447   0.466617   0.828571  \n"
     ]
    },
    {
     "name": "stdout",
     "output_type": "stream",
     "text": [
      "EPOCH 73 ---------------------------------------- STEP 127                                                                                                                                                           \n",
      "mean: [18.      18.16667 25.5     27.       9.25   ]\n",
      "stdev: [5.2915  3.76017 2.95804 5.16398 3.91844]\n",
      "\n",
      "[WT]: 88.57%\n",
      "[mfb1KO]: 97.14%\n",
      "[mmm1KO]: 100.0%\n",
      "[mmr1KO]: 77.14%\n",
      "[num1KO]: 48.57%\n",
      "    73     0.417017   0.475243   0.822857  \n",
      "EPOCH 74 ---------------------------------------- STEP 128                                                                                                                                                           \n",
      "mean: [18.25    18.08333 25.16667 26.75     9.41667]\n",
      "stdev: [4.52999 4.46203 5.55028 5.10106 4.27119]\n",
      "\n",
      "[WT]: 82.86%\n",
      "[mfb1KO]: 100.0%\n",
      "[mmm1KO]: 100.0%\n",
      "[mmr1KO]: 80.0%\n",
      "[num1KO]: 45.71%\n",
      "    74     0.414628   0.471501   0.817143  \n",
      "EPOCH 75 ---------------------------------------- STEP 129                                                                                                                                                           \n",
      "mean: [18.33333 18.      25.58333 26.5      9.41667]\n",
      "stdev: [4.10961 4.65475 4.46203 3.94757 3.94669]\n",
      "\n",
      "[WT]: 82.86%\n",
      "[mfb1KO]: 100.0%\n",
      "[mmm1KO]: 100.0%\n",
      "[mmr1KO]: 74.29%\n",
      "[num1KO]: 34.29%\n",
      "    75     0.414101   0.50076    0.782857  \n",
      "EPOCH 76 ---------------------------------------- STEP 130                                                                                                                                                           \n",
      "mean: [18.08333 18.25    25.25    26.33333  9.5    ]\n",
      "stdev: [4.36765 5.13363 4.52999 7.43117 3.5473 ]\n",
      "\n",
      "[WT]: 82.86%\n",
      "[mfb1KO]: 100.0%\n",
      "[mmm1KO]: 100.0%\n",
      "[mmr1KO]: 82.86%\n",
      "[num1KO]: 25.71%\n",
      "    76     0.41828    0.591059   0.782857  \n",
      "EPOCH 77 ---------------------------------------- STEP 131                                                                                                                                                           \n",
      "mean: [17.91667 17.91667 25.25    26.83333  9.58333]\n",
      "stdev: [6.87336 5.5145  3.44299 4.77552 3.94669]\n",
      "\n",
      "[WT]: 82.86%\n",
      "[mfb1KO]: 100.0%\n",
      "[mmm1KO]: 100.0%\n",
      "[mmr1KO]: 74.29%\n",
      "[num1KO]: 34.29%\n",
      "    77     0.415681   0.506725   0.782857  \n",
      "EPOCH 78 ---------------------------------------- STEP 132                                                                                                                                                           \n",
      "mean: [18.25    18.      25.33333 26.75     9.33333]\n",
      "stdev: [6.08447 5.56776 5.67646 5.86124 4.04832]\n",
      "\n",
      "[WT]: 82.86%\n",
      "[mfb1KO]: 100.0%\n",
      "[mmm1KO]: 100.0%\n",
      "[mmr1KO]: 77.14%\n",
      "[num1KO]: 42.86%\n",
      "    78     0.412773   0.515517   0.805714  \n",
      "EPOCH 79 ---------------------------------------- STEP 133                                                                                                                                                           \n",
      "mean: [17.91667 18.08333 25.58333 26.75     9.33333]\n",
      "stdev: [5.31442 4.95746 7.58791 5.44862 3.72678]\n",
      "\n",
      "[WT]: 85.71%\n",
      "[mfb1KO]: 100.0%\n",
      "[mmm1KO]: 100.0%\n",
      "[mmr1KO]: 80.0%\n",
      "[num1KO]: 28.57%\n",
      "    79     0.410291   0.49155    0.788571  \n",
      "EPOCH 80 ---------------------------------------- STEP 134                                                                                                                                                           \n",
      "mean: [17.91667 18.08333 25.16667 26.83333  9.41667]\n",
      "stdev: [3.88283 3.52274 6.22941 4.0586  4.31003]\n",
      "\n",
      "[WT]: 82.86%\n",
      "[mfb1KO]: 100.0%\n",
      "[mmm1KO]: 100.0%\n",
      "[mmr1KO]: 80.0%\n",
      "[num1KO]: 37.14%\n",
      "    80     0.410313   0.482557   0.8       \n",
      "EPOCH 81 ---------------------------------------- STEP 135                                                                                                                                                           \n",
      "mean: [18.16667 18.08333 25.33333 26.75     9.41667]\n",
      "stdev: [4.13991 6.07534 4.69633 3.46711 3.92552]\n",
      "\n",
      "[WT]: 94.29%\n",
      "[mfb1KO]: 100.0%\n",
      "[mmm1KO]: 100.0%\n",
      "[mmr1KO]: 68.57%\n",
      "[num1KO]: 42.86%\n",
      "    81     0.412466   0.476258   0.811429  \n",
      "EPOCH 82 ---------------------------------------- STEP 136                                                                                                                                                           \n",
      "mean: [18.16667 17.91667 25.25    26.83333  9.25   ]\n",
      "stdev: [4.63381 6.1841  6.40475 5.28888 3.78869]\n",
      "\n",
      "[WT]: 65.71%\n",
      "[mfb1KO]: 100.0%\n",
      "[mmm1KO]: 100.0%\n",
      "[mmr1KO]: 77.14%\n",
      "[num1KO]: 42.86%\n",
      "    82     0.415852   0.609043   0.771429  \n",
      "EPOCH 83 ---------------------------------------- STEP 137                                                                                                                                                           \n",
      "mean: [17.91667 18.08333 25.33333 27.       9.41667]\n",
      "stdev: [5.15523 3.70716 3.79327 4.47214 3.47511]\n",
      "\n",
      "[WT]: 94.29%\n",
      "[mfb1KO]: 100.0%\n",
      "[mmm1KO]: 100.0%\n",
      "[mmr1KO]: 71.43%\n",
      "[num1KO]: 37.14%\n",
      "    83     0.412394   0.487819   0.805714  \n",
      "EPOCH 84 ---------------------------------------- STEP 138                                                                                                                                                           \n",
      "mean: [18.08333 18.      25.25    26.66667  9.41667]\n",
      "stdev: [4.07141 6.01387 4.93499 5.08811 3.72957]\n",
      "\n",
      "[WT]: 82.86%\n",
      "[mfb1KO]: 100.0%\n",
      "[mmm1KO]: 100.0%\n",
      "[mmr1KO]: 74.29%\n",
      "[num1KO]: 28.57%\n",
      "    84     0.405363   0.508245   0.771429  \n",
      "EPOCH 85 ---------------------------------------- STEP 139                                                                                                                                                           \n",
      "mean: [18.      18.08333 25.16667 26.75     9.5    ]\n",
      "stdev: [6.69577 5.46898 5.58022 6.02944 3.92641]\n",
      "\n",
      "[WT]: 94.29%\n",
      "[mfb1KO]: 100.0%\n",
      "[mmm1KO]: 100.0%\n",
      "[mmr1KO]: 71.43%\n",
      "[num1KO]: 45.71%\n",
      "    85     0.406737   0.455891   0.822857  \n",
      "EPOCH 86 ---------------------------------------- STEP 140                                                                                                                                                           \n",
      "mean: [18.      18.16667 25.41667 26.83333  9.16667]\n",
      "stdev: [4.20317 4.65176 6.55055 6.79256 3.97562]\n",
      "\n",
      "[WT]: 94.29%\n",
      "[mfb1KO]: 100.0%\n",
      "[mmm1KO]: 100.0%\n",
      "[mmr1KO]: 74.29%\n",
      "[num1KO]: 48.57%\n",
      "WARNING: there is already a saved model at this path\n",
      "input an addition to the save path or leave blank to abort\n",
      "prompt: 6\n",
      "    86     0.40302    0.451554   0.834286  \n",
      "EPOCH 87 ---------------------------------------- STEP 141                                                                                                                                                           \n",
      "mean: [17.91667 17.91667 25.58333 26.83333  9.     ]\n",
      "stdev: [3.20048 5.15523 5.6636  5.35153 3.     ]\n",
      "\n",
      "[WT]: 91.43%\n",
      "[mfb1KO]: 100.0%\n",
      "[mmm1KO]: 100.0%\n",
      "[mmr1KO]: 71.43%\n",
      "[num1KO]: 40.0%\n",
      "    87     0.400275   0.467944   0.805714  \n",
      "EPOCH 88 ---------------------------------------- STEP 142                                                                                                                                                           \n",
      "mean: [18.25    18.08333 25.41667 26.5      9.25   ]\n",
      "stdev: [6.19307 3.83967 5.29872 6.0208  3.56195]\n",
      "\n",
      "[WT]: 82.86%\n",
      "[mfb1KO]: 100.0%\n",
      "[mmm1KO]: 100.0%\n",
      "[mmr1KO]: 77.14%\n",
      "[num1KO]: 37.14%\n",
      "    88     0.400637   0.490494   0.794286  \n",
      "EPOCH 89 ---------------------------------------- STEP 143                                                                                                                                                           \n",
      "mean: [18.16667 18.25    25.25    26.83333  9.41667]\n",
      "stdev: [5.36708 5.59948 6.35249 5.41346 3.22641]\n",
      "\n",
      "[WT]: 91.43%\n",
      "[mfb1KO]: 100.0%\n",
      "[mmm1KO]: 100.0%\n",
      "[mmr1KO]: 80.0%\n",
      "[num1KO]: 45.71%\n",
      "WARNING: there is already a saved model at this path\n",
      "input an addition to the save path or leave blank to abort\n",
      "prompt: 6\n",
      "    89     0.399038   0.455546   0.834286  \n",
      "EPOCH 90 ---------------------------------------- STEP 144                                                                                                                                                           \n",
      "mean: [18.16667 18.08333 25.5     26.75     9.25   ]\n",
      "stdev: [4.43158 3.68462 5.45436 4.798   1.78536]\n",
      "\n",
      "[WT]: 94.29%\n",
      "[mfb1KO]: 100.0%\n",
      "[mmm1KO]: 100.0%\n",
      "[mmr1KO]: 71.43%\n",
      "[num1KO]: 45.71%\n"
     ]
    },
    {
     "name": "stdout",
     "output_type": "stream",
     "text": [
      "    90     0.397297   0.456865   0.822857  \n",
      "EPOCH 91 ---------------------------------------- STEP 145                                                                                                                                                           \n",
      "mean: [18.33333 18.08333 25.58333 26.5      9.25   ]\n",
      "stdev: [5.26519 6.02022 5.82321 7.07696 3.81062]\n",
      "\n",
      "[WT]: 82.86%\n",
      "[mfb1KO]: 100.0%\n",
      "[mmm1KO]: 100.0%\n",
      "[mmr1KO]: 77.14%\n",
      "[num1KO]: 20.0%\n",
      "    91     0.398868   0.548508   0.76      \n",
      "EPOCH 92 ---------------------------------------- STEP 146                                                                                                                                                           \n",
      "mean: [18.08333 17.83333 25.5     26.75     9.33333]\n",
      "stdev: [5.43842 3.62476 4.53689 5.90374 1.92931]\n",
      "\n",
      "[WT]: 82.86%\n",
      "[mfb1KO]: 100.0%\n",
      "[mmm1KO]: 100.0%\n",
      "[mmr1KO]: 74.29%\n",
      "[num1KO]: 34.29%\n",
      "    92     0.403635   0.475107   0.782857  \n",
      "Wall time: 19min 4s\n"
     ]
    },
    {
     "data": {
      "text/plain": [
       "[array([0.47511]), 0.7828571452413287]"
      ]
     },
     "execution_count": 26,
     "metadata": {},
     "output_type": "execute_result"
    }
   ],
   "source": [
    "%time learn.fit(1e-3, 5, wds=wd, cycle_len=3, cycle_mult = 2, use_clr=(20,8, 0.95, 0.85), best_save_name = 'YNet_Res_v3.1')"
   ]
  },
  {
   "cell_type": "markdown",
   "metadata": {},
   "source": [
    "## Analysis/Model evaluation\n",
    "\n",
    "This is one of the major areas that needs improvement in our workflow. The tools we have so far (confusion matrix and manual inpsection of images) are essential but definitely not sufficient to ensure that our model learns something biologicaly relevant. Ideas are welcome!"
   ]
  },
  {
   "cell_type": "markdown",
   "metadata": {},
   "source": [
    "### ...after training "
   ]
  },
  {
   "cell_type": "code",
   "execution_count": 36,
   "metadata": {},
   "outputs": [],
   "source": [
    "# learn.save('YNet_Res_v4.2.1')"
   ]
  },
  {
   "cell_type": "code",
   "execution_count": 27,
   "metadata": {},
   "outputs": [],
   "source": [
    "## Load model:\n",
    "learn.load('YNet_Res_v3.1.6')"
   ]
  },
  {
   "cell_type": "code",
   "execution_count": null,
   "metadata": {
    "scrolled": false
   },
   "outputs": [],
   "source": [
    "%time learn.fit(1e-10, 1, wds=wd, cycle_len=1)"
   ]
  },
  {
   "cell_type": "code",
   "execution_count": 28,
   "metadata": {},
   "outputs": [
    {
     "data": {
      "application/vnd.jupyter.widget-view+json": {
       "model_id": "c66037a55f474626b90d469d7c1b8109",
       "version_major": 2,
       "version_minor": 0
      },
      "text/plain": [
       "HBox(children=(IntProgress(value=0, description='Epoch', max=1), HTML(value='')))"
      ]
     },
     "metadata": {},
     "output_type": "display_data"
    },
    {
     "name": "stdout",
     "output_type": "stream",
     "text": [
      "EPOCH 0 ---------------------------------------- STEP 147                                                                                                                                                            \n",
      "mean: [18.      18.08333 25.5     26.75     9.33333]\n",
      "stdev: [4.96655 2.21579 5.48483 4.30358 4.36527]\n",
      "\n",
      "[WT]: 80.0%\n",
      "[mfb1KO]: 100.0%\n",
      "[mmm1KO]: 100.0%\n",
      "[mmr1KO]: 74.29%\n",
      "[num1KO]: 40.0%\n",
      "epoch      trn_loss   val_loss   accuracy   \n",
      "    0      0.414559   0.50943    0.788571  \n"
     ]
    },
    {
     "data": {
      "text/plain": [
       "[array([0.50943]), 0.7885714295932225]"
      ]
     },
     "execution_count": 28,
     "metadata": {},
     "output_type": "execute_result"
    }
   ],
   "source": [
    "learn.warm_up(1e-10)"
   ]
  },
  {
   "cell_type": "code",
   "execution_count": 29,
   "metadata": {
    "scrolled": false
   },
   "outputs": [
    {
     "name": "stdout",
     "output_type": "stream",
     "text": [
      "                                                                                                                                                                                                                     \r"
     ]
    }
   ],
   "source": [
    "log_preds, y = learn.TTA(n_aug=4) # run predictions with TTA"
   ]
  },
  {
   "cell_type": "markdown",
   "metadata": {},
   "source": [
    "### Confusion matrix"
   ]
  },
  {
   "cell_type": "code",
   "execution_count": 30,
   "metadata": {
    "scrolled": true
   },
   "outputs": [
    {
     "name": "stdout",
     "output_type": "stream",
     "text": [
      "[[25  0  0  1  4]\n",
      " [ 0 35  0  6  3]\n",
      " [ 0  0 35  0  0]\n",
      " [ 8  0  0 28 14]\n",
      " [ 2  0  0  0 14]]\n"
     ]
    },
    {
     "data": {
      "image/png": "[encoded data removed]",
      "text/plain": [
       "<Figure size 432x288 with 2 Axes>"
      ]
     },
     "metadata": {},
     "output_type": "display_data"
    }
   ],
   "source": [
    "# Plot confusion matrix \n",
    "log_preds_mean = np.mean(log_preds, axis=0)\n",
    "preds = np.argmax(log_preds_mean, axis=1)\n",
    "cm = confusion_matrix(preds,y)\n",
    "plot_confusion_matrix(cm, data.classes)"
   ]
  },
  {
   "cell_type": "markdown",
   "metadata": {},
   "source": [
    "### Test-set eval"
   ]
  },
  {
   "cell_type": "code",
   "execution_count": null,
   "metadata": {},
   "outputs": [],
   "source": [
    "test_learn = ConvLearner.from_model_data(Resnet([10, 20, 40, 80, 160], 4), test_data)"
   ]
  },
  {
   "cell_type": "code",
   "execution_count": null,
   "metadata": {},
   "outputs": [],
   "source": [
    "# learn.load('YNet_Res_v10.1')"
   ]
  },
  {
   "cell_type": "code",
   "execution_count": null,
   "metadata": {
    "scrolled": true
   },
   "outputs": [],
   "source": [
    "data = get_data(PATH,SIZE,BATCH_SIZE)"
   ]
  },
  {
   "cell_type": "code",
   "execution_count": null,
   "metadata": {
    "scrolled": true
   },
   "outputs": [],
   "source": [
    "tx, ty = next(test_batch)\n",
    "print(ty)"
   ]
  },
  {
   "cell_type": "code",
   "execution_count": null,
   "metadata": {},
   "outputs": [],
   "source": [
    "dl_ = data.trn_dl\n",
    "batch_ = iter(dl_)"
   ]
  },
  {
   "cell_type": "code",
   "execution_count": null,
   "metadata": {},
   "outputs": [],
   "source": [
    "s1a, s2a = next(batch_)"
   ]
  },
  {
   "cell_type": "code",
   "execution_count": null,
   "metadata": {},
   "outputs": [],
   "source": [
    "batch2x = np.concatenate((s1.cpu().numpy().copy(), s1a.cpu().numpy().copy()), axis = 0)\n",
    "print(batch2x.shape)"
   ]
  },
  {
   "cell_type": "code",
   "execution_count": null,
   "metadata": {},
   "outputs": [],
   "source": [
    "ims = None\n",
    "lbls = None\n",
    "\n",
    "for b in range(0,len(dl)):\n",
    "    x_, y_ = next(batch_)\n",
    "    \n",
    "    x_np = x.cpu().numpy().copy()\n",
    "    y_np = y.cpu().numpy().copy()\n",
    "    \n",
    "    if ims is None:\n",
    "        ims = x_np\n",
    "        lbls = y_np\n",
    "    else:\n",
    "        ims = np.concatenate((ims, x_np), axis = 0)\n",
    "        lbls = np.concatenate((lbls, y_np), axis = 0)"
   ]
  },
  {
   "cell_type": "code",
   "execution_count": null,
   "metadata": {},
   "outputs": [],
   "source": [
    "dl_ = data.trn_dl\n",
    "batch_ = iter(dl_)\n",
    "\n",
    "\n",
    "plt.style.use('seaborn-whitegrid')\n",
    "fig = plt.figure()\n",
    "ax = plt.subplot(111)\n",
    "\n",
    "for b in range(0,len(dl)):\n",
    "    x_, y_ = next(batch_)\n",
    "\n",
    "    x_np = to_np(x_)\n",
    "    y_np = to_np(y_)\n",
    "    \n",
    "    im_means = np.mean(x_np, axis=(2,3))\n",
    "    \n",
    "    ax.plot(im_means[:,0], im_means[:,1], 'o', color = 'C0' , alpha=0.5)\n",
    "        \n",
    "plt.xlim(-0.4,0.4)\n",
    "plt.ylim(-1, 4)"
   ]
  },
  {
   "cell_type": "code",
   "execution_count": null,
   "metadata": {},
   "outputs": [],
   "source": [
    "dl_t = data.test_dl\n",
    "batch_t = iter(dl_t)\n",
    "\n",
    "ax = plt.subplot(111)\n",
    "\n",
    "for b in range(0,len(dl_t)):\n",
    "    x_, y_ = next(batch_t)\n",
    "\n",
    "    x_np = to_np(x_)\n",
    "    y_np = to_np(y_)\n",
    "    \n",
    "    im_means = np.mean(x_np, axis=(2,3))\n",
    "    \n",
    "    ax.plot(im_means[:,0], im_means[:,1], 'o', color = 'C1' , alpha=0.5)\n",
    "    \n",
    "plt.xlim(-0.4,0.4)\n",
    "plt.ylim(-1, 4)"
   ]
  },
  {
   "cell_type": "code",
   "execution_count": null,
   "metadata": {},
   "outputs": [],
   "source": [
    "# specify which image-index\n",
    "idx = 60\n",
    "\n",
    "# loading it from GPU to CPU\n",
    "xx = x[idx].cpu().numpy().copy()\n",
    "yy = y[idx]\n",
    "# showing the image\n",
    "#\n",
    "#sp.axis('Off')\n",
    "#sp.set_title(\"Norm\", fontsize=11)\n",
    "figure, _ ,_ = tiff.imshow(np.sum(xx, axis=0))\n",
    "# figure, _ ,_ = plt.imshow(np.sum(xx, axis=0))\n",
    "\n",
    "# figure.set_size_inches(6,6)\n",
    "# figure.add_subplot(111)\n",
    "\n",
    "# figure2, _, _ = tiff.imshow(np.sum(data.trn_ds.denorm(xx,yy).squeeze() * 65536, axis=2)) # not very elegant atm. \n",
    "# figure2.set_size_inches(6,6)\n",
    "print(yy)"
   ]
  },
  {
   "cell_type": "code",
   "execution_count": null,
   "metadata": {
    "scrolled": false
   },
   "outputs": [],
   "source": [
    "tiff.imshow(data.test_ds[1][0][0,:,:])\n"
   ]
  },
  {
   "cell_type": "code",
   "execution_count": 56,
   "metadata": {},
   "outputs": [
    {
     "name": "stdout",
     "output_type": "stream",
     "text": [
      "350\n",
      "2228\n",
      "812\n"
     ]
    }
   ],
   "source": [
    "print(len(data.val_dl.dataset.y))\n",
    "print(len(data.trn_dl.dataset.y))\n",
    "print(len(data.test_dl.dataset.y))"
   ]
  },
  {
   "cell_type": "code",
   "execution_count": 33,
   "metadata": {
    "scrolled": false
   },
   "outputs": [
    {
     "name": "stdout",
     "output_type": "stream",
     "text": [
      "\n",
      " class to index mapping:\n",
      " {'01_WT': [0, 0, 'WT'], '01_mfb1KO': [1, 1, 'mfb1KO'], '01_mmm1KO': [2, 2, 'mmm1KO'], '01_mmr1KO': [3, 3, 'mmr1KO'], '01_num1KO': [4, 4, 'num1KO']}\n",
      "\n",
      " class to index mapping:\n",
      " {'02_WT': [0, 0, 'WT'], '02_mfb1KO': [1, 1, 'mfb1KO'], '02_mmr1KO': [2, 2, 'mmr1KO']}\n"
     ]
    }
   ],
   "source": [
    "data = get_data(PATH,SIZE,BATCH_SIZE)"
   ]
  },
  {
   "cell_type": "code",
   "execution_count": 31,
   "metadata": {},
   "outputs": [],
   "source": [
    "test_log_preds, targs = learn.predict_with_targs(is_test=True)\n",
    "testprobs = np.exp(test_log_preds)\n",
    "preds = np.argmax(testprobs, axis=1)"
   ]
  },
  {
   "cell_type": "code",
   "execution_count": 32,
   "metadata": {},
   "outputs": [
    {
     "name": "stdout",
     "output_type": "stream",
     "text": [
      "[4 0 0 0 0 0 3 4 4 0 3 0 0 0 3 0 0 3 0 0 0 3 3 0 0 4 4 0 3 0 0 4 3 4 0 0 4 0 3 0 0 0 0 0 0 0 4 0 0 0 0 0 0 4\n",
      " 0 0 0 0 0 3 4 0 4 0 0 0 0 3 0 0 0 0 0 0 0 0 0 0 1 1 1 1 1 1 1 1 1 0 0 0 3 0 0 0 0 0 0 3 0 0 0 0 3 0 3 0 0 0\n",
      " 3 0 3 0 0 0 0 0 4 0 0 3 0 0 0 4 0 0 0 4 3 0 3 0 0 0 0 0 0 0 0 0 0 0 3 3 0 4 3 3 3 4 3 0 0 4 0 3 4 4 4 0 0 0\n",
      " 3 0 0 0 0 0 0 3 0 0 0 3 0 4 3 0 0 0 3 0 0 3 0 0 0 0 3 0 0 3 0 3 3 0 3 0 0 3 1 3 3 2 3 3 3 3 3 3 3 3 3 3 3 3\n",
      " 4 3 3 0 4 3 3 3 3 3 3 3 3 3 3 3 4 4 3 3 3 4 3 3 3 4 4 3 4 4 3 0 3 3 0 0 3 3 0 3 4 3 0 0 3 3 3 3 4 3 3 4 4 3\n",
      " 3 3 1 1 3 3 3 4 3 3 3 0 0 4 3 0 3 3 3 3 3 4 3 3 3 3 3 3 3 3 3 0 3 3 3 3 4 3 4 0 4 4 4 3 3 3 4 3 3 3 3 3 4 3\n",
      " 0 4 4 0 0 3 3 3 0 3 3 4 3 0 3 3 3 3 3 3 4 3 3 4 3 3 3 3 3 3 4 3 3 3 3 3 3 3 3 3 4 3 3 1 3 4 3 4 3 3 3 3 1 2\n",
      " 3 0 3 4 3 3 3 1 3 3 3 4 1 3 3 1 3 4 1 3 3 3 3 3 3 3 3 4 0 0 4 4 4 0 4 3 4 0 4 4 4 4 3 0 0 0 4 0 0 0 4 4 4 0\n",
      " 0 3 0 3 4 4 4 0 4 4 4 0 4 0 0 4 4 3 0 0 0 0 0 3 1 4 3 4 4 4 4 3 4 0 3 3 0 0 4 3 4 3 4 3 4 4 0 0 3 3 3 4 3 3\n",
      " 4 4 4 0 4 4 4 0 4 4 4 4 0 3 3 3 0 4 4 4 4 4 4 0 4 0 0 4 0 4 0 4 0 3 3 3 4 0 4 0 0 3 0 4 0 0 0 4 4 0 4 4 4 0\n",
      " 0 0 0 0 0 0 0 4 4 0 4 4 4 4 0 4 3 4 0 0 4 4 0 0 4 4 4 4 0 0 0 0 4 0 4 4 4 4 3 3 3 3 4 3 4 4 3 4 4 3 0 3 3 3\n",
      " 3 3 0 4 3 4 4 4 4 3 1 4 4 3 3 3 3 3 3 0 3 3 4 4 3 4 4 0 4 0 0 2 3 3 4 3 4 3 4 4 4 3 3 4 4 3 3 3 0 3 0 3 3 3\n",
      " 4 4 3 4 3 3 0 0 4 0 0 4 4 3 4 4 4 3 3 4 0 4 0 0 4 0 4 0 4 4 0 0 4 4 4 0 4 0 4 4 4 0 4 0 0 4 0 0 0 0 4 4 4 0\n",
      " 4 4 4 4 0 0 0 0 3 0 0 0 4 0]\n",
      "[0 0 0 0 0 0 0 0 0 0 0 0 0 0 0 0 0 0 0 0 0 0 0 0 0 0 0 0 0 0 0 0 0 0 0 0 0 0 0 0 0 0 0 0 0 0 0 0 0 0 0 0 0 0\n",
      " 0 0 0 0 0 0 0 0 0 0 0 0 0 0 0 0 0 0 0 0 0 0 0 0 0 0 0 0 0 0 0 0 0 0 0 0 0 0 0 0 0 0 0 0 0 0 0 0 0 0 0 0 0 0\n",
      " 0 0 0 0 0 0 0 0 0 0 0 0 0 0 0 0 0 0 0 0 0 0 0 0 0 0 0 0 0 0 0 0 0 0 0 0 0 0 0 0 0 0 0 0 0 0 0 0 0 0 0 0 0 0\n",
      " 0 0 0 0 0 0 0 0 0 0 0 0 0 0 0 0 0 0 0 0 0 0 0 0 0 0 1 1 1 1 1 1 1 1 1 1 1 1 1 1 1 1 1 1 1 1 1 1 1 1 1 1 1 1\n",
      " 1 1 1 1 1 1 1 1 1 1 1 1 1 1 1 1 1 1 1 1 1 1 1 1 1 1 1 1 1 1 1 1 1 1 1 1 1 1 1 1 1 1 1 1 1 1 1 1 1 1 1 1 1 1\n",
      " 1 1 1 1 1 1 1 1 1 1 1 1 1 1 1 1 1 1 1 1 1 1 1 1 1 1 1 1 1 1 1 1 1 1 1 1 1 1 1 1 1 1 1 1 1 1 1 1 1 1 1 1 1 1\n",
      " 1 1 1 1 1 1 1 1 1 1 1 1 1 1 1 1 1 1 1 1 1 1 1 1 1 1 1 1 1 1 1 1 1 1 1 1 1 1 1 1 1 1 1 1 1 1 1 1 1 1 1 1 1 1\n",
      " 1 1 1 1 1 1 1 1 1 1 1 1 1 1 1 1 1 1 1 1 1 1 1 1 1 1 2 2 2 2 2 2 2 2 2 2 2 2 2 2 2 2 2 2 2 2 2 2 2 2 2 2 2 2\n",
      " 2 2 2 2 2 2 2 2 2 2 2 2 2 2 2 2 2 2 2 2 2 2 2 2 2 2 2 2 2 2 2 2 2 2 2 2 2 2 2 2 2 2 2 2 2 2 2 2 2 2 2 2 2 2\n",
      " 2 2 2 2 2 2 2 2 2 2 2 2 2 2 2 2 2 2 2 2 2 2 2 2 2 2 2 2 2 2 2 2 2 2 2 2 2 2 2 2 2 2 2 2 2 2 2 2 2 2 2 2 2 2\n",
      " 2 2 2 2 2 2 2 2 2 2 2 2 2 2 2 2 2 2 2 2 2 2 2 2 2 2 2 2 2 2 2 2 2 2 2 2 2 2 2 2 2 2 2 2 2 2 2 2 2 2 2 2 2 2\n",
      " 2 2 2 2 2 2 2 2 2 2 2 2 2 2 2 2 2 2 2 2 2 2 2 2 2 2 2 2 2 2 2 2 2 2 2 2 2 2 2 2 2 2 2 2 2 2 2 2 2 2 2 2 2 2\n",
      " 2 2 2 2 2 2 2 2 2 2 2 2 2 2 2 2 2 2 2 2 2 2 2 2 2 2 2 2 2 2 2 2 2 2 2 2 2 2 2 2 2 2 2 2 2 2 2 2 2 2 2 2 2 2\n",
      " 2 2 2 2 2 2 2 2 2 2 2 2 2 2]\n"
     ]
    }
   ],
   "source": [
    "print(preds)\n",
    "print(targs)"
   ]
  },
  {
   "cell_type": "code",
   "execution_count": 59,
   "metadata": {},
   "outputs": [
    {
     "data": {
      "text/plain": [
       "['WT', 'mfb1KO', 'mmm1KO', 'mmr1KO', 'num1KO', 'H2O2', 'dnm1KO', 'fzo1KO']"
      ]
     },
     "execution_count": 59,
     "metadata": {},
     "output_type": "execute_result"
    }
   ],
   "source": [
    "data.classes"
   ]
  },
  {
   "cell_type": "code",
   "execution_count": 61,
   "metadata": {
    "scrolled": true
   },
   "outputs": [
    {
     "name": "stdout",
     "output_type": "stream",
     "text": [
      "[[ 64  14   4  34   5   0   4  91]\n",
      " [118   6   5  23  40  12  96  12]\n",
      " [140   6   4  20  21   9  30  54]\n",
      " [  0   0   0   0   0   0   0   0]\n",
      " [  0   0   0   0   0   0   0   0]\n",
      " [  0   0   0   0   0   0   0   0]\n",
      " [  0   0   0   0   0   0   0   0]\n",
      " [  0   0   0   0   0   0   0   0]]\n"
     ]
    },
    {
     "data": {
      "image/png": "[encoded data removed]",
      "text/plain": [
       "<Figure size 432x288 with 2 Axes>"
      ]
     },
     "metadata": {},
     "output_type": "display_data"
    }
   ],
   "source": [
    "cm = confusion_matrix(targs,preds)\n",
    "plot_confusion_matrix(cm, data.classes)"
   ]
  },
  {
   "cell_type": "code",
   "execution_count": null,
   "metadata": {},
   "outputs": [],
   "source": []
  },
  {
   "cell_type": "code",
   "execution_count": 29,
   "metadata": {},
   "outputs": [],
   "source": [
    "_, lbl2idx_, test_lbl2idx_ = ImageClassifierData.prepare_from_path(PATH, val_name='val', bs=64, num_workers=1,\n",
    "                                                                             test_name='test', test_with_labels=True)"
   ]
  },
  {
   "cell_type": "code",
   "execution_count": 45,
   "metadata": {},
   "outputs": [
    {
     "name": "stdout",
     "output_type": "stream",
     "text": [
      "{'01_WT': [0, 0, 'WT'], '01_mfb1KO': [1, 1, 'mfb1KO'], '01_mmm1KO': [2, 2, 'mmm1KO'], '01_mmr1KO': [3, 3, 'mmr1KO'], '01_num1KO': [4, 4, 'num1KO'], '02_WT': [5, 0, 'WT'], '03_H2O2': [6, 5, 'H2O2'], '03_WT': [7, 0, 'WT'], '03_dnm1KO': [8, 6, 'dnm1KO'], '03_fzo1KO': [9, 7, 'fzo1KO']}\n",
      "{'02_mfb1KO': [0, 0, 'mfb1KO'], '02_mmr1KO': [1, 1, 'mmr1KO'], '02_mmr1KO-mfb1KO': [2, 2, 'mmr1KO-mfb1KO']}\n"
     ]
    }
   ],
   "source": [
    "print(lbl2idx_)\n",
    "print(test_lbl2idx_)"
   ]
  },
  {
   "cell_type": "code",
   "execution_count": 32,
   "metadata": {},
   "outputs": [],
   "source": [
    "uIdx2uCls = {lbl2idx_[key][1]: lbl2idx_[key][2] for key in lbl2idx_.keys()}\n",
    "test_uIdx2uCls = {test_lbl2idx_[key][1]: test_lbl2idx_[key][2] for key in test_lbl2idx_.keys()}"
   ]
  },
  {
   "cell_type": "code",
   "execution_count": 47,
   "metadata": {},
   "outputs": [
    {
     "name": "stdout",
     "output_type": "stream",
     "text": [
      "{0: 'WT', 1: 'mfb1KO', 2: 'mmm1KO', 3: 'mmr1KO', 4: 'num1KO', 5: 'H2O2', 6: 'dnm1KO', 7: 'fzo1KO'}\n",
      "{0: 'mfb1KO', 1: 'mmr1KO', 2: 'mmr1KO-mfb1KO'}\n"
     ]
    }
   ],
   "source": [
    "print(uIdx2uCls)\n",
    "print(test_uIdx2uCls)"
   ]
  },
  {
   "cell_type": "code",
   "execution_count": 50,
   "metadata": {},
   "outputs": [],
   "source": [
    "vrb_preds = [uIdx2uCls[preds[i]] for i, _ in enumerate(preds)]\n",
    "verb_targs = [test_uIdx2uCls[targs[i]] for i, _ in enumerate(targs)]"
   ]
  },
  {
   "cell_type": "code",
   "execution_count": 52,
   "metadata": {
    "scrolled": true
   },
   "outputs": [
    {
     "name": "stdout",
     "output_type": "stream",
     "text": [
      "['WT', 'fzo1KO', 'WT', 'fzo1KO', 'fzo1KO', 'fzo1KO', 'fzo1KO', 'WT', 'mmr1KO', 'WT', 'WT', 'WT', 'fzo1KO', 'fzo1KO', 'WT', 'fzo1KO', 'fzo1KO', 'fzo1KO', 'fzo1KO', 'WT', 'WT', 'fzo1KO', 'mmr1KO', 'mfb1KO', 'WT', 'WT', 'WT', 'fzo1KO', 'WT', 'fzo1KO', 'fzo1KO', 'dnm1KO', 'fzo1KO', 'WT', 'fzo1KO', 'mmr1KO', 'fzo1KO', 'fzo1KO', 'WT', 'num1KO', 'fzo1KO', 'fzo1KO', 'mfb1KO', 'fzo1KO', 'fzo1KO', 'fzo1KO', 'fzo1KO', 'fzo1KO', 'fzo1KO', 'fzo1KO', 'fzo1KO', 'fzo1KO', 'fzo1KO', 'fzo1KO', 'WT', 'fzo1KO', 'WT', 'mmr1KO', 'fzo1KO', 'mmr1KO', 'fzo1KO', 'fzo1KO', 'WT', 'WT', 'fzo1KO', 'fzo1KO', 'fzo1KO', 'fzo1KO', 'WT', 'mmr1KO', 'mmr1KO', 'WT', 'WT', 'mmr1KO', 'fzo1KO', 'fzo1KO', 'fzo1KO', 'fzo1KO', 'WT', 'fzo1KO', 'fzo1KO', 'fzo1KO', 'fzo1KO', 'WT', 'mmm1KO', 'mmm1KO', 'fzo1KO', 'mmr1KO', 'fzo1KO', 'fzo1KO', 'WT', 'mmr1KO', 'mmr1KO', 'fzo1KO', 'fzo1KO', 'fzo1KO', 'fzo1KO', 'fzo1KO', 'fzo1KO', 'fzo1KO', 'mmr1KO', 'fzo1KO', 'fzo1KO', 'fzo1KO', 'fzo1KO', 'WT', 'mfb1KO', 'mmr1KO', 'WT', 'fzo1KO', 'fzo1KO', 'fzo1KO', 'mmr1KO', 'WT', 'WT', 'WT', 'fzo1KO', 'mmr1KO', 'fzo1KO', 'WT', 'dnm1KO', 'fzo1KO', 'WT', 'num1KO', 'WT', 'mfb1KO', 'dnm1KO', 'fzo1KO', 'dnm1KO', 'fzo1KO', 'mmr1KO', 'fzo1KO', 'mmr1KO', 'mmr1KO', 'WT', 'WT', 'WT', 'WT', 'num1KO', 'fzo1KO', 'WT', 'fzo1KO', 'mmr1KO', 'mmr1KO', 'mmr1KO', 'fzo1KO', 'WT', 'WT', 'WT', 'mmr1KO', 'mmr1KO', 'mfb1KO', 'mmr1KO', 'fzo1KO', 'WT', 'WT', 'fzo1KO', 'fzo1KO', 'mmr1KO', 'WT', 'mfb1KO', 'mmr1KO', 'WT', 'fzo1KO', 'fzo1KO', 'WT', 'fzo1KO', 'mmr1KO', 'fzo1KO', 'WT', 'fzo1KO', 'fzo1KO', 'WT', 'WT', 'mmr1KO', 'fzo1KO', 'WT', 'fzo1KO', 'mmr1KO', 'mmm1KO', 'WT', 'WT', 'WT', 'fzo1KO', 'mmr1KO', 'mfb1KO', 'mfb1KO', 'mfb1KO', 'mfb1KO', 'mmm1KO', 'WT', 'WT', 'fzo1KO', 'WT', 'mmr1KO', 'mmr1KO', 'WT', 'mfb1KO', 'WT', 'fzo1KO', 'mmr1KO', 'WT', 'fzo1KO', 'WT', 'WT', 'mfb1KO', 'mfb1KO', 'mmr1KO', 'mfb1KO', 'WT', 'WT', 'num1KO', 'num1KO', 'fzo1KO', 'WT', 'fzo1KO', 'WT', 'WT', 'WT', 'WT', 'dnm1KO', 'WT', 'dnm1KO', 'num1KO', 'num1KO', 'mmr1KO', 'dnm1KO', 'dnm1KO', 'dnm1KO', 'num1KO', 'WT', 'dnm1KO', 'num1KO', 'H2O2', 'WT', 'WT', 'WT', 'num1KO', 'H2O2', 'dnm1KO', 'dnm1KO', 'WT', 'dnm1KO', 'WT', 'WT', 'mmr1KO', 'WT', 'WT', 'dnm1KO', 'WT', 'WT', 'WT', 'WT', 'WT', 'WT', 'dnm1KO', 'WT', 'WT', 'WT', 'WT', 'num1KO', 'WT', 'WT', 'H2O2', 'WT', 'WT', 'dnm1KO', 'dnm1KO', 'mfb1KO', 'fzo1KO', 'H2O2', 'dnm1KO', 'dnm1KO', 'WT', 'num1KO', 'fzo1KO', 'num1KO', 'WT', 'num1KO', 'num1KO', 'dnm1KO', 'WT', 'WT', 'fzo1KO', 'WT', 'mmr1KO', 'dnm1KO', 'num1KO', 'WT', 'H2O2', 'WT', 'WT', 'WT', 'fzo1KO', 'num1KO', 'num1KO', 'fzo1KO', 'num1KO', 'num1KO', 'num1KO', 'WT', 'WT', 'num1KO', 'WT', 'WT', 'dnm1KO', 'dnm1KO', 'dnm1KO', 'WT', 'WT', 'WT', 'fzo1KO', 'mmr1KO', 'WT', 'dnm1KO', 'WT', 'mmr1KO', 'dnm1KO', 'WT', 'num1KO', 'dnm1KO', 'dnm1KO', 'WT', 'mmr1KO', 'dnm1KO', 'num1KO', 'WT', 'dnm1KO', 'WT', 'num1KO', 'dnm1KO', 'num1KO', 'num1KO', 'mmr1KO', 'WT', 'H2O2', 'dnm1KO', 'WT', 'num1KO', 'dnm1KO', 'dnm1KO', 'dnm1KO', 'WT', 'WT', 'WT', 'WT', 'dnm1KO', 'WT', 'dnm1KO', 'WT', 'num1KO', 'WT', 'H2O2', 'WT', 'num1KO', 'WT', 'num1KO', 'WT', 'WT', 'WT', 'WT', 'WT', 'H2O2', 'WT', 'WT', 'WT', 'WT', 'WT', 'mfb1KO', 'WT', 'WT', 'WT', 'WT', 'dnm1KO', 'dnm1KO', 'dnm1KO', 'dnm1KO', 'dnm1KO', 'dnm1KO', 'num1KO', 'dnm1KO', 'dnm1KO', 'dnm1KO', 'dnm1KO', 'num1KO', 'WT', 'dnm1KO', 'WT', 'dnm1KO', 'dnm1KO', 'mmr1KO', 'mmr1KO', 'mmr1KO', 'mfb1KO', 'WT', 'num1KO', 'WT', 'WT', 'WT', 'WT', 'WT', 'mfb1KO', 'fzo1KO', 'fzo1KO', 'mfb1KO', 'WT', 'mmm1KO', 'mmr1KO', 'WT', 'WT', 'dnm1KO', 'dnm1KO', 'mmr1KO', 'num1KO', 'dnm1KO', 'H2O2', 'fzo1KO', 'WT', 'dnm1KO', 'mmr1KO', 'fzo1KO', 'fzo1KO', 'mmr1KO', 'mfb1KO', 'WT', 'num1KO', 'mmm1KO', 'num1KO', 'dnm1KO', 'WT', 'num1KO', 'dnm1KO', 'dnm1KO', 'WT', 'mmr1KO', 'num1KO', 'fzo1KO', 'mmr1KO', 'mmm1KO', 'WT', 'dnm1KO', 'num1KO', 'num1KO', 'dnm1KO', 'dnm1KO', 'dnm1KO', 'dnm1KO', 'dnm1KO', 'dnm1KO', 'dnm1KO', 'WT', 'dnm1KO', 'dnm1KO', 'mmm1KO', 'dnm1KO', 'dnm1KO', 'dnm1KO', 'mmr1KO', 'mmr1KO', 'mmr1KO', 'dnm1KO', 'dnm1KO', 'dnm1KO', 'dnm1KO', 'mmr1KO', 'mmm1KO', 'H2O2', 'dnm1KO', 'dnm1KO', 'dnm1KO', 'dnm1KO', 'dnm1KO', 'dnm1KO', 'dnm1KO', 'H2O2', 'WT', 'dnm1KO', 'mmr1KO', 'mmr1KO', 'dnm1KO', 'dnm1KO', 'num1KO', 'num1KO', 'WT', 'dnm1KO', 'dnm1KO', 'dnm1KO', 'dnm1KO', 'dnm1KO', 'WT', 'num1KO', 'WT', 'dnm1KO', 'dnm1KO', 'WT', 'WT', 'WT', 'H2O2', 'WT', 'dnm1KO', 'dnm1KO', 'WT', 'mmr1KO', 'WT', 'WT', 'dnm1KO', 'WT', 'WT', 'WT', 'dnm1KO', 'dnm1KO', 'WT', 'WT', 'WT', 'WT', 'WT', 'WT', 'WT', 'dnm1KO', 'WT', 'dnm1KO', 'WT', 'num1KO', 'dnm1KO', 'WT', 'WT', 'WT', 'dnm1KO', 'num1KO', 'WT', 'num1KO', 'mfb1KO', 'WT', 'WT', 'dnm1KO', 'WT', 'WT', 'fzo1KO', 'num1KO', 'WT', 'dnm1KO', 'WT', 'H2O2', 'num1KO', 'WT', 'WT', 'dnm1KO', 'fzo1KO', 'fzo1KO', 'WT', 'num1KO', 'WT', 'WT', 'mfb1KO', 'mmr1KO', 'WT', 'WT', 'fzo1KO', 'WT', 'mmr1KO', 'fzo1KO', 'mmr1KO', 'fzo1KO', 'mmr1KO', 'H2O2', 'fzo1KO', 'mmm1KO', 'fzo1KO', 'H2O2', 'fzo1KO', 'fzo1KO', 'mmr1KO', 'mfb1KO', 'fzo1KO', 'mmm1KO', 'mmm1KO', 'fzo1KO', 'mfb1KO', 'fzo1KO', 'mmr1KO', 'fzo1KO', 'WT', 'fzo1KO', 'fzo1KO', 'mmr1KO', 'fzo1KO', 'fzo1KO', 'mmr1KO', 'fzo1KO', 'fzo1KO', 'fzo1KO', 'fzo1KO', 'fzo1KO', 'dnm1KO', 'WT', 'mmm1KO', 'fzo1KO', 'fzo1KO', 'fzo1KO', 'fzo1KO', 'num1KO', 'WT', 'WT', 'WT', 'WT', 'fzo1KO', 'WT', 'WT', 'num1KO', 'num1KO', 'WT', 'num1KO', 'WT', 'WT', 'H2O2', 'mmr1KO', 'fzo1KO', 'dnm1KO', 'mmr1KO', 'mmr1KO', 'mmr1KO', 'fzo1KO', 'WT', 'WT', 'WT', 'WT', 'WT', 'fzo1KO', 'WT', 'WT', 'WT', 'WT', 'WT', 'WT', 'fzo1KO', 'num1KO', 'num1KO', 'WT', 'WT', 'WT', 'dnm1KO', 'WT', 'WT', 'WT', 'WT', 'WT', 'dnm1KO', 'WT', 'WT', 'WT', 'WT', 'WT', 'WT', 'WT', 'WT', 'WT', 'H2O2', 'dnm1KO', 'WT', 'WT', 'WT', 'fzo1KO', 'WT', 'WT', 'fzo1KO', 'fzo1KO', 'WT', 'WT', 'WT', 'WT', 'dnm1KO', 'dnm1KO', 'WT', 'WT', 'fzo1KO', 'WT', 'fzo1KO', 'dnm1KO', 'fzo1KO', 'H2O2', 'WT', 'fzo1KO', 'WT', 'mmr1KO', 'num1KO', 'dnm1KO', 'WT', 'dnm1KO', 'WT', 'WT', 'WT', 'WT', 'mmr1KO', 'WT', 'dnm1KO', 'dnm1KO', 'WT', 'WT', 'dnm1KO', 'H2O2', 'num1KO', 'WT', 'dnm1KO', 'WT', 'WT', 'dnm1KO', 'WT', 'fzo1KO', 'WT', 'WT', 'WT', 'WT', 'num1KO', 'H2O2', 'fzo1KO', 'WT', 'WT', 'fzo1KO', 'WT', 'num1KO', 'fzo1KO', 'fzo1KO', 'mfb1KO', 'mmr1KO', 'WT', 'dnm1KO', 'WT', 'dnm1KO', 'WT', 'WT', 'WT', 'dnm1KO', 'WT', 'mmr1KO', 'WT', 'num1KO', 'WT', 'WT', 'WT', 'WT', 'WT', 'num1KO', 'fzo1KO', 'fzo1KO', 'WT', 'mmr1KO', 'num1KO', 'WT', 'WT', 'WT', 'mmr1KO', 'fzo1KO', 'dnm1KO', 'WT', 'WT', 'mmr1KO', 'dnm1KO', 'dnm1KO', 'WT', 'WT', 'WT', 'WT', 'WT', 'WT', 'fzo1KO', 'fzo1KO', 'dnm1KO', 'WT', 'WT', 'fzo1KO', 'WT', 'dnm1KO', 'WT', 'WT', 'num1KO', 'mmr1KO', 'WT', 'WT', 'fzo1KO', 'mfb1KO', 'WT', 'dnm1KO', 'dnm1KO', 'WT', 'dnm1KO', 'dnm1KO', 'WT', 'H2O2', 'WT', 'WT', 'WT', 'WT', 'num1KO', 'WT', 'fzo1KO', 'WT', 'WT', 'WT', 'WT', 'WT', 'WT', 'fzo1KO', 'WT', 'num1KO', 'WT', 'WT', 'WT', 'fzo1KO', 'WT', 'WT', 'WT', 'WT']\n"
     ]
    }
   ],
   "source": [
    "print(vrb_preds)\n",
    "# print(verb_targs)"
   ]
  },
  {
   "cell_type": "code",
   "execution_count": null,
   "metadata": {
    "scrolled": true
   },
   "outputs": [],
   "source": [
    "test_log_preds[188:220]"
   ]
  },
  {
   "cell_type": "markdown",
   "metadata": {},
   "source": [
    "### Analyse images "
   ]
  },
  {
   "cell_type": "markdown",
   "metadata": {},
   "source": [
    "#### Show random correct/incorrectly classified images:"
   ]
  },
  {
   "cell_type": "code",
   "execution_count": null,
   "metadata": {},
   "outputs": [],
   "source": [
    "log_preds_mean = np.mean(log_preds, axis=0) # averages predictions on original + 4 TTA images\n",
    "preds = np.argmax(log_preds_mean, axis=1) # converts into 0 or 1"
   ]
  },
  {
   "cell_type": "code",
   "execution_count": null,
   "metadata": {},
   "outputs": [],
   "source": [
    "# probs = np.exp(log_preds_mean[:,0]) # prediction(WT)\n",
    "probs = np.exp(log_preds_mean) # predictions"
   ]
  },
  {
   "cell_type": "code",
   "execution_count": null,
   "metadata": {},
   "outputs": [],
   "source": [
    "def rand_by_mask(mask): return np.random.choice(np.where(mask)[0], 4, replace=False)\n",
    "def rand_by_correct(is_correct): return rand_by_mask((preds == data.val_y)==is_correct)"
   ]
  },
  {
   "cell_type": "code",
   "execution_count": null,
   "metadata": {},
   "outputs": [],
   "source": [
    "def plots(ims, channel, figsize=(12,6), rows=1, titles=None):\n",
    "    f = plt.figure(figsize=figsize)\n",
    "    for i in range(len(ims)):\n",
    "        sp = f.add_subplot(rows, len(ims)//rows, i+1)\n",
    "        sp.axis('Off')\n",
    "        if titles is not None: sp.set_title(titles[i], fontsize=11)\n",
    "        if channel is not None: plt.imshow(ims[i,channel,:,:]) \n",
    "        else: plt.imshow(np.sum(ims, axis=1)[i,:,:])"
   ]
  },
  {
   "cell_type": "code",
   "execution_count": null,
   "metadata": {},
   "outputs": [],
   "source": [
    "def plot_val_with_title_from_ds_no_denorm(idxs, title, channel=None):\n",
    "    \n",
    "    imgs = np.stack(data.val_ds[x][0] for x in idxs) # get images by idx\n",
    "    corr_lbl = np.stack(data.val_ds[x][1] for x in idxs) # get correct label from data.val_ds by idx\n",
    "    pred_lbl = np.stack(preds[x] for x in idxs) # get predicted label from preds by idx\n",
    "    p_max = [np.amax(probs[x,:]) for x in idxs] # get highes probability from probs by idx\n",
    "    \n",
    "    title_fin = [f\"true = {corr_lbl[x]}\\n predicted: {pred_lbl[x]}\\n  p = {p_max[x]}\" for x in corr_lbl]\n",
    "    print(title)\n",
    "    \n",
    "    return plots(imgs, channel, rows=1, titles=title_fin, figsize=(16,8))"
   ]
  },
  {
   "cell_type": "markdown",
   "metadata": {},
   "source": [
    "### Plot images according to predictions"
   ]
  },
  {
   "cell_type": "code",
   "execution_count": null,
   "metadata": {
    "scrolled": true
   },
   "outputs": [],
   "source": [
    "# load from ds - not denormalized! \n",
    "plot_val_with_title_from_ds_no_denorm(rand_by_correct(True), \"Correctly classified\")\n",
    "#optionally pass channel arg. to select single channel"
   ]
  },
  {
   "cell_type": "code",
   "execution_count": null,
   "metadata": {
    "scrolled": false
   },
   "outputs": [],
   "source": [
    "plot_val_with_title_from_ds_no_denorm(rand_by_correct(False), \"Incorrectly classified\")"
   ]
  },
  {
   "cell_type": "markdown",
   "metadata": {},
   "source": [
    "#### Show most correct/incorrectly classified images per class:"
   ]
  },
  {
   "cell_type": "code",
   "execution_count": null,
   "metadata": {},
   "outputs": [],
   "source": [
    "def most_by_mask(mask, y, mult):\n",
    "    idxs = np.where(mask)[0]\n",
    "    return idxs[np.argsort(mult * probs[:,y][idxs])[:4]]\n",
    "\n",
    "def most_by_correct(y, is_correct): \n",
    "    mult = -1 if is_correct else 1\n",
    "    return most_by_mask(((preds == data.val_y)==is_correct) & (data.val_y == y), y, mult)"
   ]
  },
  {
   "cell_type": "code",
   "execution_count": null,
   "metadata": {},
   "outputs": [],
   "source": [
    "plot_val_with_title_from_ds_no_denorm(most_by_correct(0, True), \"Most correctly classified WT\")"
   ]
  },
  {
   "cell_type": "code",
   "execution_count": null,
   "metadata": {
    "scrolled": false
   },
   "outputs": [],
   "source": [
    "plot_val_with_title_from_ds_no_denorm(most_by_correct(0, False), \"Most incorrectly classified WT\") # logic?"
   ]
  },
  {
   "cell_type": "code",
   "execution_count": null,
   "metadata": {},
   "outputs": [],
   "source": [
    "plot_val_with_title_from_ds_no_denorm(most_by_correct(1, True), \"Most correctly classified mfb1KO\") "
   ]
  },
  {
   "cell_type": "code",
   "execution_count": null,
   "metadata": {},
   "outputs": [],
   "source": [
    "plot_val_with_title_from_ds_no_denorm(most_by_correct(1, False), \"Most incorrectly classified mfb1KO\")"
   ]
  },
  {
   "cell_type": "code",
   "execution_count": null,
   "metadata": {
    "scrolled": true
   },
   "outputs": [],
   "source": [
    "plot_val_with_title_from_ds_no_denorm(most_by_correct(2, True), \"Most correctly classified mfb1KO-mmr1KO\")"
   ]
  },
  {
   "cell_type": "code",
   "execution_count": null,
   "metadata": {
    "scrolled": false
   },
   "outputs": [],
   "source": [
    "plot_val_with_title_from_ds_no_denorm(most_by_correct(3, True), \"Most correctly classified mmr1KO\")"
   ]
  },
  {
   "cell_type": "code",
   "execution_count": null,
   "metadata": {},
   "outputs": [],
   "source": [
    "# etc."
   ]
  },
  {
   "cell_type": "markdown",
   "metadata": {},
   "source": [
    "#### Show (most) uncertain images"
   ]
  },
  {
   "cell_type": "code",
   "execution_count": null,
   "metadata": {},
   "outputs": [],
   "source": [
    "most_uncertain = t = np.argsort(np.amax(probs, axis = 1))[:6] # get best \"guess\" per image and list the least confident ones\n",
    "plot_val_with_title_from_ds_no_denorm(most_uncertain, \"Most uncertain predictions\")"
   ]
  },
  {
   "cell_type": "code",
   "execution_count": null,
   "metadata": {},
   "outputs": [],
   "source": []
  }
 ],
 "metadata": {
  "kernelspec": {
   "display_name": "Python 3",
   "language": "python",
   "name": "python3"
  },
  "language_info": {
   "codemirror_mode": {
    "name": "ipython",
    "version": 3
   },
   "file_extension": ".py",
   "mimetype": "text/x-python",
   "name": "python",
   "nbconvert_exporter": "python",
   "pygments_lexer": "ipython3",
   "version": "3.6.5"
  }
 },
 "nbformat": 4,
 "nbformat_minor": 2
}
