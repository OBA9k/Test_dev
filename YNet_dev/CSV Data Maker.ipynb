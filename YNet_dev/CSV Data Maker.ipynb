{
 "cells": [
  {
   "cell_type": "code",
   "execution_count": 1,
   "metadata": {},
   "outputs": [],
   "source": [
    "import csv\n",
    "import random\n",
    "import os\n",
    "import glob\n",
    "\n",
    "import pandas as pd\n",
    "import numpy as np\n",
    "import math\n",
    "import cv2\n",
    "import skimage.external.tifffile as tiff"
   ]
  },
  {
   "cell_type": "markdown",
   "metadata": {},
   "source": [
    "# Dataset generation\n",
    "\n",
    "Below are two functions which: \n",
    "\n",
    "a) select from the original csv a certain percentage of images at random and save them in a second csv<br/>\n",
    "b) based on an input csv, select image files, compose stacks of images according to selected channels and save them in a separate folder as tiff files."
   ]
  },
  {
   "cell_type": "markdown",
   "metadata": {},
   "source": [
    "## Generate train subset"
   ]
  },
  {
   "cell_type": "code",
   "execution_count": 2,
   "metadata": {},
   "outputs": [],
   "source": [
    "path = \"datasets/Kaggle_HPA_2018/\"\n",
    "# path_up = \"G:/Downloads/Data\""
   ]
  },
  {
   "cell_type": "code",
   "execution_count": 3,
   "metadata": {},
   "outputs": [],
   "source": [
    "def generate_random_subset_csv(path, infile, outfile, percentage = 10, seed=None):\n",
    "\n",
    "    perc = math.ceil((int(100 / percentage)))\n",
    "    if seed: random.seed = seed # sharing outfiles directly might be easier\n",
    "    rand_subset = []\n",
    "    print(f\"Generating random {perc}% subset of {infile}...\")\n",
    "    \n",
    "    with open(path + infile, 'r') as d:\n",
    "        reader = csv.reader(d)\n",
    "        train_data = np.vstack(list(reader))\n",
    "\n",
    "    for idx, file in enumerate(train_data[:,0]):\n",
    "        number = random.randint(1,perc)\n",
    "        if number == 1:\n",
    "            rand_subset.append(train_data[idx])\n",
    "    \n",
    "    random_subset = np.vstack(rand_subset)\n",
    "    \n",
    "    # write to csv in the same directory:\n",
    "    # some error-catching might be nice if outfile already exists\n",
    "    df = pd.DataFrame(random_subset)    \n",
    "    df.to_csv(path + outfile, header = False, index = False)\n",
    "    print(f\"Success: saved random {perc}% subset to {outfile}\")\n",
    "    \n",
    "    return random_subset"
   ]
  },
  {
   "cell_type": "code",
   "execution_count": null,
   "metadata": {},
   "outputs": [],
   "source": [
    "# generate random subset csv file:\n",
    "\n",
    "random_ten_percent = generate_random_subset_csv(path, 'train_all.csv', 'test.csv', seed = 1)\n",
    "# print(random_ten_percent[:10])"
   ]
  },
  {
   "cell_type": "code",
   "execution_count": null,
   "metadata": {},
   "outputs": [],
   "source": [
    "# Check for consistency between subset and source\n",
    "\n",
    "a = list(train_data[:,0])\n",
    "b = list(random_ten_percent[:,0])\n",
    "\n",
    "c = set(a) & set(b)\n",
    "assert len(b) == len(c), \"Selected images not subset of original data\"\n",
    "print('Check successful')"
   ]
  },
  {
   "cell_type": "markdown",
   "metadata": {},
   "source": [
    "## Generate dataset "
   ]
  },
  {
   "cell_type": "code",
   "execution_count": 11,
   "metadata": {},
   "outputs": [],
   "source": [
    "from tqdm import tqdm_notebook as tqdm"
   ]
  },
  {
   "cell_type": "code",
   "execution_count": 15,
   "metadata": {},
   "outputs": [],
   "source": [
    "def dataset_gen(csv_path, source_path, output_path, channels = ['green']):\n",
    "    \n",
    "    with open(csv_path, 'r') as d:\n",
    "        reader = csv.reader(d)\n",
    "        fnames = np.vstack(list(reader))[:,0]\n",
    "    \n",
    "    assert not os.path.isdir(output_path), 'Chosen output directory already exists!'\n",
    "    print(f\"creating output directory: {os.path.basename(output_path)}\")\n",
    "    os.mkdir(output_path)\n",
    "    \n",
    "    for f in tqdm(fnames, total = len(fnames), unit=\"files\"):\n",
    "        im_ = [cv2.imread(str(source_path + f + '_' + c + '.png'), cv2.IMREAD_GRAYSCALE) for c in channels]\n",
    "        im = np.stack(im_)\n",
    "        im = np.rollaxis(im,0,3)\n",
    "\n",
    "        assert im.dtype == 'uint8' # making sure files are expected dtype; may change for different datasets...\n",
    "        tiff.imsave(output_path + f + '.tiff', im)    "
   ]
  },
  {
   "cell_type": "code",
   "execution_count": 16,
   "metadata": {},
   "outputs": [
    {
     "name": "stdout",
     "output_type": "stream",
     "text": [
      "creating output directory: \n"
     ]
    },
    {
     "data": {
      "application/vnd.jupyter.widget-view+json": {
       "model_id": "35dfbf797eaf4d50bda3d0f624e58ec9",
       "version_major": 2,
       "version_minor": 0
      },
      "text/plain": [
       "HBox(children=(IntProgress(value=0, max=3042), HTML(value='')))"
      ]
     },
     "metadata": {},
     "output_type": "display_data"
    },
    {
     "name": "stdout",
     "output_type": "stream",
     "text": [
      "\n"
     ]
    }
   ],
   "source": [
    "### - use generated subset csv to generate folder with tiff files composed of select channels\n",
    "\n",
    "csv_path = path + 'train_10perc_v1.csv'\n",
    "source_path = path + 'train_original/'\n",
    "output_path = path + 'train_10perc_v1_green/'\n",
    "channels = ['green'] # can also leave this out since default is 'green'\n",
    "\n",
    "# run\n",
    "dataset_gen(csv_path, source_path, output_path, channels = channels)"
   ]
  },
  {
   "cell_type": "markdown",
   "metadata": {},
   "source": [
    "# Original code:"
   ]
  },
  {
   "cell_type": "code",
   "execution_count": 2,
   "metadata": {},
   "outputs": [],
   "source": [
    "path = \"datasets/Kaggle_HPA_2018/\"\n",
    "# path_up = \"G:/Downloads/Data\""
   ]
  },
  {
   "cell_type": "code",
   "execution_count": null,
   "metadata": {},
   "outputs": [],
   "source": [
    "chans = ['blue']\n",
    "\n",
    "im_ =  [cv2.imread(str(path +'testing/' + 'fffdf7e0-bbc4-11e8-b2bc-ac1f6b6435d0'+ '_' + c + '.png'), cv2.IMREAD_GRAYSCALE) for c in (chans)]\n",
    "\n",
    "im = np.stack(im_)\n",
    "print(im.shape)\n",
    "im_r = np.rollaxis(im,0,3)\n",
    "print(im_r.shape)\n",
    "print(im_r.dtype)\n",
    "assert im_r.dtype == 'uint8'\n",
    "\n",
    "tiff.imsave(path +'testing/' + 'fffdf7e0-bbc4-11e8-b2bc-ac1f6b6435d0' + '.tiff', im_r)\n",
    "\n",
    "\n",
    "im_tf = tiff.imread(path +'testing/' + 'fffdf7e0-bbc4-11e8-b2bc-ac1f6b6435d0' + '.tiff')\n",
    "print(im_tf.shape)\n"
   ]
  },
  {
   "cell_type": "code",
   "execution_count": null,
   "metadata": {},
   "outputs": [],
   "source": [
    "np.stack(im_).shape"
   ]
  },
  {
   "cell_type": "code",
   "execution_count": null,
   "metadata": {},
   "outputs": [],
   "source": [
    "x = os.listdir(path)\n",
    "\n",
    "y = []\n",
    "random_ten_percent = []\n",
    "\n",
    "i=0\n",
    "\n",
    "for file in x:\n",
    "    if \"green\" in file:\n",
    "        y.append(file)\n",
    "\n",
    "\n",
    "seed = 1\n",
    "random.seed=seed\n",
    "\n",
    "for file in y:\n",
    "    number = random.randint(1,10)\n",
    "    if number == 1:\n",
    "        random_ten_percent.append(file)\n",
    "        \n",
    "# print(os.getcwd())\n",
    "\n",
    "os.chdir(path_up)\n",
    "\n",
    "with open('train.csv', 'r') as d:\n",
    "    reader = csv.reader(d)\n",
    "    train_data = list(reader)\n",
    "     \n",
    "\n"
   ]
  },
  {
   "cell_type": "code",
   "execution_count": null,
   "metadata": {},
   "outputs": [],
   "source": [
    "print(train_data[1][0])\n",
    "\n",
    "test = train_data[1][0]\n",
    "\n",
    "output = []\n",
    "\n",
    "j = 0\n",
    "for file in y:\n",
    "    for point in train_data:\n",
    "        if point[0] in file:\n",
    "            output.append([file, point[1]])\n",
    "            \n"
   ]
  },
  {
   "cell_type": "code",
   "execution_count": null,
   "metadata": {},
   "outputs": [],
   "source": [
    "with open('dataset.csv', 'w') as f:\n",
    "    for line in output:\n",
    "        f.write(line[0])\n",
    "        f.write(\",\")\n",
    "        f.write(line[1])\n",
    "        f.write('\\n')"
   ]
  },
  {
   "cell_type": "code",
   "execution_count": null,
   "metadata": {},
   "outputs": [],
   "source": []
  }
 ],
 "metadata": {
  "kernelspec": {
   "display_name": "Python 3",
   "language": "python",
   "name": "python3"
  },
  "language_info": {
   "codemirror_mode": {
    "name": "ipython",
    "version": 3
   },
   "file_extension": ".py",
   "mimetype": "text/x-python",
   "name": "python",
   "nbconvert_exporter": "python",
   "pygments_lexer": "ipython3",
   "version": "3.6.5"
  }
 },
 "nbformat": 4,
 "nbformat_minor": 2
}
