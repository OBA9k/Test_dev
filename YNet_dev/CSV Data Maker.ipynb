{
 "cells": [
  {
   "cell_type": "code",
   "execution_count": 1,
   "metadata": {},
   "outputs": [],
   "source": [
    "import csv\n",
    "import random\n",
    "import os\n",
    "import glob"
   ]
  },
  {
   "cell_type": "code",
   "execution_count": 13,
   "metadata": {},
   "outputs": [],
   "source": [
    "path = \"G:/Downloads/Data/train\"\n",
    "path_up = \"G:/Downloads/Data\""
   ]
  },
  {
   "cell_type": "code",
   "execution_count": 21,
   "metadata": {},
   "outputs": [],
   "source": [
    "x = os.listdir(path)\n",
    "\n",
    "y = []\n",
    "random_ten_percent = []\n",
    "\n",
    "i=0\n",
    "\n",
    "for file in x:\n",
    "    if \"green\" in file:\n",
    "        y.append(file)\n",
    "\n",
    "\n",
    "seed = 1\n",
    "random.seed=seed\n",
    "\n",
    "for file in y:\n",
    "    number = random.randint(1,10)\n",
    "    if number == 1:\n",
    "        random_ten_percent.append(file)\n",
    "        \n",
    "# print(os.getcwd())\n",
    "\n",
    "os.chdir(path_up)\n",
    "\n",
    "with open('train.csv', 'r') as d:\n",
    "    reader = csv.reader(d)\n",
    "    train_data = list(reader)\n",
    "     \n",
    "\n"
   ]
  },
  {
   "cell_type": "code",
   "execution_count": 29,
   "metadata": {},
   "outputs": [
    {
     "name": "stdout",
     "output_type": "stream",
     "text": [
      "00070df0-bbc3-11e8-b2bc-ac1f6b6435d0\n"
     ]
    }
   ],
   "source": [
    "print(train_data[1][0])\n",
    "\n",
    "test = train_data[1][0]\n",
    "\n",
    "output = []\n",
    "\n",
    "j = 0\n",
    "for file in y:\n",
    "    for point in train_data:\n",
    "        if point[0] in file:\n",
    "            output.append([file, point[1]])\n",
    "            \n"
   ]
  },
  {
   "cell_type": "code",
   "execution_count": 32,
   "metadata": {},
   "outputs": [],
   "source": [
    "with open('dataset.csv', 'w') as f:\n",
    "    for line in output:\n",
    "        f.write(line[0])\n",
    "        f.write(\",\")\n",
    "        f.write(line[1])\n",
    "        f.write('\\n')"
   ]
  },
  {
   "cell_type": "code",
   "execution_count": null,
   "metadata": {},
   "outputs": [],
   "source": []
  }
 ],
 "metadata": {
  "kernelspec": {
   "display_name": "Python 3",
   "language": "python",
   "name": "python3"
  },
  "language_info": {
   "codemirror_mode": {
    "name": "ipython",
    "version": 3
   },
   "file_extension": ".py",
   "mimetype": "text/x-python",
   "name": "python",
   "nbconvert_exporter": "python",
   "pygments_lexer": "ipython3",
   "version": "3.6.6"
  }
 },
 "nbformat": 4,
 "nbformat_minor": 2
}
