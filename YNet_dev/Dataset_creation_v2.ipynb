{
 "cells": [
  {
   "cell_type": "markdown",
   "metadata": {},
   "source": [
    "# Create Dataset from .zip files and calc normalization statistics\n",
    "\n",
    "Step_1: create standard dataset to be re-used, either by creating folders or as hdf5 object. \n",
    "\n",
    "Step_2: calculate mean + std for train and test images"
   ]
  },
  {
   "cell_type": "code",
   "execution_count": 1,
   "metadata": {},
   "outputs": [],
   "source": [
    "%matplotlib inline\n",
    "%reload_ext autoreload\n",
    "%autoreload 2"
   ]
  },
  {
   "cell_type": "code",
   "execution_count": 3,
   "metadata": {},
   "outputs": [],
   "source": [
    "from common import shuffle_zip\n",
    "BASE = \"datasets/yeast_Actin_v1/\""
   ]
  },
  {
   "cell_type": "markdown",
   "metadata": {},
   "source": [
    "## Run scripts to generate ready_data"
   ]
  },
  {
   "cell_type": "code",
   "execution_count": 4,
   "metadata": {},
   "outputs": [
    {
     "name": "stdout",
     "output_type": "stream",
     "text": [
      "working on [01_mfb1KO] class\n",
      "deleted 49 non square images.\n",
      "{True}\n",
      "296 0\n",
      "length of train: [226]; length of test: [70]\n",
      "Files moved to:datasets/yeast_Actin_v1//shuffled_zips/\n",
      "train created\n",
      "train/01_mfb1KO created\n",
      "test created\n",
      "test/01_mfb1KO created\n",
      "working on [01_mmm1KO] class\n",
      "deleted 37 non square images.\n",
      "{True}\n",
      "237 0\n",
      "length of train: [167]; length of test: [70]\n",
      "Files moved to:datasets/yeast_Actin_v1//shuffled_zips/\n",
      "working on [01_mmr1KO] class\n",
      "deleted 12 non square images.\n",
      "{True}\n",
      "249 0\n",
      "length of train: [179]; length of test: [70]\n",
      "Files moved to:datasets/yeast_Actin_v1//shuffled_zips/\n",
      "working on [01_num1KO] class\n",
      "deleted 7 non square images.\n",
      "{True}\n",
      "114 0\n",
      "length of train: [44]; length of test: [70]\n",
      "Files moved to:datasets/yeast_Actin_v1//shuffled_zips/\n",
      "working on [01_WT] class\n",
      "deleted 22 non square images.\n",
      "{True}\n",
      "188 0\n",
      "length of train: [118]; length of test: [70]\n",
      "Files moved to:datasets/yeast_Actin_v1//shuffled_zips/\n",
      "working on [02_mfb1KO] class\n",
      "deleted 39 non square images.\n",
      "{False}\n",
      "0 251\n",
      "length of train: [181]; length of test: [70]\n",
      "Files moved to:datasets/yeast_Actin_v1//shuffled_zips/\n",
      "working on [02_mmr1KO-mfb1KO] class\n",
      "deleted 57 non square images.\n",
      "{False}\n",
      "0 319\n",
      "length of train: [249]; length of test: [70]\n",
      "Files moved to:datasets/yeast_Actin_v1//shuffled_zips/\n",
      "working on [02_mmr1KO] class\n",
      "deleted 61 non square images.\n",
      "{False}\n",
      "0 347\n",
      "length of train: [277]; length of test: [70]\n",
      "Files moved to:datasets/yeast_Actin_v1//shuffled_zips/\n",
      "working on [02_WT] class\n",
      "deleted 37 non square images.\n",
      "{False}\n",
      "0 223\n",
      "length of train: [153]; length of test: [70]\n",
      "Files moved to:datasets/yeast_Actin_v1//shuffled_zips/\n",
      "working on [03_axl1KO] class\n",
      "deleted 51 non square images.\n",
      "{False}\n",
      "0 361\n",
      "length of train: [291]; length of test: [70]\n",
      "Files moved to:datasets/yeast_Actin_v1//shuffled_zips/\n",
      "working on [03_bud1KO] class\n",
      "deleted 53 non square images.\n",
      "{False}\n",
      "0 326\n",
      "length of train: [256]; length of test: [70]\n",
      "Files moved to:datasets/yeast_Actin_v1//shuffled_zips/\n",
      "working on [03_CK666] class\n",
      "deleted 102 non square images.\n",
      "{False}\n",
      "0 485\n",
      "length of train: [415]; length of test: [70]\n",
      "Files moved to:datasets/yeast_Actin_v1//shuffled_zips/\n",
      "working on [03_DMSO] class\n",
      "deleted 95 non square images.\n",
      "{False}\n",
      "0 454\n",
      "length of train: [384]; length of test: [70]\n",
      "Files moved to:datasets/yeast_Actin_v1//shuffled_zips/\n",
      "working on [03_dnm1KO] class\n",
      "deleted 99 non square images.\n",
      "{False}\n",
      "0 444\n",
      "length of train: [374]; length of test: [70]\n",
      "Files moved to:datasets/yeast_Actin_v1//shuffled_zips/\n",
      "working on [03_Eth] class\n",
      "deleted 53 non square images.\n",
      "{False}\n",
      "0 331\n",
      "length of train: [261]; length of test: [70]\n",
      "Files moved to:datasets/yeast_Actin_v1//shuffled_zips/\n",
      "working on [03_fzo1KO] class\n",
      "deleted 40 non square images.\n",
      "{False}\n",
      "0 338\n",
      "length of train: [268]; length of test: [70]\n",
      "Files moved to:datasets/yeast_Actin_v1//shuffled_zips/\n",
      "working on [03_LatA-05uM] class\n",
      "deleted 76 non square images.\n",
      "{False}\n",
      "0 380\n",
      "length of train: [310]; length of test: [70]\n",
      "Files moved to:datasets/yeast_Actin_v1//shuffled_zips/\n",
      "working on [03_LatA-5uM] class\n",
      "deleted 47 non square images.\n",
      "{False}\n",
      "0 272\n",
      "length of train: [202]; length of test: [70]\n",
      "Files moved to:datasets/yeast_Actin_v1//shuffled_zips/\n",
      "working on [03_WT] class\n",
      "deleted 51 non square images.\n",
      "{False}\n",
      "0 266\n",
      "length of train: [196]; length of test: [70]\n",
      "Files moved to:datasets/yeast_Actin_v1//shuffled_zips/\n"
     ]
    }
   ],
   "source": [
    "ds_name = BASE\n",
    "shuffle_zip(ds_name+\"/original_zips\",ds_name+'/shuffled_zips/',ds_name)"
   ]
  },
  {
   "cell_type": "code",
   "execution_count": null,
   "metadata": {},
   "outputs": [],
   "source": []
  }
 ],
 "metadata": {
  "kernelspec": {
   "display_name": "Python 3",
   "language": "python",
   "name": "python3"
  },
  "language_info": {
   "codemirror_mode": {
    "name": "ipython",
    "version": 3
   },
   "file_extension": ".py",
   "mimetype": "text/x-python",
   "name": "python",
   "nbconvert_exporter": "python",
   "pygments_lexer": "ipython3",
   "version": "3.6.5"
  }
 },
 "nbformat": 4,
 "nbformat_minor": 2
}
