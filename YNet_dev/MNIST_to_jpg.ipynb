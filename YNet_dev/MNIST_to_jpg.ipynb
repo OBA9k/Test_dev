{
 "cells": [
  {
   "cell_type": "code",
   "execution_count": 1,
   "metadata": {},
   "outputs": [],
   "source": [
    "%matplotlib inline\n",
    "%reload_ext autoreload\n",
    "%autoreload 2"
   ]
  },
  {
   "cell_type": "code",
   "execution_count": 256,
   "metadata": {},
   "outputs": [],
   "source": [
    "import os\n",
    "import csv\n",
    "import gzip\n",
    "import numpy as np\n",
    "import urllib.request\n",
    "from scipy.misc import imsave"
   ]
  },
  {
   "cell_type": "code",
   "execution_count": 267,
   "metadata": {},
   "outputs": [],
   "source": [
    "path = 'datasets/MNIST/'"
   ]
  },
  {
   "cell_type": "code",
   "execution_count": 264,
   "metadata": {},
   "outputs": [],
   "source": [
    "# loading MNIST data"
   ]
  },
  {
   "cell_type": "code",
   "execution_count": 269,
   "metadata": {},
   "outputs": [],
   "source": [
    "def get_data_dict(output_path):\n",
    "    \n",
    "    \"\"\"\n",
    "    Downloading and reading MNIST dataset\n",
    "    Returns dict of train and val images (here called t10k)\n",
    "    \n",
    "    :param ouput_path: target directory\n",
    "    \n",
    "    \"\"\"\n",
    "    \n",
    "    # If not already there, downloading MNIST data:\n",
    "    \n",
    "    files = ['train-images-idx3-ubyte.gz',\n",
    "                'train-labels-idx1-ubyte.gz',\n",
    "                't10k-images-idx3-ubyte.gz',\n",
    "                't10k-labels-idx1-ubyte.gz']\n",
    "\n",
    "    if not os.path.isdir(output_path):\n",
    "        print('creating MNIST directory')\n",
    "        os.mkdir(output_path)\n",
    "    \n",
    "    if not len(os.listdir(output_path)) != 0:\n",
    "        for f in files: \n",
    "            URL = 'http://yann.lecun.com/exdb/mnist/'\n",
    "            if not os.path.isfile(output_path + f):\n",
    "                print(f)\n",
    "                print(f\"Downloading MNIST {f} dataset\")\n",
    "                fname, _ = urllib.request.urlretrieve(URL + f, output_path + f)\n",
    "                fnames.append(fname)\n",
    "                print('Done')\n",
    "            \n",
    "\n",
    "        \n",
    "    \n",
    "    # Reading and loading data from directory\n",
    "    \n",
    "    data = {'train': [[],[]], 't10k': [[],[]]}\n",
    "                  \n",
    "    for d in os.listdir(output_path):\n",
    "        with gzip.open(output_path + d, 'rb') as f:\n",
    "            ds = d.split('-')[0]\n",
    "            if 'labels' in d:\n",
    "                data[ds][1] = np.frombuffer(f.read(), np.uint8, offset = 8)\n",
    "            else:\n",
    "                data[ds][0] = np.frombuffer(f.read(), np.uint8, offset = 16).reshape(-1, 28, 28)\n",
    "                \n",
    "    print('data loaded')\n",
    "    return data"
   ]
  },
  {
   "cell_type": "code",
   "execution_count": 270,
   "metadata": {
    "scrolled": false
   },
   "outputs": [
    {
     "name": "stdout",
     "output_type": "stream",
     "text": [
      "train-images-idx3-ubyte.gz\n",
      "Downloading MNIST train-images-idx3-ubyte.gz dataset\n",
      "Done\n",
      "train-labels-idx1-ubyte.gz\n",
      "Downloading MNIST train-labels-idx1-ubyte.gz dataset\n",
      "Done\n",
      "t10k-images-idx3-ubyte.gz\n",
      "Downloading MNIST t10k-images-idx3-ubyte.gz dataset\n",
      "Done\n",
      "t10k-labels-idx1-ubyte.gz\n",
      "Downloading MNIST t10k-labels-idx1-ubyte.gz dataset\n",
      "Done\n",
      "data loaded\n",
      "(60000, 28, 28)\n",
      "0.1306604762738429 0.3081078038564622\n"
     ]
    }
   ],
   "source": [
    "data_dict = get_data_dict(path)\n",
    "\n",
    "\n",
    "train_mean = ((data_dict['train'][0]) / 255).mean()\n",
    "train_stdv = ((data_dict['train'][0]) / 255).std()\n",
    "print(data_dict['train'][0].shape)\n",
    "print(train_mean, train_stdv)"
   ]
  },
  {
   "cell_type": "code",
   "execution_count": null,
   "metadata": {},
   "outputs": [],
   "source": [
    "# Saving MNIST dataset as images and csv's"
   ]
  },
  {
   "cell_type": "code",
   "execution_count": 278,
   "metadata": {},
   "outputs": [],
   "source": [
    "def save_as_csv_and_jpgs(data_dict, out_path):\n",
    "    \n",
    "    \n",
    "    \"\"\"\n",
    "    Saving images as .jpg and labels in .csv file \n",
    "    TODO: add tqdm to track progress\n",
    "    :param path: target directory\n",
    "    \n",
    "    \"\"\"\n",
    "    for key in data_dict.keys():\n",
    "        full_path = out_path + key\n",
    "        \n",
    "        if not os.path.isdir(full_path):\n",
    "            os.mkdir(full_path)\n",
    "            \n",
    "        with open(full_path + \"/labels.csv\", 'w', newline='') as csvFile:\n",
    "            writer = csv.writer(csvFile, delimiter=',', quotechar='\"')\n",
    "            for i in range(len(data_dict[key][0])):\n",
    "                imsave(full_path + '/' + str(i) + \".jpg\", data_dict[key][0][i])\n",
    "                writer.writerow([str(i) + \".jpg\", data_dict[key][1][i]])\n"
   ]
  },
  {
   "cell_type": "code",
   "execution_count": 279,
   "metadata": {
    "scrolled": true
   },
   "outputs": [
    {
     "name": "stderr",
     "output_type": "stream",
     "text": [
      "C:\\Anaconda3\\envs\\fastai\\lib\\site-packages\\ipykernel_launcher.py:19: DeprecationWarning: `imsave` is deprecated!\n",
      "`imsave` is deprecated in SciPy 1.0.0, and will be removed in 1.2.0.\n",
      "Use ``imageio.imwrite`` instead.\n"
     ]
    }
   ],
   "source": [
    "save_as_csv_and_jpgs(data_dict, path)"
   ]
  },
  {
   "cell_type": "code",
   "execution_count": 254,
   "metadata": {},
   "outputs": [
    {
     "name": "stdout",
     "output_type": "stream",
     "text": [
      "0.1306604762738429 0.3081078038564622\n"
     ]
    }
   ],
   "source": []
  },
  {
   "cell_type": "code",
   "execution_count": null,
   "metadata": {},
   "outputs": [],
   "source": []
  }
 ],
 "metadata": {
  "kernelspec": {
   "display_name": "Python 3",
   "language": "python",
   "name": "python3"
  },
  "language_info": {
   "codemirror_mode": {
    "name": "ipython",
    "version": 3
   },
   "file_extension": ".py",
   "mimetype": "text/x-python",
   "name": "python",
   "nbconvert_exporter": "python",
   "pygments_lexer": "ipython3",
   "version": "3.6.5"
  }
 },
 "nbformat": 4,
 "nbformat_minor": 2
}
