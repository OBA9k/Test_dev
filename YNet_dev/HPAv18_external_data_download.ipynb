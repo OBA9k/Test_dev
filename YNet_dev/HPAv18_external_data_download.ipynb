{
 "cells": [
  {
   "cell_type": "markdown",
   "metadata": {},
   "source": [
    "## External data download \n",
    "\n",
    "https://www.kaggle.com/c/human-protein-atlas-image-classification/discussion/69984"
   ]
  },
  {
   "cell_type": "markdown",
   "metadata": {},
   "source": [
    "#### downloading is possible in two ways:\n",
    "\n",
    "1) with the jupyter-notebook interactive script defined below <br/>\n",
    "2) with HPAv18_multiproc_download.py in YNet_dev/ which must be run outside of JN (non-interactive mode)"
   ]
  },
  {
   "cell_type": "code",
   "execution_count": null,
   "metadata": {},
   "outputs": [],
   "source": [
    "import pandas as pd\n",
    "import os\n",
    "import requests\n",
    "from multiprocessing import Pool\n",
    "from pathlib import Path\n",
    "from PIL import Image\n",
    "from io import BytesIO\n",
    "from tqdm import tqdm_notebook as tqdm\n",
    "import matplotlib.pyplot as plt"
   ]
  },
  {
   "cell_type": "code",
   "execution_count": null,
   "metadata": {},
   "outputs": [],
   "source": [
    "def download(ids, save_dir = 'datasets/Kaggle_HPA_2018/HPAv18_test', colors = ['blue', 'green', 'red']):\n",
    "    \n",
    "    \n",
    "    base_url = 'http://v18.proteinatlas.org/images/'\n",
    "\n",
    "    for id_ in tqdm(ids, total = len(ids), unit=\"files\"):     \n",
    "        Path(save_dir).mkdir(parents=True, exist_ok=True)\n",
    "        img_id = id_.split('_', 1)    \n",
    "        \n",
    "        for color in colors:\n",
    "            try:\n",
    "                img_path = img_id[0] + '/' + img_id[1] + '_' + color + '.jpg'\n",
    "                img_url = base_url + img_path\n",
    "                img_name = id_ + '_' + color + '.png'\n",
    "                \n",
    "                # URL request for individual color-channel per image\n",
    "                r = requests.get(img_url)            \n",
    "                \n",
    "                # Use PIL to resize the image and to convert it to L\n",
    "                # (8-bit pixels, black and white)\n",
    "                im = Image.open(BytesIO(r.content)).resize((512, 512), Image.LANCZOS).convert('L')\n",
    "                im.save(os.path.join(save_dir, img_name), 'PNG')\n",
    "\n",
    "            except:\n",
    "                print(f'{id_} broke...')"
   ]
  },
  {
   "cell_type": "code",
   "execution_count": null,
   "metadata": {},
   "outputs": [],
   "source": [
    "df = pd.read_csv('datasets/Kaggle_HPA_2018/HPAv18RBGY_wodpl.csv')\n",
    "df_ids = df.Id\n",
    "download(df_ids[:2])"
   ]
  }
 ],
 "metadata": {
  "kernelspec": {
   "display_name": "Python 3",
   "language": "python",
   "name": "python3"
  },
  "language_info": {
   "codemirror_mode": {
    "name": "ipython",
    "version": 3
   },
   "file_extension": ".py",
   "mimetype": "text/x-python",
   "name": "python",
   "nbconvert_exporter": "python",
   "pygments_lexer": "ipython3",
   "version": "3.6.5"
  }
 },
 "nbformat": 4,
 "nbformat_minor": 2
}
