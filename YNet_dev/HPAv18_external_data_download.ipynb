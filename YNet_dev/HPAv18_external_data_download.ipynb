{
 "cells": [
  {
   "cell_type": "markdown",
   "metadata": {},
   "source": [
    "## External data download \n",
    "\n",
    "https://www.kaggle.com/c/human-protein-atlas-image-classification/discussion/69984"
   ]
  },
  {
   "cell_type": "code",
   "execution_count": null,
   "metadata": {},
   "outputs": [],
   "source": [
    "import pandas as pd\n",
    "import requests\n",
    "from multiprocessing import Pool\n",
    "from pathlib import Path\n",
    "from PIL import Image\n",
    "from io import BytesIO\n",
    "from tqdm import tqdm_notebook as tqdm\n",
    "\n",
    "import matplotlib.pyplot as plt\n"
   ]
  },
  {
   "cell_type": "code",
   "execution_count": null,
   "metadata": {},
   "outputs": [],
   "source": [
    "def download(ids):\n",
    "    \n",
    "    for id_ in tqdm(ids, total = len(ids), unit=\"files\"):\n",
    "        \n",
    "        try:\n",
    "            hpa_dir = Path('datasets/Kaggle_HPA_2018/HPAv18')\n",
    "            hpa_dir.mkdir(parents=True, exist_ok=True)\n",
    "            image_dir, _, image_id = id_.partition('_')\n",
    "            url = f'http://v18.proteinatlas.org/images/{image_dir}/{image_id}_blue_red_green_yellow.jpg'\n",
    "            r = requests.get(url)\n",
    "            image = Image.open(BytesIO(r.content)).resize((512, 512), Image.LANCZOS)\n",
    "            image.save(hpa_dir / f'{id_}.png', format='png')\n",
    "        except:\n",
    "            print(f'{id_} broke...')"
   ]
  },
  {
   "cell_type": "code",
   "execution_count": null,
   "metadata": {},
   "outputs": [],
   "source": [
    "p = Pool()"
   ]
  },
  {
   "cell_type": "code",
   "execution_count": null,
   "metadata": {},
   "outputs": [],
   "source": [
    "p.map(download, df.Id[:200])"
   ]
  },
  {
   "cell_type": "code",
   "execution_count": null,
   "metadata": {},
   "outputs": [],
   "source": [
    "df = pd.read_csv('datasets/Kaggle_HPA_2018/HPAv18RBGY_wodpl.csv')\n",
    "df_ids = df.Id"
   ]
  },
  {
   "cell_type": "code",
   "execution_count": null,
   "metadata": {
    "scrolled": true
   },
   "outputs": [],
   "source": [
    "download(df_ids[:200])"
   ]
  },
  {
   "cell_type": "code",
   "execution_count": null,
   "metadata": {},
   "outputs": [],
   "source": []
  }
 ],
 "metadata": {
  "kernelspec": {
   "display_name": "Python 3",
   "language": "python",
   "name": "python3"
  },
  "language_info": {
   "codemirror_mode": {
    "name": "ipython",
    "version": 3
   },
   "file_extension": ".py",
   "mimetype": "text/x-python",
   "name": "python",
   "nbconvert_exporter": "python",
   "pygments_lexer": "ipython3",
   "version": "3.6.5"
  }
 },
 "nbformat": 4,
 "nbformat_minor": 2
}
